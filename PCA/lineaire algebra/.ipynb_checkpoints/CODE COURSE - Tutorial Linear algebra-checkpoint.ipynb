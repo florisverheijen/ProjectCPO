{
 "cells": [
  {
   "cell_type": "markdown",
   "metadata": {},
   "source": [
    "# CODE COURSE - Tutorial Linear algebra."
   ]
  },
  {
   "cell_type": "markdown",
   "metadata": {},
   "source": [
    "#### This tutorial will explain in a interactive way the tools you need to be able to start with PCA and clustering. this tutorial is specified on the tools you need of linear algebra. "
   ]
  },
  {
   "cell_type": "markdown",
   "metadata": {},
   "source": [
    "### The following subject will be explained:\n",
    "* Vector and matrix operations\n",
    "* Transformation \n",
    "* Eigenvecotoren & eigenvalues\n",
    "* innerproduct, length and orthogonality \n",
    "* covariance matrix \n"
   ]
  },
  {
   "cell_type": "markdown",
   "metadata": {},
   "source": [
    "### Vector and matrix operations"
   ]
  },
  {
   "cell_type": "markdown",
   "metadata": {
    "collapsed": true
   },
   "source": [
    "#### Vector addition\n"
   ]
  },
  {
   "cell_type": "code",
   "execution_count": 2,
   "metadata": {
    "collapsed": true
   },
   "outputs": [],
   "source": [
    "from IPython.display import display, Math, Latex"
   ]
  },
  {
   "cell_type": "markdown",
   "metadata": {
    "collapsed": true
   },
   "source": [
    "$e^{i\\pi} + 1 = 0$"
   ]
  },
  {
   "cell_type": "markdown",
   "metadata": {
    "collapsed": true
   },
   "source": [
    "Covariance matrix (nog niet af)\n",
    "\n",
    "Covariantie = een parameter die bij 2 toevalsvariabelen aageeft in welke mate de beide toevalsvariabelen (lineair) met elkaar samenhangen. De covariantie geeft aan of, en indirect in welke mate, de waarden van de ene variabelen af of toe neemt bij toenemende waarde van de andere. Covariantie is iets anders dan de correlatiecoëfficiënt. De correlatiecoëfficiënt geeft aan in hoeverre sprake is van lineaire samenhang en geeft direct de sterkste van de samenhang aan. Deze coëfficiënt is niet afhankelijk van de schaal. \n"
   ]
  }
 ],
 "metadata": {
  "kernelspec": {
   "display_name": "Python 3",
   "language": "python",
   "name": "python3"
  },
  "language_info": {
   "codemirror_mode": {
    "name": "ipython",
    "version": 3
   },
   "file_extension": ".py",
   "mimetype": "text/x-python",
   "name": "python",
   "nbconvert_exporter": "python",
   "pygments_lexer": "ipython3",
   "version": "3.6.3"
  }
 },
 "nbformat": 4,
 "nbformat_minor": 2
}

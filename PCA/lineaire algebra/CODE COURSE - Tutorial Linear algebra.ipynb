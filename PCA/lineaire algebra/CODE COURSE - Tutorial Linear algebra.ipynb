{
 "cells": [
  {
   "cell_type": "markdown",
   "metadata": {},
   "source": [
    "# CODE COURSE - Tutorial Linear algebra.\n",
    "---"
   ]
  },
  {
   "cell_type": "markdown",
   "metadata": {},
   "source": [
    " This tutorial will explain in a interactive way the tools you need to be able to start with PCA and clustering. This tutorial is specified on the tools you need of linear algebra. "
   ]
  },
  {
   "cell_type": "markdown",
   "metadata": {},
   "source": [
    "## Contents of the tutorial\n",
    "1. Vector and matrix operations\n",
    "    * Basics\n",
    "    * Vector addition \n",
    "    * Vector scalar multiplication\n",
    "    * Matrix summation\n",
    "    * Matrix multiplication\n",
    "    * Transpose matrix \n",
    "    * Query matrix index\n",
    "    * Exercises\n",
    "2. Eigenvecotoren & eigenvalues\n",
    "    * Definitions \n",
    "    * The calculation of eigenvalues and eigenvectoren in python\n",
    "    * Exercises\n",
    "3. Transformation  \n",
    "4. Innerproduct, length and orthogonality \n",
    "5. Covariance matrix \n"
   ]
  },
  {
   "cell_type": "markdown",
   "metadata": {},
   "source": [
    "\n",
    "<div class=\"alert alert-info\" role=\"alert\" style=\"height:10px;padding:0px;margin-bottom:-20px\"></div>\n",
    "\n",
    "### 1. Vector and matrix operations\n",
    "\n",
    "<div class=\"alert alert-info\" role=\"alert\" style=\"height:10px;padding:0px;margin-top:5px;\"></div>\n",
    "\n",
    "#### 1.2 Basics"
   ]
  },
  {
   "cell_type": "markdown",
   "metadata": {},
   "source": [
    "Vector and matric operations are important due to you need them by the calculations of the eigenvectors, eigenvalues and transformations. <br/>\n",
    "Firstly, you have to import Numpy. Numpy is a Python pakket which makes it easy to use matrices. <br>\n",
    "If you want to learn more about the Python package Numpy you can use this link. https://www.w3resource.com/python-exercises/numpy/index.php\n",
    "\n",
    "\n"
   ]
  },
  {
   "cell_type": "code",
   "execution_count": 3,
   "metadata": {
    "collapsed": true
   },
   "outputs": [],
   "source": [
    " import numpy as np"
   ]
  },
  {
   "cell_type": "markdown",
   "metadata": {},
   "source": [
    "Secondly, you have to know how you make a matrix in python. You can do this with **np.array()**.With the function print(a) you can see the matrix you made."
   ]
  },
  {
   "cell_type": "code",
   "execution_count": 34,
   "metadata": {},
   "outputs": [
    {
     "name": "stdout",
     "output_type": "stream",
     "text": [
      "This is matrix A.\n",
      "[[ 1.1  2.   3. ]\n",
      " [ 3.   4.   5. ]]\n"
     ]
    }
   ],
   "source": [
    "A = np.array([[1.1, 2, 3], [3, 4, 5]])\n",
    "print('This is matrix A.')\n",
    "print(A) "
   ]
  },
  {
   "cell_type": "markdown",
   "metadata": {},
   "source": [
    "You can also use the following code; **np.mat()**"
   ]
  },
  {
   "cell_type": "code",
   "execution_count": 37,
   "metadata": {},
   "outputs": [
    {
     "name": "stdout",
     "output_type": "stream",
     "text": [
      "This is matrix B.\n",
      "[[ 1.1  2.   3. ]\n",
      " [ 3.   4.   5. ]]\n"
     ]
    }
   ],
   "source": [
    "B = np.mat(\"1.1 2 3;3 4 5\")\n",
    "print('This is matrix B.')\n",
    "print(B) "
   ]
  },
  {
   "cell_type": "markdown",
   "metadata": {},
   "source": [
    "Matrices could be in integers, floats and complex numbers. Same examples are given below."
   ]
  },
  {
   "cell_type": "code",
   "execution_count": 36,
   "metadata": {},
   "outputs": [
    {
     "name": "stdout",
     "output_type": "stream",
     "text": [
      "This is matrix C.\n",
      "[[1 2 3]\n",
      " [3 4 5]]\n",
      "This is matrix D.\n",
      "[[ 1.1  2.   3. ]\n",
      " [ 3.   4.   5. ]]\n",
      "This is matrix E.\n",
      "[[ 1.+0.j  2.+0.j  3.+0.j]\n",
      " [ 3.+0.j  4.+0.j  5.+0.j]]\n"
     ]
    }
   ],
   "source": [
    "C = np.array([[1, 2, 3], [3, 4, 5]])\n",
    "print('This is matrix C.')\n",
    "print(C) \n",
    "D = np.array([[1.1, 2, 3], [3, 4, 5]]) # Array of floats\n",
    "print('This is matrix D.')\n",
    "print(D) \n",
    "E = np.array([[1, 2, 3], [3, 4, 5]], dtype = complex) # Array of complex numbers\n",
    "print('This is matrix E.')\n",
    "print(E)"
   ]
  },
  {
   "cell_type": "code",
   "execution_count": 53,
   "metadata": {
    "collapsed": true
   },
   "outputs": [],
   "source": [
    "from IPython.display import display, Math, Latex\n"
   ]
  },
  {
   "cell_type": "markdown",
   "metadata": {
    "collapsed": true
   },
   "source": [
    "#### 1.2 Vector addition\n",
    "This is a very simple operation which you have learn during the linear algebra courses. You make a vector the same way as you make a matrix. The only difference is that you have only one row."
   ]
  },
  {
   "cell_type": "code",
   "execution_count": 39,
   "metadata": {},
   "outputs": [
    {
     "name": "stdout",
     "output_type": "stream",
     "text": [
      "This is matrix C.\n",
      "[11  1]\n"
     ]
    }
   ],
   "source": [
    "A = np.array([2, 4])\n",
    "B = np.array([9, -3])\n",
    "C = A + B  \n",
    "print('This is vector C.')\n",
    "print(C)"
   ]
  },
  {
   "cell_type": "markdown",
   "metadata": {},
   "source": [
    "#### 1.3 Vector scalar multiplication\n",
    "It is also possible to multiply the vector with a scalar. You have to use the following code\n"
   ]
  },
  {
   "cell_type": "code",
   "execution_count": 41,
   "metadata": {},
   "outputs": [
    {
     "name": "stdout",
     "output_type": "stream",
     "text": [
      "This is vector B.\n",
      "[ 8 16]\n"
     ]
    }
   ],
   "source": [
    "A = np.array([2, 4])\n",
    "B = 4*A\n",
    "print('This is vector B.')\n",
    "print(B)\n"
   ]
  },
  {
   "cell_type": "markdown",
   "metadata": {},
   "source": [
    "#### 1.4 Matrix summation \n",
    "Now you know how do operations with vectors, we could make the step to matrices. You could also sum matrices with eachother."
   ]
  },
  {
   "cell_type": "code",
   "execution_count": 58,
   "metadata": {},
   "outputs": [
    {
     "name": "stdout",
     "output_type": "stream",
     "text": [
      "[[11  1]\n",
      " [ 8  0]]\n"
     ]
    }
   ],
   "source": [
    "A = np.array([[2, 4], [5, -6]])\n",
    "B = np.array([[9, -3], [3, 6]])\n",
    "C = A + B  \n",
    "print(C)"
   ]
  },
  {
   "cell_type": "markdown",
   "metadata": {},
   "source": [
    "#### 1.5 Matrix multiplication\n",
    "If A is an m×n matrix, and if B is an n×p matrix with columns b<sub>1</sub>, . . . , b<sub>p</sub>, <br/>\n",
    "then the product AB is the m×p matrix whose columns are A<sub>b1</sub>, . . . , A<sub>bp</sub>. <br/>\n",
    "You have to use **.dot()** to multiply two or more matrixes with eachother"
   ]
  },
  {
   "cell_type": "code",
   "execution_count": 56,
   "metadata": {},
   "outputs": [
    {
     "name": "stdout",
     "output_type": "stream",
     "text": [
      "[[ 36 -12]\n",
      " [ -1   2]]\n"
     ]
    }
   ],
   "source": [
    "A = np.array([[3, 6, 7], [5, -3, 0]])\n",
    "B = np.array([[1, 1], [2, 1], [3, -3]])\n",
    "AB = A.dot(B)\n",
    "print(AB)"
   ]
  },
  {
   "cell_type": "code",
   "execution_count": 18,
   "metadata": {},
   "outputs": [
    {
     "name": "stdout",
     "output_type": "stream",
     "text": [
      "[[ 3  6  7]\n",
      " [ 5 -3  0]]\n",
      "[[ 60.  12.  40.]\n",
      " [  9.  -6.   3.]]\n"
     ]
    }
   ],
   "source": [
    "from numpy.linalg import multi_dot\n",
    "A = np.array([[3, 6, 7], [5, -3, 0]])\n",
    "B = np.array([[1, 1, 1], [2, 1, 1], [3, -3, 1]])\n",
    "C = np.array([[1, 2., 1], [2, 1, 1], [3, -3, 1]])\n",
    "ABC = multi_dot([A, B, C])\n",
    "#AB = B.dot(C)\n",
    "#ABC= AB.dot(A)\n",
    "ABC2 =  A.dot(B).dot(C)\n",
    "print(A)\n",
    "print(ABC2)"
   ]
  },
  {
   "cell_type": "markdown",
   "metadata": {},
   "source": [
    "#### 1.6 Transpose matrix \n",
    "Given an m×n matrix A, the transpose of A is the n×m matrix, denoted by A<sup>T</sup> ,\n",
    "whose columns are formed from the corresponding rows of A. <br/> \n",
    "The transpose matrix could be calculated with the use of **.transpose()**.\n",
    "```python\n",
    "    A = np.array([[1, 1], [2, 1], [3, -3]])\n",
    "    print(A.transpose())\n",
    "```\n",
    "\n"
   ]
  },
  {
   "cell_type": "markdown",
   "metadata": {},
   "source": [
    "#### 1.7 Query matrix index\n",
    "With index it is possible to select specific indices out of the matrix. \n"
   ]
  },
  {
   "cell_type": "code",
   "execution_count": 60,
   "metadata": {},
   "outputs": [
    {
     "name": "stdout",
     "output_type": "stream",
     "text": [
      "A[1][2] = 9\n",
      "A[0] = [ 1  4  5 12]\n",
      "3rd column = [5, 9, 11]\n"
     ]
    }
   ],
   "source": [
    "A = np.array([[1, 4, 5, 12],\n",
    "            [-5, 8, 9, 0],\n",
    "            [-6, 7, 11, 19]])\n",
    "print(\"A[1][2] =\", A[1][2]) # Third element\n",
    "print(\"A[0] =\", A[0]) # First Row\n",
    "    \n",
    "column = [];        # empty list\n",
    "for row in A:\n",
    "    column.append(row[2])   \n",
    "print(\"3rd column =\", column) # the thrid column"
   ]
  },
  {
   "cell_type": "markdown",
   "metadata": {},
   "source": [
    "#### 1.8 Exercises"
   ]
  },
  {
   "cell_type": "markdown",
   "metadata": {},
   "source": [
    "**1.8.1** Calculate the sum of the following vectors: <br>\n",
    "$ A = \\left[ \\begin{array}{ccc} 11\\\\ 1\\end{array} \\right]$,\n",
    "$ B = \\left[ \\begin{array}{ccc} -8\\\\ 10\\end{array} \\right]$, \n",
    "$ C = \\left[ \\begin{array}{ccc} 11.1\\\\ 1\\end{array} \\right]$ \n",
    "\n",
    "\n"
   ]
  },
  {
   "cell_type": "code",
   "execution_count": null,
   "metadata": {
    "collapsed": true
   },
   "outputs": [],
   "source": [
    "#code....."
   ]
  },
  {
   "cell_type": "markdown",
   "metadata": {},
   "source": [
    "**1.8.2** Perform a vector-matrix multiplication with the following vector $ A = \\left[ \\begin{array}{ccc} 6\\\\ 1\\end{array} \\right]$ and matrix $ B = \\left[ \\begin{array}{ccc} -8 & 10 & 11\\\\ 8 & 10 & 56\\end{array} \\right]$. "
   ]
  },
  {
   "cell_type": "code",
   "execution_count": null,
   "metadata": {
    "collapsed": true
   },
   "outputs": [],
   "source": [
    "#code...."
   ]
  },
  {
   "cell_type": "markdown",
   "metadata": {},
   "source": [
    "**1.8.3** Calculate the multiplication of the following three matrices; <br>\n",
    "$ A = \\left[ \\begin{array}{ccc} -8 & 10 & 11\\\\ 8 & 10 & 56\\end{array} \\right]$ <br> <br>\n",
    "$ B = \\left[ \\begin{array}{ccc} -7 & 17 & 3\\\\ 5 & 10 & 5\\end{array} \\right]$ <br> <br>\n",
    "$ C = \\left[ \\begin{array}{ccc} -9 & 3 & 11\\\\ 17 & 11 & 6\\end{array} \\right]$ <br> <br>"
   ]
  },
  {
   "cell_type": "code",
   "execution_count": null,
   "metadata": {
    "collapsed": true
   },
   "outputs": [],
   "source": [
    "#code...."
   ]
  },
  {
   "cell_type": "markdown",
   "metadata": {},
   "source": [
    "**1.8.4** Given is a matrix $ A = \\left[ \\begin{array}{ccc} 2 & 3 & 11\\\\ 4 & 5 & 56 \\\\ 6 & 7 & 45 \\end{array} \\right]$. Calculate the transpose of this reduced matrix. Secondly, select the second row of the matrix.\n"
   ]
  },
  {
   "cell_type": "code",
   "execution_count": 59,
   "metadata": {
    "collapsed": true
   },
   "outputs": [],
   "source": [
    "#code...."
   ]
  },
  {
   "cell_type": "markdown",
   "metadata": {},
   "source": [
    "<div class=\"alert alert-info\" role=\"alert\" style=\"height:10px;padding:0px;margin-bottom:-20px\"></div>\n",
    "\n",
    "### 2.  Eigenvalues & Eigenvectoren\n",
    "\n",
    "<div class=\"alert alert-info\" role=\"alert\" style=\"height:10px;padding:0px;margin-top:5px;\"></div>"
   ]
  },
  {
   "cell_type": "markdown",
   "metadata": {},
   "source": [
    "#### 2.1 Definitions\n",
    "\n",
    "It is important to understand the terms eigenvalue and eigenvector, because they are the basis of PCA.<br>\n",
    "An eigenvector of a matrix A<sub>mxn</sub> is a **nonzero** vecotr x such that: \n",
    "### A$\\bullet$X = $\\lambda$X \n",
    "for some scalar $\\lambda$ <br>\n",
    "A scalar $\\lambda$ is called an eigenvalues of A if there is **nontrival** solution x of **A$\\bullet$X = $\\lambda$X**; such an eigenvector corresponding to $\\lambda$\n",
    "<br><br>\n",
    "It is easy to determine if a given vector is an eigenvector of a matrix. <br> \n",
    "**Example 1** <br>\n",
    "let $ A = \\left[ \\begin{array}{ccc} 1 & 6\\\\ 5 & 2 \\end{array} \\right]$, $ u = \\left[ \\begin{array}{ccc} 6\\\\ -5 \\end{array} \\right]$ and  $ v = \\left[ \\begin{array}{ccc} 3\\\\ -2 \\end{array} \\right]$. Are u and v eigenvectoren of A?<br>\n",
    "**Calculation**<br>\n",
    "    Au = $\\left[ \\begin{array}{ccc} 1 & 6\\\\ 5 & 2 \\end{array} \\right]$ $\\left[ \\begin{array}{ccc} 6\\\\ -5 \\end{array} \\right]$ = $\\left[ \\begin{array}{ccc} -24\\\\ 20 \\end{array} \\right]$ = $-4$$\\left[ \\begin{array}{ccc} 6\\\\ -5 \\end{array} \\right]$ = $-4u$ <br>\n",
    "    Av = $\\left[ \\begin{array}{ccc} 1 & 6\\\\ 5 & 2 \\end{array} \\right]$ $\\left[ \\begin{array}{ccc} 3\\\\ -2 \\end{array} \\right]$ = $\\left[ \\begin{array}{ccc} -9\\\\ 11 \\end{array} \\right]$ $\\neq$ $\\lambda$ $\\left[ \\begin{array}{ccc} 3\\\\ -2 \\end{array} \\right]$ = $-4u$\n",
    "\n",
    "Thus u is an eigenvector corresponding to an eigenvalue (-4), but v is not an eigenvector of A, <br> \n",
    "because Av is not a multiple of v. <br> \n",
    "\n",
    "It is also easy to decide if a specified scalar is an eigenvalue. <br>\n",
    "**Example 2** <br>\n",
    "Show that scalar 7 is an eigenvalue of A in example 1, and find the corresponding eigenvectors. <br>\n",
    "**Calculation** <br>\n",
    "The scalar 7 is an eigenvector of A if and only if equation A$\\bullet$X = 7X has a nontrival solution. <br>\n",
    "This equation is equal to Ax - 7x = 0, or (A-7I)x =0 <br>\n",
    "To solve this equation, from the matrix\n",
    "A - 7I =  $\\left[ \\begin{array}{ccc} 1 & 6\\\\ 5 & 2 \\end{array} \\right]$ $-$ $\\left[ \\begin{array}{ccc} 7 & 0\\\\ 0 & 7 \\end{array} \\right]$ =  $\\left[ \\begin{array}{ccc} -6 & 6\\\\ 5 & -5 \\end{array} \\right]$\n",
    "The columns of A-7I are obviously linearly dependent, so has nontrivial solution. Thus 7 is an eigenvalue of A. To find the corresponding eigenvectors, use row operations. \n",
    "\n",
    "$\\left[ \\begin{array}{ccc} -6 & 6 & 0\\\\ 5 & -5 & 0\\end{array} \\right]$ $\\sim$ $\\left[ \\begin{array}{ccc} 1 & -1 & 0\\\\ 0 & 0 & 0 \\end{array} \\right]$\n",
    "\n",
    "(If you want to know the code which you can use for row reduction, have a look at the cell below.)\n",
    "The general solution has the form x<sub>2</sub> $\\left[ \\begin{array}{ccc} 1\\\\ 1 \\end{array} \\right]$. Each vector of this form with x<sub>2</sub> $\\neq$ 0 is an eigenvector corresponding to $\\lambda$ = 7.\n",
    "\n",
    "    \n"
   ]
  },
  {
   "cell_type": "code",
   "execution_count": 4,
   "metadata": {},
   "outputs": [
    {
     "name": "stdout",
     "output_type": "stream",
     "text": [
      "(Matrix([\n",
      "[1, -1, 0],\n",
      "[0,  0, 0]]), (0,))\n"
     ]
    }
   ],
   "source": [
    "# the code for row reduction\n",
    "from sympy import *\n",
    "A = np.array([[-6, 6, 0],\n",
    "            [5, -5, 0]])\n",
    "\n",
    "reduced_A = Matrix(A).rref()\n",
    "print(reduced_A)"
   ]
  },
  {
   "cell_type": "markdown",
   "metadata": {},
   "source": [
    "#### 2.2 The calculation of eigenvalues and eigenvectoren in python"
   ]
  },
  {
   "cell_type": "markdown",
   "metadata": {},
   "source": [
    "The function **numpy.linalg.eig** computes eigenvalues and eigenvectors of a square matrix A. you have to import it before you can use it."
   ]
  },
  {
   "cell_type": "code",
   "execution_count": 85,
   "metadata": {
    "collapsed": true
   },
   "outputs": [],
   "source": [
    "import numpy as np\n",
    "import matplotlib.pyplot as plt\n",
    "import numpy.linalg as la"
   ]
  },
  {
   "cell_type": "markdown",
   "metadata": {},
   "source": [
    "Let's consider a simple example with a diagonal matrix:"
   ]
  },
  {
   "cell_type": "code",
   "execution_count": 110,
   "metadata": {},
   "outputs": [
    {
     "name": "stdout",
     "output_type": "stream",
     "text": [
      "[[ 3 -2]\n",
      " [ 1  0]]\n"
     ]
    }
   ],
   "source": [
    "A = np.array([[3,-2],[1,0]])\n",
    "print(A)"
   ]
  },
  {
   "cell_type": "markdown",
   "metadata": {},
   "source": [
    "The function **la.eig** returns a tuple (eigvals,eigvecs) where eigvals is a 1D NumPy array of complex numbers giving the eigenvalues of A, and eigvecs is a 2D NumPy array with the corresponding eigenvectors in the columns:"
   ]
  },
  {
   "cell_type": "code",
   "execution_count": 111,
   "metadata": {},
   "outputs": [
    {
     "name": "stdout",
     "output_type": "stream",
     "text": [
      "(array([ 2.,  1.]), array([[ 0.89442719,  0.70710678],\n",
      "       [ 0.4472136 ,  0.70710678]]))\n"
     ]
    }
   ],
   "source": [
    "results = la.eig(A)\n",
    "print(results)\n"
   ]
  },
  {
   "cell_type": "markdown",
   "metadata": {},
   "source": [
    "With the following code you get the eigenvalues and eigenvectors separately."
   ]
  },
  {
   "cell_type": "code",
   "execution_count": 112,
   "metadata": {},
   "outputs": [
    {
     "name": "stdout",
     "output_type": "stream",
     "text": [
      "The eigenvalues of A are [ 2.  1.]\n",
      "The corresponding eigenvectors are [[ 0.89442719  0.70710678]\n",
      " [ 0.4472136   0.70710678]]\n"
     ]
    }
   ],
   "source": [
    "print(\"The eigenvalues of A are\", results[0])\n",
    "print(\"The corresponding eigenvectors are\", results[1])"
   ]
  },
  {
   "cell_type": "markdown",
   "metadata": {},
   "source": [
    "It is also possible to split the eigenvectors and eigenvalues immediately"
   ]
  },
  {
   "cell_type": "code",
   "execution_count": 113,
   "metadata": {},
   "outputs": [
    {
     "name": "stdout",
     "output_type": "stream",
     "text": [
      "[ 2.  1.]\n",
      "[[ 0.89442719  0.70710678]\n",
      " [ 0.4472136   0.70710678]]\n"
     ]
    }
   ],
   "source": [
    "eigenvalues, eigenvectors = la.eig(A)\n",
    "print(eigenvalues)\n",
    "print(eigenvectors)"
   ]
  },
  {
   "cell_type": "markdown",
   "metadata": {},
   "source": [
    "\n",
    "\n",
    "#### 2.3 Excercises \n"
   ]
  },
  {
   "cell_type": "markdown",
   "metadata": {},
   "source": [
    "**2.3.1** Compute the eigenvalues and the corresponding eigenvectors of the given matrix $A = \\left[ \\begin{array}{ccc} 1 & 2 & 3\\\\ 4 & 5 & 6 \\\\ 7 & 8 & 9 \\end{array} \\right]$."
   ]
  },
  {
   "cell_type": "code",
   "execution_count": 108,
   "metadata": {
    "collapsed": true
   },
   "outputs": [],
   "source": [
    "##mogelijk nog een filmpje met extra uitleg hier toevoegen"
   ]
  },
  {
   "cell_type": "markdown",
   "metadata": {},
   "source": [
    "<div class=\"alert alert-info\" role=\"alert\" style=\"height:10px;padding:0px;margin-bottom:-20px\"></div>\n",
    "\n",
    "### 3. Transformations\n",
    "\n",
    "<div class=\"alert alert-info\" role=\"alert\" style=\"height:10px;padding:0px;margin-top:5px;\"></div>"
   ]
  },
  {
   "cell_type": "markdown",
   "metadata": {},
   "source": [
    "#### 3.1 Definition\n",
    "\n",
    "A transformation T from $\\mathbb{R}$<sup>n</sup> to $\\mathbb{R}$<sup>m</sup> is a rule that assigns to each vector x in $\\mathbb{R}$<sup>n</sup> a vector T(x) in <br> $\\mathbb{R}$<sup>m</sup>. The set $\\mathbb{R}$<sup>n</sup> is called the domain of T, and $\\mathbb{R}$<sup>m</sup> is called the codomain of T. <br> The notation T: $\\mathbb{R}$<sup>n</sup> $ \\longrightarrow$  $\\mathbb{R}$<sup>m</sup> indicates that the domain of T is $\\mathbb{R}$<sup>n</sup> and the codomain is $\\mathbb{R}$<sup>m</sup>. For x in $\\mathbb{R}$<sup>n</sup>, the vector T(x) is called the image of x (under the action of T). The set of all images T(x) is called the range of T. <br>\n",
    "<img src=\"picture_transformation.PNG\" /> <br>\n",
    "So, with a transformation you have a matrix A that you multiply by a vector x which lead to a transformation of the vector x in b. <br>\n",
    "<img src=\"picture_transformation2.PNG\" /> <br>\n",
    "\n",
    "#### 3.2 Examples\n",
    "To get a transformation more gain insight we will give same examples.\n",
    "#### hier nog wat toevoegen. overleggen in vergadering\n"
   ]
  },
  {
   "cell_type": "markdown",
   "metadata": {},
   "source": [
    "#### 3.3 Excercises "
   ]
  },
  {
   "cell_type": "markdown",
   "metadata": {},
   "source": [
    "**3.3.1** Calculate the transformation....."
   ]
  },
  {
   "cell_type": "code",
   "execution_count": null,
   "metadata": {
    "collapsed": true
   },
   "outputs": [],
   "source": [
    "#code....."
   ]
  },
  {
   "cell_type": "markdown",
   "metadata": {},
   "source": [
    "**3.3.2** nog maken"
   ]
  },
  {
   "cell_type": "code",
   "execution_count": null,
   "metadata": {
    "collapsed": true
   },
   "outputs": [],
   "source": [
    "#code....."
   ]
  },
  {
   "cell_type": "code",
   "execution_count": 89,
   "metadata": {},
   "outputs": [
    {
     "name": "stdout",
     "output_type": "stream",
     "text": [
      "[[0 1]\n",
      " [0 1]]\n"
     ]
    },
    {
     "ename": "AttributeError",
     "evalue": "module 'plotly.graph_objs' has no attribute 'FigureWidget'",
     "output_type": "error",
     "traceback": [
      "\u001b[1;31m---------------------------------------------------------------------------\u001b[0m",
      "\u001b[1;31mAttributeError\u001b[0m                            Traceback (most recent call last)",
      "\u001b[1;32m<ipython-input-89-2c16abf2ec91>\u001b[0m in \u001b[0;36m<module>\u001b[1;34m()\u001b[0m\n\u001b[0;32m      4\u001b[0m \u001b[0mprint\u001b[0m\u001b[1;33m(\u001b[0m\u001b[0mA\u001b[0m\u001b[1;33m)\u001b[0m\u001b[1;33m\u001b[0m\u001b[0m\n\u001b[0;32m      5\u001b[0m \u001b[1;33m\u001b[0m\u001b[0m\n\u001b[1;32m----> 6\u001b[1;33m \u001b[1;32mimport\u001b[0m \u001b[0mplotly\u001b[0m\u001b[1;33m.\u001b[0m\u001b[0mgraph_objects\u001b[0m \u001b[1;32mas\u001b[0m \u001b[0mgo\u001b[0m\u001b[1;33m\u001b[0m\u001b[0m\n\u001b[0m\u001b[0;32m      7\u001b[0m \u001b[1;33m\u001b[0m\u001b[0m\n\u001b[0;32m      8\u001b[0m \u001b[0mfig\u001b[0m \u001b[1;33m=\u001b[0m \u001b[0mgo\u001b[0m\u001b[1;33m.\u001b[0m\u001b[0mFigure\u001b[0m\u001b[1;33m(\u001b[0m\u001b[1;33m)\u001b[0m\u001b[1;33m\u001b[0m\u001b[0m\n",
      "\u001b[1;32mC:\\ProgramData\\Anaconda3\\lib\\site-packages\\plotly\\graph_objects.py\u001b[0m in \u001b[0;36m<module>\u001b[1;34m()\u001b[0m\n\u001b[0;32m      1\u001b[0m \u001b[1;32mfrom\u001b[0m \u001b[0m__future__\u001b[0m \u001b[1;32mimport\u001b[0m \u001b[0mabsolute_import\u001b[0m\u001b[1;33m\u001b[0m\u001b[0m\n\u001b[1;32m----> 2\u001b[1;33m \u001b[1;32mfrom\u001b[0m \u001b[0mplotly\u001b[0m\u001b[1;33m.\u001b[0m\u001b[0mgraph_objs\u001b[0m \u001b[1;32mimport\u001b[0m \u001b[1;33m*\u001b[0m\u001b[1;33m\u001b[0m\u001b[0m\n\u001b[0m\u001b[0;32m      3\u001b[0m \u001b[1;33m\u001b[0m\u001b[0m\n\u001b[0;32m      4\u001b[0m __all__ = [\n\u001b[0;32m      5\u001b[0m     \u001b[1;34m\"AngularAxis\"\u001b[0m\u001b[1;33m,\u001b[0m\u001b[1;33m\u001b[0m\u001b[0m\n",
      "\u001b[1;31mAttributeError\u001b[0m: module 'plotly.graph_objs' has no attribute 'FigureWidget'"
     ]
    }
   ],
   "source": [
    "#aan het uitproberen\n",
    "A = np.array([[0, 1],\n",
    "                  [0,1]])\n",
    "print(A)\n",
    "\n",
    "import plotly.graph_objects as go\n",
    "\n",
    "fig = go.Figure()\n",
    "fig.add_trace(go.Scatter(x=[1, 2, 3, 4], y=[0, 2, 3, 5], fill='tozeroy',\n",
    "                    mode='none' # override default markers+lines\n",
    "                    ))\n",
    "fig.add_trace(go.Scatter(x=[1, 2, 3, 4], y=[3, 5, 1, 7], fill='tonexty',\n",
    "                    mode= 'none'))\n",
    "\n",
    "fig.show()\n",
    "                    "
   ]
  },
  {
   "cell_type": "markdown",
   "metadata": {},
   "source": [
    "<div class=\"alert alert-info\" role=\"alert\" style=\"height:10px;padding:0px;margin-bottom:-20px\"></div>\n",
    "\n",
    "###  4. Inner product, length and orthogonality\n",
    "\n",
    "<div class=\"alert alert-info\" role=\"alert\" style=\"height:10px;padding:0px;margin-top:5px;\"></div>\n",
    "\n",
    "\n",
    "### Inner product\n",
    "#### 4.1.1 Definition\n",
    "If $\\mathbf{u}$ and $\\mathbf{v}$ are vectors in $\\mathbb{R}$<sup>n</sup> , then we regard $\\mathbf{u}$ and $\\mathbf{v}$ as *n x 1* matrices. The transpose $\\mathbf{u}$<sup>*T*</sup> is a *1 x n* matrix, and the matrix product $\\mathbf{u}$<sup>*T*</sup>$\\mathbf{v}$ is a *1 x 1* matrix, which we write as a single real number (a scalar) without brackets. The number $\\mathbf{u}$<sup>*T*</sup>$\\mathbf{v}$ is called the **inner product** of $\\mathbf{u}$ and $\\mathbf{v}$, and often it is written as $\\mathbf{u}\\cdot\\mathbf{v}$.\n",
    "\n",
    "$$ \\mathbf{u}= \\left[ \\begin{array}{c} u1 \\\\ u2 \\\\ \\vdots \\\\ un \\end{array} \\right] \\text{  and  } \\mathbf{ v}= \\left[ \\begin{array}{c} v1 \\\\ v2 \\\\ \\vdots \\\\ vn \\end{array} \\right]$$\n",
    "\n",
    "\n",
    "then the inner product of u and v is <br>\n",
    "$$\\mathbf{u}\\cdot\\mathbf{v} = \\mathbf{u}^T\\mathbf{v} =  \\left[ \\begin{array}{c} u1 & u2 & \\cdots & un \\end{array} \\right]  \\left[ \\begin{array}{c} v1 \\\\ v2 \\\\ \\vdots \\\\ vn \\end{array} \\right] = u_1v_1+u_2v_2+\\cdots+u_nv_n$$\n",
    "\n",
    "#### 4.1.2 Examples\n",
    "To calculate the inner product in Jupyter the following code can be used.<br>\n",
    "Ordinary inner product for vectors: \n",
    "```python\n",
    "A = np.array([1,2,3])\n",
    "B = np.array([0,1,0])\n",
    "np.inner(A, B)\n",
    "```\n",
    "A multidimensional example:\n",
    "```python\n",
    "a = np.arange(24).reshape((2,3,4))\n",
    "b = np.arange(4)\n",
    "np.inner(a, b)\n",
    "```\n",
    "### Lenght\n",
    "#### 4.2.1 Definition\n",
    "The length (or norm) of $\\mathbf{v}$ is the nonnegative scalar $\\parallel v \\parallel$ defined by <br>\n",
    "$$\\| v \\| = \\sqrt{v \\cdot v} = \\sqrt{v_1^2+v_2^2+\\cdots+vn^2} \\text{ and } \\parallel v \\parallel^2$= $v \\cdot v$$\n",
    "\n",
    "#### 4.2.2 Examples\n",
    "The magnitude of a vector can be calculate as follows.\n",
    "```python\n",
    "x = np.array([1,2,3,4,5])\n",
    "np.linalg.norm(x)\n",
    "#or   \n",
    "np.sqrt(x.dot(x))\n",
    "```\n",
    "\n",
    "### Orthogonality\n",
    "#### 4.3.1 Definition\n",
    "**Orthogonal vectors** <br>\n",
    "Two vectors $\\mathbf{A}$ and $\\mathbf{B}$ in $\\mathbb{R}$<sup>n</sup> are orthogonal (to each other) if $\\mathbf{A}\\cdot\\mathbf{B}$ =0\n",
    "meaning that two vector are perpendicular to which another.\n",
    "\n",
    "<img src=\"orthogonal.PNG\" /> <br>\n",
    "\n",
    "**Orthogonal** set<br>\n",
    "A set of vectors {$\\mathbf{u_1}, ... , \\mathbf{u_p}$} in $\\mathbb{R}$<sup>n</sup> is said to be an **orthogonal set** if each pair of distinct vectors from the set is orthogonal: $\\mathbf{u_i} \\cdot \\mathbf{v_j}$ = 0 whenever i≠j .\n",
    "\n",
    "**Example** <br>\n",
    "Show that {$\\mathbf{u_1},\\mathbf{u_2},\\mathbf{u_3}$} is an orthogonal set, where\n",
    "\n",
    "$$\\mathbf{u_1}=\\left[ \\begin{array}{c} 3 \\\\ 1 \\\\ \\ 1  \\end{array} \\right], \\mathbf{u_2}=\\left[ \\begin{array}{c} -1 \\\\ 2 \\\\ \\ 1  \\end{array} \\right], \\mathbf{u_3}=\\left[ \\begin{array}{c} -1/2 \\\\ -2 \\\\ \\ 7/2  \\end{array} \\right]$$\n",
    "\n",
    "**Solution** <br>\n",
    "Consider the three possible pairs of distinct vectors, namely, {$\\mathbf{u_1},\\mathbf{u_2}$}, {$\\mathbf{u_1},\\mathbf{u_3}$} and {$\\mathbf{u_2},\\mathbf{u_3}$}\n",
    "\n",
    "$\\mathbf{u_1},\\mathbf{u_2}= 3(-1)+1(2)+1(1)$ <br>\n",
    "$\\mathbf{u_1},\\mathbf{u_3}=3(-1/2)+1(-2)+1(7/2)$ <br>\n",
    "$\\mathbf{u_2},\\mathbf{u_3}=3(-1/2)+2(2)+1(7/2)$ <br>\n",
    "\n",
    "<img src=\"orthogonal_set1.PNG\" /> <br>"
   ]
  },
  {
   "cell_type": "markdown",
   "metadata": {},
   "source": [
    "<div class=\"alert alert-info\" role=\"alert\" style=\"height:10px;padding:0px;margin-bottom:-20px\"></div>\n",
    "\n",
    "###  5.Covariance and Mean\n",
    "\n",
    "<div class=\"alert alert-info\" role=\"alert\" style=\"height:10px;padding:0px;margin-top:5px;\"></div>\n",
    "\n",
    "#### 5.1 Definition\n",
    "Before the principal component analysis can be made the following concept need to be explain. The figure below is a scatter plot of a two-dimensional data and it's matrix  (weight and height of N college students). The $X_j$ denote is the **oberservation vector** in $\\mathbb{R}$<sup>2</sup> that lists the weight and height of the *j* th student.\n",
    "<img src=\"two-dimensional_scatter_plot.PNG\" /> <img src=\"observation_vector.PNG\" /> <br>\n",
    "\n",
    "The sample **mean, M**, of the observation vectors $X_1,\\cdots, X_N$ is given by <br>\n",
    "$$M=\\frac{1}{n}(X_1+ \\cdots+ X_n)$$\n",
    "\n",
    "For the data in the scatter plot above, the sample mean is the point in the “center” of the scatter plot.\n",
    "For $k =1, \\cdots,N$  let <br>\n",
    "$$\\hat{X_k}=X_k-M$$\n",
    "\n",
    "\n",
    "The columns of the *p x N* matrix <br>\n",
    "$$ \\mathbf{B}= \\left[ \\begin{array}{c} \\hat{X_1} & \\hat{X_2} & \\cdots & \\hat{X_n} \\end{array} \\right]$$\n",
    "\n",
    "have a zero sample mean, and B is said to be in mean-deviation form. When the sample mean is subtracted from the data in the Figure above, the resulting scatter plot has the form in the figure below.\n",
    "<img src=\"scatter_plot_center.PNG\" /> <br>\n",
    "\n",
    "The (sample) covariance matrix is the *p x p* matrix S defined by <br>\n",
    "$$S=\\frac{1}{N-1}BB^T$$\n",
    "\n",
    "#### 5.2 Example\n",
    "Three measurements are made on each of four individuals in a random\n",
    "sample from a population. The observation vectors are <br>\n",
    "$$\\mathbf{X_1}=\\left[ \\begin{array}{c} 1 \\\\ 2 \\\\  1  \\end{array} \\right], \\mathbf{X_2}=\\left[ \\begin{array}{c} 4 \\\\ 2 \\\\  13  \\end{array} \\right], \\mathbf{X_3}=\\left[ \\begin{array}{c} 7 \\\\ 8 \\\\  1  \\end{array} \\right],\n",
    "\\mathbf{X_4}=\\left[ \\begin{array}{c} 8 \\\\ 4 \\\\  5  \\end{array} \\right]$$ <br>\n",
    "Compute the sample mean and the covariance matrix.\n",
    "The sample mean is<br>\n",
    "$$M=\\frac{1}{4}\\left( \\begin{array}{c}\\left[ \\begin{array}{c} 1 \\\\ 2 \\\\  1  \\end{array} \\right] + \\left[ \\begin{array}{c} 4 \\\\ 2 \\\\  13  \\end{array} \\right] + \\left[ \\begin{array}{c} 7 \\\\ 8 \\\\  1  \\end{array} \\right] +\n",
    "\\left[ \\begin{array}{c} 8 \\\\ 4 \\\\  5  \\end{array} \\right] \\end{array} \\right) = \\frac{1}{4} \\left[ \\begin{array}{c} 20 \\\\ 16 \\\\  20  \\end{array} \\right] = \\left[ \\begin{array}{c} 5 \\\\ 4 \\\\  5  \\end{array} \\right]$$ <br>\n",
    "\n",
    "Subtract the sample mean from $X_1, \\cdots, X_4$ to obtain <br>\n",
    "$$\\mathbf{X_1}=\\left[ \\begin{array}{c} -4 \\\\ -2 \\\\  -4  \\end{array} \\right], \\mathbf{X_2}=\\left[ \\begin{array}{c} -1 \\\\ -2 \\\\  8  \\end{array} \\right], \\mathbf{X_3}=\\left[ \\begin{array}{c} 2 \\\\ 4 \\\\  -4  \\end{array} \\right],\n",
    "\\mathbf{X_4}=\\left[ \\begin{array}{c} 3 \\\\ 0 \\\\  0  \\end{array} \\right]$$ <br>\n",
    "and <br>\n",
    "$$ B = \\left[ \\begin{array}{cccc}  -4 & -1 & 2 & 3\\\\ -2 & -2 & 4 & 0 \\\\ -4 & 8 & -4 & 0  \\end{array} \\right]$$ <br>\n",
    "\n",
    "The sample covariance matrix is <br>\n",
    "$$ S = \\frac{1}{3}  \\left[ \\begin{array}{ccc}  -4 & -1 & 2 & 3\\\\ -2 & -2 & 4 & 0 \\\\ -4 & 8 & -4 & 0  \\end{array} \\right] \\left[ \\begin{array}{cccc}  -4 & -2 & 4\\\\ -1 & -2 & 8 \\\\ 2 & 4 & -4\\\\3 & 0 & 0  \\end{array} \\right] \\\\\n",
    "=\\frac{1}{3}  \\left[ \\begin{array}{ccc}  30 & 18 & 0\\\\ 18 & 24 & -24\\\\ 0 & -24 & 96  \\end{array} \\right] = \\left[ \\begin{array}{ccc}  10 & 6 & 0\\\\ 6 & 8 & -8\\\\ 0 & -8 & 32  \\end{array} \\right] $$\n",
    "\n",
    "For $j = 1, \\cdots,p$, the diagonal entry $s_{jj}$ in $S$ is called the **variance** of $x_j$ .\n",
    "The variance of $x_j$ measures the spread of the values of $x_j$ . In the Example , the variance of $x_1$ is 10 and the variance of $x_3$ is 32. The fact that 32 is more than 10 indicates that the set of third entries in the response vectors contains a wider spread of values than the set of first entries.<br> \n",
    "\n",
    "The **total variance** of the data is the sum of the variances on the diagonal of $S$. In general, the sum of the diagonal entries of a square matrix $S$ is called the **trace** of the\n",
    "matrix, written tr($S$) Thus <br>\n",
    "$$\\text{{total variance}} = tr(\\text{$S$})$$\n",
    "\n",
    "The entry $s_{ij}$ in $S$ for $i \\neq j$ is called the **covariance** ($cov$) of $x_i$ and $x_j$ . Observe that\n",
    "in the Example, the covariance between $x_1$ and $x_3$ is 0 because the (1, 3)-entry in $S$ is 0. Statisticians say that x1 and x3 are **uncorrelated**.\n",
    "If the variables are correlated in some way, then their covariance will be nonzero. In fact, if $cov_{i j}$ > 0, then  Y tends to increase as  X increases, and if $cov_{i j}$ < 0, then Y tends to decrease as X increases. However, the amount of correlation cannot be determined with covariance instead with correlationcoefficient.\n",
    "\n",
    "#### 5.3 code\n",
    "The function cov from numpy computes the Covaince Matrix.\n",
    "```python\n",
    "from numpy import array\n",
    "from numpy import mean\n",
    "from numpy import cov\n",
    "from numpy.linalg import eig\n",
    "# define a matrix\n",
    "A = array([[1, 2], [3, 4], [5, 6]])\n",
    "print(\"matrix=\",A)\n",
    "# calculate the mean of each column\n",
    "M = mean(A.T, axis=1)\n",
    "print(\"Mean=\",M)\n",
    "# center columns by subtracting column means\n",
    "C = A - M\n",
    "print(\"C=\",C)\n",
    "# calculate covariance matrix of centered matrix\n",
    "V = cov(C.T)\n",
    "print(\"covariance matrix=\",V)\n",
    "```\n"
   ]
  },
  {
   "cell_type": "markdown",
   "metadata": {},
   "source": [
    "<div class=\"alert alert-info\" role=\"alert\" style=\"height:10px;padding:0px;margin-bottom:-20px\"></div>\n",
    "\n",
    "### Excercises \n",
    "\n",
    "<div class=\"alert alert-info\" role=\"alert\" style=\"height:10px;padding:0px;margin-top:5px;\"></div>\n"
   ]
  },
  {
   "cell_type": "markdown",
   "metadata": {},
   "source": [
    "**1.1** Calculate the covariance matrix of two given arrays. \n",
    "Sample Output:\n",
    "Original array1:\n",
    "[0 1 2]\n",
    "Original array1:\n",
    "[2 1 0]"
   ]
  },
  {
   "cell_type": "code",
   "execution_count": null,
   "metadata": {
    "collapsed": true,
    "scrolled": false
   },
   "outputs": [],
   "source": [
    "\n"
   ]
  },
  {
   "cell_type": "markdown",
   "metadata": {},
   "source": [
    "**1.2** something with a graph..."
   ]
  },
  {
   "cell_type": "code",
   "execution_count": null,
   "metadata": {
    "collapsed": true
   },
   "outputs": [],
   "source": []
  }
 ],
 "metadata": {
  "kernelspec": {
   "display_name": "Python 3",
   "language": "python",
   "name": "python3"
  },
  "language_info": {
   "codemirror_mode": {
    "name": "ipython",
    "version": 3
   },
   "file_extension": ".py",
   "mimetype": "text/x-python",
   "name": "python",
   "nbconvert_exporter": "python",
   "pygments_lexer": "ipython3",
   "version": "3.6.3"
  }
 },
 "nbformat": 4,
 "nbformat_minor": 2
}

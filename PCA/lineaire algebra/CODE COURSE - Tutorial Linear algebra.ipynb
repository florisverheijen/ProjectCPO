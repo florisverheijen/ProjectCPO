{
 "cells": [
  {
   "cell_type": "markdown",
   "metadata": {},
   "source": [
    "# CODE COURSE - Tutorial Linear algebra.\n",
    "---"
   ]
  },
  {
   "cell_type": "markdown",
   "metadata": {},
   "source": [
    "#### This tutorial will explain in a interactive way the tools you need to be able to start with PCA and clustering. this tutorial is specified on the tools you need of linear algebra. "
   ]
  },
  {
   "cell_type": "markdown",
   "metadata": {},
   "source": [
    "### The following subject will be explained:\n",
    "* Vector and matrix operations\n",
    "* Transformation \n",
    "* Eigenvecotoren & eigenvalues\n",
    "* innerproduct, length and orthogonality \n",
    "* covariance matrix \n"
   ]
  },
  {
   "cell_type": "markdown",
   "metadata": {},
   "source": [
    "### Vector and matrix operations"
   ]
  },
  {
   "cell_type": "markdown",
   "metadata": {},
   "source": [
    "Vector and matric operations are important due to you need them by the calculations of the eigenvectors, eigenvalues and transformations. <br/>\n",
    "Firstly, you have to import Numpy. Numpy is a Python pakket which makes it easy to use matrices. \n",
    "\n",
    " ```python\n",
    "    import numpy as np\n",
    " ```  \n",
    "Secondly, you have to know how you make a matrix in python with the function print(a) you can see the matrix you made.\n",
    "```python\n",
    "    A = np.array([[1.1, 2, 3], [3, 4, 5]])\n",
    "    print(a) \n",
    "```  \n",
    "Matrices could be in integers, floats and complex numbers. Same examples are given below.\n",
    "```python\n",
    "    A = np.array([[1, 2, 3], [3, 4, 5]])\n",
    " \n",
    "    A = np.array([[1.1, 2, 3], [3, 4, 5]]) # Array of floats\n",
    " \n",
    "    A = np.array([[1, 2, 3], [3, 4, 5]], dtype = complex) # Array of complex \n",
    "```\n",
    "With the function zeros you could make a matrix with zeros only. <br/>\n",
    "   zeros_array = np.zeros( (row, colomn) ) \n",
    "```python\n",
    "   zeros_array = np.zeros( (2, 3) )\n",
    "   print(zeros_array) \n",
    "```  "
   ]
  },
  {
   "cell_type": "code",
   "execution_count": 35,
   "metadata": {
    "collapsed": true
   },
   "outputs": [],
   "source": [
    "from IPython.display import display, Math, Latex\n",
    "import numpy as np"
   ]
  },
  {
   "cell_type": "markdown",
   "metadata": {
    "collapsed": true
   },
   "source": [
    "#### Vector addition\n",
    "This is a very simple operation which you learn during the linear algebra courses. You make a vector at the same way as you make a matrix. The only difference is that you have only one row.\n",
    "\n",
    "```python\n",
    "    A = np.array([2, 4])\n",
    "    B = np.array([9, -3])\n",
    "    C = A + B  \n",
    "    print(C)\n",
    " ```   \n",
    "The outcome has to be $[11, 1]$ "
   ]
  },
  {
   "cell_type": "markdown",
   "metadata": {},
   "source": [
    "#### Vector scalar multiplication\n",
    "It is also possible to multiply the vector with a scalar. You have to use the following code\n",
    "```python\n",
    "    A = np.array([2, 4])\n",
    "    C = 4*A\n",
    "    print(C)\n",
    "```\n",
    "\n"
   ]
  },
  {
   "cell_type": "markdown",
   "metadata": {},
   "source": [
    "#### Matrix summation \n",
    "Now you know how do operations with vectors, we could make the step to matrices. You could also sum matrices with eachother.\n",
    "```python\n",
    "    A = np.array([[2, 4], [5, -6]])\n",
    "    B = np.array([[9, -3], [3, 6]])\n",
    "    C = A + B  \n",
    "    print(C)\n",
    "```"
   ]
  },
  {
   "cell_type": "markdown",
   "metadata": {},
   "source": [
    "#### Matrix multiplication\n",
    "If A is an m×n matrix, and if B is an n×p matrix with columns b<sub>1</sub>, . . . , b<sub>p</sub>, <br/>\n",
    "then the product AB is the m×p matrix whose columns are A<sub>b1</sub>, . . . , A<sub>bp</sub>. <br/>\n",
    "You have to use .dot() to multiply two or more matrixes with eachother\n",
    "```python\n",
    "   A = np.array([[3, 6, 7], [5, -3, 0]])\n",
    "   B = np.array([[1, 1], [2, 1], [3, -3]])\n",
    "   AB = A.dot(B)\n",
    "   print(AB)\n",
    "```"
   ]
  },
  {
   "cell_type": "markdown",
   "metadata": {},
   "source": [
    "#### Transpose matrix \n",
    "Given an m×n matrix A, the transpose of A is the n×m matrix, denoted by A<sup>T</sup> ,\n",
    "whose columns are formed from the corresponding rows of A. <br/> \n",
    "The transpose matrix could be calculated with the use of .transpose().\n",
    "```python\n",
    "    A = np.array([[1, 1], [2, 1], [3, -3]])\n",
    "    print(A.transpose())\n",
    "```\n",
    "\n"
   ]
  },
  {
   "cell_type": "markdown",
   "metadata": {},
   "source": [
    "#### Query matrix index\n",
    "With index it is possible to select specific indices out of the matrix. \n",
    "```python\n",
    "    A = np.array([[1, 4, 5, 12],\n",
    "                  [-5, 8, 9, 0],\n",
    "                  [-6, 7, 11, 19]])\n",
    "    print(\"A[1][2] =\", A[1][2]) # Third element\n",
    "    print(\"A[0] =\", A[0]) # First Row\n",
    "    \n",
    "    column = [];        # empty list\n",
    "    for row in A:\n",
    "      column.append(row[2])   \n",
    "    print(\"3rd column =\", column) # the thrid column\n",
    "```"
   ]
  },
  {
   "cell_type": "markdown",
   "metadata": {},
   "source": [
    "<div class=\"alert alert-info\" role=\"alert\" style=\"height:10px;padding:0px;margin-bottom:-20px\"></div>\n",
    "\n",
    "### Exercises\n",
    "\n",
    "<div class=\"alert alert-info\" role=\"alert\" style=\"height:10px;padding:0px;margin-top:5px;\"></div>\n"
   ]
  },
  {
   "cell_type": "markdown",
   "metadata": {},
   "source": [
    "**1.1** Calculate the sum of the following vectors: A = $[11, 1]$ , B = $[-8, 10]$  and C = $[11.1, 1]$ \n"
   ]
  },
  {
   "cell_type": "code",
   "execution_count": null,
   "metadata": {
    "collapsed": true
   },
   "outputs": [],
   "source": [
    "#code....."
   ]
  },
  {
   "cell_type": "markdown",
   "metadata": {},
   "source": [
    "**1.2** Perform a vector-matric multiplication with the following vector A = $[6, 1]$ and matrix B = $[[-8, 10. 11],[8,10, 56]]$"
   ]
  },
  {
   "cell_type": "code",
   "execution_count": null,
   "metadata": {},
   "outputs": [],
   "source": [
    "#code...."
   ]
  },
  {
   "cell_type": "markdown",
   "metadata": {},
   "source": [
    "**1.3** Given is a matrix A  $[[2, 3. 11],[4, 5, 56],[6, 7, 45]]$. Reduce this matrix to a 2X2 matrix and calculate the transpose of this reduced matrix. \n"
   ]
  },
  {
   "cell_type": "code",
   "execution_count": null,
   "metadata": {
    "collapsed": true
   },
   "outputs": [],
   "source": [
    "#code...."
   ]
  },
  {
   "cell_type": "code",
   "execution_count": 71,
   "metadata": {},
   "outputs": [
    {
     "name": "stdout",
     "output_type": "stream",
     "text": [
      "[[ 2  3 11]\n",
      " [ 4  5 56]]\n",
      "3rd column = [array([2, 3]), array([4, 5])]\n"
     ]
    }
   ],
   "source": [
    "# test \n",
    "A = np.array([[2, 3, 11],\n",
    "                  [4, 5, 56],\n",
    "                  [6, 7, 45]])\n",
    "A1 = A[0 :2] # First Row\n",
    "print (A1)\n",
    "column = [];        # empty list\n",
    "for row in A1:\n",
    "  column.append(row[0:2])   \n",
    "  #column.append(row[2])   \n",
    "\n",
    "print(\"3rd column =\", column)\n"
   ]
  },
  {
   "cell_type": "markdown",
   "metadata": {},
   "source": [
    "### Eigenvalues & Eigenvectoren"
   ]
  },
  {
   "cell_type": "markdown",
   "metadata": {
    "collapsed": true
   },
   "source": [
    "Covariance matrix (nog niet af)\n",
    "\n",
    "Covariantie = een parameter die bij 2 toevalsvariabelen aageeft in welke mate de beide toevalsvariabelen (lineair) met elkaar samenhangen. De covariantie geeft aan of, en indirect in welke mate, de waarden van de ene variabelen af of toe neemt bij toenemende waarde van de andere. Covariantie is iets anders dan de correlatiecoëfficiënt. De correlatiecoëfficiënt geeft aan in hoeverre sprake is van lineaire samenhang en geeft direct de sterkste van de samenhang aan. Deze coëfficiënt is niet afhankelijk van de schaal. \n"
   ]
  },
  {
   "cell_type": "code",
   "execution_count": null,
   "metadata": {
    "collapsed": true
   },
   "outputs": [],
   "source": []
  }
 ],
 "metadata": {
  "kernelspec": {
   "display_name": "Python 3",
   "language": "python",
   "name": "python3"
  },
  "language_info": {
   "codemirror_mode": {
    "name": "ipython",
    "version": 3
   },
   "file_extension": ".py",
   "mimetype": "text/x-python",
   "name": "python",
   "nbconvert_exporter": "python",
   "pygments_lexer": "ipython3",
   "version": "3.6.1"
  }
 },
 "nbformat": 4,
 "nbformat_minor": 2
}

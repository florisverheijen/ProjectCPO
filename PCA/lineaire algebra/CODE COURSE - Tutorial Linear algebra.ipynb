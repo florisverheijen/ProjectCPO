{
 "cells": [
  {
   "cell_type": "markdown",
   "metadata": {},
   "source": [
    "# CODE COURSE - Tutorial Linear algebra.\n",
    "---"
   ]
  },
  {
   "cell_type": "markdown",
   "metadata": {},
   "source": [
    " This tutorial will explain in a interactive way the tools you need to be able to start with PCA and clustering. This tutorial is specified on the tools you need of linear algebra. "
   ]
  },
  {
   "cell_type": "markdown",
   "metadata": {},
   "source": [
    "## Contents of the tutorial\n",
    "1. Vector and matrix operations\n",
    "    * Basics\n",
    "    * Vector addition \n",
    "    * Vector scalar multiplication\n",
    "    * Matrix summation\n",
    "    * Matrix multiplication\n",
    "    * Transpose matrix \n",
    "    * Query matrix index\n",
    "    * Exercises\n",
    "2. Eigenvecotoren & eigenvalues\n",
    "    * Definitions \n",
    "    * The calculation of eigenvalues and eigenvectoren in python\n",
    "    * Exercises\n",
    "3. Transformation  \n",
    "4. Innerproduct, length and orthogonality \n",
    "5. Covariance matrix \n"
   ]
  },
  {
   "cell_type": "markdown",
   "metadata": {},
   "source": [
    "\n",
    "<div class=\"alert alert-info\" role=\"alert\" style=\"height:10px;padding:0px;margin-bottom:-20px\"></div>\n",
    "\n",
    "### 1. Vector and matrix operations\n",
    "\n",
    "<div class=\"alert alert-info\" role=\"alert\" style=\"height:10px;padding:0px;margin-top:5px;\"></div>\n",
    "\n",
    "#### 1.2 Basics"
   ]
  },
  {
   "cell_type": "markdown",
   "metadata": {},
   "source": [
    "Vector and matric operations are important due to you need them by the calculations of the eigenvectors, eigenvalues and transformations. <br/>\n",
    "Firstly, you have to import Numpy. Numpy is a Python pakket which makes it easy to use matrices. <br>\n",
    "If you want to learn more about the Python package Numpy you can use this link. https://www.w3resource.com/python-exercises/numpy/index.php\n",
    "\n",
    "\n"
   ]
  },
  {
   "cell_type": "code",
<<<<<<< HEAD
   "execution_count": 3,
=======
   "execution_count": 1,
>>>>>>> 20e37ad5b4669aeb9f46998c6109922500a65a56
   "metadata": {
    "collapsed": true
   },
   "outputs": [],
   "source": [
    " import numpy as np"
   ]
  },
  {
   "cell_type": "markdown",
   "metadata": {},
   "source": [
    "Secondly, you have to know how you make a matrix in python. You can do this with **np.array()**.With the function print(a) you can see the matrix you made."
   ]
  },
  {
   "cell_type": "code",
   "execution_count": 2,
   "metadata": {},
   "outputs": [
    {
     "name": "stdout",
     "output_type": "stream",
     "text": [
      "This is matrix A.\n",
      "[[1.1 2.  3. ]\n",
      " [3.  4.  5. ]]\n"
     ]
    }
   ],
   "source": [
    "A = np.array([[1.1, 2, 3], [3, 4, 5]])\n",
    "print('This is matrix A.')\n",
    "print(A) "
   ]
  },
  {
   "cell_type": "markdown",
   "metadata": {},
   "source": [
    "You can also use the following code; **np.mat()**"
   ]
  },
  {
   "cell_type": "code",
   "execution_count": 3,
   "metadata": {},
   "outputs": [
    {
     "name": "stdout",
     "output_type": "stream",
     "text": [
      "This is matrix B.\n",
      "[[1.1 2.  3. ]\n",
      " [3.  4.  5. ]]\n"
     ]
    }
   ],
   "source": [
    "B = np.mat(\"1.1 2 3;3 4 5\")\n",
    "print('This is matrix B.')\n",
    "print(B) "
   ]
  },
  {
   "cell_type": "markdown",
   "metadata": {},
   "source": [
    "Matrices could be in integers, floats and complex numbers. Same examples are given below."
   ]
  },
  {
   "cell_type": "code",
   "execution_count": 4,
   "metadata": {},
   "outputs": [
    {
     "name": "stdout",
     "output_type": "stream",
     "text": [
      "This is matrix C.\n",
      "[[1 2 3]\n",
      " [3 4 5]]\n",
      "This is matrix D.\n",
      "[[1.1 2.  3. ]\n",
      " [3.  4.  5. ]]\n",
      "This is matrix E.\n",
      "[[1.+0.j 2.+0.j 3.+0.j]\n",
      " [3.+0.j 4.+0.j 5.+0.j]]\n"
     ]
    }
   ],
   "source": [
    "C = np.array([[1, 2, 3], [3, 4, 5]])\n",
    "print('This is matrix C.')\n",
    "print(C) \n",
    "D = np.array([[1.1, 2, 3], [3, 4, 5]]) # Array of floats\n",
    "print('This is matrix D.')\n",
    "print(D) \n",
    "E = np.array([[1, 2, 3], [3, 4, 5]], dtype = complex) # Array of complex numbers\n",
    "print('This is matrix E.')\n",
    "print(E)"
   ]
  },
  {
   "cell_type": "code",
   "execution_count": 7,
   "metadata": {
    "collapsed": true
   },
   "outputs": [],
   "source": [
    "from IPython.display import display, Math, Latex\n"
   ]
  },
  {
   "cell_type": "markdown",
   "metadata": {
    "collapsed": true
   },
   "source": [
    "#### 1.2 Vector addition\n",
    "This is a very simple operation which you have learn during the linear algebra courses. You make a vector the same way as you make a matrix. The only difference is that you have only one row."
   ]
  },
  {
   "cell_type": "code",
   "execution_count": 8,
   "metadata": {},
   "outputs": [
    {
     "name": "stdout",
     "output_type": "stream",
     "text": [
      "This is vector C.\n",
      "[11  1]\n"
     ]
    }
   ],
   "source": [
    "A = np.array([2, 4])\n",
    "B = np.array([9, -3])\n",
    "C = A + B  \n",
    "print('This is vector C.')\n",
    "print(C)"
   ]
  },
  {
   "cell_type": "markdown",
   "metadata": {},
   "source": [
    "#### 1.3 Vector scalar multiplication\n",
    "It is also possible to multiply the vector with a scalar. You have to use the following code\n"
   ]
  },
  {
   "cell_type": "code",
   "execution_count": 9,
   "metadata": {},
   "outputs": [
    {
     "name": "stdout",
     "output_type": "stream",
     "text": [
      "This is vector B.\n",
      "[ 8 16]\n"
     ]
    }
   ],
   "source": [
    "A = np.array([2, 4])\n",
    "B = 4*A\n",
    "print('This is vector B.')\n",
    "print(B)\n"
   ]
  },
  {
   "cell_type": "markdown",
   "metadata": {},
   "source": [
    "#### 1.4 Matrix summation \n",
    "Now you know how do operations with vectors, we could make the step to matrices. You could also sum matrices with eachother."
   ]
  },
  {
   "cell_type": "code",
   "execution_count": 10,
   "metadata": {},
   "outputs": [
    {
     "name": "stdout",
     "output_type": "stream",
     "text": [
      "[[11  1]\n",
      " [ 8  0]]\n"
     ]
    }
   ],
   "source": [
    "A = np.array([[2, 4], [5, -6]])\n",
    "B = np.array([[9, -3], [3, 6]])\n",
    "C = A + B  \n",
    "print(C)"
   ]
  },
  {
   "cell_type": "markdown",
   "metadata": {},
   "source": [
    "#### 1.5 Matrix multiplication\n",
    "If A is an m×n matrix, and if B is an n×p matrix with columns b<sub>1</sub>, . . . , b<sub>p</sub>, <br/>\n",
    "then the product AB is the m×p matrix whose columns are A<sub>b1</sub>, . . . , A<sub>bp</sub>. <br/>\n",
    "You have to use **.dot()** to multiply two or more matrixes with eachother"
   ]
  },
  {
   "cell_type": "code",
   "execution_count": 11,
   "metadata": {},
   "outputs": [
    {
     "name": "stdout",
     "output_type": "stream",
     "text": [
      "[[ 36 -12]\n",
      " [ -1   2]]\n"
     ]
    }
   ],
   "source": [
    "A = np.array([[3, 6, 7], [5, -3, 0]])\n",
    "B = np.array([[1, 1], [2, 1], [3, -3]])\n",
    "AB = A.dot(B)\n",
    "print(AB)"
   ]
  },
  {
   "cell_type": "code",
   "execution_count": 18,
   "metadata": {},
   "outputs": [
    {
     "name": "stdout",
     "output_type": "stream",
     "text": [
      "[[ 3  6  7]\n",
      " [ 5 -3  0]]\n",
      "[[ 60.  12.  40.]\n",
      " [  9.  -6.   3.]]\n"
     ]
    }
   ],
   "source": [
    "from numpy.linalg import multi_dot\n",
    "A = np.array([[3, 6, 7], [5, -3, 0]])\n",
    "B = np.array([[1, 1, 1], [2, 1, 1], [3, -3, 1]])\n",
    "C = np.array([[1, 2., 1], [2, 1, 1], [3, -3, 1]])\n",
    "ABC = multi_dot([A, B, C])\n",
    "#AB = B.dot(C)\n",
    "#ABC= AB.dot(A)\n",
    "ABC2 =  A.dot(B).dot(C)\n",
    "print(A)\n",
    "print(ABC2)"
   ]
  },
  {
   "cell_type": "markdown",
   "metadata": {},
   "source": [
    "#### 1.6 Transpose matrix \n",
    "Given an m×n matrix A, the transpose of A is the n×m matrix, denoted by A<sup>T</sup> ,\n",
    "whose columns are formed from the corresponding rows of A. <br/> \n",
    "The transpose matrix could be calculated with the use of **.transpose()**.\n",
    "```python\n",
    "    A = np.array([[1, 1], [2, 1], [3, -3]])\n",
    "    print(A.transpose())\n",
    "```\n",
    "\n"
   ]
  },
  {
   "cell_type": "markdown",
   "metadata": {},
   "source": [
    "#### 1.7 Query matrix index\n",
    "With index it is possible to select specific indices out of the matrix. \n"
   ]
  },
  {
   "cell_type": "code",
   "execution_count": 14,
   "metadata": {},
   "outputs": [
    {
     "name": "stdout",
     "output_type": "stream",
     "text": [
      "A[1][2] = 9\n",
      "A[0] = [ 1  4  5 12]\n",
      "3rd column = [5, 9, 11]\n"
     ]
    }
   ],
   "source": [
    "A = np.array([[1, 4, 5, 12],\n",
    "            [-5, 8, 9, 0],\n",
    "            [-6, 7, 11, 19]])\n",
    "print(\"A[1][2] =\", A[1][2]) # Third element\n",
    "print(\"A[0] =\", A[0]) # First Row\n",
    "    \n",
    "column = [];        # empty list\n",
    "for row in A:\n",
    "    column.append(row[2])   \n",
    "print(\"3rd column =\", column) # the thrid column"
   ]
  },
  {
   "cell_type": "markdown",
   "metadata": {},
   "source": [
    "#### 1.8 Exercises"
   ]
  },
  {
   "cell_type": "markdown",
   "metadata": {},
   "source": [
    "**1.8.1** Calculate the sum of the following vectors: <br>\n",
    "$ A = \\left[ \\begin{array}{ccc} 11\\\\ 1\\end{array} \\right]$,\n",
    "$ B = \\left[ \\begin{array}{ccc} -8\\\\ 10\\end{array} \\right]$, \n",
    "$ C = \\left[ \\begin{array}{ccc} 11.1\\\\ 1\\end{array} \\right]$ \n",
    "\n",
    "\n"
   ]
  },
  {
   "cell_type": "code",
   "execution_count": 13,
   "metadata": {
    "collapsed": true
   },
   "outputs": [],
   "source": [
    "#code....."
   ]
  },
  {
   "cell_type": "markdown",
   "metadata": {},
   "source": [
    "**1.8.2** Perform a vector-matrix multiplication with the following vector $ A = \\left[ \\begin{array}{ccc} 6\\\\ 1\\end{array} \\right]$ and matrix $ B = \\left[ \\begin{array}{ccc} -8 & 10 & 11\\\\ 8 & 10 & 56\\end{array} \\right]$. "
   ]
  },
  {
   "cell_type": "code",
   "execution_count": null,
   "metadata": {
    "collapsed": true
   },
   "outputs": [],
   "source": [
    "#code...."
   ]
  },
  {
   "cell_type": "markdown",
   "metadata": {},
   "source": [
    "**1.8.3** Calculate the multiplication of the following three matrices; <br>\n",
    "$ A = \\left[ \\begin{array}{ccc} -8 & 10 & 11\\\\ 8 & 10 & 56\\end{array} \\right]$ <br> <br>\n",
    "$ B = \\left[ \\begin{array}{ccc} -7 & 17 & 3\\\\ 5 & 10 & 5\\end{array} \\right]$ <br> <br>\n",
    "$ C = \\left[ \\begin{array}{ccc} -9 & 3 & 11\\\\ 17 & 11 & 6\\end{array} \\right]$ <br> <br>"
   ]
  },
  {
   "cell_type": "code",
   "execution_count": null,
   "metadata": {
    "collapsed": true
   },
   "outputs": [],
   "source": [
    "#code...."
   ]
  },
  {
   "cell_type": "markdown",
   "metadata": {},
   "source": [
    "**1.8.4** Given is a matrix $ A = \\left[ \\begin{array}{ccc} 2 & 3 & 11\\\\ 4 & 5 & 56 \\\\ 6 & 7 & 45 \\end{array} \\right]$. Calculate the transpose of this reduced matrix. Secondly, select the second row of the matrix.\n"
   ]
  },
  {
   "cell_type": "code",
   "execution_count": 59,
   "metadata": {
    "collapsed": true
   },
   "outputs": [],
   "source": [
    "#code...."
   ]
  },
  {
   "cell_type": "markdown",
   "metadata": {},
   "source": [
    "<div class=\"alert alert-info\" role=\"alert\" style=\"height:10px;padding:0px;margin-bottom:-20px\"></div>\n",
    "\n",
    "### 2.  Eigenvalues & Eigenvectoren\n",
    "\n",
    "<div class=\"alert alert-info\" role=\"alert\" style=\"height:10px;padding:0px;margin-top:5px;\"></div>"
   ]
  },
  {
   "cell_type": "markdown",
   "metadata": {},
   "source": [
    "#### 2.1 Definitions\n",
    "\n",
    "It is important to understand the terms eigenvalue and eigenvector, because they are the basis of PCA.<br>\n",
    "An eigenvector of a matrix A<sub>mxn</sub> is a **nonzero** vecotr x such that: \n",
    "### A$\\bullet$X = $\\lambda$X \n",
    "for some scalar $\\lambda$ <br>\n",
    "A scalar $\\lambda$ is called an eigenvalues of A if there is **nontrival** solution x of **A$\\bullet$X = $\\lambda$X**; such an eigenvector corresponding to $\\lambda$\n",
    "<br><br>\n",
    "It is easy to determine if a given vector is an eigenvector of a matrix. <br> \n",
    "**Example 1** <br>\n",
    "let $ A = \\left[ \\begin{array}{ccc} 1 & 6\\\\ 5 & 2 \\end{array} \\right]$, $ u = \\left[ \\begin{array}{ccc} 6\\\\ -5 \\end{array} \\right]$ and  $ v = \\left[ \\begin{array}{ccc} 3\\\\ -2 \\end{array} \\right]$. Are u and v eigenvectoren of A?<br>\n",
    "**Calculation**<br>\n",
    "    Au = $\\left[ \\begin{array}{ccc} 1 & 6\\\\ 5 & 2 \\end{array} \\right]$ $\\left[ \\begin{array}{ccc} 6\\\\ -5 \\end{array} \\right]$ = $\\left[ \\begin{array}{ccc} -24\\\\ 20 \\end{array} \\right]$ = $-4$$\\left[ \\begin{array}{ccc} 6\\\\ -5 \\end{array} \\right]$ = $-4u$ <br>\n",
    "    Av = $\\left[ \\begin{array}{ccc} 1 & 6\\\\ 5 & 2 \\end{array} \\right]$ $\\left[ \\begin{array}{ccc} 3\\\\ -2 \\end{array} \\right]$ = $\\left[ \\begin{array}{ccc} -9\\\\ 11 \\end{array} \\right]$ $\\neq$ $\\lambda$ $\\left[ \\begin{array}{ccc} 3\\\\ -2 \\end{array} \\right]$ = $-4u$\n",
    "\n",
    "Thus u is an eigenvector corresponding to an eigenvalue (-4), but v is not an eigenvector of A, <br> \n",
    "because Av is not a multiple of v. <br> \n",
    "\n",
    "It is also easy to decide if a specified scalar is an eigenvalue. <br>\n",
    "**Example 2** <br>\n",
    "Show that scalar 7 is an eigenvalue of A in example 1, and find the corresponding eigenvectors. <br>\n",
    "**Calculation** <br>\n",
    "The scalar 7 is an eigenvector of A if and only if equation A$\\bullet$X = 7X has a nontrival solution. <br>\n",
    "This equation is equal to Ax - 7x = 0, or (A-7I)x =0 <br>\n",
    "To solve this equation, from the matrix\n",
    "A - 7I =  $\\left[ \\begin{array}{ccc} 1 & 6\\\\ 5 & 2 \\end{array} \\right]$ $-$ $\\left[ \\begin{array}{ccc} 7 & 0\\\\ 0 & 7 \\end{array} \\right]$ =  $\\left[ \\begin{array}{ccc} -6 & 6\\\\ 5 & -5 \\end{array} \\right]$\n",
    "The columns of A-7I are obviously linearly dependent, so has nontrivial solution. Thus 7 is an eigenvalue of A. To find the corresponding eigenvectors, use row operations. \n",
    "\n",
    "$\\left[ \\begin{array}{ccc} -6 & 6 & 0\\\\ 5 & -5 & 0\\end{array} \\right]$ $\\sim$ $\\left[ \\begin{array}{ccc} 1 & -1 & 0\\\\ 0 & 0 & 0 \\end{array} \\right]$\n",
    "\n",
    "(If you want to know the code which you can use for row reduction, have a look at the cell below.)\n",
    "The general solution has the form x<sub>2</sub> $\\left[ \\begin{array}{ccc} 1\\\\ 1 \\end{array} \\right]$. Each vector of this form with x<sub>2</sub> $\\neq$ 0 is an eigenvector corresponding to $\\lambda$ = 7.\n",
    "\n",
    "    \n"
   ]
  },
  {
   "cell_type": "code",
   "execution_count": 4,
   "metadata": {},
   "outputs": [
    {
     "name": "stdout",
     "output_type": "stream",
     "text": [
      "(Matrix([\n",
      "[1, -1, 0],\n",
      "[0,  0, 0]]), (0,))\n"
     ]
    }
   ],
   "source": [
    "# the code for row reduction\n",
    "from sympy import *\n",
    "A = np.array([[-6, 6, 0],\n",
    "            [5, -5, 0]])\n",
    "\n",
    "reduced_A = Matrix(A).rref()\n",
    "print(reduced_A)"
   ]
  },
  {
   "cell_type": "markdown",
   "metadata": {},
   "source": [
    "#### 2.2 The calculation of eigenvalues and eigenvectoren in python"
   ]
  },
  {
   "cell_type": "markdown",
   "metadata": {},
   "source": [
    "The function **numpy.linalg.eig** computes eigenvalues and eigenvectors of a square matrix A. you have to import it before you can use it."
   ]
  },
  {
   "cell_type": "code",
   "execution_count": 85,
   "metadata": {
    "collapsed": true
   },
   "outputs": [],
   "source": [
    "import numpy as np\n",
    "import matplotlib.pyplot as plt\n",
    "import numpy.linalg as la"
   ]
  },
  {
   "cell_type": "markdown",
   "metadata": {},
   "source": [
    "Let's consider a simple example with a diagonal matrix:"
   ]
  },
  {
   "cell_type": "code",
   "execution_count": 110,
   "metadata": {},
   "outputs": [
    {
     "name": "stdout",
     "output_type": "stream",
     "text": [
      "[[ 3 -2]\n",
      " [ 1  0]]\n"
     ]
    }
   ],
   "source": [
    "A = np.array([[3,-2],[1,0]])\n",
    "print(A)"
   ]
  },
  {
   "cell_type": "markdown",
   "metadata": {},
   "source": [
    "The function **la.eig** returns a tuple (eigvals,eigvecs) where eigvals is a 1D NumPy array of complex numbers giving the eigenvalues of A, and eigvecs is a 2D NumPy array with the corresponding eigenvectors in the columns:"
   ]
  },
  {
   "cell_type": "code",
   "execution_count": 111,
   "metadata": {},
   "outputs": [
    {
     "name": "stdout",
     "output_type": "stream",
     "text": [
      "(array([ 2.,  1.]), array([[ 0.89442719,  0.70710678],\n",
      "       [ 0.4472136 ,  0.70710678]]))\n"
     ]
    }
   ],
   "source": [
    "results = la.eig(A)\n",
    "print(results)\n"
   ]
  },
  {
   "cell_type": "markdown",
   "metadata": {},
   "source": [
    "With the following code you get the eigenvalues and eigenvectors separately."
   ]
  },
  {
   "cell_type": "code",
   "execution_count": 112,
   "metadata": {},
   "outputs": [
    {
     "name": "stdout",
     "output_type": "stream",
     "text": [
      "The eigenvalues of A are [ 2.  1.]\n",
      "The corresponding eigenvectors are [[ 0.89442719  0.70710678]\n",
      " [ 0.4472136   0.70710678]]\n"
     ]
    }
   ],
   "source": [
    "print(\"The eigenvalues of A are\", results[0])\n",
    "print(\"The corresponding eigenvectors are\", results[1])"
   ]
  },
  {
   "cell_type": "markdown",
   "metadata": {},
   "source": [
    "It is also possible to split the eigenvectors and eigenvalues immediately"
   ]
  },
  {
   "cell_type": "code",
   "execution_count": 113,
   "metadata": {},
   "outputs": [
    {
     "name": "stdout",
     "output_type": "stream",
     "text": [
      "[ 2.  1.]\n",
      "[[ 0.89442719  0.70710678]\n",
      " [ 0.4472136   0.70710678]]\n"
     ]
    }
   ],
   "source": [
    "eigenvalues, eigenvectors = la.eig(A)\n",
    "print(eigenvalues)\n",
    "print(eigenvectors)"
   ]
  },
  {
   "cell_type": "markdown",
   "metadata": {},
   "source": [
    "\n",
    "\n",
    "#### 2.3 Excercises \n"
   ]
  },
  {
   "cell_type": "markdown",
   "metadata": {},
   "source": [
    "**2.3.1** Compute the eigenvalues and the corresponding eigenvectors of the given matrix $A = \\left[ \\begin{array}{ccc} 1 & 2 & 3\\\\ 4 & 5 & 6 \\\\ 7 & 8 & 9 \\end{array} \\right]$."
   ]
  },
  {
   "cell_type": "code",
   "execution_count": 108,
   "metadata": {
    "collapsed": true
   },
   "outputs": [],
   "source": [
    "##mogelijk nog een filmpje met extra uitleg hier toevoegen"
   ]
  },
  {
   "cell_type": "markdown",
   "metadata": {},
   "source": [
    "<div class=\"alert alert-info\" role=\"alert\" style=\"height:10px;padding:0px;margin-bottom:-20px\"></div>\n",
    "\n",
    "### 3. Transformations\n",
    "\n",
    "<div class=\"alert alert-info\" role=\"alert\" style=\"height:10px;padding:0px;margin-top:5px;\"></div>"
   ]
  },
  {
   "cell_type": "markdown",
   "metadata": {},
   "source": [
    "#### 3.1 Definition\n",
    "\n",
    "A transformation T from $\\mathbb{R}$<sup>n</sup> to $\\mathbb{R}$<sup>m</sup> is a rule that assigns to each vector x in $\\mathbb{R}$<sup>n</sup> a vector T(x) in <br> $\\mathbb{R}$<sup>m</sup>. The set $\\mathbb{R}$<sup>n</sup> is called the domain of T, and $\\mathbb{R}$<sup>m</sup> is called the codomain of T. <br> The notation T: $\\mathbb{R}$<sup>n</sup> $ \\longrightarrow$  $\\mathbb{R}$<sup>m</sup> indicates that the domain of T is $\\mathbb{R}$<sup>n</sup> and the codomain is $\\mathbb{R}$<sup>m</sup>. For x in $\\mathbb{R}$<sup>n</sup>, the vector T(x) is called the image of x (under the action of T). The set of all images T(x) is called the range of T. <br>\n",
    "<img src=\"picture_transformation.PNG\" /> <br>\n",
    "So, with a transformation you have a matrix A that you multiply by a vector x which lead to a transformation of the vector x in b. <br>\n",
    "<img src=\"picture_transformation2.PNG\" /> <br>\n",
    "\n",
    "#### 3.2 Examples\n",
    "To get a transformation more gain insight we will give same examples.\n",
    "#### hier nog wat toevoegen. overleggen in vergadering\n",
    "\n"
   ]
  },
  {
   "cell_type": "code",
   "execution_count": 158,
   "metadata": {},
   "outputs": [
    {
     "data": {
      "image/png": "iVBORw0KGgoAAAANSUhEUgAAAYYAAAD8CAYAAABzTgP2AAAABHNCSVQICAgIfAhkiAAAAAlwSFlz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\n",
      "text/plain": [
       "<matplotlib.figure.Figure at 0x1f4f2d7f400>"
      ]
     },
     "metadata": {},
     "output_type": "display_data"
    }
   ],
   "source": [
    "import numpy as np\n",
    "import matplotlib.pyplot as plt\n",
    "\n",
    "V = np.array([[3,5]])\n",
    "origin = [0], [0] # origin point\n",
    "\n",
    "plt.quiver(*origin, V[:,0], V[:,1], color=['b'] , scale=50)\n",
    "\n",
    "\n",
    "W = 3*V\n",
    "\n",
    "plt.quiver(*origin, W[:,0], W[:,1], color=['r'] , scale=50)\n",
    "\n",
    "\n",
    "Z= -1*V\n",
    "\n",
    "plt.quiver(*origin, Z[:,0], Z[:,1], color=['g'] , scale=50)\n",
    "plt.show()\n"
   ]
  },
  {
   "cell_type": "code",
   "execution_count": 161,
   "metadata": {},
   "outputs": [
    {
     "data": {
      "image/png": "iVBORw0KGgoAAAANSUhEUgAAAYYAAAD8CAYAAABzTgP2AAAABHNCSVQICAgIfAhkiAAAAAlwSFlz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\naGfH5gAAAABJRU5ErkJggg==\n",
      "text/plain": [
       "<matplotlib.figure.Figure at 0x1f4f3697f28>"
      ]
     },
     "metadata": {},
     "output_type": "display_data"
    }
   ],
   "source": [
    "V = np.array([[3,5],[5,5]])\n",
    "origin = [0], [0] # origin point\n",
    "\n",
    "plt.quiver(*origin, V[:,0], V[:,1], color=['b'] , scale=50)\n",
    "\n",
    "\n",
    "W = 3*V\n",
    "\n",
    "plt.quiver(*origin, W[:,0], W[:,1], color=['r'] , scale=50)\n",
    "\n",
    "\n",
    "Z= -1*V\n",
    "\n",
    "plt.quiver(*origin, Z[:,0], Z[:,1], color=['g'] , scale=50)\n",
    "plt.show()"
   ]
  },
  {
   "cell_type": "code",
   "execution_count": 185,
   "metadata": {},
   "outputs": [
    {
     "data": {
      "text/plain": [
       "[<mpl_toolkits.mplot3d.art3d.Line3D at 0x1f4f3286cf8>]"
      ]
     },
     "execution_count": 185,
     "metadata": {},
     "output_type": "execute_result"
    },
    {
     "data": {
      "image/png": "iVBORw0KGgoAAAANSUhEUgAAAWQAAADuCAYAAAAOR30qAAAABHNCSVQICAgIfAhkiAAAAAlwSFlz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\n",
      "text/plain": [
       "<matplotlib.figure.Figure at 0x1f4f32b02e8>"
      ]
     },
     "metadata": {},
     "output_type": "display_data"
    }
   ],
   "source": [
    "from mpl_toolkits import mplot3d\n",
    "%matplotlib inline\n",
    "import numpy as np\n",
    "import matplotlib.pyplot as plt\n",
    "fig = plt.figure()\n",
    "ax = plt.axes(projection='3d')\n",
    "\n",
    "V = np.array([[1,1,10]])\n",
    "#ax.quiver(*origin, V[:,0], V[:,1], color=['b'] , scale=50)\n",
    "\n",
    "ax.plot3D(V[:,0],V[:,1],V[:,2])\n"
   ]
  },
  {
   "cell_type": "markdown",
   "metadata": {},
   "source": [
    "#### 3.3 Excercises "
   ]
  },
  {
   "cell_type": "markdown",
   "metadata": {},
   "source": [
    "**3.3.1** Calculate the transformation....."
   ]
  },
  {
   "cell_type": "code",
   "execution_count": null,
   "metadata": {
    "collapsed": true
   },
   "outputs": [],
   "source": [
    "#code....."
   ]
  },
  {
   "cell_type": "markdown",
   "metadata": {},
   "source": [
    "**3.3.2** nog maken"
   ]
  },
  {
   "cell_type": "code",
   "execution_count": null,
   "metadata": {
    "collapsed": true
   },
   "outputs": [],
   "source": [
    "#code....."
   ]
  },
  {
   "cell_type": "code",
   "execution_count": 89,
   "metadata": {},
   "outputs": [
    {
     "name": "stdout",
     "output_type": "stream",
     "text": [
      "[[0 1]\n",
      " [0 1]]\n"
     ]
    },
    {
     "ename": "AttributeError",
     "evalue": "module 'plotly.graph_objs' has no attribute 'FigureWidget'",
     "output_type": "error",
     "traceback": [
      "\u001b[1;31m---------------------------------------------------------------------------\u001b[0m",
      "\u001b[1;31mAttributeError\u001b[0m                            Traceback (most recent call last)",
      "\u001b[1;32m<ipython-input-89-2c16abf2ec91>\u001b[0m in \u001b[0;36m<module>\u001b[1;34m()\u001b[0m\n\u001b[0;32m      4\u001b[0m \u001b[0mprint\u001b[0m\u001b[1;33m(\u001b[0m\u001b[0mA\u001b[0m\u001b[1;33m)\u001b[0m\u001b[1;33m\u001b[0m\u001b[0m\n\u001b[0;32m      5\u001b[0m \u001b[1;33m\u001b[0m\u001b[0m\n\u001b[1;32m----> 6\u001b[1;33m \u001b[1;32mimport\u001b[0m \u001b[0mplotly\u001b[0m\u001b[1;33m.\u001b[0m\u001b[0mgraph_objects\u001b[0m \u001b[1;32mas\u001b[0m \u001b[0mgo\u001b[0m\u001b[1;33m\u001b[0m\u001b[0m\n\u001b[0m\u001b[0;32m      7\u001b[0m \u001b[1;33m\u001b[0m\u001b[0m\n\u001b[0;32m      8\u001b[0m \u001b[0mfig\u001b[0m \u001b[1;33m=\u001b[0m \u001b[0mgo\u001b[0m\u001b[1;33m.\u001b[0m\u001b[0mFigure\u001b[0m\u001b[1;33m(\u001b[0m\u001b[1;33m)\u001b[0m\u001b[1;33m\u001b[0m\u001b[0m\n",
      "\u001b[1;32mC:\\ProgramData\\Anaconda3\\lib\\site-packages\\plotly\\graph_objects.py\u001b[0m in \u001b[0;36m<module>\u001b[1;34m()\u001b[0m\n\u001b[0;32m      1\u001b[0m \u001b[1;32mfrom\u001b[0m \u001b[0m__future__\u001b[0m \u001b[1;32mimport\u001b[0m \u001b[0mabsolute_import\u001b[0m\u001b[1;33m\u001b[0m\u001b[0m\n\u001b[1;32m----> 2\u001b[1;33m \u001b[1;32mfrom\u001b[0m \u001b[0mplotly\u001b[0m\u001b[1;33m.\u001b[0m\u001b[0mgraph_objs\u001b[0m \u001b[1;32mimport\u001b[0m \u001b[1;33m*\u001b[0m\u001b[1;33m\u001b[0m\u001b[0m\n\u001b[0m\u001b[0;32m      3\u001b[0m \u001b[1;33m\u001b[0m\u001b[0m\n\u001b[0;32m      4\u001b[0m __all__ = [\n\u001b[0;32m      5\u001b[0m     \u001b[1;34m\"AngularAxis\"\u001b[0m\u001b[1;33m,\u001b[0m\u001b[1;33m\u001b[0m\u001b[0m\n",
      "\u001b[1;31mAttributeError\u001b[0m: module 'plotly.graph_objs' has no attribute 'FigureWidget'"
     ]
    }
   ],
   "source": [
    "#aan het uitproberen\n",
    "A = np.array([[0, 1],\n",
    "                  [0,1]])\n",
    "print(A)\n",
    "\n",
    "import plotly.graph_objects as go\n",
    "\n",
    "fig = go.Figure()\n",
    "fig.add_trace(go.Scatter(x=[1, 2, 3, 4], y=[0, 2, 3, 5], fill='tozeroy',\n",
    "                    mode='none' # override default markers+lines\n",
    "                    ))\n",
    "fig.add_trace(go.Scatter(x=[1, 2, 3, 4], y=[3, 5, 1, 7], fill='tonexty',\n",
    "                    mode= 'none'))\n",
    "\n",
    "fig.show()\n",
    "                    "
   ]
  },
  {
   "cell_type": "markdown",
   "metadata": {},
   "source": [
    "<div class=\"alert alert-info\" role=\"alert\" style=\"height:10px;padding:0px;margin-bottom:-20px\"></div>\n",
    "\n",
    "###  4. Inner product, length and orthogonality\n",
    "\n",
    "<div class=\"alert alert-info\" role=\"alert\" style=\"height:10px;padding:0px;margin-top:5px;\"></div>\n",
    "\n",
    "\n",
    "### Inner product\n",
    "#### 4.1.1 Definition\n",
    "If $\\mathbf{u}$ and $\\mathbf{v}$ are vectors in $\\mathbb{R}$<sup>n</sup> , then we regard $\\mathbf{u}$ and $\\mathbf{v}$ as *n x 1* matrices. The transpose $\\mathbf{u}$<sup>*T*</sup> is a *1 x n* matrix, and the matrix product $\\mathbf{u}$<sup>*T*</sup>$\\mathbf{v}$ is a *1 x 1* matrix, which we write as a single real number (a scalar) without brackets. The number $\\mathbf{u}$<sup>*T*</sup>$\\mathbf{v}$ is called the **inner product** of $\\mathbf{u}$ and $\\mathbf{v}$, and often it is written as $\\mathbf{u}\\cdot\\mathbf{v}$.\n",
    "\n",
    "$$ \\mathbf{u}= \\left[ \\begin{array}{c} u1 \\\\ u2 \\\\ \\vdots \\\\ un \\end{array} \\right] \\text{  and  } \\mathbf{ v}= \\left[ \\begin{array}{c} v1 \\\\ v2 \\\\ \\vdots \\\\ vn \\end{array} \\right]$$\n",
    "\n",
    "\n",
    "then the inner product of u and v is <br>\n",
    "$$\\mathbf{u}\\cdot\\mathbf{v} = \\mathbf{u}^T\\mathbf{v} =  \\left[ \\begin{array}{c} u1 & u2 & \\cdots & un \\end{array} \\right]  \\left[ \\begin{array}{c} v1 \\\\ v2 \\\\ \\vdots \\\\ vn \\end{array} \\right] = u_1v_1+u_2v_2+\\cdots+u_nv_n$$\n",
    "\n",
    "#### 4.1.2 Examples\n",
    "To calculate the inner product in Jupyter the following code can be used.<br>\n",
    "Ordinary inner product for vectors: \n",
    "```python\n",
    "A = np.array([1,2,3])\n",
    "B = np.array([0,1,0])\n",
    "np.inner(A, B)\n",
    "```\n",
    "A multidimensional example:\n",
    "```python\n",
    "a = np.arange(24).reshape((2,3,4))\n",
    "b = np.arange(4)\n",
    "np.inner(a, b)\n",
    "```\n",
    "### Lenght\n",
    "#### 4.2.1 Definition\n",
    "The length (or norm) of $\\mathbf{v}$ is the nonnegative scalar $\\parallel v \\parallel$ defined by <br>\n",
    "$$\\| v \\| = \\sqrt{v \\cdot v} = \\sqrt{v_1^2+v_2^2+\\cdots+vn^2} \\text{ and } \\parallel v \\parallel^2$= $v \\cdot v$$\n",
    "\n",
    "#### 4.2.2 Examples\n",
    "The magnitude of a vector can be calculate as follows.\n",
    "```python\n",
    "x = np.array([1,2,3,4,5])\n",
    "np.linalg.norm(x)\n",
    "#or   \n",
    "np.sqrt(x.dot(x))\n",
    "```\n",
    "\n",
    "### Orthogonality\n",
    "#### 4.3.1 Definition\n",
    "**Orthogonal vectors** <br>\n",
    "Two vectors $\\mathbf{A}$ and $\\mathbf{B}$ in $\\mathbb{R}$<sup>n</sup> are orthogonal (to each other) if $\\mathbf{A}\\cdot\\mathbf{B}$ =0\n",
    "meaning that two vector are perpendicular to which another.\n",
    "\n",
    "<img src=\"orthogonal.PNG\" /> <br>\n",
    "\n",
    "**Orthogonal** set<br>\n",
    "A set of vectors {$\\mathbf{u_1}, ... , \\mathbf{u_p}$} in $\\mathbb{R}$<sup>n</sup> is said to be an **orthogonal set** if each pair of distinct vectors from the set is orthogonal: $\\mathbf{u_i} \\cdot \\mathbf{v_j}$ = 0 whenever i≠j .\n",
    "\n",
    "**Example** <br>\n",
    "Show that {$\\mathbf{u_1},\\mathbf{u_2},\\mathbf{u_3}$} is an orthogonal set, where\n",
    "\n",
    "$$\\mathbf{u_1}=\\left[ \\begin{array}{c} 3 \\\\ 1 \\\\ \\ 1  \\end{array} \\right], \\mathbf{u_2}=\\left[ \\begin{array}{c} -1 \\\\ 2 \\\\ \\ 1  \\end{array} \\right], \\mathbf{u_3}=\\left[ \\begin{array}{c} -1/2 \\\\ -2 \\\\ \\ 7/2  \\end{array} \\right]$$\n",
    "\n",
    "**Solution** <br>\n",
    "Consider the three possible pairs of distinct vectors, namely, {$\\mathbf{u_1},\\mathbf{u_2}$}, {$\\mathbf{u_1},\\mathbf{u_3}$} and {$\\mathbf{u_2},\\mathbf{u_3}$}\n",
    "\n",
    "$\\mathbf{u_1},\\mathbf{u_2}= 3(-1)+1(2)+1(1)$ <br>\n",
    "$\\mathbf{u_1},\\mathbf{u_3}=3(-1/2)+1(-2)+1(7/2)$ <br>\n",
    "$\\mathbf{u_2},\\mathbf{u_3}=3(-1/2)+2(2)+1(7/2)$ <br>\n",
    "\n",
    "<img src=\"orthogonal_set1.PNG\" /> <br>"
   ]
  },
  {
   "cell_type": "markdown",
   "metadata": {},
   "source": [
    "<div class=\"alert alert-info\" role=\"alert\" style=\"height:10px;padding:0px;margin-bottom:-20px\"></div>\n",
    "\n",
    "###  5.Covariance and Mean\n",
    "\n",
    "<div class=\"alert alert-info\" role=\"alert\" style=\"height:10px;padding:0px;margin-top:5px;\"></div>\n",
    "\n",
    "#### 5.1 Definition\n",
    "Before the principal component analysis can be made the following concept need to be explain. The figure below is a scatter plot of a two-dimensional data and it's matrix  (weight and height of N college students). The $X_j$ denote is the **oberservation vector** in $\\mathbb{R}$<sup>2</sup> that lists the weight and height of the *j* th student.\n",
    "<img src=\"two-dimensional_scatter_plot.PNG\" /> <img src=\"observation_vector.PNG\" /> <br>\n",
    "\n",
    "The sample **mean, M**, of the observation vectors $X_1,\\cdots, X_N$ is given by <br>\n",
    "$$M=\\frac{1}{n}(X_1+ \\cdots+ X_n)$$\n",
    "\n",
    "For the data in the scatter plot above, the sample mean is the point in the “center” of the scatter plot.\n",
    "For $k =1, \\cdots,N$  let <br>\n",
    "$$\\hat{X_k}=X_k-M$$\n",
    "\n",
    "\n",
    "The columns of the *p x N* matrix <br>\n",
    "$$ \\mathbf{B}= \\left[ \\begin{array}{c} \\hat{X_1} & \\hat{X_2} & \\cdots & \\hat{X_n} \\end{array} \\right]$$\n",
    "\n",
    "have a zero sample mean, and B is said to be in mean-deviation form. When the sample mean is subtracted from the data in the Figure above, the resulting scatter plot has the form in the figure below.\n",
    "<img src=\"scatter_plot_center.PNG\" /> <br>\n",
    "\n",
    "The (sample) covariance matrix is the *p x p* matrix S defined by <br>\n",
    "$$S=\\frac{1}{N-1}BB^T$$\n",
    "\n",
    "#### 5.2 Example\n",
    "Three measurements are made on each of four individuals in a random\n",
    "sample from a population. The observation vectors are <br>\n",
    "$$\\mathbf{X_1}=\\left[ \\begin{array}{c} 1 \\\\ 2 \\\\  1  \\end{array} \\right], \\mathbf{X_2}=\\left[ \\begin{array}{c} 4 \\\\ 2 \\\\  13  \\end{array} \\right], \\mathbf{X_3}=\\left[ \\begin{array}{c} 7 \\\\ 8 \\\\  1  \\end{array} \\right],\n",
    "\\mathbf{X_4}=\\left[ \\begin{array}{c} 8 \\\\ 4 \\\\  5  \\end{array} \\right]$$ <br>\n",
    "Compute the sample mean and the covariance matrix.\n",
    "The sample mean is<br>\n",
    "$$M=\\frac{1}{4}\\left( \\begin{array}{c}\\left[ \\begin{array}{c} 1 \\\\ 2 \\\\  1  \\end{array} \\right] + \\left[ \\begin{array}{c} 4 \\\\ 2 \\\\  13  \\end{array} \\right] + \\left[ \\begin{array}{c} 7 \\\\ 8 \\\\  1  \\end{array} \\right] +\n",
    "\\left[ \\begin{array}{c} 8 \\\\ 4 \\\\  5  \\end{array} \\right] \\end{array} \\right) = \\frac{1}{4} \\left[ \\begin{array}{c} 20 \\\\ 16 \\\\  20  \\end{array} \\right] = \\left[ \\begin{array}{c} 5 \\\\ 4 \\\\  5  \\end{array} \\right]$$ <br>\n",
    "\n",
    "Subtract the sample mean from $X_1, \\cdots, X_4$ to obtain <br>\n",
    "$$\\mathbf{X_1}=\\left[ \\begin{array}{c} -4 \\\\ -2 \\\\  -4  \\end{array} \\right], \\mathbf{X_2}=\\left[ \\begin{array}{c} -1 \\\\ -2 \\\\  8  \\end{array} \\right], \\mathbf{X_3}=\\left[ \\begin{array}{c} 2 \\\\ 4 \\\\  -4  \\end{array} \\right],\n",
    "\\mathbf{X_4}=\\left[ \\begin{array}{c} 3 \\\\ 0 \\\\  0  \\end{array} \\right]$$ <br>\n",
    "and <br>\n",
    "$$ B = \\left[ \\begin{array}{cccc}  -4 & -1 & 2 & 3\\\\ -2 & -2 & 4 & 0 \\\\ -4 & 8 & -4 & 0  \\end{array} \\right]$$ <br>\n",
    "\n",
    "The sample covariance matrix is <br>\n",
    "$$ S = \\frac{1}{3}  \\left[ \\begin{array}{ccc}  -4 & -1 & 2 & 3\\\\ -2 & -2 & 4 & 0 \\\\ -4 & 8 & -4 & 0  \\end{array} \\right] \\left[ \\begin{array}{cccc}  -4 & -2 & 4\\\\ -1 & -2 & 8 \\\\ 2 & 4 & -4\\\\3 & 0 & 0  \\end{array} \\right] \\\\\n",
    "=\\frac{1}{3}  \\left[ \\begin{array}{ccc}  30 & 18 & 0\\\\ 18 & 24 & -24\\\\ 0 & -24 & 96  \\end{array} \\right] = \\left[ \\begin{array}{ccc}  10 & 6 & 0\\\\ 6 & 8 & -8\\\\ 0 & -8 & 32  \\end{array} \\right] $$\n",
    "\n",
    "For $j = 1, \\cdots,p$, the diagonal entry $s_{jj}$ in $S$ is called the **variance** of $x_j$ .\n",
    "The variance of $x_j$ measures the spread of the values of $x_j$ . In the Example , the variance of $x_1$ is 10 and the variance of $x_3$ is 32. The fact that 32 is more than 10 indicates that the set of third entries in the response vectors contains a wider spread of values than the set of first entries.<br> \n",
    "\n",
    "The **total variance** of the data is the sum of the variances on the diagonal of $S$. In general, the sum of the diagonal entries of a square matrix $S$ is called the **trace** of the\n",
    "matrix, written tr($S$) Thus <br>\n",
    "$$\\text{{total variance}} = tr(\\text{$S$})$$\n",
    "\n",
    "The entry $s_{ij}$ in $S$ for $i \\neq j$ is called the **covariance** ($cov$) of $x_i$ and $x_j$ . Observe that\n",
    "in the Example, the covariance between $x_1$ and $x_3$ is 0 because the (1, 3)-entry in $S$ is 0. Statisticians say that x1 and x3 are **uncorrelated**.\n",
    "If the variables are correlated in some way, then their covariance will be nonzero. In fact, if $cov_{i j}$ > 0, then  Y tends to increase as  X increases, and if $cov_{i j}$ < 0, then Y tends to decrease as X increases. However, the amount of correlation cannot be determined with covariance instead with correlationcoefficient.\n",
    "\n",
    "#### 5.3 code\n",
    "The function cov from numpy computes the Covaince Matrix.\n",
    "```python\n",
    "from numpy import array\n",
    "from numpy import mean\n",
    "from numpy import cov\n",
    "from numpy.linalg import eig\n",
    "# define a matrix\n",
    "A = array([[1, 2], [3, 4], [5, 6]])\n",
    "print(\"matrix=\",A)\n",
    "# calculate the mean of each column\n",
    "M = mean(A.T, axis=1)\n",
    "print(\"Mean=\",M)\n",
    "# center columns by subtracting column means\n",
    "C = A - M\n",
    "print(\"C=\",C)\n",
    "# calculate covariance matrix of centered matrix\n",
    "V = cov(C.T)\n",
    "print(\"covariance matrix=\",V)\n",
    "```\n"
   ]
  },
  {
   "cell_type": "markdown",
   "metadata": {},
   "source": [
    "<div class=\"alert alert-info\" role=\"alert\" style=\"height:10px;padding:0px;margin-bottom:-20px\"></div>\n",
    "\n",
    "### Excercises \n",
    "\n",
    "<div class=\"alert alert-info\" role=\"alert\" style=\"height:10px;padding:0px;margin-top:5px;\"></div>\n"
   ]
  },
  {
   "cell_type": "markdown",
   "metadata": {},
   "source": [
    "**1.1** Calculate the covariance matrix of two given arrays. \n",
    "Sample Output:\n",
    "Original array1:\n",
    "[0 1 2]\n",
    "Original array1:\n",
    "[2 1 0]"
   ]
  },
  {
   "cell_type": "code",
   "execution_count": null,
   "metadata": {
    "scrolled": false
   },
   "outputs": [],
   "source": [
    "\n"
   ]
  },
  {
   "cell_type": "markdown",
   "metadata": {},
   "source": [
    "**1.2** something with a graph..."
   ]
  },
  {
   "cell_type": "code",
   "execution_count": null,
   "metadata": {
    "collapsed": true
   },
   "outputs": [],
   "source": []
  }
 ],
 "metadata": {
  "kernelspec": {
   "display_name": "Python 3",
   "language": "python",
   "name": "python3"
  },
  "language_info": {
   "codemirror_mode": {
    "name": "ipython",
    "version": 3
   },
   "file_extension": ".py",
   "mimetype": "text/x-python",
   "name": "python",
   "nbconvert_exporter": "python",
   "pygments_lexer": "ipython3",
   "version": "3.6.3"
  }
 },
 "nbformat": 4,
 "nbformat_minor": 2
}

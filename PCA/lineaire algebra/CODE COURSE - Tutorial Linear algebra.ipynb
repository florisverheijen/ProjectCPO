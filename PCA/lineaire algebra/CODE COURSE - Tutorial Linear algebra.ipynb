{
 "cells": [
  {
   "cell_type": "markdown",
   "metadata": {},
   "source": [
    "# CODE COURSE - Tutorial Linear algebra.\n",
    "---"
   ]
  },
  {
   "cell_type": "markdown",
   "metadata": {},
   "source": [
    "#### This tutorial will explain in a interactive way the tools you need to be able to start with PCA and clustering. this tutorial is specified on the tools you need of linear algebra. "
   ]
  },
  {
   "cell_type": "markdown",
   "metadata": {},
   "source": [
    "### The following subject will be explained:\n",
    "* Vector and matrix operations\n",
    "* Transformation \n",
    "* Eigenvecotoren & eigenvalues\n",
    "* innerproduct, length and orthogonality \n",
    "* covariance matrix \n"
   ]
  },
  {
   "cell_type": "markdown",
   "metadata": {},
   "source": [
    "### Vector and matrix operations"
   ]
  },
  {
   "cell_type": "markdown",
   "metadata": {},
   "source": [
    "Vector and matric operations are important due to you need them by the calculation of the eigenvectors, eigenvalues and transformations. <br/>\n",
    "Firstly, you have to import Numpy. Numpy is a Python pakket which makes it easy to use matrices. \n",
    "\n",
    " ```python\n",
    "    import numpy as np\n",
    " ```  \n",
    " Secondly, I have to know how you make a matrix in python with the function print(a) you can see the matrix you made.\n",
    "```python\n",
    "    A = np.array([[1.1, 2, 3], [3, 4, 5]])\n",
    "    print(a) \n",
    " ```  \n",
    "\n",
    "  "
   ]
  },
  {
   "cell_type": "markdown",
   "metadata": {
    "collapsed": true
   },
   "source": [
    "#### Vector addition\n",
    "This is a very simple operation which you learn during the linear algebra courses. You make a vector ay the same way as you make a matrix. The only difference is that you have only one rij.\n",
    "\n",
    "```python\n",
    "A = np.array([2, 4])\n",
    "B = np.array([9, -3])\n",
    "C = A + B  \n",
    "print(C)\n",
    " ```   \n",
    "The outcome has to be $[11, 1]$ "
   ]
  },
  {
   "cell_type": "code",
   "execution_count": 21,
   "metadata": {},
   "outputs": [],
   "source": [
    "from IPython.display import display, Math, Latex"
   ]
  },
  {
   "cell_type": "markdown",
   "metadata": {},
   "source": [
    "#### Vector scalar multiplication\n"
   ]
  },
  {
   "cell_type": "markdown",
   "metadata": {
    "collapsed": true
   },
   "source": [
    "$e^{i\\pi} + 1 = 0$"
   ]
  },
  {
   "cell_type": "markdown",
   "metadata": {
    "collapsed": true
   },
   "source": [
    "Covariance matrix (nog niet af)\n",
    "\n",
    "Covariantie = een parameter die bij 2 toevalsvariabelen aageeft in welke mate de beide toevalsvariabelen (lineair) met elkaar samenhangen. De covariantie geeft aan of, en indirect in welke mate, de waarden van de ene variabelen af of toe neemt bij toenemende waarde van de andere. Covariantie is iets anders dan de correlatiecoëfficiënt. De correlatiecoëfficiënt geeft aan in hoeverre sprake is van lineaire samenhang en geeft direct de sterkste van de samenhang aan. Deze coëfficiënt is niet afhankelijk van de schaal. \n"
   ]
  },
  {
   "cell_type": "code",
   "execution_count": null,
   "metadata": {
    "collapsed": true
   },
   "outputs": [],
   "source": []
  }
 ],
 "metadata": {
  "kernelspec": {
   "display_name": "Python 3",
   "language": "python",
   "name": "python3"
  },
  "language_info": {
   "codemirror_mode": {
    "name": "ipython",
    "version": 3
   },
   "file_extension": ".py",
   "mimetype": "text/x-python",
   "name": "python",
   "nbconvert_exporter": "python",
   "pygments_lexer": "ipython3",
   "version": "3.6.1"
  }
 },
 "nbformat": 4,
 "nbformat_minor": 2
}

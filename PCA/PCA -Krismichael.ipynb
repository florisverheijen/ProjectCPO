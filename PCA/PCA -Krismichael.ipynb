{
 "cells": [
  {
   "cell_type": "markdown",
   "metadata": {},
   "source": [
    "Ik wil een PCA maken met de data set Movies."
   ]
  },
  {
   "cell_type": "code",
   "execution_count": 2,
   "metadata": {
    "scrolled": true
   },
   "outputs": [
    {
     "data": {
      "text/html": [
       "<div>\n",
       "<style>\n",
       "    .dataframe thead tr:only-child th {\n",
       "        text-align: right;\n",
       "    }\n",
       "\n",
       "    .dataframe thead th {\n",
       "        text-align: left;\n",
       "    }\n",
       "\n",
       "    .dataframe tbody tr th {\n",
       "        vertical-align: top;\n",
       "    }\n",
       "</style>\n",
       "<table border=\"1\" class=\"dataframe\">\n",
       "  <thead>\n",
       "    <tr style=\"text-align: right;\">\n",
       "      <th></th>\n",
       "      <th>title</th>\n",
       "      <th>year</th>\n",
       "      <th>lifetime_gross</th>\n",
       "      <th>ratingInteger</th>\n",
       "      <th>ratingCount</th>\n",
       "      <th>duration</th>\n",
       "      <th>nrOfWins</th>\n",
       "      <th>nrOfNominations</th>\n",
       "      <th>nrOfPhotos</th>\n",
       "      <th>nrOfNewsArticles</th>\n",
       "      <th>...</th>\n",
       "      <th>RealityTV</th>\n",
       "      <th>Romance</th>\n",
       "      <th>SciFi</th>\n",
       "      <th>Short</th>\n",
       "      <th>Sport</th>\n",
       "      <th>TalkShow</th>\n",
       "      <th>Thriller</th>\n",
       "      <th>War</th>\n",
       "      <th>Western</th>\n",
       "      <th>Unnamed: 37</th>\n",
       "    </tr>\n",
       "  </thead>\n",
       "  <tbody>\n",
       "    <tr>\n",
       "      <th>0</th>\n",
       "      <td>METROPOLIS</td>\n",
       "      <td>1928</td>\n",
       "      <td>1236166</td>\n",
       "      <td>8</td>\n",
       "      <td>81007</td>\n",
       "      <td>9180</td>\n",
       "      <td>3</td>\n",
       "      <td>4</td>\n",
       "      <td>67</td>\n",
       "      <td>428</td>\n",
       "      <td>...</td>\n",
       "      <td>0</td>\n",
       "      <td>0</td>\n",
       "      <td>1</td>\n",
       "      <td>0</td>\n",
       "      <td>0</td>\n",
       "      <td>0</td>\n",
       "      <td>0</td>\n",
       "      <td>0</td>\n",
       "      <td>0</td>\n",
       "      <td>NaN</td>\n",
       "    </tr>\n",
       "    <tr>\n",
       "      <th>1</th>\n",
       "      <td>CITY LIGHTS</td>\n",
       "      <td>1931</td>\n",
       "      <td>19181</td>\n",
       "      <td>9</td>\n",
       "      <td>70057</td>\n",
       "      <td>5220</td>\n",
       "      <td>2</td>\n",
       "      <td>0</td>\n",
       "      <td>38</td>\n",
       "      <td>187</td>\n",
       "      <td>...</td>\n",
       "      <td>0</td>\n",
       "      <td>1</td>\n",
       "      <td>0</td>\n",
       "      <td>0</td>\n",
       "      <td>0</td>\n",
       "      <td>0</td>\n",
       "      <td>0</td>\n",
       "      <td>0</td>\n",
       "      <td>0</td>\n",
       "      <td>NaN</td>\n",
       "    </tr>\n",
       "    <tr>\n",
       "      <th>2</th>\n",
       "      <td>MODERN TIMES</td>\n",
       "      <td>1936</td>\n",
       "      <td>163577</td>\n",
       "      <td>9</td>\n",
       "      <td>90847</td>\n",
       "      <td>5220</td>\n",
       "      <td>3</td>\n",
       "      <td>1</td>\n",
       "      <td>44</td>\n",
       "      <td>27</td>\n",
       "      <td>...</td>\n",
       "      <td>0</td>\n",
       "      <td>0</td>\n",
       "      <td>0</td>\n",
       "      <td>0</td>\n",
       "      <td>0</td>\n",
       "      <td>0</td>\n",
       "      <td>0</td>\n",
       "      <td>0</td>\n",
       "      <td>0</td>\n",
       "      <td>NaN</td>\n",
       "    </tr>\n",
       "    <tr>\n",
       "      <th>3</th>\n",
       "      <td>GONE WITH THE WIND</td>\n",
       "      <td>1939</td>\n",
       "      <td>198676459</td>\n",
       "      <td>8</td>\n",
       "      <td>160414</td>\n",
       "      <td>14280</td>\n",
       "      <td>10</td>\n",
       "      <td>6</td>\n",
       "      <td>143</td>\n",
       "      <td>1263</td>\n",
       "      <td>...</td>\n",
       "      <td>0</td>\n",
       "      <td>1</td>\n",
       "      <td>0</td>\n",
       "      <td>0</td>\n",
       "      <td>0</td>\n",
       "      <td>0</td>\n",
       "      <td>0</td>\n",
       "      <td>1</td>\n",
       "      <td>0</td>\n",
       "      <td>NaN</td>\n",
       "    </tr>\n",
       "    <tr>\n",
       "      <th>4</th>\n",
       "      <td>THE WIZARD OF OZ</td>\n",
       "      <td>1939</td>\n",
       "      <td>22342633</td>\n",
       "      <td>8</td>\n",
       "      <td>209506</td>\n",
       "      <td>6120</td>\n",
       "      <td>6</td>\n",
       "      <td>12</td>\n",
       "      <td>126</td>\n",
       "      <td>2363</td>\n",
       "      <td>...</td>\n",
       "      <td>0</td>\n",
       "      <td>0</td>\n",
       "      <td>0</td>\n",
       "      <td>0</td>\n",
       "      <td>0</td>\n",
       "      <td>0</td>\n",
       "      <td>0</td>\n",
       "      <td>0</td>\n",
       "      <td>0</td>\n",
       "      <td>NaN</td>\n",
       "    </tr>\n",
       "  </tbody>\n",
       "</table>\n",
       "<p>5 rows × 38 columns</p>\n",
       "</div>"
      ],
      "text/plain": [
       "                title  year  lifetime_gross  ratingInteger  ratingCount  \\\n",
       "0          METROPOLIS  1928         1236166              8        81007   \n",
       "1         CITY LIGHTS  1931           19181              9        70057   \n",
       "2        MODERN TIMES  1936          163577              9        90847   \n",
       "3  GONE WITH THE WIND  1939       198676459              8       160414   \n",
       "4    THE WIZARD OF OZ  1939        22342633              8       209506   \n",
       "\n",
       "   duration  nrOfWins  nrOfNominations  nrOfPhotos  nrOfNewsArticles  \\\n",
       "0      9180         3                4          67               428   \n",
       "1      5220         2                0          38               187   \n",
       "2      5220         3                1          44                27   \n",
       "3     14280        10                6         143              1263   \n",
       "4      6120         6               12         126              2363   \n",
       "\n",
       "      ...       RealityTV  Romance  SciFi  Short  Sport  TalkShow  Thriller  \\\n",
       "0     ...               0        0      1      0      0         0         0   \n",
       "1     ...               0        1      0      0      0         0         0   \n",
       "2     ...               0        0      0      0      0         0         0   \n",
       "3     ...               0        1      0      0      0         0         0   \n",
       "4     ...               0        0      0      0      0         0         0   \n",
       "\n",
       "   War  Western  Unnamed: 37  \n",
       "0    0        0          NaN  \n",
       "1    0        0          NaN  \n",
       "2    0        0          NaN  \n",
       "3    1        0          NaN  \n",
       "4    0        0          NaN  \n",
       "\n",
       "[5 rows x 38 columns]"
      ]
     },
     "execution_count": 2,
     "metadata": {},
     "output_type": "execute_result"
    }
   ],
   "source": [
    "import numpy as np\n",
    "import matplotlib.pyplot as plt\n",
    "import numpy.linalg as la\n",
    "import pandas as pd\n",
    "from numpy import mean\n",
    "movies=pd.read_csv(\"C:\\\\Users\\\\s144239\\\\Documents\\\\GitHub\\\\ProjectCPO\\\\pandas\\\\Movies.csv\")\n",
    "movies.head() # this shows the first 5 rows of the DataFrame\n"
   ]
  },
  {
   "cell_type": "code",
   "execution_count": 5,
   "metadata": {},
   "outputs": [
    {
     "name": "stdout",
     "output_type": "stream",
     "text": [
      "   lifetime_gross  ratingInteger  ratingCount  duration  nrOfWins  \\\n",
      "0         1236166              8        81007      9180         3   \n",
      "1           19181              9        70057      5220         2   \n",
      "2          163577              9        90847      5220         3   \n",
      "3       198676459              8       160414     14280        10   \n",
      "4        22342633              8       209506      6120         6   \n",
      "\n",
      "   nrOfNominations  nrOfPhotos  nrOfNewsArticles  nrOfUserReviews  nrOfGenre  \\\n",
      "0                4          67               428              376          2   \n",
      "1                0          38               187              186          3   \n",
      "2                1          44                27              180          2   \n",
      "3                6         143              1263              653          3   \n",
      "4               12         126              2363              477          3   \n",
      "\n",
      "      ...       RealityTV  Romance  SciFi  Short  Sport  TalkShow  Thriller  \\\n",
      "0     ...               0        0      1      0      0         0         0   \n",
      "1     ...               0        1      0      0      0         0         0   \n",
      "2     ...               0        0      0      0      0         0         0   \n",
      "3     ...               0        1      0      0      0         0         0   \n",
      "4     ...               0        0      0      0      0         0         0   \n",
      "\n",
      "   War  Western  Unnamed: 37  \n",
      "0    0        0          NaN  \n",
      "1    0        0          NaN  \n",
      "2    0        0          NaN  \n",
      "3    1        0          NaN  \n",
      "4    0        0          NaN  \n",
      "\n",
      "[5 rows x 36 columns]\n"
     ]
    }
   ],
   "source": [
    "name1='nrOfWins'\n",
    "name2='nrOfNominations'\n",
    "row1=movies[name1]\n",
    "row2=movies[name2]\n",
    "\n",
    "newtab=pd.DataFrame({name1:row1,name2:row2})\n",
    "newtab.head(5)\n",
    "\n",
    "n=len(movies.columns)\n",
    "m=movies.loc[:,movies.columns[2:n]]\n",
    "print(m.head())"
   ]
  },
  {
   "cell_type": "code",
   "execution_count": 405,
   "metadata": {},
   "outputs": [
    {
     "name": "stdout",
     "output_type": "stream",
     "text": [
      "This is matrix B.\n",
      "[[3 2 3 ..., 0 0 1]\n",
      " [4 0 1 ..., 0 0 3]]\n"
     ]
    }
   ],
   "source": [
    "B = np.array([row1, row2])\n",
    "print('This is matrix B.')\n",
    "print(B) \n",
    "#B[0].max()"
   ]
  },
  {
   "cell_type": "code",
   "execution_count": 406,
   "metadata": {
    "scrolled": true
   },
   "outputs": [
    {
     "data": {
      "image/png": "[encoded data removed]",
      "text/plain": [
       "<matplotlib.figure.Figure at 0xd116924da0>"
      ]
     },
     "metadata": {},
     "output_type": "display_data"
    }
   ],
   "source": [
    "import matplotlib.pyplot as plt\n",
    "plt.scatter(row1[:5],row2[:5])\n",
    "plt.title('Scatter plot pythonspot.com')\n",
    "plt.xlabel(name1)\n",
    "plt.ylabel(name2)\n",
    "plt.show()"
   ]
  },
  {
   "cell_type": "code",
   "execution_count": 407,
   "metadata": {
    "collapsed": true,
    "scrolled": false
   },
   "outputs": [],
   "source": [
    "from numpy import mean\n",
    "\n",
    "M = mean(B, axis=1)\n"
   ]
  },
  {
   "cell_type": "code",
   "execution_count": 408,
   "metadata": {
    "scrolled": false
   },
   "outputs": [
    {
     "name": "stdout",
     "output_type": "stream",
     "text": [
      "6770.99706667\n"
     ]
    },
    {
     "data": {
      "image/png": "[encoded data removed]",
      "text/plain": [
       "<matplotlib.figure.Figure at 0xd116bba978>"
      ]
     },
     "metadata": {},
     "output_type": "display_data"
    }
   ],
   "source": [
    "C =B.transpose() - M\n",
    "C=C.transpose()\n",
    "print(C[0].max())\n",
    "\n",
    "plt.scatter(C[0][:5],C[1][:5])\n",
    "plt.title('Scatter plot pythonspot.com')\n",
    "plt.xlabel(name1)\n",
    "plt.ylabel(name2)\n",
    "plt.show()"
   ]
  },
  {
   "cell_type": "code",
   "execution_count": 409,
   "metadata": {},
   "outputs": [
    {
     "data": {
      "text/plain": [
       "array([[ 24389.93143978,    103.76260059],\n",
       "       [   103.76260059,    173.47864134]])"
      ]
     },
     "execution_count": 409,
     "metadata": {},
     "output_type": "execute_result"
    }
   ],
   "source": [
    "from numpy import cov\n",
    "V = cov(C)\n",
    "V"
   ]
  },
  {
   "cell_type": "code",
   "execution_count": 410,
   "metadata": {},
   "outputs": [
    {
     "name": "stdout",
     "output_type": "stream",
     "text": [
      "[ 24390.37603337    173.03404776]\n",
      "[[ 0.99999082 -0.00428468]\n",
      " [ 0.00428468  0.99999082]]\n"
     ]
    }
   ],
   "source": [
    "eigenvalues, eigenvectors = la.eig(V)\n",
    "print(eigenvalues)\n",
    "print(eigenvectors)"
   ]
  },
  {
   "cell_type": "code",
   "execution_count": 411,
   "metadata": {},
   "outputs": [
    {
     "name": "stdout",
     "output_type": "stream",
     "text": [
      "[ 0.99295562  0.00704438]\n"
     ]
    },
    {
     "data": {
      "text/plain": [
       "array([ 0.99295562,  1.        ])"
      ]
     },
     "execution_count": 411,
     "metadata": {},
     "output_type": "execute_result"
    }
   ],
   "source": [
    "totalevariance=np.trace(V)\n",
    "componentmatrix=eigenvalues/totalevariance\n",
    "print(componentmatrix)\n",
    "cum_var_exp = np.cumsum(componentmatrix)\n",
    "cum_var_exp"
   ]
  },
  {
   "cell_type": "code",
   "execution_count": 412,
   "metadata": {
    "scrolled": false
   },
   "outputs": [
    {
     "data": {
      "image/png": "[encoded data removed]",
      "text/plain": [
       "<matplotlib.figure.Figure at 0xd116c1dbe0>"
      ]
     },
     "metadata": {},
     "output_type": "display_data"
    }
   ],
   "source": [
    "plt.bar(range(2),componentmatrix)\n",
    "plt.step(range(2),cum_var_exp)\n",
    "plt.ylabel('Explained variance ratio')\n",
    "plt.xlabel('Principal components')\n",
    "plt.legend(loc='best')\n",
    "plt.tight_layout()\n",
    "plt.show()\n",
    "plt.show()"
   ]
  },
  {
   "cell_type": "code",
   "execution_count": 413,
   "metadata": {},
   "outputs": [
    {
     "data": {
      "text/plain": [
       "array([ 0.99999082, -0.00428468])"
      ]
     },
     "execution_count": 413,
     "metadata": {},
     "output_type": "execute_result"
    }
   ],
   "source": [
    "eigenv=eigenvectors[0]\n",
    "matrix_w=np.hstack(eigenv.reshape(1,2))\n",
    "matrix_w"
   ]
  },
  {
   "cell_type": "code",
   "execution_count": 469,
   "metadata": {
    "scrolled": false
   },
   "outputs": [
    {
     "name": "stdout",
     "output_type": "stream",
     "text": [
      "(3750,)\n",
      "range(0, 3750)\n"
     ]
    },
    {
     "data": {
      "image/png": "[encoded data removed]",
      "text/plain": [
       "<matplotlib.figure.Figure at 0xd1155ac710>"
      ]
     },
     "metadata": {},
     "output_type": "display_data"
    }
   ],
   "source": [
    "Y = B.transpose().dot(matrix_w)\n",
    "print(Y.shape)\n",
    "len(Y)\n",
    "\n",
    "p=[]\n",
    "name3='year'\n",
    "row3=movies[name3]\n",
    "#print(row3[:6])\n",
    "\n",
    "x = range(len(row3))\n",
    "print(x)\n",
    "for i in x:\n",
    "    if row3[i]>'2000':\n",
    "        p.append(i)\n",
    "y=row1[p]\n",
    "plt.scatter(range(3750),Y)\n",
    "plt.scatter(p,y)\n",
    "plt.xlabel('aantal films')\n",
    "plt.ylabel('Principal Component 2')\n",
    "#plt.legend(loc='right')\n",
    "plt.tight_layout()\n",
    "plt.show()"
   ]
  },
  {
   "cell_type": "code",
   "execution_count": 471,
   "metadata": {},
   "outputs": [
    {
     "name": "stdout",
     "output_type": "stream",
     "text": [
      "(3750,)\n",
      "range(0, 3750)\n"
     ]
    },
    {
     "data": {
      "image/png": "[encoded data removed]",
      "text/plain": [
       "<matplotlib.figure.Figure at 0xd116792668>"
      ]
     },
     "metadata": {},
     "output_type": "display_data"
    }
   ],
   "source": [
    "Y = B.transpose().dot(matrix_w)\n",
    "print(Y.shape)\n",
    "len(Y)\n",
    "\n",
    "p=[]\n",
    "name3='year'\n",
    "row3=movies[name3]\n",
    "#print(row3[:6])\n",
    "\n",
    "x = range(len(row3))\n",
    "print(x)\n",
    "for i in x:\n",
    "    if row3[i]>'2000':\n",
    "        p.append(i)\n",
    "y=row1[p]\n",
    "plt.scatter(range(2500),Y[:2500])\n",
    "plt.scatter(p,y)\n",
    "plt.xlabel('aantal films')\n",
    "plt.ylabel('Principal Component 1')\n",
    "plt.tight_layout()\n",
    "plt.show()"
   ]
  },
  {
   "cell_type": "markdown",
   "metadata": {},
   "source": [
    "Conclusie\n",
    "Er zijn twee waarden die rond de 7000 zijn en dat is niet goed, die zijn outliers. \n",
    "Daarom is de aantal fiml van 0 tot 2500 genomen.\n",
    "De oranje punten zijn dat jaar talen boven 2000. \n",
    "de nrOfNominations en nrOfWins zijn positief gerelateerd, maar in de plot is niet achter te halen de verhouding van de twee. \n"
   ]
  }
 ],
 "metadata": {
  "kernelspec": {
   "display_name": "Python 3",
   "language": "python",
   "name": "python3"
  },
  "language_info": {
   "codemirror_mode": {
    "name": "ipython",
    "version": 3
   },
   "file_extension": ".py",
   "mimetype": "text/x-python",
   "name": "python",
   "nbconvert_exporter": "python",
   "pygments_lexer": "ipython3",
   "version": "3.6.3"
  }
 },
 "nbformat": 4,
 "nbformat_minor": 2
}

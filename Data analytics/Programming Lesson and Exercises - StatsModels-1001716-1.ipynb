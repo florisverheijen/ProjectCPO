{
 "cells": [
  {
   "cell_type": "markdown",
   "metadata": {},
   "source": [
    "# Programming Lesson and Exercises - StatsModels<span class=\"tocSkip\"></span>\n",
    "\n",
    "These programming lessons do not require prior programming experience.\n",
    "\n",
    "The goal is to teach you the use of _Python 3_ and the _Jupyter Notebook_ software\n",
    "in the context of _Data Analytics_.\n",
    "\n",
    "<div class=\"alert-info alert\" role=\"alert-info\">While you read this notebook,\n",
    "execute all code cells in linear order\n",
    "from the beginning</div>"
   ]
  },
  {
   "cell_type": "markdown",
   "metadata": {},
   "source": [
    "\n",
    "# Introduction to this template notebook\n",
    "\n",
    "* This is a **personal** notebook.\n",
    "* Make sure you work in a **copy** of `...-template.ipynb`,\n",
    "**renamed** to `...-yourIDnr.ipynb`,\n",
    "where `yourIDnr` is your TU/e identification number.\n",
    "\n",
    "<div class=\"alert alert-danger\" role=\"danger\">Sharing your notebook with others is considered **fraud** under the TU/e regulations.</div>\n",
    "\n",
    "You are expected to work with Python code in this notebook.\n",
    "\n",
    "The locations where you should write your solutions can be recognized by\n",
    "**marker lines**,\n",
    "which look like this:\n",
    "\n",
    ">`#//`\n",
    ">    `BEGIN_TODO [Label]` `Description` `(n points)`\n",
    ">\n",
    ">`#//`\n",
    ">    `END_TODO [Label]`\n",
    "\n",
    "<div class=\"alert alert-warning\" role=\"alert\">Do NOT modify or delete these marker lines.  Keep them as they are.<br/>\n",
    "<br/>\n",
    "NEVER write code <i>outside</i> the marked blocks.\n",
    "Such code cannot be evaluated.\n",
    "</div>\n",
    "\n",
    "Proceed in this notebook as follows:\n",
    "* **Read** the text.\n",
    "* **Fill in** your solutions between `BEGIN_TODO` and `END_TODO` marker lines.\n",
    "* **Run** _all_ code cells (also the ones _without_ your code),\n",
    "    _in linear order_ from the first code cell.\n",
    "\n",
    "**Personalize your notebook**:\n",
    "1. Copy the following three lines of code:\n",
    "\n",
    "  ```python\n",
    "  AUTHOR_NAME = 'Your Full Name'\n",
    "  AUTHOR_ID_NR = '1234567'\n",
    "  AUTHOR_DATE = 'YYYY-MM-DD'  # when notebook was first modified, e.g. '2018-02-05'\n",
    "  ```\n",
    "\n",
    "1. Paste them between the marker lines in the next code cell.\n",
    "1. Fill in your _full name_, _identification number_, and the current _date_ as strings between quotes.\n",
    "1. Run the code cell by putting the cursor there and typing **Control-Enter**.\n"
   ]
  },
  {
   "cell_type": "code",
   "execution_count": 1,
   "metadata": {},
   "outputs": [
    {
     "data": {
      "text/plain": [
       "('Ysanne Mieneke Pasveer', '1001716', '2018-03-21')"
      ]
     },
     "execution_count": 1,
     "metadata": {},
     "output_type": "execute_result"
    }
   ],
   "source": [
    "#// BEGIN_TODO [PrEx_HYP_2018.1] Name, Id.nr., Date, as strings (1 point)\n",
    "\n",
    "AUTHOR_NAME = 'Ysanne Mieneke Pasveer'\n",
    "AUTHOR_ID_NR = '1001716'\n",
    "AUTHOR_DATE = '2018-03-21'\n",
    "\n",
    "#// END_TODO [PrEx_HYP_2018.1]\n",
    "\n",
    "AUTHOR_NAME, AUTHOR_ID_NR, AUTHOR_DATE"
   ]
  },
  {
   "cell_type": "markdown",
   "metadata": {
    "toc": "true"
   },
   "source": [
    "<h1>Table of Contents<span class=\"tocSkip\"></span></h1>\n",
    "<div class=\"toc\"><ul class=\"toc-item\"><li><ul class=\"toc-item\"><li><span><a href=\"#What-you-need\" data-toc-modified-id=\"What-you-need-0.1\">What you need</a></span></li><li><span><a href=\"#Loading-the-libraries\" data-toc-modified-id=\"Loading-the-libraries-0.2\">Loading the libraries</a></span></li><li><span><a href=\"#Loading-the-data-sets\" data-toc-modified-id=\"Loading-the-data-sets-0.3\">Loading the data sets</a></span></li><li><span><a href=\"#Introduction-to-the-lesson\" data-toc-modified-id=\"Introduction-to-the-lesson-0.4\">Introduction to the lesson</a></span></li><li><span><a href=\"#Statistical-hypothesis-testing:-concepts-and-terminology\" data-toc-modified-id=\"Statistical-hypothesis-testing:-concepts-and-terminology-0.5\">Statistical hypothesis testing: concepts and terminology</a></span></li><li><span><a href=\"#Example:-Cloud-seeding\" data-toc-modified-id=\"Example:-Cloud-seeding-0.6\">Example: Cloud seeding</a></span></li></ul></li><li><span><a href=\"#1.-Testing-for-normality\" data-toc-modified-id=\"1.-Testing-for-normality-1\">1. Testing for normality</a></span><ul class=\"toc-item\"><li><span><a href=\"#Learning-Objectives-of-This-Section\" data-toc-modified-id=\"Learning-Objectives-of-This-Section-1.1\">Learning Objectives of This Section</a></span></li><li><span><a href=\"#Overview\" data-toc-modified-id=\"Overview-1.2\">Overview</a></span></li><li><span><a href=\"#Kernel-density-plot\" data-toc-modified-id=\"Kernel-density-plot-1.3\">Kernel density plot</a></span></li><li><span><a href=\"#Q-Q-plot\" data-toc-modified-id=\"Q-Q-plot-1.4\">Q-Q plot</a></span></li><li><span><a href=\"#Anderson-Darling-normality-test\" data-toc-modified-id=\"Anderson-Darling-normality-test-1.5\">Anderson-Darling normality test</a></span></li><li><span><a href=\"#Exercise-1.-Cloud-seeding,-using-log-transformation\" data-toc-modified-id=\"Exercise-1.-Cloud-seeding,-using-log-transformation-1.6\">Exercise 1. Cloud seeding, using log transformation</a></span><ul class=\"toc-item\"><li><span><a href=\"#1.a-Create-density-plots-of-the-log-transformed-data\" data-toc-modified-id=\"1.a-Create-density-plots-of-the-log-transformed-data-1.6.1\">1.a Create density plots of the log-transformed data</a></span></li><li><span><a href=\"#1.b.-Create-Q-Q-plots-for-the-log-transformed-data\" data-toc-modified-id=\"1.b.-Create-Q-Q-plots-for-the-log-transformed-data-1.6.2\">1.b. Create Q-Q plots for the log-transformed data</a></span></li><li><span><a href=\"#1.c.-Apply-Anderson-Darling-normality-test-to-the-log-transformed-data\" data-toc-modified-id=\"1.c.-Apply-Anderson-Darling-normality-test-to-the-log-transformed-data-1.6.3\">1.c. Apply Anderson-Darling normality test to the log-transformed data</a></span></li></ul></li></ul></li><li><span><a href=\"#2.-Hypothesis-testing-on-two-sample-data-for-equality-of-means\" data-toc-modified-id=\"2.-Hypothesis-testing-on-two-sample-data-for-equality-of-means-2\">2. Hypothesis testing on two-sample data for equality of means</a></span><ul class=\"toc-item\"><li><span><a href=\"#Learning-Objectives-of-This-Section\" data-toc-modified-id=\"Learning-Objectives-of-This-Section-2.1\">Learning Objectives of This Section</a></span></li><li><span><a href=\"#Comparing-means-by-a-t-test\" data-toc-modified-id=\"Comparing-means-by-a-t-test-2.2\">Comparing means by a t-test</a></span></li><li><span><a href=\"#Step-1.-Preprocess-the-data\" data-toc-modified-id=\"Step-1.-Preprocess-the-data-2.3\">Step 1. Preprocess the data</a></span></li><li><span><a href=\"#Step-2.-Create-test-object\" data-toc-modified-id=\"Step-2.-Create-test-object-2.4\">Step 2. Create test object</a></span></li><li><span><a href=\"#Step-3.a.-Extract-parameters:-t-test-statistic-and-p-value\" data-toc-modified-id=\"Step-3.a.-Extract-parameters:-t-test-statistic-and-p-value-2.5\">Step 3.a. Extract parameters: t-test statistic and p-value</a></span></li><li><span><a href=\"#Step-3.b.-Extract-parameters:-confidence-interval\" data-toc-modified-id=\"Step-3.b.-Extract-parameters:-confidence-interval-2.6\">Step 3.b. Extract parameters: confidence interval</a></span></li><li><span><a href=\"#Exercise-2.-Cloud-seeding,-using-log-transformation-(continued)\" data-toc-modified-id=\"Exercise-2.-Cloud-seeding,-using-log-transformation-(continued)-2.7\">Exercise 2. Cloud seeding, using log transformation (continued)</a></span></li></ul></li><li><span><a href=\"#3.-Hypothesis-testing-on-one-sample-data-for-equality-of-means\" data-toc-modified-id=\"3.-Hypothesis-testing-on-one-sample-data-for-equality-of-means-3\">3. Hypothesis testing on one-sample data for equality of means</a></span><ul class=\"toc-item\"><li><span><a href=\"#Learning-Objectives-of-This-Section\" data-toc-modified-id=\"Learning-Objectives-of-This-Section-3.1\">Learning Objectives of This Section</a></span></li><li><span><a href=\"#Exercise-3.-Speed-of-Light\" data-toc-modified-id=\"Exercise-3.-Speed-of-Light-3.2\">Exercise 3. Speed of Light</a></span><ul class=\"toc-item\"><li><span><a href=\"#3.a.-Add-column-with-decoded-values\" data-toc-modified-id=\"3.a.-Add-column-with-decoded-values-3.2.1\">3.a. Add column with decoded values</a></span></li><li><span><a href=\"#3.b.-Find-the-currently-most-accurate-value-for-the-speed-of-light\" data-toc-modified-id=\"3.b.-Find-the-currently-most-accurate-value-for-the-speed-of-light-3.2.2\">3.b. Find the currently most accurate value for the speed of light</a></span></li><li><span><a href=\"#3.c-Compare-measurement-mean-to-currently-know-value\" data-toc-modified-id=\"3.c-Compare-measurement-mean-to-currently-know-value-3.2.3\">3.c Compare measurement mean to currently know value</a></span></li><li><span><a href=\"#3.d.-Confidence-interval-for-difference\" data-toc-modified-id=\"3.d.-Confidence-interval-for-difference-3.2.4\">3.d. Confidence interval for difference</a></span></li></ul></li></ul></li><li><span><a href=\"#4.-Hypothesis-testing-on-proportions\" data-toc-modified-id=\"4.-Hypothesis-testing-on-proportions-4\">4. Hypothesis testing on proportions</a></span><ul class=\"toc-item\"><li><span><a href=\"#Learning-Objectives-of-This-Section\" data-toc-modified-id=\"Learning-Objectives-of-This-Section-4.1\">Learning Objectives of This Section</a></span></li><li><span><a href=\"#Overview\" data-toc-modified-id=\"Overview-4.2\">Overview</a></span></li><li><span><a href=\"#Exercise-4.-Silicon-Wafers\" data-toc-modified-id=\"Exercise-4.-Silicon-Wafers-4.3\">Exercise 4. Silicon Wafers</a></span><ul class=\"toc-item\"><li><span><a href=\"#4.a.-Compute-the-fraction-of-bad-wafers-in-the-new-sample.\" data-toc-modified-id=\"4.a.-Compute-the-fraction-of-bad-wafers-in-the-new-sample.-4.3.1\">4.a. Compute the fraction of bad wafers in the new sample.</a></span></li><li><span><a href=\"#4.b.-Compute-a-95%-confidence-interval-for-the-fraction-of-the-new-sample\" data-toc-modified-id=\"4.b.-Compute-a-95%-confidence-interval-for-the-fraction-of-the-new-sample-4.3.2\">4.b. Compute a 95%-confidence interval for the fraction of the new sample</a></span></li><li><span><a href=\"#4.c.-Use-a-confidence-interval-to-answer-the-question-whether-the-fraction-of-bad-wafers-has-changed-as-compared-to-the-previous-batch-or-not\" data-toc-modified-id=\"4.c.-Use-a-confidence-interval-to-answer-the-question-whether-the-fraction-of-bad-wafers-has-changed-as-compared-to-the-previous-batch-or-not-4.3.3\">4.c. Use a confidence interval to answer the question whether the fraction of bad wafers has changed as compared to the previous batch or not</a></span></li><li><span><a href=\"#4.d.-Has-the-fraction-of-bad-wafers-changed?\" data-toc-modified-id=\"4.d.-Has-the-fraction-of-bad-wafers-changed?-4.3.4\">4.d. Has the fraction of bad wafers changed?</a></span></li><li><span><a href=\"#4.e.-Repeat-4.c-when-the-new-batch-comes-from-a-new,-deteriorated-manufacturing-process\" data-toc-modified-id=\"4.e.-Repeat-4.c-when-the-new-batch-comes-from-a-new,-deteriorated-manufacturing-process-4.3.5\">4.e. Repeat 4.c when the new batch comes from a new, deteriorated manufacturing process</a></span></li><li><span><a href=\"#4.f.-Repeat-4.d-when-the-new-batch-comes-from-a-new,-deteriorated-manufacturing-process\" data-toc-modified-id=\"4.f.-Repeat-4.d-when-the-new-batch-comes-from-a-new,-deteriorated-manufacturing-process-4.3.6\">4.f. Repeat 4.d when the new batch comes from a new, deteriorated manufacturing process</a></span></li><li><span><a href=\"#4.g.-Is-the-new-process-stable?\" data-toc-modified-id=\"4.g.-Is-the-new-process-stable?-4.3.7\">4.g. Is the new process stable?</a></span></li></ul></li></ul></li><li><span><a href=\"#(End-of-Notebook)\" data-toc-modified-id=\"(End-of-Notebook)-5\">(End of Notebook)</a></span></li></ul></div>"
   ]
  },
  {
   "cell_type": "markdown",
   "metadata": {},
   "source": [
    "## What you need\n",
    "\n",
    "* This notebook\n",
    "* These data sets: `cloud-clean.csv`, `light-clean.csv` (from Week 1, EDA)"
   ]
  },
  {
   "cell_type": "markdown",
   "metadata": {},
   "source": [
    "\n",
    "## How to submit your work\n",
    "\n",
    "You can submit your work to Canvas in the form of this Jupyter notebook,\n",
    "containing your solutions in the indicated places\n",
    "(recognizable by the **marker lines** with `... BEGIN_TODO ...` and `... END_TODO ...`).\n",
    "\n",
    "> **NOTE: Do NOT modify or delete these marker lines.**\n",
    "\n",
    "1. **Before submitting**, you must run your notebook by doing **Kernel > Restart & Run All**.  \n",
    "   Make sure that your notebook runs without errors **in linear order**.\n",
    "\n",
    "2. Submit the executed notebook with your work\n",
    "   for the appropriate assignment in **Canvas**.\n",
    "\n",
    "* In the **Momotor** tab in Canvas,\n",
    "  you can select that assignment again to find some feedback on your submitted work.\n",
    "  \n",
    "* If there are any problems reported by _Momotor_,\n",
    "  then you need to fix those,\n",
    "  and **resubmit the fixed notebook**.\n",
    "\n",
    "In case of a high workload on our server\n",
    "(because many students submit close to the deadline),\n",
    "it may take longer to receive the feedback.\n"
   ]
  },
  {
   "cell_type": "markdown",
   "metadata": {},
   "source": [
    "## Loading the libraries\n",
    "\n",
    "To show examples, we load some Data Analytics libraries first:"
   ]
  },
  {
   "cell_type": "code",
   "execution_count": 2,
   "metadata": {
    "collapsed": true
   },
   "outputs": [],
   "source": [
    "import numpy as np  # import auxiliary library, typical idiom\n",
    "import pandas as pd  # import the Pandas library, typical idiom\n",
    "\n",
    "# next command ensures that plots appear inside the notebook\n",
    "%matplotlib inline\n",
    "import matplotlib.pyplot as plt\n",
    "import seaborn as sns\n",
    "sns.set()  # set Seaborn defaults\n",
    "plt.rcParams['figure.figsize'] = 10, 5  # default hor./vert. size of plots, in inches\n",
    "plt.rcParams['lines.markeredgewidth'] = 1  # to fix issue with seaborn box plots; needed after import seaborn"
   ]
  },
  {
   "cell_type": "markdown",
   "metadata": {},
   "source": [
    "Next we load the _StatsModels_ library for doing statistics in Python.  \n",
    "(Ignore the `FutureWarning`.)"
   ]
  },
  {
   "cell_type": "code",
   "execution_count": 3,
   "metadata": {},
   "outputs": [
    {
     "name": "stderr",
     "output_type": "stream",
     "text": [
      "/anaconda/lib/python3.6/site-packages/statsmodels/compat/pandas.py:56: FutureWarning: The pandas.core.datetools module is deprecated and will be removed in a future version. Please use the pandas.tseries module instead.\n",
      "  from pandas.core import datetools\n"
     ]
    }
   ],
   "source": [
    "import statsmodels.api as sm"
   ]
  },
  {
   "cell_type": "markdown",
   "metadata": {},
   "source": [
    "## Loading the data sets\n",
    "\n",
    "Run the next code cell to define variables for the data set."
   ]
  },
  {
   "cell_type": "code",
   "execution_count": 4,
   "metadata": {},
   "outputs": [
    {
     "data": {
      "text/plain": [
       "('../../datasets/EDA/',\n",
       " '../../datasets/EDA/clouds-clean.csv',\n",
       " '../../datasets/EDA/light-clean.csv')"
      ]
     },
     "execution_count": 4,
     "metadata": {},
     "output_type": "execute_result"
    }
   ],
   "source": [
    "datadir = '../../datasets/EDA/'\n",
    "file_clouds = datadir + 'clouds-clean.csv'\n",
    "file_light = datadir + 'light-clean.csv'\n",
    "\n",
    "datadir, file_clouds, file_light"
   ]
  },
  {
   "cell_type": "markdown",
   "metadata": {},
   "source": [
    "## Introduction to the lesson\n",
    "\n",
    "In this lesson,\n",
    "we explain how to do\n",
    "hypothesis testing with Python and _StatsModels_ for (all combinations of)\n",
    "\n",
    "* _one-sided_ and _two-sided_ tests,\n",
    "* with _one-sample_ and _two-sample_ data,\n",
    "* for _equality of means_ and for _equality of proportions_.\n",
    "\n",
    "We also explain how to check the underlying normality assumption on the data."
   ]
  },
  {
   "cell_type": "markdown",
   "metadata": {},
   "source": [
    "## Statistical hypothesis testing: concepts and terminology\n",
    "\n",
    "The following items are needed for statistical hypothesis testing.\n",
    "Sometimes, items are just given, but in other cases, you will have to do some work to obtain them.\n",
    "\n",
    "1. **Level of significance**, also known as $\\alpha$-value.\n",
    "    Typically, $\\alpha = 0.05$.  \n",
    "    It is the probability of a _Type-I error_ that one is willing to accept,\n",
    "    that is, the probability that the null hypothesis will be rejected while it is actaully true.\n",
    "    \n",
    "2. **Null hypothesis $H_0$**\n",
    "    (the \"there-is-nothing-special-to-this-and-it-is-all-just-coincidence\" assumption) and\n",
    "    **alternative hypothesis $H_a$** (the \"there-is-something-special-to-this\" assumption).\n",
    "\n",
    "3. **Test statistic**,\n",
    "    a value calculated from the observed data according to a standardized formula,\n",
    "    that depends on the type of test being applied.\n",
    "\n",
    "4. **p-value** (probability of the observed data under the assumption of the null hypothesis)\n",
    "    and/or **confidence interval**\n",
    "    (an interval estimated from the observed data that contains the actual value with a given\n",
    "    probability, the level of confidence, which is typically $1 - \\alpha$).\n",
    "    \n",
    "The decision rule is this.\n",
    "If, under the assumption that the null hypothesis holds, the probability of the observed data\n",
    "is less than $\\alpha$,\n",
    "then the null hypothesis is _rejected_;\n",
    "that is, the observed data is considered statistically significant ('special')\n",
    "under the null hypothesis;\n",
    "that is, the observed data is not likely to be explained by coincidence under the null hypothesis.\n",
    "\n",
    "Equivalently, this is the case if and only if\n",
    "\n",
    "* the computed p-value is less than the significance level\n",
    "\n",
    "and also if and only if\n",
    "\n",
    "* the computed test statistic lies within the confidence interval."
   ]
  },
  {
   "cell_type": "markdown",
   "metadata": {},
   "source": [
    "## Example: Cloud seeding"
   ]
  },
  {
   "cell_type": "markdown",
   "metadata": {},
   "source": [
    "We revisit the problem of _cloud seeding_ to illustrate the the use of\n",
    "the StatsModels library.\n",
    "Here is the story again.\n",
    "\n",
    "To improve rain fall in dry areas, an experiment was carried out with 52 clouds.\n",
    "Scientists investigated whether the addition of _silver nitrate_ has a positive effect on rainfall.\n",
    "They chose 26 out of a sample of 52 clouds and seeded it with silver nitrate.\n",
    "The remaining 26 clouds were not treated with silver nitrate.\n",
    "\n",
    "The data set `clouds-clean.csv` (`df_clouds`) records the rainfall in _feet per acre_.\n",
    "The dataset was constructed to test whether the addition of silver nitrate on clouds causes more rainfall.\n",
    "There are two samples: one column with and one column without the treatment."
   ]
  },
  {
   "cell_type": "code",
   "execution_count": 5,
   "metadata": {},
   "outputs": [
    {
     "data": {
      "text/html": [
       "<div>\n",
       "<style>\n",
       "    .dataframe thead tr:only-child th {\n",
       "        text-align: right;\n",
       "    }\n",
       "\n",
       "    .dataframe thead th {\n",
       "        text-align: left;\n",
       "    }\n",
       "\n",
       "    .dataframe tbody tr th {\n",
       "        vertical-align: top;\n",
       "    }\n",
       "</style>\n",
       "<table border=\"1\" class=\"dataframe\">\n",
       "  <thead>\n",
       "    <tr style=\"text-align: right;\">\n",
       "      <th></th>\n",
       "      <th>without</th>\n",
       "      <th>with</th>\n",
       "    </tr>\n",
       "  </thead>\n",
       "  <tbody>\n",
       "    <tr>\n",
       "      <th>count</th>\n",
       "      <td>26.000000</td>\n",
       "      <td>26.000000</td>\n",
       "    </tr>\n",
       "    <tr>\n",
       "      <th>mean</th>\n",
       "      <td>164.588462</td>\n",
       "      <td>441.984615</td>\n",
       "    </tr>\n",
       "    <tr>\n",
       "      <th>std</th>\n",
       "      <td>278.426404</td>\n",
       "      <td>650.787171</td>\n",
       "    </tr>\n",
       "    <tr>\n",
       "      <th>min</th>\n",
       "      <td>1.000000</td>\n",
       "      <td>4.100000</td>\n",
       "    </tr>\n",
       "    <tr>\n",
       "      <th>25%</th>\n",
       "      <td>24.825000</td>\n",
       "      <td>98.125000</td>\n",
       "    </tr>\n",
       "    <tr>\n",
       "      <th>50%</th>\n",
       "      <td>44.200000</td>\n",
       "      <td>221.600000</td>\n",
       "    </tr>\n",
       "    <tr>\n",
       "      <th>75%</th>\n",
       "      <td>159.200000</td>\n",
       "      <td>406.025000</td>\n",
       "    </tr>\n",
       "    <tr>\n",
       "      <th>max</th>\n",
       "      <td>1202.600000</td>\n",
       "      <td>2745.600000</td>\n",
       "    </tr>\n",
       "  </tbody>\n",
       "</table>\n",
       "</div>"
      ],
      "text/plain": [
       "           without         with\n",
       "count    26.000000    26.000000\n",
       "mean    164.588462   441.984615\n",
       "std     278.426404   650.787171\n",
       "min       1.000000     4.100000\n",
       "25%      24.825000    98.125000\n",
       "50%      44.200000   221.600000\n",
       "75%     159.200000   406.025000\n",
       "max    1202.600000  2745.600000"
      ]
     },
     "execution_count": 5,
     "metadata": {},
     "output_type": "execute_result"
    }
   ],
   "source": [
    "df_clouds = pd.read_csv(file_clouds)\n",
    "df_clouds.describe()"
   ]
  },
  {
   "cell_type": "markdown",
   "metadata": {},
   "source": [
    "Your task in this exercise is to perform the correct statistical test corresponding to the question whether cloud seeding has effect.\n",
    "You will learn that applying an inappropriate test may yield completely wrong answers."
   ]
  },
  {
   "cell_type": "markdown",
   "metadata": {},
   "source": [
    "---\n",
    "\n",
    "# 1. Testing for normality"
   ]
  },
  {
   "cell_type": "markdown",
   "metadata": {},
   "source": [
    "## Learning Objectives of This Section\n",
    "\n",
    "After this section, you should\n",
    "\n",
    "* know how to do test whether data follow a normal distribution using\n",
    "\n",
    "  * a density plot\n",
    "  * a Q-Q plot\n",
    "  * the Anderson-Darling test statistic"
   ]
  },
  {
   "cell_type": "markdown",
   "metadata": {},
   "source": [
    "## Overview\n",
    "\n",
    "We wish to test whether the treated clouds produce more rain than the untreated clouds.\n",
    "In order for this test to make any sense,\n",
    "it is important that the data that we will use in the test follows a _normal distribution_.\n",
    "\n",
    "So, the first step is to check whether this _normality assumption_ is valid.\n",
    "\n",
    "We present three techniques to test for normality:\n",
    "\n",
    "* A **kernel density plot** (KDE, which we already encountered in Week 1, EDA)\n",
    "* A **Q-Q plot** (which was mentioned in the EDA Lecture, but not yet practiced)\n",
    "* The **Anderson-Darling normality test**"
   ]
  },
  {
   "cell_type": "markdown",
   "metadata": {},
   "source": [
    "## Kernel density plot\n",
    "\n",
    "This is a visual check, where you compare the kernel density plot of the actual data to the\n",
    "'ideal' bell curve of the normal (or Gaussian) distribution.\n",
    "\n",
    "Let's first set the default figure size to a square aspect ratio."
   ]
  },
  {
   "cell_type": "code",
   "execution_count": 6,
   "metadata": {
    "collapsed": true
   },
   "outputs": [],
   "source": [
    "plt.rcParams['figure.figsize'] = 8, 8  # square plots"
   ]
  },
  {
   "cell_type": "markdown",
   "metadata": {},
   "source": [
    "Here are kernel density plots for the data without and with cloud seeding:"
   ]
  },
  {
   "cell_type": "code",
   "execution_count": 7,
   "metadata": {},
   "outputs": [
    {
     "data": {
      "image/png": "[encoded data removed]",
      "text/plain": [
       "<matplotlib.figure.Figure at 0x113cd0e10>"
      ]
     },
     "metadata": {},
     "output_type": "display_data"
    }
   ],
   "source": [
    "df_clouds.plot(kind='kde');"
   ]
  },
  {
   "cell_type": "markdown",
   "metadata": {},
   "source": [
    "The long wobbly tails on the right make that this is not really a normal distribution.\n",
    "But it may not be that obvious to the untrained eye.\n",
    "\n",
    "## Q-Q plot\n",
    "\n",
    "We also create Q-Q plots, using **`sm.qqplot()`**\n",
    "([documentation](https://www.statsmodels.org/stable/generated/statsmodels.graphics.gofplots.qqplot.html)).\n",
    "In a Q-Q plot, the data are transformed such that\n",
    "a normal distribution would follow a straight line at 45 degrees.\n",
    "Thus, a Q-Q plot is also a visual technique,\n",
    "but it is easier to apply.\n",
    "\n",
    "First, we create a Q-Q plot for the data without cloud seeding."
   ]
  },
  {
   "cell_type": "code",
   "execution_count": 8,
   "metadata": {},
   "outputs": [
    {
     "data": {
      "image/png": "[encoded data removed]",
      "text/plain": [
       "<matplotlib.figure.Figure at 0x1170e5c88>"
      ]
     },
     "metadata": {},
     "output_type": "display_data"
    }
   ],
   "source": [
    "fig = sm.qqplot(df_clouds['without'], fit=True, line='45')\n",
    "fig.axes[0].set_title('Q-Q plot for data without seeding');"
   ]
  },
  {
   "cell_type": "markdown",
   "metadata": {},
   "source": [
    "Next, for the data with cloud seeding:"
   ]
  },
  {
   "cell_type": "code",
   "execution_count": 9,
   "metadata": {},
   "outputs": [
    {
     "data": {
      "image/png": "[encoded data removed]",
      "text/plain": [
       "<matplotlib.figure.Figure at 0x1172ff9b0>"
      ]
     },
     "metadata": {},
     "output_type": "display_data"
    }
   ],
   "source": [
    "fig = sm.qqplot(df_clouds['with'], fit=True, line='45')\n",
    "fig.axes[0].set_title('Q-Q plot for data with seeding');"
   ]
  },
  {
   "cell_type": "markdown",
   "metadata": {},
   "source": [
    "In a Q-Q plot, the closer the data points stay to the diagonal (45-degree line in red),\n",
    "the more the data follows a normal distribution.\n",
    "\n",
    "Here, the data does not seem to be normally distributed.\n",
    "\n",
    "## Anderson-Darling normality test\n",
    "\n",
    "We can also compute a (numerical) test statistic that tests for normality,\n",
    "using **`sm.stats.normal_ad()`**\n",
    "([documentation](https://www.statsmodels.org/stable/generated/statsmodels.stats.diagnostic.normal_ad.html)).\n",
    "It returns a pair: the **Anderson-Darling test statistic** (a floating-point number) and\n",
    "its **p-value**.\n",
    "\n",
    "First, we compute it for the data without cloud seeding:"
   ]
  },
  {
   "cell_type": "code",
   "execution_count": 10,
   "metadata": {},
   "outputs": [
    {
     "data": {
      "text/plain": [
       "(3.8018964734125582, 9.0485562902281214e-10)"
      ]
     },
     "execution_count": 10,
     "metadata": {},
     "output_type": "execute_result"
    }
   ],
   "source": [
    "sm.stats.normal_ad(df_clouds['without'])"
   ]
  },
  {
   "cell_type": "markdown",
   "metadata": {},
   "source": [
    "Next, for the data with cloud seeding:"
   ]
  },
  {
   "cell_type": "code",
   "execution_count": 11,
   "metadata": {},
   "outputs": [
    {
     "data": {
      "text/plain": [
       "(3.3910698058936788, 9.605483420175515e-09)"
      ]
     },
     "execution_count": 11,
     "metadata": {},
     "output_type": "execute_result"
    }
   ],
   "source": [
    "sm.stats.normal_ad(df_clouds['with'])"
   ]
  },
  {
   "cell_type": "markdown",
   "metadata": {},
   "source": [
    "In both cases,\n",
    "the p-values are extremely small,\n",
    "indicating that these data sets are very unlikely under the assumption\n",
    "that they are from a normal distribution.\n",
    "\n",
    "Nevertheless, we will apply a test for equality of the means.\n",
    "We do so for two reasons:\n",
    "\n",
    "* to explain how to call the relevant functions for doing this test, and\n",
    "* to illustrate the result of applying a test when its (normality) assumption is violated.\n",
    "\n",
    "Later on, you will carry out an improved test to see the difference."
   ]
  },
  {
   "cell_type": "markdown",
   "metadata": {},
   "source": [
    "## Exercise 1. Cloud seeding, using log transformation\n",
    "\n",
    "You are now going to repeat the preceding normality tests on the data\n",
    "after it has been transformed _logarithmically_.\n",
    "We add two columns to the data frame:"
   ]
  },
  {
   "cell_type": "code",
   "execution_count": 12,
   "metadata": {},
   "outputs": [
    {
     "data": {
      "text/html": [
       "<div>\n",
       "<style>\n",
       "    .dataframe thead tr:only-child th {\n",
       "        text-align: right;\n",
       "    }\n",
       "\n",
       "    .dataframe thead th {\n",
       "        text-align: left;\n",
       "    }\n",
       "\n",
       "    .dataframe tbody tr th {\n",
       "        vertical-align: top;\n",
       "    }\n",
       "</style>\n",
       "<table border=\"1\" class=\"dataframe\">\n",
       "  <thead>\n",
       "    <tr style=\"text-align: right;\">\n",
       "      <th></th>\n",
       "      <th>without</th>\n",
       "      <th>with</th>\n",
       "      <th>log_without</th>\n",
       "      <th>log_with</th>\n",
       "    </tr>\n",
       "  </thead>\n",
       "  <tbody>\n",
       "    <tr>\n",
       "      <th>count</th>\n",
       "      <td>26.000000</td>\n",
       "      <td>26.000000</td>\n",
       "      <td>26.000000</td>\n",
       "      <td>26.000000</td>\n",
       "    </tr>\n",
       "    <tr>\n",
       "      <th>mean</th>\n",
       "      <td>164.588462</td>\n",
       "      <td>441.984615</td>\n",
       "      <td>3.990406</td>\n",
       "      <td>5.134187</td>\n",
       "    </tr>\n",
       "    <tr>\n",
       "      <th>std</th>\n",
       "      <td>278.426404</td>\n",
       "      <td>650.787171</td>\n",
       "      <td>1.641847</td>\n",
       "      <td>1.599514</td>\n",
       "    </tr>\n",
       "    <tr>\n",
       "      <th>min</th>\n",
       "      <td>1.000000</td>\n",
       "      <td>4.100000</td>\n",
       "      <td>0.000000</td>\n",
       "      <td>1.410987</td>\n",
       "    </tr>\n",
       "    <tr>\n",
       "      <th>25%</th>\n",
       "      <td>24.825000</td>\n",
       "      <td>98.125000</td>\n",
       "      <td>3.211421</td>\n",
       "      <td>4.581480</td>\n",
       "    </tr>\n",
       "    <tr>\n",
       "      <th>50%</th>\n",
       "      <td>44.200000</td>\n",
       "      <td>221.600000</td>\n",
       "      <td>3.786259</td>\n",
       "      <td>5.396406</td>\n",
       "    </tr>\n",
       "    <tr>\n",
       "      <th>75%</th>\n",
       "      <td>159.200000</td>\n",
       "      <td>406.025000</td>\n",
       "      <td>5.069278</td>\n",
       "      <td>6.000699</td>\n",
       "    </tr>\n",
       "    <tr>\n",
       "      <th>max</th>\n",
       "      <td>1202.600000</td>\n",
       "      <td>2745.600000</td>\n",
       "      <td>7.092241</td>\n",
       "      <td>7.917755</td>\n",
       "    </tr>\n",
       "  </tbody>\n",
       "</table>\n",
       "</div>"
      ],
      "text/plain": [
       "           without         with  log_without   log_with\n",
       "count    26.000000    26.000000    26.000000  26.000000\n",
       "mean    164.588462   441.984615     3.990406   5.134187\n",
       "std     278.426404   650.787171     1.641847   1.599514\n",
       "min       1.000000     4.100000     0.000000   1.410987\n",
       "25%      24.825000    98.125000     3.211421   4.581480\n",
       "50%      44.200000   221.600000     3.786259   5.396406\n",
       "75%     159.200000   406.025000     5.069278   6.000699\n",
       "max    1202.600000  2745.600000     7.092241   7.917755"
      ]
     },
     "execution_count": 12,
     "metadata": {},
     "output_type": "execute_result"
    }
   ],
   "source": [
    "df_clouds['log_without'] = np.log(df_clouds['without'])\n",
    "df_clouds['log_with'] = np.log(df_clouds['with'])\n",
    "df_clouds.describe()"
   ]
  },
  {
   "cell_type": "markdown",
   "metadata": {},
   "source": [
    "### 1.a Create density plots of the log-transformed data\n",
    "\n",
    "Hint: Select both log-transformed columns, and apply a density plot."
   ]
  },
  {
   "cell_type": "code",
   "execution_count": 13,
   "metadata": {},
   "outputs": [
    {
     "data": {
      "text/plain": [
       "(<matplotlib.axes._subplots.AxesSubplot at 0x1170f0978>,\n",
       " <matplotlib.axes._subplots.AxesSubplot at 0x1170f0978>)"
      ]
     },
     "execution_count": 13,
     "metadata": {},
     "output_type": "execute_result"
    },
    {
     "data": {
      "image/png": "[encoded data removed]",
      "text/plain": [
       "<matplotlib.figure.Figure at 0x117497e80>"
      ]
     },
     "metadata": {},
     "output_type": "display_data"
    }
   ],
   "source": [
    "#// BEGIN_TODO [PrEx_HYP_1a] Density plots of log-transformed data (1 point)\n",
    "\n",
    "df_clouds['log_without'].plot(kind='kde'),df_clouds['log_with'].plot(kind='kde')\n",
    "\n",
    "#// END_TODO [PrEx_HYP_1a]"
   ]
  },
  {
   "cell_type": "markdown",
   "metadata": {},
   "source": [
    "### 1.b. Create Q-Q plots for the log-transformed data\n",
    "\n",
    "Don't forget to add a title."
   ]
  },
  {
   "cell_type": "code",
   "execution_count": 14,
   "metadata": {},
   "outputs": [
    {
     "data": {
      "text/plain": [
       "<matplotlib.text.Text at 0x117304a58>"
      ]
     },
     "execution_count": 14,
     "metadata": {},
     "output_type": "execute_result"
    },
    {
     "data": {
      "image/png": "[encoded data removed]",
      "text/plain": [
       "<matplotlib.figure.Figure at 0x11762ad68>"
      ]
     },
     "metadata": {},
     "output_type": "display_data"
    }
   ],
   "source": [
    "#// BEGIN_TODO [PrEx_HYP_1b] Q-Q plot for log-transformed data without seeding (1 point)\n",
    "\n",
    "fig = sm.qqplot(df_clouds['log_without'], fit=True, line='45')\n",
    "fig.axes[0].set_title('Q-Q plot for log-transformed data without seeding')\n",
    "\n",
    "#// END_TODO [PrEx_HYP_1b]"
   ]
  },
  {
   "cell_type": "code",
   "execution_count": 15,
   "metadata": {},
   "outputs": [
    {
     "data": {
      "text/plain": [
       "<matplotlib.text.Text at 0x117041da0>"
      ]
     },
     "execution_count": 15,
     "metadata": {},
     "output_type": "execute_result"
    },
    {
     "data": {
      "image/png": "[encoded data removed]",
      "text/plain": [
       "<matplotlib.figure.Figure at 0x1172fc6d8>"
      ]
     },
     "metadata": {},
     "output_type": "display_data"
    }
   ],
   "source": [
    "#// BEGIN_TODO [PrEx_HYP_1b'] Q-Q plot for log-transformed data with seeding (1 point)\n",
    "\n",
    "fig = sm.qqplot(df_clouds['log_with'], fit=True, line='45')\n",
    "fig.axes[0].set_title('Q-Q plot for log-transformed data with seeding')\n",
    "\n",
    "#// END_TODO [PrEx_HYP_1b']"
   ]
  },
  {
   "cell_type": "markdown",
   "metadata": {},
   "source": [
    "### 1.c. Apply Anderson-Darling normality test to the log-transformed data"
   ]
  },
  {
   "cell_type": "code",
   "execution_count": 16,
   "metadata": {},
   "outputs": [
    {
     "data": {
      "text/plain": [
       "(0.23405725120319332, 0.77173952775955101)"
      ]
     },
     "execution_count": 16,
     "metadata": {},
     "output_type": "execute_result"
    }
   ],
   "source": [
    "#// BEGIN_TODO [PrEx_HYP_1c] Anderson-Darling normality test for log-scaled data without seeding (1 point)\n",
    "\n",
    "sm.stats.normal_ad(df_clouds['log_without'])\n",
    "\n",
    "#// END_TODO [PrEx_HYP_1c]"
   ]
  },
  {
   "cell_type": "code",
   "execution_count": 17,
   "metadata": {},
   "outputs": [
    {
     "data": {
      "text/plain": [
       "(0.37033204575403644, 0.39868955829179809)"
      ]
     },
     "execution_count": 17,
     "metadata": {},
     "output_type": "execute_result"
    }
   ],
   "source": [
    "#// BEGIN_TODO [PrEx_HYP_1c'] Anderson-Darling normality test for log-scaled data with seeding (1 point)\n",
    "\n",
    "sm.stats.normal_ad(df_clouds['log_with'])\n",
    "\n",
    "#// END_TODO [PrEx_HYP_1c']"
   ]
  },
  {
   "cell_type": "markdown",
   "metadata": {},
   "source": [
    "Does the log-scaled data follow a normal distribution?\n",
    "Assign your (boolean) answers to the variables `normal_1c_without` and `normal_1c_with`."
   ]
  },
  {
   "cell_type": "code",
   "execution_count": 18,
   "metadata": {},
   "outputs": [
    {
     "data": {
      "text/plain": [
       "(True, True)"
      ]
     },
     "execution_count": 18,
     "metadata": {},
     "output_type": "execute_result"
    }
   ],
   "source": [
    "#// BEGIN_TODO [PrEx_HYP_1c''] Does the log-scaled data follow a normal distribution (1 point)\n",
    "\n",
    "normal_1c_without = True\n",
    "normal_1c_with = True\n",
    "\n",
    "#// END_TODO [PrEx_HYP_1c'']\n",
    "\n",
    "normal_1c_without, normal_1c_with"
   ]
  },
  {
   "cell_type": "markdown",
   "metadata": {},
   "source": [
    "---\n",
    "\n",
    "# 2. Hypothesis testing on two-sample data for equality of means"
   ]
  },
  {
   "cell_type": "markdown",
   "metadata": {},
   "source": [
    "## Learning Objectives of This Section\n",
    "\n",
    "After this section, you should\n",
    "\n",
    "* know how to do _one-sided_ and _two-sided_ tests for **equality of the means**\n",
    "    of _two-sample_ data"
   ]
  },
  {
   "cell_type": "markdown",
   "metadata": {},
   "source": [
    "## Comparing means by a t-test\n",
    "\n",
    "We wish to test whether the means of the two samples (without and with cloud seeding)\n",
    "are the same or there is a significant difference.\n",
    "In other words, if the difference between the means is a coincidence or there is a true difference.\n",
    "Since we expect the result of the silver nitrate to be positive on the amount of rain,\n",
    "we can choose to do a _one-sided test_ instead of a _two-sided test_."
   ]
  },
  {
   "cell_type": "markdown",
   "metadata": {},
   "source": [
    "The corresponding hypotheses for the two-sided case are\n",
    "\n",
    "$$𝐻_0:\\mu_{with}=\\mu_{without}$$\n",
    "\n",
    "$$𝐻_𝑎:\\mu_{with}\\neq\\mu_{without}$$\n",
    "\n",
    "The corresponding hypotheses for the one-sided case are\n",
    "\n",
    "$$𝐻_0:\\mu_{with}=\\mu_{without}$$\n",
    "\n",
    "$$𝐻_𝑎:\\mu_{with}>\\mu_{without}$$"
   ]
  },
  {
   "cell_type": "markdown",
   "metadata": {},
   "source": [
    "Carrying out this kind of test in Python with _StatsModels_ involves three steps:\n",
    "\n",
    "1. **Preprocess the data** using **`sm.stats.DescrStatsW()`**.\n",
    "1. **Create test object** `cm` using **`cm = sm.stats.CompareMeans()`**.\n",
    "1. **Extract test parameters** using\n",
    "\n",
    "    * **`cm.ttest_ind(alternative='...')`** for **t-test statistic**, **p-value**, and\n",
    "        **degrees of freedom**,\n",
    "    * **`cm.tconfint_diff(alpha=..., alternative='...')`** for the **confidence interval**,\n",
    "\n",
    "    where the argument value for `alternative=` is one of `'two-sided'`, `'larger'`, or `'smaller'`."
   ]
  },
  {
   "cell_type": "markdown",
   "metadata": {},
   "source": [
    "## Step 1. Preprocess the data\n",
    "\n",
    "First, we preprocess each of the two data samples separately.\n",
    "The resulting objects will be inputs to the actual comparison test."
   ]
  },
  {
   "cell_type": "code",
   "execution_count": 19,
   "metadata": {
    "collapsed": true
   },
   "outputs": [],
   "source": [
    "d_with = sm.stats.DescrStatsW(df_clouds['with'])\n",
    "d_without = sm.stats.DescrStatsW(df_clouds['without'])"
   ]
  },
  {
   "cell_type": "markdown",
   "metadata": {},
   "source": [
    "## Step 2. Create test object\n",
    "\n",
    "Next, we create the test object using the preprocessed data:"
   ]
  },
  {
   "cell_type": "code",
   "execution_count": 20,
   "metadata": {
    "collapsed": true
   },
   "outputs": [],
   "source": [
    "cm = sm.stats.CompareMeans(d_with, d_without)"
   ]
  },
  {
   "cell_type": "markdown",
   "metadata": {},
   "source": [
    "## Step 3.a. Extract parameters: t-test statistic and p-value\n",
    "\n",
    "The function `cm.ttest_ind(alternative='...')`\n",
    "returns the value of the t-test statistic and its p-value.\n",
    "It also returns as third value the _degrees of freedom_,\n",
    "but this value can be ignored, since we will not use it.\n",
    "\n",
    "Here are the these values for the two-sided test and\n",
    "for the one-sided test where\n",
    "the alternative hypothesis is that $\\mu_{with} > \\mu_{without}$."
   ]
  },
  {
   "cell_type": "code",
   "execution_count": 21,
   "metadata": {},
   "outputs": [
    {
     "data": {
      "text/plain": [
       "((1.9982446280649688, 0.051143202398478069, 50.0),\n",
       " (1.9982446280649688, 0.025571601199239034, 50.0))"
      ]
     },
     "execution_count": 21,
     "metadata": {},
     "output_type": "execute_result"
    }
   ],
   "source": [
    "ttest2 = cm.ttest_ind(alternative='two-sided')\n",
    "ttest1 = cm.ttest_ind(alternative='larger')\n",
    "\n",
    "ttest2, ttest1"
   ]
  },
  {
   "cell_type": "markdown",
   "metadata": {},
   "source": [
    "From the p-value (in the middle: `ttestX[1]`),\n",
    "we see that in the case of a two-sided test with $\\alpha=0.05$,\n",
    "the null hypothesis is not rejected (p-value is not smaller than $\\alpha$).\n",
    "In case of the one-sided test, the null hypothesis would be rejected."
   ]
  },
  {
   "cell_type": "markdown",
   "metadata": {},
   "source": [
    "## Step 3.b. Extract parameters: confidence interval"
   ]
  },
  {
   "cell_type": "markdown",
   "metadata": {},
   "source": [
    "The function `cm.tconfint_diff(alpha=..., alternative='...')` returns the\n",
    "confidence interval for the _difference_ between the two samples (first minus second),\n",
    "with a confidence level of $1 - \\alpha$.\n",
    "For $\\alpha=0.05$ the interval gives a range where the difference is in with a probability of 0.95.\n",
    "Note that a one-sided interval with $\\alpha=0.025$ has one boundary similar to the two-sided interval with $\\alpha=0.05$."
   ]
  },
  {
   "cell_type": "code",
   "execution_count": 22,
   "metadata": {},
   "outputs": [
    {
     "data": {
      "text/plain": [
       "((-1.431855488816268, 556.22416318112403), (44.747157078532666, inf))"
      ]
     },
     "execution_count": 22,
     "metadata": {},
     "output_type": "execute_result"
    }
   ],
   "source": [
    "CI2 = cm.tconfint_diff(alpha=0.05, alternative='two-sided') \n",
    "CI1 = cm.tconfint_diff(alpha=0.05, alternative='larger')\n",
    "\n",
    "CI2, CI1"
   ]
  },
  {
   "cell_type": "markdown",
   "metadata": {},
   "source": [
    "From the two-sided confidence interval, we see that the null hypothesis is not rejected, because it contains the value 0 (no difference in means).\n",
    "From the one-sided confidence interval, we would reject the null hypothesis\n",
    "(since it does not contain 0)."
   ]
  },
  {
   "cell_type": "markdown",
   "metadata": {},
   "source": [
    "## Exercise 2. Cloud seeding, using log transformation (continued)\n",
    "\n",
    "You are now going to repeat the preceding tests for equality of the means on the data\n",
    "after it has been transformed _logarithmically_."
   ]
  },
  {
   "cell_type": "markdown",
   "metadata": {},
   "source": [
    "Carry out a t-test to compare the means of the log-transformed samples.\n",
    "First, preprocess the two samples,\n",
    "assigning the resulting objects to the variables `d_log_with` and `d_log_without`."
   ]
  },
  {
   "cell_type": "code",
   "execution_count": 23,
   "metadata": {
    "collapsed": true
   },
   "outputs": [],
   "source": [
    "#// BEGIN_TODO [PrEx_HYP_2_1] Preprocess the data (1 point)\n",
    "\n",
    "d_log_with = sm.stats.DescrStatsW(df_clouds['log_with'])\n",
    "d_log_without = sm.stats.DescrStatsW(df_clouds['log_without'])\n",
    "\n",
    "#// END_TODO [PrEx_HYP_2_1]"
   ]
  },
  {
   "cell_type": "markdown",
   "metadata": {},
   "source": [
    "Second, create the test object for comparing the means.\n",
    "Assign it to the variable `cm_log`."
   ]
  },
  {
   "cell_type": "code",
   "execution_count": 24,
   "metadata": {
    "collapsed": true
   },
   "outputs": [],
   "source": [
    "#// BEGIN_TODO [PrEx_HYP_2_2] Create test object (1 point)\n",
    "\n",
    "cm_log = sm.stats.CompareMeans(d_log_with, d_log_without)\n",
    "\n",
    "#// END_TODO [PrEx_HYP_2_2]"
   ]
  },
  {
   "cell_type": "markdown",
   "metadata": {},
   "source": [
    "Third, determine the p-values for the two-sided and the one-sided cases.\n",
    "Assign the t-test statistic, p-value, and degrees of freedom to\n",
    "the variables `ttest2_log` and `ttest1_log`."
   ]
  },
  {
   "cell_type": "code",
   "execution_count": 25,
   "metadata": {},
   "outputs": [
    {
     "data": {
      "text/plain": [
       "(0.014082658967206403, 0.0070413294836032016)"
      ]
     },
     "execution_count": 25,
     "metadata": {},
     "output_type": "execute_result"
    }
   ],
   "source": [
    "#// BEGIN_TODO [PrEx_HYP_2_3a] Extract p-value (2 points)\n",
    "\n",
    "ttest2_log = cm_log.ttest_ind(alternative='two-sided')\n",
    "ttest1_log = cm_log.ttest_ind(alternative='larger')\n",
    "\n",
    "#// END_TODO [PrEx_HYP_2_3a]\n",
    "\n",
    "ttest2_log[1], ttest1_log[1]  # the p-values"
   ]
  },
  {
   "cell_type": "markdown",
   "metadata": {},
   "source": [
    "Finally, determine the confidence intervals for the difference in means\n",
    "for the two-sided and the one-sided cases for a confidence level of 95%.\n",
    "Assign the intervals to the variables `CI2_log` and `CI1_log`."
   ]
  },
  {
   "cell_type": "code",
   "execution_count": 26,
   "metadata": {},
   "outputs": [
    {
     "data": {
      "text/plain": [
       "((0.24086505030952887, 2.0466972486197323), (0.39040445271602775, inf))"
      ]
     },
     "execution_count": 26,
     "metadata": {},
     "output_type": "execute_result"
    }
   ],
   "source": [
    "#// BEGIN_TODO [PrEx_HYP_2_3b] Extract confidence interval (2 points)\n",
    "\n",
    "CI2_log = cm_log.tconfint_diff(alpha=0.05, alternative='two-sided') \n",
    "CI1_log = cm_log.tconfint_diff(alpha=0.05, alternative='larger')\n",
    "\n",
    "#// END_TODO [PrEx_HYP_2_3b]\n",
    "\n",
    "CI2_log, CI1_log"
   ]
  },
  {
   "cell_type": "markdown",
   "metadata": {},
   "source": [
    "What is your conclusion?\n",
    "Is there sufficient evidence to reject the null hypothesis (at significance level $\\alpha=0.05$)?\n",
    "Assign your (boolean) answer to the variables `reject_null_2_log` and `reject_null_1_log`."
   ]
  },
  {
   "cell_type": "code",
   "execution_count": 27,
   "metadata": {
    "collapsed": true
   },
   "outputs": [],
   "source": [
    "#// BEGIN_TODO [PrEx_HYP_2_4] Reject null hypothesis? (1 point)\n",
    "\n",
    "reject_null_2_log = True\n",
    "reject_null_1_log = True\n",
    "\n",
    "#// END_TODO [PrEx_HYP_2_4]"
   ]
  },
  {
   "cell_type": "markdown",
   "metadata": {},
   "source": [
    "---\n",
    "\n",
    "# 3. Hypothesis testing on one-sample data for equality of means"
   ]
  },
  {
   "cell_type": "markdown",
   "metadata": {},
   "source": [
    "## Learning Objectives of This Section\n",
    "\n",
    "After this section, you should\n",
    "\n",
    "* know how to do _two-sided_ tests for **equality of the means**\n",
    "    of _one-sample_ data"
   ]
  },
  {
   "cell_type": "markdown",
   "metadata": {},
   "source": [
    "To compare one sample with a value, we can use the same t-test as before.\n",
    "\n",
    "Suppose we are interested in the question whether the clouds with silver nitrate cause a value of the logarithm of the rainfall equal to $3$ feet per acre.\n",
    "\n",
    "The corresponding hypotheses for the two-sided case are\n",
    "\n",
    "$$𝐻_0:\\mu_{with}=3$$\n",
    "\n",
    "$$𝐻_𝑎:\\mu_{with}\\neq3$$ \n",
    "\n",
    "To compare the mean of a sample with a certain value,\n",
    "one can take the second sample as one value."
   ]
  },
  {
   "cell_type": "code",
   "execution_count": 28,
   "metadata": {},
   "outputs": [
    {
     "data": {
      "text/plain": [
       "0.2023291583584797"
      ]
     },
     "execution_count": 28,
     "metadata": {},
     "output_type": "execute_result"
    }
   ],
   "source": [
    "d_log_with = sm.stats.DescrStatsW(df_clouds['log_with'])\n",
    "d_log_3 = sm.stats.DescrStatsW([3])\n",
    "\n",
    "cm_log_3 = sm.stats.CompareMeans(d_log_with, d_log_3)\n",
    "\n",
    "ttest_log_3 = cm_log_3.ttest_ind(alternative='two-sided')\n",
    "ttest_log_3[1]  # the p-value"
   ]
  },
  {
   "cell_type": "markdown",
   "metadata": {},
   "source": [
    "Conclusion: At a significance level of $\\alpha=0.05$ we have no reason to reject the null hypothesis\n",
    "$\\mu_{with}=3$."
   ]
  },
  {
   "cell_type": "markdown",
   "metadata": {},
   "source": [
    "---\n",
    "\n",
    "## Exercise 3. Speed of Light\n",
    "\n",
    "In the 19th century,\n",
    "French physicists Fizeau and Foucault independently invented ways to measure the speed of light.\n",
    "Foucault's method turned out to be the most accurate one.\n",
    "The Foucault method is based on fast rotation mirrors.\n",
    "The American physicists Michelson and Newcomb improved Foucault's method.\n",
    "The data set `light.txt` contains measurements by Newcomb from 1882."
   ]
  },
  {
   "cell_type": "code",
   "execution_count": 29,
   "metadata": {},
   "outputs": [
    {
     "data": {
      "text/html": [
       "<div>\n",
       "<style>\n",
       "    .dataframe thead tr:only-child th {\n",
       "        text-align: right;\n",
       "    }\n",
       "\n",
       "    .dataframe thead th {\n",
       "        text-align: left;\n",
       "    }\n",
       "\n",
       "    .dataframe tbody tr th {\n",
       "        vertical-align: top;\n",
       "    }\n",
       "</style>\n",
       "<table border=\"1\" class=\"dataframe\">\n",
       "  <thead>\n",
       "    <tr style=\"text-align: right;\">\n",
       "      <th></th>\n",
       "      <th>Value</th>\n",
       "    </tr>\n",
       "  </thead>\n",
       "  <tbody>\n",
       "    <tr>\n",
       "      <th>0</th>\n",
       "      <td>28</td>\n",
       "    </tr>\n",
       "    <tr>\n",
       "      <th>1</th>\n",
       "      <td>26</td>\n",
       "    </tr>\n",
       "    <tr>\n",
       "      <th>2</th>\n",
       "      <td>33</td>\n",
       "    </tr>\n",
       "    <tr>\n",
       "      <th>3</th>\n",
       "      <td>24</td>\n",
       "    </tr>\n",
       "    <tr>\n",
       "      <th>4</th>\n",
       "      <td>34</td>\n",
       "    </tr>\n",
       "  </tbody>\n",
       "</table>\n",
       "</div>"
      ],
      "text/plain": [
       "   Value\n",
       "0     28\n",
       "1     26\n",
       "2     33\n",
       "3     24\n",
       "4     34"
      ]
     },
     "execution_count": 29,
     "metadata": {},
     "output_type": "execute_result"
    }
   ],
   "source": [
    "df_light = pd.read_csv(file_light)\n",
    "df_light.head()"
   ]
  },
  {
   "cell_type": "markdown",
   "metadata": {},
   "source": [
    "### 3.a. Add column with decoded values\n",
    "\n",
    "It turns out that Newcomb coded the measurements to get smaller numbers in his table.\n",
    "The data are coded times needed by light to travel a distance of 3721 metres across a river and back.\n",
    "The coding of these measurements was as follows.\n",
    "\n",
    "> From the original times in microseconds measured by Newcomb,\n",
    "> first 24.8 was subtracted,\n",
    "> after which the results were multiplied with 1000.\n",
    "\n",
    "Create a new column labeled `\"Speed [km/s]\"` in your data set with the measured light speed in km/s.\n",
    "\n",
    "Hint: Copy your solution from _Lab Exercises EDA_ 3.e or from _Lab Exercises VIS_ 3.b\n",
    "(**without copying the marker lines, of course**)."
   ]
  },
  {
   "cell_type": "code",
   "execution_count": 30,
   "metadata": {},
   "outputs": [
    {
     "data": {
      "text/html": [
       "<div>\n",
       "<style>\n",
       "    .dataframe thead tr:only-child th {\n",
       "        text-align: right;\n",
       "    }\n",
       "\n",
       "    .dataframe thead th {\n",
       "        text-align: left;\n",
       "    }\n",
       "\n",
       "    .dataframe tbody tr th {\n",
       "        vertical-align: top;\n",
       "    }\n",
       "</style>\n",
       "<table border=\"1\" class=\"dataframe\">\n",
       "  <thead>\n",
       "    <tr style=\"text-align: right;\">\n",
       "      <th></th>\n",
       "      <th>Value</th>\n",
       "      <th>Speed [km/s]</th>\n",
       "    </tr>\n",
       "  </thead>\n",
       "  <tbody>\n",
       "    <tr>\n",
       "      <th>0</th>\n",
       "      <td>28</td>\n",
       "      <td>2.997422e-07</td>\n",
       "    </tr>\n",
       "    <tr>\n",
       "      <th>1</th>\n",
       "      <td>26</td>\n",
       "      <td>2.997664e-07</td>\n",
       "    </tr>\n",
       "    <tr>\n",
       "      <th>2</th>\n",
       "      <td>33</td>\n",
       "      <td>2.996819e-07</td>\n",
       "    </tr>\n",
       "    <tr>\n",
       "      <th>3</th>\n",
       "      <td>24</td>\n",
       "      <td>2.997905e-07</td>\n",
       "    </tr>\n",
       "    <tr>\n",
       "      <th>4</th>\n",
       "      <td>34</td>\n",
       "      <td>2.996698e-07</td>\n",
       "    </tr>\n",
       "  </tbody>\n",
       "</table>\n",
       "</div>"
      ],
      "text/plain": [
       "   Value  Speed [km/s]\n",
       "0     28  2.997422e-07\n",
       "1     26  2.997664e-07\n",
       "2     33  2.996819e-07\n",
       "3     24  2.997905e-07\n",
       "4     34  2.996698e-07"
      ]
     },
     "execution_count": 30,
     "metadata": {},
     "output_type": "execute_result"
    }
   ],
   "source": [
    "#// BEGIN_TODO [LabEx_HYP_3a] Add column with speed in km/s (1 point)\n",
    "\n",
    "df_light['Speed [km/s]'] = (2*3.721/(df_light['Value']/1000+24.8)*1e-6)\n",
    "\n",
    "#// END_TODO [LabEx_HYP_3a]\n",
    "\n",
    "df_light.head()"
   ]
  },
  {
   "cell_type": "markdown",
   "metadata": {},
   "source": [
    "### 3.b. Find the currently most accurate value for the speed of light\n",
    "\n",
    "Assign this value (in km/s) to the variable `c`."
   ]
  },
  {
   "cell_type": "code",
   "execution_count": 31,
   "metadata": {},
   "outputs": [
    {
     "data": {
      "text/plain": [
       "299792.458"
      ]
     },
     "execution_count": 31,
     "metadata": {},
     "output_type": "execute_result"
    }
   ],
   "source": [
    "#// BEGIN_TODO [PrEx_HYP_3b] Currently most accurate value for speed of light in km/s (1 point)\n",
    "\n",
    "c = 299792.458\n",
    "\n",
    "#// END_TODO [PrEx_HYP_3b]\n",
    "\n",
    "c"
   ]
  },
  {
   "cell_type": "markdown",
   "metadata": {},
   "source": [
    "### 3.c Compare measurement mean to currently know value\n",
    "\n",
    "We drop the first 10 measurement,\n",
    "because they needed some measurements to become familiar with the equipment. \n",
    "\n",
    "Do a two-sided t-test to compare the mean of the measurements with the currently known value\n",
    "for the speed of light.\n",
    "Use the following variables:\n",
    "\n",
    "* `d_c` for preprocessed data with currently known value\n",
    "* `d_Newcomb` for preprocessed data of Newcomb, minus the first 10 measurements\n",
    "* `cm_Newcomb` for the test object\n",
    "* `ttest2_Newcomb` for the t-test statistic, p-value, and degrees of freedom"
   ]
  },
  {
   "cell_type": "code",
   "execution_count": 32,
   "metadata": {},
   "outputs": [
    {
     "data": {
      "text/plain": [
       "(5152974327126609.0, 0.0, 55.0)"
      ]
     },
     "execution_count": 32,
     "metadata": {},
     "output_type": "execute_result"
    }
   ],
   "source": [
    "#// BEGIN_TODO [PrEx_HYP_3c] t-test for comparing mean measurment to currently know value (4 points)\n",
    "\n",
    "d_c = sm.stats.DescrStatsW([c])\n",
    "d_Newcomb = sm.stats.DescrStatsW(df_light['Speed [km/s]'].loc[10:])\n",
    "cm_Newcomb = sm.stats.CompareMeans(d_c, d_Newcomb)\n",
    "ttest2_Newcomb = cm_Newcomb.ttest_ind(alternative='two-sided')\n",
    "\n",
    "#// END_TODO [PrEx_HYP_3c]\n",
    "\n",
    "ttest2_Newcomb  # t-test statistic, p-value, degrees of freedom"
   ]
  },
  {
   "cell_type": "markdown",
   "metadata": {},
   "source": [
    "### 3.d. Confidence interval for difference\n",
    "\n",
    "Compute the 95%-confidence interval for the difference beween the mean of the measurements\n",
    "and the currently known value (in km/s).   \n",
    "Assign the interval to the variable `CI2_Newcomb`."
   ]
  },
  {
   "cell_type": "code",
   "execution_count": 33,
   "metadata": {},
   "outputs": [
    {
     "data": {
      "text/plain": [
       "(299792.4579997001, 299792.45799970033)"
      ]
     },
     "execution_count": 33,
     "metadata": {},
     "output_type": "execute_result"
    }
   ],
   "source": [
    "#// BEGIN_TODO [PrEx_HYP_3d] 95%-confidence interval for difference (1 point)\n",
    "\n",
    "CI2_Newcomb = cm_Newcomb.tconfint_diff(alpha=0.05, alternative='two-sided')\n",
    "\n",
    "#// END_TODO [PrEx_HYP_3d]\n",
    "\n",
    "CI2_Newcomb"
   ]
  },
  {
   "cell_type": "markdown",
   "metadata": {},
   "source": [
    "---\n",
    "\n",
    "# 4. Hypothesis testing on proportions"
   ]
  },
  {
   "cell_type": "markdown",
   "metadata": {},
   "source": [
    "## Learning Objectives of This Section\n",
    "\n",
    "After this section, you should\n",
    "\n",
    "* know how to do _one-sided_ and _two-sided_ tests for **equality of proportions**\n",
    "    of _one-sample_ and _two-sample_ data"
   ]
  },
  {
   "cell_type": "markdown",
   "metadata": {},
   "source": [
    "## Overview\n",
    "\n",
    "The last topic is hypothesis testing on proportions.\n",
    "For these tests we do not need a data sample,\n",
    "but only the number of observations and the number of successes.\n",
    "\n",
    "To test whether a proportion is larger or smaller than a certain value or another proportion,\n",
    "we perform a Z-test.\n",
    "\n",
    "Let us look at a class of students following a course.\n",
    "The class has 100 students, and 12 do not pass their exam.\n",
    "In the past, this fail rate was 18%.\n",
    "What can we say about the current proportion?\n",
    "Did it stay equal or has it changed?\n",
    "\n",
    "We set up the data in these variables:\n",
    "\n",
    "* `students` for the total number of students\n",
    "* `fails` for the number of students who failed on the exam\n",
    "* `old_prop` for the old failuure proportion\n",
    "* `new_prop` for the current failure proportion"
   ]
  },
  {
   "cell_type": "code",
   "execution_count": 34,
   "metadata": {},
   "outputs": [
    {
     "data": {
      "text/plain": [
       "(100, 12, 0.18, 0.12)"
      ]
     },
     "execution_count": 34,
     "metadata": {},
     "output_type": "execute_result"
    }
   ],
   "source": [
    "students = 100\n",
    "fails = 12\n",
    "old_prop = 0.18\n",
    "new_prop = fails / students\n",
    "\n",
    "students, fails, old_prop, new_prop"
   ]
  },
  {
   "cell_type": "markdown",
   "metadata": {},
   "source": [
    "First, we compute the 95%-confidence interval `CI` for the proportion of failing students,\n",
    "using function **`sm.stats.proportion_confint()`**."
   ]
  },
  {
   "cell_type": "code",
   "execution_count": 35,
   "metadata": {},
   "outputs": [
    {
     "data": {
      "text/plain": [
       "(0.056308709271573096, 0.18369129072842688)"
      ]
     },
     "execution_count": 35,
     "metadata": {},
     "output_type": "execute_result"
    }
   ],
   "source": [
    "CI = sm.stats.proportion_confint(fails, students, alpha=0.05, method='normal')\n",
    "\n",
    "CI"
   ]
  },
  {
   "cell_type": "markdown",
   "metadata": {},
   "source": [
    "This confidence interval already gives the intuition that the passing rate has improved. Let us perform a $Z$-test to justify the value has changed. \n",
    "The corresponding hypotheses for the _two-sided_ case are\n",
    "\n",
    "$$𝐻_0: p=0.18$$\n",
    "\n",
    "$$𝐻_𝑎: p\\neq 0.18$$\n",
    "\n",
    "We compute the test statistic and its p-value\n",
    "using the function **`sm.stats.proportions_ztest`**:"
   ]
  },
  {
   "cell_type": "code",
   "execution_count": 36,
   "metadata": {},
   "outputs": [
    {
     "data": {
      "text/plain": [
       "0.064838156992066451"
      ]
     },
     "execution_count": 36,
     "metadata": {},
     "output_type": "execute_result"
    }
   ],
   "source": [
    "ztest2 = sm.stats.proportions_ztest(fails, students, value=old_prop, alternative='two-sided')\n",
    "\n",
    "ztest2[1]  # p-value"
   ]
  },
  {
   "cell_type": "markdown",
   "metadata": {},
   "source": [
    "From this test we cannot conclude the proportion of failing students has changed\n",
    "for $\\alpha=0.05$ (since the $p$-value is larger than $\\alpha$).\n",
    "But what if the course has an improved way of teaching and\n",
    "we expect the number of students who failed their exams to decrease?\n",
    "The corresponding hypotheses for the _one-sided_ case are\n",
    "\n",
    "$$𝐻_0: p=0.18$$\n",
    "\n",
    "$$𝐻_𝑎: p<0.18$$"
   ]
  },
  {
   "cell_type": "code",
   "execution_count": 37,
   "metadata": {},
   "outputs": [
    {
     "data": {
      "text/plain": [
       "0.032419078496033225"
      ]
     },
     "execution_count": 37,
     "metadata": {},
     "output_type": "execute_result"
    }
   ],
   "source": [
    "ztest1 = sm.stats.proportions_ztest(fails, students, value=old_prop, alternative='smaller')\n",
    "\n",
    "ztest1[1]  # p-value"
   ]
  },
  {
   "cell_type": "markdown",
   "metadata": {},
   "source": [
    "From this tests\n",
    "we can conclude the proportion of failing student has decreased significantly for $\\alpha=0.05$\n",
    "(since the p-value is smaller than $\\alpha$).\n",
    "\n",
    "The second year this improved course is being taught,\n",
    "there are only 70 students, and 5 students fail their exam.\n",
    "We wish to investigate whether the proportion has changed with respect to the previous year\n",
    "using a statistical test. \n",
    "\n",
    "The corresponding hypotheses for the _two-sided_ case are\n",
    "\n",
    "$$𝐻_0: p_1=p_2$$\n",
    "\n",
    "$$𝐻_𝑎: p_1\\neq p_2$$"
   ]
  },
  {
   "cell_type": "code",
   "execution_count": 38,
   "metadata": {},
   "outputs": [
    {
     "data": {
      "text/plain": [
       "0.29883963548641068"
      ]
     },
     "execution_count": 38,
     "metadata": {},
     "output_type": "execute_result"
    }
   ],
   "source": [
    "students = [100, 70]\n",
    "fails = [12, 5]\n",
    "\n",
    "ztest3 = sm.stats.proportions_ztest(fails, students, value=0, alternative='two-sided')\n",
    "\n",
    "ztest3[1]  # p-value"
   ]
  },
  {
   "cell_type": "markdown",
   "metadata": {},
   "source": [
    "Thus we cannot reject the null hypothesis that the difference is equal to 0\n",
    "(since the p-value is larger than $\\alpha$).\n",
    "So there might not be a signficant difference between the two years."
   ]
  },
  {
   "cell_type": "markdown",
   "metadata": {},
   "source": [
    "---\n",
    "\n",
    "## Exercise 4. Silicon Wafers\n",
    "\n",
    "An important quality characteristic in integrated-circuit manufacturing is\n",
    "the thickness of the wafer\n",
    "(a wafer is a slice of silicon from which chips are made\n",
    "for use as integrated circuits in devices like smartphones).\n",
    "As a routine, the thickness is measured in a gauge, only giving two results: good, or bad.\n",
    "\n",
    "It is known from previous years that $15\\%$ of the wafers are bad.\n",
    "A new batch arrives and a sample of $50$ wafers is taken from this new batch.\n",
    "The number of bad wafers in this sample equals $13$."
   ]
  },
  {
   "cell_type": "markdown",
   "metadata": {},
   "source": [
    "### 4.a. Compute the fraction of bad wafers in the new sample.\n",
    "\n",
    "Assign the number of wafers and number of bad wafers to the variables `wafers` and `wafers_bad`,\n",
    "and the old and the new proportion to the variables\n",
    "`wafers_prop_old` and `wafers_prop_new`."
   ]
  },
  {
   "cell_type": "code",
   "execution_count": 39,
   "metadata": {},
   "outputs": [
    {
     "data": {
      "text/plain": [
       "(50, 13, 0.15, 0.26)"
      ]
     },
     "execution_count": 39,
     "metadata": {},
     "output_type": "execute_result"
    }
   ],
   "source": [
    "#// BEGIN_TODO [PrEx_HYP_4a] Wafers, bad wafers, old and new proportion (1 point)\n",
    "\n",
    "wafers = 50\n",
    "wafers_bad = 13\n",
    "wafers_prop_old = 0.15\n",
    "wafers_prop_new = wafers_bad / wafers\n",
    "\n",
    "#// END_TODO [PrEx_HYP_4a]\n",
    "\n",
    "wafers, wafers_bad, wafers_prop_old, wafers_prop_new"
   ]
  },
  {
   "cell_type": "markdown",
   "metadata": {},
   "source": [
    "### 4.b. Compute a 95%-confidence interval for the fraction of the new sample\n",
    "\n",
    "Assign it to the variable `CI_wafers_4b`."
   ]
  },
  {
   "cell_type": "code",
   "execution_count": 40,
   "metadata": {},
   "outputs": [
    {
     "data": {
      "text/plain": [
       "(0.13841902475292034, 0.38158097524707968)"
      ]
     },
     "execution_count": 40,
     "metadata": {},
     "output_type": "execute_result"
    }
   ],
   "source": [
    "#// BEGIN_TODO [PrEx_HYP_4b] Confidence interval for proportion of bad wafers in new sample (1 point)\n",
    "\n",
    "CI_wafers_4b = sm.stats.proportion_confint(wafers_bad, wafers, alpha=0.05, method='normal')\n",
    "\n",
    "#// END_TODO [PrEx_HYP_4b]\n",
    "\n",
    "CI_wafers_4b"
   ]
  },
  {
   "cell_type": "markdown",
   "metadata": {},
   "source": [
    "### 4.c. Use a confidence interval to answer the question whether the fraction of bad wafers has changed as compared to the previous batch or not\n",
    "\n",
    "Use a significance level of 5% (so $\\alpha=0.05$).\n",
    "Assign your (boolean) answer to the variable `wafers_prop_changed_4c`."
   ]
  },
  {
   "cell_type": "code",
   "execution_count": 41,
   "metadata": {},
   "outputs": [
    {
     "data": {
      "text/plain": [
       "False"
      ]
     },
     "execution_count": 41,
     "metadata": {},
     "output_type": "execute_result"
    }
   ],
   "source": [
    "#// BEGIN_TODO [PrEx_HYP_4c] Has the fraction of bad wafers changed? (1 point)\n",
    "\n",
    "wafers_prop_changed_4c = False\n",
    "\n",
    "#// END_TODO [PrEx_HYP_4c]\n",
    "\n",
    "wafers_prop_changed_4c"
   ]
  },
  {
   "cell_type": "markdown",
   "metadata": {},
   "source": [
    "### 4.d. Has the fraction of bad wafers changed?\n",
    "\n",
    "Formulate the question whether the fraction of bad wafers has changed as statistical hypotheses\n",
    "\n",
    "Assign the hypotheses as strings to variables `wafers_H_0_4d` and `wafers_H_a_4d`."
   ]
  },
  {
   "cell_type": "code",
   "execution_count": 42,
   "metadata": {},
   "outputs": [
    {
     "data": {
      "text/plain": [
       "('p = 0.15', 'p ≠ 0.15')"
      ]
     },
     "execution_count": 42,
     "metadata": {},
     "output_type": "execute_result"
    }
   ],
   "source": [
    "#// BEGIN_TODO [PrEx_HYP_4d] Hypotheses for question whether fraction of bad wafers changed (2 points)\n",
    "\n",
    "wafers_H_0_4d = 'p = 0.15'\n",
    "wafers_H_a_4d = 'p ≠ 0.15'\n",
    "\n",
    "#// END_TODO [PrEx_HYP_4d]\n",
    "\n",
    "wafers_H_0_4d, wafers_H_a_4d"
   ]
  },
  {
   "cell_type": "markdown",
   "metadata": {},
   "source": [
    "Also compute the $p$-value of the corresponding Z-test statistic,\n",
    "using the variable `ztest_wafers_4d` (such that `ztest_wafers_4d[1]` equals the p-value)."
   ]
  },
  {
   "cell_type": "code",
   "execution_count": 43,
   "metadata": {},
   "outputs": [
    {
     "data": {
      "text/plain": [
       "0.076183783781604369"
      ]
     },
     "execution_count": 43,
     "metadata": {},
     "output_type": "execute_result"
    }
   ],
   "source": [
    "#// BEGIN_TODO [PrEx_HYP_4d'] p-value for Z-test statistic (1 point)\n",
    "\n",
    "ztest_wafers_4d = sm.stats.proportions_ztest(wafers_bad, wafers, value=wafers_prop_old, alternative='two-sided')\n",
    "\n",
    "#// END_TODO [PrEx_HYP_4d']\n",
    "\n",
    "ztest_wafers_4d[1]  # the p-value"
   ]
  },
  {
   "cell_type": "markdown",
   "metadata": {},
   "source": [
    "Indicate, based on this $p$-value, whether the fraction of bad wafers has changed.\n",
    "Use a significance level of 5% (so $\\alpha=0.05$).\n",
    "Assign you (boolean) answer to the variable `wafers_prop_changed_4d`."
   ]
  },
  {
   "cell_type": "code",
   "execution_count": 44,
   "metadata": {},
   "outputs": [
    {
     "data": {
      "text/plain": [
       "False"
      ]
     },
     "execution_count": 44,
     "metadata": {},
     "output_type": "execute_result"
    }
   ],
   "source": [
    "#// BEGIN_TODO [PrEx_HYP_4d''] Has the fraction of bad wafers changed? (1 point)\n",
    "\n",
    "wafers_prop_changed_4d = False\n",
    "\n",
    "#// END_TODO [PrEx_HYP_4d'']\n",
    "\n",
    "wafers_prop_changed_4d"
   ]
  },
  {
   "cell_type": "markdown",
   "metadata": {},
   "source": [
    "### 4.e. Repeat 4.c when the new batch comes from a new, deteriorated manufacturing process\n",
    "\n",
    "Hint: Use the one-sided approach.\n",
    "Since the function `proportion_confint()` computes two-sided confidence intervals only,\n",
    "take one side (the appropriate side) of the two-sided confidence interval for $2\\alpha$.\n",
    "\n",
    "Assign the properly adjusted confidence interval to the variable `CI_wafers_4e`,\n",
    "by replacing the irrelevant boundary by `0.0` or `1.0`."
   ]
  },
  {
   "cell_type": "code",
   "execution_count": 45,
   "metadata": {},
   "outputs": [
    {
     "data": {
      "text/plain": [
       "(0.15796602913069024, 0.36203397086930977)"
      ]
     },
     "execution_count": 45,
     "metadata": {},
     "output_type": "execute_result"
    }
   ],
   "source": [
    "#// BEGIN_TODO [PrEx_HYP_4e] Confidence interval for proportion of bad wafers in new sample (2 points)\n",
    "\n",
    "CI_wafers_4e = sm.stats.proportion_confint(wafers_bad, wafers, alpha=0.1, method='normal')\n",
    "\n",
    "#// END_TODO [PrEx_HYP_4e]\n",
    "\n",
    "CI_wafers_4e"
   ]
  },
  {
   "cell_type": "code",
   "execution_count": 46,
   "metadata": {},
   "outputs": [
    {
     "data": {
      "text/plain": [
       "True"
      ]
     },
     "execution_count": 46,
     "metadata": {},
     "output_type": "execute_result"
    }
   ],
   "source": [
    "#// BEGIN_TODO [PrEx_HYP_4e'] Has the fraction of bad wafers changed? (1 point)\n",
    "\n",
    "wafers_prop_changed_4e = True\n",
    "\n",
    "#// END_TODO [PrEx_HYP_4e']\n",
    "\n",
    "wafers_prop_changed_4e"
   ]
  },
  {
   "cell_type": "markdown",
   "metadata": {},
   "source": [
    "### 4.f. Repeat 4.d when the new batch comes from a new, deteriorated manufacturing process\n",
    "\n",
    "Formulate the question whether the fraction of bad wafers has changed as statistical hypotheses\n",
    "\n",
    "Assign the hypotheses as strings to variables `wafers_H_0_4f` and `wafers_H_a_4f`."
   ]
  },
  {
   "cell_type": "code",
   "execution_count": 47,
   "metadata": {},
   "outputs": [
    {
     "data": {
      "text/plain": [
       "('p = 0.15', 'p < 0.15')"
      ]
     },
     "execution_count": 47,
     "metadata": {},
     "output_type": "execute_result"
    }
   ],
   "source": [
    "#// BEGIN_TODO [PrEx_HYP_4f] Hypotheses for question whether fraction of bad wafers increased (2 points)\n",
    "\n",
    "wafers_H_0_4f = 'p = 0.15'\n",
    "wafers_H_a_4f = 'p < 0.15'\n",
    "\n",
    "#// END_TODO [PrEx_HYP_4f]\n",
    "\n",
    "wafers_H_0_4f, wafers_H_a_4f"
   ]
  },
  {
   "cell_type": "markdown",
   "metadata": {},
   "source": [
    "Also compute the $p$-value of the corresponding Z-test statistic,\n",
    "using the variable `ztest_wafers_4f` (such that `ztest_wafers_4f[1]` equals the p-value)."
   ]
  },
  {
   "cell_type": "code",
   "execution_count": 48,
   "metadata": {},
   "outputs": [
    {
     "data": {
      "text/plain": [
       "0.9619081081091978"
      ]
     },
     "execution_count": 48,
     "metadata": {},
     "output_type": "execute_result"
    }
   ],
   "source": [
    "#// BEGIN_TODO [PrEx_HYP_4f'] p-value for Z-test statistic (1 point)\n",
    "\n",
    "ztest_wafers_4f = sm.stats.proportions_ztest(wafers_bad, wafers, value=wafers_prop_old, alternative='smaller')\n",
    "\n",
    "#// END_TODO [PrEx_HYP_4f']\n",
    "\n",
    "ztest_wafers_4f[1]  # the p-value"
   ]
  },
  {
   "cell_type": "markdown",
   "metadata": {},
   "source": [
    "Indicate, based on this $p$-value, whether the fraction of bad wafers has changed.\n",
    "Use a significance level of 5% (so $\\alpha=0.05$).\n",
    "Assign you (boolean) answer to the variable `wafers_prop_changed_4f`."
   ]
  },
  {
   "cell_type": "code",
   "execution_count": 49,
   "metadata": {},
   "outputs": [
    {
     "data": {
      "text/plain": [
       "True"
      ]
     },
     "execution_count": 49,
     "metadata": {},
     "output_type": "execute_result"
    }
   ],
   "source": [
    "#// BEGIN_TODO [PrEx_HYP_4f''] Has the fraction of bad wafers increased? (1 point)\n",
    "\n",
    "wafers_prop_changed_4f = True\n",
    "\n",
    "#// END_TODO [PrEx_HYP_4f'']\n",
    "\n",
    "wafers_prop_changed_4f"
   ]
  },
  {
   "cell_type": "markdown",
   "metadata": {},
   "source": [
    "### 4.g. Is the new process stable?\n",
    "\n",
    "The production manager wishes to know whether the new manufacturing process is stable\n",
    "with respect to the fraction of bad wafers.\n",
    "A second new batch of $25$ wafers produced with the new manufacturing process\n",
    "arrives with $5$ bad wafers.\n",
    "\n",
    "Formulate the stability question as statistical hypotheses.\n",
    "Assign these hypotheses as strings to the variables `wafers_H_0_4g` and `wafers_H_a_4g`."
   ]
  },
  {
   "cell_type": "code",
   "execution_count": 50,
   "metadata": {},
   "outputs": [
    {
     "data": {
      "text/plain": [
       "('p = 0.2', 'p ≠ 0.2')"
      ]
     },
     "execution_count": 50,
     "metadata": {},
     "output_type": "execute_result"
    }
   ],
   "source": [
    "#// BEGIN_TODO [PrEx_HYP_4g] Hypotheses for question whether the process is stable (2 points)\n",
    "\n",
    "wafers_H_0_4g = 'p = 0.2'\n",
    "wafers_H_a_4g = 'p ≠ 0.2'\n",
    "\n",
    "#// END_TODO [PrEx_HYP_4g]\n",
    "\n",
    "wafers_H_0_4g, wafers_H_a_4g"
   ]
  },
  {
   "cell_type": "markdown",
   "metadata": {},
   "source": [
    "And compute the $p$-value of the corresponding Z-test statistic.\n",
    "Assign your answer to the variable `ztest_wafers_4g`\n",
    "(such that `ztest_wafers_4g[1]` equals the p-value)."
   ]
  },
  {
   "cell_type": "code",
   "execution_count": 51,
   "metadata": {},
   "outputs": [
    {
     "data": {
      "text/plain": [
       "0.076183783781604369"
      ]
     },
     "execution_count": 51,
     "metadata": {},
     "output_type": "execute_result"
    }
   ],
   "source": [
    "#// BEGIN_TODO [PrEx_HYP_4g'] Z-test statistic and p-value (2 points)\n",
    "\n",
    "ztest_wafers_4g = sm.stats.proportions_ztest(wafers_bad, wafers, value=wafers_prop_old, alternative='two-sided')\n",
    "\n",
    "#// END_TODO [PrEx_HYP_4g']\n",
    "\n",
    "ztest_wafers_4g[1]  # p-value"
   ]
  },
  {
   "cell_type": "markdown",
   "metadata": {},
   "source": [
    "Indicate, based on this $p$-value, whether the new process is stable.\n",
    "Use a significance level of 5% (so $\\alpha=0.05$).\n",
    "\n",
    "Assign your (boolean) answer to the stability question to the variable `wafers_prop_stable_4g`."
   ]
  },
  {
   "cell_type": "code",
   "execution_count": 52,
   "metadata": {},
   "outputs": [
    {
     "data": {
      "text/plain": [
       "True"
      ]
     },
     "execution_count": 52,
     "metadata": {},
     "output_type": "execute_result"
    }
   ],
   "source": [
    "#// BEGIN_TODO [PrEx_HYP_4g''] Is the process stable? (1 point)\n",
    "\n",
    "wafers_prop_stable_4g = True\n",
    "\n",
    "#// END_TODO [PrEx_HYP_4g'']\n",
    "\n",
    "wafers_prop_stable_4g"
   ]
  },
  {
   "cell_type": "markdown",
   "metadata": {},
   "source": [
    "---"
   ]
  },
  {
   "cell_type": "code",
   "execution_count": 53,
   "metadata": {},
   "outputs": [
    {
     "name": "stdout",
     "output_type": "stream",
     "text": [
      "Variable                 Type            Data/Info\n",
      "--------------------------------------------------\n",
      "AUTHOR_DATE              str             2018-03-21\n",
      "AUTHOR_ID_NR             str             1001716\n",
      "AUTHOR_NAME              str             Ysanne Mieneke Pasveer\n",
      "CI                       tuple           n=2\n",
      "CI1                      tuple           n=2\n",
      "CI1_log                  tuple           n=2\n",
      "CI2                      tuple           n=2\n",
      "CI2_Newcomb              tuple           n=2\n",
      "CI2_log                  tuple           n=2\n",
      "CI_wafers_4b             tuple           n=2\n",
      "CI_wafers_4e             tuple           n=2\n",
      "c                        float           299792.458\n",
      "cm                       CompareMeans    <statsmodels.stats.weight<...>ns object at 0x113d3f4a8>\n",
      "cm_Newcomb               CompareMeans    <statsmodels.stats.weight<...>ns object at 0x113d2e1d0>\n",
      "cm_log                   CompareMeans    <statsmodels.stats.weight<...>ns object at 0x1174a50b8>\n",
      "cm_log_3                 CompareMeans    <statsmodels.stats.weight<...>ns object at 0x1170bfcf8>\n",
      "d_Newcomb                DescrStatsW     <statsmodels.stats.weight<...>sW object at 0x113d2e160>\n",
      "d_c                      DescrStatsW     <statsmodels.stats.weight<...>sW object at 0x113d2e080>\n",
      "d_log_3                  DescrStatsW     <statsmodels.stats.weight<...>sW object at 0x117054940>\n",
      "d_log_with               DescrStatsW     <statsmodels.stats.weight<...>sW object at 0x1170bf400>\n",
      "d_log_without            DescrStatsW     <statsmodels.stats.weight<...>sW object at 0x1170d6e80>\n",
      "d_with                   DescrStatsW     <statsmodels.stats.weight<...>sW object at 0x11704ca58>\n",
      "d_without                DescrStatsW     <statsmodels.stats.weight<...>sW object at 0x117293a90>\n",
      "datadir                  str             ../../datasets/EDA/\n",
      "df_clouds                DataFrame           without    with  log_<...>.1     0.000000  1.410987\n",
      "df_light                 DataFrame           Value  Speed [km/s]\\n<...>\\n\\n[66 rows x 2 columns]\n",
      "fails                    list            n=2\n",
      "fig                      Figure          Figure(576x576)\n",
      "file_clouds              str             ../../datasets/EDA/clouds-clean.csv\n",
      "file_light               str             ../../datasets/EDA/light-clean.csv\n",
      "new_prop                 float           0.12\n",
      "normal_1c_with           bool            True\n",
      "normal_1c_without        bool            True\n",
      "np                       module          <module 'numpy' from '/an<...>kages/numpy/__init__.py'>\n",
      "old_prop                 float           0.18\n",
      "pd                       module          <module 'pandas' from '/a<...>ages/pandas/__init__.py'>\n",
      "plt                      module          <module 'matplotlib.pyplo<...>es/matplotlib/pyplot.py'>\n",
      "reject_null_1_log        bool            True\n",
      "reject_null_2_log        bool            True\n",
      "sm                       module          <module 'statsmodels.api'<...>ages/statsmodels/api.py'>\n",
      "sns                      module          <module 'seaborn' from '/<...>ges/seaborn/__init__.py'>\n",
      "students                 list            n=2\n",
      "ttest1                   tuple           n=3\n",
      "ttest1_log               tuple           n=3\n",
      "ttest2                   tuple           n=3\n",
      "ttest2_Newcomb           tuple           n=3\n",
      "ttest2_log               tuple           n=3\n",
      "ttest_log_3              tuple           n=3\n",
      "wafers                   int             50\n",
      "wafers_H_0_4d            str             p = 0.15\n",
      "wafers_H_0_4f            str             p = 0.15\n",
      "wafers_H_0_4g            str             p = 0.2\n",
      "wafers_H_a_4d            str             p ≠ 0.15\n",
      "wafers_H_a_4f            str             p < 0.15\n",
      "wafers_H_a_4g            str             p ≠ 0.2\n",
      "wafers_bad               int             13\n",
      "wafers_prop_changed_4c   bool            False\n",
      "wafers_prop_changed_4d   bool            False\n",
      "wafers_prop_changed_4e   bool            True\n",
      "wafers_prop_changed_4f   bool            True\n",
      "wafers_prop_new          float           0.26\n",
      "wafers_prop_old          float           0.15\n",
      "wafers_prop_stable_4g    bool            True\n",
      "ztest1                   tuple           n=2\n",
      "ztest2                   tuple           n=2\n",
      "ztest3                   tuple           n=2\n",
      "ztest_wafers_4d          tuple           n=2\n",
      "ztest_wafers_4f          tuple           n=2\n",
      "ztest_wafers_4g          tuple           n=2\n"
     ]
    }
   ],
   "source": [
    "# List all defined names\n",
    "%whos"
   ]
  },
  {
   "cell_type": "markdown",
   "metadata": {},
   "source": [
    "---\n",
    "\n",
    "# (End of Notebook)\n",
    "\n",
    "&copy; 2017-2018 - **TU/e** - Eindhoven University of Technology"
   ]
  }
 ],
 "metadata": {
  "kernelspec": {
   "display_name": "Python 3",
   "language": "python",
   "name": "python3"
  },
  "language_info": {
   "codemirror_mode": {
    "name": "ipython",
    "version": 3
   },
   "file_extension": ".py",
   "mimetype": "text/x-python",
   "name": "python",
   "nbconvert_exporter": "python",
   "pygments_lexer": "ipython3",
   "version": "3.6.1"
  },
  "toc": {
   "nav_menu": {
    "height": "174px",
    "width": "252px"
   },
   "number_sections": false,
   "sideBar": true,
   "skip_h1_title": false,
   "title_cell": "Table of Contents",
   "title_sidebar": "Contents",
   "toc_cell": true,
   "toc_position": {
    "height": "calc(100% - 180px)",
    "left": "10px",
    "top": "150px",
    "width": "267px"
   },
   "toc_section_display": "block",
   "toc_window_display": true
  }
 },
 "nbformat": 4,
 "nbformat_minor": 2
}

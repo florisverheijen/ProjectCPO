{
 "cells": [
  {
   "cell_type": "markdown",
   "metadata": {},
   "source": [
    "# Programming Lesson and Exercises - More Python & Pandas<span class=\"tocSkip\"></span>\n",
    "\n",
    "These programming lessons do not require prior programming experience.\n",
    "\n",
    "The goal is to teach you the use of _Python 3_ and the _Jupyter Notebook_ software\n",
    "in the context of _Data Analytics_.\n",
    "\n",
    "<div class=\"alert-info alert\" role=\"alert-info\">While you read this notebook,\n",
    "execute all code cells in linear order\n",
    "from the beginning</div>"
   ]
  },
  {
   "cell_type": "markdown",
   "metadata": {},
   "source": [
    "\n",
    "# Introduction to this template notebook\n",
    "\n",
    "* This is a **personal** notebook.\n",
    "* Make sure you work in a **copy** of `...-template.ipynb`,\n",
    "**renamed** to `...-yourIDnr.ipynb`,\n",
    "where `yourIDnr` is your TU/e identification number.\n",
    "\n",
    "<div class=\"alert alert-danger\" role=\"danger\">Sharing your notebook with others is considered **fraud** under the TU/e regulations.</div>\n",
    "\n",
    "You are expected to work with Python code in this notebook.\n",
    "\n",
    "The locations where you should write your solutions can be recognized by\n",
    "**marker lines**,\n",
    "which look like this:\n",
    "\n",
    ">`#//`\n",
    ">    `BEGIN_TODO [Label]` `Description` `(n points)`\n",
    ">\n",
    ">`#//`\n",
    ">    `END_TODO [Label]`\n",
    "\n",
    "<div class=\"alert alert-warning\" role=\"alert\">Do NOT modify or delete these marker lines.  Keep them as they are.<br/>\n",
    "<br/>\n",
    "NEVER write code <i>outside</i> the marked blocks.\n",
    "Such code cannot be evaluated.\n",
    "</div>\n",
    "\n",
    "Proceed in this notebook as follows:\n",
    "* **Read** the text.\n",
    "* **Fill in** your solutions between `BEGIN_TODO` and `END_TODO` marker lines.\n",
    "* **Run** _all_ code cells (also the ones _without_ your code),\n",
    "    _in linear order_ from the first code cell.\n",
    "\n",
    "**Personalize your notebook**:\n",
    "1. Copy the following three lines of code:\n",
    "\n",
    "  ```python\n",
    "  AUTHOR_NAME = 'Your Full Name'\n",
    "  AUTHOR_ID_NR = '1234567'\n",
    "  AUTHOR_DATE = 'YYYY-MM-DD'  # when notebook was first modified, e.g. '2018-02-05'\n",
    "  ```\n",
    "\n",
    "1. Paste them between the marker lines in the next code cell.\n",
    "1. Fill in your _full name_, _identification number_, and the current _date_ as strings between quotes.\n",
    "1. Run the code cell by putting the cursor there and typing **Control-Enter**.\n"
   ]
  },
  {
   "cell_type": "code",
   "execution_count": 1,
   "metadata": {},
   "outputs": [
    {
     "data": {
      "text/plain": [
       "('Ysanne Pasveer', '1001716', '2018-03-13')"
      ]
     },
     "execution_count": 1,
     "metadata": {},
     "output_type": "execute_result"
    }
   ],
   "source": [
    "#// BEGIN_TODO [PrEx_DAS_2018.1] Name, Id.nr., Date, as strings (1 point)\n",
    "\n",
    "AUTHOR_NAME = 'Ysanne Pasveer'\n",
    "AUTHOR_ID_NR = '1001716'\n",
    "AUTHOR_DATE = '2018-03-13'\n",
    "\n",
    "#// END_TODO [PrEx_DAS_2018.1]\n",
    "\n",
    "AUTHOR_NAME, AUTHOR_ID_NR, AUTHOR_DATE"
   ]
  },
  {
   "cell_type": "markdown",
   "metadata": {
    "toc": "true"
   },
   "source": [
    "<h1>Table of Contents<span class=\"tocSkip\"></span></h1>\n",
    "<div class=\"toc\"><ul class=\"toc-item\"><li><ul class=\"toc-item\"><li><span><a href=\"#What-you-need\" data-toc-modified-id=\"What-you-need-0.1\">What you need</a></span></li><li><span><a href=\"#Loading-the-libraries\" data-toc-modified-id=\"Loading-the-libraries-0.2\">Loading the libraries</a></span></li><li><span><a href=\"#Loading-a-data-set\" data-toc-modified-id=\"Loading-a-data-set-0.3\">Loading a data set</a></span></li></ul></li><li><span><a href=\"#1.-More-Python\" data-toc-modified-id=\"1.-More-Python-1\">1. More Python</a></span><ul class=\"toc-item\"><li><span><a href=\"#Learning-Objectives-of-This-Section\" data-toc-modified-id=\"Learning-Objectives-of-This-Section-1.1\">Learning Objectives of This Section</a></span></li><li><span><a href=\"#Lists\" data-toc-modified-id=\"Lists-1.2\">Lists</a></span></li><li><span><a href=\"#for-loops\" data-toc-modified-id=\"for-loops-1.3\"><code>for</code> loops</a></span><ul class=\"toc-item\"><li><span><a href=\"#Nested-for-loops\" data-toc-modified-id=\"Nested-for-loops-1.3.1\">Nested <code>for</code> loops</a></span></li></ul></li><li><span><a href=\"#if-statements\" data-toc-modified-id=\"if-statements-1.4\"><code>if</code> statements</a></span></li><li><span><a href=\"#List-comprehensions\" data-toc-modified-id=\"List-comprehensions-1.5\">List comprehensions</a></span></li><li><span><a href=\"#Generator-expressions\" data-toc-modified-id=\"Generator-expressions-1.6\">Generator expressions</a></span></li><li><span><a href=\"#Exercises-1\" data-toc-modified-id=\"Exercises-1-1.7\">Exercises 1</a></span></li></ul></li><li><span><a href=\"#2.-More-Pandas\" data-toc-modified-id=\"2.-More-Pandas-2\">2. More Pandas</a></span><ul class=\"toc-item\"><li><span><a href=\"#Learning-Objectives-of-This-Section\" data-toc-modified-id=\"Learning-Objectives-of-This-Section-2.1\">Learning Objectives of This Section</a></span></li><li><span><a href=\"#Using-integer-positions-to-access-a-DataFrame\" data-toc-modified-id=\"Using-integer-positions-to-access-a-DataFrame-2.2\">Using integer positions to access a <code>DataFrame</code></a></span></li><li><span><a href=\"#More-statistics:-index-of-minimum-and-maximum\" data-toc-modified-id=\"More-statistics:-index-of-minimum-and-maximum-2.3\">More statistics: index of minimum and maximum</a></span></li><li><span><a href=\"#More-statistics:-value-counts\" data-toc-modified-id=\"More-statistics:-value-counts-2.4\">More statistics: value counts</a></span></li><li><span><a href=\"#More-boolean-masks:-isin()\" data-toc-modified-id=\"More-boolean-masks:-isin()-2.5\">More boolean masks: <code>isin()</code></a></span></li><li><span><a href=\"#Playing-with-the-index\" data-toc-modified-id=\"Playing-with-the-index-2.6\">Playing with the index</a></span></li><li><span><a href=\"#Operations-involving-multiple-rows\" data-toc-modified-id=\"Operations-involving-multiple-rows-2.7\">Operations involving multiple rows</a></span></li><li><span><a href=\"#Exercises-2\" data-toc-modified-id=\"Exercises-2-2.8\">Exercises 2</a></span></li></ul></li><li><span><a href=\"#3.-Dates-and-Times\" data-toc-modified-id=\"3.-Dates-and-Times-3\">3. Dates and Times</a></span><ul class=\"toc-item\"><li><span><a href=\"#Learning-Objectives-of-This-Section\" data-toc-modified-id=\"Learning-Objectives-of-This-Section-3.1\">Learning Objectives of This Section</a></span></li><li><span><a href=\"#Why-dates-and-times-are-complicated\" data-toc-modified-id=\"Why-dates-and-times-are-complicated-3.2\">Why dates and times are complicated</a></span></li><li><span><a href=\"#Working-with-dates-and-times-in-Python\" data-toc-modified-id=\"Working-with-dates-and-times-in-Python-3.3\">Working with dates and times in Python</a></span></li><li><span><a href=\"#Exercises-3\" data-toc-modified-id=\"Exercises-3-3.4\">Exercises 3</a></span></li></ul></li><li><span><a href=\"#(End-of-Notebook)\" data-toc-modified-id=\"(End-of-Notebook)-4\">(End of Notebook)</a></span></li></ul></div>"
   ]
  },
  {
   "cell_type": "markdown",
   "metadata": {},
   "source": [
    "## What you need\n",
    "\n",
    "* This notebook\n",
    "* `country-data.csv` from _Programming Lesson and Exercises - Pandas_ (EDA)"
   ]
  },
  {
   "cell_type": "code",
   "execution_count": 2,
   "metadata": {
    "collapsed": true
   },
   "outputs": [],
   "source": [
    "datadir = '../../datasets/country-data/'\n",
    "file_countries = datadir + 'country-data.csv'"
   ]
  },
  {
   "cell_type": "markdown",
   "metadata": {},
   "source": [
    "\n",
    "## How to submit your work\n",
    "\n",
    "You can submit your work to Canvas in the form of this Jupyter notebook,\n",
    "containing your solutions in the indicated places\n",
    "(recognizable by the **marker lines** with `... BEGIN_TODO ...` and `... END_TODO ...`).\n",
    "\n",
    "> **NOTE: Do NOT modify or delete these marker lines.**\n",
    "\n",
    "1. **Before submitting**, you must run your notebook by doing **Kernel > Restart & Run All**.  \n",
    "   Make sure that your notebook runs without errors **in linear order**.\n",
    "\n",
    "2. Submit the executed notebook with your work\n",
    "   for the appropriate assignment in **Canvas**.\n",
    "\n",
    "* In the **Momotor** tab in Canvas,\n",
    "  you can select that assignment again to find some feedback on your submitted work.\n",
    "  \n",
    "* If there are any problems reported by _Momotor_,\n",
    "  then you need to fix those,\n",
    "  and **resubmit the fixed notebook**.\n",
    "\n",
    "In case of a high workload on our server\n",
    "(because many students submit close to the deadline),\n",
    "it may take longer to receive the feedback.\n"
   ]
  },
  {
   "cell_type": "markdown",
   "metadata": {},
   "source": [
    "## Loading the libraries\n",
    "\n",
    "To show examples, we load some Data Analytics libraries first:"
   ]
  },
  {
   "cell_type": "code",
   "execution_count": 3,
   "metadata": {
    "collapsed": true
   },
   "outputs": [],
   "source": [
    "import numpy as np  # import auxiliary library, typical idiom\n",
    "import pandas as pd  # import the Pandas library, typical idiom\n",
    "\n",
    "# next command ensures that plots appear inside the notebook\n",
    "%matplotlib inline\n",
    "import matplotlib.pyplot as plt\n",
    "import seaborn as sns\n",
    "sns.set()  # set Seaborn defaults\n",
    "plt.rcParams['figure.figsize'] = 10, 5  # default hor./vert. size of plots, in inches\n",
    "plt.rcParams['lines.markeredgewidth'] = 1  # to fix issue with seaborn box plots; needed after import seaborn"
   ]
  },
  {
   "cell_type": "markdown",
   "metadata": {},
   "source": [
    "## Loading a data set"
   ]
  },
  {
   "cell_type": "code",
   "execution_count": 4,
   "metadata": {},
   "outputs": [
    {
     "data": {
      "text/html": [
       "<div>\n",
       "<style>\n",
       "    .dataframe thead tr:only-child th {\n",
       "        text-align: right;\n",
       "    }\n",
       "\n",
       "    .dataframe thead th {\n",
       "        text-align: left;\n",
       "    }\n",
       "\n",
       "    .dataframe tbody tr th {\n",
       "        vertical-align: top;\n",
       "    }\n",
       "</style>\n",
       "<table border=\"1\" class=\"dataframe\">\n",
       "  <thead>\n",
       "    <tr style=\"text-align: right;\">\n",
       "      <th></th>\n",
       "      <th>name</th>\n",
       "      <th>alpha_3</th>\n",
       "      <th>tld</th>\n",
       "      <th>continent</th>\n",
       "      <th>capital</th>\n",
       "      <th>area</th>\n",
       "      <th>population</th>\n",
       "    </tr>\n",
       "  </thead>\n",
       "  <tbody>\n",
       "    <tr>\n",
       "      <th>0</th>\n",
       "      <td>Andorra</td>\n",
       "      <td>AND</td>\n",
       "      <td>.ad</td>\n",
       "      <td>EU</td>\n",
       "      <td>Andorra la Vella</td>\n",
       "      <td>468.0</td>\n",
       "      <td>84000</td>\n",
       "    </tr>\n",
       "    <tr>\n",
       "      <th>1</th>\n",
       "      <td>United Arab Emirates</td>\n",
       "      <td>ARE</td>\n",
       "      <td>.ae</td>\n",
       "      <td>AS</td>\n",
       "      <td>Abu Dhabi</td>\n",
       "      <td>82880.0</td>\n",
       "      <td>4975593</td>\n",
       "    </tr>\n",
       "    <tr>\n",
       "      <th>2</th>\n",
       "      <td>Afghanistan</td>\n",
       "      <td>AFG</td>\n",
       "      <td>.af</td>\n",
       "      <td>AS</td>\n",
       "      <td>Kabul</td>\n",
       "      <td>647500.0</td>\n",
       "      <td>29121286</td>\n",
       "    </tr>\n",
       "    <tr>\n",
       "      <th>3</th>\n",
       "      <td>Antigua and Barbuda</td>\n",
       "      <td>ATG</td>\n",
       "      <td>.ag</td>\n",
       "      <td>NA</td>\n",
       "      <td>St. John's</td>\n",
       "      <td>443.0</td>\n",
       "      <td>86754</td>\n",
       "    </tr>\n",
       "    <tr>\n",
       "      <th>4</th>\n",
       "      <td>Anguilla</td>\n",
       "      <td>AIA</td>\n",
       "      <td>.ai</td>\n",
       "      <td>NA</td>\n",
       "      <td>The Valley</td>\n",
       "      <td>102.0</td>\n",
       "      <td>13254</td>\n",
       "    </tr>\n",
       "  </tbody>\n",
       "</table>\n",
       "</div>"
      ],
      "text/plain": [
       "                   name alpha_3  tld continent           capital      area  \\\n",
       "0               Andorra     AND  .ad        EU  Andorra la Vella     468.0   \n",
       "1  United Arab Emirates     ARE  .ae        AS         Abu Dhabi   82880.0   \n",
       "2           Afghanistan     AFG  .af        AS             Kabul  647500.0   \n",
       "3   Antigua and Barbuda     ATG  .ag        NA        St. John's     443.0   \n",
       "4              Anguilla     AIA  .ai        NA        The Valley     102.0   \n",
       "\n",
       "   population  \n",
       "0       84000  \n",
       "1     4975593  \n",
       "2    29121286  \n",
       "3       86754  \n",
       "4       13254  "
      ]
     },
     "execution_count": 4,
     "metadata": {},
     "output_type": "execute_result"
    }
   ],
   "source": [
    "country_data = pd.read_csv(file_countries, na_values=[''], keep_default_na=False)\n",
    "country_data.head()"
   ]
  },
  {
   "cell_type": "markdown",
   "metadata": {},
   "source": [
    "# 1. More Python"
   ]
  },
  {
   "cell_type": "markdown",
   "metadata": {},
   "source": [
    "## Learning Objectives of This Section\n",
    "\n",
    "After this lesson, you should\n",
    "\n",
    "* know how to work with **`for` loops**;\n",
    "* know how to work with **`if` statements**;\n",
    "* know how to work with **list comprehensions**;\n",
    "* know how to work with **generator expressions**."
   ]
  },
  {
   "cell_type": "markdown",
   "metadata": {},
   "source": [
    "## Lists\n",
    "\n",
    "We begin with a recap of lists.\n",
    "In Python, a collection of data can be **stored** in a **list**:\n",
    "_all_ the items of the list are held in memory locations,\n",
    "in a particular order.\n",
    "\n",
    "* **`[]`**: the empty list\n",
    "* **`[1, 1, 2]`**: the list with three items `1`, `1`, `2`, in that order\n",
    "\n",
    "There are several built-in operations on lists, such as\n",
    "* **`len(s)`**: **length**, the number items in list `s`\n",
    "* **`s[i]`**: **indexing**, accesses the item in `s` at _index_ `i`,\n",
    "  where `0 <= i < len(s)`;\n",
    "  so, indexing starts at `0`\n",
    "* **`s[a:b]`**: **slicing**, extracts the _subsequence_ of items\n",
    "   `s[i]` with `a <= i < b`\n",
    "* **`s[a:b:c]`**: **slicing** with _step size_ `c`;\n",
    "  the list of `s[i]` with `a <= i < b` and `i - a` is a multiple of `c`;\n",
    "  that is, `i = a, a + c, a + 2*c, ...`\n",
    "  (the step size can be _negative_)\n",
    "* **`s + t`**: **concatenation**, first all items of `s`, then all items of `t`\n",
    "* **`n * s`**: **multiplication**, `n` copies of `s` concatenated\n",
    "* **`sum(s)`**, **`min(s)`**, **`max(s)`**: **aggregation**;\n",
    "  in fact, these work for any _iterable_\n",
    "  (see [below](#Iterables-and-iterators))\n",
    "* **`sorted(s)`**: **sorting**; works for any _iterable_\n",
    "    (does not modify `s`, but returns a new list object)\n",
    "* **`reversed(s)`**: **reversing** the order of items in `s`\n",
    "    (does not modify `s`, but returns a new list object)"
   ]
  },
  {
   "cell_type": "markdown",
   "metadata": {},
   "source": [
    "## `for` loops\n",
    "\n",
    "To do something with each item `v` in a list `s`, from first to last item,\n",
    "you can use a **`for` statement**,\n",
    "also known as a **`for` _loop_**.\n",
    "\n",
    "```python\n",
    "for v in s:\n",
    "    statement_suite\n",
    "```\n",
    "\n",
    "Here, `statement_suite` is a group of statements that are all _indented_ the same amount.\n",
    "\n",
    "The semantics of the `for` loop is:\n",
    "> Sequentially,\n",
    "> assign each value taken from `s` to the control variable `v`,\n",
    "> and execute the statement suite.\n",
    "\n",
    "An example"
   ]
  },
  {
   "cell_type": "code",
   "execution_count": 5,
   "metadata": {},
   "outputs": [
    {
     "name": "stdout",
     "output_type": "stream",
     "text": [
      "---\n",
      "1 1\n",
      "---\n",
      "1 1\n",
      "---\n",
      "2 4\n",
      "---\n"
     ]
    }
   ],
   "source": [
    "s = [1, 1, 2]\n",
    "\n",
    "for v in s:\n",
    "    print(\"---\")\n",
    "    print(v, v * v)\n",
    "\n",
    "print(\"---\")  # outside the loop"
   ]
  },
  {
   "cell_type": "markdown",
   "metadata": {},
   "source": [
    "Actually, the `for` statement can be used to _iterate_ over anything that is _iterable_,\n",
    "not only lists.\n",
    "\n",
    "Another example of an iterable is a _string_:"
   ]
  },
  {
   "cell_type": "code",
   "execution_count": 6,
   "metadata": {},
   "outputs": [
    {
     "name": "stdout",
     "output_type": "stream",
     "text": [
      "D 68\n",
      "a 97\n",
      "t 116\n",
      "a 97\n",
      "  32\n",
      "A 65\n",
      "n 110\n",
      "a 97\n",
      "l 108\n",
      "y 121\n",
      "t 116\n",
      "i 105\n",
      "c 99\n",
      "s 115\n"
     ]
    }
   ],
   "source": [
    "for c in \"Data Analytics\":\n",
    "    print(c, ord(c))  # print character code of each character"
   ]
  },
  {
   "cell_type": "markdown",
   "metadata": {},
   "source": [
    "A special type of iterable is `range()`, which represents a sequence of numbers\n",
    "for iteration:\n",
    "\n",
    "* **`range(n)`**: `0`, `1`, `2`, ..., `n-1`\n",
    "    (note that `n` is not in the range)\n",
    "* **`range(a, b)`**: `a`, `a+1`, `a+2`, ..., `b-1`;\n",
    "    that is, `i` with `a <= i < b`\n",
    "    (note that `b` is not in the range)\n",
    "* **`range(a, b, c)`**: `a`, `a+c`, `a+2*c`, ..., `< b`\n",
    "    (`c` can be negative)\n",
    "\n",
    "Compare this to slicing of lists:\n",
    "* `s[a:b]` corresponds to the list of `s[i]` with `i` in `range(a, b)`,\n",
    "* `s[a:b:c]` corresponds to the list of `s[i]` with `i` in `range(a, b, c)`\n",
    "\n",
    "Note that `range()` does not compute and store all of the numbers in advance.\n",
    "Instead, it produces them as needed.\n",
    "So, even big ranges are efficient.\n",
    "\n",
    "Here is the sum of the first one million natural numbers, from 0 through 999999:"
   ]
  },
  {
   "cell_type": "code",
   "execution_count": 7,
   "metadata": {},
   "outputs": [
    {
     "data": {
      "text/plain": [
       "499999500000"
      ]
     },
     "execution_count": 7,
     "metadata": {},
     "output_type": "execute_result"
    }
   ],
   "source": [
    "sum(range(1_000_000))"
   ]
  },
  {
   "cell_type": "markdown",
   "metadata": {},
   "source": [
    "A common use of `range()` is in `for` loops.\n",
    "Here is code to print the multiplication table for the number 7:"
   ]
  },
  {
   "cell_type": "code",
   "execution_count": 8,
   "metadata": {},
   "outputs": [
    {
     "name": "stdout",
     "output_type": "stream",
     "text": [
      " 1 x 7 =  7\n",
      " 2 x 7 = 14\n",
      " 3 x 7 = 21\n",
      " 4 x 7 = 28\n",
      " 5 x 7 = 35\n",
      " 6 x 7 = 42\n",
      " 7 x 7 = 49\n",
      " 8 x 7 = 56\n",
      " 9 x 7 = 63\n",
      "10 x 7 = 70\n"
     ]
    }
   ],
   "source": [
    "for i in range(1, 10+1):\n",
    "    print(\"{:2} x {} = {:2}\".format(i, 7, i * 7))"
   ]
  },
  {
   "cell_type": "markdown",
   "metadata": {},
   "source": [
    "### Nested `for` loops\n",
    "\n",
    "It is possible to _nest_ `for` loops,\n",
    "that is, to put one `for` loop 'inside' another `for` loop.\n",
    "\n",
    "The following code prints a table of products:"
   ]
  },
  {
   "cell_type": "code",
   "execution_count": 9,
   "metadata": {},
   "outputs": [
    {
     "name": "stdout",
     "output_type": "stream",
     "text": [
      "  1   2   3   4   5   6   7   8   9  10 \n",
      "  2   4   6   8  10  12  14  16  18  20 \n",
      "  3   6   9  12  15  18  21  24  27  30 \n",
      "  4   8  12  16  20  24  28  32  36  40 \n",
      "  5  10  15  20  25  30  35  40  45  50 \n",
      "  6  12  18  24  30  36  42  48  54  60 \n",
      "  7  14  21  28  35  42  49  56  63  70 \n",
      "  8  16  24  32  40  48  56  64  72  80 \n",
      "  9  18  27  36  45  54  63  72  81  90 \n",
      " 10  20  30  40  50  60  70  80  90 100 \n"
     ]
    }
   ],
   "source": [
    "for i in range(1, 10+1):\n",
    "    for j in range(1, 10+1):\n",
    "        print(\"{:3}\".format(i * j), end=\" \")\n",
    "    print()"
   ]
  },
  {
   "cell_type": "markdown",
   "metadata": {},
   "source": [
    "## `if` statements\n",
    "\n",
    "To execute statements selectively based on a condition,\n",
    "Python provides the **`if` statement**.\n",
    "In its most general form,\n",
    "it has the following syntax:\n",
    "\n",
    "```python\n",
    "if condition:\n",
    "    statement_suite\n",
    "elif condition:      # elif-clause can be repeated\n",
    "    statement_suite  # zero or more times\n",
    "else:                # else-clause is optional\n",
    "    statement_suite\n",
    "```\n",
    "The semantics of this `if` statement is:\n",
    "> Evaluate conditions one by one, and\n",
    "> execute the statement suite corresponding to the first condition that evaluates to `True`.  \n",
    "> Note: When condition is not a boolean value, it is **converted to boolean**.\n",
    "\n",
    "Here is code to print the table of products with extra horizontal and vertical spacing in the middle:"
   ]
  },
  {
   "cell_type": "code",
   "execution_count": 10,
   "metadata": {},
   "outputs": [
    {
     "name": "stdout",
     "output_type": "stream",
     "text": [
      "  1   2   3   4   5     6   7   8   9  10 \n",
      "  2   4   6   8  10    12  14  16  18  20 \n",
      "  3   6   9  12  15    18  21  24  27  30 \n",
      "  4   8  12  16  20    24  28  32  36  40 \n",
      "  5  10  15  20  25    30  35  40  45  50 \n",
      "\n",
      "  6  12  18  24  30    36  42  48  54  60 \n",
      "  7  14  21  28  35    42  49  56  63  70 \n",
      "  8  16  24  32  40    48  56  64  72  80 \n",
      "  9  18  27  36  45    54  63  72  81  90 \n",
      " 10  20  30  40  50    60  70  80  90 100 \n"
     ]
    }
   ],
   "source": [
    "for i in range(1, 10+1):\n",
    "    for j in range(1, 10+1):\n",
    "        print(\"{:3}\".format(i * j), end=\" \")\n",
    "        if j == 5:\n",
    "            print(end=\"  \")\n",
    "    print()\n",
    "    if i == 5:\n",
    "        print()"
   ]
  },
  {
   "cell_type": "markdown",
   "metadata": {},
   "source": [
    "## List comprehensions\n",
    "\n"
   ]
  },
  {
   "cell_type": "markdown",
   "metadata": {},
   "source": [
    "Using `for` loops and `if` statements,\n",
    "one can do complex processing of lists.\n",
    "\n",
    "However, if the aim of the processing is to produce another list,\n",
    "then there usually are better ways to achieve that same result.\n",
    "\n",
    "Suppose we want to produce the list of all squares of numbers from 1 through 100\n",
    "that are not multiples of 7.\n",
    "Here is a solution using a `for` loop with an `if` statement."
   ]
  },
  {
   "cell_type": "code",
   "execution_count": 11,
   "metadata": {},
   "outputs": [
    {
     "name": "stdout",
     "output_type": "stream",
     "text": [
      "[1, 4, 9, 16, 25, 36, 64, 81, 100, 121, 144, 169, 225, 256, 289, 324, 361, 400, 484, 529, 576, 625, 676, 729, 841, 900, 961, 1024, 1089, 1156, 1296, 1369, 1444, 1521, 1600, 1681, 1849, 1936, 2025, 2116, 2209, 2304, 2500, 2601, 2704, 2809, 2916, 3025, 3249, 3364, 3481, 3600, 3721, 3844, 4096, 4225, 4356, 4489, 4624, 4761, 5041, 5184, 5329, 5476, 5625, 5776, 6084, 6241, 6400, 6561, 6724, 6889, 7225, 7396, 7569, 7744, 7921, 8100, 8464, 8649, 8836, 9025, 9216, 9409, 9801, 10000]\n"
     ]
    }
   ],
   "source": [
    "s = []\n",
    "\n",
    "for n in range(1, 100+1):\n",
    "    if n % 7 != 0:  # n is not a multiple of 7\n",
    "        s.append(n * n)  # add its square to the end of the list\n",
    "        \n",
    "print(s)"
   ]
  },
  {
   "cell_type": "markdown",
   "metadata": {},
   "source": [
    "That same list can also be produced faster and more conveniently by a _list comprehension_:"
   ]
  },
  {
   "cell_type": "code",
   "execution_count": 12,
   "metadata": {},
   "outputs": [
    {
     "name": "stdout",
     "output_type": "stream",
     "text": [
      "[1, 4, 9, 16, 25, 36, 64, 81, 100, 121, 144, 169, 225, 256, 289, 324, 361, 400, 484, 529, 576, 625, 676, 729, 841, 900, 961, 1024, 1089, 1156, 1296, 1369, 1444, 1521, 1600, 1681, 1849, 1936, 2025, 2116, 2209, 2304, 2500, 2601, 2704, 2809, 2916, 3025, 3249, 3364, 3481, 3600, 3721, 3844, 4096, 4225, 4356, 4489, 4624, 4761, 5041, 5184, 5329, 5476, 5625, 5776, 6084, 6241, 6400, 6561, 6724, 6889, 7225, 7396, 7569, 7744, 7921, 8100, 8464, 8649, 8836, 9025, 9216, 9409, 9801, 10000]\n"
     ]
    }
   ],
   "source": [
    "s = [n * n for n in range(1, 100+1) if n % 7 != 0]\n",
    "print(s)"
   ]
  },
  {
   "cell_type": "markdown",
   "metadata": {},
   "source": [
    "In general,\n",
    "the syntax of a **list comprehension** is\n",
    "```python\n",
    "[ expression for name in iterable ]\n",
    "```\n",
    "or\n",
    "```python\n",
    "[ expression for name in iterable if condition ]\n",
    "```\n",
    "\n",
    "The semantics is\n",
    "> Construct the list consisting of all `expression` values obtained by\n",
    "> iterating `name` over the `iterable`,\n",
    "> optionally where name satisfies the `condition`.\n",
    "\n",
    "Thus, a list comprehension\n",
    "selectively (`if` clause) transforms (`expression`, which typically involves `name`) a given `iterable`."
   ]
  },
  {
   "cell_type": "markdown",
   "metadata": {},
   "source": [
    "## Generator expressions\n",
    "\n",
    "It is important to understand\n",
    "that a list comprehension completely constructs and stores the resulting list\n",
    "before any further processing takes place.\n",
    "If that list is big, and it will be processed further,\n",
    "then this may not be a good idea.\n",
    "\n",
    "Suppose we want to check the theorem that\n",
    "\n",
    "> the sum of the first $n$ cubes (powers of three)\n",
    "> equals the square of the sum of the first $n$ numbers\n",
    "\n",
    "for $n = 1\\,000\\,000$.\n",
    "\n",
    "In a formula:\n",
    "\n",
    "$$\\sum_{i=1}^{n} i^3 = \\left(\\sum_{i=1}^{n} i\\right)^2$$\n",
    "\n",
    "The list comprehension\n",
    "\n",
    "```python\n",
    "[n * n * n for n in range(1, 1_000_000+1)]\n",
    "```\n",
    "\n",
    "defines the list of the relevant cubes.\n",
    "But it is big, and we don't want that list, only its sum.\n",
    "\n",
    "Doing\n",
    "```python\n",
    "sum([n * n * n for n in range(1, 1_000_000+1)])\n",
    "```\n",
    "\n",
    "would produce the correct result, but it first computes and stores the entire list of\n",
    "one million cubes.\n",
    "\n",
    "In that case, it is better to use a **generator expression**, with syntax\n",
    "that resembles a list comprehension, only using round parentheses instead of square brackets:\n",
    "\n",
    "```python\n",
    "( expression for name in iterable )\n",
    "```\n",
    "The result of such a generator expression can be used _once_ as iterable.\n",
    "\n",
    "The outer parentheses can be omitted\n",
    "when the generator expressiion is used as argument in a function call.\n",
    "\n",
    "Thus, to check the theorem, we can compute"
   ]
  },
  {
   "cell_type": "code",
   "execution_count": 13,
   "metadata": {},
   "outputs": [
    {
     "data": {
      "text/plain": [
       "(250000500000250000000000, 250000500000250000000000)"
      ]
     },
     "execution_count": 13,
     "metadata": {},
     "output_type": "execute_result"
    }
   ],
   "source": [
    "s1 = sum(range(1, 1_000_000+1))\n",
    "s2 = sum(n * n * n for n in range(1, 1_000_000+1))\n",
    "s1 * s1, s2"
   ]
  },
  {
   "cell_type": "markdown",
   "metadata": {},
   "source": [
    "This way, all those cubes are generated and processed one by one,\n",
    "but they are never all stored together.\n",
    "\n",
    "You can compare it to the following program fragment with a `for` loop:"
   ]
  },
  {
   "cell_type": "code",
   "execution_count": 14,
   "metadata": {},
   "outputs": [
    {
     "data": {
      "text/plain": [
       "(250000500000250000000000, 250000500000250000000000)"
      ]
     },
     "execution_count": 14,
     "metadata": {},
     "output_type": "execute_result"
    }
   ],
   "source": [
    "s1, s2 = 0, 0\n",
    "\n",
    "for i in range(1, 1_000_000+1):\n",
    "    s1 = s1 + i\n",
    "    s2 = s2 + i * i * i\n",
    "    \n",
    "s1 * s1, s2"
   ]
  },
  {
   "cell_type": "markdown",
   "metadata": {},
   "source": [
    "Here is a more elaborate example.\n",
    "We are interested in the distribution of the _last digits_ of the country populations.\n",
    "This is our overall plan:\n",
    "\n",
    "1. Compute a series object with those last digits.\n",
    "1. Use `groupby` and `count` to determine how often each digit occurs.\n",
    "1. Create a bar plot.\n",
    "\n",
    "For Step 1, we use a generator expression that extracts the last digits of the population column.\n",
    "\n",
    "And for that, it is convenient to convert the numeric population column to strings,\n",
    "using `.astype(str)`.\n"
   ]
  },
  {
   "cell_type": "code",
   "execution_count": 15,
   "metadata": {},
   "outputs": [
    {
     "data": {
      "text/plain": [
       "0      0\n",
       "1      3\n",
       "2      6\n",
       "3      4\n",
       "4      4\n",
       "5      2\n",
       "6      0\n",
       "7      1\n",
       "8      0\n",
       "9      1\n",
       "10     1\n",
       "11     0\n",
       "12     4\n",
       "13     6\n",
       "14     1\n",
       "15     2\n",
       "16     0\n",
       "17     3\n",
       "18     4\n",
       "19     0\n",
       "20     1\n",
       "21     5\n",
       "22     4\n",
       "23     7\n",
       "24     0\n",
       "25     0\n",
       "26     5\n",
       "27     7\n",
       "28     8\n",
       "29     2\n",
       "      ..\n",
       "221    5\n",
       "222    6\n",
       "223    5\n",
       "224    0\n",
       "225    2\n",
       "226    1\n",
       "227    2\n",
       "228    4\n",
       "229    5\n",
       "230    6\n",
       "231    2\n",
       "232    0\n",
       "233    3\n",
       "234    0\n",
       "235    8\n",
       "236    1\n",
       "237    7\n",
       "238    8\n",
       "239    0\n",
       "240    8\n",
       "241    0\n",
       "242    2\n",
       "243    5\n",
       "244    1\n",
       "245    1\n",
       "246    2\n",
       "247    0\n",
       "248    5\n",
       "249    0\n",
       "250    0\n",
       "Length: 251, dtype: object"
      ]
     },
     "execution_count": 15,
     "metadata": {},
     "output_type": "execute_result"
    }
   ],
   "source": [
    "last_digits_population = pd.Series(s[-1] for s in country_data['population'].astype(str))\n",
    "last_digits_population"
   ]
  },
  {
   "cell_type": "code",
   "execution_count": 16,
   "metadata": {},
   "outputs": [
    {
     "data": {
      "image/png": "[encoded data removed]",
      "text/plain": [
       "<matplotlib.figure.Figure at 0x114a358d0>"
      ]
     },
     "metadata": {},
     "output_type": "display_data"
    }
   ],
   "source": [
    "title = \"Distribution of last digis of country populations\"\n",
    "last_digits_population.groupby(last_digits_population).count().plot(kind='bar', title=title);"
   ]
  },
  {
   "cell_type": "markdown",
   "metadata": {},
   "source": [
    "Can you explain this result?"
   ]
  },
  {
   "cell_type": "markdown",
   "metadata": {},
   "source": [
    "## Exercises 1"
   ]
  },
  {
   "cell_type": "markdown",
   "metadata": {},
   "source": [
    "By applying the built-in list constructor `list()` to `country_data.columns`\n",
    "you obtain the list of all column labels in the country data frame.\n",
    "\n",
    "Assign the result to the variable `columns_1`."
   ]
  },
  {
   "cell_type": "code",
   "execution_count": 17,
   "metadata": {},
   "outputs": [
    {
     "data": {
      "text/plain": [
       "['name', 'alpha_3', 'tld', 'continent', 'capital', 'area', 'population']"
      ]
     },
     "execution_count": 17,
     "metadata": {},
     "output_type": "execute_result"
    }
   ],
   "source": [
    "#// BEGIN_TODO [PrEx_DAS_1_1] List of column labels in country data frame (1 point)\n",
    "\n",
    "columns_1 = list(country_data.columns)\n",
    "\n",
    "#// END_TODO [PrEx_DAS_1_1]\n",
    "\n",
    "columns_1"
   ]
  },
  {
   "cell_type": "markdown",
   "metadata": {},
   "source": [
    "Using a `for` loop over `columns_1`,\n",
    "print the length of each column label and the label,\n",
    "using the format string `\"{:3}: {}\"`."
   ]
  },
  {
   "cell_type": "code",
   "execution_count": 18,
   "metadata": {},
   "outputs": [
    {
     "name": "stdout",
     "output_type": "stream",
     "text": [
      "  4:name\n",
      "  7:alpha_3\n",
      "  3:tld\n",
      "  9:continent\n",
      "  7:capital\n",
      "  4:area\n",
      " 10:population\n"
     ]
    }
   ],
   "source": [
    "#// BEGIN_TODO [PrEx_DAS_1_2] Print length of each label in columns_1 (1 point)\n",
    "\n",
    "for column in columns_1:\n",
    "    columnlength = len(column)\n",
    "    print(\"{:3}:{}\".format(columnlength,column))\n",
    "\n",
    "#// END_TODO [PrEx_DAS_1_2]"
   ]
  },
  {
   "cell_type": "markdown",
   "metadata": {},
   "source": [
    "Using a `for` loop over a slice of `columns_1`,\n",
    "print the number of zeroes in each numeric column\n",
    "(the last two; recall that a negative index starts from the end).  \n",
    "Use the format string `\"{:10}: contains {:3d}x 0\"` for printing.\n",
    "\n",
    "Hint: Apply `sum` to the _boolean mask_ that selects all rows with value 0 in that column.  \n",
    "Boolean value `False` is treated as 0, and `True` as 1."
   ]
  },
  {
   "cell_type": "code",
   "execution_count": 19,
   "metadata": {},
   "outputs": [
    {
     "name": "stdout",
     "output_type": "stream",
     "text": [
      "area      : contains   1x 0\n",
      "population: contains   4x 0\n"
     ]
    }
   ],
   "source": [
    "#// BEGIN_TODO [PrEx_DAS_1_3] Print the number of zeroes in the numeric columns of country data (1 point)\n",
    "\n",
    "for column in columns_1[-2:]:\n",
    "    number_0 = sum(country_data[column] == 0)\n",
    "    print(\"{:10}: contains {:3d}x 0\".format(column,number_0))\n",
    "\n",
    "#// END_TODO [PrEx_DAS_1_3]"
   ]
  },
  {
   "cell_type": "markdown",
   "metadata": {},
   "source": [
    "Using a _list comprehension_,\n",
    "compute the list of label lengths with label in `columns_1`\n",
    "such that the first character differs from the last character. \n",
    "\n",
    "Assign your answer to the variable `columns_1a`."
   ]
  },
  {
   "cell_type": "code",
   "execution_count": 20,
   "metadata": {},
   "outputs": [
    {
     "data": {
      "text/plain": [
       "[4, 7, 3, 9, 7, 10]"
      ]
     },
     "execution_count": 20,
     "metadata": {},
     "output_type": "execute_result"
    }
   ],
   "source": [
    "#// BEGIN_TODO [PrEx_DAS_1_4] List of column labels where first and last character differ (1 point)\n",
    "\n",
    "columns_1a = [len(column) for column in columns_1 if column[0] != column[-1]]\n",
    "\n",
    "#// END_TODO [PrEx_DAS_1_4]\n",
    "\n",
    "columns_1a"
   ]
  },
  {
   "cell_type": "markdown",
   "metadata": {},
   "source": [
    "Determine the maximum length of the labels in `columns_1`\n",
    "using a _generator expression_."
   ]
  },
  {
   "cell_type": "code",
   "execution_count": 21,
   "metadata": {},
   "outputs": [
    {
     "data": {
      "text/plain": [
       "'tld'"
      ]
     },
     "execution_count": 21,
     "metadata": {},
     "output_type": "execute_result"
    }
   ],
   "source": [
    "#// BEGIN_TODO [PrEx_DAS_1_5] Maximum length of labels in columns_1 (1 point)\n",
    "\n",
    "max(columns_1)\n",
    "\n",
    "#// END_TODO [PrEx_DAS_1_5]"
   ]
  },
  {
   "cell_type": "markdown",
   "metadata": {},
   "source": [
    "Using a _generator expression_,\n",
    "compute a series object with the _non-zero first digits_ of the country populations.\n",
    "That series object should contain one-character strings.\n",
    "\n",
    "Assign your answer to the variable `first_digits_population`.\n",
    "\n",
    "Hints:\n",
    "\n",
    "* Use `.astype(str)` to convert the column to strings.\n",
    "* Use string indexing to extract the first character of each string."
   ]
  },
  {
   "cell_type": "code",
   "execution_count": 22,
   "metadata": {},
   "outputs": [
    {
     "name": "stdout",
     "output_type": "stream",
     "text": [
      "['8' '4' '2' '8' '1' '2' '2' '1' '4' '5' '8' '2' '7' '2' '8' '4' '2' '1'\n",
      " '1' '1' '7' '7' '9' '9' '8' '6' '3' '9' '1' '2' '3' '6' '2' '9' '3' '3'\n",
      " '6' '7' '4' '3' '7' '2' '2' '1' '1' '1' '4' '4' '1' '5' '1' '1' '1' '1'\n",
      " '8' '7' '5' '7' '9' '3' '1' '1' '8' '2' '5' '4' '8' '5' '8' '2' '1' '4'\n",
      " '6' '1' '6' '1' '4' '1' '6' '2' '2' '5' '1' '1' '4' '1' '1' '3' '1' '1'\n",
      " '1' '7' '6' '7' '4' '9' '9' '2' '4' '7' '7' '1' '4' '2' '7' '3' '6' '9'\n",
      " '2' '6' '1' '4' '5' '1' '9' '7' '5' '2' '4' '1' '2' '4' '1' '6' '4' '1'\n",
      " '3' '2' '3' '1' '2' '4' '2' '6' '3' '3' '4' '6' '3' '2' '6' '2' '1' '5'\n",
      " '3' '4' '5' '4' '3' '9' '4' '1' '3' '1' '1' '2' '2' '2' '2' '1' '1' '1'\n",
      " '5' '1' '5' '2' '1' '2' '4' '2' '3' '2' '2' '6' '9' '1' '3' '7' '4' '3'\n",
      " '3' '1' '1' '6' '8' '7' '2' '7' '1' '1' '2' '5' '8' '3' '8' '9' '4' '7'\n",
      " '2' '2' '5' '5' '3' '1' '1' '4' '1' '6' '3' '2' '1' '2' '1' '1' '6' '6'\n",
      " '7' '1' '1' '4' '1' '1' '7' '1' '1' '2' '4' '4' '3' '3' '3' '2' '9' '1'\n",
      " '2' '2' '1' '8' '2' '1' '1' '2' '1' '4' '1' '1' '3']\n"
     ]
    }
   ],
   "source": [
    "#// BEGIN_TODO [PrEx_DAS_1_6] Series object with first digits of country population (2 points)\n",
    "\n",
    "first_digits_population = pd.Series(s[0] for s in country_data['population'].astype(str) if s[0] > '0')\n",
    "\n",
    "#// END_TODO [PrEx_DAS_1_6]\n",
    "\n",
    "print(first_digits_population.values)"
   ]
  },
  {
   "cell_type": "markdown",
   "metadata": {},
   "source": [
    "Create a bar plot to show the distribution of those first digits.  \n",
    "What do you expect?  \n",
    "Don't forget to include a title."
   ]
  },
  {
   "cell_type": "code",
   "execution_count": 23,
   "metadata": {},
   "outputs": [
    {
     "data": {
      "image/png": "[encoded data removed]",
      "text/plain": [
       "<matplotlib.figure.Figure at 0x117e77eb8>"
      ]
     },
     "metadata": {},
     "output_type": "display_data"
    }
   ],
   "source": [
    "#// BEGIN_TODO [PrEx_DAS_1_7] Bar plot for distribution of first digits of country population (1 point)\n",
    "\n",
    "title = \"Distribution of first digis of country populations\"\n",
    "first_digits_population.groupby(first_digits_population).count().plot(kind='bar', title=title);\n",
    "\n",
    "#// END_TODO [PrEx_DAS_1_7]"
   ]
  },
  {
   "cell_type": "markdown",
   "metadata": {},
   "source": [
    "If you want to understand this distribution,\n",
    "then look up [Benford's Law](https://en.wikipedia.org/wiki/Benford%27s_law)."
   ]
  },
  {
   "cell_type": "markdown",
   "metadata": {},
   "source": [
    "# 2. More Pandas"
   ]
  },
  {
   "cell_type": "markdown",
   "metadata": {},
   "source": [
    "## Learning Objectives of This Section\n",
    "\n",
    "After this lesson, you should\n",
    "\n",
    "* know how to access data in a data frame via **integer positions** using **`.iloc[...]`**;\n",
    "* know how to find the index of minimum and maximum values using **`idxmin()`** and **`idxmax()`**;\n",
    "* know how to count values in a series object using **`value_counts()`**;\n",
    "* know how to operate on the index using **`set_index()`** and **`reset_index()`**;\n",
    "* know how to do operations on multiple rows using\n",
    "    **`diff()`**, **`cumsum()`**, **`rolling()`**, and **`interpolate()`**."
   ]
  },
  {
   "cell_type": "markdown",
   "metadata": {},
   "source": [
    "## Using integer positions to access a `DataFrame`"
   ]
  },
  {
   "cell_type": "markdown",
   "metadata": {},
   "source": [
    "Recall that `df.loc[...]` accesses data in data frame `df` based on\n",
    "row _indexes_ and column _labels_.\n",
    "\n",
    "In a data frame `df`,\n",
    "rows and columns can also be identified via **integer positions**\n",
    "using **`df.iloc[...]`**.\n",
    "\n",
    "* The first row/column is at position 0, just like with _lists_.\n",
    "* You can also use _slices_ with `iloc`.  \n",
    "    In contrast to `loc`,\n",
    "    a slice `start:stop` used with `iloc` does _not_ include `stop`,\n",
    "    just like with _lists_.\n",
    "    \n",
    "Here are the first four columns of the last five rows."
   ]
  },
  {
   "cell_type": "code",
   "execution_count": 24,
   "metadata": {},
   "outputs": [
    {
     "data": {
      "text/html": [
       "<div>\n",
       "<style>\n",
       "    .dataframe thead tr:only-child th {\n",
       "        text-align: right;\n",
       "    }\n",
       "\n",
       "    .dataframe thead th {\n",
       "        text-align: left;\n",
       "    }\n",
       "\n",
       "    .dataframe tbody tr th {\n",
       "        vertical-align: top;\n",
       "    }\n",
       "</style>\n",
       "<table border=\"1\" class=\"dataframe\">\n",
       "  <thead>\n",
       "    <tr style=\"text-align: right;\">\n",
       "      <th></th>\n",
       "      <th>name</th>\n",
       "      <th>alpha_3</th>\n",
       "      <th>tld</th>\n",
       "      <th>continent</th>\n",
       "    </tr>\n",
       "  </thead>\n",
       "  <tbody>\n",
       "    <tr>\n",
       "      <th>246</th>\n",
       "      <td>Mayotte</td>\n",
       "      <td>MYT</td>\n",
       "      <td>.yt</td>\n",
       "      <td>AF</td>\n",
       "    </tr>\n",
       "    <tr>\n",
       "      <th>247</th>\n",
       "      <td>South Africa</td>\n",
       "      <td>ZAF</td>\n",
       "      <td>.za</td>\n",
       "      <td>AF</td>\n",
       "    </tr>\n",
       "    <tr>\n",
       "      <th>248</th>\n",
       "      <td>Zambia</td>\n",
       "      <td>ZMB</td>\n",
       "      <td>.zm</td>\n",
       "      <td>AF</td>\n",
       "    </tr>\n",
       "    <tr>\n",
       "      <th>249</th>\n",
       "      <td>Zimbabwe</td>\n",
       "      <td>ZWE</td>\n",
       "      <td>.zw</td>\n",
       "      <td>AF</td>\n",
       "    </tr>\n",
       "    <tr>\n",
       "      <th>250</th>\n",
       "      <td>Netherlands Antilles</td>\n",
       "      <td>ANT</td>\n",
       "      <td>.an</td>\n",
       "      <td>NA</td>\n",
       "    </tr>\n",
       "  </tbody>\n",
       "</table>\n",
       "</div>"
      ],
      "text/plain": [
       "                     name alpha_3  tld continent\n",
       "246               Mayotte     MYT  .yt        AF\n",
       "247          South Africa     ZAF  .za        AF\n",
       "248                Zambia     ZMB  .zm        AF\n",
       "249              Zimbabwe     ZWE  .zw        AF\n",
       "250  Netherlands Antilles     ANT  .an        NA"
      ]
     },
     "execution_count": 24,
     "metadata": {},
     "output_type": "execute_result"
    }
   ],
   "source": [
    "country_data.iloc[-5:, :4]"
   ]
  },
  {
   "cell_type": "markdown",
   "metadata": {},
   "source": [
    "If you select a single row or a single column,\n",
    "then it is returned as a `Series` object.\n",
    "Here is the last row:"
   ]
  },
  {
   "cell_type": "code",
   "execution_count": 25,
   "metadata": {},
   "outputs": [
    {
     "data": {
      "text/plain": [
       "name          Netherlands Antilles\n",
       "alpha_3                        ANT\n",
       "tld                            .an\n",
       "continent                       NA\n",
       "capital                 Willemstad\n",
       "area                           960\n",
       "population                  300000\n",
       "Name: 250, dtype: object"
      ]
     },
     "execution_count": 25,
     "metadata": {},
     "output_type": "execute_result"
    }
   ],
   "source": [
    "country_data.iloc[-1]"
   ]
  },
  {
   "cell_type": "markdown",
   "metadata": {},
   "source": [
    "To obtain it as a data frame, use a slice of one item:"
   ]
  },
  {
   "cell_type": "code",
   "execution_count": 26,
   "metadata": {},
   "outputs": [
    {
     "data": {
      "text/html": [
       "<div>\n",
       "<style>\n",
       "    .dataframe thead tr:only-child th {\n",
       "        text-align: right;\n",
       "    }\n",
       "\n",
       "    .dataframe thead th {\n",
       "        text-align: left;\n",
       "    }\n",
       "\n",
       "    .dataframe tbody tr th {\n",
       "        vertical-align: top;\n",
       "    }\n",
       "</style>\n",
       "<table border=\"1\" class=\"dataframe\">\n",
       "  <thead>\n",
       "    <tr style=\"text-align: right;\">\n",
       "      <th></th>\n",
       "      <th>name</th>\n",
       "      <th>alpha_3</th>\n",
       "      <th>tld</th>\n",
       "      <th>continent</th>\n",
       "      <th>capital</th>\n",
       "      <th>area</th>\n",
       "      <th>population</th>\n",
       "    </tr>\n",
       "  </thead>\n",
       "  <tbody>\n",
       "    <tr>\n",
       "      <th>250</th>\n",
       "      <td>Netherlands Antilles</td>\n",
       "      <td>ANT</td>\n",
       "      <td>.an</td>\n",
       "      <td>NA</td>\n",
       "      <td>Willemstad</td>\n",
       "      <td>960.0</td>\n",
       "      <td>300000</td>\n",
       "    </tr>\n",
       "  </tbody>\n",
       "</table>\n",
       "</div>"
      ],
      "text/plain": [
       "                     name alpha_3  tld continent     capital   area  \\\n",
       "250  Netherlands Antilles     ANT  .an        NA  Willemstad  960.0   \n",
       "\n",
       "     population  \n",
       "250      300000  "
      ]
     },
     "execution_count": 26,
     "metadata": {},
     "output_type": "execute_result"
    }
   ],
   "source": [
    "country_data.iloc[-1:]"
   ]
  },
  {
   "cell_type": "markdown",
   "metadata": {},
   "source": [
    "The same holds for column selection.\n",
    "The first column of the first five rows:"
   ]
  },
  {
   "cell_type": "code",
   "execution_count": 27,
   "metadata": {},
   "outputs": [
    {
     "data": {
      "text/plain": [
       "0                 Andorra\n",
       "1    United Arab Emirates\n",
       "2             Afghanistan\n",
       "3     Antigua and Barbuda\n",
       "4                Anguilla\n",
       "Name: name, dtype: object"
      ]
     },
     "execution_count": 27,
     "metadata": {},
     "output_type": "execute_result"
    }
   ],
   "source": [
    "country_data.iloc[:5, 0]"
   ]
  },
  {
   "cell_type": "markdown",
   "metadata": {},
   "source": [
    "And now as a data frame by using a slice for the column selection as well:"
   ]
  },
  {
   "cell_type": "code",
   "execution_count": 28,
   "metadata": {},
   "outputs": [
    {
     "data": {
      "text/html": [
       "<div>\n",
       "<style>\n",
       "    .dataframe thead tr:only-child th {\n",
       "        text-align: right;\n",
       "    }\n",
       "\n",
       "    .dataframe thead th {\n",
       "        text-align: left;\n",
       "    }\n",
       "\n",
       "    .dataframe tbody tr th {\n",
       "        vertical-align: top;\n",
       "    }\n",
       "</style>\n",
       "<table border=\"1\" class=\"dataframe\">\n",
       "  <thead>\n",
       "    <tr style=\"text-align: right;\">\n",
       "      <th></th>\n",
       "      <th>name</th>\n",
       "    </tr>\n",
       "  </thead>\n",
       "  <tbody>\n",
       "    <tr>\n",
       "      <th>0</th>\n",
       "      <td>Andorra</td>\n",
       "    </tr>\n",
       "    <tr>\n",
       "      <th>1</th>\n",
       "      <td>United Arab Emirates</td>\n",
       "    </tr>\n",
       "    <tr>\n",
       "      <th>2</th>\n",
       "      <td>Afghanistan</td>\n",
       "    </tr>\n",
       "    <tr>\n",
       "      <th>3</th>\n",
       "      <td>Antigua and Barbuda</td>\n",
       "    </tr>\n",
       "    <tr>\n",
       "      <th>4</th>\n",
       "      <td>Anguilla</td>\n",
       "    </tr>\n",
       "  </tbody>\n",
       "</table>\n",
       "</div>"
      ],
      "text/plain": [
       "                   name\n",
       "0               Andorra\n",
       "1  United Arab Emirates\n",
       "2           Afghanistan\n",
       "3   Antigua and Barbuda\n",
       "4              Anguilla"
      ]
     },
     "execution_count": 28,
     "metadata": {},
     "output_type": "execute_result"
    }
   ],
   "source": [
    "country_data.iloc[:5, 0:1]"
   ]
  },
  {
   "cell_type": "markdown",
   "metadata": {},
   "source": [
    "## More statistics: index of minimum and maximum\n",
    "\n",
    "We have already seen that various statistics can be obtained for a data frame `df` by\n",
    "`df.mean()`, `df.median()`, etc.\n",
    "Summary statistics are obtained by `df.describe()`.\n",
    "\n",
    "Other useful functions are\n",
    "\n",
    "* **`df.idxmin()`** to return the (first) index where the minimum occurs\n",
    "* **`df.idxmax()`** to return the (first) index where the maximum occurs"
   ]
  },
  {
   "cell_type": "code",
   "execution_count": 29,
   "metadata": {},
   "outputs": [
    {
     "data": {
      "text/plain": [
       "area          232\n",
       "population      8\n",
       "dtype: int64"
      ]
     },
     "execution_count": 29,
     "metadata": {},
     "output_type": "execute_result"
    }
   ],
   "source": [
    "idxmin = country_data[['area', 'population']].idxmin()\n",
    "idxmin"
   ]
  },
  {
   "cell_type": "markdown",
   "metadata": {},
   "source": [
    "We can use this result directly to select the corresponding rows,\n",
    "and find out what countries have minimal area and minimal population:"
   ]
  },
  {
   "cell_type": "code",
   "execution_count": 30,
   "metadata": {},
   "outputs": [
    {
     "data": {
      "text/html": [
       "<div>\n",
       "<style>\n",
       "    .dataframe thead tr:only-child th {\n",
       "        text-align: right;\n",
       "    }\n",
       "\n",
       "    .dataframe thead th {\n",
       "        text-align: left;\n",
       "    }\n",
       "\n",
       "    .dataframe tbody tr th {\n",
       "        vertical-align: top;\n",
       "    }\n",
       "</style>\n",
       "<table border=\"1\" class=\"dataframe\">\n",
       "  <thead>\n",
       "    <tr style=\"text-align: right;\">\n",
       "      <th></th>\n",
       "      <th>name</th>\n",
       "      <th>alpha_3</th>\n",
       "      <th>tld</th>\n",
       "      <th>continent</th>\n",
       "      <th>capital</th>\n",
       "      <th>area</th>\n",
       "      <th>population</th>\n",
       "    </tr>\n",
       "  </thead>\n",
       "  <tbody>\n",
       "    <tr>\n",
       "      <th>232</th>\n",
       "      <td>United States Minor Outlying Islands</td>\n",
       "      <td>UMI</td>\n",
       "      <td>.um</td>\n",
       "      <td>OC</td>\n",
       "      <td>NaN</td>\n",
       "      <td>0.0</td>\n",
       "      <td>0</td>\n",
       "    </tr>\n",
       "    <tr>\n",
       "      <th>8</th>\n",
       "      <td>Antarctica</td>\n",
       "      <td>ATA</td>\n",
       "      <td>.aq</td>\n",
       "      <td>AN</td>\n",
       "      <td>NaN</td>\n",
       "      <td>14000000.0</td>\n",
       "      <td>0</td>\n",
       "    </tr>\n",
       "  </tbody>\n",
       "</table>\n",
       "</div>"
      ],
      "text/plain": [
       "                                     name alpha_3  tld continent capital  \\\n",
       "232  United States Minor Outlying Islands     UMI  .um        OC     NaN   \n",
       "8                              Antarctica     ATA  .aq        AN     NaN   \n",
       "\n",
       "           area  population  \n",
       "232         0.0           0  \n",
       "8    14000000.0           0  "
      ]
     },
     "execution_count": 30,
     "metadata": {},
     "output_type": "execute_result"
    }
   ],
   "source": [
    "country_data.loc[idxmin]"
   ]
  },
  {
   "cell_type": "markdown",
   "metadata": {},
   "source": [
    "## More statistics: value counts"
   ]
  },
  {
   "cell_type": "markdown",
   "metadata": {},
   "source": [
    "Let's determine the distribution of the order of magnitude of the population per country.\n",
    "As order of magnitude we take the number of digits in the decimal representation of\n",
    "the population size.\n",
    "\n",
    "To compute this order of magnitude we first convert the population from a number to a string,\n",
    "using `.astype(str)`, and next we take the length of of that string, using `.str.len()`.\n",
    "The result is assigned to the variable `population_order` (this is a series object).\n",
    "\n",
    "> NOTE: The magnitude is basically a logarithmic transformation of the data."
   ]
  },
  {
   "cell_type": "code",
   "execution_count": 31,
   "metadata": {},
   "outputs": [
    {
     "name": "stdout",
     "output_type": "stream",
     "text": [
      "[ 5  7  8  5  5  7  7  8  1  8  5  7  8  5  5  7  7  6  9  8  8  7  6  7  7\n",
      "  4  5  6  7  5  9  6  6  1  7  7  6  8  3  8  7  7  7  8  5  8  8 10  8  7\n",
      "  8  6  6  4  7  8  8  6  7  5  7  8  8  7  8  6  7  8  8  7  6  4  6  5  8\n",
      "  7  8  6  7  6  5  8  5  5  7  8  6  7  8  2  8  6  7  6  7  1  7  7  7  7\n",
      "  9  7  7  5 10  4  8  8  6  8  5  7  7  9  8  7  8  5  6  5  8  8  7  7  5\n",
      "  8  7  7  6  5  8  7  7  7  6  7  7  8  5  7  6  5  8  5  7  8  8  7  6  5\n",
      "  6  7  4  6  7  6  8  9  8  8  7  6  8  4  9  7  8  7  8  5  4  7  7  7  8\n",
      "  6  7  8  9  8  4  2  7  7  8  5  7  6  6  8  7  9  8  8  6  5  8  7  7  7\n",
      "  4  7  4  7  7  5  8  8  6  6  7  5  8  7  5  8  3  7  8  7  4  7  7  8  6\n",
      "  8  7  5  8  8  8  8  1  9  7  8  3  6  8  5  6  8  6  5  6  8  6  8  8  8\n",
      "  6]\n"
     ]
    }
   ],
   "source": [
    "population_magnitude = country_data['population'].astype(str).str.len()\n",
    "print(population_magnitude.values)"
   ]
  },
  {
   "cell_type": "markdown",
   "metadata": {},
   "source": [
    "To obtain frequency counts, we could use `groupby()` and `count()`\n",
    "as in the preceding section of this lesson.\n",
    "But now, we use the `Series` function **`value_counts()`**.\n",
    "It returns a series object with the count per value, indexed by value and sorted by count\n",
    "(not by value)."
   ]
  },
  {
   "cell_type": "code",
   "execution_count": 32,
   "metadata": {},
   "outputs": [
    {
     "data": {
      "text/plain": [
       "7     76\n",
       "8     71\n",
       "6     40\n",
       "5     33\n",
       "4     11\n",
       "9      9\n",
       "1      4\n",
       "3      3\n",
       "10     2\n",
       "2      2\n",
       "Name: population, dtype: int64"
      ]
     },
     "execution_count": 32,
     "metadata": {},
     "output_type": "execute_result"
    }
   ],
   "source": [
    "population_magnitude_hist = population_magnitude.value_counts()\n",
    "population_magnitude_hist"
   ]
  },
  {
   "cell_type": "markdown",
   "metadata": {},
   "source": [
    "To sort the series object on its index, you can use **`sort_index()`**:"
   ]
  },
  {
   "cell_type": "code",
   "execution_count": 33,
   "metadata": {},
   "outputs": [
    {
     "data": {
      "text/plain": [
       "1      4\n",
       "2      2\n",
       "3      3\n",
       "4     11\n",
       "5     33\n",
       "6     40\n",
       "7     76\n",
       "8     71\n",
       "9      9\n",
       "10     2\n",
       "Name: population, dtype: int64"
      ]
     },
     "execution_count": 33,
     "metadata": {},
     "output_type": "execute_result"
    }
   ],
   "source": [
    "population_magnitude_hist.sort_index()"
   ]
  },
  {
   "cell_type": "markdown",
   "metadata": {},
   "source": [
    "And since a picture is worth a thousand words,\n",
    "here is a bar plot of this distribution, with the magnitudes sorted."
   ]
  },
  {
   "cell_type": "code",
   "execution_count": 34,
   "metadata": {},
   "outputs": [
    {
     "data": {
      "image/png": "[encoded data removed]",
      "text/plain": [
       "<matplotlib.figure.Figure at 0x11801ae48>"
      ]
     },
     "metadata": {},
     "output_type": "display_data"
    }
   ],
   "source": [
    "title = \"Distribution of order of magnitude of population\"\n",
    "population_magnitude_hist.sort_index().plot(kind='bar', title=title);"
   ]
  },
  {
   "cell_type": "markdown",
   "metadata": {},
   "source": [
    "Let's see why there are relatively many counties whose population has magnitude 1,\n",
    "that is, less than 10:"
   ]
  },
  {
   "cell_type": "code",
   "execution_count": 35,
   "metadata": {},
   "outputs": [
    {
     "data": {
      "text/html": [
       "<div>\n",
       "<style>\n",
       "    .dataframe thead tr:only-child th {\n",
       "        text-align: right;\n",
       "    }\n",
       "\n",
       "    .dataframe thead th {\n",
       "        text-align: left;\n",
       "    }\n",
       "\n",
       "    .dataframe tbody tr th {\n",
       "        vertical-align: top;\n",
       "    }\n",
       "</style>\n",
       "<table border=\"1\" class=\"dataframe\">\n",
       "  <thead>\n",
       "    <tr style=\"text-align: right;\">\n",
       "      <th></th>\n",
       "      <th>name</th>\n",
       "      <th>alpha_3</th>\n",
       "      <th>tld</th>\n",
       "      <th>continent</th>\n",
       "      <th>capital</th>\n",
       "      <th>area</th>\n",
       "      <th>population</th>\n",
       "    </tr>\n",
       "  </thead>\n",
       "  <tbody>\n",
       "    <tr>\n",
       "      <th>8</th>\n",
       "      <td>Antarctica</td>\n",
       "      <td>ATA</td>\n",
       "      <td>.aq</td>\n",
       "      <td>AN</td>\n",
       "      <td>NaN</td>\n",
       "      <td>14000000.0</td>\n",
       "      <td>0</td>\n",
       "    </tr>\n",
       "    <tr>\n",
       "      <th>33</th>\n",
       "      <td>Bouvet Island</td>\n",
       "      <td>BVT</td>\n",
       "      <td>.bv</td>\n",
       "      <td>AN</td>\n",
       "      <td>NaN</td>\n",
       "      <td>49.0</td>\n",
       "      <td>0</td>\n",
       "    </tr>\n",
       "    <tr>\n",
       "      <th>95</th>\n",
       "      <td>Heard Island and McDonald Islands</td>\n",
       "      <td>HMD</td>\n",
       "      <td>.hm</td>\n",
       "      <td>AN</td>\n",
       "      <td>NaN</td>\n",
       "      <td>412.0</td>\n",
       "      <td>0</td>\n",
       "    </tr>\n",
       "    <tr>\n",
       "      <th>232</th>\n",
       "      <td>United States Minor Outlying Islands</td>\n",
       "      <td>UMI</td>\n",
       "      <td>.um</td>\n",
       "      <td>OC</td>\n",
       "      <td>NaN</td>\n",
       "      <td>0.0</td>\n",
       "      <td>0</td>\n",
       "    </tr>\n",
       "  </tbody>\n",
       "</table>\n",
       "</div>"
      ],
      "text/plain": [
       "                                     name alpha_3  tld continent capital  \\\n",
       "8                              Antarctica     ATA  .aq        AN     NaN   \n",
       "33                          Bouvet Island     BVT  .bv        AN     NaN   \n",
       "95      Heard Island and McDonald Islands     HMD  .hm        AN     NaN   \n",
       "232  United States Minor Outlying Islands     UMI  .um        OC     NaN   \n",
       "\n",
       "           area  population  \n",
       "8    14000000.0           0  \n",
       "33         49.0           0  \n",
       "95        412.0           0  \n",
       "232         0.0           0  "
      ]
     },
     "execution_count": 35,
     "metadata": {},
     "output_type": "execute_result"
    }
   ],
   "source": [
    "country_data[country_data['population'] < 10]"
   ]
  },
  {
   "cell_type": "markdown",
   "metadata": {},
   "source": [
    "## More boolean masks: `isin()`\n",
    "\n",
    "Recall that a _boolean mask_ is series object with boolean values.\n",
    "It can be used to select all rows where the boolean value is `True`.\n",
    "\n",
    "This can be used to select rows with a specific value (using `... == v`)\n",
    "or a value in a specifici interval (using `(a <= ...) & (... <= b)`.\n",
    "\n",
    "When looking for values that occur in some collection,\n",
    "the function `isin()` is convenient.\n",
    "\n",
    "For example,\n",
    "here is a boolean mask that selects all countries in either South America, Africa, or Asia."
   ]
  },
  {
   "cell_type": "code",
   "execution_count": 36,
   "metadata": {},
   "outputs": [
    {
     "data": {
      "text/plain": [
       "0      False\n",
       "1       True\n",
       "2       True\n",
       "3      False\n",
       "4      False\n",
       "5      False\n",
       "6       True\n",
       "7       True\n",
       "8      False\n",
       "9       True\n",
       "10     False\n",
       "11     False\n",
       "12     False\n",
       "13     False\n",
       "14     False\n",
       "15      True\n",
       "16     False\n",
       "17     False\n",
       "18      True\n",
       "19     False\n",
       "20      True\n",
       "21     False\n",
       "22      True\n",
       "23      True\n",
       "24      True\n",
       "25     False\n",
       "26     False\n",
       "27      True\n",
       "28      True\n",
       "29     False\n",
       "       ...  \n",
       "221    False\n",
       "222     True\n",
       "223     True\n",
       "224    False\n",
       "225     True\n",
       "226    False\n",
       "227    False\n",
       "228     True\n",
       "229     True\n",
       "230    False\n",
       "231     True\n",
       "232    False\n",
       "233    False\n",
       "234     True\n",
       "235     True\n",
       "236    False\n",
       "237    False\n",
       "238     True\n",
       "239    False\n",
       "240    False\n",
       "241     True\n",
       "242    False\n",
       "243    False\n",
       "244    False\n",
       "245     True\n",
       "246     True\n",
       "247     True\n",
       "248     True\n",
       "249     True\n",
       "250    False\n",
       "Name: continent, Length: 251, dtype: bool"
      ]
     },
     "execution_count": 36,
     "metadata": {},
     "output_type": "execute_result"
    }
   ],
   "source": [
    "country_data['continent'].isin(['SA', 'AF', 'AS'])"
   ]
  },
  {
   "cell_type": "markdown",
   "metadata": {},
   "source": [
    "## Playing with the index\n",
    "\n",
    "We discuss three operations on the index of a data frame or series object:\n",
    "\n",
    "* **`set_index()`**: to set a given column as new index\n",
    "* **`sort_index()`**: to sort the index\n",
    "* **`reset_index()`**: to turn the index into a new column, and add a default numeric index\n",
    "    (the invese of `set_index()`)"
   ]
  },
  {
   "cell_type": "markdown",
   "metadata": {},
   "source": [
    "First, take another look at the country data frame:"
   ]
  },
  {
   "cell_type": "code",
   "execution_count": 37,
   "metadata": {},
   "outputs": [
    {
     "data": {
      "text/html": [
       "<div>\n",
       "<style>\n",
       "    .dataframe thead tr:only-child th {\n",
       "        text-align: right;\n",
       "    }\n",
       "\n",
       "    .dataframe thead th {\n",
       "        text-align: left;\n",
       "    }\n",
       "\n",
       "    .dataframe tbody tr th {\n",
       "        vertical-align: top;\n",
       "    }\n",
       "</style>\n",
       "<table border=\"1\" class=\"dataframe\">\n",
       "  <thead>\n",
       "    <tr style=\"text-align: right;\">\n",
       "      <th></th>\n",
       "      <th>name</th>\n",
       "      <th>alpha_3</th>\n",
       "      <th>tld</th>\n",
       "      <th>continent</th>\n",
       "      <th>capital</th>\n",
       "      <th>area</th>\n",
       "      <th>population</th>\n",
       "    </tr>\n",
       "  </thead>\n",
       "  <tbody>\n",
       "    <tr>\n",
       "      <th>0</th>\n",
       "      <td>Andorra</td>\n",
       "      <td>AND</td>\n",
       "      <td>.ad</td>\n",
       "      <td>EU</td>\n",
       "      <td>Andorra la Vella</td>\n",
       "      <td>468.0</td>\n",
       "      <td>84000</td>\n",
       "    </tr>\n",
       "    <tr>\n",
       "      <th>1</th>\n",
       "      <td>United Arab Emirates</td>\n",
       "      <td>ARE</td>\n",
       "      <td>.ae</td>\n",
       "      <td>AS</td>\n",
       "      <td>Abu Dhabi</td>\n",
       "      <td>82880.0</td>\n",
       "      <td>4975593</td>\n",
       "    </tr>\n",
       "    <tr>\n",
       "      <th>2</th>\n",
       "      <td>Afghanistan</td>\n",
       "      <td>AFG</td>\n",
       "      <td>.af</td>\n",
       "      <td>AS</td>\n",
       "      <td>Kabul</td>\n",
       "      <td>647500.0</td>\n",
       "      <td>29121286</td>\n",
       "    </tr>\n",
       "    <tr>\n",
       "      <th>3</th>\n",
       "      <td>Antigua and Barbuda</td>\n",
       "      <td>ATG</td>\n",
       "      <td>.ag</td>\n",
       "      <td>NA</td>\n",
       "      <td>St. John's</td>\n",
       "      <td>443.0</td>\n",
       "      <td>86754</td>\n",
       "    </tr>\n",
       "    <tr>\n",
       "      <th>4</th>\n",
       "      <td>Anguilla</td>\n",
       "      <td>AIA</td>\n",
       "      <td>.ai</td>\n",
       "      <td>NA</td>\n",
       "      <td>The Valley</td>\n",
       "      <td>102.0</td>\n",
       "      <td>13254</td>\n",
       "    </tr>\n",
       "  </tbody>\n",
       "</table>\n",
       "</div>"
      ],
      "text/plain": [
       "                   name alpha_3  tld continent           capital      area  \\\n",
       "0               Andorra     AND  .ad        EU  Andorra la Vella     468.0   \n",
       "1  United Arab Emirates     ARE  .ae        AS         Abu Dhabi   82880.0   \n",
       "2           Afghanistan     AFG  .af        AS             Kabul  647500.0   \n",
       "3   Antigua and Barbuda     ATG  .ag        NA        St. John's     443.0   \n",
       "4              Anguilla     AIA  .ai        NA        The Valley     102.0   \n",
       "\n",
       "   population  \n",
       "0       84000  \n",
       "1     4975593  \n",
       "2    29121286  \n",
       "3       86754  \n",
       "4       13254  "
      ]
     },
     "execution_count": 37,
     "metadata": {},
     "output_type": "execute_result"
    }
   ],
   "source": [
    "country_data.head()"
   ]
  },
  {
   "cell_type": "markdown",
   "metadata": {},
   "source": [
    "The leftmost (unlabeled) column is the index.\n",
    "It is a default numeric index.\n",
    "\n",
    "Sometimes you want to use another column of a data frame as index.\n",
    "Let's see which other columns of the country data could be used to identify rows uniquely:"
   ]
  },
  {
   "cell_type": "code",
   "execution_count": 38,
   "metadata": {},
   "outputs": [
    {
     "data": {
      "text/html": [
       "<div>\n",
       "<style>\n",
       "    .dataframe thead tr:only-child th {\n",
       "        text-align: right;\n",
       "    }\n",
       "\n",
       "    .dataframe thead th {\n",
       "        text-align: left;\n",
       "    }\n",
       "\n",
       "    .dataframe tbody tr th {\n",
       "        vertical-align: top;\n",
       "    }\n",
       "</style>\n",
       "<table border=\"1\" class=\"dataframe\">\n",
       "  <thead>\n",
       "    <tr style=\"text-align: right;\">\n",
       "      <th></th>\n",
       "      <th>name</th>\n",
       "      <th>alpha_3</th>\n",
       "      <th>tld</th>\n",
       "      <th>continent</th>\n",
       "      <th>capital</th>\n",
       "      <th>area</th>\n",
       "      <th>population</th>\n",
       "    </tr>\n",
       "  </thead>\n",
       "  <tbody>\n",
       "    <tr>\n",
       "      <th>count</th>\n",
       "      <td>251</td>\n",
       "      <td>251</td>\n",
       "      <td>249</td>\n",
       "      <td>251</td>\n",
       "      <td>245</td>\n",
       "      <td>2.510000e+02</td>\n",
       "      <td>2.510000e+02</td>\n",
       "    </tr>\n",
       "    <tr>\n",
       "      <th>unique</th>\n",
       "      <td>251</td>\n",
       "      <td>251</td>\n",
       "      <td>247</td>\n",
       "      <td>7</td>\n",
       "      <td>244</td>\n",
       "      <td>NaN</td>\n",
       "      <td>NaN</td>\n",
       "    </tr>\n",
       "    <tr>\n",
       "      <th>top</th>\n",
       "      <td>San Marino</td>\n",
       "      <td>COD</td>\n",
       "      <td>.gp</td>\n",
       "      <td>AF</td>\n",
       "      <td>Kingston</td>\n",
       "      <td>NaN</td>\n",
       "      <td>NaN</td>\n",
       "    </tr>\n",
       "    <tr>\n",
       "      <th>freq</th>\n",
       "      <td>1</td>\n",
       "      <td>1</td>\n",
       "      <td>3</td>\n",
       "      <td>58</td>\n",
       "      <td>2</td>\n",
       "      <td>NaN</td>\n",
       "      <td>NaN</td>\n",
       "    </tr>\n",
       "    <tr>\n",
       "      <th>mean</th>\n",
       "      <td>NaN</td>\n",
       "      <td>NaN</td>\n",
       "      <td>NaN</td>\n",
       "      <td>NaN</td>\n",
       "      <td>NaN</td>\n",
       "      <td>5.972518e+05</td>\n",
       "      <td>2.734232e+07</td>\n",
       "    </tr>\n",
       "    <tr>\n",
       "      <th>std</th>\n",
       "      <td>NaN</td>\n",
       "      <td>NaN</td>\n",
       "      <td>NaN</td>\n",
       "      <td>NaN</td>\n",
       "      <td>NaN</td>\n",
       "      <td>1.908368e+06</td>\n",
       "      <td>1.166406e+08</td>\n",
       "    </tr>\n",
       "    <tr>\n",
       "      <th>min</th>\n",
       "      <td>NaN</td>\n",
       "      <td>NaN</td>\n",
       "      <td>NaN</td>\n",
       "      <td>NaN</td>\n",
       "      <td>NaN</td>\n",
       "      <td>0.000000e+00</td>\n",
       "      <td>0.000000e+00</td>\n",
       "    </tr>\n",
       "    <tr>\n",
       "      <th>25%</th>\n",
       "      <td>NaN</td>\n",
       "      <td>NaN</td>\n",
       "      <td>NaN</td>\n",
       "      <td>NaN</td>\n",
       "      <td>NaN</td>\n",
       "      <td>1.096000e+03</td>\n",
       "      <td>1.839045e+05</td>\n",
       "    </tr>\n",
       "    <tr>\n",
       "      <th>50%</th>\n",
       "      <td>NaN</td>\n",
       "      <td>NaN</td>\n",
       "      <td>NaN</td>\n",
       "      <td>NaN</td>\n",
       "      <td>NaN</td>\n",
       "      <td>6.458900e+04</td>\n",
       "      <td>4.252277e+06</td>\n",
       "    </tr>\n",
       "    <tr>\n",
       "      <th>75%</th>\n",
       "      <td>NaN</td>\n",
       "      <td>NaN</td>\n",
       "      <td>NaN</td>\n",
       "      <td>NaN</td>\n",
       "      <td>NaN</td>\n",
       "      <td>3.674280e+05</td>\n",
       "      <td>1.539375e+07</td>\n",
       "    </tr>\n",
       "    <tr>\n",
       "      <th>max</th>\n",
       "      <td>NaN</td>\n",
       "      <td>NaN</td>\n",
       "      <td>NaN</td>\n",
       "      <td>NaN</td>\n",
       "      <td>NaN</td>\n",
       "      <td>1.710000e+07</td>\n",
       "      <td>1.330044e+09</td>\n",
       "    </tr>\n",
       "  </tbody>\n",
       "</table>\n",
       "</div>"
      ],
      "text/plain": [
       "              name alpha_3  tld continent   capital          area  \\\n",
       "count          251     251  249       251       245  2.510000e+02   \n",
       "unique         251     251  247         7       244           NaN   \n",
       "top     San Marino     COD  .gp        AF  Kingston           NaN   \n",
       "freq             1       1    3        58         2           NaN   \n",
       "mean           NaN     NaN  NaN       NaN       NaN  5.972518e+05   \n",
       "std            NaN     NaN  NaN       NaN       NaN  1.908368e+06   \n",
       "min            NaN     NaN  NaN       NaN       NaN  0.000000e+00   \n",
       "25%            NaN     NaN  NaN       NaN       NaN  1.096000e+03   \n",
       "50%            NaN     NaN  NaN       NaN       NaN  6.458900e+04   \n",
       "75%            NaN     NaN  NaN       NaN       NaN  3.674280e+05   \n",
       "max            NaN     NaN  NaN       NaN       NaN  1.710000e+07   \n",
       "\n",
       "          population  \n",
       "count   2.510000e+02  \n",
       "unique           NaN  \n",
       "top              NaN  \n",
       "freq             NaN  \n",
       "mean    2.734232e+07  \n",
       "std     1.166406e+08  \n",
       "min     0.000000e+00  \n",
       "25%     1.839045e+05  \n",
       "50%     4.252277e+06  \n",
       "75%     1.539375e+07  \n",
       "max     1.330044e+09  "
      ]
     },
     "execution_count": 38,
     "metadata": {},
     "output_type": "execute_result"
    }
   ],
   "source": [
    "country_data.describe(include='all')"
   ]
  },
  {
   "cell_type": "markdown",
   "metadata": {},
   "source": [
    "From these summary statistics, and in particular the count and number of unique values,\n",
    "we see that the columns `'name'` and `'alpha_3'` could be used to uniquely identify each row.\n",
    "\n",
    "Using the column `'alpha_3'` as new index is accomplished as follows\n",
    "through **`set_index()`**:"
   ]
  },
  {
   "cell_type": "code",
   "execution_count": 39,
   "metadata": {},
   "outputs": [
    {
     "data": {
      "text/html": [
       "<div>\n",
       "<style>\n",
       "    .dataframe thead tr:only-child th {\n",
       "        text-align: right;\n",
       "    }\n",
       "\n",
       "    .dataframe thead th {\n",
       "        text-align: left;\n",
       "    }\n",
       "\n",
       "    .dataframe tbody tr th {\n",
       "        vertical-align: top;\n",
       "    }\n",
       "</style>\n",
       "<table border=\"1\" class=\"dataframe\">\n",
       "  <thead>\n",
       "    <tr style=\"text-align: right;\">\n",
       "      <th></th>\n",
       "      <th>name</th>\n",
       "      <th>tld</th>\n",
       "      <th>continent</th>\n",
       "      <th>capital</th>\n",
       "      <th>area</th>\n",
       "      <th>population</th>\n",
       "    </tr>\n",
       "    <tr>\n",
       "      <th>alpha_3</th>\n",
       "      <th></th>\n",
       "      <th></th>\n",
       "      <th></th>\n",
       "      <th></th>\n",
       "      <th></th>\n",
       "      <th></th>\n",
       "    </tr>\n",
       "  </thead>\n",
       "  <tbody>\n",
       "    <tr>\n",
       "      <th>AND</th>\n",
       "      <td>Andorra</td>\n",
       "      <td>.ad</td>\n",
       "      <td>EU</td>\n",
       "      <td>Andorra la Vella</td>\n",
       "      <td>468.0</td>\n",
       "      <td>84000</td>\n",
       "    </tr>\n",
       "    <tr>\n",
       "      <th>ARE</th>\n",
       "      <td>United Arab Emirates</td>\n",
       "      <td>.ae</td>\n",
       "      <td>AS</td>\n",
       "      <td>Abu Dhabi</td>\n",
       "      <td>82880.0</td>\n",
       "      <td>4975593</td>\n",
       "    </tr>\n",
       "    <tr>\n",
       "      <th>AFG</th>\n",
       "      <td>Afghanistan</td>\n",
       "      <td>.af</td>\n",
       "      <td>AS</td>\n",
       "      <td>Kabul</td>\n",
       "      <td>647500.0</td>\n",
       "      <td>29121286</td>\n",
       "    </tr>\n",
       "    <tr>\n",
       "      <th>ATG</th>\n",
       "      <td>Antigua and Barbuda</td>\n",
       "      <td>.ag</td>\n",
       "      <td>NA</td>\n",
       "      <td>St. John's</td>\n",
       "      <td>443.0</td>\n",
       "      <td>86754</td>\n",
       "    </tr>\n",
       "    <tr>\n",
       "      <th>AIA</th>\n",
       "      <td>Anguilla</td>\n",
       "      <td>.ai</td>\n",
       "      <td>NA</td>\n",
       "      <td>The Valley</td>\n",
       "      <td>102.0</td>\n",
       "      <td>13254</td>\n",
       "    </tr>\n",
       "  </tbody>\n",
       "</table>\n",
       "</div>"
      ],
      "text/plain": [
       "                         name  tld continent           capital      area  \\\n",
       "alpha_3                                                                    \n",
       "AND                   Andorra  .ad        EU  Andorra la Vella     468.0   \n",
       "ARE      United Arab Emirates  .ae        AS         Abu Dhabi   82880.0   \n",
       "AFG               Afghanistan  .af        AS             Kabul  647500.0   \n",
       "ATG       Antigua and Barbuda  .ag        NA        St. John's     443.0   \n",
       "AIA                  Anguilla  .ai        NA        The Valley     102.0   \n",
       "\n",
       "         population  \n",
       "alpha_3              \n",
       "AND           84000  \n",
       "ARE         4975593  \n",
       "AFG        29121286  \n",
       "ATG           86754  \n",
       "AIA           13254  "
      ]
     },
     "execution_count": 39,
     "metadata": {},
     "output_type": "execute_result"
    }
   ],
   "source": [
    "country_data_by_alpha3 = country_data.set_index('alpha_3')\n",
    "country_data_by_alpha3.head()"
   ]
  },
  {
   "cell_type": "markdown",
   "metadata": {},
   "source": [
    "Note that, as usual, this results in a new data frame.\n",
    "If you want to modify the data frame rather than creating a new one,\n",
    "supply the keyword argument **`inplace=True`**.\n",
    "\n",
    "You can now use alpha-3 codes to select rows:"
   ]
  },
  {
   "cell_type": "code",
   "execution_count": 40,
   "metadata": {},
   "outputs": [
    {
     "data": {
      "text/html": [
       "<div>\n",
       "<style>\n",
       "    .dataframe thead tr:only-child th {\n",
       "        text-align: right;\n",
       "    }\n",
       "\n",
       "    .dataframe thead th {\n",
       "        text-align: left;\n",
       "    }\n",
       "\n",
       "    .dataframe tbody tr th {\n",
       "        vertical-align: top;\n",
       "    }\n",
       "</style>\n",
       "<table border=\"1\" class=\"dataframe\">\n",
       "  <thead>\n",
       "    <tr style=\"text-align: right;\">\n",
       "      <th></th>\n",
       "      <th>name</th>\n",
       "      <th>tld</th>\n",
       "      <th>continent</th>\n",
       "      <th>capital</th>\n",
       "      <th>area</th>\n",
       "      <th>population</th>\n",
       "    </tr>\n",
       "    <tr>\n",
       "      <th>alpha_3</th>\n",
       "      <th></th>\n",
       "      <th></th>\n",
       "      <th></th>\n",
       "      <th></th>\n",
       "      <th></th>\n",
       "      <th></th>\n",
       "    </tr>\n",
       "  </thead>\n",
       "  <tbody>\n",
       "    <tr>\n",
       "      <th>BEL</th>\n",
       "      <td>Belgium</td>\n",
       "      <td>.be</td>\n",
       "      <td>EU</td>\n",
       "      <td>Brussels</td>\n",
       "      <td>30510.0</td>\n",
       "      <td>10403000</td>\n",
       "    </tr>\n",
       "    <tr>\n",
       "      <th>NLD</th>\n",
       "      <td>Netherlands</td>\n",
       "      <td>.nl</td>\n",
       "      <td>EU</td>\n",
       "      <td>Amsterdam</td>\n",
       "      <td>41526.0</td>\n",
       "      <td>16645000</td>\n",
       "    </tr>\n",
       "    <tr>\n",
       "      <th>LUX</th>\n",
       "      <td>Luxembourg</td>\n",
       "      <td>.lu</td>\n",
       "      <td>EU</td>\n",
       "      <td>Luxembourg</td>\n",
       "      <td>2586.0</td>\n",
       "      <td>497538</td>\n",
       "    </tr>\n",
       "  </tbody>\n",
       "</table>\n",
       "</div>"
      ],
      "text/plain": [
       "                name  tld continent     capital     area  population\n",
       "alpha_3                                                             \n",
       "BEL          Belgium  .be        EU    Brussels  30510.0    10403000\n",
       "NLD      Netherlands  .nl        EU   Amsterdam  41526.0    16645000\n",
       "LUX       Luxembourg  .lu        EU  Luxembourg   2586.0      497538"
      ]
     },
     "execution_count": 40,
     "metadata": {},
     "output_type": "execute_result"
    }
   ],
   "source": [
    "country_data_by_alpha3.loc[['BEL', 'NLD', 'LUX']]"
   ]
  },
  {
   "cell_type": "markdown",
   "metadata": {},
   "source": [
    "As you may have noticed from the rows displayed above by `country_data_by_alpha3.head()`,\n",
    "the data frame is not sorted on alpha-3 codes.\n",
    "You can use **`sort_index()`** to sort the index:"
   ]
  },
  {
   "cell_type": "code",
   "execution_count": 41,
   "metadata": {},
   "outputs": [
    {
     "data": {
      "text/html": [
       "<div>\n",
       "<style>\n",
       "    .dataframe thead tr:only-child th {\n",
       "        text-align: right;\n",
       "    }\n",
       "\n",
       "    .dataframe thead th {\n",
       "        text-align: left;\n",
       "    }\n",
       "\n",
       "    .dataframe tbody tr th {\n",
       "        vertical-align: top;\n",
       "    }\n",
       "</style>\n",
       "<table border=\"1\" class=\"dataframe\">\n",
       "  <thead>\n",
       "    <tr style=\"text-align: right;\">\n",
       "      <th></th>\n",
       "      <th>name</th>\n",
       "      <th>tld</th>\n",
       "      <th>continent</th>\n",
       "      <th>capital</th>\n",
       "      <th>area</th>\n",
       "      <th>population</th>\n",
       "    </tr>\n",
       "    <tr>\n",
       "      <th>alpha_3</th>\n",
       "      <th></th>\n",
       "      <th></th>\n",
       "      <th></th>\n",
       "      <th></th>\n",
       "      <th></th>\n",
       "      <th></th>\n",
       "    </tr>\n",
       "  </thead>\n",
       "  <tbody>\n",
       "    <tr>\n",
       "      <th>ABW</th>\n",
       "      <td>Aruba</td>\n",
       "      <td>.aw</td>\n",
       "      <td>NA</td>\n",
       "      <td>Oranjestad</td>\n",
       "      <td>193.0</td>\n",
       "      <td>71566</td>\n",
       "    </tr>\n",
       "    <tr>\n",
       "      <th>AFG</th>\n",
       "      <td>Afghanistan</td>\n",
       "      <td>.af</td>\n",
       "      <td>AS</td>\n",
       "      <td>Kabul</td>\n",
       "      <td>647500.0</td>\n",
       "      <td>29121286</td>\n",
       "    </tr>\n",
       "    <tr>\n",
       "      <th>AGO</th>\n",
       "      <td>Angola</td>\n",
       "      <td>.ao</td>\n",
       "      <td>AF</td>\n",
       "      <td>Luanda</td>\n",
       "      <td>1246700.0</td>\n",
       "      <td>13068161</td>\n",
       "    </tr>\n",
       "    <tr>\n",
       "      <th>AIA</th>\n",
       "      <td>Anguilla</td>\n",
       "      <td>.ai</td>\n",
       "      <td>NA</td>\n",
       "      <td>The Valley</td>\n",
       "      <td>102.0</td>\n",
       "      <td>13254</td>\n",
       "    </tr>\n",
       "    <tr>\n",
       "      <th>ALA</th>\n",
       "      <td>Aland Islands</td>\n",
       "      <td>.ax</td>\n",
       "      <td>EU</td>\n",
       "      <td>Mariehamn</td>\n",
       "      <td>1580.0</td>\n",
       "      <td>26711</td>\n",
       "    </tr>\n",
       "  </tbody>\n",
       "</table>\n",
       "</div>"
      ],
      "text/plain": [
       "                  name  tld continent     capital       area  population\n",
       "alpha_3                                                                 \n",
       "ABW              Aruba  .aw        NA  Oranjestad      193.0       71566\n",
       "AFG        Afghanistan  .af        AS       Kabul   647500.0    29121286\n",
       "AGO             Angola  .ao        AF      Luanda  1246700.0    13068161\n",
       "AIA           Anguilla  .ai        NA  The Valley      102.0       13254\n",
       "ALA      Aland Islands  .ax        EU   Mariehamn     1580.0       26711"
      ]
     },
     "execution_count": 41,
     "metadata": {},
     "output_type": "execute_result"
    }
   ],
   "source": [
    "country_data_by_alpha3.sort_index(inplace=True)\n",
    "country_data_by_alpha3.head()"
   ]
  },
  {
   "cell_type": "markdown",
   "metadata": {},
   "source": [
    "Another thing you may have noticed is that the column being used as index was dropped.\n",
    "You can keep it by supplying the keyword argument **`drop=False`**."
   ]
  },
  {
   "cell_type": "code",
   "execution_count": 42,
   "metadata": {},
   "outputs": [
    {
     "data": {
      "text/html": [
       "<div>\n",
       "<style>\n",
       "    .dataframe thead tr:only-child th {\n",
       "        text-align: right;\n",
       "    }\n",
       "\n",
       "    .dataframe thead th {\n",
       "        text-align: left;\n",
       "    }\n",
       "\n",
       "    .dataframe tbody tr th {\n",
       "        vertical-align: top;\n",
       "    }\n",
       "</style>\n",
       "<table border=\"1\" class=\"dataframe\">\n",
       "  <thead>\n",
       "    <tr style=\"text-align: right;\">\n",
       "      <th></th>\n",
       "      <th>name</th>\n",
       "      <th>alpha_3</th>\n",
       "      <th>tld</th>\n",
       "      <th>continent</th>\n",
       "      <th>capital</th>\n",
       "      <th>area</th>\n",
       "      <th>population</th>\n",
       "    </tr>\n",
       "    <tr>\n",
       "      <th>alpha_3</th>\n",
       "      <th></th>\n",
       "      <th></th>\n",
       "      <th></th>\n",
       "      <th></th>\n",
       "      <th></th>\n",
       "      <th></th>\n",
       "      <th></th>\n",
       "    </tr>\n",
       "  </thead>\n",
       "  <tbody>\n",
       "    <tr>\n",
       "      <th>AND</th>\n",
       "      <td>Andorra</td>\n",
       "      <td>AND</td>\n",
       "      <td>.ad</td>\n",
       "      <td>EU</td>\n",
       "      <td>Andorra la Vella</td>\n",
       "      <td>468.0</td>\n",
       "      <td>84000</td>\n",
       "    </tr>\n",
       "    <tr>\n",
       "      <th>ARE</th>\n",
       "      <td>United Arab Emirates</td>\n",
       "      <td>ARE</td>\n",
       "      <td>.ae</td>\n",
       "      <td>AS</td>\n",
       "      <td>Abu Dhabi</td>\n",
       "      <td>82880.0</td>\n",
       "      <td>4975593</td>\n",
       "    </tr>\n",
       "    <tr>\n",
       "      <th>AFG</th>\n",
       "      <td>Afghanistan</td>\n",
       "      <td>AFG</td>\n",
       "      <td>.af</td>\n",
       "      <td>AS</td>\n",
       "      <td>Kabul</td>\n",
       "      <td>647500.0</td>\n",
       "      <td>29121286</td>\n",
       "    </tr>\n",
       "    <tr>\n",
       "      <th>ATG</th>\n",
       "      <td>Antigua and Barbuda</td>\n",
       "      <td>ATG</td>\n",
       "      <td>.ag</td>\n",
       "      <td>NA</td>\n",
       "      <td>St. John's</td>\n",
       "      <td>443.0</td>\n",
       "      <td>86754</td>\n",
       "    </tr>\n",
       "    <tr>\n",
       "      <th>AIA</th>\n",
       "      <td>Anguilla</td>\n",
       "      <td>AIA</td>\n",
       "      <td>.ai</td>\n",
       "      <td>NA</td>\n",
       "      <td>The Valley</td>\n",
       "      <td>102.0</td>\n",
       "      <td>13254</td>\n",
       "    </tr>\n",
       "  </tbody>\n",
       "</table>\n",
       "</div>"
      ],
      "text/plain": [
       "                         name alpha_3  tld continent           capital  \\\n",
       "alpha_3                                                                  \n",
       "AND                   Andorra     AND  .ad        EU  Andorra la Vella   \n",
       "ARE      United Arab Emirates     ARE  .ae        AS         Abu Dhabi   \n",
       "AFG               Afghanistan     AFG  .af        AS             Kabul   \n",
       "ATG       Antigua and Barbuda     ATG  .ag        NA        St. John's   \n",
       "AIA                  Anguilla     AIA  .ai        NA        The Valley   \n",
       "\n",
       "             area  population  \n",
       "alpha_3                        \n",
       "AND         468.0       84000  \n",
       "ARE       82880.0     4975593  \n",
       "AFG      647500.0    29121286  \n",
       "ATG         443.0       86754  \n",
       "AIA         102.0       13254  "
      ]
     },
     "execution_count": 42,
     "metadata": {},
     "output_type": "execute_result"
    }
   ],
   "source": [
    "country_data.set_index('alpha_3', drop=False).head()"
   ]
  },
  {
   "cell_type": "markdown",
   "metadata": {},
   "source": [
    "The inverse of `set_index()` is **`reset_index()`**,\n",
    "which turns the current index into a regular column and adds a fresh default numeric index"
   ]
  },
  {
   "cell_type": "code",
   "execution_count": 43,
   "metadata": {},
   "outputs": [
    {
     "data": {
      "text/html": [
       "<div>\n",
       "<style>\n",
       "    .dataframe thead tr:only-child th {\n",
       "        text-align: right;\n",
       "    }\n",
       "\n",
       "    .dataframe thead th {\n",
       "        text-align: left;\n",
       "    }\n",
       "\n",
       "    .dataframe tbody tr th {\n",
       "        vertical-align: top;\n",
       "    }\n",
       "</style>\n",
       "<table border=\"1\" class=\"dataframe\">\n",
       "  <thead>\n",
       "    <tr style=\"text-align: right;\">\n",
       "      <th></th>\n",
       "      <th>alpha_3</th>\n",
       "      <th>name</th>\n",
       "      <th>tld</th>\n",
       "      <th>continent</th>\n",
       "      <th>capital</th>\n",
       "      <th>area</th>\n",
       "      <th>population</th>\n",
       "    </tr>\n",
       "  </thead>\n",
       "  <tbody>\n",
       "    <tr>\n",
       "      <th>0</th>\n",
       "      <td>ABW</td>\n",
       "      <td>Aruba</td>\n",
       "      <td>.aw</td>\n",
       "      <td>NA</td>\n",
       "      <td>Oranjestad</td>\n",
       "      <td>193.0</td>\n",
       "      <td>71566</td>\n",
       "    </tr>\n",
       "    <tr>\n",
       "      <th>1</th>\n",
       "      <td>AFG</td>\n",
       "      <td>Afghanistan</td>\n",
       "      <td>.af</td>\n",
       "      <td>AS</td>\n",
       "      <td>Kabul</td>\n",
       "      <td>647500.0</td>\n",
       "      <td>29121286</td>\n",
       "    </tr>\n",
       "    <tr>\n",
       "      <th>2</th>\n",
       "      <td>AGO</td>\n",
       "      <td>Angola</td>\n",
       "      <td>.ao</td>\n",
       "      <td>AF</td>\n",
       "      <td>Luanda</td>\n",
       "      <td>1246700.0</td>\n",
       "      <td>13068161</td>\n",
       "    </tr>\n",
       "    <tr>\n",
       "      <th>3</th>\n",
       "      <td>AIA</td>\n",
       "      <td>Anguilla</td>\n",
       "      <td>.ai</td>\n",
       "      <td>NA</td>\n",
       "      <td>The Valley</td>\n",
       "      <td>102.0</td>\n",
       "      <td>13254</td>\n",
       "    </tr>\n",
       "    <tr>\n",
       "      <th>4</th>\n",
       "      <td>ALA</td>\n",
       "      <td>Aland Islands</td>\n",
       "      <td>.ax</td>\n",
       "      <td>EU</td>\n",
       "      <td>Mariehamn</td>\n",
       "      <td>1580.0</td>\n",
       "      <td>26711</td>\n",
       "    </tr>\n",
       "  </tbody>\n",
       "</table>\n",
       "</div>"
      ],
      "text/plain": [
       "  alpha_3           name  tld continent     capital       area  population\n",
       "0     ABW          Aruba  .aw        NA  Oranjestad      193.0       71566\n",
       "1     AFG    Afghanistan  .af        AS       Kabul   647500.0    29121286\n",
       "2     AGO         Angola  .ao        AF      Luanda  1246700.0    13068161\n",
       "3     AIA       Anguilla  .ai        NA  The Valley      102.0       13254\n",
       "4     ALA  Aland Islands  .ax        EU   Mariehamn     1580.0       26711"
      ]
     },
     "execution_count": 43,
     "metadata": {},
     "output_type": "execute_result"
    }
   ],
   "source": [
    "country_data_by_alpha3.reset_index().head()"
   ]
  },
  {
   "cell_type": "markdown",
   "metadata": {},
   "source": [
    "This can be particularly useful after sorting a data frame on the values in\n",
    "one or more columns,\n",
    "because the index is sorted along as well:"
   ]
  },
  {
   "cell_type": "code",
   "execution_count": 44,
   "metadata": {},
   "outputs": [
    {
     "data": {
      "text/html": [
       "<div>\n",
       "<style>\n",
       "    .dataframe thead tr:only-child th {\n",
       "        text-align: right;\n",
       "    }\n",
       "\n",
       "    .dataframe thead th {\n",
       "        text-align: left;\n",
       "    }\n",
       "\n",
       "    .dataframe tbody tr th {\n",
       "        vertical-align: top;\n",
       "    }\n",
       "</style>\n",
       "<table border=\"1\" class=\"dataframe\">\n",
       "  <thead>\n",
       "    <tr style=\"text-align: right;\">\n",
       "      <th></th>\n",
       "      <th>name</th>\n",
       "      <th>alpha_3</th>\n",
       "      <th>tld</th>\n",
       "      <th>continent</th>\n",
       "      <th>capital</th>\n",
       "      <th>area</th>\n",
       "      <th>population</th>\n",
       "    </tr>\n",
       "  </thead>\n",
       "  <tbody>\n",
       "    <tr>\n",
       "      <th>13</th>\n",
       "      <td>Aruba</td>\n",
       "      <td>ABW</td>\n",
       "      <td>.aw</td>\n",
       "      <td>NA</td>\n",
       "      <td>Oranjestad</td>\n",
       "      <td>193.0</td>\n",
       "      <td>71566</td>\n",
       "    </tr>\n",
       "    <tr>\n",
       "      <th>2</th>\n",
       "      <td>Afghanistan</td>\n",
       "      <td>AFG</td>\n",
       "      <td>.af</td>\n",
       "      <td>AS</td>\n",
       "      <td>Kabul</td>\n",
       "      <td>647500.0</td>\n",
       "      <td>29121286</td>\n",
       "    </tr>\n",
       "    <tr>\n",
       "      <th>7</th>\n",
       "      <td>Angola</td>\n",
       "      <td>AGO</td>\n",
       "      <td>.ao</td>\n",
       "      <td>AF</td>\n",
       "      <td>Luanda</td>\n",
       "      <td>1246700.0</td>\n",
       "      <td>13068161</td>\n",
       "    </tr>\n",
       "    <tr>\n",
       "      <th>4</th>\n",
       "      <td>Anguilla</td>\n",
       "      <td>AIA</td>\n",
       "      <td>.ai</td>\n",
       "      <td>NA</td>\n",
       "      <td>The Valley</td>\n",
       "      <td>102.0</td>\n",
       "      <td>13254</td>\n",
       "    </tr>\n",
       "    <tr>\n",
       "      <th>14</th>\n",
       "      <td>Aland Islands</td>\n",
       "      <td>ALA</td>\n",
       "      <td>.ax</td>\n",
       "      <td>EU</td>\n",
       "      <td>Mariehamn</td>\n",
       "      <td>1580.0</td>\n",
       "      <td>26711</td>\n",
       "    </tr>\n",
       "  </tbody>\n",
       "</table>\n",
       "</div>"
      ],
      "text/plain": [
       "             name alpha_3  tld continent     capital       area  population\n",
       "13          Aruba     ABW  .aw        NA  Oranjestad      193.0       71566\n",
       "2     Afghanistan     AFG  .af        AS       Kabul   647500.0    29121286\n",
       "7          Angola     AGO  .ao        AF      Luanda  1246700.0    13068161\n",
       "4        Anguilla     AIA  .ai        NA  The Valley      102.0       13254\n",
       "14  Aland Islands     ALA  .ax        EU   Mariehamn     1580.0       26711"
      ]
     },
     "execution_count": 44,
     "metadata": {},
     "output_type": "execute_result"
    }
   ],
   "source": [
    "country_data.sort_values('alpha_3').head()"
   ]
  },
  {
   "cell_type": "markdown",
   "metadata": {},
   "source": [
    "When plotting data according to the sorted order, you neeed to reset the index.\n",
    "We will see some examples below."
   ]
  },
  {
   "cell_type": "code",
   "execution_count": 45,
   "metadata": {},
   "outputs": [
    {
     "data": {
      "text/html": [
       "<div>\n",
       "<style>\n",
       "    .dataframe thead tr:only-child th {\n",
       "        text-align: right;\n",
       "    }\n",
       "\n",
       "    .dataframe thead th {\n",
       "        text-align: left;\n",
       "    }\n",
       "\n",
       "    .dataframe tbody tr th {\n",
       "        vertical-align: top;\n",
       "    }\n",
       "</style>\n",
       "<table border=\"1\" class=\"dataframe\">\n",
       "  <thead>\n",
       "    <tr style=\"text-align: right;\">\n",
       "      <th></th>\n",
       "      <th>index</th>\n",
       "      <th>name</th>\n",
       "      <th>alpha_3</th>\n",
       "      <th>tld</th>\n",
       "      <th>continent</th>\n",
       "      <th>capital</th>\n",
       "      <th>area</th>\n",
       "      <th>population</th>\n",
       "    </tr>\n",
       "  </thead>\n",
       "  <tbody>\n",
       "    <tr>\n",
       "      <th>0</th>\n",
       "      <td>13</td>\n",
       "      <td>Aruba</td>\n",
       "      <td>ABW</td>\n",
       "      <td>.aw</td>\n",
       "      <td>NA</td>\n",
       "      <td>Oranjestad</td>\n",
       "      <td>193.0</td>\n",
       "      <td>71566</td>\n",
       "    </tr>\n",
       "    <tr>\n",
       "      <th>1</th>\n",
       "      <td>2</td>\n",
       "      <td>Afghanistan</td>\n",
       "      <td>AFG</td>\n",
       "      <td>.af</td>\n",
       "      <td>AS</td>\n",
       "      <td>Kabul</td>\n",
       "      <td>647500.0</td>\n",
       "      <td>29121286</td>\n",
       "    </tr>\n",
       "    <tr>\n",
       "      <th>2</th>\n",
       "      <td>7</td>\n",
       "      <td>Angola</td>\n",
       "      <td>AGO</td>\n",
       "      <td>.ao</td>\n",
       "      <td>AF</td>\n",
       "      <td>Luanda</td>\n",
       "      <td>1246700.0</td>\n",
       "      <td>13068161</td>\n",
       "    </tr>\n",
       "    <tr>\n",
       "      <th>3</th>\n",
       "      <td>4</td>\n",
       "      <td>Anguilla</td>\n",
       "      <td>AIA</td>\n",
       "      <td>.ai</td>\n",
       "      <td>NA</td>\n",
       "      <td>The Valley</td>\n",
       "      <td>102.0</td>\n",
       "      <td>13254</td>\n",
       "    </tr>\n",
       "    <tr>\n",
       "      <th>4</th>\n",
       "      <td>14</td>\n",
       "      <td>Aland Islands</td>\n",
       "      <td>ALA</td>\n",
       "      <td>.ax</td>\n",
       "      <td>EU</td>\n",
       "      <td>Mariehamn</td>\n",
       "      <td>1580.0</td>\n",
       "      <td>26711</td>\n",
       "    </tr>\n",
       "  </tbody>\n",
       "</table>\n",
       "</div>"
      ],
      "text/plain": [
       "   index           name alpha_3  tld continent     capital       area  \\\n",
       "0     13          Aruba     ABW  .aw        NA  Oranjestad      193.0   \n",
       "1      2    Afghanistan     AFG  .af        AS       Kabul   647500.0   \n",
       "2      7         Angola     AGO  .ao        AF      Luanda  1246700.0   \n",
       "3      4       Anguilla     AIA  .ai        NA  The Valley      102.0   \n",
       "4     14  Aland Islands     ALA  .ax        EU   Mariehamn     1580.0   \n",
       "\n",
       "   population  \n",
       "0       71566  \n",
       "1    29121286  \n",
       "2    13068161  \n",
       "3       13254  \n",
       "4       26711  "
      ]
     },
     "execution_count": 45,
     "metadata": {},
     "output_type": "execute_result"
    }
   ],
   "source": [
    "country_data.sort_values('alpha_3').reset_index().head()"
   ]
  },
  {
   "cell_type": "markdown",
   "metadata": {},
   "source": [
    "Again, use **`drop=True`** if you wish to drop the old index:"
   ]
  },
  {
   "cell_type": "code",
   "execution_count": 46,
   "metadata": {},
   "outputs": [
    {
     "data": {
      "text/html": [
       "<div>\n",
       "<style>\n",
       "    .dataframe thead tr:only-child th {\n",
       "        text-align: right;\n",
       "    }\n",
       "\n",
       "    .dataframe thead th {\n",
       "        text-align: left;\n",
       "    }\n",
       "\n",
       "    .dataframe tbody tr th {\n",
       "        vertical-align: top;\n",
       "    }\n",
       "</style>\n",
       "<table border=\"1\" class=\"dataframe\">\n",
       "  <thead>\n",
       "    <tr style=\"text-align: right;\">\n",
       "      <th></th>\n",
       "      <th>name</th>\n",
       "      <th>alpha_3</th>\n",
       "      <th>tld</th>\n",
       "      <th>continent</th>\n",
       "      <th>capital</th>\n",
       "      <th>area</th>\n",
       "      <th>population</th>\n",
       "    </tr>\n",
       "  </thead>\n",
       "  <tbody>\n",
       "    <tr>\n",
       "      <th>0</th>\n",
       "      <td>Aruba</td>\n",
       "      <td>ABW</td>\n",
       "      <td>.aw</td>\n",
       "      <td>NA</td>\n",
       "      <td>Oranjestad</td>\n",
       "      <td>193.0</td>\n",
       "      <td>71566</td>\n",
       "    </tr>\n",
       "    <tr>\n",
       "      <th>1</th>\n",
       "      <td>Afghanistan</td>\n",
       "      <td>AFG</td>\n",
       "      <td>.af</td>\n",
       "      <td>AS</td>\n",
       "      <td>Kabul</td>\n",
       "      <td>647500.0</td>\n",
       "      <td>29121286</td>\n",
       "    </tr>\n",
       "    <tr>\n",
       "      <th>2</th>\n",
       "      <td>Angola</td>\n",
       "      <td>AGO</td>\n",
       "      <td>.ao</td>\n",
       "      <td>AF</td>\n",
       "      <td>Luanda</td>\n",
       "      <td>1246700.0</td>\n",
       "      <td>13068161</td>\n",
       "    </tr>\n",
       "    <tr>\n",
       "      <th>3</th>\n",
       "      <td>Anguilla</td>\n",
       "      <td>AIA</td>\n",
       "      <td>.ai</td>\n",
       "      <td>NA</td>\n",
       "      <td>The Valley</td>\n",
       "      <td>102.0</td>\n",
       "      <td>13254</td>\n",
       "    </tr>\n",
       "    <tr>\n",
       "      <th>4</th>\n",
       "      <td>Aland Islands</td>\n",
       "      <td>ALA</td>\n",
       "      <td>.ax</td>\n",
       "      <td>EU</td>\n",
       "      <td>Mariehamn</td>\n",
       "      <td>1580.0</td>\n",
       "      <td>26711</td>\n",
       "    </tr>\n",
       "  </tbody>\n",
       "</table>\n",
       "</div>"
      ],
      "text/plain": [
       "            name alpha_3  tld continent     capital       area  population\n",
       "0          Aruba     ABW  .aw        NA  Oranjestad      193.0       71566\n",
       "1    Afghanistan     AFG  .af        AS       Kabul   647500.0    29121286\n",
       "2         Angola     AGO  .ao        AF      Luanda  1246700.0    13068161\n",
       "3       Anguilla     AIA  .ai        NA  The Valley      102.0       13254\n",
       "4  Aland Islands     ALA  .ax        EU   Mariehamn     1580.0       26711"
      ]
     },
     "execution_count": 46,
     "metadata": {},
     "output_type": "execute_result"
    }
   ],
   "source": [
    "country_data.sort_values('alpha_3').reset_index(drop=True).head()"
   ]
  },
  {
   "cell_type": "markdown",
   "metadata": {},
   "source": [
    "## Operations involving multiple rows\n",
    "\n",
    "So far, we have operated on individual values in data sets,\n",
    "or on all of them, treating them all in the same way.\n",
    "\n",
    "We briefly discuss three operations that involve a subset of the rows:\n",
    "\n",
    "* **`diff()`**: to take **differences** of pairs of adjacent rows\n",
    "* **`cumsum()`**: to compute the **cumulative sums** over all rows,\n",
    "  that is, for each row computer the sum of the values in all preceding rows\n",
    "* **`rolling()`**: to control a **rolling window** calculation,\n",
    "    based on all groups of adjacent rows (the _windows_) of a given size"
   ]
  },
  {
   "cell_type": "markdown",
   "metadata": {},
   "source": [
    "The pairwise differences are computed for each row\n",
    "by subtracting the value in the immediately preceding row.\n",
    "The first row will have a missing value.\n",
    "\n",
    "Here we apply this to the country populations after sorting:"
   ]
  },
  {
   "cell_type": "code",
   "execution_count": 47,
   "metadata": {},
   "outputs": [
    {
     "data": {
      "text/plain": [
       "95       NaN\n",
       "8        0.0\n",
       "33       0.0\n",
       "232      0.0\n",
       "89      30.0\n",
       "181     16.0\n",
       "216     94.0\n",
       "38     488.0\n",
       "236    293.0\n",
       "220    545.0\n",
       "Name: population, dtype: float64"
      ]
     },
     "execution_count": 47,
     "metadata": {},
     "output_type": "execute_result"
    }
   ],
   "source": [
    "population_diff = country_data['population'].sort_values().diff()\n",
    "population_diff.head(10)"
   ]
  },
  {
   "cell_type": "markdown",
   "metadata": {},
   "source": [
    "Let's plot these pairwise differences:"
   ]
  },
  {
   "cell_type": "code",
   "execution_count": 48,
   "metadata": {},
   "outputs": [
    {
     "data": {
      "image/png": "[encoded data removed]",
      "text/plain": [
       "<matplotlib.figure.Figure at 0x1181647f0>"
      ]
     },
     "metadata": {},
     "output_type": "display_data"
    }
   ],
   "source": [
    "population_diff.plot();"
   ]
  },
  {
   "cell_type": "markdown",
   "metadata": {},
   "source": [
    "This is a useless plot, because it uses the index to determine the order of the points.\n",
    "Even though we sorted on population, the index values are still the same as before.\n",
    "\n",
    "To fix this, we reset the index before plotting the data frame:"
   ]
  },
  {
   "cell_type": "code",
   "execution_count": 49,
   "metadata": {},
   "outputs": [
    {
     "data": {
      "image/png": "[encoded data removed]",
      "text/plain": [
       "<matplotlib.figure.Figure at 0x1182d2c88>"
      ]
     },
     "metadata": {},
     "output_type": "display_data"
    }
   ],
   "source": [
    "population_diff.reset_index(drop=True).plot();"
   ]
  },
  {
   "cell_type": "markdown",
   "metadata": {},
   "source": [
    "Similarly, we can compute the cumulative sums of the population after sorting:"
   ]
  },
  {
   "cell_type": "code",
   "execution_count": 50,
   "metadata": {},
   "outputs": [
    {
     "data": {
      "text/plain": [
       "95        0\n",
       "8         0\n",
       "33        0\n",
       "232       0\n",
       "89       30\n",
       "181      76\n",
       "216     216\n",
       "38      844\n",
       "236    1765\n",
       "220    3231\n",
       "Name: population, dtype: int64"
      ]
     },
     "execution_count": 50,
     "metadata": {},
     "output_type": "execute_result"
    }
   ],
   "source": [
    "population_cumsum = country_data['population'].sort_values().cumsum()\n",
    "population_cumsum.head(10)"
   ]
  },
  {
   "cell_type": "code",
   "execution_count": 51,
   "metadata": {},
   "outputs": [
    {
     "data": {
      "image/png": "[encoded data removed]",
      "text/plain": [
       "<matplotlib.figure.Figure at 0x1187e66a0>"
      ]
     },
     "metadata": {},
     "output_type": "display_data"
    }
   ],
   "source": [
    "population_cumsum.reset_index(drop=True).plot();"
   ]
  },
  {
   "cell_type": "markdown",
   "metadata": {},
   "source": [
    "> **NOTES**:\n",
    "> * The pairwise differences operator `diff()`\n",
    ">     is similar to _differentiation_ of a function in calculus.\n",
    "> * The cumulative sums operator `cumsum()`\n",
    ">     is similar to _integration_ of a function in calculus.\n",
    "> * Except for a missing value in the first row and possibly an additive constant,\n",
    ">    `diff()` and `cumsum()` are inverses of each other:\n",
    ">\n",
    ">     The cumulative sums of the pairwise differences of a data set equals the original data set,\n",
    ">     except for the missing value at the start and an additive constant.  \n",
    ">     Likewise, the pairwise differences of the cumulative sums equals the original data set,\n",
    ">     except for the missing value at the start."
   ]
  },
  {
   "cell_type": "markdown",
   "metadata": {},
   "source": [
    "To smooth a collection of values,\n",
    "you can use so-called **rolling window statistics**.\n",
    "\n",
    "A window of size $k$ is a group of $k$ adjacent rows.\n",
    "A data frame with $n$ rows has $n - k + 1$ windows of size $k$.\n",
    "These windows partially overlap.\n",
    "\n",
    "To obtain a window for each row,\n",
    "Pandas uses that row and $k-1$ preceding rows.\n",
    "If (some of) those preceding rows do not exist\n",
    "(as is the case for the first rows),\n",
    "then missing values are inserted.\n",
    "\n",
    "For each window, a statistics can be computed,\n",
    "such the mean or the median.\n",
    "\n",
    "Although not very relevant,\n",
    "here is a rolling mean for window size 5 of the country areas:"
   ]
  },
  {
   "cell_type": "code",
   "execution_count": 52,
   "metadata": {},
   "outputs": [
    {
     "data": {
      "text/html": [
       "<div>\n",
       "<style>\n",
       "    .dataframe thead tr:only-child th {\n",
       "        text-align: right;\n",
       "    }\n",
       "\n",
       "    .dataframe thead th {\n",
       "        text-align: left;\n",
       "    }\n",
       "\n",
       "    .dataframe tbody tr th {\n",
       "        vertical-align: top;\n",
       "    }\n",
       "</style>\n",
       "<table border=\"1\" class=\"dataframe\">\n",
       "  <thead>\n",
       "    <tr style=\"text-align: right;\">\n",
       "      <th></th>\n",
       "      <th>area</th>\n",
       "    </tr>\n",
       "  </thead>\n",
       "  <tbody>\n",
       "    <tr>\n",
       "      <th>0</th>\n",
       "      <td>NaN</td>\n",
       "    </tr>\n",
       "    <tr>\n",
       "      <th>1</th>\n",
       "      <td>NaN</td>\n",
       "    </tr>\n",
       "    <tr>\n",
       "      <th>2</th>\n",
       "      <td>NaN</td>\n",
       "    </tr>\n",
       "    <tr>\n",
       "      <th>3</th>\n",
       "      <td>NaN</td>\n",
       "    </tr>\n",
       "    <tr>\n",
       "      <th>4</th>\n",
       "      <td>146278.6</td>\n",
       "    </tr>\n",
       "    <tr>\n",
       "      <th>5</th>\n",
       "      <td>151934.6</td>\n",
       "    </tr>\n",
       "    <tr>\n",
       "      <th>6</th>\n",
       "      <td>141318.6</td>\n",
       "    </tr>\n",
       "    <tr>\n",
       "      <th>7</th>\n",
       "      <td>261158.6</td>\n",
       "    </tr>\n",
       "    <tr>\n",
       "      <th>8</th>\n",
       "      <td>3061070.0</td>\n",
       "    </tr>\n",
       "    <tr>\n",
       "      <th>9</th>\n",
       "      <td>3614427.6</td>\n",
       "    </tr>\n",
       "  </tbody>\n",
       "</table>\n",
       "</div>"
      ],
      "text/plain": [
       "        area\n",
       "0        NaN\n",
       "1        NaN\n",
       "2        NaN\n",
       "3        NaN\n",
       "4   146278.6\n",
       "5   151934.6\n",
       "6   141318.6\n",
       "7   261158.6\n",
       "8  3061070.0\n",
       "9  3614427.6"
      ]
     },
     "execution_count": 52,
     "metadata": {},
     "output_type": "execute_result"
    }
   ],
   "source": [
    "country_data[['area']].rolling(window=5).mean().head(10)"
   ]
  },
  {
   "cell_type": "markdown",
   "metadata": {},
   "source": [
    "As you can see, the first four values are missing, because their windows are not complete.\n",
    "\n",
    "Let's see this graphically.\n",
    "Here is a line plot of the country areas, in the order of occurrence.\n",
    "That is quite a noisy plot.\n",
    "Note the scale of the $y$-axis."
   ]
  },
  {
   "cell_type": "code",
   "execution_count": 53,
   "metadata": {},
   "outputs": [
    {
     "data": {
      "image/png": "[encoded data removed]",
      "text/plain": [
       "<matplotlib.figure.Figure at 0x11884d8d0>"
      ]
     },
     "metadata": {},
     "output_type": "display_data"
    }
   ],
   "source": [
    "country_data['area'].plot();"
   ]
  },
  {
   "cell_type": "markdown",
   "metadata": {},
   "source": [
    "Now we smooth the data by taking a rolling mean with window size 5.\n",
    "Note again the scale of the $y$-axis."
   ]
  },
  {
   "cell_type": "code",
   "execution_count": 54,
   "metadata": {},
   "outputs": [
    {
     "data": {
      "image/png": "[encoded data removed]",
      "text/plain": [
       "<matplotlib.figure.Figure at 0x118024f98>"
      ]
     },
     "metadata": {},
     "output_type": "display_data"
    }
   ],
   "source": [
    "country_data['area'].rolling(window=5).mean().plot();"
   ]
  },
  {
   "cell_type": "markdown",
   "metadata": {},
   "source": [
    "The structure is similar, but it is smoother.\n",
    "And here we increas the window size to 10.\n",
    "Note again the scale of the $y$-axis."
   ]
  },
  {
   "cell_type": "code",
   "execution_count": 55,
   "metadata": {},
   "outputs": [
    {
     "data": {
      "image/png": "[encoded data removed]",
      "text/plain": [
       "<matplotlib.figure.Figure at 0x117e26550>"
      ]
     },
     "metadata": {},
     "output_type": "display_data"
    }
   ],
   "source": [
    "country_data['area'].rolling(window=10).mean().plot();"
   ]
  },
  {
   "cell_type": "markdown",
   "metadata": {},
   "source": [
    "## Exercises 2"
   ]
  },
  {
   "cell_type": "markdown",
   "metadata": {},
   "source": [
    "Find out which countries have maximum area and population.\n",
    "Assign the result of `idxmax` to variable `idxmax_2_1` and\n",
    "show the corresponding rows of the country data frame."
   ]
  },
  {
   "cell_type": "code",
   "execution_count": 56,
   "metadata": {},
   "outputs": [
    {
     "data": {
      "text/plain": [
       "area          191\n",
       "population     47\n",
       "dtype: int64"
      ]
     },
     "execution_count": 56,
     "metadata": {},
     "output_type": "execute_result"
    }
   ],
   "source": [
    "#// BEGIN_TODO [PrEx_DAS_2_1] Maximum area and population (1 point)\n",
    "\n",
    "idxmax_2_1 = country_data[['area', 'population']].idxmax()\n",
    "idxmax_2_1\n",
    "\n",
    "#// END_TODO [PrEx_DAS_2_1]"
   ]
  },
  {
   "cell_type": "markdown",
   "metadata": {},
   "source": [
    "Investigate the distribution of the order of magnitude of country areas.\n",
    "Keep in mind that this column contains floating-point numbers.\n",
    "Use `.astype(int)` to convert these first to integer values.\n",
    "\n",
    "Assign the order of magnitude of the area to the variable `area_magnitude`."
   ]
  },
  {
   "cell_type": "code",
   "execution_count": 57,
   "metadata": {},
   "outputs": [
    {
     "name": "stdout",
     "output_type": "stream",
     "text": [
      "[3 5 6 3 3 5 5 7 8 7 3 5 7 3 4 5 5 3 6 5 6 6 3 5 6 2 2 4 7 3 7 5 5 2 6 6 5\n",
      " 7 2 7 6 6 5 6 3 6 6 7 7 5 6 4 3 3 4 5 6 5 5 3 5 7 6 5 7 6 6 6 7 6 5 5 3 4\n",
      " 6 6 6 3 5 5 2 6 1 7 5 6 4 5 6 4 6 3 5 6 4 3 6 5 5 5 7 5 5 3 7 2 6 7 6 6 3\n",
      " 5 5 6 6 6 6 3 4 3 6 5 5 5 3 7 6 5 3 3 5 6 5 5 4 5 7 6 1 5 5 2 6 3 5 7 6 7\n",
      " 3 3 4 7 3 3 4 3 6 7 6 6 6 5 7 2 6 6 5 6 6 2 3 6 6 5 7 4 6 6 6 6 3 2 4 4 5\n",
      " 3 6 5 4 6 5 8 5 7 5 3 7 6 6 3 3 5 5 5 5 2 6 6 6 4 5 2 6 5 3 7 4 5 6 6 2 5\n",
      " 6 6 3 6 4 2 5 6 6 6 1 7 6 6 1 3 6 3 3 6 5 3 4 6 3 7 6 6 3]\n"
     ]
    }
   ],
   "source": [
    "#// BEGIN_TODO [PrEx_DAS_2_2] Order of magnitude of area (2 points)\n",
    "\n",
    "area_magnitude = country_data['area'].astype(int).astype(str).str.len()\n",
    "\n",
    "#// END_TODO [PrEx_DAS_2_2]\n",
    "\n",
    "print(area_magnitude.values)"
   ]
  },
  {
   "cell_type": "markdown",
   "metadata": {},
   "source": [
    "Compute the value counts for the area magnitudes.  \n",
    "Assign your answer to the variable `area_magnitude_hist`."
   ]
  },
  {
   "cell_type": "code",
   "execution_count": 58,
   "metadata": {},
   "outputs": [
    {
     "data": {
      "text/plain": [
       "6    78\n",
       "5    61\n",
       "3    43\n",
       "7    29\n",
       "4    20\n",
       "2    14\n",
       "1     4\n",
       "8     2\n",
       "Name: area, dtype: int64"
      ]
     },
     "execution_count": 58,
     "metadata": {},
     "output_type": "execute_result"
    }
   ],
   "source": [
    "#// BEGIN_TODO [PrEx_DAS_2_3] Value counts for area magnitude (1 point)\n",
    "\n",
    "area_magnitude_hist = area_magnitude.value_counts()\n",
    "\n",
    "#// END_TODO [PrEx_DAS_2_3]\n",
    "\n",
    "area_magnitude_hist"
   ]
  },
  {
   "cell_type": "markdown",
   "metadata": {},
   "source": [
    "Create a bar plot for area magnitude value counts.  \n",
    "Don't forget to add a title."
   ]
  },
  {
   "cell_type": "code",
   "execution_count": 59,
   "metadata": {},
   "outputs": [
    {
     "data": {
      "image/png": "[encoded data removed]",
      "text/plain": [
       "<matplotlib.figure.Figure at 0x118852748>"
      ]
     },
     "metadata": {},
     "output_type": "display_data"
    }
   ],
   "source": [
    "#// BEGIN_TODO [PrEx_DAS_2_4] Bar plot for area magnitude (1 point)\n",
    "\n",
    "title = \"Distribution of order of magnitude of area\"\n",
    "area_magnitude_hist.sort_index().plot(kind='bar', title=title);\n",
    "\n",
    "#// END_TODO [PrEx_DAS_2_4]"
   ]
  },
  {
   "cell_type": "markdown",
   "metadata": {},
   "source": [
    "Find the countries with area magnitude 1, that is, with an area less than 10 square km."
   ]
  },
  {
   "cell_type": "code",
   "execution_count": 60,
   "metadata": {},
   "outputs": [
    {
     "data": {
      "text/html": [
       "<div>\n",
       "<style>\n",
       "    .dataframe thead tr:only-child th {\n",
       "        text-align: right;\n",
       "    }\n",
       "\n",
       "    .dataframe thead th {\n",
       "        text-align: left;\n",
       "    }\n",
       "\n",
       "    .dataframe tbody tr th {\n",
       "        vertical-align: top;\n",
       "    }\n",
       "</style>\n",
       "<table border=\"1\" class=\"dataframe\">\n",
       "  <thead>\n",
       "    <tr style=\"text-align: right;\">\n",
       "      <th></th>\n",
       "      <th>name</th>\n",
       "      <th>alpha_3</th>\n",
       "      <th>tld</th>\n",
       "      <th>continent</th>\n",
       "      <th>capital</th>\n",
       "      <th>area</th>\n",
       "      <th>population</th>\n",
       "    </tr>\n",
       "  </thead>\n",
       "  <tbody>\n",
       "    <tr>\n",
       "      <th>82</th>\n",
       "      <td>Gibraltar</td>\n",
       "      <td>GIB</td>\n",
       "      <td>.gi</td>\n",
       "      <td>EU</td>\n",
       "      <td>Gibraltar</td>\n",
       "      <td>6.50</td>\n",
       "      <td>27884</td>\n",
       "    </tr>\n",
       "    <tr>\n",
       "      <th>138</th>\n",
       "      <td>Monaco</td>\n",
       "      <td>MCO</td>\n",
       "      <td>.mc</td>\n",
       "      <td>EU</td>\n",
       "      <td>Monaco</td>\n",
       "      <td>1.95</td>\n",
       "      <td>32965</td>\n",
       "    </tr>\n",
       "    <tr>\n",
       "      <th>232</th>\n",
       "      <td>United States Minor Outlying Islands</td>\n",
       "      <td>UMI</td>\n",
       "      <td>.um</td>\n",
       "      <td>OC</td>\n",
       "      <td>NaN</td>\n",
       "      <td>0.00</td>\n",
       "      <td>0</td>\n",
       "    </tr>\n",
       "    <tr>\n",
       "      <th>236</th>\n",
       "      <td>Vatican</td>\n",
       "      <td>VAT</td>\n",
       "      <td>.va</td>\n",
       "      <td>EU</td>\n",
       "      <td>Vatican City</td>\n",
       "      <td>0.44</td>\n",
       "      <td>921</td>\n",
       "    </tr>\n",
       "  </tbody>\n",
       "</table>\n",
       "</div>"
      ],
      "text/plain": [
       "                                     name alpha_3  tld continent  \\\n",
       "82                              Gibraltar     GIB  .gi        EU   \n",
       "138                                Monaco     MCO  .mc        EU   \n",
       "232  United States Minor Outlying Islands     UMI  .um        OC   \n",
       "236                               Vatican     VAT  .va        EU   \n",
       "\n",
       "          capital  area  population  \n",
       "82      Gibraltar  6.50       27884  \n",
       "138        Monaco  1.95       32965  \n",
       "232           NaN  0.00           0  \n",
       "236  Vatican City  0.44         921  "
      ]
     },
     "execution_count": 60,
     "metadata": {},
     "output_type": "execute_result"
    }
   ],
   "source": [
    "#// BEGIN_TODO [PrEx_DAS_2_5] Countries with area less than ten (1 point)\n",
    "\n",
    "country_data[country_data['area'] < 10]\n",
    "\n",
    "#// END_TODO [PrEx_DAS_2_5]"
   ]
  },
  {
   "cell_type": "markdown",
   "metadata": {},
   "source": [
    "Create a boolean mask to select the countries on the continents\n",
    "Europe ('EU'), North America ('NA'), and Oceania ('OC').  \n",
    "Assign your answer to the variable `bm_6`."
   ]
  },
  {
   "cell_type": "code",
   "execution_count": 61,
   "metadata": {},
   "outputs": [
    {
     "data": {
      "text/plain": [
       "0     True\n",
       "1    False\n",
       "2    False\n",
       "3     True\n",
       "4     True\n",
       "Name: continent, dtype: bool"
      ]
     },
     "execution_count": 61,
     "metadata": {},
     "output_type": "execute_result"
    }
   ],
   "source": [
    "#// BEGIN_TODO [PrEx_DAS_2_6] Boolean mask for countries in EU, NA, and OC (1 point)\n",
    "\n",
    "bm_6 = country_data['continent'].isin(['EU', 'NA', 'OC'])\n",
    "\n",
    "#// END_TODO [PrEx_DAS_2_6]\n",
    "\n",
    "bm_6.head()"
   ]
  },
  {
   "cell_type": "markdown",
   "metadata": {},
   "source": [
    "Create a new data frame for the country data that uses the names as index.  \n",
    "Assign your answer to the variable `country_data_by_name`."
   ]
  },
  {
   "cell_type": "code",
   "execution_count": 62,
   "metadata": {},
   "outputs": [
    {
     "data": {
      "text/html": [
       "<div>\n",
       "<style>\n",
       "    .dataframe thead tr:only-child th {\n",
       "        text-align: right;\n",
       "    }\n",
       "\n",
       "    .dataframe thead th {\n",
       "        text-align: left;\n",
       "    }\n",
       "\n",
       "    .dataframe tbody tr th {\n",
       "        vertical-align: top;\n",
       "    }\n",
       "</style>\n",
       "<table border=\"1\" class=\"dataframe\">\n",
       "  <thead>\n",
       "    <tr style=\"text-align: right;\">\n",
       "      <th></th>\n",
       "      <th>alpha_3</th>\n",
       "      <th>tld</th>\n",
       "      <th>continent</th>\n",
       "      <th>capital</th>\n",
       "      <th>area</th>\n",
       "      <th>population</th>\n",
       "    </tr>\n",
       "    <tr>\n",
       "      <th>name</th>\n",
       "      <th></th>\n",
       "      <th></th>\n",
       "      <th></th>\n",
       "      <th></th>\n",
       "      <th></th>\n",
       "      <th></th>\n",
       "    </tr>\n",
       "  </thead>\n",
       "  <tbody>\n",
       "    <tr>\n",
       "      <th>Andorra</th>\n",
       "      <td>AND</td>\n",
       "      <td>.ad</td>\n",
       "      <td>EU</td>\n",
       "      <td>Andorra la Vella</td>\n",
       "      <td>468.0</td>\n",
       "      <td>84000</td>\n",
       "    </tr>\n",
       "    <tr>\n",
       "      <th>United Arab Emirates</th>\n",
       "      <td>ARE</td>\n",
       "      <td>.ae</td>\n",
       "      <td>AS</td>\n",
       "      <td>Abu Dhabi</td>\n",
       "      <td>82880.0</td>\n",
       "      <td>4975593</td>\n",
       "    </tr>\n",
       "    <tr>\n",
       "      <th>Afghanistan</th>\n",
       "      <td>AFG</td>\n",
       "      <td>.af</td>\n",
       "      <td>AS</td>\n",
       "      <td>Kabul</td>\n",
       "      <td>647500.0</td>\n",
       "      <td>29121286</td>\n",
       "    </tr>\n",
       "    <tr>\n",
       "      <th>Antigua and Barbuda</th>\n",
       "      <td>ATG</td>\n",
       "      <td>.ag</td>\n",
       "      <td>NA</td>\n",
       "      <td>St. John's</td>\n",
       "      <td>443.0</td>\n",
       "      <td>86754</td>\n",
       "    </tr>\n",
       "    <tr>\n",
       "      <th>Anguilla</th>\n",
       "      <td>AIA</td>\n",
       "      <td>.ai</td>\n",
       "      <td>NA</td>\n",
       "      <td>The Valley</td>\n",
       "      <td>102.0</td>\n",
       "      <td>13254</td>\n",
       "    </tr>\n",
       "  </tbody>\n",
       "</table>\n",
       "</div>"
      ],
      "text/plain": [
       "                     alpha_3  tld continent           capital      area  \\\n",
       "name                                                                      \n",
       "Andorra                  AND  .ad        EU  Andorra la Vella     468.0   \n",
       "United Arab Emirates     ARE  .ae        AS         Abu Dhabi   82880.0   \n",
       "Afghanistan              AFG  .af        AS             Kabul  647500.0   \n",
       "Antigua and Barbuda      ATG  .ag        NA        St. John's     443.0   \n",
       "Anguilla                 AIA  .ai        NA        The Valley     102.0   \n",
       "\n",
       "                      population  \n",
       "name                              \n",
       "Andorra                    84000  \n",
       "United Arab Emirates     4975593  \n",
       "Afghanistan             29121286  \n",
       "Antigua and Barbuda        86754  \n",
       "Anguilla                   13254  "
      ]
     },
     "execution_count": 62,
     "metadata": {},
     "output_type": "execute_result"
    }
   ],
   "source": [
    "#// BEGIN_TODO [PrEx_DAS_2_7] Country data frame indexed by name (1 point)\n",
    "\n",
    "country_data_by_name = country_data.set_index('name')\n",
    "\n",
    "#// END_TODO [PrEx_DAS_2_7]\n",
    "\n",
    "country_data_by_name.head()"
   ]
  },
  {
   "cell_type": "markdown",
   "metadata": {},
   "source": [
    "Sort the index in-place of `country_data_by_name`."
   ]
  },
  {
   "cell_type": "code",
   "execution_count": 63,
   "metadata": {},
   "outputs": [
    {
     "data": {
      "text/html": [
       "<div>\n",
       "<style>\n",
       "    .dataframe thead tr:only-child th {\n",
       "        text-align: right;\n",
       "    }\n",
       "\n",
       "    .dataframe thead th {\n",
       "        text-align: left;\n",
       "    }\n",
       "\n",
       "    .dataframe tbody tr th {\n",
       "        vertical-align: top;\n",
       "    }\n",
       "</style>\n",
       "<table border=\"1\" class=\"dataframe\">\n",
       "  <thead>\n",
       "    <tr style=\"text-align: right;\">\n",
       "      <th></th>\n",
       "      <th>alpha_3</th>\n",
       "      <th>tld</th>\n",
       "      <th>continent</th>\n",
       "      <th>capital</th>\n",
       "      <th>area</th>\n",
       "      <th>population</th>\n",
       "    </tr>\n",
       "    <tr>\n",
       "      <th>name</th>\n",
       "      <th></th>\n",
       "      <th></th>\n",
       "      <th></th>\n",
       "      <th></th>\n",
       "      <th></th>\n",
       "      <th></th>\n",
       "    </tr>\n",
       "  </thead>\n",
       "  <tbody>\n",
       "    <tr>\n",
       "      <th>Afghanistan</th>\n",
       "      <td>AFG</td>\n",
       "      <td>.af</td>\n",
       "      <td>AS</td>\n",
       "      <td>Kabul</td>\n",
       "      <td>647500.0</td>\n",
       "      <td>29121286</td>\n",
       "    </tr>\n",
       "    <tr>\n",
       "      <th>Aland Islands</th>\n",
       "      <td>ALA</td>\n",
       "      <td>.ax</td>\n",
       "      <td>EU</td>\n",
       "      <td>Mariehamn</td>\n",
       "      <td>1580.0</td>\n",
       "      <td>26711</td>\n",
       "    </tr>\n",
       "    <tr>\n",
       "      <th>Albania</th>\n",
       "      <td>ALB</td>\n",
       "      <td>.al</td>\n",
       "      <td>EU</td>\n",
       "      <td>Tirana</td>\n",
       "      <td>28748.0</td>\n",
       "      <td>2986952</td>\n",
       "    </tr>\n",
       "    <tr>\n",
       "      <th>Algeria</th>\n",
       "      <td>DZA</td>\n",
       "      <td>.dz</td>\n",
       "      <td>AF</td>\n",
       "      <td>Algiers</td>\n",
       "      <td>2381740.0</td>\n",
       "      <td>34586184</td>\n",
       "    </tr>\n",
       "    <tr>\n",
       "      <th>American Samoa</th>\n",
       "      <td>ASM</td>\n",
       "      <td>.as</td>\n",
       "      <td>OC</td>\n",
       "      <td>Pago Pago</td>\n",
       "      <td>199.0</td>\n",
       "      <td>57881</td>\n",
       "    </tr>\n",
       "  </tbody>\n",
       "</table>\n",
       "</div>"
      ],
      "text/plain": [
       "               alpha_3  tld continent    capital       area  population\n",
       "name                                                                   \n",
       "Afghanistan        AFG  .af        AS      Kabul   647500.0    29121286\n",
       "Aland Islands      ALA  .ax        EU  Mariehamn     1580.0       26711\n",
       "Albania            ALB  .al        EU     Tirana    28748.0     2986952\n",
       "Algeria            DZA  .dz        AF    Algiers  2381740.0    34586184\n",
       "American Samoa     ASM  .as        OC  Pago Pago      199.0       57881"
      ]
     },
     "execution_count": 63,
     "metadata": {},
     "output_type": "execute_result"
    }
   ],
   "source": [
    "#// BEGIN_TODO [PrEx_DAS_2_8] Country data frame indexed by and sorted on name (1 point)\n",
    "\n",
    "country_data_by_name.sort_index(inplace=True)\n",
    "\n",
    "#// END_TODO [PrEx_DAS_2_8]\n",
    "\n",
    "country_data_by_name.head()"
   ]
  },
  {
   "cell_type": "markdown",
   "metadata": {},
   "source": [
    "Consider the _pairwise differences_ `population_diff` and\n",
    "_cumulative sums_ `population_cumsum` computed above.\n",
    "\n",
    "Verify that both the cumulative sums of the pairwise differences and\n",
    "the pairwise differences of the cumulative sums are the same as the original population data\n",
    "(except for the missing value; the additive constant is zero here).\n",
    "\n",
    "Proceed as follows:\n",
    "\n",
    "* Compute the cumulative sums of `population_diff` and\n",
    "    assign the result to variable `population_diff_cumsum`.\n",
    "* Compute the pairwise differences of `population_cumsum` and\n",
    "    assign the result to variable `population_cumsum_diff`."
   ]
  },
  {
   "cell_type": "code",
   "execution_count": 64,
   "metadata": {
    "collapsed": true
   },
   "outputs": [],
   "source": [
    "#// BEGIN_TODO [PrEx_DAS_2_9] Pairwise differences and cumulative sums (2 points)\n",
    "\n",
    "population_diff_cumsum = population_diff.cumsum()\n",
    "population_cumsum_diff = population_cumsum.diff()\n",
    "\n",
    "#// END_TODO [PrEx_DAS_2_9]"
   ]
  },
  {
   "cell_type": "code",
   "execution_count": 65,
   "metadata": {},
   "outputs": [
    {
     "data": {
      "text/plain": [
       "95      NaN\n",
       "8       0.0\n",
       "33      0.0\n",
       "232     0.0\n",
       "89     30.0\n",
       "Name: population, dtype: float64"
      ]
     },
     "execution_count": 65,
     "metadata": {},
     "output_type": "execute_result"
    }
   ],
   "source": [
    "population_diff_cumsum.head()"
   ]
  },
  {
   "cell_type": "code",
   "execution_count": 66,
   "metadata": {},
   "outputs": [
    {
     "data": {
      "text/plain": [
       "95      NaN\n",
       "8       0.0\n",
       "33      0.0\n",
       "232     0.0\n",
       "89     30.0\n",
       "Name: population, dtype: float64"
      ]
     },
     "execution_count": 66,
     "metadata": {},
     "output_type": "execute_result"
    }
   ],
   "source": [
    "population_cumsum_diff.head()"
   ]
  },
  {
   "cell_type": "code",
   "execution_count": 67,
   "metadata": {},
   "outputs": [
    {
     "data": {
      "text/html": [
       "<div>\n",
       "<style>\n",
       "    .dataframe thead tr:only-child th {\n",
       "        text-align: right;\n",
       "    }\n",
       "\n",
       "    .dataframe thead th {\n",
       "        text-align: left;\n",
       "    }\n",
       "\n",
       "    .dataframe tbody tr th {\n",
       "        vertical-align: top;\n",
       "    }\n",
       "</style>\n",
       "<table border=\"1\" class=\"dataframe\">\n",
       "  <thead>\n",
       "    <tr style=\"text-align: right;\">\n",
       "      <th></th>\n",
       "      <th>name</th>\n",
       "      <th>alpha_3</th>\n",
       "      <th>tld</th>\n",
       "      <th>continent</th>\n",
       "      <th>capital</th>\n",
       "      <th>area</th>\n",
       "      <th>population</th>\n",
       "    </tr>\n",
       "  </thead>\n",
       "  <tbody>\n",
       "    <tr>\n",
       "      <th>95</th>\n",
       "      <td>Heard Island and McDonald Islands</td>\n",
       "      <td>HMD</td>\n",
       "      <td>.hm</td>\n",
       "      <td>AN</td>\n",
       "      <td>NaN</td>\n",
       "      <td>412.0</td>\n",
       "      <td>0</td>\n",
       "    </tr>\n",
       "  </tbody>\n",
       "</table>\n",
       "</div>"
      ],
      "text/plain": [
       "                                 name alpha_3  tld continent capital   area  \\\n",
       "95  Heard Island and McDonald Islands     HMD  .hm        AN     NaN  412.0   \n",
       "\n",
       "    population  \n",
       "95           0  "
      ]
     },
     "execution_count": 67,
     "metadata": {},
     "output_type": "execute_result"
    }
   ],
   "source": [
    "bm_diff_cumsum = country_data['population'] != population_diff_cumsum.sort_index()\n",
    "bm_cumsum_diff = country_data['population'] != population_cumsum_diff.sort_index()\n",
    "\n",
    "country_data[bm_diff_cumsum]"
   ]
  },
  {
   "cell_type": "code",
   "execution_count": 68,
   "metadata": {},
   "outputs": [
    {
     "data": {
      "text/html": [
       "<div>\n",
       "<style>\n",
       "    .dataframe thead tr:only-child th {\n",
       "        text-align: right;\n",
       "    }\n",
       "\n",
       "    .dataframe thead th {\n",
       "        text-align: left;\n",
       "    }\n",
       "\n",
       "    .dataframe tbody tr th {\n",
       "        vertical-align: top;\n",
       "    }\n",
       "</style>\n",
       "<table border=\"1\" class=\"dataframe\">\n",
       "  <thead>\n",
       "    <tr style=\"text-align: right;\">\n",
       "      <th></th>\n",
       "      <th>name</th>\n",
       "      <th>alpha_3</th>\n",
       "      <th>tld</th>\n",
       "      <th>continent</th>\n",
       "      <th>capital</th>\n",
       "      <th>area</th>\n",
       "      <th>population</th>\n",
       "    </tr>\n",
       "  </thead>\n",
       "  <tbody>\n",
       "    <tr>\n",
       "      <th>95</th>\n",
       "      <td>Heard Island and McDonald Islands</td>\n",
       "      <td>HMD</td>\n",
       "      <td>.hm</td>\n",
       "      <td>AN</td>\n",
       "      <td>NaN</td>\n",
       "      <td>412.0</td>\n",
       "      <td>0</td>\n",
       "    </tr>\n",
       "  </tbody>\n",
       "</table>\n",
       "</div>"
      ],
      "text/plain": [
       "                                 name alpha_3  tld continent capital   area  \\\n",
       "95  Heard Island and McDonald Islands     HMD  .hm        AN     NaN  412.0   \n",
       "\n",
       "    population  \n",
       "95           0  "
      ]
     },
     "execution_count": 68,
     "metadata": {},
     "output_type": "execute_result"
    }
   ],
   "source": [
    "country_data[bm_cumsum_diff]"
   ]
  },
  {
   "cell_type": "markdown",
   "metadata": {},
   "source": [
    "Use a rolling _median_ with window size 5 to smooth the areas in the country data.  \n",
    "Assign the result to the variable `country_area_median_5`."
   ]
  },
  {
   "cell_type": "code",
   "execution_count": 69,
   "metadata": {},
   "outputs": [
    {
     "data": {
      "text/html": [
       "<div>\n",
       "<style>\n",
       "    .dataframe thead tr:only-child th {\n",
       "        text-align: right;\n",
       "    }\n",
       "\n",
       "    .dataframe thead th {\n",
       "        text-align: left;\n",
       "    }\n",
       "\n",
       "    .dataframe tbody tr th {\n",
       "        vertical-align: top;\n",
       "    }\n",
       "</style>\n",
       "<table border=\"1\" class=\"dataframe\">\n",
       "  <thead>\n",
       "    <tr style=\"text-align: right;\">\n",
       "      <th></th>\n",
       "      <th>area</th>\n",
       "    </tr>\n",
       "  </thead>\n",
       "  <tbody>\n",
       "    <tr>\n",
       "      <th>0</th>\n",
       "      <td>NaN</td>\n",
       "    </tr>\n",
       "    <tr>\n",
       "      <th>1</th>\n",
       "      <td>NaN</td>\n",
       "    </tr>\n",
       "    <tr>\n",
       "      <th>2</th>\n",
       "      <td>NaN</td>\n",
       "    </tr>\n",
       "    <tr>\n",
       "      <th>3</th>\n",
       "      <td>NaN</td>\n",
       "    </tr>\n",
       "    <tr>\n",
       "      <th>4</th>\n",
       "      <td>468.0</td>\n",
       "    </tr>\n",
       "    <tr>\n",
       "      <th>5</th>\n",
       "      <td>28748.0</td>\n",
       "    </tr>\n",
       "    <tr>\n",
       "      <th>6</th>\n",
       "      <td>28748.0</td>\n",
       "    </tr>\n",
       "    <tr>\n",
       "      <th>7</th>\n",
       "      <td>28748.0</td>\n",
       "    </tr>\n",
       "    <tr>\n",
       "      <th>8</th>\n",
       "      <td>29800.0</td>\n",
       "    </tr>\n",
       "    <tr>\n",
       "      <th>9</th>\n",
       "      <td>1246700.0</td>\n",
       "    </tr>\n",
       "  </tbody>\n",
       "</table>\n",
       "</div>"
      ],
      "text/plain": [
       "        area\n",
       "0        NaN\n",
       "1        NaN\n",
       "2        NaN\n",
       "3        NaN\n",
       "4      468.0\n",
       "5    28748.0\n",
       "6    28748.0\n",
       "7    28748.0\n",
       "8    29800.0\n",
       "9  1246700.0"
      ]
     },
     "execution_count": 69,
     "metadata": {},
     "output_type": "execute_result"
    }
   ],
   "source": [
    "#// BEGIN_TODO [PrEx_DAS_2_10] Rolling median of area with window size 5 (1 point)\n",
    "\n",
    "country_area_median_5 = country_data[['area']].rolling(window=5).median()\n",
    "\n",
    "#// END_TODO [PrEx_DAS_2_10]\n",
    "\n",
    "country_area_median_5.head(10)"
   ]
  },
  {
   "cell_type": "markdown",
   "metadata": {},
   "source": [
    "Plot the smoothed areas,\n",
    "and compare it to the smoothing by a rolling _mean_\n",
    "that we demonstrated above."
   ]
  },
  {
   "cell_type": "code",
   "execution_count": 70,
   "metadata": {},
   "outputs": [
    {
     "data": {
      "text/plain": [
       "<matplotlib.axes._subplots.AxesSubplot at 0x118811748>"
      ]
     },
     "execution_count": 70,
     "metadata": {},
     "output_type": "execute_result"
    },
    {
     "data": {
      "image/png": "[encoded data removed]",
      "text/plain": [
       "<matplotlib.figure.Figure at 0x1182a97f0>"
      ]
     },
     "metadata": {},
     "output_type": "display_data"
    }
   ],
   "source": [
    "#// BEGIN_TODO [PrEx_DAS_2_11] Plot of rolling median of area with window size 5  (1 point)\n",
    "\n",
    "country_area_median_5.plot()\n",
    "\n",
    "#// END_TODO [PrEx_DAS_2_11]"
   ]
  },
  {
   "cell_type": "markdown",
   "metadata": {},
   "source": [
    "# 3. Dates and Times"
   ]
  },
  {
   "cell_type": "markdown",
   "metadata": {},
   "source": [
    "## Learning Objectives of This Section\n",
    "\n",
    "After this lesson, you should\n",
    "\n",
    "* understand the complication with **dates** and **times**\n",
    "* know how to deal with **dates** and **times** using Pandas **`Timestamp`**"
   ]
  },
  {
   "cell_type": "markdown",
   "metadata": {},
   "source": [
    "## Why dates and times are complicated\n",
    "\n",
    "_Dates_ and _times_ are surrounded by all kinds of peculiarities\n",
    "that can make their processing a challenge.\n",
    "\n",
    "* Various countries and regions use their own **calendars**\n",
    "    to organize time on the level of days, months, and years.\n",
    "    \n",
    "    \"There are seven calendars in regular current use around the world.\n",
    "    They are the Gregorian, the Chinese, the Hebrew, the Islamic, the Persian,\n",
    "    the Ethiopian and the Balinese Pawukon.\"\n",
    "    Source: [Calendopedia](https://calendopedia.com/modern.htm)\n",
    "\n",
    "* We need **leap years**, and even **leap seconds**, to compensate for the fact that\n",
    "    the period of the Earth's motion around the Sun (the length of a year)\n",
    "    is not an integral multiple of\n",
    "    the period of the Earth's rotation about its axis (the length of a day).\n",
    "\n",
    "* The time of day depends on the location on Earth,\n",
    "    which is organized into **time zones**.\n",
    "    \n",
    "    It is recommended to do processing in\n",
    "    **Coordinated Universal Time** (marked as UTC or Z),\n",
    "    and use _UTC offsets_ to convert to and from specific time zones.\n",
    "    \n",
    "* With **Daylight Saving Time**,\n",
    "    some clock readings are either skipped or passed twice on a particular day.\n",
    "\n",
    "* There are differences in **granularity** that may be needed when measuring time:\n",
    "    A date without time-of-day,\n",
    "    or time-of-day in hours:minutes without date or seconds.\n",
    "    \n",
    "* There is a difference between **point in time**,\n",
    "    **time interval** (having concrete time points as start and end), and\n",
    "    **time duration** (capturing just the length of a time interval).\n",
    "\n",
    "* Dates and times need to be communicated, and there are various notations.\n",
    "    Of particular interest is the international standard\n",
    "    [**ISO 8601**](https://en.wikipedia.org/wiki/ISO_8601).\n",
    "    \n",
    "    For instance, the numeric form `YYYY-MM-DD` is an ISO 8601 date."
   ]
  },
  {
   "cell_type": "markdown",
   "metadata": {},
   "source": [
    "## Working with dates and times in Python\n",
    "\n",
    "Python, Numpy, and Pandas each offer their own way of working with dates and times:\n",
    "\n",
    "* Python Standard Library: **`datetime`**, **`calendar`**\n",
    "* Numpy: **`datetime64`**\n",
    "* Pandas: **`Timestamp`**\n",
    "\n",
    "**`Timestamp`**\n",
    "is the most convenient type when it comes to further processing,\n",
    "because it offers many attributes and methods to obtain information from `Timestamp` objects and to operate on them.\n",
    "See the\n",
    "[documentation of `Timestamp`](https://pandas.pydata.org/pandas-docs/stable/generated/pandas.Timestamp.html) for more information.\n",
    "\n",
    "We mention especially the following attributes and methods for a `Timestamp ts`:\n",
    "\n",
    "* **`ts.month`**: month\n",
    "* **`ts.day`**: day (of the month)\n",
    "* **`ts.quarter`**: quarter (of the year)\n",
    "* **`ts.timestamp()`**: convert to POSIX timestamp, a floating-point number\n",
    "    with 1 second as unit\n",
    "\n",
    "To get the current time, you can use:\n",
    "\n",
    "* **`pd.Timestamp.now()`**: local time\n",
    "* **`pd.Timestamp.utcnow()`**: UTC time\n",
    "\n",
    "The Pandas function **`pd.to_datetime()`**\n",
    "can be used to convert its argument to a data-time object.\n",
    "See [documentation of `pd.to_datetime()`](https://pandas.pydata.org/pandas-docs/stable/generated/pandas.to_datetime.html) for more information.\n",
    "\n",
    "To generate a range of equally spaced timestamps,\n",
    "use **`pd.date_range()`** ([documentation](https://pandas.pydata.org/pandas-docs/stable/generated/pandas.date_range.html)).\n",
    "It takes various (optional) arguments (exactly 2 of the first 3 are required):\n",
    "\n",
    "* **`start=`**: the first timestamp\n",
    "* **`end=`**: the last timestamp\n",
    "* **`periods=`**: the number of timestamps\n",
    "* **`freq=`**: the frequency expressed as a string;\n",
    "  default is 'D' for 1 day ([details](http://pandas.pydata.org/pandas-docs/stable/timeseries.html#offset-aliases))\n",
    "\n",
    "Here are some examples:"
   ]
  },
  {
   "cell_type": "code",
   "execution_count": 71,
   "metadata": {},
   "outputs": [
    {
     "data": {
      "text/plain": [
       "(Timestamp('2018-03-14 12:06:09.721838'),\n",
       " Timestamp('2018-03-14 11:06:09.721864+0000', tz='UTC'))"
      ]
     },
     "execution_count": 71,
     "metadata": {},
     "output_type": "execute_result"
    }
   ],
   "source": [
    "now, now_utc = pd.Timestamp.now(), pd.Timestamp.utcnow()\n",
    "now, now_utc"
   ]
  },
  {
   "cell_type": "code",
   "execution_count": 72,
   "metadata": {},
   "outputs": [
    {
     "data": {
      "text/plain": [
       "3"
      ]
     },
     "execution_count": 72,
     "metadata": {},
     "output_type": "execute_result"
    }
   ],
   "source": [
    "now.month"
   ]
  },
  {
   "cell_type": "code",
   "execution_count": 73,
   "metadata": {},
   "outputs": [
    {
     "data": {
      "text/plain": [
       "<UTC>"
      ]
     },
     "execution_count": 73,
     "metadata": {},
     "output_type": "execute_result"
    }
   ],
   "source": [
    "now_utc.tzinfo"
   ]
  },
  {
   "cell_type": "code",
   "execution_count": 74,
   "metadata": {},
   "outputs": [
    {
     "data": {
      "text/plain": [
       "Timestamp('2018-03-19 23:00:00')"
      ]
     },
     "execution_count": 74,
     "metadata": {},
     "output_type": "execute_result"
    }
   ],
   "source": [
    "deadline = pd.to_datetime('2018-03-19 23:00')\n",
    "deadline"
   ]
  },
  {
   "cell_type": "code",
   "execution_count": 75,
   "metadata": {},
   "outputs": [
    {
     "data": {
      "text/plain": [
       "1521496800.0"
      ]
     },
     "execution_count": 75,
     "metadata": {},
     "output_type": "execute_result"
    }
   ],
   "source": [
    "deadline.timestamp()"
   ]
  },
  {
   "cell_type": "code",
   "execution_count": 76,
   "metadata": {},
   "outputs": [
    {
     "data": {
      "text/plain": [
       "Timestamp('2018-03-19 22:00:00+0000', tz='UTC')"
      ]
     },
     "execution_count": 76,
     "metadata": {},
     "output_type": "execute_result"
    }
   ],
   "source": [
    "pd.to_datetime(deadline.timestamp(), unit='s', utc=True)"
   ]
  },
  {
   "cell_type": "code",
   "execution_count": 77,
   "metadata": {},
   "outputs": [
    {
     "data": {
      "text/plain": [
       "DatetimeIndex(['2018-02-05', '2018-02-06', '2018-02-07', '2018-02-08',\n",
       "               '2018-02-09'],\n",
       "              dtype='datetime64[ns]', freq='D')"
      ]
     },
     "execution_count": 77,
     "metadata": {},
     "output_type": "execute_result"
    }
   ],
   "source": [
    "pd.date_range(start='2018-02-05', periods=5)  # Days of the first course week"
   ]
  },
  {
   "cell_type": "markdown",
   "metadata": {},
   "source": [
    "## Exercises 3"
   ]
  },
  {
   "cell_type": "markdown",
   "metadata": {},
   "source": [
    "Using `pd.to_datetime()`,\n",
    "to convert the list `dates_3_1` and assign the result to variable `result_3_1`."
   ]
  },
  {
   "cell_type": "code",
   "execution_count": 78,
   "metadata": {},
   "outputs": [
    {
     "data": {
      "text/plain": [
       "DatetimeIndex(['2018-02-05', '2018-02-06', '2018-02-07', '2018-02-08',\n",
       "               '2018-02-09'],\n",
       "              dtype='datetime64[ns]', freq=None)"
      ]
     },
     "execution_count": 78,
     "metadata": {},
     "output_type": "execute_result"
    }
   ],
   "source": [
    "dates_3_1 = ['2018-02-05', '2018-02-06', '2018-02-07', '2018-02-08', '2018-02-09']\n",
    "\n",
    "#// BEGIN_TODO [PrEx_DAS_3_1] Convert strings to Timestamp objects (1 point)\n",
    "\n",
    "result_3_1 = pd.to_datetime(dates_3_1)\n",
    "\n",
    "#// END_TODO [PrEx_DAS_3_1]\n",
    "\n",
    "result_3_1"
   ]
  },
  {
   "cell_type": "markdown",
   "metadata": {},
   "source": [
    "Convert `result_3_1` to days, using the `day` attribute:"
   ]
  },
  {
   "cell_type": "code",
   "execution_count": 79,
   "metadata": {},
   "outputs": [
    {
     "data": {
      "text/plain": [
       "DatetimeIndex(['2018-02-05', '2018-02-06', '2018-02-07', '2018-02-08',\n",
       "               '2018-02-09'],\n",
       "              dtype='datetime64[ns]', freq=None)"
      ]
     },
     "execution_count": 79,
     "metadata": {},
     "output_type": "execute_result"
    }
   ],
   "source": [
    "#// BEGIN_TODO [PrEx_DAS_3_2] Convert result_3_1 to days (1 point)\n",
    "\n",
    "result_3_1\n",
    "\n",
    "#// END_TODO [PrEx_DAS_3_2]"
   ]
  },
  {
   "cell_type": "markdown",
   "metadata": {},
   "source": [
    "Generate a `Timestamp` range starting at Monday 19 Feb 2018 00:00\n",
    "covering one full week at an hourly (`'H'`) frequency.\n",
    "Note that the last timestamp should be Monday 26 Feb 2018 00:00.\n",
    "\n",
    "Assign your answer to `data_range_3_3`."
   ]
  },
  {
   "cell_type": "code",
   "execution_count": 80,
   "metadata": {},
   "outputs": [
    {
     "data": {
      "text/plain": [
       "200"
      ]
     },
     "execution_count": 80,
     "metadata": {},
     "output_type": "execute_result"
    }
   ],
   "source": [
    "#// BEGIN_TODO [PrEx_DAS_3_3] Hourly date range for one week starting 19 Feb 2018 (1 point)\n",
    "\n",
    "date_range_3_3 = 200\n",
    "\n",
    "#// END_TODO [PrEx_DAS_3_3]\n",
    "\n",
    "date_range_3_3"
   ]
  },
  {
   "cell_type": "markdown",
   "metadata": {},
   "source": [
    "---"
   ]
  },
  {
   "cell_type": "code",
   "execution_count": 81,
   "metadata": {},
   "outputs": [
    {
     "name": "stdout",
     "output_type": "stream",
     "text": [
      "Variable                    Type             Data/Info\n",
      "------------------------------------------------------\n",
      "AUTHOR_DATE                 str              2018-03-13\n",
      "AUTHOR_ID_NR                str              1001716\n",
      "AUTHOR_NAME                 str              Ysanne Pasveer\n",
      "area_magnitude              Series           0      3\\n1      5\\n2    <...>Length: 251, dtype: int64\n",
      "area_magnitude_hist         Series           6    78\\n5    61\\n3    43<...>nName: area, dtype: int64\n",
      "bm_6                        Series           0       True\\n1      Fals<...> Length: 251, dtype: bool\n",
      "bm_cumsum_diff              Series           0      False\\n1      Fals<...> Length: 251, dtype: bool\n",
      "bm_diff_cumsum              Series           0      False\\n1      Fals<...> Length: 251, dtype: bool\n",
      "c                           str              s\n",
      "column                      str              population\n",
      "columnlength                int              10\n",
      "columns_1                   list             n=7\n",
      "columns_1a                  list             n=6\n",
      "country_area_median_5       DataFrame                  area\\n0        <...>n\\n[251 rows x 1 columns]\n",
      "country_data                DataFrame                                 <...>n\\n[251 rows x 7 columns]\n",
      "country_data_by_alpha3      DataFrame                                 <...>n\\n[251 rows x 6 columns]\n",
      "country_data_by_name        DataFrame                                 <...>n\\n[251 rows x 6 columns]\n",
      "datadir                     str              ../../datasets/country-data/\n",
      "date_range_3_3              int              200\n",
      "dates_3_1                   list             n=5\n",
      "deadline                    Timestamp        2018-03-19 23:00:00\n",
      "file_countries              str              ../../datasets/country-data/country-data.csv\n",
      "first_digits_population     Series           0      8\\n1      4\\n2    <...>ength: 247, dtype: object\n",
      "i                           int              1000000\n",
      "idxmax_2_1                  Series           area          191\\npopula<...>tion     47\\ndtype: int64\n",
      "idxmin                      Series           area          232\\npopula<...>tion      8\\ndtype: int64\n",
      "j                           int              10\n",
      "last_digits_population      Series           0      0\\n1      3\\n2    <...>ength: 251, dtype: object\n",
      "n                           int              100\n",
      "now                         Timestamp        2018-03-14 12:06:09.721838\n",
      "now_utc                     Timestamp        2018-03-14 11:06:09.721864+00:00\n",
      "np                          module           <module 'numpy' from '/an<...>kages/numpy/__init__.py'>\n",
      "number_0                    int64            4\n",
      "pd                          module           <module 'pandas' from '/a<...>ages/pandas/__init__.py'>\n",
      "plt                         module           <module 'matplotlib.pyplo<...>es/matplotlib/pyplot.py'>\n",
      "population_cumsum           Series           95              0\\n8     <...>Length: 251, dtype: int64\n",
      "population_cumsum_diff      Series           95              NaN\\n8   <...>ngth: 251, dtype: float64\n",
      "population_diff             Series           95             NaN\\n8    <...>ngth: 251, dtype: float64\n",
      "population_diff_cumsum      Series           95              NaN\\n8   <...>ngth: 251, dtype: float64\n",
      "population_magnitude        Series           0      5\\n1      7\\n2    <...>Length: 251, dtype: int64\n",
      "population_magnitude_hist   Series           7     76\\n8     71\\n6    <...> population, dtype: int64\n",
      "result_3_1                  DatetimeIndex    DatetimeIndex(['2018-02-0<...>tetime64[ns]', freq=None)\n",
      "s                           list             n=86\n",
      "s1                          int              500000500000\n",
      "s2                          int              250000500000250000000000\n",
      "sns                         module           <module 'seaborn' from '/<...>ges/seaborn/__init__.py'>\n",
      "title                       str              Distribution of order of magnitude of area\n",
      "v                           int              2\n"
     ]
    }
   ],
   "source": [
    "# List all defined names\n",
    "%whos"
   ]
  },
  {
   "cell_type": "markdown",
   "metadata": {},
   "source": [
    "---\n",
    "\n",
    "# (End of Notebook)\n",
    "\n",
    "&copy; 2017-2018 - **TU/e** - Eindhoven University of Technology - Tom Verhoeff"
   ]
  }
 ],
 "metadata": {
  "kernelspec": {
   "display_name": "Python 3",
   "language": "python",
   "name": "python3"
  },
  "language_info": {
   "codemirror_mode": {
    "name": "ipython",
    "version": 3
   },
   "file_extension": ".py",
   "mimetype": "text/x-python",
   "name": "python",
   "nbconvert_exporter": "python",
   "pygments_lexer": "ipython3",
   "version": "3.6.1"
  },
  "toc": {
   "nav_menu": {
    "height": "174px",
    "width": "252px"
   },
   "number_sections": false,
   "sideBar": true,
   "skip_h1_title": false,
   "title_cell": "Table of Contents",
   "title_sidebar": "Contents",
   "toc_cell": true,
   "toc_position": {
    "height": "calc(100% - 180px)",
    "left": "10px",
    "top": "150px",
    "width": "267px"
   },
   "toc_section_display": "block",
   "toc_window_display": true
  }
 },
 "nbformat": 4,
 "nbformat_minor": 2
}

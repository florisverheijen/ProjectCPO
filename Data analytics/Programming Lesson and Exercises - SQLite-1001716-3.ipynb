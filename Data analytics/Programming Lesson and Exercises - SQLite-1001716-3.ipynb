{
 "cells": [
  {
   "cell_type": "markdown",
   "metadata": {},
   "source": [
    "# Programming Lesson and Exercises - SQLite<span class=\"tocSkip\"></span>\n",
    "\n",
    "These programming lessons do not require prior programming experience.\n",
    "\n",
    "The goal is to teach you the use of _Python 3_ and the _Jupyter Notebook_ software\n",
    "in the context of _Data Analytics_.\n",
    "\n",
    "<div class=\"alert-info alert\" role=\"alert-info\">While you read this notebook,\n",
    "execute all code cells in linear order\n",
    "from the beginning</div>"
   ]
  },
  {
   "cell_type": "markdown",
   "metadata": {},
   "source": [
    "\n",
    "# Introduction to this template notebook\n",
    "\n",
    "* This is a **personal** notebook.\n",
    "* Make sure you work in a **copy** of `...-template.ipynb`,\n",
    "**renamed** to `...-yourIDnr.ipynb`,\n",
    "where `yourIDnr` is your TU/e identification number.\n",
    "\n",
    "<div class=\"alert alert-danger\" role=\"danger\">Sharing your notebook with others is considered **fraud** under the TU/e regulations.</div>\n",
    "\n",
    "You are expected to work with Python code in this notebook.\n",
    "\n",
    "The locations where you should write your solutions can be recognized by\n",
    "**marker lines**,\n",
    "which look like this:\n",
    "\n",
    ">`#//`\n",
    ">    `BEGIN_TODO [Label]` `Description` `(n points)`\n",
    ">\n",
    ">`#//`\n",
    ">    `END_TODO [Label]`\n",
    "\n",
    "<div class=\"alert alert-warning\" role=\"alert\">Do NOT modify or delete these marker lines.  Keep them as they are.<br/>\n",
    "<br/>\n",
    "NEVER write code <i>outside</i> the marked blocks.\n",
    "Such code cannot be evaluated.\n",
    "</div>\n",
    "\n",
    "Proceed in this notebook as follows:\n",
    "* **Read** the text.\n",
    "* **Fill in** your solutions between `BEGIN_TODO` and `END_TODO` marker lines.\n",
    "* **Run** _all_ code cells (also the ones _without_ your code),\n",
    "    _in linear order_ from the first code cell.\n",
    "\n",
    "**Personalize your notebook**:\n",
    "1. Copy the following three lines of code:\n",
    "\n",
    "  ```python\n",
    "  AUTHOR_NAME = 'Your Full Name'\n",
    "  AUTHOR_ID_NR = '1234567'\n",
    "  AUTHOR_DATE = 'YYYY-MM-DD'  # when notebook was first modified, e.g. '2018-02-05'\n",
    "  ```\n",
    "\n",
    "1. Paste them between the marker lines in the next code cell.\n",
    "1. Fill in your _full name_, _identification number_, and the current _date_ as strings between quotes.\n",
    "1. Run the code cell by putting the cursor there and typing **Control-Enter**.\n"
   ]
  },
  {
   "cell_type": "code",
   "execution_count": 1,
   "metadata": {},
   "outputs": [
    {
     "data": {
      "text/plain": [
       "('Ysanne Pasveer', '1001716', '2018-03-08')"
      ]
     },
     "execution_count": 1,
     "metadata": {},
     "output_type": "execute_result"
    }
   ],
   "source": [
    "#// BEGIN_TODO [PrEx_ORG_2018.1] Name, Id.nr., Date, as strings (1 point)\n",
    "\n",
    "AUTHOR_NAME = 'Ysanne Pasveer'\n",
    "AUTHOR_ID_NR = '1001716'\n",
    "AUTHOR_DATE = '2018-03-08' \n",
    "\n",
    "#// END_TODO [PrEx_ORG_2018.1]\n",
    "\n",
    "AUTHOR_NAME, AUTHOR_ID_NR, AUTHOR_DATE"
   ]
  },
  {
   "cell_type": "markdown",
   "metadata": {
    "toc": "true"
   },
   "source": [
    "<h1>Table of Contents<span class=\"tocSkip\"></span></h1>\n",
    "<div class=\"toc\"><ul class=\"toc-item\"><li><ul class=\"toc-item\"><li><span><a href=\"#What-you-need\" data-toc-modified-id=\"What-you-need-0.1\">What you need</a></span></li></ul></li><li><span><a href=\"#1.-SQLite-Basics\" data-toc-modified-id=\"1.-SQLite-Basics-1\">1. SQLite Basics</a></span><ul class=\"toc-item\"><li><span><a href=\"#Learning-Objectives-of-This-Section\" data-toc-modified-id=\"Learning-Objectives-of-This-Section-1.1\">Learning Objectives of This Section</a></span></li><li><span><a href=\"#Introduction\" data-toc-modified-id=\"Introduction-1.2\">Introduction</a></span><ul class=\"toc-item\"><li><span><a href=\"#Loading-the-libraries\" data-toc-modified-id=\"Loading-the-libraries-1.2.1\">Loading the libraries</a></span></li><li><span><a href=\"#Common-steps-in-working-with-SQLite-databases\" data-toc-modified-id=\"Common-steps-in-working-with-SQLite-databases-1.2.2\">Common steps in working with SQLite databases</a></span></li><li><span><a href=\"#SQLite-and-Pandas\" data-toc-modified-id=\"SQLite-and-Pandas-1.2.3\">SQLite and Pandas</a></span></li></ul></li><li><span><a href=\"#Step-1.-Connect-to-database\" data-toc-modified-id=\"Step-1.-Connect-to-database-1.3\">Step 1. Connect to database</a></span></li><li><span><a href=\"#Step-2.-Operate-on-database\" data-toc-modified-id=\"Step-2.-Operate-on-database-1.4\">Step 2. Operate on database</a></span><ul class=\"toc-item\"><li><span><a href=\"#Via-Pandas-data-frames\" data-toc-modified-id=\"Via-Pandas-data-frames-1.4.1\">Via Pandas data frames</a></span></li><li><span><a href=\"#Via-SQL-statements\" data-toc-modified-id=\"Via-SQL-statements-1.4.2\">Via SQL statements</a></span></li></ul></li><li><span><a href=\"#Step-3.-Commit-changes-to-database\" data-toc-modified-id=\"Step-3.-Commit-changes-to-database-1.5\">Step 3. Commit changes to database</a></span><ul class=\"toc-item\"><li><span><a href=\"#Rollback-via-rollback()\" data-toc-modified-id=\"Rollback-via-rollback()-1.5.1\">Rollback via <code>rollback()</code></a></span></li><li><span><a href=\"#Commit-via-commit()\" data-toc-modified-id=\"Commit-via-commit()-1.5.2\">Commit via <code>commit()</code></a></span></li></ul></li><li><span><a href=\"#Step-4.-Close-connection-to-database\" data-toc-modified-id=\"Step-4.-Close-connection-to-database-1.6\">Step 4. Close connection to database</a></span></li><li><span><a href=\"#Exercises-1\" data-toc-modified-id=\"Exercises-1-1.7\">Exercises 1</a></span><ul class=\"toc-item\"><li><span><a href=\"#Step-1.-Connect-to-database\" data-toc-modified-id=\"Step-1.-Connect-to-database-1.7.1\">Step 1. Connect to database</a></span></li><li><span><a href=\"#Step-2.-Operate-on-database\" data-toc-modified-id=\"Step-2.-Operate-on-database-1.7.2\">Step 2. Operate on database</a></span></li><li><span><a href=\"#Step-3.-Commit-the-change-to-database.\" data-toc-modified-id=\"Step-3.-Commit-the-change-to-database.-1.7.3\">Step 3. Commit the change to database.</a></span></li><li><span><a href=\"#Step-4.-Close-connection-to-database\" data-toc-modified-id=\"Step-4.-Close-connection-to-database-1.7.4\">Step 4. Close connection to database</a></span></li></ul></li></ul></li><li><span><a href=\"#2.-SQLite-Extras-(optional)\" data-toc-modified-id=\"2.-SQLite-Extras-(optional)-2\">2. SQLite Extras (optional)</a></span><ul class=\"toc-item\"><li><ul class=\"toc-item\"><li><span><a href=\"#Placeholders\" data-toc-modified-id=\"Placeholders-2.0.1\">Placeholders</a></span></li><li><span><a href=\"#Placeholders-and-pd.read_sql_query()\" data-toc-modified-id=\"Placeholders-and-pd.read_sql_query()-2.0.2\">Placeholders and <code>pd.read_sql_query()</code></a></span></li><li><span><a href=\"#Placeholders-and-execute()\" data-toc-modified-id=\"Placeholders-and-execute()-2.0.3\">Placeholders and <code>execute()</code></a></span></li><li><span><a href=\"#Placeholders-and-executemany()\" data-toc-modified-id=\"Placeholders-and-executemany()-2.0.4\">Placeholders and <code>executemany()</code></a></span></li></ul></li><li><span><a href=\"#Exercises-2\" data-toc-modified-id=\"Exercises-2-2.1\">Exercises 2</a></span></li></ul></li><li><span><a href=\"#3.-SQL---Structured-Query-Language\" data-toc-modified-id=\"3.-SQL---Structured-Query-Language-3\">3. SQL - Structured Query Language</a></span><ul class=\"toc-item\"><li><ul class=\"toc-item\"><li><span><a href=\"#Select\" data-toc-modified-id=\"Select-3.0.1\">Select</a></span></li><li><span><a href=\"#Joining-tables\" data-toc-modified-id=\"Joining-tables-3.0.2\">Joining tables</a></span></li><li><span><a href=\"#Self-join\" data-toc-modified-id=\"Self-join-3.0.3\">Self-join</a></span></li><li><span><a href=\"#Subqueries,-or-nested-queries\" data-toc-modified-id=\"Subqueries,-or-nested-queries-3.0.4\">Subqueries, or nested queries</a></span></li><li><span><a href=\"#Update\" data-toc-modified-id=\"Update-3.0.5\">Update</a></span></li></ul></li><li><span><a href=\"#Exercises-3\" data-toc-modified-id=\"Exercises-3-3.1\">Exercises 3</a></span></li></ul></li><li><span><a href=\"#4.-Cleaning\" data-toc-modified-id=\"4.-Cleaning-4\">4. Cleaning</a></span><ul class=\"toc-item\"><li><span><a href=\"#df.astype()-to-convert-to-give-type\" data-toc-modified-id=\"df.astype()-to-convert-to-give-type-4.1\"><code>df.astype()</code> to convert to give type</a></span></li><li><span><a href=\"#pd.to_numeric()-to-convert-to-numeric\" data-toc-modified-id=\"pd.to_numeric()-to-convert-to-numeric-4.2\"><code>pd.to_numeric()</code> to convert to numeric</a></span></li><li><span><a href=\"#ts.unique()-to-find-all-values-once\" data-toc-modified-id=\"ts.unique()-to-find-all-values-once-4.3\"><code>ts.unique()</code> to find all values once</a></span></li><li><span><a href=\"#df.duplicated()-to-find-duplicates\" data-toc-modified-id=\"df.duplicated()-to-find-duplicates-4.4\"><code>df.duplicated()</code> to find duplicates</a></span></li><li><span><a href=\"#df.drop_duplicates()-to-remove-duplicates\" data-toc-modified-id=\"df.drop_duplicates()-to-remove-duplicates-4.5\"><code>df.drop_duplicates()</code> to remove duplicates</a></span></li><li><span><a href=\"#df.dropna()-to-remove-rows-with-missing-values\" data-toc-modified-id=\"df.dropna()-to-remove-rows-with-missing-values-4.6\"><code>df.dropna()</code> to remove rows with missing values</a></span></li><li><span><a href=\"#df.fillna()-to-replace-missing-values\" data-toc-modified-id=\"df.fillna()-to-replace-missing-values-4.7\"><code>df.fillna()</code> to replace missing values</a></span></li><li><span><a href=\"#ts.str.strip()-to-strip-characters-from-begin/end-of-strings\" data-toc-modified-id=\"ts.str.strip()-to-strip-characters-from-begin/end-of-strings-4.8\"><code>ts.str.strip()</code> to strip characters from begin/end of strings</a></span></li><li><span><a href=\"#Exercises-4\" data-toc-modified-id=\"Exercises-4-4.9\">Exercises 4</a></span></li></ul></li><li><span><a href=\"#(End-of-Notebook)\" data-toc-modified-id=\"(End-of-Notebook)-5\">(End of Notebook)</a></span></li></ul></div>"
   ]
  },
  {
   "cell_type": "markdown",
   "metadata": {},
   "source": [
    "## What you need\n",
    "\n",
    "* This notebook\n",
    "* `country-data.csv` from _Programming Lesson and Exercises - Pandas_ (EDA)"
   ]
  },
  {
   "cell_type": "code",
   "execution_count": 2,
   "metadata": {
    "collapsed": true
   },
   "outputs": [],
   "source": [
    "datadir = '../../datasets/country-data/'\n",
    "file_countries = datadir + 'country-data.csv'"
   ]
  },
  {
   "cell_type": "markdown",
   "metadata": {},
   "source": [
    "\n",
    "## How to submit your work\n",
    "\n",
    "You can submit your work to Canvas in the form of this Jupyter notebook,\n",
    "containing your solutions in the indicated places\n",
    "(recognizable by the **marker lines** with `... BEGIN_TODO ...` and `... END_TODO ...`).\n",
    "\n",
    "> **NOTE: Do NOT modify or delete these marker lines.**\n",
    "\n",
    "1. **Before submitting**, you must run your notebook by doing **Kernel > Restart & Run All**.  \n",
    "   Make sure that your notebook runs without errors **in linear order**.\n",
    "\n",
    "2. Submit the executed notebook with your work\n",
    "   for the appropriate assignment in **Canvas**.\n",
    "\n",
    "* In the **Momotor** tab in Canvas,\n",
    "  you can select that assignment again to find some feedback on your submitted work.\n",
    "  \n",
    "* If there are any problems reported by _Momotor_,\n",
    "  then you need to fix those,\n",
    "  and **resubmit the fixed notebook**.\n",
    "\n",
    "In case of a high workload on our server\n",
    "(because many students submit close to the deadline),\n",
    "it may take longer to receive the feedback.\n"
   ]
  },
  {
   "cell_type": "markdown",
   "metadata": {},
   "source": [
    "# 1. SQLite Basics"
   ]
  },
  {
   "cell_type": "markdown",
   "metadata": {},
   "source": [
    "## Learning Objectives of This Section\n",
    "\n",
    "After this lesson, you should\n",
    "\n",
    "* know how to work with SQLite databases through Pandas data frames;\n",
    "* know how to work with SQLite databases through cursor objects;\n",
    "* know how to create, update, and delete tables using Python and its `sqlite3` library."
   ]
  },
  {
   "cell_type": "markdown",
   "metadata": {},
   "source": [
    "## Introduction\n",
    "\n",
    "So far, we have dealt with data given as a _single table_,\n",
    "typically stored in a CSV file and operated on in a Pandas `DataFrame`.\n",
    "Often, however, the use of a single table leads to unnecessary duplication of data\n",
    "and difficulties in data processing.\n",
    "\n",
    "For example,\n",
    "consider an experiment where we collect data from various patients.\n",
    "We have data pertaining to each patient:\n",
    "name, date of birth, and daily weight and temperature measurements.\n",
    "How to _organize_ that data and store it?\n",
    "This is important for the _data collection_ process and subsequent\n",
    "_data analysis_ process.\n",
    "\n",
    "You could try to put it in one table,\n",
    "with one row per patient, and columns for name, date of birth, and every day:\n",
    "\n",
    "| Name | Date of Birth | Day 1 Weight | Day 1 Temperature | Day 2 Weight | Day 2 Temperature | ... |\n",
    "| :--- | :------------ | -----------: | ----------------: | -----------: | ----------------: | --: |\n",
    "| A | 1950-01-01 | 60.0 | 37.8 | 59.8 | 38.1 | ... |\n",
    "| B | 1947-07-15 | 84.3 | 39.2 | 85.0 | 38.5 | ... |\n",
    "| ... | ... | ... | ... | ... | ... | ... |\n",
    "\n",
    "The number of columns would grow, and could differ per patient.\n",
    "\n",
    "You could try to put it in one table,\n",
    "with one row per patient per day,\n",
    "and columns for name, date of birth, day, weight, and temperature,\n",
    "repeating values that stay the same (name and date of birth):\n",
    "\n",
    "| Name | Date of Birth | Day | Weight | Temperature |\n",
    "| :--- | :------------ | --: | -----: | ----------: |\n",
    "| A | 1950-01-01 | 1 | 60.0 | 37.8 |\n",
    "| B | 1947-07-15 | 1 | 84.3 | 39.2 |\n",
    "| A | 1950-01-01 | 2 | 59.8 | 38.1 |\n",
    "| B | 1947-07-15 | 2 | 84.3 | 39.2 |\n",
    "| ... | ... | ... | ... | ... |\n",
    "\n",
    "In this approach, some data (necessarily) gets duplicated.\n",
    "\n",
    "Also, note that patients may not be uniquely identified by name and data of birth.\n",
    "In the first table, their measurements would still be kept apart.\n",
    "But in the second table, this starts to be problematic.\n",
    "\n",
    "Using multiple, related tables is a better approach.\n",
    "In this case, two tables could be used:\n",
    "\n",
    "**Patient data**\n",
    "\n",
    "| ID | Name | Date of Birth |\n",
    "| -: | :--- | :------------ |\n",
    "| 13 | A | 1950-01-01 |\n",
    "| 72 | B | 1947-07-15 |\n",
    "| ... | ... | ... |\n",
    "\n",
    "**Measurement data**\n",
    "\n",
    "| ID | Day | Weight | Temperature |\n",
    "| -: | --: | -----: | ----------: |\n",
    "| 13 |  1 | 60.0 | 37.8 |\n",
    "| 72 |  1 | 84.3 | 39.2 |\n",
    "| 13 |  2 | 59.8 | 38.1 |\n",
    "| 72 |  2 | 84.3 | 39.2 |\n",
    "| ... | ... | ... | ... |\n",
    "\n",
    "The additional column `ID` relates the two tables,\n",
    "and helps to keep apart patients with the same name and date of birth.\n",
    "\n",
    "We assume that you have a basic understanding of how a _relational database_ is organized:\n",
    "\n",
    "* a collection of (named, related) _tables_, where\n",
    "* each table consists of a collection of _rows_, where\n",
    "* each row contains one _value_ per _column_,\n",
    "* where all values in a column belong to a prescribed _type_.\n",
    "\n",
    "In this lesson we will use SQL,\n",
    "a standardized language to work with _relational databases_.\n",
    "SQL stands for **Structured Query Language**.\n",
    "It has its own rules for syntax, semantics, and pragmatics.\n",
    "We'll cover some of these rules later.\n",
    "\n",
    "We use **SQLite** as _SQL database engine_\n",
    "(it knows SQL, though not all of it).\n",
    "Note that SQLite is a separate piece of open-source software,\n",
    "that is installed as part of Anaconda.\n",
    "Many programs make use of SQLite internally."
   ]
  },
  {
   "cell_type": "markdown",
   "metadata": {},
   "source": [
    "### Loading the libraries\n",
    "\n",
    "To show examples, we load some Data Analytics libraries first:"
   ]
  },
  {
   "cell_type": "code",
   "execution_count": 3,
   "metadata": {
    "collapsed": true
   },
   "outputs": [],
   "source": [
    "import numpy as np  # import auxiliary library, typical idiom\n",
    "import pandas as pd  # import the Pandas library, typical idiom"
   ]
  },
  {
   "cell_type": "markdown",
   "metadata": {},
   "source": [
    "Next, we load **`sqlite3`**, a Python library to work with _SQLite_ databases:"
   ]
  },
  {
   "cell_type": "code",
   "execution_count": 4,
   "metadata": {
    "collapsed": true
   },
   "outputs": [],
   "source": [
    "import sqlite3"
   ]
  },
  {
   "cell_type": "markdown",
   "metadata": {},
   "source": [
    "### Common steps in working with SQLite databases\n",
    "\n",
    "Typically, the following sequence of steps takes place,\n",
    "when working with an SQLite database.\n",
    "\n",
    "1. Connect to the database (residing in a file).\n",
    "2. Operate on the database:\n",
    "\n",
    "    * execute queries, to retrieve selected values;\n",
    "    * create, update, or delete rows/values in a table;\n",
    "    * create, alter (by adding or deleting columns), or delete tables.\n",
    "    \n",
    "3. Commit changes to the database, or roll them back.\n",
    "4. Close the connection to the database.\n",
    "\n",
    "Steps 2 and 3 can be repeated as desired.\n",
    "\n",
    "When working with an SQL database,\n",
    "operations are expressed as **SQL statements**.\n",
    "SQL statements are executed via a so-called **cursor** object,\n",
    "that also captures and delivers any results of the SQL statement."
   ]
  },
  {
   "cell_type": "markdown",
   "metadata": {},
   "source": [
    "### SQLite and Pandas\n",
    "\n",
    "The Pandas library offers two functions to work with SQL databases:\n",
    "\n",
    "* **`pd.read_sql_query()`** : return the query result as a `DataFrame`\n",
    "* **`df.to_sql()`** : write `DataFrame df` as table to a database\n",
    "\n",
    "We prefer to use these functions whenever possible.\n",
    "That way, you don't have to work via cursor objects."
   ]
  },
  {
   "cell_type": "markdown",
   "metadata": {},
   "source": [
    "## Step 1. Connect to database\n",
    "\n",
    "In order to work with a database,\n",
    "a _connection_ to that database needs to be established.\n",
    "\n",
    "An SQLite database is stored in a (binary) file in the file system.\n",
    "\n",
    "You connect to it via\n",
    "\n",
    "* **`sqlite3.connect(file_name)`**\n",
    "\n",
    "This function returns a **connection object**,\n",
    "that you will need in subsequent operations.\n",
    "It is typically assigned to a variable named `conn`:"
   ]
  },
  {
   "cell_type": "code",
   "execution_count": 5,
   "metadata": {
    "collapsed": true
   },
   "outputs": [],
   "source": [
    "conn = sqlite3.connect('countries.db')  # connect to database in file countries.db"
   ]
  },
  {
   "cell_type": "markdown",
   "metadata": {},
   "source": [
    "If the database file did not yet exist,\n",
    "it will be created, starting out with an empty database."
   ]
  },
  {
   "cell_type": "markdown",
   "metadata": {},
   "source": [
    "## Step 2. Operate on database\n",
    "\n",
    "Operations on a database can be classified as\n",
    "\n",
    "* **Create** : a new table\n",
    "* **Read** : from one or more existing tables\n",
    "* **Update** : modify a table, by adding, updating, or deleting rows\n",
    "* **Delete** : an existing table"
   ]
  },
  {
   "cell_type": "markdown",
   "metadata": {},
   "source": [
    "### Via Pandas data frames\n",
    "\n",
    "It is easiest to work with an SQLite database\n",
    "via the Pandas library in terms of complete data frames.\n",
    "\n",
    "So, lets first get a data frame.\n",
    "We will grab the country data that we have used before: `country-data.csv`."
   ]
  },
  {
   "cell_type": "code",
   "execution_count": 6,
   "metadata": {},
   "outputs": [
    {
     "data": {
      "text/html": [
       "<div>\n",
       "<style>\n",
       "    .dataframe thead tr:only-child th {\n",
       "        text-align: right;\n",
       "    }\n",
       "\n",
       "    .dataframe thead th {\n",
       "        text-align: left;\n",
       "    }\n",
       "\n",
       "    .dataframe tbody tr th {\n",
       "        vertical-align: top;\n",
       "    }\n",
       "</style>\n",
       "<table border=\"1\" class=\"dataframe\">\n",
       "  <thead>\n",
       "    <tr style=\"text-align: right;\">\n",
       "      <th></th>\n",
       "      <th>name</th>\n",
       "      <th>alpha_3</th>\n",
       "      <th>tld</th>\n",
       "      <th>continent</th>\n",
       "      <th>capital</th>\n",
       "      <th>area</th>\n",
       "      <th>population</th>\n",
       "    </tr>\n",
       "  </thead>\n",
       "  <tbody>\n",
       "    <tr>\n",
       "      <th>0</th>\n",
       "      <td>Andorra</td>\n",
       "      <td>AND</td>\n",
       "      <td>.ad</td>\n",
       "      <td>EU</td>\n",
       "      <td>Andorra la Vella</td>\n",
       "      <td>468.0</td>\n",
       "      <td>84000</td>\n",
       "    </tr>\n",
       "    <tr>\n",
       "      <th>1</th>\n",
       "      <td>United Arab Emirates</td>\n",
       "      <td>ARE</td>\n",
       "      <td>.ae</td>\n",
       "      <td>AS</td>\n",
       "      <td>Abu Dhabi</td>\n",
       "      <td>82880.0</td>\n",
       "      <td>4975593</td>\n",
       "    </tr>\n",
       "    <tr>\n",
       "      <th>2</th>\n",
       "      <td>Afghanistan</td>\n",
       "      <td>AFG</td>\n",
       "      <td>.af</td>\n",
       "      <td>AS</td>\n",
       "      <td>Kabul</td>\n",
       "      <td>647500.0</td>\n",
       "      <td>29121286</td>\n",
       "    </tr>\n",
       "    <tr>\n",
       "      <th>3</th>\n",
       "      <td>Antigua and Barbuda</td>\n",
       "      <td>ATG</td>\n",
       "      <td>.ag</td>\n",
       "      <td>NA</td>\n",
       "      <td>St. John's</td>\n",
       "      <td>443.0</td>\n",
       "      <td>86754</td>\n",
       "    </tr>\n",
       "    <tr>\n",
       "      <th>4</th>\n",
       "      <td>Anguilla</td>\n",
       "      <td>AIA</td>\n",
       "      <td>.ai</td>\n",
       "      <td>NA</td>\n",
       "      <td>The Valley</td>\n",
       "      <td>102.0</td>\n",
       "      <td>13254</td>\n",
       "    </tr>\n",
       "  </tbody>\n",
       "</table>\n",
       "</div>"
      ],
      "text/plain": [
       "                   name alpha_3  tld continent           capital      area  \\\n",
       "0               Andorra     AND  .ad        EU  Andorra la Vella     468.0   \n",
       "1  United Arab Emirates     ARE  .ae        AS         Abu Dhabi   82880.0   \n",
       "2           Afghanistan     AFG  .af        AS             Kabul  647500.0   \n",
       "3   Antigua and Barbuda     ATG  .ag        NA        St. John's     443.0   \n",
       "4              Anguilla     AIA  .ai        NA        The Valley     102.0   \n",
       "\n",
       "   population  \n",
       "0       84000  \n",
       "1     4975593  \n",
       "2    29121286  \n",
       "3       86754  \n",
       "4       13254  "
      ]
     },
     "execution_count": 6,
     "metadata": {},
     "output_type": "execute_result"
    }
   ],
   "source": [
    "# import os\n",
    "\n",
    "# base_path = \"/Users/ysannepasveer/country-data/\"\n",
    "# country_data = \"country-data.csv\"\n",
    "# path_to_file = os.path.join(base_path, country_data)\n",
    "# fd = open(path_to_file , 'r')\n",
    "\n",
    "# country_data = pd.read_csv(\"/Users/ysannepasveer/country-data/country-data.csv\",na_values=[''], keep_default_na=False)\n",
    "# country_data.head()\n",
    "\n",
    "country_data = pd.read_csv(file_countries, na_values=[''], keep_default_na=False)\n",
    "country_data.head()"
   ]
  },
  {
   "cell_type": "markdown",
   "metadata": {},
   "source": [
    "Here is how you write that data frame as a new table named `'countries'`\n",
    "to the database that we just opened using the `DataFrame` method **`to_sql()`**:"
   ]
  },
  {
   "cell_type": "code",
   "execution_count": 7,
   "metadata": {},
   "outputs": [],
   "source": [
    "country_data.to_sql('countries', conn, if_exists='replace', index=False)"
   ]
  },
  {
   "cell_type": "markdown",
   "metadata": {},
   "source": [
    "Just some quick notes about the arguments of **`to_sql()`**:\n",
    "\n",
    "* **`country_data`** is the data frame to put in the database\n",
    "* **`'countries'`** is the name of the table to create, replace, or append to.\n",
    "* **`conn`** is a previously opened connection to an SQLite database.\n",
    "* **`if_exists='replace'`** will replace an existing table by that same name.  \n",
    "    Default is **`if_exists='fail'`**,\n",
    "    which will refuse to overwrite an existing table by the given name.  \n",
    "    Another variant is **`if_exists='append'`**\n",
    "    to insert all the rows from the data frame into the table.\n",
    "* **`index=False`** will suppress writing of the data frame's index as a separate column.  \n",
    "    Default is **`index=True`**,\n",
    "    which will write the index as a separate column.\n",
    "    \n",
    "> **NOTE**: `to_sql()` automatically commits the changes to the database.  \n",
    "> So, no additional `commit()` is needed."
   ]
  },
  {
   "cell_type": "markdown",
   "metadata": {},
   "source": [
    "Now that we have a table in our database, we can **query** it.\n",
    "\n",
    "A SQL query is stored in a Python string.\n",
    "Here is an example:"
   ]
  },
  {
   "cell_type": "code",
   "execution_count": 8,
   "metadata": {
    "collapsed": true
   },
   "outputs": [],
   "source": [
    "query = '''\n",
    "    select name, capital, area, population\n",
    "    from countries\n",
    "    where area < 1000 and population > 200000\n",
    "    order by population desc;\n",
    "'''"
   ]
  },
  {
   "cell_type": "markdown",
   "metadata": {},
   "source": [
    "This query\n",
    "\n",
    "* selects all rows from the table `countries`\n",
    "* that have an area less than 1000 and a population over 200000\n",
    "* showing only the columns `'name'`, `'capital'`, `'area'`, and `'population`',\n",
    "* sorted on population in descending order.\n",
    "\n",
    "It can be executed with the Pandas function **`pd.read_sql_query()`**,\n",
    "which returns the result as a `DataFrame`:"
   ]
  },
  {
   "cell_type": "code",
   "execution_count": 9,
   "metadata": {},
   "outputs": [
    {
     "data": {
      "text/html": [
       "<div>\n",
       "<style>\n",
       "    .dataframe thead tr:only-child th {\n",
       "        text-align: right;\n",
       "    }\n",
       "\n",
       "    .dataframe thead th {\n",
       "        text-align: left;\n",
       "    }\n",
       "\n",
       "    .dataframe tbody tr th {\n",
       "        vertical-align: top;\n",
       "    }\n",
       "</style>\n",
       "<table border=\"1\" class=\"dataframe\">\n",
       "  <thead>\n",
       "    <tr style=\"text-align: right;\">\n",
       "      <th></th>\n",
       "      <th>name</th>\n",
       "      <th>capital</th>\n",
       "      <th>area</th>\n",
       "      <th>population</th>\n",
       "    </tr>\n",
       "  </thead>\n",
       "  <tbody>\n",
       "    <tr>\n",
       "      <th>0</th>\n",
       "      <td>Singapore</td>\n",
       "      <td>Singapore</td>\n",
       "      <td>692.7</td>\n",
       "      <td>4701069</td>\n",
       "    </tr>\n",
       "    <tr>\n",
       "      <th>1</th>\n",
       "      <td>Bahrain</td>\n",
       "      <td>Manama</td>\n",
       "      <td>665.0</td>\n",
       "      <td>738004</td>\n",
       "    </tr>\n",
       "    <tr>\n",
       "      <th>2</th>\n",
       "      <td>Macao</td>\n",
       "      <td>Macao</td>\n",
       "      <td>254.0</td>\n",
       "      <td>449198</td>\n",
       "    </tr>\n",
       "    <tr>\n",
       "      <th>3</th>\n",
       "      <td>Malta</td>\n",
       "      <td>Valletta</td>\n",
       "      <td>316.0</td>\n",
       "      <td>403000</td>\n",
       "    </tr>\n",
       "    <tr>\n",
       "      <th>4</th>\n",
       "      <td>Maldives</td>\n",
       "      <td>Male</td>\n",
       "      <td>300.0</td>\n",
       "      <td>395650</td>\n",
       "    </tr>\n",
       "    <tr>\n",
       "      <th>5</th>\n",
       "      <td>Netherlands Antilles</td>\n",
       "      <td>Willemstad</td>\n",
       "      <td>960.0</td>\n",
       "      <td>300000</td>\n",
       "    </tr>\n",
       "    <tr>\n",
       "      <th>6</th>\n",
       "      <td>Barbados</td>\n",
       "      <td>Bridgetown</td>\n",
       "      <td>431.0</td>\n",
       "      <td>285653</td>\n",
       "    </tr>\n",
       "  </tbody>\n",
       "</table>\n",
       "</div>"
      ],
      "text/plain": [
       "                   name     capital   area  population\n",
       "0             Singapore   Singapore  692.7     4701069\n",
       "1               Bahrain      Manama  665.0      738004\n",
       "2                 Macao       Macao  254.0      449198\n",
       "3                 Malta    Valletta  316.0      403000\n",
       "4              Maldives        Male  300.0      395650\n",
       "5  Netherlands Antilles  Willemstad  960.0      300000\n",
       "6              Barbados  Bridgetown  431.0      285653"
      ]
     },
     "execution_count": 9,
     "metadata": {},
     "output_type": "execute_result"
    }
   ],
   "source": [
    "pd.read_sql_query(query, conn)"
   ]
  },
  {
   "cell_type": "markdown",
   "metadata": {},
   "source": [
    "### Via SQL statements\n",
    "\n",
    "Instead of writing an entire data frame as a table,\n",
    "or reading the entire result of a query into a Pandas `DataFrame`,\n",
    "you can also work via a so-called **cursor** object.\n",
    "For operations on a database that are not queries\n",
    "(that do not return a table),\n",
    "you _must_ work with a cursor object.\n",
    "\n",
    "This approach involves the following steps:\n",
    "\n",
    "1. Create a cursor object.\n",
    "1. Execute the SQL statement.\n",
    "1. Optionally, process the result through the cursor object.\n",
    "\n",
    "The query above is executed as follows using a cursor object.\n",
    "Since there are no changes, no commit is needed."
   ]
  },
  {
   "cell_type": "code",
   "execution_count": 10,
   "metadata": {},
   "outputs": [
    {
     "data": {
      "text/plain": [
       "[('Singapore', 'Singapore', 692.7, 4701069),\n",
       " ('Bahrain', 'Manama', 665.0, 738004),\n",
       " ('Macao', 'Macao', 254.0, 449198),\n",
       " ('Malta', 'Valletta', 316.0, 403000),\n",
       " ('Maldives', 'Male', 300.0, 395650),\n",
       " ('Netherlands Antilles', 'Willemstad', 960.0, 300000),\n",
       " ('Barbados', 'Bridgetown', 431.0, 285653)]"
      ]
     },
     "execution_count": 10,
     "metadata": {},
     "output_type": "execute_result"
    }
   ],
   "source": [
    "cur = conn.cursor()  # 1. Create cursor object.\n",
    "cur.execute(query)  # 2. Execute SQL statement\n",
    "cur.fetchall()  # 3. Inspect the result (all rows)"
   ]
  },
  {
   "cell_type": "markdown",
   "metadata": {},
   "source": [
    "We recommend\n",
    "\n",
    "* to use **`pd.read_sql_query()`** for _queries_ (SELECT statements),\n",
    "so that the result is conveniently available as a Pandas `DataFrame`, and\n",
    "* to use **`execute()`** only for other (non-SELECT) SQL statements."
   ]
  },
  {
   "cell_type": "markdown",
   "metadata": {},
   "source": [
    "## Step 3. Commit changes to database\n",
    "\n",
    "If changes have been made to the database through _cursor objects_\n",
    "then you need to **commit** them in order to persist in the database file,\n",
    "and become visible to other users of that same database.\n",
    "Alternatively, you can decide to **rollback** the changes.\n",
    "\n",
    "> **NOTE**: Changes made through `DataFrame.to_sql()` are committed automatically.  \n",
    "> It is not possible to rollback in that case.\n",
    "\n",
    "Let's make a change, via the cursor object that we already have.\n",
    "\n",
    "First, we inspect the population for the Netherlands:"
   ]
  },
  {
   "cell_type": "code",
   "execution_count": 11,
   "metadata": {},
   "outputs": [
    {
     "data": {
      "text/html": [
       "<div>\n",
       "<style>\n",
       "    .dataframe thead tr:only-child th {\n",
       "        text-align: right;\n",
       "    }\n",
       "\n",
       "    .dataframe thead th {\n",
       "        text-align: left;\n",
       "    }\n",
       "\n",
       "    .dataframe tbody tr th {\n",
       "        vertical-align: top;\n",
       "    }\n",
       "</style>\n",
       "<table border=\"1\" class=\"dataframe\">\n",
       "  <thead>\n",
       "    <tr style=\"text-align: right;\">\n",
       "      <th></th>\n",
       "      <th>name</th>\n",
       "      <th>population</th>\n",
       "    </tr>\n",
       "  </thead>\n",
       "  <tbody>\n",
       "    <tr>\n",
       "      <th>0</th>\n",
       "      <td>Netherlands</td>\n",
       "      <td>16645000</td>\n",
       "    </tr>\n",
       "  </tbody>\n",
       "</table>\n",
       "</div>"
      ],
      "text/plain": [
       "          name  population\n",
       "0  Netherlands    16645000"
      ]
     },
     "execution_count": 11,
     "metadata": {},
     "output_type": "execute_result"
    }
   ],
   "source": [
    "get_pop_NL = 'select name, population from countries where name = \"Netherlands\";'\n",
    "pd.read_sql_query(get_pop_NL, conn)"
   ]
  },
  {
   "cell_type": "markdown",
   "metadata": {},
   "source": [
    "Next, we define a SQL statements to update the population of the Netherlads\n",
    "to that of 12 Dec 2017\n",
    "([source](http://www.worldometers.info/world-population/population-by-country/)),\n",
    "and execute it."
   ]
  },
  {
   "cell_type": "code",
   "execution_count": 12,
   "metadata": {
    "collapsed": true
   },
   "outputs": [],
   "source": [
    "update_pop_NL = '''\n",
    "    update countries\n",
    "    set population = 17035938\n",
    "    where name = \"Netherlands\";\n",
    "'''\n",
    "cur.execute(update_pop_NL);"
   ]
  },
  {
   "cell_type": "markdown",
   "metadata": {},
   "source": [
    "Let's check the update:"
   ]
  },
  {
   "cell_type": "code",
   "execution_count": 13,
   "metadata": {},
   "outputs": [
    {
     "data": {
      "text/html": [
       "<div>\n",
       "<style>\n",
       "    .dataframe thead tr:only-child th {\n",
       "        text-align: right;\n",
       "    }\n",
       "\n",
       "    .dataframe thead th {\n",
       "        text-align: left;\n",
       "    }\n",
       "\n",
       "    .dataframe tbody tr th {\n",
       "        vertical-align: top;\n",
       "    }\n",
       "</style>\n",
       "<table border=\"1\" class=\"dataframe\">\n",
       "  <thead>\n",
       "    <tr style=\"text-align: right;\">\n",
       "      <th></th>\n",
       "      <th>name</th>\n",
       "      <th>population</th>\n",
       "    </tr>\n",
       "  </thead>\n",
       "  <tbody>\n",
       "    <tr>\n",
       "      <th>0</th>\n",
       "      <td>Netherlands</td>\n",
       "      <td>17035938</td>\n",
       "    </tr>\n",
       "  </tbody>\n",
       "</table>\n",
       "</div>"
      ],
      "text/plain": [
       "          name  population\n",
       "0  Netherlands    17035938"
      ]
     },
     "execution_count": 13,
     "metadata": {},
     "output_type": "execute_result"
    }
   ],
   "source": [
    "pd.read_sql_query(get_pop_NL, conn)"
   ]
  },
  {
   "cell_type": "markdown",
   "metadata": {},
   "source": [
    "### Rollback via `rollback()`\n",
    "\n",
    "We could decide to **rollback** (cancel) all _pending_ changes,\n",
    "via **`conn.rollback()`**:"
   ]
  },
  {
   "cell_type": "code",
   "execution_count": 14,
   "metadata": {
    "collapsed": true
   },
   "outputs": [],
   "source": [
    "conn.rollback()"
   ]
  },
  {
   "cell_type": "markdown",
   "metadata": {},
   "source": [
    "Let's check again:"
   ]
  },
  {
   "cell_type": "code",
   "execution_count": 15,
   "metadata": {},
   "outputs": [
    {
     "data": {
      "text/html": [
       "<div>\n",
       "<style>\n",
       "    .dataframe thead tr:only-child th {\n",
       "        text-align: right;\n",
       "    }\n",
       "\n",
       "    .dataframe thead th {\n",
       "        text-align: left;\n",
       "    }\n",
       "\n",
       "    .dataframe tbody tr th {\n",
       "        vertical-align: top;\n",
       "    }\n",
       "</style>\n",
       "<table border=\"1\" class=\"dataframe\">\n",
       "  <thead>\n",
       "    <tr style=\"text-align: right;\">\n",
       "      <th></th>\n",
       "      <th>name</th>\n",
       "      <th>population</th>\n",
       "    </tr>\n",
       "  </thead>\n",
       "  <tbody>\n",
       "    <tr>\n",
       "      <th>0</th>\n",
       "      <td>Netherlands</td>\n",
       "      <td>16645000</td>\n",
       "    </tr>\n",
       "  </tbody>\n",
       "</table>\n",
       "</div>"
      ],
      "text/plain": [
       "          name  population\n",
       "0  Netherlands    16645000"
      ]
     },
     "execution_count": 15,
     "metadata": {},
     "output_type": "execute_result"
    }
   ],
   "source": [
    "pd.read_sql_query(get_pop_NL, conn)"
   ]
  },
  {
   "cell_type": "markdown",
   "metadata": {},
   "source": [
    "So, the change was undone.\n",
    "Now let's make the change again:"
   ]
  },
  {
   "cell_type": "code",
   "execution_count": 16,
   "metadata": {
    "collapsed": true
   },
   "outputs": [],
   "source": [
    "cur.execute(update_pop_NL);"
   ]
  },
  {
   "cell_type": "markdown",
   "metadata": {},
   "source": [
    "### Commit via `commit()`\n",
    "\n",
    "Finally, we **commit** all _pending_ changes via **`conn.commit()`**,\n",
    "to make it visible to other users of that database:"
   ]
  },
  {
   "cell_type": "code",
   "execution_count": 17,
   "metadata": {
    "collapsed": true
   },
   "outputs": [],
   "source": [
    "conn.commit()"
   ]
  },
  {
   "cell_type": "markdown",
   "metadata": {},
   "source": [
    "## Step 4. Close connection to database\n",
    "\n",
    "Once you no longer want to work with the database,\n",
    "you can (and are encouraged to) close the connection to it:"
   ]
  },
  {
   "cell_type": "code",
   "execution_count": 18,
   "metadata": {
    "collapsed": true
   },
   "outputs": [],
   "source": [
    "conn.close()"
   ]
  },
  {
   "cell_type": "markdown",
   "metadata": {},
   "source": [
    "## Exercises 1"
   ]
  },
  {
   "cell_type": "markdown",
   "metadata": {},
   "source": [
    "### Step 1. Connect to database\n",
    "\n",
    "Connect to the the database with country data,\n",
    "assigning the connection to variable **`conn_1`**."
   ]
  },
  {
   "cell_type": "code",
   "execution_count": 19,
   "metadata": {
    "collapsed": true
   },
   "outputs": [],
   "source": [
    "#// BEGIN_TODO [PrEx_ORG_1_1] Connect to country database (1 point)\n",
    "\n",
    "conn_1 = sqlite3.connect('countries.db')\n",
    "\n",
    "#// END_TODO [PrEx_ORG_1_1]"
   ]
  },
  {
   "cell_type": "markdown",
   "metadata": {},
   "source": [
    "### Step 2. Operate on database\n",
    "\n",
    "Define a query to select the name, population, and area of all\n",
    "countries with an area larger than one million square km.\n",
    "\n",
    "Assign your query as string to the variable **`query_1a`**."
   ]
  },
  {
   "cell_type": "code",
   "execution_count": 20,
   "metadata": {},
   "outputs": [
    {
     "data": {
      "text/plain": [
       "'\\n    select name, population, area\\n    from countries\\n    where area > 1000000;\\n'"
      ]
     },
     "execution_count": 20,
     "metadata": {},
     "output_type": "execute_result"
    }
   ],
   "source": [
    "#// BEGIN_TODO [PrEx_ORG_1_2a] Define query_1a (1 point)\n",
    "\n",
    "query_1a = '''\n",
    "    select name, population, area\n",
    "    from countries\n",
    "    where area > 1000000;\n",
    "'''\n",
    "\n",
    "#// END_TODO [PrEx_ORG_1_2a]\n",
    "\n",
    "query_1a"
   ]
  },
  {
   "cell_type": "markdown",
   "metadata": {},
   "source": [
    "Execute the query on the open database, retrieving the result as a Pandas `DataFrame`."
   ]
  },
  {
   "cell_type": "code",
   "execution_count": 21,
   "metadata": {},
   "outputs": [
    {
     "data": {
      "text/html": [
       "<div>\n",
       "<style>\n",
       "    .dataframe thead tr:only-child th {\n",
       "        text-align: right;\n",
       "    }\n",
       "\n",
       "    .dataframe thead th {\n",
       "        text-align: left;\n",
       "    }\n",
       "\n",
       "    .dataframe tbody tr th {\n",
       "        vertical-align: top;\n",
       "    }\n",
       "</style>\n",
       "<table border=\"1\" class=\"dataframe\">\n",
       "  <thead>\n",
       "    <tr style=\"text-align: right;\">\n",
       "      <th></th>\n",
       "      <th>name</th>\n",
       "      <th>population</th>\n",
       "      <th>area</th>\n",
       "    </tr>\n",
       "  </thead>\n",
       "  <tbody>\n",
       "    <tr>\n",
       "      <th>0</th>\n",
       "      <td>Angola</td>\n",
       "      <td>13068161</td>\n",
       "      <td>1246700.0</td>\n",
       "    </tr>\n",
       "    <tr>\n",
       "      <th>1</th>\n",
       "      <td>Antarctica</td>\n",
       "      <td>0</td>\n",
       "      <td>14000000.0</td>\n",
       "    </tr>\n",
       "    <tr>\n",
       "      <th>2</th>\n",
       "      <td>Argentina</td>\n",
       "      <td>41343201</td>\n",
       "      <td>2766890.0</td>\n",
       "    </tr>\n",
       "    <tr>\n",
       "      <th>3</th>\n",
       "      <td>Australia</td>\n",
       "      <td>21515754</td>\n",
       "      <td>7686850.0</td>\n",
       "    </tr>\n",
       "    <tr>\n",
       "      <th>4</th>\n",
       "      <td>Bolivia</td>\n",
       "      <td>9947418</td>\n",
       "      <td>1098580.0</td>\n",
       "    </tr>\n",
       "    <tr>\n",
       "      <th>5</th>\n",
       "      <td>Brazil</td>\n",
       "      <td>201103330</td>\n",
       "      <td>8511965.0</td>\n",
       "    </tr>\n",
       "    <tr>\n",
       "      <th>6</th>\n",
       "      <td>Canada</td>\n",
       "      <td>33679000</td>\n",
       "      <td>9984670.0</td>\n",
       "    </tr>\n",
       "    <tr>\n",
       "      <th>7</th>\n",
       "      <td>Democratic Republic of the Congo</td>\n",
       "      <td>70916439</td>\n",
       "      <td>2345410.0</td>\n",
       "    </tr>\n",
       "    <tr>\n",
       "      <th>8</th>\n",
       "      <td>China</td>\n",
       "      <td>1330044000</td>\n",
       "      <td>9596960.0</td>\n",
       "    </tr>\n",
       "    <tr>\n",
       "      <th>9</th>\n",
       "      <td>Colombia</td>\n",
       "      <td>47790000</td>\n",
       "      <td>1138910.0</td>\n",
       "    </tr>\n",
       "    <tr>\n",
       "      <th>10</th>\n",
       "      <td>Algeria</td>\n",
       "      <td>34586184</td>\n",
       "      <td>2381740.0</td>\n",
       "    </tr>\n",
       "    <tr>\n",
       "      <th>11</th>\n",
       "      <td>Egypt</td>\n",
       "      <td>80471869</td>\n",
       "      <td>1001450.0</td>\n",
       "    </tr>\n",
       "    <tr>\n",
       "      <th>12</th>\n",
       "      <td>Ethiopia</td>\n",
       "      <td>88013491</td>\n",
       "      <td>1127127.0</td>\n",
       "    </tr>\n",
       "    <tr>\n",
       "      <th>13</th>\n",
       "      <td>Greenland</td>\n",
       "      <td>56375</td>\n",
       "      <td>2166086.0</td>\n",
       "    </tr>\n",
       "    <tr>\n",
       "      <th>14</th>\n",
       "      <td>Indonesia</td>\n",
       "      <td>242968342</td>\n",
       "      <td>1919440.0</td>\n",
       "    </tr>\n",
       "    <tr>\n",
       "      <th>15</th>\n",
       "      <td>India</td>\n",
       "      <td>1173108018</td>\n",
       "      <td>3287590.0</td>\n",
       "    </tr>\n",
       "    <tr>\n",
       "      <th>16</th>\n",
       "      <td>Iran</td>\n",
       "      <td>76923300</td>\n",
       "      <td>1648000.0</td>\n",
       "    </tr>\n",
       "    <tr>\n",
       "      <th>17</th>\n",
       "      <td>Kazakhstan</td>\n",
       "      <td>15340000</td>\n",
       "      <td>2717300.0</td>\n",
       "    </tr>\n",
       "    <tr>\n",
       "      <th>18</th>\n",
       "      <td>Libya</td>\n",
       "      <td>6461454</td>\n",
       "      <td>1759540.0</td>\n",
       "    </tr>\n",
       "    <tr>\n",
       "      <th>19</th>\n",
       "      <td>Mali</td>\n",
       "      <td>13796354</td>\n",
       "      <td>1240000.0</td>\n",
       "    </tr>\n",
       "    <tr>\n",
       "      <th>20</th>\n",
       "      <td>Mongolia</td>\n",
       "      <td>3086918</td>\n",
       "      <td>1565000.0</td>\n",
       "    </tr>\n",
       "    <tr>\n",
       "      <th>21</th>\n",
       "      <td>Mauritania</td>\n",
       "      <td>3205060</td>\n",
       "      <td>1030700.0</td>\n",
       "    </tr>\n",
       "    <tr>\n",
       "      <th>22</th>\n",
       "      <td>Mexico</td>\n",
       "      <td>112468855</td>\n",
       "      <td>1972550.0</td>\n",
       "    </tr>\n",
       "    <tr>\n",
       "      <th>23</th>\n",
       "      <td>Niger</td>\n",
       "      <td>15878271</td>\n",
       "      <td>1267000.0</td>\n",
       "    </tr>\n",
       "    <tr>\n",
       "      <th>24</th>\n",
       "      <td>Peru</td>\n",
       "      <td>29907003</td>\n",
       "      <td>1285220.0</td>\n",
       "    </tr>\n",
       "    <tr>\n",
       "      <th>25</th>\n",
       "      <td>Russia</td>\n",
       "      <td>140702000</td>\n",
       "      <td>17100000.0</td>\n",
       "    </tr>\n",
       "    <tr>\n",
       "      <th>26</th>\n",
       "      <td>Saudi Arabia</td>\n",
       "      <td>25731776</td>\n",
       "      <td>1960582.0</td>\n",
       "    </tr>\n",
       "    <tr>\n",
       "      <th>27</th>\n",
       "      <td>Sudan</td>\n",
       "      <td>35000000</td>\n",
       "      <td>1861484.0</td>\n",
       "    </tr>\n",
       "    <tr>\n",
       "      <th>28</th>\n",
       "      <td>Chad</td>\n",
       "      <td>10543464</td>\n",
       "      <td>1284000.0</td>\n",
       "    </tr>\n",
       "    <tr>\n",
       "      <th>29</th>\n",
       "      <td>United States</td>\n",
       "      <td>310232863</td>\n",
       "      <td>9629091.0</td>\n",
       "    </tr>\n",
       "    <tr>\n",
       "      <th>30</th>\n",
       "      <td>South Africa</td>\n",
       "      <td>49000000</td>\n",
       "      <td>1219912.0</td>\n",
       "    </tr>\n",
       "  </tbody>\n",
       "</table>\n",
       "</div>"
      ],
      "text/plain": [
       "                                name  population        area\n",
       "0                             Angola    13068161   1246700.0\n",
       "1                         Antarctica           0  14000000.0\n",
       "2                          Argentina    41343201   2766890.0\n",
       "3                          Australia    21515754   7686850.0\n",
       "4                            Bolivia     9947418   1098580.0\n",
       "5                             Brazil   201103330   8511965.0\n",
       "6                             Canada    33679000   9984670.0\n",
       "7   Democratic Republic of the Congo    70916439   2345410.0\n",
       "8                              China  1330044000   9596960.0\n",
       "9                           Colombia    47790000   1138910.0\n",
       "10                           Algeria    34586184   2381740.0\n",
       "11                             Egypt    80471869   1001450.0\n",
       "12                          Ethiopia    88013491   1127127.0\n",
       "13                         Greenland       56375   2166086.0\n",
       "14                         Indonesia   242968342   1919440.0\n",
       "15                             India  1173108018   3287590.0\n",
       "16                              Iran    76923300   1648000.0\n",
       "17                        Kazakhstan    15340000   2717300.0\n",
       "18                             Libya     6461454   1759540.0\n",
       "19                              Mali    13796354   1240000.0\n",
       "20                          Mongolia     3086918   1565000.0\n",
       "21                        Mauritania     3205060   1030700.0\n",
       "22                            Mexico   112468855   1972550.0\n",
       "23                             Niger    15878271   1267000.0\n",
       "24                              Peru    29907003   1285220.0\n",
       "25                            Russia   140702000  17100000.0\n",
       "26                      Saudi Arabia    25731776   1960582.0\n",
       "27                             Sudan    35000000   1861484.0\n",
       "28                              Chad    10543464   1284000.0\n",
       "29                     United States   310232863   9629091.0\n",
       "30                      South Africa    49000000   1219912.0"
      ]
     },
     "execution_count": 21,
     "metadata": {},
     "output_type": "execute_result"
    }
   ],
   "source": [
    "#// BEGIN_TODO [PrEx_ORG_1_2a'] Define query_1a (1 point)\n",
    "\n",
    "pd.read_sql_query(query_1a, conn_1)\n",
    "\n",
    "#// END_TODO [PrEx_ORG_1_2a']"
   ]
  },
  {
   "cell_type": "markdown",
   "metadata": {},
   "source": [
    "Define a query to select the name, population, and area of all\n",
    "countries with an area larger than one million square km and the population is less than ten million, ordered in ascending order on area.\n",
    "\n",
    "Assign your query as string to the variable **`query_1b`**."
   ]
  },
  {
   "cell_type": "code",
   "execution_count": 22,
   "metadata": {},
   "outputs": [
    {
     "data": {
      "text/plain": [
       "'\\n    select name, population, area\\n    from countries\\n    where area > 1000000;\\n'"
      ]
     },
     "execution_count": 22,
     "metadata": {},
     "output_type": "execute_result"
    }
   ],
   "source": [
    "#// BEGIN_TODO [PrEx_ORG_1_2b] Define query_1b (1 point)\n",
    "\n",
    "query_1b = '''\n",
    "    select name, population, area\n",
    "    from countries\n",
    "    where area > 1000000 and population < 10000000\n",
    "    order by area asc;\n",
    "    '''\n",
    "\n",
    "#// END_TODO [PrEx_ORG_1_2b]\n",
    "\n",
    "query_1a"
   ]
  },
  {
   "cell_type": "markdown",
   "metadata": {},
   "source": [
    "Execute the query on the open database, retrieving the result as a Pandas `DataFrame`."
   ]
  },
  {
   "cell_type": "code",
   "execution_count": 23,
   "metadata": {},
   "outputs": [
    {
     "data": {
      "text/html": [
       "<div>\n",
       "<style>\n",
       "    .dataframe thead tr:only-child th {\n",
       "        text-align: right;\n",
       "    }\n",
       "\n",
       "    .dataframe thead th {\n",
       "        text-align: left;\n",
       "    }\n",
       "\n",
       "    .dataframe tbody tr th {\n",
       "        vertical-align: top;\n",
       "    }\n",
       "</style>\n",
       "<table border=\"1\" class=\"dataframe\">\n",
       "  <thead>\n",
       "    <tr style=\"text-align: right;\">\n",
       "      <th></th>\n",
       "      <th>name</th>\n",
       "      <th>population</th>\n",
       "      <th>area</th>\n",
       "    </tr>\n",
       "  </thead>\n",
       "  <tbody>\n",
       "    <tr>\n",
       "      <th>0</th>\n",
       "      <td>Mauritania</td>\n",
       "      <td>3205060</td>\n",
       "      <td>1030700.0</td>\n",
       "    </tr>\n",
       "    <tr>\n",
       "      <th>1</th>\n",
       "      <td>Bolivia</td>\n",
       "      <td>9947418</td>\n",
       "      <td>1098580.0</td>\n",
       "    </tr>\n",
       "    <tr>\n",
       "      <th>2</th>\n",
       "      <td>Mongolia</td>\n",
       "      <td>3086918</td>\n",
       "      <td>1565000.0</td>\n",
       "    </tr>\n",
       "    <tr>\n",
       "      <th>3</th>\n",
       "      <td>Libya</td>\n",
       "      <td>6461454</td>\n",
       "      <td>1759540.0</td>\n",
       "    </tr>\n",
       "    <tr>\n",
       "      <th>4</th>\n",
       "      <td>Greenland</td>\n",
       "      <td>56375</td>\n",
       "      <td>2166086.0</td>\n",
       "    </tr>\n",
       "    <tr>\n",
       "      <th>5</th>\n",
       "      <td>Antarctica</td>\n",
       "      <td>0</td>\n",
       "      <td>14000000.0</td>\n",
       "    </tr>\n",
       "  </tbody>\n",
       "</table>\n",
       "</div>"
      ],
      "text/plain": [
       "         name  population        area\n",
       "0  Mauritania     3205060   1030700.0\n",
       "1     Bolivia     9947418   1098580.0\n",
       "2    Mongolia     3086918   1565000.0\n",
       "3       Libya     6461454   1759540.0\n",
       "4   Greenland       56375   2166086.0\n",
       "5  Antarctica           0  14000000.0"
      ]
     },
     "execution_count": 23,
     "metadata": {},
     "output_type": "execute_result"
    }
   ],
   "source": [
    "#// BEGIN_TODO [PrEx_ORG_1_2b'] Define query_1b (1 point)\n",
    "\n",
    "pd.read_sql_query(query_1b, conn_1)\n",
    "\n",
    "#// END_TODO [PrEx_ORG_1_2b']"
   ]
  },
  {
   "cell_type": "markdown",
   "metadata": {},
   "source": [
    "Create a cursor object **`cur_1`** on the county database to execute queries directly."
   ]
  },
  {
   "cell_type": "code",
   "execution_count": 24,
   "metadata": {},
   "outputs": [
    {
     "data": {
      "text/plain": [
       "[('Angola', 13068161, 1246700.0),\n",
       " ('Antarctica', 0, 14000000.0),\n",
       " ('Argentina', 41343201, 2766890.0),\n",
       " ('Australia', 21515754, 7686850.0),\n",
       " ('Bolivia', 9947418, 1098580.0),\n",
       " ('Brazil', 201103330, 8511965.0),\n",
       " ('Canada', 33679000, 9984670.0),\n",
       " ('Democratic Republic of the Congo', 70916439, 2345410.0),\n",
       " ('China', 1330044000, 9596960.0),\n",
       " ('Colombia', 47790000, 1138910.0),\n",
       " ('Algeria', 34586184, 2381740.0),\n",
       " ('Egypt', 80471869, 1001450.0),\n",
       " ('Ethiopia', 88013491, 1127127.0),\n",
       " ('Greenland', 56375, 2166086.0),\n",
       " ('Indonesia', 242968342, 1919440.0),\n",
       " ('India', 1173108018, 3287590.0),\n",
       " ('Iran', 76923300, 1648000.0),\n",
       " ('Kazakhstan', 15340000, 2717300.0),\n",
       " ('Libya', 6461454, 1759540.0),\n",
       " ('Mali', 13796354, 1240000.0),\n",
       " ('Mongolia', 3086918, 1565000.0),\n",
       " ('Mauritania', 3205060, 1030700.0),\n",
       " ('Mexico', 112468855, 1972550.0),\n",
       " ('Niger', 15878271, 1267000.0),\n",
       " ('Peru', 29907003, 1285220.0),\n",
       " ('Russia', 140702000, 17100000.0),\n",
       " ('Saudi Arabia', 25731776, 1960582.0),\n",
       " ('Sudan', 35000000, 1861484.0),\n",
       " ('Chad', 10543464, 1284000.0),\n",
       " ('United States', 310232863, 9629091.0),\n",
       " ('South Africa', 49000000, 1219912.0)]"
      ]
     },
     "execution_count": 24,
     "metadata": {},
     "output_type": "execute_result"
    }
   ],
   "source": [
    "#// BEGIN_TODO [PrEx_ORG_1_2c] Create cursor object (1 point)\n",
    "\n",
    "cur_1 = conn_1.cursor()\n",
    "cur_1.execute(query_1a)\n",
    "cur_1.fetchall()\n",
    "\n",
    "#// END_TODO [PrEx_ORG_1_2c]"
   ]
  },
  {
   "cell_type": "markdown",
   "metadata": {},
   "source": [
    "Define a query to update the country database and set the population for Antarctica to one thousand.\n",
    "\n",
    "Assign your query as string to the variable **`query_1d`**."
   ]
  },
  {
   "cell_type": "code",
   "execution_count": 25,
   "metadata": {},
   "outputs": [
    {
     "data": {
      "text/plain": [
       "'\\n    update countries\\n    set population = 1000\\n    where name = \"Antarctica\";\\n    '"
      ]
     },
     "execution_count": 25,
     "metadata": {},
     "output_type": "execute_result"
    }
   ],
   "source": [
    "#// BEGIN_TODO [PrEx_ORG_1_2d] Define query_1d (1 point)\n",
    "\n",
    "query_1d = '''\n",
    "    update countries\n",
    "    set population = 1000\n",
    "    where name = \"Antarctica\";\n",
    "    '''\n",
    "\n",
    "#// END_TODO [PrEx_ORG_1_2d]\n",
    "\n",
    "query_1d"
   ]
  },
  {
   "cell_type": "markdown",
   "metadata": {},
   "source": [
    "Execute the query via the cursor object."
   ]
  },
  {
   "cell_type": "code",
   "execution_count": 26,
   "metadata": {},
   "outputs": [
    {
     "data": {
      "text/plain": [
       "<sqlite3.Cursor at 0x117cefea0>"
      ]
     },
     "execution_count": 26,
     "metadata": {},
     "output_type": "execute_result"
    }
   ],
   "source": [
    "#// BEGIN_TODO [PrEx_ORG_1_2e] Execute query_1d via cursor (1 point)\n",
    "\n",
    "cur_1.execute(query_1d)\n",
    "\n",
    "#// END_TODO [PrEx_ORG_1_2e]"
   ]
  },
  {
   "cell_type": "markdown",
   "metadata": {},
   "source": [
    "### Step 3. Commit the change to database.\n",
    "\n",
    "Commit the preceding change to the database."
   ]
  },
  {
   "cell_type": "code",
   "execution_count": 27,
   "metadata": {
    "collapsed": true
   },
   "outputs": [],
   "source": [
    "#// BEGIN_TODO [PrEx_ORG_1_3] Commit changes (1 point)\n",
    "\n",
    "conn_1.commit()\n",
    "\n",
    "#// END_TODO [PrEx_ORG_1_3]"
   ]
  },
  {
   "cell_type": "markdown",
   "metadata": {},
   "source": [
    "Define a query to verify the preceding update,\n",
    "by selecting name and population for Antarctica.\n",
    "\n",
    "Assign your query as string to the variable **`query_3a`**."
   ]
  },
  {
   "cell_type": "code",
   "execution_count": 28,
   "metadata": {},
   "outputs": [
    {
     "data": {
      "text/plain": [
       "'\\n    select name, population\\n    from countries\\n    where name =\"Antarctica\"\\n    '"
      ]
     },
     "execution_count": 28,
     "metadata": {},
     "output_type": "execute_result"
    }
   ],
   "source": [
    "#// BEGIN_TODO [PrEx_ORG_1_3a] Define query_3a (1 point)\n",
    "\n",
    "query_3a = '''\n",
    "    select name, population\n",
    "    from countries\n",
    "    where name =\"Antarctica\"\n",
    "    '''\n",
    "\n",
    "#// END_TODO [PrEx_ORG_1_3a]\n",
    "\n",
    "query_3a"
   ]
  },
  {
   "cell_type": "markdown",
   "metadata": {},
   "source": [
    "Execute the query via the cursor object and fetch all the results."
   ]
  },
  {
   "cell_type": "code",
   "execution_count": 29,
   "metadata": {},
   "outputs": [
    {
     "data": {
      "text/plain": [
       "[('Antarctica', 1000)]"
      ]
     },
     "execution_count": 29,
     "metadata": {},
     "output_type": "execute_result"
    }
   ],
   "source": [
    "#// BEGIN_TODO [PrEx_ORG_1_3a'] Execute query_1d via cursor (1 point)\n",
    "\n",
    "cur_1.execute(query_3a)\n",
    "cur_1.fetchall()\n",
    "\n",
    "#// END_TODO [PrEx_ORG_1_3a']"
   ]
  },
  {
   "cell_type": "markdown",
   "metadata": {},
   "source": [
    "### Step 4. Close connection to database\n",
    "\n",
    "Close the connection to the country database."
   ]
  },
  {
   "cell_type": "code",
   "execution_count": 30,
   "metadata": {
    "collapsed": true
   },
   "outputs": [],
   "source": [
    "#// BEGIN_TODO [PrEx_ORG_1_4] Close the country database (1 point)\n",
    "\n",
    "conn_1.close()\n",
    "\n",
    "#// END_TODO [PrEx_ORG_1_4]"
   ]
  },
  {
   "cell_type": "markdown",
   "metadata": {},
   "source": [
    "# 2. SQLite Extras (optional)\n",
    "\n",
    "We now discuss some useful extra features:\n",
    "\n",
    "* Placeholders\n",
    "* Executing a SQL statement for multiple values\n",
    "\n",
    "First, we reconnect to the database and create a cursor object:"
   ]
  },
  {
   "cell_type": "code",
   "execution_count": 31,
   "metadata": {
    "collapsed": true
   },
   "outputs": [],
   "source": [
    "conn = sqlite3.connect('countries.db')\n",
    "cur = conn.cursor()"
   ]
  },
  {
   "cell_type": "markdown",
   "metadata": {},
   "source": [
    "### Placeholders\n",
    "\n",
    "If you need to make several similar queries or updates,\n",
    "then you can work with **placeholders** in the SQL statement,\n",
    "and provide _concrete values_ when executing it.\n",
    "That way, you can use the same SQL statement repeatedly,\n",
    "and only vary the values.\n",
    "\n",
    "SQL uses the _question mark_ ('**`?`**') as placeholder.\n",
    "Here are two example SQL statements with placeholders:"
   ]
  },
  {
   "cell_type": "code",
   "execution_count": 32,
   "metadata": {
    "collapsed": true
   },
   "outputs": [],
   "source": [
    "get_population = '''\n",
    "    select name, population\n",
    "    from countries\n",
    "    where name = ?;\n",
    "'''\n",
    "update_population = '''\n",
    "    update countries\n",
    "    set population = ?\n",
    "    where name = ?;\n",
    "'''"
   ]
  },
  {
   "cell_type": "markdown",
   "metadata": {},
   "source": [
    "### Placeholders and `pd.read_sql_query()`\n",
    "\n",
    "We get the population of Canada by supplying **`read_sql_query()`** with\n",
    "\n",
    "* the SQL query `get_population` having a placeholder, and\n",
    "* the optional keyword argument **`params=[\"Canada\"]`**."
   ]
  },
  {
   "cell_type": "code",
   "execution_count": 33,
   "metadata": {},
   "outputs": [
    {
     "data": {
      "text/html": [
       "<div>\n",
       "<style>\n",
       "    .dataframe thead tr:only-child th {\n",
       "        text-align: right;\n",
       "    }\n",
       "\n",
       "    .dataframe thead th {\n",
       "        text-align: left;\n",
       "    }\n",
       "\n",
       "    .dataframe tbody tr th {\n",
       "        vertical-align: top;\n",
       "    }\n",
       "</style>\n",
       "<table border=\"1\" class=\"dataframe\">\n",
       "  <thead>\n",
       "    <tr style=\"text-align: right;\">\n",
       "      <th></th>\n",
       "      <th>name</th>\n",
       "      <th>population</th>\n",
       "    </tr>\n",
       "  </thead>\n",
       "  <tbody>\n",
       "    <tr>\n",
       "      <th>0</th>\n",
       "      <td>Canada</td>\n",
       "      <td>33679000</td>\n",
       "    </tr>\n",
       "  </tbody>\n",
       "</table>\n",
       "</div>"
      ],
      "text/plain": [
       "     name  population\n",
       "0  Canada    33679000"
      ]
     },
     "execution_count": 33,
     "metadata": {},
     "output_type": "execute_result"
    }
   ],
   "source": [
    "pd.read_sql_query(get_population, conn, params=[\"Canada\"])"
   ]
  },
  {
   "cell_type": "markdown",
   "metadata": {},
   "source": [
    "> **NOTE**: The argument `params` must be assigned a _list_ of values,\n",
    "> one for each placeholder in the SQL statement, in order of appearance."
   ]
  },
  {
   "cell_type": "markdown",
   "metadata": {},
   "source": [
    "### Placeholders and `execute()`\n",
    "\n",
    "To update this value to a more recent value\n",
    "([36,771,617 on 12 Dec 2017](http://www.worldometers.info/world-population/population-by-country/)),\n",
    "we execute the SQL statement `update_population`.\n",
    "This time, we supply **`execute()`** with an extra positional argument **`[36_771_617, \"Canada\"]`**,\n",
    "since there are now two placeholders to be substituted\n",
    "(first: a population value; second: a country name)."
   ]
  },
  {
   "cell_type": "code",
   "execution_count": 34,
   "metadata": {
    "collapsed": true
   },
   "outputs": [],
   "source": [
    "cur.execute(update_population, [36_771_617, \"Canada\"]);"
   ]
  },
  {
   "cell_type": "markdown",
   "metadata": {},
   "source": [
    "> **NOTE**: The syntax for numbers in SQL statements differs from that for Python code.\n",
    "> Python accepts underscores to improve readability, but SQL does not.\n",
    ">\n",
    "> In the example above,\n",
    "> the Python literal `36_771_617` is converted into SQL syntax by `execute()`."
   ]
  },
  {
   "cell_type": "markdown",
   "metadata": {},
   "source": [
    "Let's inspect the change:"
   ]
  },
  {
   "cell_type": "code",
   "execution_count": 35,
   "metadata": {},
   "outputs": [
    {
     "data": {
      "text/html": [
       "<div>\n",
       "<style>\n",
       "    .dataframe thead tr:only-child th {\n",
       "        text-align: right;\n",
       "    }\n",
       "\n",
       "    .dataframe thead th {\n",
       "        text-align: left;\n",
       "    }\n",
       "\n",
       "    .dataframe tbody tr th {\n",
       "        vertical-align: top;\n",
       "    }\n",
       "</style>\n",
       "<table border=\"1\" class=\"dataframe\">\n",
       "  <thead>\n",
       "    <tr style=\"text-align: right;\">\n",
       "      <th></th>\n",
       "      <th>name</th>\n",
       "      <th>population</th>\n",
       "    </tr>\n",
       "  </thead>\n",
       "  <tbody>\n",
       "    <tr>\n",
       "      <th>0</th>\n",
       "      <td>Canada</td>\n",
       "      <td>36771617</td>\n",
       "    </tr>\n",
       "  </tbody>\n",
       "</table>\n",
       "</div>"
      ],
      "text/plain": [
       "     name  population\n",
       "0  Canada    36771617"
      ]
     },
     "execution_count": 35,
     "metadata": {},
     "output_type": "execute_result"
    }
   ],
   "source": [
    "pd.read_sql_query(get_population, conn, params=[\"Canada\"])"
   ]
  },
  {
   "cell_type": "markdown",
   "metadata": {},
   "source": [
    "### Placeholders and `executemany()`\n",
    "\n",
    "Placeholders pay off even more,\n",
    "when the same SQL statement is used for multiple lists of concrete values.\n",
    "\n",
    "Let's illustrate this by updating our database with more up to date population counts\n",
    "(same source as above):\n",
    "\n",
    "| Country | Population |\n",
    "| :------ | ---------: |\n",
    "| China   | 1,409,517,397 |\n",
    "| India   | 1,339,180,127 |\n",
    "| United States | 324,459,463 |\n",
    "\n",
    "First, we inspect these population values in the database:"
   ]
  },
  {
   "cell_type": "code",
   "execution_count": 36,
   "metadata": {},
   "outputs": [
    {
     "data": {
      "text/html": [
       "<div>\n",
       "<style>\n",
       "    .dataframe thead tr:only-child th {\n",
       "        text-align: right;\n",
       "    }\n",
       "\n",
       "    .dataframe thead th {\n",
       "        text-align: left;\n",
       "    }\n",
       "\n",
       "    .dataframe tbody tr th {\n",
       "        vertical-align: top;\n",
       "    }\n",
       "</style>\n",
       "<table border=\"1\" class=\"dataframe\">\n",
       "  <thead>\n",
       "    <tr style=\"text-align: right;\">\n",
       "      <th></th>\n",
       "      <th>name</th>\n",
       "      <th>population</th>\n",
       "    </tr>\n",
       "  </thead>\n",
       "  <tbody>\n",
       "    <tr>\n",
       "      <th>0</th>\n",
       "      <td>China</td>\n",
       "      <td>1330044000</td>\n",
       "    </tr>\n",
       "    <tr>\n",
       "      <th>1</th>\n",
       "      <td>India</td>\n",
       "      <td>1173108018</td>\n",
       "    </tr>\n",
       "    <tr>\n",
       "      <th>2</th>\n",
       "      <td>United States</td>\n",
       "      <td>310232863</td>\n",
       "    </tr>\n",
       "  </tbody>\n",
       "</table>\n",
       "</div>"
      ],
      "text/plain": [
       "            name  population\n",
       "0          China  1330044000\n",
       "1          India  1173108018\n",
       "2  United States   310232863"
      ]
     },
     "execution_count": 36,
     "metadata": {},
     "output_type": "execute_result"
    }
   ],
   "source": [
    "get_pop_top3 = '''\n",
    "    select name, population\n",
    "    from countries\n",
    "    where name in (\"China\", \"India\", \"United States\");\n",
    "'''\n",
    "pd.read_sql_query(get_pop_top3, conn)"
   ]
  },
  {
   "cell_type": "markdown",
   "metadata": {},
   "source": [
    "They are indeed outdated.\n",
    "Now we update them all using **`executemany()`**,\n",
    "supplying it with a list of country-population pairs:"
   ]
  },
  {
   "cell_type": "code",
   "execution_count": 37,
   "metadata": {
    "collapsed": true
   },
   "outputs": [],
   "source": [
    "values = [[1_409_517_397, \"China\"],\n",
    "          [1_339_180_127, \"India\"],\n",
    "          [324_459_463, \"United States\"]]\n",
    "cur.executemany(update_population, values);"
   ]
  },
  {
   "cell_type": "markdown",
   "metadata": {},
   "source": [
    "Let's check:"
   ]
  },
  {
   "cell_type": "code",
   "execution_count": 38,
   "metadata": {},
   "outputs": [
    {
     "data": {
      "text/html": [
       "<div>\n",
       "<style>\n",
       "    .dataframe thead tr:only-child th {\n",
       "        text-align: right;\n",
       "    }\n",
       "\n",
       "    .dataframe thead th {\n",
       "        text-align: left;\n",
       "    }\n",
       "\n",
       "    .dataframe tbody tr th {\n",
       "        vertical-align: top;\n",
       "    }\n",
       "</style>\n",
       "<table border=\"1\" class=\"dataframe\">\n",
       "  <thead>\n",
       "    <tr style=\"text-align: right;\">\n",
       "      <th></th>\n",
       "      <th>name</th>\n",
       "      <th>population</th>\n",
       "    </tr>\n",
       "  </thead>\n",
       "  <tbody>\n",
       "    <tr>\n",
       "      <th>0</th>\n",
       "      <td>China</td>\n",
       "      <td>1409517397</td>\n",
       "    </tr>\n",
       "    <tr>\n",
       "      <th>1</th>\n",
       "      <td>India</td>\n",
       "      <td>1339180127</td>\n",
       "    </tr>\n",
       "    <tr>\n",
       "      <th>2</th>\n",
       "      <td>United States</td>\n",
       "      <td>324459463</td>\n",
       "    </tr>\n",
       "  </tbody>\n",
       "</table>\n",
       "</div>"
      ],
      "text/plain": [
       "            name  population\n",
       "0          China  1409517397\n",
       "1          India  1339180127\n",
       "2  United States   324459463"
      ]
     },
     "execution_count": 38,
     "metadata": {},
     "output_type": "execute_result"
    }
   ],
   "source": [
    "pd.read_sql_query(get_pop_top3, conn)"
   ]
  },
  {
   "cell_type": "markdown",
   "metadata": {},
   "source": [
    "And commit:"
   ]
  },
  {
   "cell_type": "code",
   "execution_count": 39,
   "metadata": {
    "collapsed": true
   },
   "outputs": [],
   "source": [
    "conn.commit()"
   ]
  },
  {
   "cell_type": "markdown",
   "metadata": {},
   "source": [
    "## Exercises 2\n",
    "\n",
    "_There are no exercises._"
   ]
  },
  {
   "cell_type": "markdown",
   "metadata": {},
   "source": [
    "# 3. SQL - Structured Query Language\n",
    "\n",
    "Also see: [W3 Schools - SQL Tutorial](https://www.w3schools.com/sql/).\n",
    "\n",
    "The _Structured Query Language_ consists of several sublanguages:\n",
    "\n",
    "* **DDL** - Data Definition Language (**CREATE**, **ALTER**, **ADD**, **DROP**)\n",
    "* **DML** - Data Manipulation Language (**SELECT**, **INSERT**, **UPDATE**, **DELETE**)\n",
    "* **TCL** - Transaction Control Language (**COMMIT**, **ROLLBACK**)\n",
    "* **DCL** - Data Control Language (dealing with permissions)\n",
    "\n",
    "In these lessons,\n",
    "the Data Manipulation Language is most important, and in particular\n",
    "its **SELECT** statement that _queries_ a database, in order to retrieve selected values.\n",
    "\n",
    "> **NOTE**: There are many dialects of SQL.\n",
    "> We use the _SQLite_ dialect, and try to stay close to the _ANSI standard_.\n",
    "\n",
    "Genereal rules:\n",
    "\n",
    "* SQL is _not_ case sensitive (`SELECT` and `select` are treated the same way).\n",
    "* SQL statements are always terminated by a semicolon ('**`;`**').\n",
    "* To write an identifier that contains spaces or that is the same as a keyword,\n",
    "    enclose it in **double quotes**.\n",
    "* SQL uses **single quotes** to enclose string literals."
   ]
  },
  {
   "cell_type": "markdown",
   "metadata": {},
   "source": [
    "### Select\n",
    "\n",
    "The SQL **SELECT** statement retrieves values from a database and\n",
    "presents the result as a (temporary) table organized in rows and columns.\n",
    "\n",
    "The SELECT statement has a number of required and optional clauses:\n",
    "\n",
    "| Clause | Type | Remarks |\n",
    "| :----- | :--: | :------ |\n",
    "| `SELECT` _`expr1, expr2, ...`_ | Required | `SELECT *` selects all columns; `SELECT DISTINCT ...` |\n",
    "| `FROM` _`table1, table2, ...`_ | Required | |\n",
    "| `... JOIN` _`table`_ `ON` _`condition`_ | Optional | `...` can be `INNER`, `LEFT`, `CROSS` |\n",
    "| `WHERE` _`condition`_ | Optional | Filter on boolean condition before grouping |\n",
    "| `GROUP BY` _`column1, column2, ...`_ | Optional | |\n",
    "| `HAVING` _`condition`_ | Optional | Filter on boolean condition after grouping |\n",
    "| `ORDER BY` _`column1, column2, ...`_ | Optional | Append `DESC` for descending order |\n",
    "| `LIMIT` _`number`_ | Optional | Report only first given number of rows |\n",
    "\n",
    "Numeric expressions _`expr1`_ etc. can contain\n",
    "\n",
    "* _column names_; must be disambiguated by prepending _table name_: `table1.column1`\n",
    "* operators: +, -, *, /, %\n",
    "* functions: MIN, MAX, COUNT, SUM, AVG (these aggregate when `GROUP BY` is used)\n",
    "\n",
    "Boolean conditions can contain\n",
    "\n",
    "* _column names_\n",
    "* comparison operators: =, <>, <, >, <=, >=\n",
    "* boolean operators: NOT, AND, OR\n",
    "\n",
    "> **NOTE**: SQLite does not support `RIGHT` and `OUTER` joins."
   ]
  },
  {
   "cell_type": "markdown",
   "metadata": {},
   "source": [
    "Here is an example query using `GROUP BY` to obtain an overview of\n",
    "\n",
    "* all continents, with for each continent\n",
    "* the number of countries on it\n",
    "* the total population\n",
    "* the maximum population over its countries\n",
    "* the toal area\n",
    "* the maximum area over its countries\n",
    "\n",
    "sorted in descending order on number countries:"
   ]
  },
  {
   "cell_type": "code",
   "execution_count": 40,
   "metadata": {},
   "outputs": [
    {
     "data": {
      "text/html": [
       "<div>\n",
       "<style>\n",
       "    .dataframe thead tr:only-child th {\n",
       "        text-align: right;\n",
       "    }\n",
       "\n",
       "    .dataframe thead th {\n",
       "        text-align: left;\n",
       "    }\n",
       "\n",
       "    .dataframe tbody tr th {\n",
       "        vertical-align: top;\n",
       "    }\n",
       "</style>\n",
       "<table border=\"1\" class=\"dataframe\">\n",
       "  <thead>\n",
       "    <tr style=\"text-align: right;\">\n",
       "      <th></th>\n",
       "      <th>continent</th>\n",
       "      <th>count(name)</th>\n",
       "      <th>sum(population)</th>\n",
       "      <th>max(population)</th>\n",
       "      <th>sum(area)</th>\n",
       "      <th>max(area)</th>\n",
       "    </tr>\n",
       "  </thead>\n",
       "  <tbody>\n",
       "    <tr>\n",
       "      <th>0</th>\n",
       "      <td>AF</td>\n",
       "      <td>58</td>\n",
       "      <td>1016879730</td>\n",
       "      <td>154000000</td>\n",
       "      <td>30360296.00</td>\n",
       "      <td>2381740.0</td>\n",
       "    </tr>\n",
       "    <tr>\n",
       "      <th>1</th>\n",
       "      <td>EU</td>\n",
       "      <td>53</td>\n",
       "      <td>739531963</td>\n",
       "      <td>140702000</td>\n",
       "      <td>23079944.09</td>\n",
       "      <td>17100000.0</td>\n",
       "    </tr>\n",
       "    <tr>\n",
       "      <th>2</th>\n",
       "      <td>AS</td>\n",
       "      <td>52</td>\n",
       "      <td>4376131847</td>\n",
       "      <td>1409517397</td>\n",
       "      <td>31603228.70</td>\n",
       "      <td>9596960.0</td>\n",
       "    </tr>\n",
       "    <tr>\n",
       "      <th>3</th>\n",
       "      <td>NA</td>\n",
       "      <td>42</td>\n",
       "      <td>557424260</td>\n",
       "      <td>324459463</td>\n",
       "      <td>24512514.00</td>\n",
       "      <td>9984670.0</td>\n",
       "    </tr>\n",
       "    <tr>\n",
       "      <th>4</th>\n",
       "      <td>OC</td>\n",
       "      <td>27</td>\n",
       "      <td>36066049</td>\n",
       "      <td>21515754</td>\n",
       "      <td>8523505.90</td>\n",
       "      <td>7686850.0</td>\n",
       "    </tr>\n",
       "    <tr>\n",
       "      <th>5</th>\n",
       "      <td>SA</td>\n",
       "      <td>14</td>\n",
       "      <td>400143568</td>\n",
       "      <td>201103330</td>\n",
       "      <td>17818508.00</td>\n",
       "      <td>8511965.0</td>\n",
       "    </tr>\n",
       "    <tr>\n",
       "      <th>6</th>\n",
       "      <td>AN</td>\n",
       "      <td>5</td>\n",
       "      <td>1170</td>\n",
       "      <td>1000</td>\n",
       "      <td>14012193.00</td>\n",
       "      <td>14000000.0</td>\n",
       "    </tr>\n",
       "  </tbody>\n",
       "</table>\n",
       "</div>"
      ],
      "text/plain": [
       "  continent  count(name)  sum(population)  max(population)    sum(area)  \\\n",
       "0        AF           58       1016879730        154000000  30360296.00   \n",
       "1        EU           53        739531963        140702000  23079944.09   \n",
       "2        AS           52       4376131847       1409517397  31603228.70   \n",
       "3        NA           42        557424260        324459463  24512514.00   \n",
       "4        OC           27         36066049         21515754   8523505.90   \n",
       "5        SA           14        400143568        201103330  17818508.00   \n",
       "6        AN            5             1170             1000  14012193.00   \n",
       "\n",
       "    max(area)  \n",
       "0   2381740.0  \n",
       "1  17100000.0  \n",
       "2   9596960.0  \n",
       "3   9984670.0  \n",
       "4   7686850.0  \n",
       "5   8511965.0  \n",
       "6  14000000.0  "
      ]
     },
     "execution_count": 40,
     "metadata": {},
     "output_type": "execute_result"
    }
   ],
   "source": [
    "query = '''\n",
    "    select continent, count(name), sum(population), max(population), sum(area), max(area)\n",
    "    from countries\n",
    "    group by continent\n",
    "    order by count(name) desc;\n",
    "'''\n",
    "pd.read_sql_query(query, conn)"
   ]
  },
  {
   "cell_type": "markdown",
   "metadata": {},
   "source": [
    "### Joining tables\n",
    "\n",
    "Let's first add the continent names as a new table:"
   ]
  },
  {
   "cell_type": "code",
   "execution_count": 41,
   "metadata": {},
   "outputs": [
    {
     "data": {
      "text/html": [
       "<div>\n",
       "<style>\n",
       "    .dataframe thead tr:only-child th {\n",
       "        text-align: right;\n",
       "    }\n",
       "\n",
       "    .dataframe thead th {\n",
       "        text-align: left;\n",
       "    }\n",
       "\n",
       "    .dataframe tbody tr th {\n",
       "        vertical-align: top;\n",
       "    }\n",
       "</style>\n",
       "<table border=\"1\" class=\"dataframe\">\n",
       "  <thead>\n",
       "    <tr style=\"text-align: right;\">\n",
       "      <th></th>\n",
       "      <th>index</th>\n",
       "      <th>name</th>\n",
       "    </tr>\n",
       "  </thead>\n",
       "  <tbody>\n",
       "    <tr>\n",
       "      <th>0</th>\n",
       "      <td>AF</td>\n",
       "      <td>Africa</td>\n",
       "    </tr>\n",
       "    <tr>\n",
       "      <th>1</th>\n",
       "      <td>AN</td>\n",
       "      <td>Antarctica</td>\n",
       "    </tr>\n",
       "    <tr>\n",
       "      <th>2</th>\n",
       "      <td>AS</td>\n",
       "      <td>Asia</td>\n",
       "    </tr>\n",
       "    <tr>\n",
       "      <th>3</th>\n",
       "      <td>EU</td>\n",
       "      <td>Europe</td>\n",
       "    </tr>\n",
       "    <tr>\n",
       "      <th>4</th>\n",
       "      <td>NA</td>\n",
       "      <td>North America</td>\n",
       "    </tr>\n",
       "    <tr>\n",
       "      <th>5</th>\n",
       "      <td>OC</td>\n",
       "      <td>Oceania</td>\n",
       "    </tr>\n",
       "    <tr>\n",
       "      <th>6</th>\n",
       "      <td>SA</td>\n",
       "      <td>South America</td>\n",
       "    </tr>\n",
       "  </tbody>\n",
       "</table>\n",
       "</div>"
      ],
      "text/plain": [
       "  index           name\n",
       "0    AF         Africa\n",
       "1    AN     Antarctica\n",
       "2    AS           Asia\n",
       "3    EU         Europe\n",
       "4    NA  North America\n",
       "5    OC        Oceania\n",
       "6    SA  South America"
      ]
     },
     "execution_count": 41,
     "metadata": {},
     "output_type": "execute_result"
    }
   ],
   "source": [
    "continents = pd.DataFrame(\n",
    "    ['Africa',\n",
    "     'Antarctica',\n",
    "     'Asia',\n",
    "     'Europe',\n",
    "     'North America',\n",
    "     'Oceania',\n",
    "     'South America',\n",
    "    ],\n",
    "    index=['AF', 'AN', 'AS', 'EU', 'NA', 'OC', 'SA'],\n",
    "    columns=['name']\n",
    ")\n",
    "continents.to_sql('continents', conn, if_exists='replace')\n",
    "pd.read_sql_query('select * from continents;', conn)"
   ]
  },
  {
   "cell_type": "markdown",
   "metadata": {},
   "source": [
    "Now, let's **join** data from the two tables\n",
    "\n",
    "* `countries` and\n",
    "* `continents`,\n",
    "\n",
    "in such a way that each row of `continents` will also show the full name of the continent\n",
    "for that country.\n",
    "\n",
    "Note that the column `'continent'` in `countries` uses the exact same encoding for continents\n",
    "as the column '`index`' of `continents`.\n",
    "It serves as the **primary key** in `continents`.\n",
    "\n",
    "We want to keep all rows of `countries`, and copy in the name from `continent`."
   ]
  },
  {
   "cell_type": "code",
   "execution_count": 42,
   "metadata": {},
   "outputs": [
    {
     "data": {
      "text/html": [
       "<div>\n",
       "<style>\n",
       "    .dataframe thead tr:only-child th {\n",
       "        text-align: right;\n",
       "    }\n",
       "\n",
       "    .dataframe thead th {\n",
       "        text-align: left;\n",
       "    }\n",
       "\n",
       "    .dataframe tbody tr th {\n",
       "        vertical-align: top;\n",
       "    }\n",
       "</style>\n",
       "<table border=\"1\" class=\"dataframe\">\n",
       "  <thead>\n",
       "    <tr style=\"text-align: right;\">\n",
       "      <th></th>\n",
       "      <th>name</th>\n",
       "      <th>capital</th>\n",
       "      <th>continent</th>\n",
       "      <th>population</th>\n",
       "    </tr>\n",
       "  </thead>\n",
       "  <tbody>\n",
       "    <tr>\n",
       "      <th>0</th>\n",
       "      <td>China</td>\n",
       "      <td>Beijing</td>\n",
       "      <td>Asia</td>\n",
       "      <td>1409517397</td>\n",
       "    </tr>\n",
       "    <tr>\n",
       "      <th>1</th>\n",
       "      <td>India</td>\n",
       "      <td>New Delhi</td>\n",
       "      <td>Asia</td>\n",
       "      <td>1339180127</td>\n",
       "    </tr>\n",
       "    <tr>\n",
       "      <th>2</th>\n",
       "      <td>United States</td>\n",
       "      <td>Washington</td>\n",
       "      <td>North America</td>\n",
       "      <td>324459463</td>\n",
       "    </tr>\n",
       "    <tr>\n",
       "      <th>3</th>\n",
       "      <td>Indonesia</td>\n",
       "      <td>Jakarta</td>\n",
       "      <td>Asia</td>\n",
       "      <td>242968342</td>\n",
       "    </tr>\n",
       "    <tr>\n",
       "      <th>4</th>\n",
       "      <td>Brazil</td>\n",
       "      <td>Brasilia</td>\n",
       "      <td>South America</td>\n",
       "      <td>201103330</td>\n",
       "    </tr>\n",
       "    <tr>\n",
       "      <th>5</th>\n",
       "      <td>Pakistan</td>\n",
       "      <td>Islamabad</td>\n",
       "      <td>Asia</td>\n",
       "      <td>184404791</td>\n",
       "    </tr>\n",
       "    <tr>\n",
       "      <th>6</th>\n",
       "      <td>Bangladesh</td>\n",
       "      <td>Dhaka</td>\n",
       "      <td>Asia</td>\n",
       "      <td>156118464</td>\n",
       "    </tr>\n",
       "    <tr>\n",
       "      <th>7</th>\n",
       "      <td>Nigeria</td>\n",
       "      <td>Abuja</td>\n",
       "      <td>Africa</td>\n",
       "      <td>154000000</td>\n",
       "    </tr>\n",
       "    <tr>\n",
       "      <th>8</th>\n",
       "      <td>Russia</td>\n",
       "      <td>Moscow</td>\n",
       "      <td>Europe</td>\n",
       "      <td>140702000</td>\n",
       "    </tr>\n",
       "    <tr>\n",
       "      <th>9</th>\n",
       "      <td>Japan</td>\n",
       "      <td>Tokyo</td>\n",
       "      <td>Asia</td>\n",
       "      <td>127288000</td>\n",
       "    </tr>\n",
       "  </tbody>\n",
       "</table>\n",
       "</div>"
      ],
      "text/plain": [
       "            name     capital      continent  population\n",
       "0          China     Beijing           Asia  1409517397\n",
       "1          India   New Delhi           Asia  1339180127\n",
       "2  United States  Washington  North America   324459463\n",
       "3      Indonesia     Jakarta           Asia   242968342\n",
       "4         Brazil    Brasilia  South America   201103330\n",
       "5       Pakistan   Islamabad           Asia   184404791\n",
       "6     Bangladesh       Dhaka           Asia   156118464\n",
       "7        Nigeria       Abuja         Africa   154000000\n",
       "8         Russia      Moscow         Europe   140702000\n",
       "9          Japan       Tokyo           Asia   127288000"
      ]
     },
     "execution_count": 42,
     "metadata": {},
     "output_type": "execute_result"
    }
   ],
   "source": [
    "query = '''\n",
    "    select countries.name, capital, continents.name as continent, population\n",
    "    from countries, continents\n",
    "    where countries.continent = continents.\"index\" and population > 10000000\n",
    "    order by population desc\n",
    "    limit 10;\n",
    "'''\n",
    "pd.read_sql_query(query, conn)"
   ]
  },
  {
   "cell_type": "markdown",
   "metadata": {},
   "source": [
    "> **NOTES**\n",
    "> * The column name `name` appears in both tables `countries` and `continents`.  \n",
    ">     Therefore, we need to prefix it with the table name to disambiguate it.\n",
    "> * In the result, we want the column with continents to be labeled '`continent`'.  \n",
    ">     Therefore, we use the _alias_ `as continent`.\n",
    "> * The column name `index` in table `continents` conflicts with the SQL keyword `INDEX`.  \n",
    ">     Therefore, we need to double-quote it."
   ]
  },
  {
   "cell_type": "markdown",
   "metadata": {},
   "source": [
    "### Self-join\n",
    "\n",
    "A join between a table and itself."
   ]
  },
  {
   "cell_type": "markdown",
   "metadata": {},
   "source": [
    "### Subqueries, or nested queries\n",
    "\n",
    "The result of one `SELECT` query can be combined with another `SELECT` query.\n",
    "\n",
    "For instance, `SELECT` queries can be combined by \n",
    "\n",
    "* **`UNION`** to obtain the union of the `SELECT` query results\n",
    "* **`INTERSECTION`** to obtain the intersection of the `SELECT` query results\n",
    "* **`EXCEPT`** to obtain the rows in the first result without those occurring the second result\n",
    "\n",
    "We give one example using `EXCEPT`.\n",
    "\n",
    "* First, we define and execute a query to select continents\n",
    "    that have countries whose name starts with an 'E'.\n",
    "* Second, we define and execute a query to select continents\n",
    "    that have countries whose area exceeds ten million square km.\n",
    "* Third, we define and execute a query to select continents\n",
    "    that have countries whose name startts with an 'E'\n",
    "    but that do _not_ have countries whose area exceeds ten million square km."
   ]
  },
  {
   "cell_type": "code",
   "execution_count": 43,
   "metadata": {},
   "outputs": [
    {
     "data": {
      "text/html": [
       "<div>\n",
       "<style>\n",
       "    .dataframe thead tr:only-child th {\n",
       "        text-align: right;\n",
       "    }\n",
       "\n",
       "    .dataframe thead th {\n",
       "        text-align: left;\n",
       "    }\n",
       "\n",
       "    .dataframe tbody tr th {\n",
       "        vertical-align: top;\n",
       "    }\n",
       "</style>\n",
       "<table border=\"1\" class=\"dataframe\">\n",
       "  <thead>\n",
       "    <tr style=\"text-align: right;\">\n",
       "      <th></th>\n",
       "      <th>continent</th>\n",
       "    </tr>\n",
       "  </thead>\n",
       "  <tbody>\n",
       "    <tr>\n",
       "      <th>0</th>\n",
       "      <td>SA</td>\n",
       "    </tr>\n",
       "    <tr>\n",
       "      <th>1</th>\n",
       "      <td>EU</td>\n",
       "    </tr>\n",
       "    <tr>\n",
       "      <th>2</th>\n",
       "      <td>AF</td>\n",
       "    </tr>\n",
       "    <tr>\n",
       "      <th>3</th>\n",
       "      <td>AF</td>\n",
       "    </tr>\n",
       "    <tr>\n",
       "      <th>4</th>\n",
       "      <td>AF</td>\n",
       "    </tr>\n",
       "    <tr>\n",
       "      <th>5</th>\n",
       "      <td>AF</td>\n",
       "    </tr>\n",
       "    <tr>\n",
       "      <th>6</th>\n",
       "      <td>NA</td>\n",
       "    </tr>\n",
       "    <tr>\n",
       "      <th>7</th>\n",
       "      <td>OC</td>\n",
       "    </tr>\n",
       "  </tbody>\n",
       "</table>\n",
       "</div>"
      ],
      "text/plain": [
       "  continent\n",
       "0        SA\n",
       "1        EU\n",
       "2        AF\n",
       "3        AF\n",
       "4        AF\n",
       "5        AF\n",
       "6        NA\n",
       "7        OC"
      ]
     },
     "execution_count": 43,
     "metadata": {},
     "output_type": "execute_result"
    }
   ],
   "source": [
    "query_E = '''\n",
    "    select continent\n",
    "    from countries\n",
    "    where name like \\\"E%\\\"\n",
    "'''\n",
    "pd.read_sql_query(query_E, conn)"
   ]
  },
  {
   "cell_type": "code",
   "execution_count": 44,
   "metadata": {},
   "outputs": [
    {
     "data": {
      "text/html": [
       "<div>\n",
       "<style>\n",
       "    .dataframe thead tr:only-child th {\n",
       "        text-align: right;\n",
       "    }\n",
       "\n",
       "    .dataframe thead th {\n",
       "        text-align: left;\n",
       "    }\n",
       "\n",
       "    .dataframe tbody tr th {\n",
       "        vertical-align: top;\n",
       "    }\n",
       "</style>\n",
       "<table border=\"1\" class=\"dataframe\">\n",
       "  <thead>\n",
       "    <tr style=\"text-align: right;\">\n",
       "      <th></th>\n",
       "      <th>continent</th>\n",
       "    </tr>\n",
       "  </thead>\n",
       "  <tbody>\n",
       "    <tr>\n",
       "      <th>0</th>\n",
       "      <td>AN</td>\n",
       "    </tr>\n",
       "    <tr>\n",
       "      <th>1</th>\n",
       "      <td>EU</td>\n",
       "    </tr>\n",
       "  </tbody>\n",
       "</table>\n",
       "</div>"
      ],
      "text/plain": [
       "  continent\n",
       "0        AN\n",
       "1        EU"
      ]
     },
     "execution_count": 44,
     "metadata": {},
     "output_type": "execute_result"
    }
   ],
   "source": [
    "query_L = '''\n",
    "    select continent\n",
    "    from countries\n",
    "    where area > 10000000\n",
    "'''\n",
    "pd.read_sql_query(query_L, conn)"
   ]
  },
  {
   "cell_type": "code",
   "execution_count": 45,
   "metadata": {},
   "outputs": [
    {
     "data": {
      "text/html": [
       "<div>\n",
       "<style>\n",
       "    .dataframe thead tr:only-child th {\n",
       "        text-align: right;\n",
       "    }\n",
       "\n",
       "    .dataframe thead th {\n",
       "        text-align: left;\n",
       "    }\n",
       "\n",
       "    .dataframe tbody tr th {\n",
       "        vertical-align: top;\n",
       "    }\n",
       "</style>\n",
       "<table border=\"1\" class=\"dataframe\">\n",
       "  <thead>\n",
       "    <tr style=\"text-align: right;\">\n",
       "      <th></th>\n",
       "      <th>continent</th>\n",
       "    </tr>\n",
       "  </thead>\n",
       "  <tbody>\n",
       "    <tr>\n",
       "      <th>0</th>\n",
       "      <td>AF</td>\n",
       "    </tr>\n",
       "    <tr>\n",
       "      <th>1</th>\n",
       "      <td>NA</td>\n",
       "    </tr>\n",
       "    <tr>\n",
       "      <th>2</th>\n",
       "      <td>OC</td>\n",
       "    </tr>\n",
       "    <tr>\n",
       "      <th>3</th>\n",
       "      <td>SA</td>\n",
       "    </tr>\n",
       "  </tbody>\n",
       "</table>\n",
       "</div>"
      ],
      "text/plain": [
       "  continent\n",
       "0        AF\n",
       "1        NA\n",
       "2        OC\n",
       "3        SA"
      ]
     },
     "execution_count": 45,
     "metadata": {},
     "output_type": "execute_result"
    }
   ],
   "source": [
    "query_E_except_L = query_E + '''\n",
    "    except\n",
    "''' + query_L\n",
    "pd.read_sql_query(query_E_except_L, conn)"
   ]
  },
  {
   "cell_type": "markdown",
   "metadata": {},
   "source": [
    "### Update\n",
    "\n",
    "| Clause | Type | Remark |\n",
    "| :----- | :--: | :----- |\n",
    "| `UPDATE` _`table`_ | Required | |\n",
    "| `SET` _`column1`_ `=` _`expr1`_ `,` _`column2`_ `=` _`expr2`_ `, ...` | Required | |\n",
    "| `WHERE` _`condition`_ | Optional | |\n",
    "| `ORDER BY` _`column1, column2, ...`_ | Optional | Append `DESC` for descending order |\n",
    "| `LIMIT` _`number`_ | Optional | Update only first given number of rows |\n",
    "\n",
    "For an example, see [above](#3.-Commit-changes-to-database)."
   ]
  },
  {
   "cell_type": "markdown",
   "metadata": {},
   "source": [
    "## Exercises 3\n",
    "\n",
    "Define a query to select those continents that\n",
    "\n",
    "* have countries whose name ends in 'd', and\n",
    "* do _not_ have countries whose population exceeds ten million.\n",
    "\n",
    "Assign the query to variable **`query_3`**."
   ]
  },
  {
   "cell_type": "code",
   "execution_count": 46,
   "metadata": {},
   "outputs": [
    {
     "data": {
      "text/plain": [
       "'\\n    select continent\\n    from countries\\n    where name like \"d%\"\\n    except\\n    select name\\n    from countries\\n    where population > 10000000\\n    '"
      ]
     },
     "execution_count": 46,
     "metadata": {},
     "output_type": "execute_result"
    }
   ],
   "source": [
    "#// BEGIN_TODO [PrEx_ORG_3] Define query_3 (1 point)\n",
    "\n",
    "query_3 = '''\n",
    "    select continent\n",
    "    from countries\n",
    "    where name like \\\"d%\\\"\n",
    "    except\n",
    "    select name\n",
    "    from countries\n",
    "    where population > 10000000\n",
    "    '''\n",
    "\n",
    "#// END_TODO [PrEx_ORG_3]\n",
    "\n",
    "query_3"
   ]
  },
  {
   "cell_type": "markdown",
   "metadata": {},
   "source": [
    "Execute the preceding query.  \n",
    "Note that the connection `conn` should still be open to the country database."
   ]
  },
  {
   "cell_type": "code",
   "execution_count": 47,
   "metadata": {},
   "outputs": [
    {
     "data": {
      "text/html": [
       "<div>\n",
       "<style>\n",
       "    .dataframe thead tr:only-child th {\n",
       "        text-align: right;\n",
       "    }\n",
       "\n",
       "    .dataframe thead th {\n",
       "        text-align: left;\n",
       "    }\n",
       "\n",
       "    .dataframe tbody tr th {\n",
       "        vertical-align: top;\n",
       "    }\n",
       "</style>\n",
       "<table border=\"1\" class=\"dataframe\">\n",
       "  <thead>\n",
       "    <tr style=\"text-align: right;\">\n",
       "      <th></th>\n",
       "      <th>continent</th>\n",
       "    </tr>\n",
       "  </thead>\n",
       "  <tbody>\n",
       "    <tr>\n",
       "      <th>0</th>\n",
       "      <td>AF</td>\n",
       "    </tr>\n",
       "    <tr>\n",
       "      <th>1</th>\n",
       "      <td>EU</td>\n",
       "    </tr>\n",
       "    <tr>\n",
       "      <th>2</th>\n",
       "      <td>NA</td>\n",
       "    </tr>\n",
       "  </tbody>\n",
       "</table>\n",
       "</div>"
      ],
      "text/plain": [
       "  continent\n",
       "0        AF\n",
       "1        EU\n",
       "2        NA"
      ]
     },
     "execution_count": 47,
     "metadata": {},
     "output_type": "execute_result"
    }
   ],
   "source": [
    "#// BEGIN_TODO [PrEx_ORG_3'] Execute query_3 (1 point)\n",
    "\n",
    "pd.read_sql_query(query_3, conn)\n",
    "\n",
    "#// END_TODO [PrEx_ORG_3'] "
   ]
  },
  {
   "cell_type": "markdown",
   "metadata": {},
   "source": [
    "Execute the query"
   ]
  },
  {
   "cell_type": "markdown",
   "metadata": {},
   "source": [
    "Now we close the connection."
   ]
  },
  {
   "cell_type": "code",
   "execution_count": 48,
   "metadata": {
    "collapsed": true
   },
   "outputs": [],
   "source": [
    "conn.close()"
   ]
  },
  {
   "cell_type": "markdown",
   "metadata": {},
   "source": [
    "# 4. Cleaning"
   ]
  },
  {
   "cell_type": "markdown",
   "metadata": {},
   "source": [
    "**Raw data** is often not in a form where it can easily be processed.\n",
    "There can be all kinds of smaller or bigger issues with data.\n",
    "\n",
    "* extra spaces at the begin and/or end of a string\n",
    "* missing values\n",
    "* duplicates\n",
    "* inconsistencies\n",
    "\n",
    "The process of preparing data for further processing is called **data cleaning**.\n",
    "\n",
    "In this section, we deal with a few common issues."
   ]
  },
  {
   "cell_type": "markdown",
   "metadata": {},
   "source": [
    "The following Pandas functions for data frames and series are relevant.\n",
    "\n",
    "Let `df` be a `DataFrame` and `ts` be a `Series` object.\n",
    "Note that `pd` stands for the Pandas library itself.\n",
    "\n",
    "For the examples, we use `country_data`."
   ]
  },
  {
   "cell_type": "markdown",
   "metadata": {},
   "source": [
    "## `df.astype()` to convert to give type\n",
    "\n",
    "With **`df.astype()`** you convert it to a given type.\n",
    "For example, here we convert the population and are to strings:"
   ]
  },
  {
   "cell_type": "code",
   "execution_count": 49,
   "metadata": {},
   "outputs": [
    {
     "data": {
      "text/plain": [
       "0       468.0\n",
       "1     82880.0\n",
       "2    647500.0\n",
       "3       443.0\n",
       "4       102.0\n",
       "Name: area, dtype: object"
      ]
     },
     "execution_count": 49,
     "metadata": {},
     "output_type": "execute_result"
    }
   ],
   "source": [
    "country_data_as_str = country_data.astype(str)\n",
    "country_data_as_str['area'].head()"
   ]
  },
  {
   "cell_type": "markdown",
   "metadata": {},
   "source": [
    "## `pd.to_numeric()` to convert to numeric\n",
    "\n",
    "With **`pd.to_numeric()`** you can convert an argument to a numeric type.\n",
    "The argument can be a _list_ or _Series_."
   ]
  },
  {
   "cell_type": "code",
   "execution_count": 50,
   "metadata": {},
   "outputs": [
    {
     "data": {
      "text/plain": [
       "0       84000\n",
       "1     4975593\n",
       "2    29121286\n",
       "3       86754\n",
       "4       13254\n",
       "Name: population, dtype: int64"
      ]
     },
     "execution_count": 50,
     "metadata": {},
     "output_type": "execute_result"
    }
   ],
   "source": [
    "pd.to_numeric(country_data_as_str['population']).head()"
   ]
  },
  {
   "cell_type": "code",
   "execution_count": 51,
   "metadata": {},
   "outputs": [
    {
     "data": {
      "text/plain": [
       "0       468.0\n",
       "1     82880.0\n",
       "2    647500.0\n",
       "3       443.0\n",
       "4       102.0\n",
       "Name: area, dtype: float64"
      ]
     },
     "execution_count": 51,
     "metadata": {},
     "output_type": "execute_result"
    }
   ],
   "source": [
    "pd.to_numeric(country_data_as_str['area']).head()"
   ]
  },
  {
   "cell_type": "markdown",
   "metadata": {},
   "source": [
    "## `ts.unique()` to find all values once\n",
    "\n",
    "With `ts.unique()` you obtain an array in which each item of the series appears once.\n",
    "The order in the array is in the order of appearance in the series object."
   ]
  },
  {
   "cell_type": "code",
   "execution_count": 52,
   "metadata": {},
   "outputs": [
    {
     "data": {
      "text/plain": [
       "array(['Andorra la Vella', 'Abu Dhabi', 'Kabul', \"St. John's\",\n",
       "       'The Valley', 'Tirana', 'Yerevan', 'Luanda', nan, 'Buenos Aires',\n",
       "       'Pago Pago', 'Vienna', 'Canberra', 'Oranjestad', 'Mariehamn',\n",
       "       'Baku', 'Sarajevo', 'Bridgetown', 'Dhaka', 'Brussels',\n",
       "       'Ouagadougou', 'Sofia', 'Manama', 'Bujumbura', 'Porto-Novo',\n",
       "       'Gustavia', 'Hamilton', 'Bandar Seri Begawan', 'Sucre', 'Brasilia',\n",
       "       'Nassau', 'Thimphu', 'Gaborone', 'Minsk', 'Belmopan', 'Ottawa',\n",
       "       'West Island', 'Kinshasa', 'Bangui', 'Brazzaville', 'Bern',\n",
       "       'Yamoussoukro', 'Avarua', 'Santiago', 'Yaounde', 'Beijing',\n",
       "       'Bogota', 'San Jose', 'Havana', 'Praia', ' Willemstad',\n",
       "       'Flying Fish Cove', 'Nicosia', 'Prague', 'Berlin', 'Djibouti',\n",
       "       'Copenhagen', 'Roseau', 'Santo Domingo', 'Algiers', 'Quito',\n",
       "       'Tallinn', 'Cairo', 'El-Aaiun', 'Asmara', 'Madrid', 'Addis Ababa',\n",
       "       'Helsinki', 'Suva', 'Stanley', 'Palikir', 'Torshavn', 'Paris',\n",
       "       'Libreville', 'London', \"St. George's\", 'Tbilisi', 'Cayenne',\n",
       "       'St Peter Port', 'Accra', 'Gibraltar', 'Nuuk', 'Banjul', 'Conakry',\n",
       "       'Basse-Terre', 'Malabo', 'Athens', 'Grytviken', 'Guatemala City',\n",
       "       'Hagatna', 'Bissau', 'Georgetown', 'Hong Kong', 'Tegucigalpa',\n",
       "       'Zagreb', 'Port-au-Prince', 'Budapest', 'Jakarta', 'Dublin',\n",
       "       'Jerusalem', 'Douglas', 'New Delhi', 'Diego Garcia', 'Baghdad',\n",
       "       'Tehran', 'Reykjavik', 'Rome', 'Saint Helier', 'Kingston', 'Amman',\n",
       "       'Tokyo', 'Nairobi', 'Bishkek', 'Phnom Penh', 'Tarawa', 'Moroni',\n",
       "       'Basseterre', 'Pyongyang', 'Seoul', 'Pristina', 'Kuwait City',\n",
       "       'George Town', 'Astana', 'Vientiane', 'Beirut', 'Castries', 'Vaduz',\n",
       "       'Colombo', 'Monrovia', 'Maseru', 'Vilnius', 'Luxembourg', 'Riga',\n",
       "       'Tripoli', 'Rabat', 'Monaco', 'Chisinau', 'Podgorica', 'Marigot',\n",
       "       'Antananarivo', 'Majuro', 'Skopje', 'Bamako', 'Nay Pyi Taw',\n",
       "       'Ulan Bator', 'Macao', 'Saipan', 'Fort-de-France', 'Nouakchott',\n",
       "       'Plymouth', 'Valletta', 'Port Louis', 'Male', 'Lilongwe',\n",
       "       'Mexico City', 'Kuala Lumpur', 'Maputo', 'Windhoek', 'Noumea',\n",
       "       'Niamey', 'Abuja', 'Managua', 'Amsterdam', 'Oslo', 'Kathmandu',\n",
       "       'Yaren', 'Alofi', 'Wellington', 'Muscat', 'Panama City', 'Lima',\n",
       "       'Papeete', 'Port Moresby', 'Manila', 'Islamabad', 'Warsaw',\n",
       "       'Saint-Pierre', 'Adamstown', 'San Juan', 'East Jerusalem', 'Lisbon',\n",
       "       'Melekeok', 'Asuncion', 'Doha', 'Saint-Denis', 'Bucharest',\n",
       "       'Belgrade', 'Moscow', 'Kigali', 'Riyadh', 'Honiara', 'Victoria',\n",
       "       'Khartoum', 'Juba', 'Stockholm', 'Singapore', 'Jamestown',\n",
       "       'Ljubljana', 'Longyearbyen', 'Bratislava', 'Freetown', 'San Marino',\n",
       "       'Dakar', 'Mogadishu', 'Paramaribo', 'Sao Tome', 'San Salvador',\n",
       "       'Philipsburg', 'Damascus', 'Mbabane', 'Cockburn Town', \"N'Djamena\",\n",
       "       'Port-aux-Francais', 'Lome', 'Bangkok', 'Dushanbe', 'Dili',\n",
       "       'Ashgabat', 'Tunis', \"Nuku'alofa\", 'Ankara', 'Port of Spain',\n",
       "       'Funafuti', 'Taipei', 'Dodoma', 'Kiev', 'Kampala', 'Washington',\n",
       "       'Montevideo', 'Tashkent', 'Vatican City', 'Kingstown', 'Caracas',\n",
       "       'Road Town', 'Charlotte Amalie', 'Hanoi', 'Port Vila', 'Mata Utu',\n",
       "       'Apia', 'Sanaa', 'Mamoudzou', 'Pretoria', 'Lusaka', 'Harare',\n",
       "       'Willemstad'], dtype=object)"
      ]
     },
     "execution_count": 52,
     "metadata": {},
     "output_type": "execute_result"
    }
   ],
   "source": [
    "country_data['capital'].unique()"
   ]
  },
  {
   "cell_type": "markdown",
   "metadata": {},
   "source": [
    "## `df.duplicated()` to find duplicates\n",
    "\n",
    "With **`df.duplicated()`** you obtain a _boolean mask_\n",
    "indicating which rows appear more than once.\n",
    "With the argument **`subset=`** you can restrict the search for duplicates\n",
    "to specific columns\n",
    "(either a single column or a list of columns)."
   ]
  },
  {
   "cell_type": "code",
   "execution_count": 53,
   "metadata": {},
   "outputs": [
    {
     "data": {
      "text/html": [
       "<div>\n",
       "<style>\n",
       "    .dataframe thead tr:only-child th {\n",
       "        text-align: right;\n",
       "    }\n",
       "\n",
       "    .dataframe thead th {\n",
       "        text-align: left;\n",
       "    }\n",
       "\n",
       "    .dataframe tbody tr th {\n",
       "        vertical-align: top;\n",
       "    }\n",
       "</style>\n",
       "<table border=\"1\" class=\"dataframe\">\n",
       "  <thead>\n",
       "    <tr style=\"text-align: right;\">\n",
       "      <th></th>\n",
       "      <th>name</th>\n",
       "      <th>alpha_3</th>\n",
       "      <th>tld</th>\n",
       "      <th>continent</th>\n",
       "      <th>capital</th>\n",
       "      <th>area</th>\n",
       "      <th>population</th>\n",
       "    </tr>\n",
       "  </thead>\n",
       "  <tbody>\n",
       "    <tr>\n",
       "      <th>29</th>\n",
       "      <td>Bonaire, Saint Eustatius and Saba</td>\n",
       "      <td>BES</td>\n",
       "      <td>.bq</td>\n",
       "      <td>NA</td>\n",
       "      <td>NaN</td>\n",
       "      <td>328.0</td>\n",
       "      <td>18012</td>\n",
       "    </tr>\n",
       "    <tr>\n",
       "      <th>33</th>\n",
       "      <td>Bouvet Island</td>\n",
       "      <td>BVT</td>\n",
       "      <td>.bv</td>\n",
       "      <td>AN</td>\n",
       "      <td>NaN</td>\n",
       "      <td>49.0</td>\n",
       "      <td>0</td>\n",
       "    </tr>\n",
       "    <tr>\n",
       "      <th>95</th>\n",
       "      <td>Heard Island and McDonald Islands</td>\n",
       "      <td>HMD</td>\n",
       "      <td>.hm</td>\n",
       "      <td>AN</td>\n",
       "      <td>NaN</td>\n",
       "      <td>412.0</td>\n",
       "      <td>0</td>\n",
       "    </tr>\n",
       "    <tr>\n",
       "      <th>163</th>\n",
       "      <td>Norfolk Island</td>\n",
       "      <td>NFK</td>\n",
       "      <td>.nf</td>\n",
       "      <td>OC</td>\n",
       "      <td>Kingston</td>\n",
       "      <td>34.6</td>\n",
       "      <td>1828</td>\n",
       "    </tr>\n",
       "    <tr>\n",
       "      <th>220</th>\n",
       "      <td>Tokelau</td>\n",
       "      <td>TKL</td>\n",
       "      <td>.tk</td>\n",
       "      <td>OC</td>\n",
       "      <td>NaN</td>\n",
       "      <td>10.0</td>\n",
       "      <td>1466</td>\n",
       "    </tr>\n",
       "    <tr>\n",
       "      <th>232</th>\n",
       "      <td>United States Minor Outlying Islands</td>\n",
       "      <td>UMI</td>\n",
       "      <td>.um</td>\n",
       "      <td>OC</td>\n",
       "      <td>NaN</td>\n",
       "      <td>0.0</td>\n",
       "      <td>0</td>\n",
       "    </tr>\n",
       "  </tbody>\n",
       "</table>\n",
       "</div>"
      ],
      "text/plain": [
       "                                     name alpha_3  tld continent   capital  \\\n",
       "29     Bonaire, Saint Eustatius and Saba      BES  .bq        NA       NaN   \n",
       "33                          Bouvet Island     BVT  .bv        AN       NaN   \n",
       "95      Heard Island and McDonald Islands     HMD  .hm        AN       NaN   \n",
       "163                        Norfolk Island     NFK  .nf        OC  Kingston   \n",
       "220                               Tokelau     TKL  .tk        OC       NaN   \n",
       "232  United States Minor Outlying Islands     UMI  .um        OC       NaN   \n",
       "\n",
       "      area  population  \n",
       "29   328.0       18012  \n",
       "33    49.0           0  \n",
       "95   412.0           0  \n",
       "163   34.6        1828  \n",
       "220   10.0        1466  \n",
       "232    0.0           0  "
      ]
     },
     "execution_count": 53,
     "metadata": {},
     "output_type": "execute_result"
    }
   ],
   "source": [
    "bm_dup_capital = country_data.duplicated(subset='capital')\n",
    "country_data[bm_dup_capital]"
   ]
  },
  {
   "cell_type": "markdown",
   "metadata": {},
   "source": [
    "There is an extra argument `keep`:\n",
    "\n",
    "* **`keep='first'`** (default): Mark duplicates as `True` _except for the first occurrence_.\n",
    "* **`keep='last'`** : Mark duplicates as `True` _except for the last occurrence_.\n",
    "* **`keep=False`**`: Mark all duplicates as `True`."
   ]
  },
  {
   "cell_type": "code",
   "execution_count": 54,
   "metadata": {},
   "outputs": [
    {
     "data": {
      "text/html": [
       "<div>\n",
       "<style>\n",
       "    .dataframe thead tr:only-child th {\n",
       "        text-align: right;\n",
       "    }\n",
       "\n",
       "    .dataframe thead th {\n",
       "        text-align: left;\n",
       "    }\n",
       "\n",
       "    .dataframe tbody tr th {\n",
       "        vertical-align: top;\n",
       "    }\n",
       "</style>\n",
       "<table border=\"1\" class=\"dataframe\">\n",
       "  <thead>\n",
       "    <tr style=\"text-align: right;\">\n",
       "      <th></th>\n",
       "      <th>name</th>\n",
       "      <th>alpha_3</th>\n",
       "      <th>tld</th>\n",
       "      <th>continent</th>\n",
       "      <th>capital</th>\n",
       "      <th>area</th>\n",
       "      <th>population</th>\n",
       "    </tr>\n",
       "  </thead>\n",
       "  <tbody>\n",
       "    <tr>\n",
       "      <th>8</th>\n",
       "      <td>Antarctica</td>\n",
       "      <td>ATA</td>\n",
       "      <td>.aq</td>\n",
       "      <td>AN</td>\n",
       "      <td>NaN</td>\n",
       "      <td>14000000.0</td>\n",
       "      <td>0</td>\n",
       "    </tr>\n",
       "    <tr>\n",
       "      <th>29</th>\n",
       "      <td>Bonaire, Saint Eustatius and Saba</td>\n",
       "      <td>BES</td>\n",
       "      <td>.bq</td>\n",
       "      <td>NA</td>\n",
       "      <td>NaN</td>\n",
       "      <td>328.0</td>\n",
       "      <td>18012</td>\n",
       "    </tr>\n",
       "    <tr>\n",
       "      <th>33</th>\n",
       "      <td>Bouvet Island</td>\n",
       "      <td>BVT</td>\n",
       "      <td>.bv</td>\n",
       "      <td>AN</td>\n",
       "      <td>NaN</td>\n",
       "      <td>49.0</td>\n",
       "      <td>0</td>\n",
       "    </tr>\n",
       "    <tr>\n",
       "      <th>95</th>\n",
       "      <td>Heard Island and McDonald Islands</td>\n",
       "      <td>HMD</td>\n",
       "      <td>.hm</td>\n",
       "      <td>AN</td>\n",
       "      <td>NaN</td>\n",
       "      <td>412.0</td>\n",
       "      <td>0</td>\n",
       "    </tr>\n",
       "    <tr>\n",
       "      <th>111</th>\n",
       "      <td>Jamaica</td>\n",
       "      <td>JAM</td>\n",
       "      <td>.jm</td>\n",
       "      <td>NA</td>\n",
       "      <td>Kingston</td>\n",
       "      <td>10991.0</td>\n",
       "      <td>2847232</td>\n",
       "    </tr>\n",
       "    <tr>\n",
       "      <th>163</th>\n",
       "      <td>Norfolk Island</td>\n",
       "      <td>NFK</td>\n",
       "      <td>.nf</td>\n",
       "      <td>OC</td>\n",
       "      <td>Kingston</td>\n",
       "      <td>34.6</td>\n",
       "      <td>1828</td>\n",
       "    </tr>\n",
       "    <tr>\n",
       "      <th>220</th>\n",
       "      <td>Tokelau</td>\n",
       "      <td>TKL</td>\n",
       "      <td>.tk</td>\n",
       "      <td>OC</td>\n",
       "      <td>NaN</td>\n",
       "      <td>10.0</td>\n",
       "      <td>1466</td>\n",
       "    </tr>\n",
       "    <tr>\n",
       "      <th>232</th>\n",
       "      <td>United States Minor Outlying Islands</td>\n",
       "      <td>UMI</td>\n",
       "      <td>.um</td>\n",
       "      <td>OC</td>\n",
       "      <td>NaN</td>\n",
       "      <td>0.0</td>\n",
       "      <td>0</td>\n",
       "    </tr>\n",
       "  </tbody>\n",
       "</table>\n",
       "</div>"
      ],
      "text/plain": [
       "                                     name alpha_3  tld continent   capital  \\\n",
       "8                              Antarctica     ATA  .aq        AN       NaN   \n",
       "29     Bonaire, Saint Eustatius and Saba      BES  .bq        NA       NaN   \n",
       "33                          Bouvet Island     BVT  .bv        AN       NaN   \n",
       "95      Heard Island and McDonald Islands     HMD  .hm        AN       NaN   \n",
       "111                               Jamaica     JAM  .jm        NA  Kingston   \n",
       "163                        Norfolk Island     NFK  .nf        OC  Kingston   \n",
       "220                               Tokelau     TKL  .tk        OC       NaN   \n",
       "232  United States Minor Outlying Islands     UMI  .um        OC       NaN   \n",
       "\n",
       "           area  population  \n",
       "8    14000000.0           0  \n",
       "29        328.0       18012  \n",
       "33         49.0           0  \n",
       "95        412.0           0  \n",
       "111     10991.0     2847232  \n",
       "163        34.6        1828  \n",
       "220        10.0        1466  \n",
       "232         0.0           0  "
      ]
     },
     "execution_count": 54,
     "metadata": {},
     "output_type": "execute_result"
    }
   ],
   "source": [
    "bm_dup_capital_all = country_data.duplicated(subset='capital', keep=False)\n",
    "country_data[bm_dup_capital_all]"
   ]
  },
  {
   "cell_type": "markdown",
   "metadata": {},
   "source": [
    "## `df.drop_duplicates()` to remove duplicates\n",
    "\n",
    "With **`df.drop_duplicates()`** you can remove duplicated rows.\n",
    "With the argument **`subset=`** you can restrict the search for duplicates to specific columns (either a single column or a list of columns)."
   ]
  },
  {
   "cell_type": "code",
   "execution_count": 55,
   "metadata": {},
   "outputs": [
    {
     "name": "stdout",
     "output_type": "stream",
     "text": [
      "<class 'pandas.core.frame.DataFrame'>\n",
      "RangeIndex: 251 entries, 0 to 250\n",
      "Data columns (total 7 columns):\n",
      "name          251 non-null object\n",
      "alpha_3       251 non-null object\n",
      "tld           249 non-null object\n",
      "continent     251 non-null object\n",
      "capital       245 non-null object\n",
      "area          251 non-null float64\n",
      "population    251 non-null int64\n",
      "dtypes: float64(1), int64(1), object(5)\n",
      "memory usage: 13.8+ KB\n"
     ]
    }
   ],
   "source": [
    "country_data.info()"
   ]
  },
  {
   "cell_type": "code",
   "execution_count": 56,
   "metadata": {},
   "outputs": [
    {
     "name": "stdout",
     "output_type": "stream",
     "text": [
      "<class 'pandas.core.frame.DataFrame'>\n",
      "Int64Index: 245 entries, 0 to 250\n",
      "Data columns (total 7 columns):\n",
      "name          245 non-null object\n",
      "alpha_3       245 non-null object\n",
      "tld           243 non-null object\n",
      "continent     245 non-null object\n",
      "capital       244 non-null object\n",
      "area          245 non-null float64\n",
      "population    245 non-null int64\n",
      "dtypes: float64(1), int64(1), object(5)\n",
      "memory usage: 15.3+ KB\n"
     ]
    }
   ],
   "source": [
    "country_data.drop_duplicates(subset='capital').info()"
   ]
  },
  {
   "cell_type": "markdown",
   "metadata": {},
   "source": [
    "There is an extra argument `keep`:\n",
    "\n",
    "* **`keep='first'`** (default): Drop duplicates _except for the first occurrence_.\n",
    "* **`keep='last'`** : Drop duplicates _except for the last occurrence_.\n",
    "* **`keep=False`**: Drop all duplicates."
   ]
  },
  {
   "cell_type": "markdown",
   "metadata": {},
   "source": [
    "## `df.dropna()` to remove rows with missing values\n",
    "\n",
    "With **`df.dropna()`** you can remove rows with *missing values*\n",
    "(_Not-Available_ (NA) and _Not-a-Number_ (NaN)) in a data frame or series object.\n",
    "\n",
    "With the argument **`how=`** you can indicate whether rows with at least one missing value or with all values missing are dropped:\n",
    "\n",
    "* **`how='any'`** (default): if any value is missing, drop that row\n",
    "* **`how='all'`**: if all values are missing, drop that row"
   ]
  },
  {
   "cell_type": "code",
   "execution_count": 57,
   "metadata": {},
   "outputs": [
    {
     "name": "stdout",
     "output_type": "stream",
     "text": [
      "<class 'pandas.core.frame.DataFrame'>\n",
      "Int64Index: 243 entries, 0 to 250\n",
      "Data columns (total 7 columns):\n",
      "name          243 non-null object\n",
      "alpha_3       243 non-null object\n",
      "tld           243 non-null object\n",
      "continent     243 non-null object\n",
      "capital       243 non-null object\n",
      "area          243 non-null float64\n",
      "population    243 non-null int64\n",
      "dtypes: float64(1), int64(1), object(5)\n",
      "memory usage: 15.2+ KB\n"
     ]
    }
   ],
   "source": [
    "country_data_dropna = country_data.dropna()\n",
    "country_data_dropna.info()"
   ]
  },
  {
   "cell_type": "markdown",
   "metadata": {},
   "source": [
    "## `df.fillna()` to replace missing values\n",
    "\n",
    "With **`df.fillna()`** or **`ts.fillna()`**\n",
    "you can replace *missing values* (_Not-Available_ (NA) and _Not-a-Number_ (NaN))\n",
    "in a data frame or series object.\n",
    "\n",
    "As always, note that this returns a new copy with the filled object."
   ]
  },
  {
   "cell_type": "code",
   "execution_count": 58,
   "metadata": {},
   "outputs": [
    {
     "data": {
      "text/plain": [
       "8       Unknown\n",
       "29      Unknown\n",
       "33      Unknown\n",
       "95      Unknown\n",
       "111    Kingston\n",
       "163    Kingston\n",
       "220     Unknown\n",
       "232     Unknown\n",
       "Name: capital, dtype: object"
      ]
     },
     "execution_count": 58,
     "metadata": {},
     "output_type": "execute_result"
    }
   ],
   "source": [
    "country_data_filled = country_data['capital'].fillna(value='Unknown')\n",
    "country_data_filled[country_data_filled.duplicated(keep=False)]"
   ]
  },
  {
   "cell_type": "markdown",
   "metadata": {},
   "source": [
    "## `ts.str.strip()` to strip characters from begin/end of strings\n",
    "\n",
    "With **`ts.str.strip()`** you can remove characters from the begin and end of all strings in a `Series` object.\n",
    "\n",
    "Without argument, it strips all leading and trailing **whitespace**.\n",
    "\n",
    "Here we strip all trailing zeroes from the area that was converted to a string\n",
    "in an earlier example."
   ]
  },
  {
   "cell_type": "code",
   "execution_count": 59,
   "metadata": {},
   "outputs": [
    {
     "data": {
      "text/plain": [
       "0           468.\n",
       "1         82880.\n",
       "2        647500.\n",
       "3           443.\n",
       "4           102.\n",
       "5         28748.\n",
       "6         29800.\n",
       "7       1246700.\n",
       "8      14000000.\n",
       "9       2766890.\n",
       "10          199.\n",
       "11        83858.\n",
       "12      7686850.\n",
       "13          193.\n",
       "14         1580.\n",
       "15        86600.\n",
       "16        51129.\n",
       "17          431.\n",
       "18       144000.\n",
       "19        30510.\n",
       "20       274200.\n",
       "21       110910.\n",
       "22          665.\n",
       "23        27830.\n",
       "24       112620.\n",
       "25           21.\n",
       "26           53.\n",
       "27         5770.\n",
       "28      1098580.\n",
       "29          328.\n",
       "         ...    \n",
       "221       15007.\n",
       "222      488100.\n",
       "223      163610.\n",
       "224         748.\n",
       "225      780580.\n",
       "226        5128.\n",
       "227          26.\n",
       "228       35980.\n",
       "229      945087.\n",
       "230      603700.\n",
       "231      236040.\n",
       "232            .\n",
       "233     9629091.\n",
       "234      176220.\n",
       "235      447400.\n",
       "236          .44\n",
       "237         389.\n",
       "238      912050.\n",
       "239         153.\n",
       "240         352.\n",
       "241      329560.\n",
       "242       12200.\n",
       "243         274.\n",
       "244        2944.\n",
       "245      527970.\n",
       "246         374.\n",
       "247     1219912.\n",
       "248      752614.\n",
       "249      390580.\n",
       "250         960.\n",
       "Name: area, Length: 251, dtype: object"
      ]
     },
     "execution_count": 59,
     "metadata": {},
     "output_type": "execute_result"
    }
   ],
   "source": [
    "country_data_as_str['area'].str.strip('0')"
   ]
  },
  {
   "cell_type": "markdown",
   "metadata": {},
   "source": [
    "---"
   ]
  },
  {
   "cell_type": "code",
   "execution_count": 60,
   "metadata": {},
   "outputs": [
    {
     "name": "stdout",
     "output_type": "stream",
     "text": [
      "Variable              Type          Data/Info\n",
      "---------------------------------------------\n",
      "AUTHOR_DATE           str           2018-03-08\n",
      "AUTHOR_ID_NR          str           1001716\n",
      "AUTHOR_NAME           str           Ysanne Pasveer\n",
      "bm_dup_capital        Series        0      False\\n1      Fals<...>nLength: 251, dtype: bool\n",
      "bm_dup_capital_all    Series        0      False\\n1      Fals<...>nLength: 251, dtype: bool\n",
      "conn                  Connection    <sqlite3.Connection object at 0x10ef0db90>\n",
      "conn_1                Connection    <sqlite3.Connection object at 0x10ef0d730>\n",
      "continents            DataFrame                  name\\nAF    <...>ceania\\nSA  South America\n",
      "country_data          DataFrame                              <...>n\\n[251 rows x 7 columns]\n",
      "country_data_as_str   DataFrame                              <...>n\\n[251 rows x 7 columns]\n",
      "country_data_dropna   DataFrame                              <...>n\\n[243 rows x 7 columns]\n",
      "country_data_filled   Series        0         Andorra la Vell<...>ength: 251, dtype: object\n",
      "cur                   Cursor        <sqlite3.Cursor object at 0x117dbf2d0>\n",
      "cur_1                 Cursor        <sqlite3.Cursor object at 0x117cefea0>\n",
      "datadir               str           ../../datasets/country-data/\n",
      "file_countries        str           ../../datasets/country-data/country-data.csv\n",
      "get_pop_NL            str           select name, population f<...>ere name = \"Netherlands\";\n",
      "get_pop_top3          str           \\n    select name, popula<...>dia\", \"United States\");\\n\n",
      "get_population        str           \\n    select name, popula<...>es\\n    where name = ?;\\n\n",
      "np                    module        <module 'numpy' from '/an<...>kages/numpy/__init__.py'>\n",
      "pd                    module        <module 'pandas' from '/a<...>ages/pandas/__init__.py'>\n",
      "query                 str           \\n    select countries.na<...>ion desc\\n    limit 10;\\n\n",
      "query_1a              str           \\n    select name, popula<...>  where area > 1000000;\\n\n",
      "query_1b              str           \\n    select name, popula<...> order by area asc;\\n    \n",
      "query_1d              str           \\n    update countries\\n <...>ame = \"Antarctica\";\\n    \n",
      "query_3               str           \\n    select continent\\n <...>pulation > 10000000\\n    \n",
      "query_3a              str           \\n    select name, popula<...> name =\"Antarctica\"\\n    \n",
      "query_E               str           \\n    select continent\\n <...>   where name like \"E%\"\\n\n",
      "query_E_except_L      str           \\n    select continent\\n <...>  where area > 10000000\\n\n",
      "query_L               str           \\n    select continent\\n <...>  where area > 10000000\\n\n",
      "sqlite3               module        <module 'sqlite3' from '/<...>3.6/sqlite3/__init__.py'>\n",
      "update_pop_NL         str           \\n    update countries\\n <...>e name = \"Netherlands\";\\n\n",
      "update_population     str           \\n    update countries\\n <...> ?\\n    where name = ?;\\n\n",
      "values                list          n=3\n"
     ]
    }
   ],
   "source": [
    "# List all defined names\n",
    "%whos"
   ]
  },
  {
   "cell_type": "markdown",
   "metadata": {},
   "source": [
    "## Exercises 4\n",
    "\n",
    "_There are no exercises._"
   ]
  },
  {
   "cell_type": "markdown",
   "metadata": {},
   "source": [
    "---\n",
    "\n",
    "# (End of Notebook)\n",
    "\n",
    "&copy; 2017-2018 - **TU/e** - Eindhoven University of Technology - Tom Verhoeff"
   ]
  }
 ],
 "metadata": {
  "kernelspec": {
   "display_name": "Python 3",
   "language": "python",
   "name": "python3"
  },
  "language_info": {
   "codemirror_mode": {
    "name": "ipython",
    "version": 3
   },
   "file_extension": ".py",
   "mimetype": "text/x-python",
   "name": "python",
   "nbconvert_exporter": "python",
   "pygments_lexer": "ipython3",
   "version": "3.6.1"
  },
  "toc": {
   "nav_menu": {
    "height": "174px",
    "width": "252px"
   },
   "number_sections": false,
   "sideBar": true,
   "skip_h1_title": false,
   "title_cell": "Table of Contents",
   "title_sidebar": "Contents",
   "toc_cell": true,
   "toc_position": {},
   "toc_section_display": "block",
   "toc_window_display": true
  },
  "varInspector": {
   "cols": {
    "lenName": 16,
    "lenType": 16,
    "lenVar": 40
   },
   "kernels_config": {
    "python": {
     "delete_cmd_postfix": "",
     "delete_cmd_prefix": "del ",
     "library": "var_list.py",
     "varRefreshCmd": "print(var_dic_list())"
    },
    "r": {
     "delete_cmd_postfix": ") ",
     "delete_cmd_prefix": "rm(",
     "library": "var_list.r",
     "varRefreshCmd": "cat(var_dic_list()) "
    }
   },
   "types_to_exclude": [
    "module",
    "function",
    "builtin_function_or_method",
    "instance",
    "_Feature"
   ],
   "window_display": false
  }
 },
 "nbformat": 4,
 "nbformat_minor": 2
}

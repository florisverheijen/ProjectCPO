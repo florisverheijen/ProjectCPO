{
 "cells": [
  {
   "cell_type": "markdown",
   "metadata": {},
   "source": [
    "# Programming Lesson & Exercises - SciKit Learn<span class=\"tocSkip\"></span>\n",
    "\n",
    "These programming lessons do not require prior programming experience.\n",
    "\n",
    "The goal is to teach you the use of _Python 3_ and the _Jupyter Notebook_ software\n",
    "in the context of _Data Analytics_.\n",
    "\n",
    "<div class=\"alert-info alert\" role=\"alert-info\">While you read this notebook,\n",
    "execute all code cells in linear order\n",
    "from the beginning</div>"
   ]
  },
  {
   "cell_type": "markdown",
   "metadata": {},
   "source": [
    "\n",
    "# Introduction to this template notebook\n",
    "\n",
    "* This is a **personal** notebook.\n",
    "* Make sure you work in a **copy** of `...-template.ipynb`,\n",
    "**renamed** to `...-yourIDnr.ipynb`,\n",
    "where `yourIDnr` is your TU/e identification number.\n",
    "\n",
    "<div class=\"alert alert-danger\" role=\"danger\">Sharing your notebook with others is considered **fraud** under the TU/e regulations.</div>\n",
    "\n",
    "You are expected to work with Python code in this notebook.\n",
    "\n",
    "The locations where you should write your solutions can be recognized by\n",
    "**marker lines**,\n",
    "which look like this:\n",
    "\n",
    ">`#//`\n",
    ">    `BEGIN_TODO [Label]` `Description` `(n points)`\n",
    ">\n",
    ">`#//`\n",
    ">    `END_TODO [Label]`\n",
    "\n",
    "<div class=\"alert alert-warning\" role=\"alert\">Do NOT modify or delete these marker lines.  Keep them as they are.<br/>\n",
    "<br/>\n",
    "NEVER write code <i>outside</i> the marked blocks.\n",
    "Such code cannot be evaluated.\n",
    "</div>\n",
    "\n",
    "Proceed in this notebook as follows:\n",
    "* **Read** the text.\n",
    "* **Fill in** your solutions between `BEGIN_TODO` and `END_TODO` marker lines.\n",
    "* **Run** _all_ code cells (also the ones _without_ your code),\n",
    "    _in linear order_ from the first code cell.\n",
    "\n",
    "**Personalize your notebook**:\n",
    "1. Copy the following three lines of code:\n",
    "\n",
    "  ```python\n",
    "  AUTHOR_NAME = 'Your Full Name'\n",
    "  AUTHOR_ID_NR = '1234567'\n",
    "  AUTHOR_DATE = 'YYYY-MM-DD'  # when notebook was first modified, e.g. '2018-02-05'\n",
    "  ```\n",
    "\n",
    "1. Paste them between the marker lines in the next code cell.\n",
    "1. Fill in your _full name_, _identification number_, and the current _date_ as strings between quotes.\n",
    "1. Run the code cell by putting the cursor there and typing **Control-Enter**.\n"
   ]
  },
  {
   "cell_type": "code",
   "execution_count": 1,
   "metadata": {},
   "outputs": [
    {
     "data": {
      "text/plain": [
       "('Ysanne Mieneke Pasveer', '1001716', '2018-02-26')"
      ]
     },
     "execution_count": 1,
     "metadata": {},
     "output_type": "execute_result"
    }
   ],
   "source": [
    "#// BEGIN_TODO [PrEx_DMM_2018.1] Name, Id.nr., Date, as strings (1 point)\n",
    "\n",
    "AUTHOR_NAME = 'Ysanne Mieneke Pasveer'\n",
    "AUTHOR_ID_NR = '1001716'\n",
    "AUTHOR_DATE = '2018-02-26'\n",
    "\n",
    "#// END_TODO [PrEx_DMM_2018.1]\n",
    "\n",
    "AUTHOR_NAME, AUTHOR_ID_NR, AUTHOR_DATE"
   ]
  },
  {
   "cell_type": "markdown",
   "metadata": {
    "toc": "true"
   },
   "source": [
    "<h1>Table of Contents<span class=\"tocSkip\"></span></h1>\n",
    "<div class=\"toc\" style=\"margin-top: 1em;\"><ul class=\"toc-item\"><li><ul class=\"toc-item\"><li><span><a href=\"#What-you-need\" data-toc-modified-id=\"What-you-need-0.1\">What you need</a></span></li><li><span><a href=\"#Learning-Objectives-of-This-Lesson\" data-toc-modified-id=\"Learning-Objectives-of-This-Lesson-0.2\">Learning Objectives of This Lesson</a></span></li><li><span><a href=\"#Introduction-to-this-lesson\" data-toc-modified-id=\"Introduction-to-this-lesson-0.3\">Introduction to this lesson</a></span><ul class=\"toc-item\"><li><span><a href=\"#Loading-the-libraries\" data-toc-modified-id=\"Loading-the-libraries-0.3.1\">Loading the libraries</a></span></li><li><span><a href=\"#Common-steps-in-data-mining\" data-toc-modified-id=\"Common-steps-in-data-mining-0.3.2\">Common steps in data mining</a></span></li><li><span><a href=\"#Warnings\" data-toc-modified-id=\"Warnings-0.3.3\">Warnings</a></span></li><li><span><a href=\"#Example-data\" data-toc-modified-id=\"Example-data-0.3.4\">Example data</a></span></li></ul></li></ul></li><li><span><a href=\"#1.-Linear-Regression\" data-toc-modified-id=\"1.-Linear-Regression-1\">1. Linear Regression</a></span><ul class=\"toc-item\"><li><span><a href=\"#Step-1.-Select-the-data\" data-toc-modified-id=\"Step-1.-Select-the-data-1.1\">Step 1. Select the data</a></span></li><li><span><a href=\"#Step-2.-Create-the-miner-object\" data-toc-modified-id=\"Step-2.-Create-the-miner-object-1.2\">Step 2. Create the miner object</a></span></li><li><span><a href=\"#Step-3.-Do-the-fitting\" data-toc-modified-id=\"Step-3.-Do-the-fitting-1.3\">Step 3. Do the fitting</a></span></li><li><span><a href=\"#Step-4.a.-Extract-model-parameters\" data-toc-modified-id=\"Step-4.a.-Extract-model-parameters-1.4\">Step 4.a. Extract model parameters</a></span></li><li><span><a href=\"#Step-4.b.-Visualize-the-model\" data-toc-modified-id=\"Step-4.b.-Visualize-the-model-1.5\">Step 4.b. Visualize the model</a></span></li><li><span><a href=\"#Step-4.c.-Asses-the-model's-quality\" data-toc-modified-id=\"Step-4.c.-Asses-the-model's-quality-1.6\">Step 4.c. Asses the model's quality</a></span></li><li><span><a href=\"#Step-5.-Do-predictions\" data-toc-modified-id=\"Step-5.-Do-predictions-1.7\">Step 5. Do predictions</a></span></li><li><span><a href=\"#Warning-about-storing-predictions\" data-toc-modified-id=\"Warning-about-storing-predictions-1.8\">Warning about storing predictions</a></span></li><li><span><a href=\"#Exercise-1.\" data-toc-modified-id=\"Exercise-1.-1.9\">Exercise 1.</a></span></li></ul></li><li><span><a href=\"#2.-Clustering\" data-toc-modified-id=\"2.-Clustering-2\">2. Clustering</a></span><ul class=\"toc-item\"><li><span><a href=\"#Step-1.-Select-the-data\" data-toc-modified-id=\"Step-1.-Select-the-data-2.1\">Step 1. Select the data</a></span></li><li><span><a href=\"#Step-2.-Create-the-miner-object\" data-toc-modified-id=\"Step-2.-Create-the-miner-object-2.2\">Step 2. Create the miner object</a></span></li><li><span><a href=\"#Step-3.-Do-the-fitting\" data-toc-modified-id=\"Step-3.-Do-the-fitting-2.3\">Step 3. Do the fitting</a></span></li><li><span><a href=\"#Step-4.a.-Extract-model-parameters\" data-toc-modified-id=\"Step-4.a.-Extract-model-parameters-2.4\">Step 4.a. Extract model parameters</a></span></li><li><span><a href=\"#Step-4.b.-Visualize-the-model\" data-toc-modified-id=\"Step-4.b.-Visualize-the-model-2.5\">Step 4.b. Visualize the model</a></span></li><li><span><a href=\"#Step-4.c.-Assess-the-model's-quality\" data-toc-modified-id=\"Step-4.c.-Assess-the-model's-quality-2.6\">Step 4.c. Assess the model's quality</a></span></li><li><span><a href=\"#Step-5.-Do-predictions\" data-toc-modified-id=\"Step-5.-Do-predictions-2.7\">Step 5. Do predictions</a></span></li><li><span><a href=\"#Exercise-2\" data-toc-modified-id=\"Exercise-2-2.8\">Exercise 2</a></span></li></ul></li><li><span><a href=\"#3.-Decision-Tree-Mining\" data-toc-modified-id=\"3.-Decision-Tree-Mining-3\">3. Decision Tree Mining</a></span><ul class=\"toc-item\"><li><span><a href=\"#Step-1.-Select-the-data\" data-toc-modified-id=\"Step-1.-Select-the-data-3.1\">Step 1. Select the data</a></span></li><li><span><a href=\"#Step-2.-Create-the-miner-object\" data-toc-modified-id=\"Step-2.-Create-the-miner-object-3.2\">Step 2. Create the miner object</a></span></li><li><span><a href=\"#Step-3.-Do-the-fitting\" data-toc-modified-id=\"Step-3.-Do-the-fitting-3.3\">Step 3. Do the fitting</a></span></li><li><span><a href=\"#Step-4.a.-Extract-model-parameters\" data-toc-modified-id=\"Step-4.a.-Extract-model-parameters-3.4\">Step 4.a. Extract model parameters</a></span></li><li><span><a href=\"#Step-4.b.-Visualize-the-model\" data-toc-modified-id=\"Step-4.b.-Visualize-the-model-3.5\">Step 4.b. Visualize the model</a></span></li><li><span><a href=\"#Step-4.c.-Assess-the-model's-quality\" data-toc-modified-id=\"Step-4.c.-Assess-the-model's-quality-3.6\">Step 4.c. Assess the model's quality</a></span></li><li><span><a href=\"#Step-5.-Do-predictions\" data-toc-modified-id=\"Step-5.-Do-predictions-3.7\">Step 5. Do predictions</a></span></li><li><span><a href=\"#Differences-between-predictions-by-K-Means-and-decision-trees\" data-toc-modified-id=\"Differences-between-predictions-by-K-Means-and-decision-trees-3.8\">Differences between predictions by K-Means and decision trees</a></span></li><li><span><a href=\"#Exercise-3.\" data-toc-modified-id=\"Exercise-3.-3.9\">Exercise 3.</a></span></li></ul></li><li><span><a href=\"#4.-Accuracy-and-Confusion-Matrix\" data-toc-modified-id=\"4.-Accuracy-and-Confusion-Matrix-4\">4. Accuracy and Confusion Matrix</a></span><ul class=\"toc-item\"><li><span><a href=\"#Exercise-4.\" data-toc-modified-id=\"Exercise-4.-4.1\">Exercise 4.</a></span></li></ul></li><li><span><a href=\"#(End-of-Notebook)\" data-toc-modified-id=\"(End-of-Notebook)-5\">(End of Notebook)</a></span></li></ul></div>"
   ]
  },
  {
   "cell_type": "markdown",
   "metadata": {},
   "source": [
    "## What you need\n",
    "\n",
    "* This notebook (it contains the code to generate the example data set)"
   ]
  },
  {
   "cell_type": "markdown",
   "metadata": {},
   "source": [
    "\n",
    "## How to submit your work\n",
    "\n",
    "You can submit your work to Canvas in the form of this Jupyter notebook,\n",
    "containing your solutions in the indicated places\n",
    "(recognizable by the **marker lines** with `... BEGIN_TODO ...` and `... END_TODO ...`).\n",
    "\n",
    "> **NOTE: Do NOT modify or delete these marker lines.**\n",
    "\n",
    "1. **Before submitting**, you must run your notebook by doing **Kernel > Restart & Run All**.  \n",
    "   Make sure that your notebook runs without errors **in linear order**.\n",
    "\n",
    "2. Submit the executed notebook with your work\n",
    "   for the appropriate assignment in **Canvas**.\n",
    "\n",
    "* In the **Momotor** tab in Canvas,\n",
    "  you can select that assignment again to find some feedback on your submitted work.\n",
    "  \n",
    "* If there are any problems reported by _Momotor_,\n",
    "  then you need to fix those,\n",
    "  and **resubmit the fixed notebook**.\n",
    "\n",
    "In case of a high workload on our server\n",
    "(because many students submit close to the deadline),\n",
    "it may take longer to receive the feedback.\n"
   ]
  },
  {
   "cell_type": "markdown",
   "metadata": {},
   "source": [
    "## Learning Objectives of This Lesson\n",
    "\n",
    "After this lesson, you should\n",
    "\n",
    "* know how to do **linear regression** on data frames\n",
    "* know how to do **k-means clustering** on data frames\n",
    "* know how to do **decision tree mining** on data frames\n",
    "* know how to determine the **$R^2$ quality** parameter of a linear model\n",
    "* know how to determine the **accuracy** and **confusion matrix** of a prediction"
   ]
  },
  {
   "cell_type": "markdown",
   "metadata": {},
   "source": [
    "## Introduction to this lesson\n",
    "\n",
    "We will do data mining with _Scikit Learn_;\n",
    "in Python, it is known as `sklearn`.\n",
    "\n",
    "Scikit Learn offers many techniques for data mining.\n",
    "We will treat only three of these techniques:\n",
    "\n",
    "* **linear regression**,\n",
    "* **k-means clustering**,\n",
    "* **decision tree mining**.\n",
    "\n",
    "Its documentation can be found here: http://scikit-learn.org/."
   ]
  },
  {
   "cell_type": "markdown",
   "metadata": {},
   "source": [
    "### Loading the libraries\n",
    "\n",
    "To show examples, we load some Data Analytics libraries first:"
   ]
  },
  {
   "cell_type": "code",
   "execution_count": 2,
   "metadata": {
    "collapsed": true
   },
   "outputs": [],
   "source": [
    "import numpy as np  # import auxiliary library, typical idiom\n",
    "import pandas as pd  # import the Pandas library, typical idiom\n",
    "\n",
    "import matplotlib as mpl\n",
    "import matplotlib.pyplot as plt\n",
    "import seaborn as sns  # also improves the look of plots\n",
    "plt.rcParams['figure.figsize'] = 10, 5  # default hor./vert. size of plots, in inches\n",
    "plt.rcParams['lines.markeredgewidth'] = 1  # to fix issue with seaborn box plots; needed after import seaborn\n",
    "# next command ensures that plots appear inside the notebook\n",
    "%matplotlib inline"
   ]
  },
  {
   "cell_type": "markdown",
   "metadata": {},
   "source": [
    "Now, we selectively import the relevant classes and functions from `sklearn`\n",
    "(_SciKit Learn_, a Python library for machine learning):"
   ]
  },
  {
   "cell_type": "code",
   "execution_count": 3,
   "metadata": {
    "collapsed": true
   },
   "outputs": [],
   "source": [
    "from sklearn.linear_model import LinearRegression  # for linear regression\n",
    "from sklearn.cluster import KMeans  # for clustering\n",
    "from sklearn.tree import DecisionTreeClassifier  # for decision tree mining\n",
    "from sklearn.metrics import accuracy_score, confusion_matrix\n",
    "from treeviz import tree_print  # to print decision trees"
   ]
  },
  {
   "cell_type": "markdown",
   "metadata": {},
   "source": [
    "### Common steps in data mining\n",
    "\n",
    "The data mining techniques in Scikit Learn follow a standard sequences of steps:\n",
    "\n",
    "1. Select the **data** to mine; this is often a **subset** of the entire data set.\n",
    "    * Select _columns_ to focus on certain **variables**\n",
    "      (also known as **features** or **attributes**).\n",
    "    * Select _rows_ to obtain a **training set** and **test set**.  \n",
    "      We typically use all rows in these lessons.\n",
    "    * For **supervised learning** (such as **linear regression** and **decision tree mining**),\n",
    "        this data must be split into\n",
    "        * **independent**, **input**, or **explanatory** variables $X$\n",
    "          (possibly with multiple columns) and\n",
    "        * **dependent**, **output**, **response**, or **target** variable $y$.\n",
    "    * For **unsupervised learning** (such as **clustering**),\n",
    "        there is just one data set $X$ (possibly with multiple columns).\n",
    "1. Create a **data miner** (a Python object), with appropriate parameters.\n",
    "1. Invoke the **`fit()`** function of the data miner on the selected data\n",
    "    for **fitting** (also known as **training**, **mining**, or **learning**) a **model**.  \n",
    "    Afterwards, the data miner object 'knows' the mined model.\n",
    "1. (a) Extract model **parameters** from the data miner;\n",
    "    (b) **visualize** the model; (c) check its **quality**.\n",
    "1. Use the mined model for **prediction**,\n",
    "    by invoking the **`predict()`** function of the data miner\n",
    "    on other data (such as the **test set**)."
   ]
  },
  {
   "cell_type": "markdown",
   "metadata": {},
   "source": [
    "### Warnings\n",
    "\n",
    "* There are many data mining methods, each with its specific purpose, pros, and cons.\n",
    "* Data mining methods are often **non-deterministic**.  \n",
    "    Fitting the exact same input data repeatedly can return different models.\n",
    "* It may be necessary to 'help' the mining method by providing it some start parameters."
   ]
  },
  {
   "cell_type": "markdown",
   "metadata": {},
   "source": [
    "### Example data\n",
    "\n",
    "As running example in this lesson,\n",
    "we use a small idealized data set.\n",
    "It does not matter how this is generated.\n",
    "\n",
    "The example data set has two numeric columns labeled `'a'` and `'b'`,\n",
    "and twelve rows."
   ]
  },
  {
   "cell_type": "code",
   "execution_count": 4,
   "metadata": {},
   "outputs": [
    {
     "data": {
      "text/html": [
       "<div>\n",
       "<style>\n",
       "    .dataframe thead tr:only-child th {\n",
       "        text-align: right;\n",
       "    }\n",
       "\n",
       "    .dataframe thead th {\n",
       "        text-align: left;\n",
       "    }\n",
       "\n",
       "    .dataframe tbody tr th {\n",
       "        vertical-align: top;\n",
       "    }\n",
       "</style>\n",
       "<table border=\"1\" class=\"dataframe\">\n",
       "  <thead>\n",
       "    <tr style=\"text-align: right;\">\n",
       "      <th></th>\n",
       "      <th>a</th>\n",
       "      <th>b</th>\n",
       "    </tr>\n",
       "  </thead>\n",
       "  <tbody>\n",
       "    <tr>\n",
       "      <th>0</th>\n",
       "      <td>0</td>\n",
       "      <td>1</td>\n",
       "    </tr>\n",
       "    <tr>\n",
       "      <th>1</th>\n",
       "      <td>1</td>\n",
       "      <td>2</td>\n",
       "    </tr>\n",
       "    <tr>\n",
       "      <th>2</th>\n",
       "      <td>2</td>\n",
       "      <td>1</td>\n",
       "    </tr>\n",
       "    <tr>\n",
       "      <th>3</th>\n",
       "      <td>3</td>\n",
       "      <td>3</td>\n",
       "    </tr>\n",
       "    <tr>\n",
       "      <th>4</th>\n",
       "      <td>4</td>\n",
       "      <td>2</td>\n",
       "    </tr>\n",
       "    <tr>\n",
       "      <th>5</th>\n",
       "      <td>5</td>\n",
       "      <td>3</td>\n",
       "    </tr>\n",
       "    <tr>\n",
       "      <th>6</th>\n",
       "      <td>4</td>\n",
       "      <td>7</td>\n",
       "    </tr>\n",
       "    <tr>\n",
       "      <th>7</th>\n",
       "      <td>5</td>\n",
       "      <td>8</td>\n",
       "    </tr>\n",
       "    <tr>\n",
       "      <th>8</th>\n",
       "      <td>6</td>\n",
       "      <td>7</td>\n",
       "    </tr>\n",
       "    <tr>\n",
       "      <th>9</th>\n",
       "      <td>7</td>\n",
       "      <td>9</td>\n",
       "    </tr>\n",
       "    <tr>\n",
       "      <th>10</th>\n",
       "      <td>8</td>\n",
       "      <td>8</td>\n",
       "    </tr>\n",
       "    <tr>\n",
       "      <th>11</th>\n",
       "      <td>9</td>\n",
       "      <td>9</td>\n",
       "    </tr>\n",
       "  </tbody>\n",
       "</table>\n",
       "</div>"
      ],
      "text/plain": [
       "    a  b\n",
       "0   0  1\n",
       "1   1  2\n",
       "2   2  1\n",
       "3   3  3\n",
       "4   4  2\n",
       "5   5  3\n",
       "6   4  7\n",
       "7   5  8\n",
       "8   6  7\n",
       "9   7  9\n",
       "10  8  8\n",
       "11  9  9"
      ]
     },
     "execution_count": 4,
     "metadata": {},
     "output_type": "execute_result"
    }
   ],
   "source": [
    "df_sk = pd.DataFrame(list(zip(range(6), [1, 2, 1, 3, 2, 3])) + list(zip(range(4, 10), [7, 8, 7, 9, 8, 9])),\n",
    "                    columns=list('ab'))\n",
    "df_sk"
   ]
  },
  {
   "cell_type": "markdown",
   "metadata": {},
   "source": [
    "Here is a scatter plot:"
   ]
  },
  {
   "cell_type": "code",
   "execution_count": 5,
   "metadata": {},
   "outputs": [
    {
     "data": {
      "image/png": "[encoded data removed]",
      "text/plain": [
       "<matplotlib.figure.Figure at 0x11726e470>"
      ]
     },
     "metadata": {},
     "output_type": "display_data"
    }
   ],
   "source": [
    "df_sk.plot(kind='scatter', x='a', y='b', s=50, c='r');"
   ]
  },
  {
   "cell_type": "markdown",
   "metadata": {},
   "source": [
    "This reveals some structure in the data."
   ]
  },
  {
   "cell_type": "markdown",
   "metadata": {},
   "source": [
    "# 1. Linear Regression\n",
    "\n",
    "The goal of _linear regression_ is to come up with a _linear model_ that best fits the data.\n",
    "It is a _supervised learning_ method\n",
    "that seeks to 'explain' the dependent variable(s) from the explanatory variable(s)\n",
    "by a _linear model_.\n",
    "\n",
    "In this lesson,\n",
    "we will use the **Ordinary Least Squares** (OLS) algorithm for linear regression.\n",
    "It is deterministic.\n",
    "\n",
    "If you are interested in more details,\n",
    "then you can consult the SciKit Learn documentation:\n",
    "\n",
    "* [Ordinary Least Squares algorithm](http://scikit-learn.org/stable/modules/linear_model.html)\n",
    "* [the `sklearn.linear_model.LinearRegression` miner](http://scikit-learn.org/stable/modules/generated/sklearn.linear_model.LinearRegression.html)\n",
    "\n",
    "In the case of our example data set,\n",
    "we see a tendency that larger values of `a` correspond to larger values of `b`,\n",
    "and vice versa.\n",
    "\n",
    "Can we quantify this relationship?"
   ]
  },
  {
   "cell_type": "markdown",
   "metadata": {},
   "source": [
    "## Step 1. Select the data\n",
    "\n",
    "Because linear regression is a supervised learning method,\n",
    "we need to split the data into an explanatory variable and a dependent variable.\n",
    "\n",
    "In this example,\n",
    "we (fairly arbitrarily) _choose_ `a` to be the _independent_ (or _explanatory_) variable\n",
    "and `b` the _dependent_ (or _response_) variable.\n",
    "In real-life applications,\n",
    "it is often more obvious how to make that distinction.\n",
    "\n",
    "We select the data as follows for linear regression:"
   ]
  },
  {
   "cell_type": "code",
   "execution_count": 6,
   "metadata": {
    "collapsed": true
   },
   "outputs": [],
   "source": [
    "X_reg = df_sk[['a']].copy()  # independent/explanatory variable; just one column\n",
    "y_reg = df_sk[['b']].copy()  # dependent/response variable; just one column"
   ]
  },
  {
   "cell_type": "markdown",
   "metadata": {},
   "source": [
    "If the data is not very big,\n",
    "then it is good practice to copy it\n",
    "(as we have done above).\n",
    "That way, you will not accidentally modify the original data,\n",
    "when you start to play around with the selected data\n",
    "(e.g., to assess the quality of the mined model)."
   ]
  },
  {
   "cell_type": "markdown",
   "metadata": {},
   "source": [
    "## Step 2. Create the miner object\n",
    "\n",
    "Next, we create the _miner object_ for **linear regression**,\n",
    "and store it in the variable `reg`.\n",
    "We do not need to supply any parameters;\n",
    "the default values suffice."
   ]
  },
  {
   "cell_type": "code",
   "execution_count": 1,
   "metadata": {},
   "outputs": [
    {
     "ename": "NameError",
     "evalue": "name 'LinearRegression' is not defined",
     "output_type": "error",
     "traceback": [
      "\u001b[1;31m---------------------------------------------------------------------------\u001b[0m",
      "\u001b[1;31mNameError\u001b[0m                                 Traceback (most recent call last)",
      "\u001b[1;32m<ipython-input-1-f374151cc053>\u001b[0m in \u001b[0;36m<module>\u001b[1;34m\u001b[0m\n\u001b[1;32m----> 1\u001b[1;33m \u001b[0mreg\u001b[0m \u001b[1;33m=\u001b[0m \u001b[0mLinearRegression\u001b[0m\u001b[1;33m(\u001b[0m\u001b[1;33m)\u001b[0m\u001b[1;33m\u001b[0m\u001b[1;33m\u001b[0m\u001b[0m\n\u001b[0m",
      "\u001b[1;31mNameError\u001b[0m: name 'LinearRegression' is not defined"
     ]
    }
   ],
   "source": [
    "reg = LinearRegression()"
   ]
  },
  {
   "cell_type": "markdown",
   "metadata": {},
   "source": [
    "Note that the order of Steps 1 and 2 does not matter."
   ]
  },
  {
   "cell_type": "markdown",
   "metadata": {},
   "source": [
    "## Step 3. Do the fitting\n",
    "\n",
    "Invoke the **`fit()`** function of the miner object,\n",
    "supplying the selected data:"
   ]
  },
  {
   "cell_type": "code",
   "execution_count": 8,
   "metadata": {},
   "outputs": [
    {
     "data": {
      "text/plain": [
       "LinearRegression(copy_X=True, fit_intercept=True, n_jobs=1, normalize=False)"
      ]
     },
     "execution_count": 8,
     "metadata": {},
     "output_type": "execute_result"
    }
   ],
   "source": [
    "reg.fit(X_reg, y_reg)"
   ]
  },
  {
   "cell_type": "markdown",
   "metadata": {},
   "source": [
    "The result that is shown\n",
    "``` python\n",
    "LinearRegression(...)\n",
    "```\n",
    "\n",
    "is not interesting;\n",
    "it shows the parameters, which in our case are all default values.\n",
    "You could suppress that output by appending a semicolon ('**`;`**').\n",
    "\n",
    "The miner object now 'knows' the best linear model for the given data."
   ]
  },
  {
   "cell_type": "markdown",
   "metadata": {},
   "source": [
    "## Step 4.a. Extract model parameters\n",
    "\n",
    "The miner object 'holds' the model parameters that it determined.\n",
    "These parameters can be accessed via various attributes of the miner object.\n",
    "In case of a linear regression miner `reg`,\n",
    "the relevant attributes are:\n",
    "\n",
    "* **`reg.coef_`** : the _coefficient(s)_, one for each of the independent features\n",
    "* **`reg.intercept_`** : the _intercept(s)_, that is, the constant term (additive offset)\n",
    "\n",
    "Thus, the linear model has the form\n",
    "\n",
    "```\n",
    "y = coef_ * X + intercept_\n",
    "```\n",
    "\n",
    "For our example data, we get"
   ]
  },
  {
   "cell_type": "code",
   "execution_count": 9,
   "metadata": {},
   "outputs": [
    {
     "data": {
      "text/plain": [
       "(array([[ 1.01204819]]), array([ 0.44578313]))"
      ]
     },
     "execution_count": 9,
     "metadata": {},
     "output_type": "execute_result"
    }
   ],
   "source": [
    "coef = reg.coef_\n",
    "intercept = reg.intercept_\n",
    "coef, intercept"
   ]
  },
  {
   "cell_type": "markdown",
   "metadata": {},
   "source": [
    "## Step 4.b. Visualize the model\n",
    "\n",
    "In the case of a linear model where we have one independent feature and one dependent feature,\n",
    "we can visualize that model as a _line_ in the scatter plot.\n",
    "\n",
    "For higher dimensional linear models (when there are multiple independent features),\n",
    "such a visualization is more complex (outside the scope of these lessons).\n",
    "\n",
    "Visualizing this line could be done on the basis of the extracted _coefficient_ and _intercept_.\n",
    "But it is more convenient to plot it on the basis of some points on that line.\n",
    "Therefore, we do the plotting of this line to Step 5 (Prediction),\n",
    "which enables us to find points on that line.\n",
    "\n",
    "However, for the specific case of a single explanatory variable and a single dependent variable,\n",
    "Seaborn offers the function **`regplot()`** that produces a **scatter plot with regression line**.\n",
    "Furthermore, it also visualizes a confidence interval for that line.\n",
    "\n",
    "Note that it does not use the linear regression miner object;\n",
    "it will (re)compute the parameters of the line from the supplied data."
   ]
  },
  {
   "cell_type": "code",
   "execution_count": 10,
   "metadata": {},
   "outputs": [
    {
     "data": {
      "image/png": "[encoded data removed]",
      "text/plain": [
       "<matplotlib.figure.Figure at 0x11a625f28>"
      ]
     },
     "metadata": {},
     "output_type": "display_data"
    }
   ],
   "source": [
    "sns.regplot(X_reg['a'], y_reg['b']);"
   ]
  },
  {
   "cell_type": "markdown",
   "metadata": {},
   "source": [
    "## Step 4.c. Asses the model's quality\n",
    "\n",
    "There are various ways to assess the quality of a linear model.\n",
    "One common way is to look at the value for $R^2$,\n",
    "also known as the _coefficient of determination_.\n",
    "The best value for $R^2$ is 1.0;\n",
    "it can also take on any smaller value, including negative values.\n",
    "\n",
    "$R^2$ can be computed as follows:"
   ]
  },
  {
   "cell_type": "code",
   "execution_count": 11,
   "metadata": {},
   "outputs": [
    {
     "data": {
      "text/plain": [
       "0.73286248442044033"
      ]
     },
     "execution_count": 11,
     "metadata": {},
     "output_type": "execute_result"
    }
   ],
   "source": [
    "R2 = reg.score(X_reg, y_reg)\n",
    "R2"
   ]
  },
  {
   "cell_type": "markdown",
   "metadata": {},
   "source": [
    "The value of $R^2$ by itself does not say very much,\n",
    "but it can be used to _compare_ various models.\n",
    "Do note, however, that by adding more explanatory features in the selected data,\n",
    "the value of $R^2$ stays the same or goes up (it never goes down)."
   ]
  },
  {
   "cell_type": "markdown",
   "metadata": {},
   "source": [
    "## Step 5. Do predictions\n",
    "\n",
    "Once you have a model,\n",
    "you can use it to predict outcomes for other input data.\n",
    "For that purpose,\n",
    "the miner object provides a function **`predict()`**.\n",
    "\n",
    "Let's use it in our example to predict outcomes for all given `a` values.\n",
    "We store the predictions in a new column labeled `'predicted'`:"
   ]
  },
  {
   "cell_type": "code",
   "execution_count": 12,
   "metadata": {},
   "outputs": [
    {
     "data": {
      "text/html": [
       "<div>\n",
       "<style>\n",
       "    .dataframe thead tr:only-child th {\n",
       "        text-align: right;\n",
       "    }\n",
       "\n",
       "    .dataframe thead th {\n",
       "        text-align: left;\n",
       "    }\n",
       "\n",
       "    .dataframe tbody tr th {\n",
       "        vertical-align: top;\n",
       "    }\n",
       "</style>\n",
       "<table border=\"1\" class=\"dataframe\">\n",
       "  <thead>\n",
       "    <tr style=\"text-align: right;\">\n",
       "      <th></th>\n",
       "      <th>a</th>\n",
       "      <th>predicted</th>\n",
       "    </tr>\n",
       "  </thead>\n",
       "  <tbody>\n",
       "    <tr>\n",
       "      <th>0</th>\n",
       "      <td>0</td>\n",
       "      <td>0.445783</td>\n",
       "    </tr>\n",
       "    <tr>\n",
       "      <th>1</th>\n",
       "      <td>1</td>\n",
       "      <td>1.457831</td>\n",
       "    </tr>\n",
       "    <tr>\n",
       "      <th>2</th>\n",
       "      <td>2</td>\n",
       "      <td>2.469880</td>\n",
       "    </tr>\n",
       "    <tr>\n",
       "      <th>3</th>\n",
       "      <td>3</td>\n",
       "      <td>3.481928</td>\n",
       "    </tr>\n",
       "    <tr>\n",
       "      <th>4</th>\n",
       "      <td>4</td>\n",
       "      <td>4.493976</td>\n",
       "    </tr>\n",
       "    <tr>\n",
       "      <th>5</th>\n",
       "      <td>5</td>\n",
       "      <td>5.506024</td>\n",
       "    </tr>\n",
       "    <tr>\n",
       "      <th>6</th>\n",
       "      <td>4</td>\n",
       "      <td>4.493976</td>\n",
       "    </tr>\n",
       "    <tr>\n",
       "      <th>7</th>\n",
       "      <td>5</td>\n",
       "      <td>5.506024</td>\n",
       "    </tr>\n",
       "    <tr>\n",
       "      <th>8</th>\n",
       "      <td>6</td>\n",
       "      <td>6.518072</td>\n",
       "    </tr>\n",
       "    <tr>\n",
       "      <th>9</th>\n",
       "      <td>7</td>\n",
       "      <td>7.530120</td>\n",
       "    </tr>\n",
       "    <tr>\n",
       "      <th>10</th>\n",
       "      <td>8</td>\n",
       "      <td>8.542169</td>\n",
       "    </tr>\n",
       "    <tr>\n",
       "      <th>11</th>\n",
       "      <td>9</td>\n",
       "      <td>9.554217</td>\n",
       "    </tr>\n",
       "  </tbody>\n",
       "</table>\n",
       "</div>"
      ],
      "text/plain": [
       "    a  predicted\n",
       "0   0   0.445783\n",
       "1   1   1.457831\n",
       "2   2   2.469880\n",
       "3   3   3.481928\n",
       "4   4   4.493976\n",
       "5   5   5.506024\n",
       "6   4   4.493976\n",
       "7   5   5.506024\n",
       "8   6   6.518072\n",
       "9   7   7.530120\n",
       "10  8   8.542169\n",
       "11  9   9.554217"
      ]
     },
     "execution_count": 12,
     "metadata": {},
     "output_type": "execute_result"
    }
   ],
   "source": [
    "X_reg['predicted'] = reg.predict(X_reg)\n",
    "X_reg"
   ]
  },
  {
   "cell_type": "markdown",
   "metadata": {},
   "source": [
    "> **NOTE**:\n",
    "> `reg.predict()` requires a two-dimensional structure as argument,\n",
    "> such as a `DataFrame`, and it also returns a two-dimensional result.\n",
    "\n",
    "If you want a prediction for a single input value,\n",
    "then you need to _wrap_ that value in a `DataFrame`:"
   ]
  },
  {
   "cell_type": "code",
   "execution_count": 13,
   "metadata": {},
   "outputs": [
    {
     "data": {
      "text/plain": [
       "array([[ 5.]])"
      ]
     },
     "execution_count": 13,
     "metadata": {},
     "output_type": "execute_result"
    }
   ],
   "source": [
    "reg.predict(pd.DataFrame([4.5]))"
   ]
  },
  {
   "cell_type": "markdown",
   "metadata": {},
   "source": [
    "To obtain the prediction as a single value,\n",
    "you can extract it from the result by _indexing_:"
   ]
  },
  {
   "cell_type": "code",
   "execution_count": 14,
   "metadata": {},
   "outputs": [
    {
     "data": {
      "text/plain": [
       "5.0"
      ]
     },
     "execution_count": 14,
     "metadata": {},
     "output_type": "execute_result"
    }
   ],
   "source": [
    "reg.predict(pd.DataFrame([4.5]))[0, 0]"
   ]
  },
  {
   "cell_type": "markdown",
   "metadata": {},
   "source": [
    "Let's now visualize this linear model as a line in the scatter plot:\n",
    "\n",
    "* First, we create the scatter plot, and store its `Axes` object `ax`.\n",
    "* Next, we plot the predictions as a red (`style='r'`) line on the same `Axes` object.\n",
    "  Note that we explicitly supply `x` and `y` arguments.\n",
    "* Finally, we call `ax.autoscale()` to add some margin\n",
    "  so that points stay away from the boundary of the plotting area."
   ]
  },
  {
   "cell_type": "code",
   "execution_count": 15,
   "metadata": {},
   "outputs": [
    {
     "data": {
      "image/png": "[encoded data removed]",
      "text/plain": [
       "<matplotlib.figure.Figure at 0x11a7cdf98>"
      ]
     },
     "metadata": {},
     "output_type": "display_data"
    }
   ],
   "source": [
    "ax = df_sk.plot(kind='scatter', x='a', y='b')\n",
    "ax = X_reg.plot(x='a', y='predicted', style='r', ax=ax)\n",
    "ax.autoscale()"
   ]
  },
  {
   "cell_type": "markdown",
   "metadata": {},
   "source": [
    "## Warning about storing predictions\n",
    "\n",
    "A warning is in place here.\n",
    "There is a **dilemma** deciding **where to store the predictions**.\n",
    "\n",
    "Storing the predictions in the _same_ data frame as the input data\n",
    "    \n",
    "* is _convenient_ when **plotting** the predictions (see above, where we did this), but\n",
    "* is _inconvenient_ when **_re_-running** preceding steps\n",
    "    (fitting, extracting model parameters, etc.)\n",
    "    that take as argument the input data frame (which now has extra data in it).\n",
    "    \n",
    "The way we have done it here,\n",
    "you need to **re-run _all_ code cells starting with Step 1** (Select the data).\n",
    "Alternatives are:\n",
    "\n",
    "* to select only the appropriate columns in Steps 2, etc.;\n",
    "    that is, to exclude the `predicted` column\n",
    "    (not recommended, because it clutters the code);\n",
    "* to copy the input data frame and add predictions to that copy\n",
    "    (not recommended when data sets are large).\n",
    "    \n",
    "Keep this in mind when re-running previous steps."
   ]
  },
  {
   "cell_type": "markdown",
   "metadata": {},
   "source": [
    "## Exercise 1.\n",
    "\n",
    "Now apply this yourself.\n",
    "Do a linear regression with `b` as explanatory variable, and `a` as response variable.\n",
    "\n",
    "Do you expect to find an equivalent linear model (the same regression line)?\n",
    "Explain your answer.\n",
    "\n",
    "Use the following variables\n",
    "\n",
    "| **Variable** | **Description** |\n",
    "| ------------ | :-------------- |\n",
    "| `X_1` | explanatory variable (column `b`) |\n",
    "| `y_1` | dependent variable (column `a`) |\n",
    "| `reg_1` | linear regression miner object |\n",
    "| `coef_1` | coefficient for linear model |\n",
    "| `intercept_1` | intercept for linear model |\n",
    "| `R2_1` | coefficient of determination |\n",
    "| `X_1['predicted']` | predicted values for `X_1` |\n",
    "| `Answer_1` | (`bool`) whether the linear models are equivalent |\n",
    "| `Answer_1_why` | (`str`) motivation for `Answer_1` |"
   ]
  },
  {
   "cell_type": "markdown",
   "metadata": {},
   "source": [
    "**Step 1: Select the data**, assigning it to `X_1` and `y_1`."
   ]
  },
  {
   "cell_type": "code",
   "execution_count": 16,
   "metadata": {},
   "outputs": [
    {
     "name": "stdout",
     "output_type": "stream",
     "text": [
      "    b\n",
      "0   1\n",
      "1   2\n",
      "2   1\n",
      "3   3\n",
      "4   2\n",
      "5   3\n",
      "6   7\n",
      "7   8\n",
      "8   7\n",
      "9   9\n",
      "10  8\n",
      "11  9\n",
      "    a\n",
      "0   0\n",
      "1   1\n",
      "2   2\n",
      "3   3\n",
      "4   4\n",
      "5   5\n",
      "6   4\n",
      "7   5\n",
      "8   6\n",
      "9   7\n",
      "10  8\n",
      "11  9\n"
     ]
    }
   ],
   "source": [
    "#// BEGIN_TODO [PrEx_DMM_1_1] Step 1: Select the data (1 point)\n",
    "\n",
    "X_1 = df_sk[['b']].copy()\n",
    "y_1 = df_sk[['a']].copy()\n",
    "\n",
    "#// END_TODO [PrEx_DMM_1_1]\n",
    "\n",
    "print(X_1)\n",
    "print(y_1)"
   ]
  },
  {
   "cell_type": "markdown",
   "metadata": {},
   "source": [
    "**Step 2: Create the miner object**, assigning it to `reg_1`."
   ]
  },
  {
   "cell_type": "code",
   "execution_count": 17,
   "metadata": {},
   "outputs": [
    {
     "data": {
      "text/plain": [
       "LinearRegression(copy_X=True, fit_intercept=True, n_jobs=1, normalize=False)"
      ]
     },
     "execution_count": 17,
     "metadata": {},
     "output_type": "execute_result"
    }
   ],
   "source": [
    "#// BEGIN_TODO [PrEx_DMM_1_2] Step 2: Create the miner object (1 point)\n",
    "\n",
    "reg_1 = LinearRegression()\n",
    "\n",
    "#// END_TODO [PrEx_DMM_1_2]\n",
    "\n",
    "reg_1"
   ]
  },
  {
   "cell_type": "markdown",
   "metadata": {},
   "source": [
    "**Step 3: Do the fitting**."
   ]
  },
  {
   "cell_type": "code",
   "execution_count": 18,
   "metadata": {},
   "outputs": [
    {
     "data": {
      "text/plain": [
       "LinearRegression(copy_X=True, fit_intercept=True, n_jobs=1, normalize=False)"
      ]
     },
     "execution_count": 18,
     "metadata": {},
     "output_type": "execute_result"
    }
   ],
   "source": [
    "#// BEGIN_TODO [PrEx_DMM_1_3] Step 3: Do the fitting (1 point)\n",
    "\n",
    "reg_1.fit(X_1, y_1)\n",
    "\n",
    "#// END_TODO [PrEx_DMM_1_3]"
   ]
  },
  {
   "cell_type": "markdown",
   "metadata": {},
   "source": [
    "**Step 4.a: Extract model parameters**, assigning them to `coef_1` and `intercept_1`."
   ]
  },
  {
   "cell_type": "code",
   "execution_count": 19,
   "metadata": {},
   "outputs": [
    {
     "data": {
      "text/plain": [
       "(array([[ 0.72413793]]), array([ 0.87931034]))"
      ]
     },
     "execution_count": 19,
     "metadata": {},
     "output_type": "execute_result"
    }
   ],
   "source": [
    "#// BEGIN_TODO [PrEx_DMM_1_4a] Step 4a: Extract model parameters (1 point)\n",
    "\n",
    "coef_1 = reg_1.coef_\n",
    "intercept_1 = reg_1.intercept_\n",
    "\n",
    "#// END_TODO [PrEx_DMM_1_4a]\n",
    "\n",
    "coef_1, intercept_1"
   ]
  },
  {
   "cell_type": "markdown",
   "metadata": {},
   "source": [
    "**Step 4.b: Visualize the model**, using `sns.regplot()`.  \n",
    "Hint:\n",
    "\n",
    "* Don't forget that you need to plot the explanatory variable (`b`) on the $x$-axis and\n",
    "    response variable (`a`) on the $y$-axis.  \n",
    "    This is automatic when using `sns.regplot()` properly.  "
   ]
  },
  {
   "cell_type": "code",
   "execution_count": 20,
   "metadata": {},
   "outputs": [
    {
     "data": {
      "text/plain": [
       "<matplotlib.axes._subplots.AxesSubplot at 0x11a7e8d68>"
      ]
     },
     "execution_count": 20,
     "metadata": {},
     "output_type": "execute_result"
    },
    {
     "data": {
      "image/png": "[encoded data removed]",
      "text/plain": [
       "<matplotlib.figure.Figure at 0x11a5d7160>"
      ]
     },
     "metadata": {},
     "output_type": "display_data"
    }
   ],
   "source": [
    "#// BEGIN_TODO [PrEx_DMM_1_4b] Step 4b: Plot linear model with 'b' on x-axis, 'a' on y-axis (1 point)\n",
    "\n",
    "sns.regplot(X_1['b'],y_1['a'])\n",
    "\n",
    "#// END_TODO [PrEx_DMM_1_4b]"
   ]
  },
  {
   "cell_type": "markdown",
   "metadata": {},
   "source": [
    "**Step 4.c: Assess model quality**, assigning $R^2$ (coefficient of determination) to `R2_1`."
   ]
  },
  {
   "cell_type": "code",
   "execution_count": 21,
   "metadata": {},
   "outputs": [
    {
     "data": {
      "text/plain": [
       "0.73286248442044033"
      ]
     },
     "execution_count": 21,
     "metadata": {},
     "output_type": "execute_result"
    }
   ],
   "source": [
    "#// BEGIN_TODO [PrEx_DMM_1_4c] Step 4c: Assess model quality (1 point)\n",
    "\n",
    "R2_1 = reg_1.score(X_1,y_1)\n",
    "\n",
    "#// END_TODO [PrEx_DMM_1_4c]\n",
    "\n",
    "R2_1"
   ]
  },
  {
   "cell_type": "markdown",
   "metadata": {},
   "source": [
    "For the comparison to the earlier model where the roles are reversed,\n",
    "it is helpful to _also_ create a plot\n",
    "with `a` on the $x$-axis and `b` on the $y$-axis.  \n",
    "\n",
    "For this, you cannot simply use `sns.regplot()`;\n",
    "instead, superimpose a scatter plot and a line plot\n",
    "(from a prediction for `X_1`, which you need to do first).\n",
    "\n",
    "**Step 5: Do predictions** for `X_1`, assigning them to `X_1['predicted']`."
   ]
  },
  {
   "cell_type": "code",
   "execution_count": 22,
   "metadata": {},
   "outputs": [
    {
     "data": {
      "text/plain": [
       "0     1.603448\n",
       "1     2.327586\n",
       "2     1.603448\n",
       "3     3.051724\n",
       "4     2.327586\n",
       "5     3.051724\n",
       "6     5.948276\n",
       "7     6.672414\n",
       "8     5.948276\n",
       "9     7.396552\n",
       "10    6.672414\n",
       "11    7.396552\n",
       "Name: predicted, dtype: float64"
      ]
     },
     "execution_count": 22,
     "metadata": {},
     "output_type": "execute_result"
    }
   ],
   "source": [
    "#// BEGIN_TODO [PrEx_DMM_1_5] Step 5: Do predictions for X_1, to aid further visualization (1 point)\n",
    "\n",
    "X_1['predicted'] = reg_1.predict(X_1)\n",
    "\n",
    "#// END_TODO [PrEx_DMM_1_5]\n",
    "\n",
    "X_1['predicted']"
   ]
  },
  {
   "cell_type": "markdown",
   "metadata": {},
   "source": [
    "Create a superimposed scatter plot and line plot from the predictions."
   ]
  },
  {
   "cell_type": "code",
   "execution_count": 23,
   "metadata": {},
   "outputs": [
    {
     "data": {
      "image/png": "[encoded data removed]",
      "text/plain": [
       "<matplotlib.figure.Figure at 0x11af422e8>"
      ]
     },
     "metadata": {},
     "output_type": "display_data"
    }
   ],
   "source": [
    "#// BEGIN_TODO [PrEx_DMM_1_compare] Plot linear model with 'a' on x-axis, 'b' on y-axis (1 point)\n",
    "\n",
    "ax = df_sk.plot(kind='scatter', x='a', y='b')\n",
    "ax = X_1.plot(x='b', y='predicted', style='r', ax=ax)\n",
    "ax.autoscale()\n",
    "\n",
    "#// END_TODO [PrEx_DMM_1_compare]"
   ]
  },
  {
   "cell_type": "markdown",
   "metadata": {},
   "source": [
    "Is this model equivalent to the model we found earlier,\n",
    "with the roles of the variables interchanged?  \n",
    "Can you explain why this is so?\n",
    "\n",
    "Assign your boolean answer to `Answer_1`,\n",
    "the textual motivation (as string) to `Answer_1_why`."
   ]
  },
  {
   "cell_type": "code",
   "execution_count": 24,
   "metadata": {},
   "outputs": [
    {
     "data": {
      "text/plain": [
       "(False,\n",
       " 'Because only b is predicted in the second plot, not a like in the first plot.')"
      ]
     },
     "execution_count": 24,
     "metadata": {},
     "output_type": "execute_result"
    }
   ],
   "source": [
    "#// BEGIN_TODO [PrEx_DMM_1_equiv] Whether this model is equivalent to earlier example (1 point)\n",
    "\n",
    "Answer_1 = False\n",
    "Answer_1_why = 'Because only b is predicted in the second plot, not a like in the first plot.'\n",
    "\n",
    "#// END_TODO [PrEx_DMM_1_equiv]\n",
    "\n",
    "Answer_1, Answer_1_why"
   ]
  },
  {
   "cell_type": "markdown",
   "metadata": {},
   "source": [
    "# 2. Clustering\n",
    "\n",
    "The goal of _clustering_ is to come up with a _collection of clusters_ that best fits the data.\n",
    "It is a _unsupervised learning_ method\n",
    "that seeks to group the data 'points' in coherent groups, where\n",
    "\n",
    "* distances _within_ (intra) groups are relatively _small_, and\n",
    "* distance _between_ (inter) groups are relatively _large_.\n",
    "\n",
    "In this lesson, we will use the **K-Means** algorithm for clustering.\n",
    "It is non-deterministic, and must be started with the desired number of clusters.\n",
    "\n",
    "If you are interested in more details, you can consult the documentation at SciKit Learn:\n",
    "\n",
    "* [K-Means algorithm](http://scikit-learn.org/stable/modules/clustering.html#k-means)\n",
    "* [the `sklearn.cluster.KMeans` miner](http://scikit-learn.org/stable/modules/generated/sklearn.cluster.KMeans.html)"
   ]
  },
  {
   "cell_type": "markdown",
   "metadata": {},
   "source": [
    "## Step 1. Select the data\n",
    "\n",
    "Since clustering is an unsupervised learning method, we select both columns:"
   ]
  },
  {
   "cell_type": "code",
   "execution_count": 25,
   "metadata": {
    "collapsed": true
   },
   "outputs": [],
   "source": [
    "X_km = df_sk.copy()"
   ]
  },
  {
   "cell_type": "markdown",
   "metadata": {},
   "source": [
    "## Step 2. Create the miner object\n",
    "\n",
    "Next, we create the _miner object_ for **K-Means clustering**,\n",
    "supplying the desired number of clusters as argument (**`n_clusters=...`**),\n",
    "and store it in the variable `km`.\n",
    "\n",
    "In this example, we go for four clusters:"
   ]
  },
  {
   "cell_type": "code",
   "execution_count": 26,
   "metadata": {
    "collapsed": true
   },
   "outputs": [],
   "source": [
    "km = KMeans(n_clusters=4)  # it needs a little help"
   ]
  },
  {
   "cell_type": "markdown",
   "metadata": {},
   "source": [
    "## Step 3. Do the fitting\n",
    "\n",
    "Invoke the **`fit()`** function of the miner object,\n",
    "supplying the selected data:"
   ]
  },
  {
   "cell_type": "code",
   "execution_count": 27,
   "metadata": {},
   "outputs": [
    {
     "data": {
      "text/plain": [
       "KMeans(algorithm='auto', copy_x=True, init='k-means++', max_iter=300,\n",
       "    n_clusters=4, n_init=10, n_jobs=1, precompute_distances='auto',\n",
       "    random_state=None, tol=0.0001, verbose=0)"
      ]
     },
     "execution_count": 27,
     "metadata": {},
     "output_type": "execute_result"
    }
   ],
   "source": [
    "km.fit(X_km)"
   ]
  },
  {
   "cell_type": "markdown",
   "metadata": {},
   "source": [
    "## Step 4.a. Extract model parameters\n",
    "\n",
    "In case of K-Means clustering,\n",
    "the relevant attributes of the miner object `km` are:\n",
    "\n",
    "* **`km.cluster_centers_ `** : the _locations of the cluster centers_\n",
    "* **`km.labels_`** : the _cluster labels_ for the data points  \n",
    "    Labels are in the range from $0$ through $k-1$.\n",
    "\n",
    "It is convenient\n",
    "\n",
    "* to convert the cluster centers to a data frame with the same column labels as the original data,\n",
    "    and\n",
    "* to add the labels as a new column to the data being clustered.\n",
    "\n",
    "In case of our example, we do this as follows."
   ]
  },
  {
   "cell_type": "code",
   "execution_count": 28,
   "metadata": {},
   "outputs": [
    {
     "data": {
      "text/html": [
       "<div>\n",
       "<style>\n",
       "    .dataframe thead tr:only-child th {\n",
       "        text-align: right;\n",
       "    }\n",
       "\n",
       "    .dataframe thead th {\n",
       "        text-align: left;\n",
       "    }\n",
       "\n",
       "    .dataframe tbody tr th {\n",
       "        vertical-align: top;\n",
       "    }\n",
       "</style>\n",
       "<table border=\"1\" class=\"dataframe\">\n",
       "  <thead>\n",
       "    <tr style=\"text-align: right;\">\n",
       "      <th></th>\n",
       "      <th>a</th>\n",
       "      <th>b</th>\n",
       "    </tr>\n",
       "  </thead>\n",
       "  <tbody>\n",
       "    <tr>\n",
       "      <th>0</th>\n",
       "      <td>5.0</td>\n",
       "      <td>7.333333</td>\n",
       "    </tr>\n",
       "    <tr>\n",
       "      <th>1</th>\n",
       "      <td>1.0</td>\n",
       "      <td>1.333333</td>\n",
       "    </tr>\n",
       "    <tr>\n",
       "      <th>2</th>\n",
       "      <td>8.0</td>\n",
       "      <td>8.666667</td>\n",
       "    </tr>\n",
       "    <tr>\n",
       "      <th>3</th>\n",
       "      <td>4.0</td>\n",
       "      <td>2.666667</td>\n",
       "    </tr>\n",
       "  </tbody>\n",
       "</table>\n",
       "</div>"
      ],
      "text/plain": [
       "     a         b\n",
       "0  5.0  7.333333\n",
       "1  1.0  1.333333\n",
       "2  8.0  8.666667\n",
       "3  4.0  2.666667"
      ]
     },
     "execution_count": 28,
     "metadata": {},
     "output_type": "execute_result"
    }
   ],
   "source": [
    "centers = pd.DataFrame(km.cluster_centers_, columns=df_sk.columns)\n",
    "centers"
   ]
  },
  {
   "cell_type": "code",
   "execution_count": 29,
   "metadata": {},
   "outputs": [
    {
     "data": {
      "text/html": [
       "<div>\n",
       "<style>\n",
       "    .dataframe thead tr:only-child th {\n",
       "        text-align: right;\n",
       "    }\n",
       "\n",
       "    .dataframe thead th {\n",
       "        text-align: left;\n",
       "    }\n",
       "\n",
       "    .dataframe tbody tr th {\n",
       "        vertical-align: top;\n",
       "    }\n",
       "</style>\n",
       "<table border=\"1\" class=\"dataframe\">\n",
       "  <thead>\n",
       "    <tr style=\"text-align: right;\">\n",
       "      <th></th>\n",
       "      <th>a</th>\n",
       "      <th>b</th>\n",
       "      <th>cluster</th>\n",
       "    </tr>\n",
       "  </thead>\n",
       "  <tbody>\n",
       "    <tr>\n",
       "      <th>0</th>\n",
       "      <td>0</td>\n",
       "      <td>1</td>\n",
       "      <td>1</td>\n",
       "    </tr>\n",
       "    <tr>\n",
       "      <th>1</th>\n",
       "      <td>1</td>\n",
       "      <td>2</td>\n",
       "      <td>1</td>\n",
       "    </tr>\n",
       "    <tr>\n",
       "      <th>2</th>\n",
       "      <td>2</td>\n",
       "      <td>1</td>\n",
       "      <td>1</td>\n",
       "    </tr>\n",
       "    <tr>\n",
       "      <th>3</th>\n",
       "      <td>3</td>\n",
       "      <td>3</td>\n",
       "      <td>3</td>\n",
       "    </tr>\n",
       "    <tr>\n",
       "      <th>4</th>\n",
       "      <td>4</td>\n",
       "      <td>2</td>\n",
       "      <td>3</td>\n",
       "    </tr>\n",
       "    <tr>\n",
       "      <th>5</th>\n",
       "      <td>5</td>\n",
       "      <td>3</td>\n",
       "      <td>3</td>\n",
       "    </tr>\n",
       "    <tr>\n",
       "      <th>6</th>\n",
       "      <td>4</td>\n",
       "      <td>7</td>\n",
       "      <td>0</td>\n",
       "    </tr>\n",
       "    <tr>\n",
       "      <th>7</th>\n",
       "      <td>5</td>\n",
       "      <td>8</td>\n",
       "      <td>0</td>\n",
       "    </tr>\n",
       "    <tr>\n",
       "      <th>8</th>\n",
       "      <td>6</td>\n",
       "      <td>7</td>\n",
       "      <td>0</td>\n",
       "    </tr>\n",
       "    <tr>\n",
       "      <th>9</th>\n",
       "      <td>7</td>\n",
       "      <td>9</td>\n",
       "      <td>2</td>\n",
       "    </tr>\n",
       "    <tr>\n",
       "      <th>10</th>\n",
       "      <td>8</td>\n",
       "      <td>8</td>\n",
       "      <td>2</td>\n",
       "    </tr>\n",
       "    <tr>\n",
       "      <th>11</th>\n",
       "      <td>9</td>\n",
       "      <td>9</td>\n",
       "      <td>2</td>\n",
       "    </tr>\n",
       "  </tbody>\n",
       "</table>\n",
       "</div>"
      ],
      "text/plain": [
       "    a  b  cluster\n",
       "0   0  1        1\n",
       "1   1  2        1\n",
       "2   2  1        1\n",
       "3   3  3        3\n",
       "4   4  2        3\n",
       "5   5  3        3\n",
       "6   4  7        0\n",
       "7   5  8        0\n",
       "8   6  7        0\n",
       "9   7  9        2\n",
       "10  8  8        2\n",
       "11  9  9        2"
      ]
     },
     "execution_count": 29,
     "metadata": {},
     "output_type": "execute_result"
    }
   ],
   "source": [
    "X_km['cluster'] = km.labels_\n",
    "X_km"
   ]
  },
  {
   "cell_type": "markdown",
   "metadata": {},
   "source": [
    "## Step 4.b. Visualize the model\n",
    "\n",
    "To visualize the mined model,\n",
    "we create a scatter plot,\n",
    "where we color each data point according to its cluster.\n",
    "\n",
    "First, we set up a _color map_, with one color per cluster.\n",
    "Then we create the scatter plot.\n",
    "Finally, we put in the centers marked by a cross."
   ]
  },
  {
   "cell_type": "code",
   "execution_count": 30,
   "metadata": {},
   "outputs": [
    {
     "data": {
      "image/png": "[encoded data removed]",
      "text/plain": [
       "<matplotlib.figure.Figure at 0x11a62cc88>"
      ]
     },
     "metadata": {},
     "output_type": "display_data"
    }
   ],
   "source": [
    "cmap = plt.get_cmap('gist_rainbow', lut=len(centers))  # color map with one color per cluster\n",
    "ax = X_km.plot(kind='scatter', x='a', y='b', s=50, c='cluster', sharex=False, cmap=cmap)\n",
    "centers.plot(kind='scatter', x='a', y='b', marker='x', s=100, c=centers.index, cmap=cmap, ax=ax, colorbar=False);"
   ]
  },
  {
   "cell_type": "markdown",
   "metadata": {},
   "source": [
    "> **NOTES**:\n",
    "> * The $x$-axis will _not_ be labeled when the argument `shareX=False` is omitted.\n",
    ">     (Supplying the argument `shareX=False` is a workaround for a bug.)\n",
    "> * The argument `colorbar=False` suppresses a duplicate second color bar."
   ]
  },
  {
   "cell_type": "markdown",
   "metadata": {},
   "source": [
    "## Step 4.c. Assess the model's quality\n",
    "\n",
    "For clustering, a quality measure is the _sum of squared distances_ of data points\n",
    "to their closest cluster center, also known as _inertia_.\n",
    "Its value is non-negative, and 0 is the best.\n",
    "\n",
    "It is obtained as follows."
   ]
  },
  {
   "cell_type": "code",
   "execution_count": 31,
   "metadata": {},
   "outputs": [
    {
     "data": {
      "text/plain": [
       "10.666666666666668"
      ]
     },
     "execution_count": 31,
     "metadata": {},
     "output_type": "execute_result"
    }
   ],
   "source": [
    "inertia = km.inertia_\n",
    "inertia"
   ]
  },
  {
   "cell_type": "markdown",
   "metadata": {},
   "source": [
    "As with $R^2$ for linear regression,\n",
    "this quality parameter can be used for comparing clusterings.\n",
    "But do note that when creating more clusters,\n",
    "it will always go down."
   ]
  },
  {
   "cell_type": "markdown",
   "metadata": {},
   "source": [
    "## Step 5. Do predictions\n",
    "\n",
    "Given one or more additional data points, you can find their clusters,\n",
    "that is, the label of the nearest cluster center, with the function **`predict()`**."
   ]
  },
  {
   "cell_type": "code",
   "execution_count": 32,
   "metadata": {},
   "outputs": [
    {
     "data": {
      "text/plain": [
       "array([3, 0, 3, 0], dtype=int32)"
      ]
     },
     "execution_count": 32,
     "metadata": {},
     "output_type": "execute_result"
    }
   ],
   "source": [
    "test_km = [(2, 4), (4, 6), (5, 4), (7, 6)]\n",
    "km.predict(test_km)"
   ]
  },
  {
   "attachments": {
    "kmeans-regions.png": {
     "image/png": "[encoded data removed]"
    }
   },
   "cell_type": "markdown",
   "metadata": {},
   "source": [
    "Check whether these predictions make sense.\n",
    "\n",
    "It may be helpful to consult the following plot\n",
    "(its creation is beyond the scope of these lessons),\n",
    "which shows the cluster (color) predicted by `km.predict()`\n",
    "for all points in the plot area .\n",
    "\n",
    "![kmeans-regions.png](attachment:kmeans-regions.png)"
   ]
  },
  {
   "cell_type": "markdown",
   "metadata": {},
   "source": [
    "## Exercise 2\n",
    "\n",
    "Your turn.\n",
    "\n",
    "Do a clustering into _four_ clusters of the same data set,\n",
    "but with all `b` values divided by _ten_.\n",
    "\n",
    "'Predict' the cluster labels for the equivalent data points as above (after scaling):\n",
    "``` python\n",
    "test_2 = [(2, 0.4), (4, 0.6), (5, 0.4), (7, 0.6)]\n",
    "```\n",
    "\n",
    "Do you expect to find the same clusters and the same predictions?\n",
    "\n",
    "Use the following variables\n",
    "\n",
    "| **Variable** | **Description** |\n",
    "| ------------ | :-------------- |\n",
    "| `X_2` | data points to cluster (`b` column scaled down by factor 10) |\n",
    "| `km_2` | K-means clustering miner object for 4 clusters |\n",
    "| `centers_2` | (`DataFrame`) cluster centers |\n",
    "| `labels_2` | labels for all data points |\n",
    "| `inertia_2` | inertia of the clustering |\n",
    "| `predicted_2` | predicted values for `test_2` |\n",
    "| `Answer_2` | (`bool`) whether the clusterings are equivalent |\n",
    "| `Answer_2_why` | (`str`) motivation for `Answer_2` |"
   ]
  },
  {
   "cell_type": "markdown",
   "metadata": {},
   "source": [
    "**Step 1: Select the data**, assigning it to `X_2`.\n",
    "\n",
    "Hint: After copying the selected data into `X_2`, scale down the `b` column with\n",
    "``` python\n",
    "X_2['b'] = X_2['b'] / 10\n",
    "```"
   ]
  },
  {
   "cell_type": "code",
   "execution_count": 33,
   "metadata": {},
   "outputs": [
    {
     "data": {
      "text/html": [
       "<div>\n",
       "<style>\n",
       "    .dataframe thead tr:only-child th {\n",
       "        text-align: right;\n",
       "    }\n",
       "\n",
       "    .dataframe thead th {\n",
       "        text-align: left;\n",
       "    }\n",
       "\n",
       "    .dataframe tbody tr th {\n",
       "        vertical-align: top;\n",
       "    }\n",
       "</style>\n",
       "<table border=\"1\" class=\"dataframe\">\n",
       "  <thead>\n",
       "    <tr style=\"text-align: right;\">\n",
       "      <th></th>\n",
       "      <th>a</th>\n",
       "      <th>b</th>\n",
       "    </tr>\n",
       "  </thead>\n",
       "  <tbody>\n",
       "    <tr>\n",
       "      <th>0</th>\n",
       "      <td>0</td>\n",
       "      <td>0.1</td>\n",
       "    </tr>\n",
       "    <tr>\n",
       "      <th>1</th>\n",
       "      <td>1</td>\n",
       "      <td>0.2</td>\n",
       "    </tr>\n",
       "    <tr>\n",
       "      <th>2</th>\n",
       "      <td>2</td>\n",
       "      <td>0.1</td>\n",
       "    </tr>\n",
       "    <tr>\n",
       "      <th>3</th>\n",
       "      <td>3</td>\n",
       "      <td>0.3</td>\n",
       "    </tr>\n",
       "    <tr>\n",
       "      <th>4</th>\n",
       "      <td>4</td>\n",
       "      <td>0.2</td>\n",
       "    </tr>\n",
       "    <tr>\n",
       "      <th>5</th>\n",
       "      <td>5</td>\n",
       "      <td>0.3</td>\n",
       "    </tr>\n",
       "    <tr>\n",
       "      <th>6</th>\n",
       "      <td>4</td>\n",
       "      <td>0.7</td>\n",
       "    </tr>\n",
       "    <tr>\n",
       "      <th>7</th>\n",
       "      <td>5</td>\n",
       "      <td>0.8</td>\n",
       "    </tr>\n",
       "    <tr>\n",
       "      <th>8</th>\n",
       "      <td>6</td>\n",
       "      <td>0.7</td>\n",
       "    </tr>\n",
       "    <tr>\n",
       "      <th>9</th>\n",
       "      <td>7</td>\n",
       "      <td>0.9</td>\n",
       "    </tr>\n",
       "    <tr>\n",
       "      <th>10</th>\n",
       "      <td>8</td>\n",
       "      <td>0.8</td>\n",
       "    </tr>\n",
       "    <tr>\n",
       "      <th>11</th>\n",
       "      <td>9</td>\n",
       "      <td>0.9</td>\n",
       "    </tr>\n",
       "  </tbody>\n",
       "</table>\n",
       "</div>"
      ],
      "text/plain": [
       "    a    b\n",
       "0   0  0.1\n",
       "1   1  0.2\n",
       "2   2  0.1\n",
       "3   3  0.3\n",
       "4   4  0.2\n",
       "5   5  0.3\n",
       "6   4  0.7\n",
       "7   5  0.8\n",
       "8   6  0.7\n",
       "9   7  0.9\n",
       "10  8  0.8\n",
       "11  9  0.9"
      ]
     },
     "execution_count": 33,
     "metadata": {},
     "output_type": "execute_result"
    }
   ],
   "source": [
    "#// BEGIN_TODO [PrEx_DMM_2_1] Step 1: Select the data, with 'b' divided by 10 (1 point)\n",
    "\n",
    "X_2 = df_sk.copy()\n",
    "X_2['b'] = X_2['b']/10\n",
    "\n",
    "#// END_TODO [PrEx_DMM_2_1]\n",
    "\n",
    "X_2"
   ]
  },
  {
   "cell_type": "markdown",
   "metadata": {},
   "source": [
    "**Step 2: Create the miner object**, assigning it to `K_2`.\n",
    "\n",
    "Hint: Set keyword argument `n_clusters` to 4."
   ]
  },
  {
   "cell_type": "code",
   "execution_count": 34,
   "metadata": {},
   "outputs": [
    {
     "data": {
      "text/plain": [
       "KMeans(algorithm='auto', copy_x=True, init='k-means++', max_iter=300,\n",
       "    n_clusters=4, n_init=10, n_jobs=1, precompute_distances='auto',\n",
       "    random_state=None, tol=0.0001, verbose=0)"
      ]
     },
     "execution_count": 34,
     "metadata": {},
     "output_type": "execute_result"
    }
   ],
   "source": [
    "#// BEGIN_TODO [PrEx_DMM_2_2] Step 2: Create the miner object, for clustering into 4 clusters (1 point)\n",
    "\n",
    "km_2 = KMeans(n_clusters=4)\n",
    "\n",
    "#// END_TODO [PrEx_DMM_2_2]\n",
    "\n",
    "km_2"
   ]
  },
  {
   "cell_type": "markdown",
   "metadata": {},
   "source": [
    "**Step 3: Do the fitting**."
   ]
  },
  {
   "cell_type": "code",
   "execution_count": 35,
   "metadata": {},
   "outputs": [
    {
     "data": {
      "text/plain": [
       "KMeans(algorithm='auto', copy_x=True, init='k-means++', max_iter=300,\n",
       "    n_clusters=4, n_init=10, n_jobs=1, precompute_distances='auto',\n",
       "    random_state=None, tol=0.0001, verbose=0)"
      ]
     },
     "execution_count": 35,
     "metadata": {},
     "output_type": "execute_result"
    }
   ],
   "source": [
    "#// BEGIN_TODO [PrEx_DMM_2_3] Step 3: Do the fitting (1 point)\n",
    "\n",
    "km_2.fit(X_2)\n",
    "\n",
    "#// END_TODO [PrEx_DMM_2_3]"
   ]
  },
  {
   "cell_type": "markdown",
   "metadata": {},
   "source": [
    "**Step 4.a: Extract model parameters**, assigning them to `centers_2` and `X_2['cluster']`."
   ]
  },
  {
   "cell_type": "code",
   "execution_count": 36,
   "metadata": {},
   "outputs": [
    {
     "data": {
      "text/html": [
       "<div>\n",
       "<style>\n",
       "    .dataframe thead tr:only-child th {\n",
       "        text-align: right;\n",
       "    }\n",
       "\n",
       "    .dataframe thead th {\n",
       "        text-align: left;\n",
       "    }\n",
       "\n",
       "    .dataframe tbody tr th {\n",
       "        vertical-align: top;\n",
       "    }\n",
       "</style>\n",
       "<table border=\"1\" class=\"dataframe\">\n",
       "  <thead>\n",
       "    <tr style=\"text-align: right;\">\n",
       "      <th></th>\n",
       "      <th>a</th>\n",
       "      <th>b</th>\n",
       "    </tr>\n",
       "  </thead>\n",
       "  <tbody>\n",
       "    <tr>\n",
       "      <th>0</th>\n",
       "      <td>8.000000</td>\n",
       "      <td>0.866667</td>\n",
       "    </tr>\n",
       "    <tr>\n",
       "      <th>1</th>\n",
       "      <td>3.666667</td>\n",
       "      <td>0.400000</td>\n",
       "    </tr>\n",
       "    <tr>\n",
       "      <th>2</th>\n",
       "      <td>1.000000</td>\n",
       "      <td>0.133333</td>\n",
       "    </tr>\n",
       "    <tr>\n",
       "      <th>3</th>\n",
       "      <td>5.333333</td>\n",
       "      <td>0.600000</td>\n",
       "    </tr>\n",
       "  </tbody>\n",
       "</table>\n",
       "</div>"
      ],
      "text/plain": [
       "          a         b\n",
       "0  8.000000  0.866667\n",
       "1  3.666667  0.400000\n",
       "2  1.000000  0.133333\n",
       "3  5.333333  0.600000"
      ]
     },
     "execution_count": 36,
     "metadata": {},
     "output_type": "execute_result"
    }
   ],
   "source": [
    "#// BEGIN_TODO [PrEx_DMM_2_4a] Step 4.a: Extract model parameters (1 point)\n",
    "\n",
    "centers_2 = pd.DataFrame(km_2.cluster_centers_, columns=df_sk.columns)\n",
    "X_2['cluster'] = km_2.labels_\n",
    "\n",
    "#// END_TODO [PrEx_DMM_2_4a]\n",
    "\n",
    "centers_2"
   ]
  },
  {
   "cell_type": "code",
   "execution_count": 37,
   "metadata": {},
   "outputs": [
    {
     "data": {
      "text/html": [
       "<div>\n",
       "<style>\n",
       "    .dataframe thead tr:only-child th {\n",
       "        text-align: right;\n",
       "    }\n",
       "\n",
       "    .dataframe thead th {\n",
       "        text-align: left;\n",
       "    }\n",
       "\n",
       "    .dataframe tbody tr th {\n",
       "        vertical-align: top;\n",
       "    }\n",
       "</style>\n",
       "<table border=\"1\" class=\"dataframe\">\n",
       "  <thead>\n",
       "    <tr style=\"text-align: right;\">\n",
       "      <th></th>\n",
       "      <th>a</th>\n",
       "      <th>b</th>\n",
       "      <th>cluster</th>\n",
       "    </tr>\n",
       "  </thead>\n",
       "  <tbody>\n",
       "    <tr>\n",
       "      <th>0</th>\n",
       "      <td>0</td>\n",
       "      <td>0.1</td>\n",
       "      <td>2</td>\n",
       "    </tr>\n",
       "    <tr>\n",
       "      <th>1</th>\n",
       "      <td>1</td>\n",
       "      <td>0.2</td>\n",
       "      <td>2</td>\n",
       "    </tr>\n",
       "    <tr>\n",
       "      <th>2</th>\n",
       "      <td>2</td>\n",
       "      <td>0.1</td>\n",
       "      <td>2</td>\n",
       "    </tr>\n",
       "    <tr>\n",
       "      <th>3</th>\n",
       "      <td>3</td>\n",
       "      <td>0.3</td>\n",
       "      <td>1</td>\n",
       "    </tr>\n",
       "    <tr>\n",
       "      <th>4</th>\n",
       "      <td>4</td>\n",
       "      <td>0.2</td>\n",
       "      <td>1</td>\n",
       "    </tr>\n",
       "    <tr>\n",
       "      <th>5</th>\n",
       "      <td>5</td>\n",
       "      <td>0.3</td>\n",
       "      <td>3</td>\n",
       "    </tr>\n",
       "    <tr>\n",
       "      <th>6</th>\n",
       "      <td>4</td>\n",
       "      <td>0.7</td>\n",
       "      <td>1</td>\n",
       "    </tr>\n",
       "    <tr>\n",
       "      <th>7</th>\n",
       "      <td>5</td>\n",
       "      <td>0.8</td>\n",
       "      <td>3</td>\n",
       "    </tr>\n",
       "    <tr>\n",
       "      <th>8</th>\n",
       "      <td>6</td>\n",
       "      <td>0.7</td>\n",
       "      <td>3</td>\n",
       "    </tr>\n",
       "    <tr>\n",
       "      <th>9</th>\n",
       "      <td>7</td>\n",
       "      <td>0.9</td>\n",
       "      <td>0</td>\n",
       "    </tr>\n",
       "    <tr>\n",
       "      <th>10</th>\n",
       "      <td>8</td>\n",
       "      <td>0.8</td>\n",
       "      <td>0</td>\n",
       "    </tr>\n",
       "    <tr>\n",
       "      <th>11</th>\n",
       "      <td>9</td>\n",
       "      <td>0.9</td>\n",
       "      <td>0</td>\n",
       "    </tr>\n",
       "  </tbody>\n",
       "</table>\n",
       "</div>"
      ],
      "text/plain": [
       "    a    b  cluster\n",
       "0   0  0.1        2\n",
       "1   1  0.2        2\n",
       "2   2  0.1        2\n",
       "3   3  0.3        1\n",
       "4   4  0.2        1\n",
       "5   5  0.3        3\n",
       "6   4  0.7        1\n",
       "7   5  0.8        3\n",
       "8   6  0.7        3\n",
       "9   7  0.9        0\n",
       "10  8  0.8        0\n",
       "11  9  0.9        0"
      ]
     },
     "execution_count": 37,
     "metadata": {},
     "output_type": "execute_result"
    }
   ],
   "source": [
    "X_2"
   ]
  },
  {
   "cell_type": "markdown",
   "metadata": {},
   "source": [
    "**Step 4.b: Visualize the model**, doing a superimposed scatter plot and plot of the centers"
   ]
  },
  {
   "cell_type": "code",
   "execution_count": 38,
   "metadata": {},
   "outputs": [
    {
     "data": {
      "text/plain": [
       "<matplotlib.axes._subplots.AxesSubplot at 0x11a5af278>"
      ]
     },
     "execution_count": 38,
     "metadata": {},
     "output_type": "execute_result"
    },
    {
     "data": {
      "image/png": "[encoded data removed]",
      "text/plain": [
       "<matplotlib.figure.Figure at 0x11a8bfda0>"
      ]
     },
     "metadata": {},
     "output_type": "display_data"
    }
   ],
   "source": [
    "#// BEGIN_TODO [PrEx_DMM_2_4b] Step 4.b: Visualize the clustering (1 point)\n",
    "\n",
    "cmap = plt.get_cmap('gist_rainbow', lut=len(centers_2))  # color map with one color per cluster\n",
    "ax = X_2.plot(kind='scatter', x='b', y='a', s=50, c='cluster', sharex=False, cmap=cmap)\n",
    "centers_2.plot(kind='scatter', x='b', y='a', marker='x', s=100, c=centers.index, cmap=cmap, ax=ax, colorbar=False)\n",
    "\n",
    "#// END_TODO [PrEx_DMM_2_4b]"
   ]
  },
  {
   "cell_type": "markdown",
   "metadata": {},
   "source": [
    "**Step 4.c: Assess model quality**, assigning the _inertia_ to `inertia_2`."
   ]
  },
  {
   "cell_type": "code",
   "execution_count": 39,
   "metadata": {},
   "outputs": [
    {
     "data": {
      "text/plain": [
       "5.6266666666666669"
      ]
     },
     "execution_count": 39,
     "metadata": {},
     "output_type": "execute_result"
    }
   ],
   "source": [
    "#// BEGIN_TODO [PrEx_DMM_2_4c] Step 4.c: Assess model quality (1 point)\n",
    "\n",
    "inertia_2 = km_2.inertia_\n",
    "\n",
    "#// END_TODO [PrEx_DMM_2_4c]\n",
    "\n",
    "inertia_2"
   ]
  },
  {
   "cell_type": "markdown",
   "metadata": {},
   "source": [
    "**Step 5: Do predictions** for `test_2`, assigning them to `predicted_2`."
   ]
  },
  {
   "cell_type": "code",
   "execution_count": 40,
   "metadata": {},
   "outputs": [
    {
     "data": {
      "text/plain": [
       "array([2, 1, 3, 0], dtype=int32)"
      ]
     },
     "execution_count": 40,
     "metadata": {},
     "output_type": "execute_result"
    }
   ],
   "source": [
    "test_2 = [(2, 0.4), (4, 0.6), (5, 0.4), (7, 0.6)]\n",
    "\n",
    "#// BEGIN_TODO [PrEx_DMM_2_5] Predict cluster labels for test_2 (1 point)\n",
    "\n",
    "predicted_2 = km_2.predict(test_2)\n",
    "\n",
    "#// END_TODO [PrEx_DMM_2_5]\n",
    "\n",
    "predicted_2"
   ]
  },
  {
   "cell_type": "markdown",
   "metadata": {},
   "source": [
    "Is this clustering equivalent the the earlier example without scaling?\n",
    "Motivate your answer.\n",
    "\n",
    "Assign your boolean answer to `Answer_2`,\n",
    "and your textual motivation (as string) to `Answer_2_why`."
   ]
  },
  {
   "cell_type": "code",
   "execution_count": 41,
   "metadata": {},
   "outputs": [
    {
     "data": {
      "text/plain": [
       "(False, 'Because the test is also different, they have different values.')"
      ]
     },
     "execution_count": 41,
     "metadata": {},
     "output_type": "execute_result"
    }
   ],
   "source": [
    "#// BEGIN_TODO [PrEx_DMM_2_equiv] Whether this clustering is equivalent to earlier example (1 point)\n",
    "\n",
    "Answer_2 = False\n",
    "Answer_2_why = 'Because the test is also different, they have different values.'\n",
    "\n",
    "#// END_TODO [PrEx_DMM_2_equiv]\n",
    "\n",
    "Answer_2, Answer_2_why"
   ]
  },
  {
   "cell_type": "markdown",
   "metadata": {},
   "source": [
    "# 3. Decision Tree Mining\n",
    "\n",
    "The goal of _decision tree mining_ is to come up with a _decision tree_ that best fits the data.\n",
    "It is a _supervised learning_ method\n",
    "that seeks to predict a target variable from explanatory variables, where\n",
    "\n",
    "* each decision is based on the value of one variable,\n",
    "* the tree has a minimal depth\n",
    "  (each decision is most informative).\n",
    "  \n",
    "A decision tree is a kind of **finite automaton**\n",
    "that takes values for each variable as input,\n",
    "and produces a (target) value as output,\n",
    "by making a sequence of decisions based on the input.\n",
    "\n",
    "In this lesson, we will use (an optimized version of) the **CART** algorithm\n",
    "for decision tree mining.\n",
    "It is non-deterministic, and can be started with a bound on the tree depth.\n",
    "\n",
    "If you are interested in more details, you can consult the documentation at SciKit Learn:\n",
    "\n",
    "* [Decision Trees](http://scikit-learn.org/stable/modules/tree.html)\n",
    "* [the `sklearn.tree.DecisionTreeClassifier` miner](http://scikit-learn.org/stable/modules/generated/sklearn.tree.DecisionTreeClassifier.html)"
   ]
  },
  {
   "cell_type": "markdown",
   "metadata": {},
   "source": [
    "## Step 1. Select the data\n",
    "\n",
    "Because decision tree mining is a supervised learning method,\n",
    "we need to split the data into explanatory variables and a target variable.\n",
    "\n",
    "In this example,\n",
    "we (fairly arbitrarily) _choose_ `a` and `b` to be the _independent_ (or _explanatory_) variables\n",
    "and we add as (artificial) _target_ (or _dependent_) variable a cluster label derived from the index,\n",
    "such that the points fall into four classes.\n",
    "\n",
    "We select the data as follows for decision tree mining:"
   ]
  },
  {
   "cell_type": "code",
   "execution_count": 42,
   "metadata": {
    "collapsed": true
   },
   "outputs": [],
   "source": [
    "X_dtm = df_sk.copy()\n",
    "y_dtm = X_dtm.index // 3  # target is cluster number"
   ]
  },
  {
   "cell_type": "markdown",
   "metadata": {},
   "source": [
    "To give you an impression of this target variable,\n",
    "we show the clusters by color in the following scatter plot:"
   ]
  },
  {
   "cell_type": "code",
   "execution_count": 43,
   "metadata": {},
   "outputs": [
    {
     "data": {
      "image/png": "[encoded data removed]",
      "text/plain": [
       "<matplotlib.figure.Figure at 0x11a8cc240>"
      ]
     },
     "metadata": {},
     "output_type": "display_data"
    }
   ],
   "source": [
    "cmap = plt.get_cmap('gist_rainbow', lut=4)  # create color map with 4 colors\n",
    "ax = X_dtm.plot(kind='scatter', x='a', y='b', s=50, c=y_dtm, cmap=cmap, sharex=False);\n",
    "# sharex=False is a workaround for a bug that suppresses labeling on x-axis when color is used"
   ]
  },
  {
   "cell_type": "markdown",
   "metadata": {},
   "source": [
    "## Step 2. Create the miner object\n",
    "\n",
    "Next, we create the _miner object_ for **decision tree mining**,\n",
    "and store it in the variable `dtm`.\n",
    "We supply an upper bound on the tree depth as argument."
   ]
  },
  {
   "cell_type": "code",
   "execution_count": 44,
   "metadata": {
    "collapsed": true
   },
   "outputs": [],
   "source": [
    "dtm = DecisionTreeClassifier(max_depth=3)"
   ]
  },
  {
   "cell_type": "markdown",
   "metadata": {},
   "source": [
    "If you do not supply an upper bound,\n",
    "then the decision tree will grow as far as is 'necessary' to get the best result.\n",
    "This may take more time, and for larger data sets will lead to very large trees,\n",
    "which take up a lot of memory."
   ]
  },
  {
   "cell_type": "markdown",
   "metadata": {},
   "source": [
    "## Step 3. Do the fitting\n",
    "\n",
    "Invoke the **`fit()`** function of the miner object,\n",
    "supplying the selected data:"
   ]
  },
  {
   "cell_type": "code",
   "execution_count": 45,
   "metadata": {},
   "outputs": [
    {
     "data": {
      "text/plain": [
       "DecisionTreeClassifier(class_weight=None, criterion='gini', max_depth=3,\n",
       "            max_features=None, max_leaf_nodes=None,\n",
       "            min_impurity_split=1e-07, min_samples_leaf=1,\n",
       "            min_samples_split=2, min_weight_fraction_leaf=0.0,\n",
       "            presort=False, random_state=None, splitter='best')"
      ]
     },
     "execution_count": 45,
     "metadata": {},
     "output_type": "execute_result"
    }
   ],
   "source": [
    "dtm.fit(X_dtm, y_dtm)"
   ]
  },
  {
   "cell_type": "markdown",
   "metadata": {},
   "source": [
    "## Step 4.a. Extract model parameters\n",
    "\n",
    "In case of decision tree mining,\n",
    "the relevant attributes of the miner object `dtm` are:\n",
    "\n",
    "* **`dtm.tree_`** : the _mined decision tree_\n",
    "  * **`dtm.tree_.node_count`** : the _number of nodes_ in the tree\n",
    "  * **`dtm.tree_.max_depth`** : the _depth_ of the three,\n",
    "    that is, the maximum distance from the root to any leaf\n",
    "* **`dtm.feature_importances_ `** : the _relative importance_ of each feature (explanatory variable)\n",
    "* **`dtm.classes_`** : the _inferred target values_ for the given features  \n",
    "\n",
    "It is convenient\n",
    "\n",
    "* to visualize the tree (see Step 4.b)\n",
    "\n",
    "* to convert the feature importances to a data frame\n",
    "    with the same column labels as the original data"
   ]
  },
  {
   "cell_type": "code",
   "execution_count": 46,
   "metadata": {},
   "outputs": [
    {
     "data": {
      "text/plain": [
       "(7, 2)"
      ]
     },
     "execution_count": 46,
     "metadata": {},
     "output_type": "execute_result"
    }
   ],
   "source": [
    "dtm.tree_.node_count, dtm.tree_.max_depth"
   ]
  },
  {
   "cell_type": "code",
   "execution_count": 47,
   "metadata": {},
   "outputs": [
    {
     "data": {
      "text/html": [
       "<div>\n",
       "<style>\n",
       "    .dataframe thead tr:only-child th {\n",
       "        text-align: right;\n",
       "    }\n",
       "\n",
       "    .dataframe thead th {\n",
       "        text-align: left;\n",
       "    }\n",
       "\n",
       "    .dataframe tbody tr th {\n",
       "        vertical-align: top;\n",
       "    }\n",
       "</style>\n",
       "<table border=\"1\" class=\"dataframe\">\n",
       "  <thead>\n",
       "    <tr style=\"text-align: right;\">\n",
       "      <th></th>\n",
       "      <th>a</th>\n",
       "      <th>b</th>\n",
       "    </tr>\n",
       "  </thead>\n",
       "  <tbody>\n",
       "    <tr>\n",
       "      <th>0</th>\n",
       "      <td>0.666667</td>\n",
       "      <td>0.333333</td>\n",
       "    </tr>\n",
       "  </tbody>\n",
       "</table>\n",
       "</div>"
      ],
      "text/plain": [
       "          a         b\n",
       "0  0.666667  0.333333"
      ]
     },
     "execution_count": 47,
     "metadata": {},
     "output_type": "execute_result"
    }
   ],
   "source": [
    "feature_importances = pd.DataFrame([dtm.feature_importances_], columns=X_dtm.columns)\n",
    "feature_importances"
   ]
  },
  {
   "cell_type": "code",
   "execution_count": 48,
   "metadata": {},
   "outputs": [
    {
     "data": {
      "text/plain": [
       "array([0, 1, 2, 3])"
      ]
     },
     "execution_count": 48,
     "metadata": {},
     "output_type": "execute_result"
    }
   ],
   "source": [
    "dtm.classes_"
   ]
  },
  {
   "attachments": {
    "example-decision-tree.png": {
     "image/png": "[encoded data removed]"
    }
   },
   "cell_type": "markdown",
   "metadata": {},
   "source": [
    "## Step 4.b. Visualize the model\n",
    "\n",
    "Unfortunately,\n",
    "creating a _graphical representation_ of a decision tree\n",
    "(as shown in the image below) is [outside the scope of these lessons](http://scikit-learn.org/stable/modules/tree.html).\n",
    "\n",
    "![example-decision-tree.png](attachment:example-decision-tree.png)\n",
    "\n",
    "Instead, we use a (third-party) function **`tree_print()`**,\n",
    "which is imported from `treeviz.py`,\n",
    "to show a _textual representation_."
   ]
  },
  {
   "cell_type": "code",
   "execution_count": 49,
   "metadata": {},
   "outputs": [
    {
     "name": "stdout",
     "output_type": "stream",
     "text": [
      "if b =< 5.0: \n",
      "  |then if a =< 2.5: \n",
      "  |  |then 0\n",
      "  |  |else 1\n",
      "  |else if a =< 6.5: \n",
      "  |  |then 2\n",
      "  |  |else 3\n",
      "<---->\n",
      "Tree Depth:  2\n"
     ]
    }
   ],
   "source": [
    "tree_print(dtm, X_dtm)"
   ]
  },
  {
   "cell_type": "markdown",
   "metadata": {},
   "source": [
    "Recall that we set `max_depth=3` when creating the miner object.\n",
    "Apparently, the target can be predicted fully with a smaller tree,\n",
    "since the mined decision tree actually has only a depth of 2."
   ]
  },
  {
   "cell_type": "markdown",
   "metadata": {},
   "source": [
    "## Step 4.c. Assess the model's quality\n",
    "\n",
    "The quality of a decision tree can be expressed as its _mean accuracy_,\n",
    "obtained as follows:"
   ]
  },
  {
   "cell_type": "code",
   "execution_count": 50,
   "metadata": {},
   "outputs": [
    {
     "data": {
      "text/plain": [
       "1.0"
      ]
     },
     "execution_count": 50,
     "metadata": {},
     "output_type": "execute_result"
    }
   ],
   "source": [
    "dtm.score(X_dtm, y_dtm)"
   ]
  },
  {
   "cell_type": "markdown",
   "metadata": {},
   "source": [
    "This score is at best 1.0 (100% correct),\n",
    "and will drop towards 0.0 with less accuracy.\n",
    "\n",
    "Note that _accuracy_ treats all errors in the same way.\n",
    "When not all types of errors have the same impact\n",
    "(think of _false positives_ versus _false negatives_),\n",
    "accuracy is not a good measure.\n",
    "In such cases, it is better to produce a _confusion matrix_\n",
    "(see below)."
   ]
  },
  {
   "cell_type": "markdown",
   "metadata": {},
   "source": [
    "## Step 5. Do predictions\n",
    "\n",
    "Given one or more additional data points, you can find their predicted target value\n",
    "with the function **`predict()`**.\n",
    "\n",
    "Let's predict for the same points as we used for clustering."
   ]
  },
  {
   "cell_type": "code",
   "execution_count": 51,
   "metadata": {},
   "outputs": [
    {
     "data": {
      "text/plain": [
       "[(2, 4), (4, 6), (5, 4), (7, 6)]"
      ]
     },
     "execution_count": 51,
     "metadata": {},
     "output_type": "execute_result"
    }
   ],
   "source": [
    "test_km"
   ]
  },
  {
   "cell_type": "code",
   "execution_count": 52,
   "metadata": {},
   "outputs": [
    {
     "data": {
      "text/plain": [
       "array([0, 2, 1, 3])"
      ]
     },
     "execution_count": 52,
     "metadata": {},
     "output_type": "execute_result"
    }
   ],
   "source": [
    "dtm.predict(test_km)"
   ]
  },
  {
   "attachments": {
    "decision-tree-regions.png": {
     "image/png": "[encoded data removed]"
    }
   },
   "cell_type": "markdown",
   "metadata": {},
   "source": [
    "Check these predictions.\n",
    "\n",
    "It may be helpful to consult the following plot\n",
    "(its creation is beyond the scope of these lessons),\n",
    "which shows the target (color) predicted by `dtm.predict()`\n",
    "for all points in the plot area .\n",
    "\n",
    "![decision-tree-regions.png](attachment:decision-tree-regions.png)"
   ]
  },
  {
   "cell_type": "markdown",
   "metadata": {},
   "source": [
    "## Differences between predictions by K-Means and decision trees\n",
    "\n",
    "Above we obtained two 'perfect' models for the _same_ values of the independent variables,\n",
    "one with K-Means clustering and the other with decision tree mining.\n",
    "\n",
    "Observe that these models differ when used for prediction\n",
    "on _other_ values of the independent variables.\n",
    "Of course,\n",
    "you have to keep in mind that K-Means assigned arbitrary numbers to the clusters as labels!\n",
    "\n",
    "This difference in prediction is apparent from the two plots\n",
    "where all predictions have been colored in.\n",
    "\n",
    "The reason for this difference is\n",
    "that K-Means clustering involves Euclidean distances and\n",
    "that decision trees involve decisions based the value of a single variable.\n",
    "Thus,\n",
    "their predictions cut up the space of all possible data points into 'cells' of different shapes:\n",
    "\n",
    "* The boundaries between K-Means cells are, in general, _sloped_ lines,\n",
    "  running at equal distances from pairs of cluster centers.\n",
    "* The boundaries between decision tree cells are either _vertical_ or _horizontal_ lines,\n",
    "  depending on whether the decision involves variable `a` or variable `b`.\n",
    "\n",
    "Visualization of these cells is beyond the scope of this course.\n",
    "And when more than two variables (features) are involved,\n",
    "it becomes nearly impossible to visualize these cells."
   ]
  },
  {
   "cell_type": "markdown",
   "metadata": {},
   "source": [
    "## Exercise 3.\n",
    "\n",
    "Now you should try this yourself.\n",
    "\n",
    "Mine a decision tree of depth at most 3, for the same data set,\n",
    "but with with `index // 2` as target.\n",
    "\n",
    "'Predict' the target values for the same data points as used before:\n",
    "``` python\n",
    "test_km = [(2, 4), (4, 6), (5, 4), (7, 6)]\n",
    "```\n",
    "\n",
    "Does the tree make sense?\n",
    "Is it perfect?\n",
    "If not, can you do better?\n",
    "\n",
    "Use the following variables\n",
    "\n",
    "| **Variable** | **Description** |\n",
    "| ------------ | :-------------- |\n",
    "| `X_3` | data points to mine |\n",
    "| `y_3` | target variable, being `index // 2` |\n",
    "| `dtm_3` | decision tree miner object |\n",
    "| `node_count_3` | number of nodes in the mined tree |\n",
    "| `max_depth_3` | actual maximum depth of the mined tree |\n",
    "| `feature_importances_3` | (`DataFrame`) relative feature importances |\n",
    "| `score_3` | mean accuracy of the mined tree |\n",
    "| `predicted_3` | predicted values for `test_km` |\n",
    "| `Answer_3` | (`bool`) whether the tree is perfect |\n",
    "| `Answer_3_why` | (`str`) motivation for `Answer_3` |"
   ]
  },
  {
   "cell_type": "markdown",
   "metadata": {},
   "source": [
    "**Step 1: Select the data**, assigning it to `X_3` and `y_3`.\n",
    "\n",
    "Hint: After copying the selected data into `X_3`, define `y_3` by\n",
    "``` python\n",
    "y_3 = X_3.index // 2\n",
    "```"
   ]
  },
  {
   "cell_type": "code",
   "execution_count": 53,
   "metadata": {
    "collapsed": true
   },
   "outputs": [],
   "source": [
    "#// BEGIN_TODO [PrEx_DMM_3_1] Step 1: Select the data (1 point)\n",
    "\n",
    "X_3 = df_sk.copy()\n",
    "y_3 = X_3.index // 2\n",
    "\n",
    "#// END_TODO [PrEx_DMM_3_1]"
   ]
  },
  {
   "cell_type": "markdown",
   "metadata": {},
   "source": [
    "**Step 2: Create the miner object**, assigning it to `dtm_3`.\n",
    "\n",
    "Hint: Don't forget to set the maximum depth (`max_depth`) to 3."
   ]
  },
  {
   "cell_type": "code",
   "execution_count": 54,
   "metadata": {
    "collapsed": true
   },
   "outputs": [],
   "source": [
    "#// BEGIN_TODO [PrEx_DMM_3_2] Step 2: Create the miner object (1 point)\n",
    "\n",
    "dtm_3 = DecisionTreeClassifier(max_depth=3)\n",
    "\n",
    "#// END_TODO [PrEx_DMM_3_2]"
   ]
  },
  {
   "cell_type": "markdown",
   "metadata": {},
   "source": [
    "**Step 3: Do the fitting**."
   ]
  },
  {
   "cell_type": "code",
   "execution_count": 55,
   "metadata": {},
   "outputs": [
    {
     "data": {
      "text/plain": [
       "DecisionTreeClassifier(class_weight=None, criterion='gini', max_depth=3,\n",
       "            max_features=None, max_leaf_nodes=None,\n",
       "            min_impurity_split=1e-07, min_samples_leaf=1,\n",
       "            min_samples_split=2, min_weight_fraction_leaf=0.0,\n",
       "            presort=False, random_state=None, splitter='best')"
      ]
     },
     "execution_count": 55,
     "metadata": {},
     "output_type": "execute_result"
    }
   ],
   "source": [
    "#// BEGIN_TODO [PrEx_DMM_3_3] Step 3: Do the fitting (1 point)\n",
    "\n",
    "dtm_3.fit(X_3, y_3)\n",
    "\n",
    "#// END_TODO [PrEx_DMM_3_3]"
   ]
  },
  {
   "cell_type": "markdown",
   "metadata": {},
   "source": [
    "**Step 4.a: Extract model parameters**, assigning them to `node_count_3` and `max_depth_3`."
   ]
  },
  {
   "cell_type": "code",
   "execution_count": 56,
   "metadata": {},
   "outputs": [
    {
     "data": {
      "text/plain": [
       "(Int64Index([0, 0, 1, 1, 2, 2, 3, 3, 4, 4, 5, 5], dtype='int64'), 11, 3)"
      ]
     },
     "execution_count": 56,
     "metadata": {},
     "output_type": "execute_result"
    }
   ],
   "source": [
    "#// BEGIN_TODO [PrEx_DMM_3_4a] Step 4a: Extract model parameters (1 point)\n",
    "\n",
    "node_count_3 = dtm_3.tree_.node_count\n",
    "max_depth_3 = dtm_3.tree_.max_depth\n",
    "\n",
    "#// END_TODO [PrEx_DMM_3_4a]\n",
    "\n",
    "y_3, node_count_3, max_depth_3"
   ]
  },
  {
   "cell_type": "markdown",
   "metadata": {},
   "source": [
    "**Step 4.b: Visualize the model**.\n",
    "\n",
    "Show a _textual_ representation of the mined decision tree, and\n",
    "the relative importance of the features as data frame."
   ]
  },
  {
   "cell_type": "code",
   "execution_count": 57,
   "metadata": {},
   "outputs": [
    {
     "data": {
      "text/plain": [
       "(     a    b\n",
       " 0  0.8  0.2, <function treeviz.tree_print>)"
      ]
     },
     "execution_count": 57,
     "metadata": {},
     "output_type": "execute_result"
    }
   ],
   "source": [
    "#// BEGIN_TODO [PrEx_DMM_3_4b] Textual representation, feature importances (1 point)\n",
    "\n",
    "feature_importances_3 = pd.DataFrame([dtm_3.feature_importances_], columns=X_3.columns)\n",
    "\n",
    "#// END_TODO [PrEx_DMM_3_4b]\n",
    "\n",
    "feature_importances_3, tree_print"
   ]
  },
  {
   "cell_type": "markdown",
   "metadata": {},
   "source": [
    "**Step 4.c: Asses model quality**, assigning its _mean accuracy_ to `score_3`."
   ]
  },
  {
   "cell_type": "code",
   "execution_count": 58,
   "metadata": {},
   "outputs": [
    {
     "data": {
      "text/plain": [
       "1.0"
      ]
     },
     "execution_count": 58,
     "metadata": {},
     "output_type": "execute_result"
    }
   ],
   "source": [
    "#// BEGIN_TODO [PrEx_DMM_3_4c] Step 4.c: Assess model quality (1 point)\n",
    "\n",
    "score_3 = dtm_3.score(X_3, y_3)\n",
    "\n",
    "#// END_TODO [PrEx_DMM_3_4c]\n",
    "\n",
    "score_3"
   ]
  },
  {
   "cell_type": "markdown",
   "metadata": {},
   "source": [
    "Is the mined tree perfect?  Motivate your answer.\n",
    "\n",
    "Assign your boolean answer to `Answer_3` and\n",
    "your textual motivation (as string) to `Answer_3_why`."
   ]
  },
  {
   "cell_type": "code",
   "execution_count": 59,
   "metadata": {},
   "outputs": [
    {
     "data": {
      "text/plain": [
       "(True, 'Because the score is 1.0.')"
      ]
     },
     "execution_count": 59,
     "metadata": {},
     "output_type": "execute_result"
    }
   ],
   "source": [
    "#// BEGIN_TODO [PrEx_DMM_3_perfect] Whether the tree is perfect (1 point)\n",
    "\n",
    "Answer_3 = True\n",
    "Answer_3_why = 'Because the score is 1.0.'\n",
    "\n",
    "#// END_TODO [PrEx_DMM_3_perfect]\n",
    "\n",
    "Answer_3, Answer_3_why"
   ]
  },
  {
   "cell_type": "markdown",
   "metadata": {},
   "source": [
    "**Step 5: Do predictions** for `test_km`, assigning them to `predicted_3`."
   ]
  },
  {
   "cell_type": "code",
   "execution_count": 60,
   "metadata": {},
   "outputs": [
    {
     "data": {
      "text/plain": [
       "array([1, 3, 2, 4])"
      ]
     },
     "execution_count": 60,
     "metadata": {},
     "output_type": "execute_result"
    }
   ],
   "source": [
    "test_km\n",
    "\n",
    "#// BEGIN_TODO [PrEx_DMM_3_5] Predict targets for test_km (1 point)\n",
    "\n",
    "predicted_3 = dtm_3.predict(test_km)\n",
    "\n",
    "#// END_TODO [PrEx_DMM_3_5]\n",
    "\n",
    "predicted_3"
   ]
  },
  {
   "cell_type": "markdown",
   "metadata": {},
   "source": [
    "# 4. Accuracy and Confusion Matrix\n",
    "\n",
    "To assess or compare the **quality** of mined models,\n",
    "you can check a set of **predicted values**\n",
    "against the corresponding **known correct values**.\n",
    "\n",
    "The values used as input for these predictions is called the **test set**.\n",
    "A test set can be obtained in various ways:\n",
    "\n",
    "* Take all, or some random subset, of the values used to fit the model;\n",
    "  that is, take them from the _training set_.  \n",
    "  This is usually not such a good idea, especially not if the training set is small,\n",
    "  because the model is likely to capture specific characteristics of the training set\n",
    "  that may not be valid in general.\n",
    "* Take some other random sample;\n",
    "  for example, put 20% of your data set (selected randomly) aside as test set,\n",
    "  and use the other 80% as training set.\n",
    "  \n",
    "The simplest quality measure is the **accuracy** of the model:\n",
    "\n",
    "* the percentage of correctly predicted values in the test set.\n",
    "\n",
    "Suppose we have a test set of 20 rows,\n",
    "and our model produces 20 predictions `y_pred` (a Pandas `Series` object).\n",
    "Furthermore, we have the corresponding correct (actual) values in `y_true`.\n",
    "\n",
    "Here is concrete example data:"
   ]
  },
  {
   "cell_type": "code",
   "execution_count": 61,
   "metadata": {},
   "outputs": [
    {
     "data": {
      "text/plain": [
       "20"
      ]
     },
     "execution_count": 61,
     "metadata": {},
     "output_type": "execute_result"
    }
   ],
   "source": [
    "y_true = pd.Series([1, 1, 1, 1, 1, 1, 1, 1, 1, 1, 2, 2, 2, 2, 2, 3, 3, 3, 3, 3], name='actual')\n",
    "y_pred = pd.Series([1, 1, 1, 1, 1, 1, 1, 1, 2, 2, 1, 1, 2, 2, 2, 1, 1, 1, 1, 3], name='predicted')\n",
    "y_true.count()  # 20"
   ]
  },
  {
   "cell_type": "markdown",
   "metadata": {},
   "source": [
    "The _accuracy_ can be computed as follows\n",
    "with the SciKit Learn function **`accuracy_score()`**:"
   ]
  },
  {
   "cell_type": "code",
   "execution_count": 62,
   "metadata": {},
   "outputs": [
    {
     "data": {
      "text/plain": [
       "0.59999999999999998"
      ]
     },
     "execution_count": 62,
     "metadata": {},
     "output_type": "execute_result"
    }
   ],
   "source": [
    "accuracy_score(y_true, y_pred)  # fraction of correct predictions"
   ]
  },
  {
   "cell_type": "markdown",
   "metadata": {},
   "source": [
    "Note that floating-point arithmetic is inherently inaccurate.\n",
    "Apparently, 60% of the predictions were correct in this example.\n",
    "\n",
    "You can get the (absolute rather than relative) number of correct predictions\n",
    "by supplying the optional argument `normalize=False`:"
   ]
  },
  {
   "cell_type": "code",
   "execution_count": 63,
   "metadata": {},
   "outputs": [
    {
     "data": {
      "text/plain": [
       "12"
      ]
     },
     "execution_count": 63,
     "metadata": {},
     "output_type": "execute_result"
    }
   ],
   "source": [
    "accuracy_score(y_true, y_pred, normalize=False)  # number of correct predictions"
   ]
  },
  {
   "cell_type": "markdown",
   "metadata": {},
   "source": [
    "In practice, not all prediction errors have the same impact.\n",
    "Consider a test for a curable deadly disease:\n",
    "\n",
    "* A _false positive_ means that you are diagnosed as being ill,\n",
    "  when in fact you are not.\n",
    "  Of course, that means you will be treated unnecessarily\n",
    "  (extra cost, extra stress), but you'll live.\n",
    "* A _false negative_ means that you are diagnosed as healthy,\n",
    "  when in fact you are badly ill.\n",
    "  That means you won't receive treatment, and most likely you'll die.\n",
    "\n",
    "A quality measure that takes this difference into account is the\n",
    "**confusion matrix**:\n",
    "\n",
    "* the occurrence frequecncy for each combination of actual value and predicted value.\n",
    "\n",
    "The _confusion matrix_ can be computed as follows\n",
    "with the SciKit Learn function **`confusion_matrix()`**:"
   ]
  },
  {
   "cell_type": "code",
   "execution_count": 64,
   "metadata": {},
   "outputs": [
    {
     "data": {
      "text/plain": [
       "array([[8, 2, 0],\n",
       "       [2, 3, 0],\n",
       "       [4, 0, 1]])"
      ]
     },
     "execution_count": 64,
     "metadata": {},
     "output_type": "execute_result"
    }
   ],
   "source": [
    "cm = confusion_matrix(y_true, y_pred)  # cm[i, j] == number of values i predicted as j\n",
    "cm"
   ]
  },
  {
   "cell_type": "markdown",
   "metadata": {},
   "source": [
    "It is convenient to convert the confusion matrix to a data frame and include row and column labels:"
   ]
  },
  {
   "cell_type": "code",
   "execution_count": 65,
   "metadata": {},
   "outputs": [
    {
     "data": {
      "text/html": [
       "<div>\n",
       "<style>\n",
       "    .dataframe thead tr:only-child th {\n",
       "        text-align: right;\n",
       "    }\n",
       "\n",
       "    .dataframe thead th {\n",
       "        text-align: left;\n",
       "    }\n",
       "\n",
       "    .dataframe tbody tr th {\n",
       "        vertical-align: top;\n",
       "    }\n",
       "</style>\n",
       "<table border=\"1\" class=\"dataframe\">\n",
       "  <thead>\n",
       "    <tr style=\"text-align: right;\">\n",
       "      <th></th>\n",
       "      <th>1</th>\n",
       "      <th>2</th>\n",
       "      <th>3</th>\n",
       "    </tr>\n",
       "  </thead>\n",
       "  <tbody>\n",
       "    <tr>\n",
       "      <th>1</th>\n",
       "      <td>8</td>\n",
       "      <td>2</td>\n",
       "      <td>0</td>\n",
       "    </tr>\n",
       "    <tr>\n",
       "      <th>2</th>\n",
       "      <td>2</td>\n",
       "      <td>3</td>\n",
       "      <td>0</td>\n",
       "    </tr>\n",
       "    <tr>\n",
       "      <th>3</th>\n",
       "      <td>4</td>\n",
       "      <td>0</td>\n",
       "      <td>1</td>\n",
       "    </tr>\n",
       "  </tbody>\n",
       "</table>\n",
       "</div>"
      ],
      "text/plain": [
       "   1  2  3\n",
       "1  8  2  0\n",
       "2  2  3  0\n",
       "3  4  0  1"
      ]
     },
     "execution_count": 65,
     "metadata": {},
     "output_type": "execute_result"
    }
   ],
   "source": [
    "values = [1, 2, 3]\n",
    "pd.DataFrame(cm, index=values, columns=values)"
   ]
  },
  {
   "cell_type": "markdown",
   "metadata": {},
   "source": [
    "The entry in row $i$ and column $j$ is the number of tests\n",
    "whose actual value is $i$ and whose predicted value is $j$.\n",
    "\n",
    "> **NOTE**: In some other places, you may encounter a _transposed_ confusion matrix,\n",
    "> that is, where the role of _rows_ and _columns_ has been interchanged.  \n",
    "> Therefore, be careful when you interpret a confusion matrix,\n",
    "> and when you report a confusion matrix to others,\n",
    "> clearly indicated the role of rows and columns.\n",
    "\n",
    "On the main diagonal (from top left to bottom right) of the confusion matrix,\n",
    "we see the correct predictions.\n",
    "In our example: $8 + 3 + 1 = 12$.\n",
    "\n",
    "From this confusion matrix we can see two more things.\n",
    "\n",
    "First, by considering each of the three _rows_ we infer:\n",
    "\n",
    "| **Value** | **Predicted correctly** |\n",
    "| --------- | ----------------------- |\n",
    "| 1 | 8 / (8+2+0) = 80% |\n",
    "| 2 | 3 / (2+3+0) = 60% |\n",
    "| 3 | 1 / (4+0+1) = 20% |\n",
    "\n",
    "Second, by considering each of the three _columns_ we infer:\n",
    "\n",
    "| **Predicted value** | **Correct** |\n",
    "| ------------------- | ----------- |\n",
    "| 1 | 8 / (8+2+4) = 57% |\n",
    "| 2 | 3 / (2+3+0) = 60% |\n",
    "| 3 | 1 / (0+0+1) = 100% |\n",
    "\n",
    "Especially notice the big difference for the value 3.\n",
    "It has\n",
    "\n",
    "* $1$ _true positive_\n",
    "* $8+2+2+3 = 15$ _true negatives_\n",
    "* $0+0 = 0$ _false positives_\n",
    "* $4+0 = 4$ _false negatives_\n",
    "\n",
    "Therefore,\n",
    "\n",
    "* in 20% of the cases _where the actual value is 3_, it is correctly predicted as 3.\n",
    "* in 100% of the cases _where the value is predicted as 3_, that prediction is correct."
   ]
  },
  {
   "cell_type": "markdown",
   "metadata": {},
   "source": [
    "## Exercise 4.\n",
    "\n",
    "Consider the following test results"
   ]
  },
  {
   "cell_type": "code",
   "execution_count": 66,
   "metadata": {},
   "outputs": [
    {
     "data": {
      "text/plain": [
       "10"
      ]
     },
     "execution_count": 66,
     "metadata": {},
     "output_type": "execute_result"
    }
   ],
   "source": [
    "y_true_4 = pd.Series(['a', 'a', 'a', 'a', 'a', 'a', 'b', 'b', 'b', 'b'], name='actual')\n",
    "y_pred_4 = pd.Series(['a', 'a', 'b', 'a', 'a', 'b', 'b', 'b', 'a', 'b'], name='predicted')\n",
    "y_true_4.count()"
   ]
  },
  {
   "cell_type": "markdown",
   "metadata": {},
   "source": [
    "What are the relative and absolute accuracy of these tests, that is, the fraction and count of correct predictions?  \n",
    "Assign your answers to the variables `acc_rel_4` and `acc_abs_4`."
   ]
  },
  {
   "cell_type": "code",
   "execution_count": 67,
   "metadata": {},
   "outputs": [
    {
     "data": {
      "text/plain": [
       "(0.69999999999999996, 7)"
      ]
     },
     "execution_count": 67,
     "metadata": {},
     "output_type": "execute_result"
    }
   ],
   "source": [
    "#// BEGIN_TODO [PrEx_DMM_4a] Relative and absolute accuracy (1 point)\n",
    "\n",
    "acc_rel_4 = accuracy_score(y_true_4, y_pred_4)\n",
    "acc_abs_4 = accuracy_score(y_true_4, y_pred_4, normalize=False)\n",
    "\n",
    "#// END_TODO [PrEx_DMM_4a]\n",
    "\n",
    "acc_rel_4, acc_abs_4"
   ]
  },
  {
   "cell_type": "markdown",
   "metadata": {},
   "source": [
    "Compute the confusion matrix for these tests.  \n",
    "Assign your answer as a labeled data frame to the variable `cm_4`."
   ]
  },
  {
   "cell_type": "code",
   "execution_count": 68,
   "metadata": {},
   "outputs": [
    {
     "data": {
      "text/html": [
       "<div>\n",
       "<style>\n",
       "    .dataframe thead tr:only-child th {\n",
       "        text-align: right;\n",
       "    }\n",
       "\n",
       "    .dataframe thead th {\n",
       "        text-align: left;\n",
       "    }\n",
       "\n",
       "    .dataframe tbody tr th {\n",
       "        vertical-align: top;\n",
       "    }\n",
       "</style>\n",
       "<table border=\"1\" class=\"dataframe\">\n",
       "  <thead>\n",
       "    <tr style=\"text-align: right;\">\n",
       "      <th></th>\n",
       "      <th>a</th>\n",
       "      <th>b</th>\n",
       "    </tr>\n",
       "  </thead>\n",
       "  <tbody>\n",
       "    <tr>\n",
       "      <th>a</th>\n",
       "      <td>4</td>\n",
       "      <td>2</td>\n",
       "    </tr>\n",
       "    <tr>\n",
       "      <th>b</th>\n",
       "      <td>1</td>\n",
       "      <td>3</td>\n",
       "    </tr>\n",
       "  </tbody>\n",
       "</table>\n",
       "</div>"
      ],
      "text/plain": [
       "   a  b\n",
       "a  4  2\n",
       "b  1  3"
      ]
     },
     "execution_count": 68,
     "metadata": {},
     "output_type": "execute_result"
    }
   ],
   "source": [
    "values_4 = ['a', 'b']\n",
    "\n",
    "#// BEGIN_TODO [PrEx_DMM_4b] Confusion matrix (1 point)\n",
    "\n",
    "cm_4 = confusion_matrix(y_true_4, y_pred_4)\n",
    "cm_4 = pd.DataFrame(cm_4, index=values_4, columns=values_4)\n",
    "\n",
    "#// END_TODO [PrEx_DMM_4b]\n",
    "\n",
    "cm_4"
   ]
  },
  {
   "cell_type": "markdown",
   "metadata": {},
   "source": [
    "Considering the value `'a'`,\n",
    "how many _true positives_, _true negatives_, _false positives_, and _false negatives_ are there?  \n",
    "Assign your answers to the variables `tp_4`, `tn_4`, `fp_4`, `fn_4`."
   ]
  },
  {
   "cell_type": "code",
   "execution_count": 69,
   "metadata": {},
   "outputs": [
    {
     "data": {
      "text/plain": [
       "(4, 2, 1, 3)"
      ]
     },
     "execution_count": 69,
     "metadata": {},
     "output_type": "execute_result"
    }
   ],
   "source": [
    "#// BEGIN_TODO [PrEx_DMM_4c] true/false positives/negatives (1 point)\n",
    "\n",
    "tp_4 = 4\n",
    "tn_4 = 2\n",
    "fp_4 = 1\n",
    "fn_4 = 3\n",
    "\n",
    "#// END_TODO [PrEx_DMM_4c]\n",
    "\n",
    "tp_4, tn_4, fp_4, fn_4"
   ]
  },
  {
   "cell_type": "markdown",
   "metadata": {},
   "source": [
    "Documentation for these SciKit Learn functions in [`sklearn.metrics`](http://scikit-learn.org/stable/modules/model_evaluation.html):\n",
    "\n",
    "* [`accuracy_score`](http://scikit-learn.org/stable/modules/generated/sklearn.metrics.accuracy_score.html#sklearn.metrics.accuracy_score)\n",
    "* [`confusion_matrix`](http://scikit-learn.org/stable/modules/generated/sklearn.metrics.confusion_matrix.html#sklearn.metrics.confusion_matrix)"
   ]
  },
  {
   "cell_type": "markdown",
   "metadata": {},
   "source": [
    "---"
   ]
  },
  {
   "cell_type": "code",
   "execution_count": 70,
   "metadata": {},
   "outputs": [
    {
     "name": "stdout",
     "output_type": "stream",
     "text": [
      "Variable                 Type                       Data/Info\n",
      "-------------------------------------------------------------\n",
      "AUTHOR_DATE              str                        2018-02-26\n",
      "AUTHOR_ID_NR             str                        1001716\n",
      "AUTHOR_NAME              str                        Ysanne Mieneke Pasveer\n",
      "Answer_1                 bool                       False\n",
      "Answer_1_why             str                        Because only b is predict<...>a like in the first plot.\n",
      "Answer_2                 bool                       False\n",
      "Answer_2_why             str                        Because the test is also <...>ey have different values.\n",
      "Answer_3                 bool                       True\n",
      "Answer_3_why             str                        Because the score is 1.0.\n",
      "DecisionTreeClassifier   ABCMeta                    <class 'sklearn.tree.tree<...>.DecisionTreeClassifier'>\n",
      "KMeans                   type                       <class 'sklearn.cluster.k_means_.KMeans'>\n",
      "LinearRegression         ABCMeta                    <class 'sklearn.linear_mo<...>l.base.LinearRegression'>\n",
      "R2                       float64                    0.73286248442\n",
      "R2_1                     float64                    0.73286248442\n",
      "X_1                      DataFrame                      b  predicted\\n0   1  <...>.672414\\n11  9   7.396552\n",
      "X_2                      DataFrame                      a    b  cluster\\n0   <...>   0\\n11  9  0.9        0\n",
      "X_3                      DataFrame                      a  b\\n0   0  1\\n1   1<...> 7  9\\n10  8  8\\n11  9  9\n",
      "X_dtm                    DataFrame                      a  b\\n0   0  1\\n1   1<...> 7  9\\n10  8  8\\n11  9  9\n",
      "X_km                     DataFrame                      a  b  cluster\\n0   0 <...>     2\\n11  9  9        2\n",
      "X_reg                    DataFrame                      a  predicted\\n0   0  <...>.542169\\n11  9   9.554217\n",
      "acc_abs_4                int64                      7\n",
      "acc_rel_4                float64                    0.7\n",
      "accuracy_score           function                   <function accuracy_score at 0x1169e79d8>\n",
      "ax                       AxesSubplot                Axes(0.125,0.125;0.62x0.755)\n",
      "centers                  DataFrame                       a         b\\n0  5.0 <...>.666667\\n3  4.0  2.666667\n",
      "centers_2                DataFrame                            a         b\\n0 <...>33\\n3  5.333333  0.600000\n",
      "cm                       ndarray                    3x3: 9 elems, type `int64`, 72 bytes\n",
      "cm_4                     DataFrame                     a  b\\na  4  2\\nb  1  3\n",
      "cmap                     LinearSegmentedColormap    <matplotlib.colors.Linear<...>ap object at 0x11a8cc320>\n",
      "coef                     ndarray                    1x1: 1 elems, type `float64`, 8 bytes\n",
      "coef_1                   ndarray                    1x1: 1 elems, type `float64`, 8 bytes\n",
      "confusion_matrix         function                   <function confusion_matrix at 0x1169e7a60>\n",
      "df_sk                    DataFrame                      a  b\\n0   0  1\\n1   1<...> 7  9\\n10  8  8\\n11  9  9\n",
      "dtm                      DecisionTreeClassifier     DecisionTreeClassifier(cl<...>te=None, splitter='best')\n",
      "dtm_3                    DecisionTreeClassifier     DecisionTreeClassifier(cl<...>te=None, splitter='best')\n",
      "feature_importances      DataFrame                            a         b\\n0  0.666667  0.333333\n",
      "feature_importances_3    DataFrame                       a    b\\n0  0.8  0.2\n",
      "fn_4                     int                        3\n",
      "fp_4                     int                        1\n",
      "inertia                  float64                    10.6666666667\n",
      "inertia_2                float64                    5.62666666667\n",
      "intercept                ndarray                    1: 1 elems, type `float64`, 8 bytes\n",
      "intercept_1              ndarray                    1: 1 elems, type `float64`, 8 bytes\n",
      "km                       KMeans                     KMeans(algorithm='auto', <...>e, tol=0.0001, verbose=0)\n",
      "km_2                     KMeans                     KMeans(algorithm='auto', <...>e, tol=0.0001, verbose=0)\n",
      "max_depth_3              int                        3\n",
      "mpl                      module                     <module 'matplotlib' from<...>/matplotlib/__init__.py'>\n",
      "node_count_3             int                        11\n",
      "np                       module                     <module 'numpy' from '/an<...>kages/numpy/__init__.py'>\n",
      "pd                       module                     <module 'pandas' from '/a<...>ages/pandas/__init__.py'>\n",
      "plt                      module                     <module 'matplotlib.pyplo<...>es/matplotlib/pyplot.py'>\n",
      "predicted_2              ndarray                    4: 4 elems, type `int32`, 16 bytes\n",
      "predicted_3              ndarray                    4: 4 elems, type `int64`, 32 bytes\n",
      "reg                      LinearRegression           LinearRegression(copy_X=T<...>_jobs=1, normalize=False)\n",
      "reg_1                    LinearRegression           LinearRegression(copy_X=T<...>_jobs=1, normalize=False)\n",
      "score_3                  float64                    1.0\n",
      "sns                      module                     <module 'seaborn' from '/<...>ges/seaborn/__init__.py'>\n",
      "test_2                   list                       n=4\n",
      "test_km                  list                       n=4\n",
      "tn_4                     int                        2\n",
      "tp_4                     int                        4\n",
      "tree_print               function                   <function tree_print at 0x117156268>\n",
      "values                   list                       n=3\n",
      "values_4                 list                       n=2\n",
      "y_1                      DataFrame                      a\\n0   0\\n1   1\\n2   <...>   6\\n9   7\\n10  8\\n11  9\n",
      "y_3                      Int64Index                 Int64Index([0, 0, 1, 1, 2<...> 4, 5, 5], dtype='int64')\n",
      "y_dtm                    Int64Index                 Int64Index([0, 0, 0, 1, 1<...> 3, 3, 3], dtype='int64')\n",
      "y_pred                   Series                     0     1\\n1     1\\n2     1<...>: predicted, dtype: int64\n",
      "y_pred_4                 Series                     0    a\\n1    a\\n2    b\\n3<...> predicted, dtype: object\n",
      "y_reg                    DataFrame                      b\\n0   1\\n1   2\\n2   <...>   7\\n9   9\\n10  8\\n11  9\n",
      "y_true                   Series                     0     1\\n1     1\\n2     1<...>ame: actual, dtype: int64\n",
      "y_true_4                 Series                     0    a\\n1    a\\n2    a\\n3<...>me: actual, dtype: object\n"
     ]
    }
   ],
   "source": [
    "# List all defined names\n",
    "%whos"
   ]
  },
  {
   "cell_type": "markdown",
   "metadata": {},
   "source": [
    "---\n",
    "\n",
    "# (End of Notebook)\n",
    "\n",
    "&copy; 2017-2018 - **TU/e** - Eindhoven University of Technology - Tom Verhoeff"
   ]
  }
 ],
 "metadata": {
  "kernelspec": {
   "display_name": "Python 3",
   "language": "python",
   "name": "python3"
  },
  "language_info": {
   "codemirror_mode": {
    "name": "ipython",
    "version": 3
   },
   "file_extension": ".py",
   "mimetype": "text/x-python",
   "name": "python",
   "nbconvert_exporter": "python",
   "pygments_lexer": "ipython3",
   "version": "3.7.6"
  },
  "toc": {
   "nav_menu": {
    "height": "174px",
    "width": "252px"
   },
   "number_sections": false,
   "sideBar": true,
   "skip_h1_title": false,
   "toc_cell": true,
   "toc_position": {
    "height": "652px",
    "left": "0px",
    "right": "1041px",
    "top": "107px",
    "width": "235px"
   },
   "toc_section_display": "block",
   "toc_window_display": true
  }
 },
 "nbformat": 4,
 "nbformat_minor": 2
}

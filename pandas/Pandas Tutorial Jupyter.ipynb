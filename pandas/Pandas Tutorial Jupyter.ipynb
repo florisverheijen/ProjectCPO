{
 "cells": [
  {
   "cell_type": "markdown",
   "metadata": {},
   "source": [
    "# Pandas tutorial\n",
    "## The basics\n",
    "In this tutorial you will learn the basics about using Pandas in Python."
   ]
  },
  {
   "cell_type": "markdown",
   "metadata": {},
   "source": [
    "First you need to import pandas this can be done by running the following line of code;"
   ]
  },
  {
   "cell_type": "code",
   "execution_count": 1,
   "metadata": {},
   "outputs": [],
   "source": [
    "import pandas as pd"
   ]
  },
  {
   "cell_type": "markdown",
   "metadata": {},
   "source": [
    "# Creating data"
   ]
  },
  {
   "cell_type": "markdown",
   "metadata": {},
   "source": [
    "There are two core objects in pandas: the DataFrame and the Series\n",
    "\n",
    "### DataFrame\n",
    "\n",
    "A DataFrame is a table just like the one you probably know from excel. It contains rows and columns for example this is a small DataFrame:\n"
   ]
  },
  {
   "cell_type": "code",
   "execution_count": null,
   "metadata": {},
   "outputs": [],
   "source": [
    "pd.DataFrame({'Yes':[50,21], 'No':[131,20]})"
   ]
  },
  {
   "cell_type": "markdown",
   "metadata": {},
   "source": [
    "You can see that the rows have the values 0 and 1 these indexes can be changed if you prefer it to other numbers or even to strings. \n",
    "The code you need for this is located in the cell below test it and see what happens"
   ]
  },
  {
   "cell_type": "code",
   "execution_count": null,
   "metadata": {},
   "outputs": [],
   "source": [
    "pd.DataFrame({'Yes':[50,21], 'No':[131,20]},index = ['Product A','Product B'])"
   ]
  },
  {
   "cell_type": "markdown",
   "metadata": {},
   "source": [
    "### Series\n",
    "\n",
    "panda also has something that is called series. A Series is a sequence of data values. A Series is like a list if a DataFrame is a table. To create one you just need some data values;"
   ]
  },
  {
   "cell_type": "code",
   "execution_count": null,
   "metadata": {},
   "outputs": [],
   "source": [
    "pd.Series([5,6,7,8])"
   ]
  },
  {
   "cell_type": "markdown",
   "metadata": {},
   "source": [
    "## Reading data files\n",
    "\n",
    "creating a DataFrame or Series is nice to do but the power of Pandas comes from the reading data that is already available for a csv file this can simply be done by using the read_csv() command from Pandas. \n",
    "\n",
    "In biomedical engineering sometimes the dataset we want to read is stored in a matlab file with the .mat extention"
   ]
  },
  {
   "cell_type": "code",
   "execution_count": 21,
   "metadata": {},
   "outputs": [
    {
     "data": {
      "text/html": [
       "<div>\n",
       "<style scoped>\n",
       "    .dataframe tbody tr th:only-of-type {\n",
       "        vertical-align: middle;\n",
       "    }\n",
       "\n",
       "    .dataframe tbody tr th {\n",
       "        vertical-align: top;\n",
       "    }\n",
       "\n",
       "    .dataframe thead th {\n",
       "        text-align: right;\n",
       "    }\n",
       "</style>\n",
       "<table border=\"1\" class=\"dataframe\">\n",
       "  <thead>\n",
       "    <tr style=\"text-align: right;\">\n",
       "      <th></th>\n",
       "      <th>title</th>\n",
       "      <th>year</th>\n",
       "      <th>lifetime_gross</th>\n",
       "      <th>ratingInteger</th>\n",
       "      <th>ratingCount</th>\n",
       "      <th>duration</th>\n",
       "      <th>nrOfWins</th>\n",
       "      <th>nrOfNominations</th>\n",
       "      <th>nrOfPhotos</th>\n",
       "      <th>nrOfNewsArticles</th>\n",
       "      <th>...</th>\n",
       "      <th>RealityTV</th>\n",
       "      <th>Romance</th>\n",
       "      <th>SciFi</th>\n",
       "      <th>Short</th>\n",
       "      <th>Sport</th>\n",
       "      <th>TalkShow</th>\n",
       "      <th>Thriller</th>\n",
       "      <th>War</th>\n",
       "      <th>Western</th>\n",
       "      <th>Unnamed: 37</th>\n",
       "    </tr>\n",
       "  </thead>\n",
       "  <tbody>\n",
       "    <tr>\n",
       "      <th>0</th>\n",
       "      <td>METROPOLIS</td>\n",
       "      <td>1928</td>\n",
       "      <td>1236166</td>\n",
       "      <td>8</td>\n",
       "      <td>81007</td>\n",
       "      <td>9180</td>\n",
       "      <td>3</td>\n",
       "      <td>4</td>\n",
       "      <td>67</td>\n",
       "      <td>428</td>\n",
       "      <td>...</td>\n",
       "      <td>0</td>\n",
       "      <td>0</td>\n",
       "      <td>1</td>\n",
       "      <td>0</td>\n",
       "      <td>0</td>\n",
       "      <td>0</td>\n",
       "      <td>0</td>\n",
       "      <td>0</td>\n",
       "      <td>0</td>\n",
       "      <td>NaN</td>\n",
       "    </tr>\n",
       "    <tr>\n",
       "      <th>1</th>\n",
       "      <td>CITY LIGHTS</td>\n",
       "      <td>1931</td>\n",
       "      <td>19181</td>\n",
       "      <td>9</td>\n",
       "      <td>70057</td>\n",
       "      <td>5220</td>\n",
       "      <td>2</td>\n",
       "      <td>0</td>\n",
       "      <td>38</td>\n",
       "      <td>187</td>\n",
       "      <td>...</td>\n",
       "      <td>0</td>\n",
       "      <td>1</td>\n",
       "      <td>0</td>\n",
       "      <td>0</td>\n",
       "      <td>0</td>\n",
       "      <td>0</td>\n",
       "      <td>0</td>\n",
       "      <td>0</td>\n",
       "      <td>0</td>\n",
       "      <td>NaN</td>\n",
       "    </tr>\n",
       "    <tr>\n",
       "      <th>2</th>\n",
       "      <td>MODERN TIMES</td>\n",
       "      <td>1936</td>\n",
       "      <td>163577</td>\n",
       "      <td>9</td>\n",
       "      <td>90847</td>\n",
       "      <td>5220</td>\n",
       "      <td>3</td>\n",
       "      <td>1</td>\n",
       "      <td>44</td>\n",
       "      <td>27</td>\n",
       "      <td>...</td>\n",
       "      <td>0</td>\n",
       "      <td>0</td>\n",
       "      <td>0</td>\n",
       "      <td>0</td>\n",
       "      <td>0</td>\n",
       "      <td>0</td>\n",
       "      <td>0</td>\n",
       "      <td>0</td>\n",
       "      <td>0</td>\n",
       "      <td>NaN</td>\n",
       "    </tr>\n",
       "    <tr>\n",
       "      <th>3</th>\n",
       "      <td>GONE WITH THE WIND</td>\n",
       "      <td>1939</td>\n",
       "      <td>198676459</td>\n",
       "      <td>8</td>\n",
       "      <td>160414</td>\n",
       "      <td>14280</td>\n",
       "      <td>10</td>\n",
       "      <td>6</td>\n",
       "      <td>143</td>\n",
       "      <td>1263</td>\n",
       "      <td>...</td>\n",
       "      <td>0</td>\n",
       "      <td>1</td>\n",
       "      <td>0</td>\n",
       "      <td>0</td>\n",
       "      <td>0</td>\n",
       "      <td>0</td>\n",
       "      <td>0</td>\n",
       "      <td>1</td>\n",
       "      <td>0</td>\n",
       "      <td>NaN</td>\n",
       "    </tr>\n",
       "    <tr>\n",
       "      <th>4</th>\n",
       "      <td>THE WIZARD OF OZ</td>\n",
       "      <td>1939</td>\n",
       "      <td>22342633</td>\n",
       "      <td>8</td>\n",
       "      <td>209506</td>\n",
       "      <td>6120</td>\n",
       "      <td>6</td>\n",
       "      <td>12</td>\n",
       "      <td>126</td>\n",
       "      <td>2363</td>\n",
       "      <td>...</td>\n",
       "      <td>0</td>\n",
       "      <td>0</td>\n",
       "      <td>0</td>\n",
       "      <td>0</td>\n",
       "      <td>0</td>\n",
       "      <td>0</td>\n",
       "      <td>0</td>\n",
       "      <td>0</td>\n",
       "      <td>0</td>\n",
       "      <td>NaN</td>\n",
       "    </tr>\n",
       "  </tbody>\n",
       "</table>\n",
       "<p>5 rows × 38 columns</p>\n",
       "</div>"
      ],
      "text/plain": [
       "                title  year  lifetime_gross  ratingInteger  ratingCount  \\\n",
       "0          METROPOLIS  1928         1236166              8        81007   \n",
       "1         CITY LIGHTS  1931           19181              9        70057   \n",
       "2        MODERN TIMES  1936          163577              9        90847   \n",
       "3  GONE WITH THE WIND  1939       198676459              8       160414   \n",
       "4    THE WIZARD OF OZ  1939        22342633              8       209506   \n",
       "\n",
       "   duration  nrOfWins  nrOfNominations  nrOfPhotos  nrOfNewsArticles  \\\n",
       "0      9180         3                4          67               428   \n",
       "1      5220         2                0          38               187   \n",
       "2      5220         3                1          44                27   \n",
       "3     14280        10                6         143              1263   \n",
       "4      6120         6               12         126              2363   \n",
       "\n",
       "      ...       RealityTV  Romance  SciFi  Short  Sport  TalkShow  Thriller  \\\n",
       "0     ...               0        0      1      0      0         0         0   \n",
       "1     ...               0        1      0      0      0         0         0   \n",
       "2     ...               0        0      0      0      0         0         0   \n",
       "3     ...               0        1      0      0      0         0         0   \n",
       "4     ...               0        0      0      0      0         0         0   \n",
       "\n",
       "   War  Western  Unnamed: 37  \n",
       "0    0        0          NaN  \n",
       "1    0        0          NaN  \n",
       "2    0        0          NaN  \n",
       "3    1        0          NaN  \n",
       "4    0        0          NaN  \n",
       "\n",
       "[5 rows x 38 columns]"
      ]
     },
     "execution_count": 21,
     "metadata": {},
     "output_type": "execute_result"
    }
   ],
   "source": [
    "movies=pd.read_csv(\"Movies.csv\")\n",
    "movies.head()"
   ]
  }
 ],
 "metadata": {
  "kernelspec": {
   "display_name": "Python 3",
   "language": "python",
   "name": "python3"
  },
  "language_info": {
   "codemirror_mode": {
    "name": "ipython",
    "version": 3
   },
   "file_extension": ".py",
   "mimetype": "text/x-python",
   "name": "python",
   "nbconvert_exporter": "python",
   "pygments_lexer": "ipython3",
   "version": "3.7.1"
  }
 },
 "nbformat": 4,
 "nbformat_minor": 4
}

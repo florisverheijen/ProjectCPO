{
 "cells": [
  {
   "cell_type": "markdown",
   "metadata": {},
   "source": [
    "# Tutorial Clustering - k-nearest neighbor\n",
    "\n",
    "In this tutorial you will learn the basics about clustering with k-nearest neighbor method.\n",
    "\n",
    "## Contents of the tutorial\n",
    "\n",
    "1. Explanation of k-nearest neighbor method\n",
    "2. Step-by-step programming k-nearest neighbor method\n",
    "    - Libraries\n",
    "    - Importing dataset\n",
    "    - Function Euclidean distance\n",
    "    - Function KNN\n",
    "        1. Euclidean distance\n",
    "        2. Sorting\n",
    "        3. Take the top k neighbors\n",
    "        4. Most frequent class\n",
    "    - Define test set\n",
    "    - Define k\n",
    "    - Let KNN model run\n"
   ]
  },
  {
   "cell_type": "markdown",
   "metadata": {},
   "source": [
    "_________________________"
   ]
  },
  {
   "cell_type": "markdown",
   "metadata": {},
   "source": [
    "### 1. Explanation of k-nearest neighbor method\n",
    "\n",
    "K-nearest neighbor (KNN) is mostly used for regression and classification. It is a supervised algorithm. It is good in three things:\n",
    "- It has an easy interpretable output. \n",
    "- It has a short calculation time. \n",
    "- It is good at predictions. \n",
    "\n",
    "First, we’ll show an easy example. (Example and explanation from: https://www.analyticsvidhya.com/blog/2018/03/introduction-k-neighbours-algorithm-clustering/) \n",
    "\n",
    "We have 3 red circles, 3 green squares and a blue star. We want to know the classification of the blue star. This will be red circles or green squares. Take k as the number of neighbors. In this case we’ll take k = 3. Now we draw a circle around the blue star, in such a way that there are exactly 3 datapoints in the circle. We can see that there are only red circles in the circle, and thus the blue star belongs to the red circles.  \n",
    "\n",
    "<img src=\"\" /> <br>\n",
    "<img src=\"\" /> <br>"
   ]
  }
 ],
 "metadata": {
  "kernelspec": {
   "display_name": "Python 3",
   "language": "python",
   "name": "python3"
  },
  "language_info": {
   "codemirror_mode": {
    "name": "ipython",
    "version": 3
   },
   "file_extension": ".py",
   "mimetype": "text/x-python",
   "name": "python",
   "nbconvert_exporter": "python",
   "pygments_lexer": "ipython3",
   "version": "3.7.6"
  }
 },
 "nbformat": 4,
 "nbformat_minor": 4
}

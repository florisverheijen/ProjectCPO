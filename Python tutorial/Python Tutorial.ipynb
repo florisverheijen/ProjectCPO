{
 "cells": [
  {
   "cell_type": "markdown",
   "metadata": {},
   "source": [
    "# Python tutorial\n",
    "\n",
    "In this tutorial the basics of Python will be discussed. \n",
    "\n",
    "## Contents\n",
    "\n",
    "1. Import libraries\n",
    "    * math, pandas, etc.\n",
    "2. "
   ]
  },
  {
   "cell_type": "markdown",
   "metadata": {},
   "source": [
    "_______________________________"
   ]
  },
  {
   "cell_type": "markdown",
   "metadata": {},
   "source": [
    "## 1. Import libraries\n",
    "\n",
    "Libraries need to be imported so that you can work with them. There are several useful libraries:\n",
    "\n",
    "- pandas: for using pandas. \n",
    "- math: can handle mathematical functions easily. \n",
    "- matplotlib: for producing quality 2D graphics.\n",
    "- seaborn: for statistical graphics, on top of matplotlib.\n",
    "- numpy: for linear algebra, lagre arrays etc..\n",
    "- SciPy: for mathematics, science and engrineering, on top of Numpy.\n",
    "- sklearn: for machine learning, on top of SciPy.\n",
    "- sqlite3: can handle databases with SQL query language.\n",
    "- statmodels: for statistical computations. \n",
    "\n",
    "Importing such libraries can be done by running the following line of code:"
   ]
  },
  {
   "cell_type": "code",
   "execution_count": null,
   "metadata": {},
   "outputs": [],
   "source": [
    "import pandas as pd"
   ]
  },
  {
   "cell_type": "markdown",
   "metadata": {},
   "source": [
    "Next, import the other libraries. "
   ]
  },
  {
   "cell_type": "code",
   "execution_count": null,
   "metadata": {},
   "outputs": [],
   "source": [
    "## TRY OUT: import the other libraries here\n"
   ]
  },
  {
   "cell_type": "markdown",
   "metadata": {},
   "source": [
    "______________________________"
   ]
  },
  {
   "cell_type": "code",
   "execution_count": null,
   "metadata": {},
   "outputs": [],
   "source": []
  }
 ],
 "metadata": {
  "kernelspec": {
   "display_name": "Python 3",
   "language": "python",
   "name": "python3"
  },
  "language_info": {
   "codemirror_mode": {
    "name": "ipython",
    "version": 3
   },
   "file_extension": ".py",
   "mimetype": "text/x-python",
   "name": "python",
   "nbconvert_exporter": "python",
   "pygments_lexer": "ipython3",
   "version": "3.7.6"
  }
 },
 "nbformat": 4,
 "nbformat_minor": 4
}

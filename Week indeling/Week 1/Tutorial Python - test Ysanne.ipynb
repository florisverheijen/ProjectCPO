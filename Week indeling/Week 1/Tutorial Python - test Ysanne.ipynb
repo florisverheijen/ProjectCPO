{
 "cells": [
  {
   "cell_type": "markdown",
   "metadata": {},
   "source": [
    "# Python tutorial\n",
    "____\n",
    "\n",
    "In this tutorial the basics of Python will be discussed. \n",
    "\n",
    "## Contents\n",
    "\n",
    "1. Import libraries\n",
    "    * math, pandas, etc.\n",
    "2. for-Loops\n",
    "\n",
    "3. Functions \n",
    "\n",
    "4. Lists \n",
    "\n",
    "5. Normalisation\n",
    "\n"
   ]
  },
  {
   "cell_type": "markdown",
   "metadata": {},
   "source": [
    "<div class=\"alert alert-info\" role=\"alert\" style=\"height:10px;padding:0px;margin-bottom:-20px\"></div>\n",
    "\n",
    "### 1. Import libraries\n",
    "\n",
    "<div class=\"alert alert-info\" role=\"alert\" style=\"height:10px;padding:0px;margin-top:5px;\"></div>\n",
    "\n",
    "\n",
    "Libraries need to be imported so that you can work with them. There are several useful libraries:\n",
    "\n",
    "- pandas: for using pandas. \n",
    "- math: can handle mathematical functions easily. \n",
    "- matplotlib: for producing quality 2D graphics.\n",
    "- seaborn: for statistical graphics, on top of matplotlib.\n",
    "- numpy: for linear algebra, lagre arrays etc..\n",
    "- SciPy: for mathematics, science and engrineering, on top of Numpy.\n",
    "- sklearn: for machine learning, on top of SciPy.\n",
    "- sqlite3: can handle databases with SQL query language.\n",
    "- statmodels: for statistical computations. \n",
    "\n",
    "Importing such libraries can be done by running the following line of code:"
   ]
  },
  {
   "cell_type": "code",
   "execution_count": 4,
   "metadata": {
    "collapsed": true
   },
   "outputs": [],
   "source": [
    "import pandas as pd"
   ]
  },
  {
   "cell_type": "markdown",
   "metadata": {},
   "source": [
    "Next, import the other libraries. "
   ]
  },
  {
   "cell_type": "code",
   "execution_count": 1,
   "metadata": {},
   "outputs": [],
   "source": [
    "## TRY OUT: import the other libraries here\n",
    "import math\n",
    "import matplotlib\n",
    "import seaborn\n",
    "import numpy"
   ]
  },
  {
   "cell_type": "markdown",
   "metadata": {},
   "source": [
    "<div class=\"alert alert-info\" role=\"alert\" style=\"height:10px;padding:0px;margin-bottom:-20px\"></div>\n",
    "\n",
    "### 2. for-Loops\n",
    "\n",
    "<div class=\"alert alert-info\" role=\"alert\" style=\"height:10px;padding:0px;margin-top:5px;\"></div>\n",
    "\n"
   ]
  },
  {
   "cell_type": "markdown",
   "metadata": {},
   "source": [
    "**Definition**<br>\n",
    "A for loop is used for iterating over a sequence (that is either a list, a tuple, a dictionary, a set, or a string). This is less like the for keyword in other programming languages, and works more like an iterator method as found in other object-orientated programming languages. With the for loop we can execute a set of statements, once for each item in a list, tuple, set etc.<br> <font color = red>ik vind dit heel lastig om te begrijpen, zeker de tweede zin, je zou er een uitgebreider voorbeeld bij mogen zetten van mij</font>\n",
    "**Example:**"
   ]
  },
  {
   "cell_type": "code",
   "execution_count": 6,
   "metadata": {},
   "outputs": [
    {
     "name": "stdout",
     "output_type": "stream",
     "text": [
      "apple\n",
      "banana\n",
      "cherry\n"
     ]
    }
   ],
   "source": [
    "fruits = [\"apple\", \"banana\", \"cherry\"]\n",
    "for x in fruits:\n",
    "  print(x)"
   ]
  },
  {
   "cell_type": "markdown",
   "metadata": {},
   "source": [
    "<div class=\"alert alert-info\" role=\"alert\" style=\"height:10px;padding:0px;margin-bottom:-20px\"></div>\n",
    "\n",
    "### 3. Functions\n",
    "\n",
    "<div class=\"alert alert-info\" role=\"alert\" style=\"height:10px;padding:0px;margin-top:5px;\"></div>\n"
   ]
  },
  {
   "cell_type": "markdown",
   "metadata": {},
   "source": [
    "**Definition**<br>\n",
    "A function is a block of code which only runs when it is called. You can pass data, known as parameters, into a function. A function can return data as a result. A function on it's own doesn't work you have to call it for it to work. It might even need multiple inputs to run. <font color = red>mag ook wel een uitgebreider voorbeeld</font>\n",
    "<br>\n",
    "\n",
    "**Example:**"
   ]
  },
  {
   "cell_type": "code",
   "execution_count": 2,
   "metadata": {},
   "outputs": [
    {
     "name": "stdout",
     "output_type": "stream",
     "text": [
      "hello world\n"
     ]
    }
   ],
   "source": [
    "def my_function(string):\n",
    "  print(string)\n",
    "\n",
    "string = \"hello world\"\n",
    "my_function(string)"
   ]
  },
  {
   "cell_type": "code",
   "execution_count": 4,
   "metadata": {},
   "outputs": [
    {
     "name": "stdout",
     "output_type": "stream",
     "text": [
      "8\n"
     ]
    }
   ],
   "source": [
    "#now make your own funcion that adds up 2 numbers you give as input\n",
    "\n",
    "def add(a,b):\n",
    "    c = a + b\n",
    "    print(c)\n",
    "\n",
    "add(3,5)"
   ]
  },
  {
   "cell_type": "markdown",
   "metadata": {},
   "source": [
    "You also have while loops that just run until a certain thing is not true anymore. this can be usefull if you just want it to run until something is reached and you are not certain when it happens. But be aware of the fact that you can build infinite loops this way if the criteria is never not true. so the loop keeps on running\n",
    "<font color = red> dit is nog niet af denk ik </font>"
   ]
  },
  {
   "cell_type": "markdown",
   "metadata": {},
   "source": [
    "<div class=\"alert alert-info\" role=\"alert\" style=\"height:10px;padding:0px;margin-bottom:-20px\"></div>\n",
    "\n",
    "### 4. Lists\n",
    "\n",
    "<div class=\"alert alert-info\" role=\"alert\" style=\"height:10px;padding:0px;margin-top:5px;\"></div>"
   ]
  },
  {
   "cell_type": "markdown",
   "metadata": {},
   "source": [
    "**Definition** <br>\n",
    "There are many collection data types in the Python programming language:\n",
    "the type that is used most is a list, in a list variables can be stored and called back upon.\n",
    "most of the time a list is used to store data that is needed at another step of the code\n",
    "you can fill up a list yourself or you can build loops to do this for you. When programs get bigger this is very usefull. \n",
    "\n"
   ]
  },
  {
   "cell_type": "code",
   "execution_count": 5,
   "metadata": {},
   "outputs": [
    {
     "name": "stdout",
     "output_type": "stream",
     "text": [
      "[1, 2, 3, 4, 5]\n"
     ]
    }
   ],
   "source": [
    "mylist = [1,2,3,4,5]\n",
    "print(mylist)"
   ]
  },
  {
   "cell_type": "markdown",
   "metadata": {},
   "source": [
    "you can put multiple lists in a list even. this is called a nested list. This could be usefull if you want to store coordinates in a list for example.\n",
    "This is usefull because you can use indexing to get something out of the list. \n",
    "indexing works in the following way.\n",
    "the first item in the list has index 0 the second 1 etc. if you want the last value or item in a list you could use the total number of items -1 or just use -1 python will pick the last item in the list if you use it. When using -2 it takes the second to last."
   ]
  },
  {
   "cell_type": "code",
   "execution_count": 7,
   "metadata": {},
   "outputs": [
    {
     "data": {
      "text/plain": [
       "2"
      ]
     },
     "execution_count": 7,
     "metadata": {},
     "output_type": "execute_result"
    }
   ],
   "source": [
    "mylist = [[1,1],[2,3],[4,4]]\n",
    "mylist[2]\n",
    "\n",
    "# if you want to get the first value of the second item in mylist you can use multiple indexing try this yourself\n",
    "#your code:\n",
    "\n",
    "mylist[1][0]"
   ]
  },
  {
   "cell_type": "markdown",
   "metadata": {},
   "source": [
    "There are many methods that you can give a list for example the append command. This extends the list with the item you give append as an input. if you want to know what all the mehtods are you can go to this website: \n",
    "https://docs.python.org/3/tutorial/datastructures.html\n",
    "\n",
    "Now make a loop where you build a counter that creates a list that goes from 0 to 100. \n",
    "print this list to check if it worked"
   ]
  },
  {
   "cell_type": "code",
   "execution_count": 9,
   "metadata": {},
   "outputs": [
    {
     "name": "stdout",
     "output_type": "stream",
     "text": [
      "100\n"
     ]
    }
   ],
   "source": [
    "count = 0\n",
    "for i in range(100):\n",
    "    count = count + 1\n",
    "print(count)"
   ]
  },
  {
   "cell_type": "markdown",
   "metadata": {},
   "source": [
    "some things you can do with lists and the libraries you imported are for example preprocessing your data.\n",
    "To calculate some things you might want to know or to normalize the data in the dataset you have been given.\n",
    "now you are going to try this yourself.\n",
    "* calculate the mean using numpy\n",
    "* calculate the standard deviation using numpy\n",
    "* sort the data from high to low and once from low to high\n",
    "\n"
   ]
  },
  {
   "cell_type": "code",
   "execution_count": 13,
   "metadata": {},
   "outputs": [
    {
     "data": {
      "text/plain": [
       "[292,\n",
       " 287,\n",
       " 285,\n",
       " 278,\n",
       " 263,\n",
       " 256,\n",
       " 255,\n",
       " 238,\n",
       " 221,\n",
       " 215,\n",
       " 189,\n",
       " 181,\n",
       " 178,\n",
       " 151,\n",
       " 141,\n",
       " 130,\n",
       " 122,\n",
       " 120,\n",
       " 116,\n",
       " 98,\n",
       " 83,\n",
       " 77,\n",
       " 54,\n",
       " 5,\n",
       " 2]"
      ]
     },
     "execution_count": 13,
     "metadata": {},
     "output_type": "execute_result"
    }
   ],
   "source": [
    "data = [77, 83, 54, 285, 141, 120, 263, 116, 255, 189, 130, 2, 221, 98, 256, 238, 151, 181, 122, 215, 178, 287, 5, 292, 278]\n",
    "#code\n",
    "numpy.mean(data)\n",
    "numpy.std(data)\n",
    "sorted(data)\n",
    "sorted(data, reverse=True)"
   ]
  },
  {
   "cell_type": "markdown",
   "metadata": {},
   "source": [
    "<div class=\"alert alert-info\" role=\"alert\" style=\"height:10px;padding:0px;margin-bottom:-20px\"></div>\n",
    "\n",
    "### 5 normalization\n",
    "\n",
    "<div class=\"alert alert-info\" role=\"alert\" style=\"height:10px;padding:0px;margin-top:5px;\"></div>\n",
    "\n"
   ]
  },
  {
   "cell_type": "markdown",
   "metadata": {},
   "source": [
    "If you have data most of the time the vallues range from very small numbers to really large ones. if you want to process them you would like to have the data between 0 and 1. This can be done by uning the normalization funcion that is already build in sklearn. if you wish to know more about how it works and what you can do with it you can find info on https://scikit-learn.org/stable/modules/generated/sklearn.preprocessing.normalize.html \n",
    "for now we are going to normalize the following matrix: \n",
    "       \n",
    "\n"
   ]
  },
  {
   "cell_type": "code",
   "execution_count": 15,
   "metadata": {},
   "outputs": [
    {
     "data": {
      "text/plain": [
       "array([[0.4638208 , 0.88318747, 0.06964311],\n",
       "       [0.73431887, 0.58801617, 0.33913534],\n",
       "       [0.2807228 , 0.94443053, 0.17101368]])"
      ]
     },
     "execution_count": 15,
     "metadata": {},
     "output_type": "execute_result"
    }
   ],
   "source": [
    "from sklearn import preprocessing\n",
    "notnormaldata =  [[ 7.37052381,  14.03463207,  1.10669077],\n",
    "       [ 6.05862909,  4.8515325 ,  2.79809676],\n",
    "       [ 3.43203632,  11.54633635,  2.09076408]]\n",
    "\n",
    "preprocessing.normalize(notnormaldata)"
   ]
  },
  {
   "cell_type": "markdown",
   "metadata": {},
   "source": [
    "<div class=\"alert alert-info\" role=\"alert\" style=\"height:10px;padding:0px;margin-bottom:-20px\"></div>\n",
    "\n",
    "### 6 plotting data\n",
    "\n",
    "<div class=\"alert alert-info\" role=\"alert\" style=\"height:10px;padding:0px;margin-top:5px;\"></div>\n"
   ]
  },
  {
   "cell_type": "markdown",
   "metadata": {},
   "source": [
    "to plot data the library matplot is used very often. next are some simple examples and questions to learn how to plot certain things. For all the information on what it can do and how things work you should check the documentation on their website:https://matplotlib.org/contents.html\n",
    "\n",
    "First we will start by just plotting a simple set of datapoints.\n"
   ]
  },
  {
   "cell_type": "code",
   "execution_count": 16,
   "metadata": {},
   "outputs": [
    {
     "data": {
      "text/plain": [
       "[<matplotlib.lines.Line2D at 0x29db2fd8a88>]"
      ]
     },
     "execution_count": 16,
     "metadata": {},
     "output_type": "execute_result"
    },
    {
     "data": {
      "image/png": "[encoded data removed]",
      "text/plain": [
       "<Figure size 432x288 with 1 Axes>"
      ]
     },
     "metadata": {
      "needs_background": "light"
     },
     "output_type": "display_data"
    }
   ],
   "source": [
    "import matplotlib.pyplot as plt\n",
    "\n",
    "X = [1,2,3,4,5,6,7]\n",
    "Y = [4,7,2,3,9,1,4]\n",
    "\n",
    "#example:\n",
    "plt.plot(X,Y)"
   ]
  },
  {
   "attachments": {
    "image.png": {
     "image/png": "[encoded data removed]"
    }
   },
   "cell_type": "markdown",
   "metadata": {},
   "source": [
    "This looks okay but we wanted to see the points not the points with a line. \n",
    "Go to the website and figure out yourself how you can only plot the datapoints. \n",
    "If you did it correct it should look somewhat like:</br>\n",
    "![image.png](attachment:image.png)"
   ]
  }
 ],
 "metadata": {
  "kernelspec": {
   "display_name": "Python 3",
   "language": "python",
   "name": "python3"
  },
  "language_info": {
   "codemirror_mode": {
    "name": "ipython",
    "version": 3
   },
   "file_extension": ".py",
   "mimetype": "text/x-python",
   "name": "python",
   "nbconvert_exporter": "python",
   "pygments_lexer": "ipython3",
   "version": "3.7.6"
  }
 },
 "nbformat": 4,
 "nbformat_minor": 4
}

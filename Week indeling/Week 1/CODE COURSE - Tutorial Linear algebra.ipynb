{
 "cells": [
  {
   "cell_type": "markdown",
   "metadata": {},
   "source": [
    "# CODE COURSE - Tutorial Linear algebra.\n",
    "---"
   ]
  },
  {
   "cell_type": "markdown",
   "metadata": {},
   "source": [
    " This tutorial will explain in a interactive way the tools you need to be able to start with PCA and clustering. This tutorial is specified on the tools you need of linear algebra. "
   ]
  },
  {
   "cell_type": "markdown",
   "metadata": {},
   "source": [
    "## Contents of the tutorial\n",
    "1. Vector and matrix operations\n",
    "    * Basics\n",
    "    * Vector addition \n",
    "    * Vector scalar multiplication\n",
    "    * Matrix summation\n",
    "    * Matrix multiplication\n",
    "    * Transpose matrix \n",
    "    * Query matrix index\n",
    "    * Exercises\n",
    "2. Eigenvecotoren & eigenvalues\n",
    "    * Definitions \n",
    "    * The calculation of eigenvalues and eigenvectoren in python\n",
    "    * Exercises\n",
    "3. Transformation  \n",
    "4. Innerproduct, length and orthogonality \n",
    "5. Covariance matrix \n",
    "   * Mean\n",
    "   * Standard deviation\n",
    "   * Variance\n",
    "   * Covariance\n",
    "   * Covariance Matrix\n",
    "   * totale variance \n",
    "   * Exercises\n"
   ]
  },
  {
   "cell_type": "markdown",
   "metadata": {},
   "source": [
    "\n",
    "<div class=\"alert alert-info\" role=\"alert\" style=\"height:10px;padding:0px;margin-bottom:-20px\"></div>\n",
    "\n",
    "### 1. Vector and matrix operations\n",
    "\n",
    "<div class=\"alert alert-info\" role=\"alert\" style=\"height:10px;padding:0px;margin-top:5px;\"></div>\n",
    "\n",
    "#### 1.2 Basics"
   ]
  },
  {
   "cell_type": "markdown",
   "metadata": {},
   "source": [
    "Vector and matric operations are important due to you need them by the calculations of the eigenvectors, eigenvalues and transformations. <br/>\n",
    "Firstly, you have to import Numpy. Numpy is a Python pakket which makes it easy to use matrices. <br>\n",
    "If you want to learn more about the Python package Numpy you can use this link. https://www.w3resource.com/python-exercises/numpy/index.php\n",
    "\n",
    "\n"
   ]
  },
  {
   "cell_type": "code",
   "execution_count": 193,
   "metadata": {
    "collapsed": true
   },
   "outputs": [],
   "source": [
    " import numpy as np"
   ]
  },
  {
   "cell_type": "markdown",
   "metadata": {},
   "source": [
    "Secondly, you have to know how you make a matrix in python. You can do this with **np.array()**.With the function print(a) you can see the matrix you made."
   ]
  },
  {
   "cell_type": "code",
   "execution_count": 194,
   "metadata": {},
   "outputs": [
    {
     "name": "stdout",
     "output_type": "stream",
     "text": [
      "This is matrix A.\n",
      "[[ 1.1  2.   3. ]\n",
      " [ 3.   4.   5. ]]\n"
     ]
    }
   ],
   "source": [
    "A = np.array([[1.1, 2, 3], [3, 4, 5]])\n",
    "print('This is matrix A.')\n",
    "print(A) "
   ]
  },
  {
   "cell_type": "markdown",
   "metadata": {},
   "source": [
    "You can also use the following code; **np.mat()**"
   ]
  },
  {
   "cell_type": "code",
   "execution_count": 195,
   "metadata": {},
   "outputs": [
    {
     "name": "stdout",
     "output_type": "stream",
     "text": [
      "This is matrix B.\n",
      "[[ 1.1  2.   3. ]\n",
      " [ 3.   4.   5. ]]\n"
     ]
    }
   ],
   "source": [
    "B = np.mat(\"1.1 2 3;3 4 5\")\n",
    "print('This is matrix B.')\n",
    "print(B) "
   ]
  },
  {
   "cell_type": "markdown",
   "metadata": {},
   "source": [
    "Matrices could be in integers, floats and complex numbers. Same examples are given below."
   ]
  },
  {
   "cell_type": "code",
   "execution_count": 196,
   "metadata": {},
   "outputs": [
    {
     "name": "stdout",
     "output_type": "stream",
     "text": [
      "This is matrix C.\n",
      "[[1 2 3]\n",
      " [3 4 5]]\n",
      "This is matrix D.\n",
      "[[ 1.1  2.   3. ]\n",
      " [ 3.   4.   5. ]]\n",
      "This is matrix E.\n",
      "[[ 1.+0.j  2.+0.j  3.+0.j]\n",
      " [ 3.+0.j  4.+0.j  5.+0.j]]\n"
     ]
    }
   ],
   "source": [
    "C = np.array([[1, 2, 3], [3, 4, 5]])\n",
    "print('This is matrix C.')\n",
    "print(C) \n",
    "D = np.array([[1.1, 2, 3], [3, 4, 5]]) # Array of floats\n",
    "print('This is matrix D.')\n",
    "print(D) \n",
    "E = np.array([[1, 2, 3], [3, 4, 5]], dtype = complex) # Array of complex numbers\n",
    "print('This is matrix E.')\n",
    "print(E)"
   ]
  },
  {
   "cell_type": "code",
   "execution_count": 197,
   "metadata": {
    "collapsed": true
   },
   "outputs": [],
   "source": [
    "from IPython.display import display, Math, Latex\n"
   ]
  },
  {
   "cell_type": "markdown",
   "metadata": {
    "collapsed": true
   },
   "source": [
    "#### 1.2 Vector addition\n",
    "This is a very simple operation which you have learn during the linear algebra courses. You make a vector the same way as you make a matrix. The only difference is that you have only one row."
   ]
  },
  {
   "cell_type": "code",
   "execution_count": 198,
   "metadata": {},
   "outputs": [
    {
     "name": "stdout",
     "output_type": "stream",
     "text": [
      "This is vector C.\n",
      "[11  1]\n"
     ]
    }
   ],
   "source": [
    "A = np.array([2, 4])\n",
    "B = np.array([9, -3])\n",
    "C = A + B  \n",
    "print('This is vector C.')\n",
    "print(C)"
   ]
  },
  {
   "cell_type": "markdown",
   "metadata": {},
   "source": [
    "#### 1.3 Vector scalar multiplication\n",
    "It is also possible to multiply the vector with a scalar. You have to use the following code\n"
   ]
  },
  {
   "cell_type": "code",
   "execution_count": 199,
   "metadata": {},
   "outputs": [
    {
     "name": "stdout",
     "output_type": "stream",
     "text": [
      "This is vector B.\n",
      "[ 8 16]\n"
     ]
    }
   ],
   "source": [
    "A = np.array([2, 4])\n",
    "B = 4*A\n",
    "print('This is vector B.')\n",
    "print(B)\n"
   ]
  },
  {
   "cell_type": "markdown",
   "metadata": {},
   "source": [
    "#### 1.4 Matrix summation \n",
    "Now you know how do operations with vectors, we could make the step to matrices. You could also sum matrices with eachother."
   ]
  },
  {
   "cell_type": "code",
   "execution_count": 200,
   "metadata": {},
   "outputs": [
    {
     "name": "stdout",
     "output_type": "stream",
     "text": [
      "[[11  1]\n",
      " [ 8  0]]\n"
     ]
    }
   ],
   "source": [
    "A = np.array([[2, 4], [5, -6]])\n",
    "B = np.array([[9, -3], [3, 6]])\n",
    "C = A + B  \n",
    "print(C)"
   ]
  },
  {
   "cell_type": "markdown",
   "metadata": {},
   "source": [
    "#### 1.5 Matrix multiplication\n",
    "If A is an m×n matrix, and if B is an n×p matrix with columns b<sub>1</sub>, . . . , b<sub>p</sub>, <br/>\n",
    "then the product AB is the m×p matrix whose columns are A<sub>b1</sub>, . . . , A<sub>bp</sub>. <br/>\n",
    "You have to use **.dot()** to multiply two or more matrixes with eachother"
   ]
  },
  {
   "cell_type": "code",
   "execution_count": 201,
   "metadata": {},
   "outputs": [
    {
     "name": "stdout",
     "output_type": "stream",
     "text": [
      "[[ 36 -12]\n",
      " [ -1   2]]\n"
     ]
    }
   ],
   "source": [
    "A = np.array([[3, 6, 7], [5, -3, 0]])\n",
    "B = np.array([[1, 1], [2, 1], [3, -3]])\n",
    "AB = A.dot(B)\n",
    "print(AB)"
   ]
  },
  {
   "cell_type": "code",
   "execution_count": 202,
   "metadata": {},
   "outputs": [
    {
     "name": "stdout",
     "output_type": "stream",
     "text": [
      "[[ 3  6  7]\n",
      " [ 5 -3  0]]\n",
      "[[ 60.  12.  40.]\n",
      " [  9.  -6.   3.]]\n"
     ]
    }
   ],
   "source": [
    "from numpy.linalg import multi_dot\n",
    "A = np.array([[3, 6, 7], [5, -3, 0]])\n",
    "B = np.array([[1, 1, 1], [2, 1, 1], [3, -3, 1]])\n",
    "C = np.array([[1, 2., 1], [2, 1, 1], [3, -3, 1]])\n",
    "ABC = multi_dot([A, B, C])\n",
    "#AB = B.dot(C)\n",
    "#ABC= AB.dot(A)\n",
    "ABC2 =  A.dot(B).dot(C)\n",
    "print(A)\n",
    "print(ABC2)"
   ]
  },
  {
   "cell_type": "markdown",
   "metadata": {},
   "source": [
    "#### 1.6 Transpose matrix \n",
    "Given an m×n matrix A, the transpose of A is the n×m matrix, denoted by A<sup>T</sup> ,\n",
    "whose columns are formed from the corresponding rows of A. <br/> \n",
    "The transpose matrix could be calculated with the use of **.transpose()**.\n",
    "```python\n",
    "    A = np.array([[1, 1], [2, 1], [3, -3]])\n",
    "    print(A.transpose())\n",
    "```\n",
    "\n"
   ]
  },
  {
   "cell_type": "markdown",
   "metadata": {},
   "source": [
    "#### 1.7 Query matrix index\n",
    "With index it is possible to select specific indices out of the matrix. \n"
   ]
  },
  {
   "cell_type": "code",
   "execution_count": 203,
   "metadata": {},
   "outputs": [
    {
     "name": "stdout",
     "output_type": "stream",
     "text": [
      "A[1][2] = 9\n",
      "A[0] = [ 1  4  5 12]\n",
      "3rd column = [5, 9, 11]\n"
     ]
    }
   ],
   "source": [
    "A = np.array([[1, 4, 5, 12],\n",
    "            [-5, 8, 9, 0],\n",
    "            [-6, 7, 11, 19]])\n",
    "print(\"A[1][2] =\", A[1][2]) # Third element\n",
    "print(\"A[0] =\", A[0]) # First Row\n",
    "    \n",
    "column = [];        # empty list\n",
    "for row in A:\n",
    "    column.append(row[2])   \n",
    "print(\"3rd column =\", column) # the thrid column"
   ]
  },
  {
   "cell_type": "markdown",
   "metadata": {},
   "source": [
    "#### 1.8 Exercises"
   ]
  },
  {
   "cell_type": "markdown",
   "metadata": {},
   "source": [
    "**1.8.1** Calculate the sum of the following vectors: <br>\n",
    "$ A = \\left[ \\begin{array}{ccc} 11\\\\ 1\\end{array} \\right]$,\n",
    "$ B = \\left[ \\begin{array}{ccc} -8\\\\ 10\\end{array} \\right]$, \n",
    "$ C = \\left[ \\begin{array}{ccc} 11.1\\\\ 1\\end{array} \\right]$ \n",
    "\n",
    "\n"
   ]
  },
  {
   "cell_type": "code",
   "execution_count": 204,
   "metadata": {
    "collapsed": true
   },
   "outputs": [],
   "source": [
    "#code....."
   ]
  },
  {
   "cell_type": "markdown",
   "metadata": {},
   "source": [
    "**1.8.2** Perform a vector-matrix multiplication with the following vector $ A = \\left[ \\begin{array}{ccc} 6\\\\ 1\\end{array} \\right]$ and matrix $ B = \\left[ \\begin{array}{ccc} -8 & 10 & 11\\\\ 8 & 10 & 56\\end{array} \\right]$. "
   ]
  },
  {
   "cell_type": "code",
   "execution_count": 205,
   "metadata": {
    "collapsed": true
   },
   "outputs": [],
   "source": [
    "#code...."
   ]
  },
  {
   "cell_type": "markdown",
   "metadata": {},
   "source": [
    "**1.8.3** Calculate the multiplication of the following three matrices; <br>\n",
    "$ A = \\left[ \\begin{array}{ccc} -8 & 10 & 11\\\\ 8 & 10 & 56\\end{array} \\right]$ <br> <br>\n",
    "$ B = \\left[ \\begin{array}{ccc} -7 & 17 & 3\\\\ 5 & 10 & 5\\end{array} \\right]$ <br> <br>\n",
    "$ C = \\left[ \\begin{array}{ccc} -9 & 3 & 11\\\\ 17 & 11 & 6\\end{array} \\right]$ <br> <br>"
   ]
  },
  {
   "cell_type": "code",
   "execution_count": 206,
   "metadata": {
    "collapsed": true
   },
   "outputs": [],
   "source": [
    "#code...."
   ]
  },
  {
   "cell_type": "markdown",
   "metadata": {},
   "source": [
    "**1.8.4** Given is a matrix $ A = \\left[ \\begin{array}{ccc} 2 & 3 & 11\\\\ 4 & 5 & 56 \\\\ 6 & 7 & 45 \\end{array} \\right]$. Calculate the transpose of this reduced matrix. Secondly, select the second row of the matrix.\n"
   ]
  },
  {
   "cell_type": "code",
   "execution_count": 207,
   "metadata": {
    "collapsed": true
   },
   "outputs": [],
   "source": [
    "#code...."
   ]
  },
  {
   "cell_type": "markdown",
   "metadata": {},
   "source": [
    "<div class=\"alert alert-info\" role=\"alert\" style=\"height:10px;padding:0px;margin-bottom:-20px\"></div>\n",
    "\n",
    "### 2.  Eigenvalues & Eigenvectoren\n",
    "\n",
    "<div class=\"alert alert-info\" role=\"alert\" style=\"height:10px;padding:0px;margin-top:5px;\"></div>"
   ]
  },
  {
   "cell_type": "markdown",
   "metadata": {},
   "source": [
    "#### 2.1 Definitions\n",
    "\n",
    "It is important to understand the terms eigenvalue and eigenvector, because they are the basis of PCA.<br>\n",
    "An eigenvector of a matrix A<sub>mxn</sub> is a **nonzero** vecotr x such that: \n",
    "### A$\\bullet$X = $\\lambda$X \n",
    "for some scalar $\\lambda$ <br>\n",
    "A scalar $\\lambda$ is called an eigenvalues of A if there is **nontrival** solution x of **A$\\bullet$X = $\\lambda$X**; such an eigenvector corresponding to $\\lambda$\n",
    "<br><br>\n",
    "It is easy to determine if a given vector is an eigenvector of a matrix. <br> \n",
    "**Example 1** <br>\n",
    "let $ A = \\left[ \\begin{array}{ccc} 1 & 6\\\\ 5 & 2 \\end{array} \\right]$, $ u = \\left[ \\begin{array}{ccc} 6\\\\ -5 \\end{array} \\right]$ and  $ v = \\left[ \\begin{array}{ccc} 3\\\\ -2 \\end{array} \\right]$. Are u and v eigenvectoren of A?<br>\n",
    "**Calculation**<br>\n",
    "    Au = $\\left[ \\begin{array}{ccc} 1 & 6\\\\ 5 & 2 \\end{array} \\right]$ $\\left[ \\begin{array}{ccc} 6\\\\ -5 \\end{array} \\right]$ = $\\left[ \\begin{array}{ccc} -24\\\\ 20 \\end{array} \\right]$ = $-4$$\\left[ \\begin{array}{ccc} 6\\\\ -5 \\end{array} \\right]$ = $-4u$ <br>\n",
    "    Av = $\\left[ \\begin{array}{ccc} 1 & 6\\\\ 5 & 2 \\end{array} \\right]$ $\\left[ \\begin{array}{ccc} 3\\\\ -2 \\end{array} \\right]$ = $\\left[ \\begin{array}{ccc} -9\\\\ 11 \\end{array} \\right]$ $\\neq$ $\\lambda$ $\\left[ \\begin{array}{ccc} 3\\\\ -2 \\end{array} \\right]$ = $-4u$\n",
    "\n",
    "Thus u is an eigenvector corresponding to an eigenvalue (-4), but v is not an eigenvector of A, <br> \n",
    "because Av is not a multiple of v. <br> \n",
    "\n",
    "It is also easy to decide if a specified scalar is an eigenvalue. <br>\n",
    "**Example 2** <br>\n",
    "Show that scalar 7 is an eigenvalue of A in example 1, and find the corresponding eigenvectors. <br>\n",
    "**Calculation** <br>\n",
    "The scalar 7 is an eigenvector of A if and only if equation A$\\bullet$X = 7X has a nontrival solution. <br>\n",
    "This equation is equal to Ax - 7x = 0, or (A-7I)x =0 <br>\n",
    "To solve this equation, from the matrix\n",
    "A - 7I =  $\\left[ \\begin{array}{ccc} 1 & 6\\\\ 5 & 2 \\end{array} \\right]$ $-$ $\\left[ \\begin{array}{ccc} 7 & 0\\\\ 0 & 7 \\end{array} \\right]$ =  $\\left[ \\begin{array}{ccc} -6 & 6\\\\ 5 & -5 \\end{array} \\right]$\n",
    "The columns of A-7I are obviously linearly dependent, so has nontrivial solution. Thus 7 is an eigenvalue of A. To find the corresponding eigenvectors, use row operations. \n",
    "\n",
    "$\\left[ \\begin{array}{ccc} -6 & 6 & 0\\\\ 5 & -5 & 0\\end{array} \\right]$ $\\sim$ $\\left[ \\begin{array}{ccc} 1 & -1 & 0\\\\ 0 & 0 & 0 \\end{array} \\right]$\n",
    "\n",
    "(If you want to know the code which you can use for row reduction, have a look at the cell below.)\n",
    "The general solution has the form x<sub>2</sub> $\\left[ \\begin{array}{ccc} 1\\\\ 1 \\end{array} \\right]$. Each vector of this form with x<sub>2</sub> $\\neq$ 0 is an eigenvector corresponding to $\\lambda$ = 7.\n",
    "\n",
    "    \n"
   ]
  },
  {
   "cell_type": "code",
   "execution_count": 208,
   "metadata": {},
   "outputs": [
    {
     "name": "stdout",
     "output_type": "stream",
     "text": [
      "(Matrix([\n",
      "[1, -1, 0],\n",
      "[0,  0, 0]]), (0,))\n"
     ]
    }
   ],
   "source": [
    "# the code for row reduction\n",
    "from sympy import *\n",
    "A = np.array([[-6, 6, 0],\n",
    "            [5, -5, 0]])\n",
    "\n",
    "reduced_A = Matrix(A).rref()\n",
    "print(reduced_A)"
   ]
  },
  {
   "cell_type": "markdown",
   "metadata": {},
   "source": [
    "#### 2.2 The calculation of eigenvalues and eigenvectoren in python"
   ]
  },
  {
   "cell_type": "markdown",
   "metadata": {},
   "source": [
    "The function **numpy.linalg.eig** computes eigenvalues and eigenvectors of a square matrix A. you have to import it before you can use it."
   ]
  },
  {
   "cell_type": "code",
   "execution_count": 209,
   "metadata": {
    "collapsed": true
   },
   "outputs": [],
   "source": [
    "import numpy as np\n",
    "import matplotlib.pyplot as plt\n",
    "import numpy.linalg as la"
   ]
  },
  {
   "cell_type": "markdown",
   "metadata": {},
   "source": [
    "Let's consider a simple example with a diagonal matrix:"
   ]
  },
  {
   "cell_type": "code",
   "execution_count": 210,
   "metadata": {},
   "outputs": [
    {
     "name": "stdout",
     "output_type": "stream",
     "text": [
      "[[ 3 -2]\n",
      " [ 1  0]]\n"
     ]
    }
   ],
   "source": [
    "A = np.array([[3,-2],[1,0]])\n",
    "print(A)"
   ]
  },
  {
   "cell_type": "markdown",
   "metadata": {},
   "source": [
    "The function **la.eig** returns a tuple (eigvals,eigvecs) where eigvals is a 1D NumPy array of complex numbers giving the eigenvalues of A, and eigvecs is a 2D NumPy array with the corresponding eigenvectors in the columns:"
   ]
  },
  {
   "cell_type": "code",
   "execution_count": 211,
   "metadata": {},
   "outputs": [
    {
     "name": "stdout",
     "output_type": "stream",
     "text": [
      "(array([ 2.,  1.]), array([[ 0.89442719,  0.70710678],\n",
      "       [ 0.4472136 ,  0.70710678]]))\n"
     ]
    }
   ],
   "source": [
    "results = la.eig(A)\n",
    "print(results)\n"
   ]
  },
  {
   "cell_type": "markdown",
   "metadata": {},
   "source": [
    "With the following code you get the eigenvalues and eigenvectors separately."
   ]
  },
  {
   "cell_type": "code",
   "execution_count": 212,
   "metadata": {},
   "outputs": [
    {
     "name": "stdout",
     "output_type": "stream",
     "text": [
      "The eigenvalues of A are [ 2.  1.]\n",
      "The corresponding eigenvectors are [[ 0.89442719  0.70710678]\n",
      " [ 0.4472136   0.70710678]]\n"
     ]
    }
   ],
   "source": [
    "print(\"The eigenvalues of A are\", results[0])\n",
    "print(\"The corresponding eigenvectors are\", results[1])"
   ]
  },
  {
   "cell_type": "markdown",
   "metadata": {},
   "source": [
    "It is also possible to split the eigenvectors and eigenvalues immediately"
   ]
  },
  {
   "cell_type": "code",
   "execution_count": 213,
   "metadata": {},
   "outputs": [
    {
     "name": "stdout",
     "output_type": "stream",
     "text": [
      "[ 2.  1.]\n",
      "[[ 0.89442719  0.70710678]\n",
      " [ 0.4472136   0.70710678]]\n"
     ]
    }
   ],
   "source": [
    "eigenvalues, eigenvectors = la.eig(A)\n",
    "print(eigenvalues)\n",
    "print(eigenvectors)"
   ]
  },
  {
   "cell_type": "markdown",
   "metadata": {},
   "source": [
    "\n",
    "\n",
    "#### 2.3 Excercises \n"
   ]
  },
  {
   "cell_type": "markdown",
   "metadata": {},
   "source": [
    "**2.3.1** Compute the eigenvalues and the corresponding eigenvectors of the given matrix $A = \\left[ \\begin{array}{ccc} 1 & 2 & 3\\\\ 4 & 5 & 6 \\\\ 7 & 8 & 9 \\end{array} \\right]$."
   ]
  },
  {
   "cell_type": "code",
   "execution_count": null,
   "metadata": {
    "collapsed": true
   },
   "outputs": [],
   "source": [
    "#code....."
   ]
  },
  {
   "cell_type": "code",
   "execution_count": 214,
   "metadata": {
    "collapsed": true
   },
   "outputs": [],
   "source": [
    "##mogelijk nog een filmpje met extra uitleg hier toevoegen"
   ]
  },
  {
   "cell_type": "markdown",
   "metadata": {},
   "source": [
    "<div class=\"alert alert-info\" role=\"alert\" style=\"height:10px;padding:0px;margin-bottom:-20px\"></div>\n",
    "\n",
    "### 3. Transformations\n",
    "\n",
    "<div class=\"alert alert-info\" role=\"alert\" style=\"height:10px;padding:0px;margin-top:5px;\"></div>"
   ]
  },
  {
   "cell_type": "markdown",
   "metadata": {},
   "source": [
    "#### 3.1 Definition\n",
    "\n",
    "A transformation T from $\\mathbb{R}$<sup>n</sup> to $\\mathbb{R}$<sup>m</sup> is a rule that assigns to each vector x in $\\mathbb{R}$<sup>n</sup> a vector T(x) in <br> $\\mathbb{R}$<sup>m</sup>. The set $\\mathbb{R}$<sup>n</sup> is called the domain of T, and $\\mathbb{R}$<sup>m</sup> is called the codomain of T. <br> The notation T: $\\mathbb{R}$<sup>n</sup> $ \\longrightarrow$  $\\mathbb{R}$<sup>m</sup> indicates that the domain of T is $\\mathbb{R}$<sup>n</sup> and the codomain is $\\mathbb{R}$<sup>m</sup>. For x in $\\mathbb{R}$<sup>n</sup>, the vector T(x) is called the image of x (under the action of T). The set of all images T(x) is called the range of T. <br>\n",
    "<img src=\"picture_transformation.PNG\" /> <br>\n",
    "So, with a transformation you have a matrix A that you multiply by a vector x which lead to a transformation of the vector x in b. <br>\n",
    "<img src=\"picture_transformation2.PNG\" /> <br>\n",
    "\n",
    "#### 3.2 Examples\n",
    "To get a transformation more gain insight we will give same examples.\n",
    "#### hier nog wat toevoegen. overleggen in vergadering\n"
   ]
  },
  {
   "cell_type": "markdown",
   "metadata": {},
   "source": [
    "#### 3.3 Excercises "
   ]
  },
  {
   "cell_type": "markdown",
   "metadata": {},
   "source": [
    "**3.3.1** Calculate the transformation of the $M=\\begin{bmatrix}1 & 2 & 3 & 4 & 3 & 2 & 7 \\\\ 2 & 2 & 4 & 5 & 4 & 3 & 9 \\end{bmatrix}$ with scaler 3 and $F=\\begin{bmatrix}1 & 1\\\\ 2 & 2\\end{bmatrix}$.<br>\n",
    "Make a scatter plot of the new transformation."
   ]
  },
  {
   "cell_type": "code",
   "execution_count": 231,
   "metadata": {},
   "outputs": [
    {
     "data": {
      "text/plain": [
       "<matplotlib.collections.PathCollection at 0xe5ccb90e48>"
      ]
     },
     "execution_count": 231,
     "metadata": {},
     "output_type": "execute_result"
    },
    {
     "data": {
      "image/png": "[encoded data removed]",
      "text/plain": [
       "<matplotlib.figure.Figure at 0xe5cb9e7f98>"
      ]
     },
     "metadata": {},
     "output_type": "display_data"
    }
   ],
   "source": [
    "x=[1,2,3,4,3,2,7]\n",
    "y=[2,2,4,5,4,3,9]\n",
    "\n",
    "m=np.array([x,y]).T\n",
    "\n",
    "scale=3\n",
    "f2=np.array([[1,1],[2,2]])\n",
    "tr=scale*f2\n",
    "c=m.dot(f2)\n",
    "#plt.scatter(m[0],m[1])\n",
    "plt.scatter(c[:, 0], c[:, 1])\n"
   ]
  },
  {
   "cell_type": "markdown",
   "metadata": {},
   "source": [
    "**3.3.2** nog maken"
   ]
  },
  {
   "cell_type": "code",
   "execution_count": 26,
   "metadata": {
    "collapsed": true
   },
   "outputs": [],
   "source": [
    "#code....."
   ]
  },
  {
   "cell_type": "code",
   "execution_count": 34,
   "metadata": {},
   "outputs": [
    {
     "name": "stdout",
     "output_type": "stream",
     "text": [
      "[[0 1]\n",
      " [0 1]]\n"
     ]
    },
    {
     "ename": "ModuleNotFoundError",
     "evalue": "No module named 'plot'",
     "output_type": "error",
     "traceback": [
      "\u001b[1;31m---------------------------------------------------------------------------\u001b[0m",
      "\u001b[1;31mModuleNotFoundError\u001b[0m                       Traceback (most recent call last)",
      "\u001b[1;32m<ipython-input-34-c1f517d090e9>\u001b[0m in \u001b[0;36m<module>\u001b[1;34m()\u001b[0m\n\u001b[0;32m      4\u001b[0m \u001b[0mprint\u001b[0m\u001b[1;33m(\u001b[0m\u001b[0mA\u001b[0m\u001b[1;33m)\u001b[0m\u001b[1;33m\u001b[0m\u001b[0m\n\u001b[0;32m      5\u001b[0m \u001b[1;33m\u001b[0m\u001b[0m\n\u001b[1;32m----> 6\u001b[1;33m \u001b[1;32mimport\u001b[0m \u001b[0mplot\u001b[0m\u001b[1;33m.\u001b[0m\u001b[0mgraph_objects\u001b[0m \u001b[1;32mas\u001b[0m \u001b[0mgo\u001b[0m\u001b[1;33m\u001b[0m\u001b[0m\n\u001b[0m\u001b[0;32m      7\u001b[0m \u001b[1;33m\u001b[0m\u001b[0m\n\u001b[0;32m      8\u001b[0m \u001b[0mfig\u001b[0m \u001b[1;33m=\u001b[0m \u001b[0mgo\u001b[0m\u001b[1;33m.\u001b[0m\u001b[0mFigure\u001b[0m\u001b[1;33m(\u001b[0m\u001b[1;33m)\u001b[0m\u001b[1;33m\u001b[0m\u001b[0m\n",
      "\u001b[1;31mModuleNotFoundError\u001b[0m: No module named 'plot'"
     ]
    }
   ],
   "source": [
    "#aan het uitproberen\n",
    "A = np.array([[0, 1],\n",
    "                  [0,1]])\n",
    "print(A)\n",
    "\n",
    "import plot.graph_objects as go\n",
    "\n",
    "fig = go.Figure()\n",
    "fig.add_trace(go.Scatter(x=[1, 2, 3, 4], y=[0, 2, 3, 5], fill='tozeroy',\n",
    "                    mode='none' # override default markers+lines\n",
    "                    ))\n",
    "fig.add_trace(go.Scatter(x=[1, 2, 3, 4], y=[3, 5, 1, 7], fill='tonexty',\n",
    "                    mode= 'none'))\n",
    "\n",
    "fig.show()\n",
    "                    "
   ]
  },
  {
   "cell_type": "markdown",
   "metadata": {},
   "source": [
    "<div class=\"alert alert-info\" role=\"alert\" style=\"height:10px;padding:0px;margin-bottom:-20px\"></div>\n",
    "\n",
    "###  4. Inner product, length and orthogonality\n",
    "\n",
    "<div class=\"alert alert-info\" role=\"alert\" style=\"height:10px;padding:0px;margin-top:5px;\"></div>\n",
    "\n",
    "\n",
    "### Inner product\n",
    "#### 4.1.1 Definition\n",
    "If $\\mathbf{u}$ and $\\mathbf{v}$ are vectors in $\\mathbb{R}$<sup>n</sup> , then we regard $\\mathbf{u}$ and $\\mathbf{v}$ as *n x 1* matrices. The transpose $\\mathbf{u}$<sup>*T*</sup> is a *1 x n* matrix, and the matrix product $\\mathbf{u}$<sup>*T*</sup>$\\mathbf{v}$ is a *1 x 1* matrix, which we write as a single real number (a scalar) without brackets. The number $\\mathbf{u}$<sup>*T*</sup>$\\mathbf{v}$ is called the **inner product** of $\\mathbf{u}$ and $\\mathbf{v}$, and often it is written as $\\mathbf{u}\\cdot\\mathbf{v}$.\n",
    "\n",
    "$$ \\mathbf{u}= \\left[ \\begin{array}{c} u1 \\\\ u2 \\\\ \\vdots \\\\ un \\end{array} \\right] \\text{  and  } \\mathbf{ v}= \\left[ \\begin{array}{c} v1 \\\\ v2 \\\\ \\vdots \\\\ vn \\end{array} \\right]$$\n",
    "\n",
    "\n",
    "then the inner product of u and v is <br>\n",
    "$$\\mathbf{u}\\cdot\\mathbf{v} = \\mathbf{u}^T\\mathbf{v} =  \\left[ \\begin{array}{c} u1 & u2 & \\cdots & un \\end{array} \\right]  \\left[ \\begin{array}{c} v1 \\\\ v2 \\\\ \\vdots \\\\ vn \\end{array} \\right] = u_1v_1+u_2v_2+\\cdots+u_nv_n$$\n",
    "\n",
    "#### 4.1.2 Examples\n",
    "To calculate the inner product in Jupyter the following code can be used.<br>\n",
    "Ordinary inner product for vectors: \n",
    "```python\n",
    "A = np.array([1,2,3])\n",
    "B = np.array([0,1,0])\n",
    "np.inner(A, B)\n",
    "```\n",
    "A multidimensional example:\n",
    "```python\n",
    "a = np.arange(24).reshape((2,3,4))\n",
    "b = np.arange(4)\n",
    "np.inner(a, b)\n",
    "```\n",
    "### Lenght\n",
    "#### 4.2.1 Definition\n",
    "The length (or norm) of $\\mathbf{v}$ is the nonnegative scalar $\\parallel v \\parallel$ defined by <br>\n",
    "$$\\| v \\| = \\sqrt{v \\cdot v} = \\sqrt{v_1^2+v_2^2+\\cdots+vn^2} \\text{ and } \\parallel v \\parallel^2$= $v \\cdot v$$\n",
    "\n",
    "#### 4.2.2 Examples\n",
    "The magnitude of a vector can be calculate as follows.\n",
    "```python\n",
    "x = np.array([1,2,3,4,5])\n",
    "np.linalg.norm(x)\n",
    "#or   \n",
    "np.sqrt(x.dot(x))\n",
    "```\n",
    "\n",
    "### Orthogonality\n",
    "#### 4.3.1 Definition\n",
    "**Orthogonal vectors** <br>\n",
    "Two vectors $\\mathbf{A}$ and $\\mathbf{B}$ in $\\mathbb{R}$<sup>n</sup> are orthogonal (to each other) if $\\mathbf{A}\\cdot\\mathbf{B}$ =0\n",
    "meaning that two vector are perpendicular to which another.\n",
    "\n",
    "<img src=\"orthogonal.PNG\" /> <br>\n",
    "\n",
    "**Orthogonal** set<br>\n",
    "A set of vectors {$\\mathbf{u_1}, ... , \\mathbf{u_p}$} in $\\mathbb{R}$<sup>n</sup> is said to be an **orthogonal set** if each pair of distinct vectors from the set is orthogonal: $\\mathbf{u_i} \\cdot \\mathbf{v_j}$ = 0 whenever i≠j .\n",
    "\n",
    "**Example** <br>\n",
    "Show that {$\\mathbf{u_1},\\mathbf{u_2},\\mathbf{u_3}$} is an orthogonal set, where\n",
    "\n",
    "$$\\mathbf{u_1}=\\left[ \\begin{array}{c} 3 \\\\ 1 \\\\ \\ 1  \\end{array} \\right], \\mathbf{u_2}=\\left[ \\begin{array}{c} -1 \\\\ 2 \\\\ \\ 1  \\end{array} \\right], \\mathbf{u_3}=\\left[ \\begin{array}{c} -1/2 \\\\ -2 \\\\ \\ 7/2  \\end{array} \\right]$$\n",
    "\n",
    "**Solution** <br>\n",
    "Consider the three possible pairs of distinct vectors, namely, {$\\mathbf{u_1},\\mathbf{u_2}$}, {$\\mathbf{u_1},\\mathbf{u_3}$} and {$\\mathbf{u_2},\\mathbf{u_3}$}\n",
    "\n",
    "$\\mathbf{u_1},\\mathbf{u_2}= 3(-1)+1(2)+1(1)$ <br>\n",
    "$\\mathbf{u_1},\\mathbf{u_3}=3(-1/2)+1(-2)+1(7/2)$ <br>\n",
    "$\\mathbf{u_2},\\mathbf{u_3}=3(-1/2)+2(2)+1(7/2)$ <br>\n",
    "\n",
    "<img src=\"orthogonal_set1.PNG\" /> <br>"
   ]
  },
  {
   "cell_type": "markdown",
   "metadata": {},
   "source": [
    "<div class=\"alert alert-info\" role=\"alert\" style=\"height:10px;padding:0px;margin-bottom:-20px\"></div>\n",
    "\n",
    "###  5.Covariance matrix\n",
    "\n",
    "<div class=\"alert alert-info\" role=\"alert\" style=\"height:10px;padding:0px;margin-top:5px;\"></div>\n"
   ]
  },
  {
   "cell_type": "markdown",
   "metadata": {},
   "source": [
    "#### 5.1 Mean\n",
    "The arithmetic mean can be calculated for a vector or matrix in NumPy by using the mean() function. The mean function can calculate the row or column means of a matrix by specifying the axis argument and the value 0 or 1 respectively.\n"
   ]
  },
  {
   "cell_type": "code",
   "execution_count": 110,
   "metadata": {
    "scrolled": false
   },
   "outputs": [
    {
     "name": "stdout",
     "output_type": "stream",
     "text": [
      "matrix= [[1 2 3 4 5 6]\n",
      " [1 2 3 4 5 6]]\n",
      "col_mean [ 1.  2.  3.  4.  5.  6.]\n",
      "row_mean [ 3.5  3.5]\n"
     ]
    }
   ],
   "source": [
    "from numpy import array\n",
    "from numpy import mean\n",
    "M = array([[1,2,3,4,5,6],[1,2,3,4,5,6]])\n",
    "print('matrix=',M)\n",
    "col_mean = mean(M, axis=0)\n",
    "print('col_mean',col_mean)\n",
    "row_mean = mean(M, axis=1)\n",
    "print('row_mean',row_mean)\n"
   ]
  },
  {
   "cell_type": "markdown",
   "metadata": {},
   "source": [
    "#### 5.2 Variance\n",
    "Variance is a measure of the variability or spread in a set of data. Mathematically, it is the average squared deviation from the mean score.\n",
    "\n",
    "$$\\large \\sigma ^{2}=\\frac{ \\sum_{i=1}^{n}\\left ( x_{i}-\\bar{x} \\right )^{2}}{n-1}$$\n",
    "\n",
    "var of $\\sigma ^{2}$= sample variance<br>\n",
    "$x_{i}$=value of i^{th} element<br>\n",
    "$\\bar{x}$= sample mean <br>\n",
    "n=sample size<br>\n",
    "\n",
    "In NumPy, the variance can be calculated for a vector or a matrix using the var() function. By default, the var() function calculates the population variance. To calculate the sample variance, you must set the ddof argument to the value 1.\n",
    "\n",
    "The example below defines a 6-element vector and calculates the sample variance."
   ]
  },
  {
   "cell_type": "code",
   "execution_count": 106,
   "metadata": {},
   "outputs": [
    {
     "name": "stdout",
     "output_type": "stream",
     "text": [
      "[1 2 3 4 5 6]\n",
      "variance= 3.5\n"
     ]
    }
   ],
   "source": [
    "from numpy import array\n",
    "from numpy import var\n",
    "v = array([1,2,3,4,5,6])\n",
    "print(v)\n",
    "result = var(v, ddof=1)\n",
    "print('variance=',result)\n"
   ]
  },
  {
   "cell_type": "markdown",
   "metadata": {},
   "source": [
    "#### 5.3 standard deviation\n",
    "The standard deviation is calculated as the square root of the variance and is denoted as lowercase “s”.\n",
    "\n",
    "$$\\sigma =\\sqrt{\\frac{\\sum \\left ( x_{i}-\\bar{x} \\right )^{2}}{n-1}}$$\n",
    "\n",
    "s of $\\sigma$= sample variance<br>\n",
    "$x_{i}$=value of i^{th} element<br>\n",
    "$\\bar{x}$= sample mean <br>\n",
    "n=sample size<br>\n",
    "\n",
    "NumPy also provides a function for calculating the standard deviation directly via the std() function. As with the var() function, the ddof argumentmust be set to 1 to calculate the unbiased sample standard deviation and column and row standard deviations can be calculated by setting the axis argument to 0 and 1 respectively.\n",
    "\n"
   ]
  },
  {
   "cell_type": "code",
   "execution_count": 109,
   "metadata": {},
   "outputs": [
    {
     "name": "stdout",
     "output_type": "stream",
     "text": [
      "[[1 2 3 4 5 6]\n",
      " [1 2 3 4 5 6]]\n",
      "col_mean= [ 0.  0.  0.  0.  0.  0.]\n",
      "row_mean= [ 1.87082869  1.87082869]\n"
     ]
    }
   ],
   "source": [
    "from numpy import array\n",
    "from numpy import std\n",
    "M = array([[1,2,3,4,5,6],[1,2,3,4,5,6]])\n",
    "print(M)\n",
    "col_mean = std(M, ddof=1, axis=0)\n",
    "print('col_mean=',col_mean)\n",
    "row_mean = std(M, ddof=1, axis=1)\n",
    "print('row_mean=',row_mean)\n"
   ]
  },
  {
   "cell_type": "markdown",
   "metadata": {},
   "source": [
    "#### 5.4 Covariance\n",
    "Covariance is a measure of the extent to which corresponding elements from two sets of ordered data move in the same direction.\n",
    "\n",
    "$$cov(x,y) =\\frac{\\sum \\left ( x-\\bar{x} \\right )\\left ( y_{i}-\\bar{y} \\right )}{n-1}$$\n",
    "\n",
    "NumPy does not have a function to calculate the covariance between two variables directly. Instead, it has a function for calculating a covariance matrix called cov() that we can use to retrieve the covariance. By default, the cov()function will calculate the unbiased or sample covariance between the provided random variables.\n"
   ]
  },
  {
   "cell_type": "code",
   "execution_count": 112,
   "metadata": {},
   "outputs": [
    {
     "name": "stdout",
     "output_type": "stream",
     "text": [
      "[1 2 3 4 5 6 7 8 9]\n",
      "[9 8 7 6 5 4 3 2 1]\n",
      "-7.5\n"
     ]
    }
   ],
   "source": [
    "from numpy import array\n",
    "from numpy import cov\n",
    "x = array([1,2,3,4,5,6,7,8,9])\n",
    "print(x)\n",
    "y = array([9,8,7,6,5,4,3,2,1])\n",
    "print(y)\n",
    "Sigma = cov(x,y)[0,1]\n",
    "print(Sigma)\n"
   ]
  },
  {
   "cell_type": "markdown",
   "metadata": {},
   "source": [
    "The covariance can be normalized to a score between -1 and 1 to make the magnitude interpretable by dividing it by the standard deviation of X and Y. The result is called the correlation of the variables, also called the Pearson correlation coefficient, named for the developer of the method.\n",
    "NumPy provides the corrcoef() function for calculating the correlation between two variables directly. Like cov(), it returns a matrix, in this case a correlation matrix. As with the results from cov() we can access just the correlation of interest from the [0,1] value from the returned squared matrix."
   ]
  },
  {
   "cell_type": "code",
   "execution_count": 111,
   "metadata": {},
   "outputs": [
    {
     "name": "stdout",
     "output_type": "stream",
     "text": [
      "[1 2 3 4 5 6 7 8 9]\n",
      "[9 8 7 6 5 4 3 2 1]\n",
      "[[ 1. -1.]\n",
      " [-1.  1.]]\n"
     ]
    }
   ],
   "source": [
    "from numpy import array\n",
    "from numpy import corrcoef\n",
    "x = array([1,2,3,4,5,6,7,8,9])\n",
    "print(x)\n",
    "y = array([9,8,7,6,5,4,3,2,1])\n",
    "print(y)\n",
    "Sigma = corrcoef(x,y)\n",
    "print(Sigma)\n"
   ]
  },
  {
   "cell_type": "markdown",
   "metadata": {},
   "source": [
    "#### 5.5 Covariance matrix\n",
    "The covariance matrix is a square and symmetric matrix that describes the covariance between two or more random variables. The diagonal of the covariance matrix are the variances of each of the random variables. A covariance matrix is a generalization of the covariance of two variables and captures the way in which all variables in the dataset may change together.\n",
    "\n",
    "$$C=\\begin{bmatrix}\n",
    "\\sigma (x,x) & \\sigma (y,y) \\\\ \n",
    "\\sigma (y,x) & \\sigma (y,y)\n",
    "\\end{bmatrix}$$\n",
    "\n",
    "The covariance matrix provides a useful tool for separating the structured relationships in a matrix of random variables. This can be used to decorrelate variables or applied as a transform to other variables. It is a key element used in the Principal Component Analysis data reduction method, or PCA for short.\n",
    "\n",
    "Example\n",
    "$$ S= \\left[ \\begin{array}{ccc}  10 & 6 & 0\\\\ 6 & 8 & -8\\\\ 0 & -8 & 32  \\end{array} \\right] $$\n",
    "\n",
    "The entry $s_{ij}$ in $S$ for $i \\neq j$ is called the covariance, so 0, 6, -8 are the covariance.\n",
    "If the variables are correlated in some way, then their covariance will be nonzero. In fact, if $S_{i j}$ > 0, then  Y tends to increase as  X increases, and if $S_{i j}$ < 0, then Y tends to decrease as X increases. In the figure below there are diffrent plot with the correlation between two variables.\n",
    "\n",
    "<img src=\"Correl.PNG\" />\n",
    "\n",
    "The covariance matrix can be calculated in NumPy using the **cov()** function. By default, this function will calculate the sample covariance matrix.\n"
   ]
  },
  {
   "cell_type": "code",
   "execution_count": null,
   "metadata": {
    "collapsed": true
   },
   "outputs": [],
   "source": [
    "from numpy import array\n",
    "from numpy import cov\n",
    "x = array([1,2,3,4,5,6,7,8,9])\n",
    "print(x)\n",
    "y = array([9,8,7,6,5,4,3,2,1])\n",
    "print(y)\n",
    "Sigma = cov(x,y)\n",
    "print(Sigma)"
   ]
  },
  {
   "cell_type": "markdown",
   "metadata": {},
   "source": [
    "#### 5.6Total variance\n",
    "The total variance of the data is the sum of the variances on the diagonal of $S$. In general, the sum of the diagonal entries of a square matrix $S$ is called the trace of the\n",
    "matrix, written tr($S$) Thus <br>\n",
    "\n",
    "$$\\text{{total variance}} = tr(\\text{$S$})$$\n"
   ]
  },
  {
   "cell_type": "markdown",
   "metadata": {},
   "source": [
    "#### 5.7 : Excercises \n",
    "1) Make a plot of two variables with random values between 0 and 1. The sample size will be 500."
   ]
  },
  {
   "cell_type": "code",
   "execution_count": 189,
   "metadata": {
    "scrolled": true
   },
   "outputs": [],
   "source": [
    "#code....."
   ]
  },
  {
   "cell_type": "markdown",
   "metadata": {},
   "source": [
    "2) Calculate covariance matrix of the plot above and what can be say about the covariance?"
   ]
  },
  {
   "cell_type": "code",
   "execution_count": 190,
   "metadata": {},
   "outputs": [],
   "source": [
    "#code....."
   ]
  },
  {
   "cell_type": "markdown",
   "metadata": {},
   "source": [
    "3) Make a plot and calculate the covariance matrix of two given arrays. \n",
    "Sample Output:<br>\n",
    "x=x=[0,1,2,6,8,7,4,3,5,6,2,1,4,5,6,4,6,7,4,6,9,2,8,3,9,4,2,5,9,6,9]<br>\n",
    "y=[1,4,5,6,7,5,4,3,3,3,3,4,5,6,3,2,7,8,2,7,9,3,7,6,8,5,5,6,8,8,9]"
   ]
  },
  {
   "cell_type": "code",
   "execution_count": 191,
   "metadata": {},
   "outputs": [],
   "source": [
    "#code....."
   ]
  },
  {
   "cell_type": "markdown",
   "metadata": {},
   "source": [
    "4) This is a plot with a negative correlation with a random sample size of 500. find the mistake in the code, so that it works."
   ]
  },
  {
   "cell_type": "code",
   "execution_count": 192,
   "metadata": {},
   "outputs": [],
   "source": [
    "import numpy as np\n",
    "import matplotlib.pyplot in plt\n",
    "%matplotlib inline\n",
    "\n",
    "plt.style.use('ggplot')\n",
    "plt.rcParams['figure.figsize'] = (12, 8)\n",
    "\n",
    "# Normal distributed x and y vector with mean 0 and standard deviation 1\n",
    "x = np.random.normal(0, 1, 500)\n",
    "y = np.randon.normal(0, 1, 500)\n",
    "X = np.vstack((x, y)).T\n",
    "\n",
    "# Center the matrix at the origin\n",
    "X = X - np.mean(X, 0)\n",
    "\n",
    "# Scaling matrix\n",
    "sx, sy = 0.7, 3.4\n",
    "Scale = np.array([[sx, 0], [0, sy]])\n",
    "\n",
    "# Rotation matrix\n",
    "theta = 0.77*np.pi\n",
    "c, s = np.cos(theta), np.sin(theta))\n",
    "Rot = np.array([c, -s], [s, c]])\n",
    "\n",
    "# Transformation matrix\n",
    "T = Scale,dot(Rot)\n",
    "\n",
    "# Apply transformation matrix to X\n",
    "Y = X.dot(T)\n",
    "\n",
    "plt.scatter(X[:, 0], X[:, 1])\n",
    "plt.title('Transformed Data')\n",
    "plt.axis('equal');\n",
    "\n",
    "# Calculate covariance matrix\n",
    "np.covariance(Y.T)"
   ]
  }
 ],
 "metadata": {
  "kernelspec": {
   "display_name": "Python 3",
   "language": "python",
   "name": "python3"
  },
  "language_info": {
   "codemirror_mode": {
    "name": "ipython",
    "version": 3
   },
   "file_extension": ".py",
   "mimetype": "text/x-python",
   "name": "python",
   "nbconvert_exporter": "python",
   "pygments_lexer": "ipython3",
   "version": "3.6.3"
  }
 },
 "nbformat": 4,
 "nbformat_minor": 2
}

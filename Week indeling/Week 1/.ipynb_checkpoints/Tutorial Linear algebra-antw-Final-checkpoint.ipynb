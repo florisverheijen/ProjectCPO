{
 "cells": [
  {
   "cell_type": "markdown",
   "metadata": {},
   "source": [
    "# CODE COURSE - Tutorial Linear algebra- Answers\n",
    "---"
   ]
  },
  {
   "cell_type": "code",
   "execution_count": 1,
   "metadata": {},
   "outputs": [],
   "source": [
    "#always run this cell \n",
    "import numpy as np\n",
    "import matplotlib.pyplot as plt\n",
    "import numpy.linalg as la"
   ]
  },
  {
   "cell_type": "code",
   "execution_count": 2,
   "metadata": {},
   "outputs": [
    {
     "data": {
      "text/plain": [
       "array([ 14.1,  12. ])"
      ]
     },
     "execution_count": 2,
     "metadata": {},
     "output_type": "execute_result"
    }
   ],
   "source": [
    "# Exercise 1.8.1 Calculate the sum of the following vectors\n",
    "A=np.array([11,1]).T\n",
    "B=np.array([-8,10]).T\n",
    "C=np.array([11.1,1]).T\n",
    "\n",
    "M=A+B+C\n",
    "M"
   ]
  },
  {
   "cell_type": "code",
   "execution_count": 3,
   "metadata": {},
   "outputs": [
    {
     "name": "stdout",
     "output_type": "stream",
     "text": [
      "[-40  70 122]\n"
     ]
    }
   ],
   "source": [
    "# Exercise 1.8.2  Perform a vector-matrix multiplication with the following vector and matrix\n",
    "A = np.array([6,1])\n",
    "B = np.array([[-8, 10,11],[8,10,56]])\n",
    "C = A.dot(B)\n",
    "print(C)"
   ]
  },
  {
   "cell_type": "code",
   "execution_count": 4,
   "metadata": {},
   "outputs": [
    {
     "name": "stdout",
     "output_type": "stream",
     "text": [
      "[[-376 2042 3539]\n",
      " [4602 5466 5622]]\n"
     ]
    }
   ],
   "source": [
    "# Exercise 1.8.3 Calculate the multiplication of the following three matrices\n",
    "A=np.array([[-8,10,11],[8,10,56]])\n",
    "B=np.array([[-7,17,3],[5,10,5]])\n",
    "C=np.array([[-9,3,11],[17,11,6]])\n",
    "\n",
    "AB=A.dot(B.T)\n",
    "M=AB.dot(C)\n",
    "print(M)"
   ]
  },
  {
   "cell_type": "code",
   "execution_count": 5,
   "metadata": {},
   "outputs": [
    {
     "name": "stdout",
     "output_type": "stream",
     "text": [
      "second row= [3 5 7]\n"
     ]
    }
   ],
   "source": [
    "# Exercise 1.8.4 Calculate the transpose of this reduced matrix. Secondly, select the second row of the matrix.\n",
    "A=np.array([[2,3,11],[4,5,56],[6,7,45]]).T\n",
    "print('second row=',A[1])"
   ]
  },
  {
   "cell_type": "code",
   "execution_count": 6,
   "metadata": {},
   "outputs": [
    {
     "name": "stdout",
     "output_type": "stream",
     "text": [
      "[  1.61168440e+01  -1.11684397e+00  -9.75918483e-16]\n",
      "[[-0.23197069 -0.78583024  0.40824829]\n",
      " [-0.52532209 -0.08675134 -0.81649658]\n",
      " [-0.8186735   0.61232756  0.40824829]]\n"
     ]
    }
   ],
   "source": [
    "# Exercise 2.3.1 Compute the eigenvalues and the corresponding eigenvectors of the given matrix A\n",
    "import numpy as np\n",
    "import matplotlib.pyplot as plt\n",
    "import numpy.linalg as la\n",
    "\n",
    "x1=[1,2,3]\n",
    "x2=[4,5,6]\n",
    "x3=[7,8,9]\n",
    "\n",
    "A=np.array([x1,x2,x3])\n",
    "eigenvalues, eigenvectors=la.eig(A)\n",
    "print(eigenvalues)\n",
    "print(eigenvectors)"
   ]
  },
  {
   "cell_type": "code",
   "execution_count": 7,
   "metadata": {},
   "outputs": [
    {
     "data": {
      "text/plain": [
       "<matplotlib.collections.PathCollection at 0x286d7fca58>"
      ]
     },
     "execution_count": 7,
     "metadata": {},
     "output_type": "execute_result"
    },
    {
     "data": {
      "image/png": "[encoded data removed]",
      "text/plain": [
       "<Figure size 432x288 with 1 Axes>"
      ]
     },
     "metadata": {
      "needs_background": "light"
     },
     "output_type": "display_data"
    }
   ],
   "source": [
    "# Exercise 3.3.1 Calculate the transformation of the 𝑀 with scalar 3 and 𝐹. Make a scatter plot of the new transformation.\n",
    "x=[1,2,3,4,3,2,7]\n",
    "y=[2,2,4,5,4,3,9]\n",
    "\n",
    "M=np.array([x,y]).T\n",
    "scalar=3\n",
    "F=np.array([[2,1],[2,3]])\n",
    "\n",
    "#your calculatibon\n",
    "tr=scalar*F\n",
    "c=M.dot(F)\n",
    "\n",
    "#your plot\n",
    "plt.scatter(c[:, 0], c[:, 1])"
   ]
  },
  {
   "cell_type": "code",
   "execution_count": null,
   "metadata": {},
   "outputs": [],
   "source": [
    "# Exercise 5.2\n",
    "result = np.var(v, ddof=1) "
   ]
  },
  {
   "cell_type": "code",
   "execution_count": 8,
   "metadata": {},
   "outputs": [],
   "source": [
    "# Exercise 5.4\n",
    "Sigma = np.cov(x,y)[0,1] "
   ]
  },
  {
   "cell_type": "code",
   "execution_count": 17,
   "metadata": {},
   "outputs": [
    {
     "data": {
      "image/png": "[encoded data removed]",
      "text/plain": [
       "<Figure size 576x432 with 1 Axes>"
      ]
     },
     "metadata": {},
     "output_type": "display_data"
    }
   ],
   "source": [
    "# Exercise 5.7.1 Make a plot of two variables with random values between 0 and 1. The sample size will be 300.\n",
    "import numpy as np\n",
    "import matplotlib.pyplot as plt\n",
    "%matplotlib inline\n",
    "\n",
    "plt.style.use('ggplot')\n",
    "plt.rcParams['figure.figsize'] = (8, 6)\n",
    "\n",
    "# Normal distributed x and y vector with mean 0 and standard deviation 1\n",
    "x = np.random.normal(0, 1, 300)\n",
    "y = np.random.normal(0, 1, 300)\n",
    "X = np.vstack((x, y)).T\n",
    "\n",
    "plt.scatter(X[:, 0], X[:, 1])\n",
    "plt.title('Generated Data')\n",
    "plt.axis('equal');\n"
   ]
  },
  {
   "cell_type": "code",
   "execution_count": 11,
   "metadata": {},
   "outputs": [
    {
     "name": "stdout",
     "output_type": "stream",
     "text": [
      "[[ 1.00301187 -0.06017694]\n",
      " [-0.06017694  0.9859462 ]]\n"
     ]
    }
   ],
   "source": [
    "# Exercise 5.7.2 Calculate covariance matrix of the plot above and what can be say about the covariance?\n",
    "\n",
    "print(np.cov(X.T))\n",
    "#It have no correlation, because the covariance is zero"
   ]
  },
  {
   "cell_type": "code",
   "execution_count": 12,
   "metadata": {
    "scrolled": false
   },
   "outputs": [
    {
     "name": "stdout",
     "output_type": "stream",
     "text": [
      "5.08064516129\n",
      "2.37797953745\n",
      "[[ 6.72903226  4.2483871 ]\n",
      " [ 4.2483871   4.91397849]]\n"
     ]
    },
    {
     "data": {
      "image/png": "[encoded data removed]",
      "text/plain": [
       "<Figure size 432x288 with 1 Axes>"
      ]
     },
     "metadata": {
      "needs_background": "light"
     },
     "output_type": "display_data"
    }
   ],
   "source": [
    "# Exercise 5.7.3 Calculate the covariance matrix, mean and standard deviation of two given arrays and make a plot of the two arrays. \n",
    "import numpy as np\n",
    "import matplotlib.pyplot as plt\n",
    "%matplotlib inline\n",
    "\n",
    "x=[0,1,2,6,8,7,4,3,5,6,2,1,4,5,6,4,6,7,4,6,9,2,8,3,9,4,2,5,9,6,9]\n",
    "y=[1,4,5,6,7,5,4,3,3,3,3,4,5,6,3,2,7,8,2,7,9,3,7,6,8,5,5,6,8,8,9]\n",
    "\n",
    "M=np.array([x,y])\n",
    "\n",
    "print(np.mean(M))\n",
    "print(np.std(M))\n",
    "\n",
    "plt.scatter(x,y)\n",
    "\n",
    "print(np.cov(M))"
   ]
  },
  {
   "cell_type": "code",
   "execution_count": 13,
   "metadata": {},
   "outputs": [
    {
     "name": "stdout",
     "output_type": "stream",
     "text": [
      "[[-0.52507775 -0.46291831]\n",
      " [ 2.24846034 -2.55037764]]\n"
     ]
    },
    {
     "data": {
      "text/plain": [
       "array([[ 5.99315294, -6.11247391],\n",
       "       [-6.11247391,  7.20277597]])"
      ]
     },
     "execution_count": 13,
     "metadata": {},
     "output_type": "execute_result"
    },
    {
     "data": {
      "image/png": "[encoded data removed]",
      "text/plain": [
       "<Figure size 864x576 with 1 Axes>"
      ]
     },
     "metadata": {},
     "output_type": "display_data"
    }
   ],
   "source": [
    "# Exercise 5.7.4 This is a plot with a negative covariance with a random sample size of 500. Find the mistake in the code, so that it works.\n",
    "import numpy as np\n",
    "import matplotlib.pyplot as plt\n",
    "%matplotlib inline\n",
    "\n",
    "plt.style.use('ggplot')\n",
    "plt.rcParams['figure.figsize'] = (12, 8)\n",
    "\n",
    "# Normal distributed x and y vector with mean 0 and standard deviation 1\n",
    "x = np.random.normal(0, 1, 500)\n",
    "y = np.random.normal(0, 1, 500)\n",
    "X = np.vstack((x, y)).T\n",
    "\n",
    "# Center the matrix at the origin\n",
    "X = X - np.mean(X, 0)\n",
    "\n",
    "# Scaling matrix\n",
    "sx, sy = 0.7, 3.4\n",
    "Scale = np.array([[sx, 0], [0, sy]])\n",
    "\n",
    "# Rotation matrix\n",
    "theta = 0.77*np.pi\n",
    "c, s = np.cos(theta), np.sin(theta)\n",
    "Rot = np.array([[c, -s], [s, c]])\n",
    "\n",
    "# Transformation matrix\n",
    "T = Scale.dot(Rot)\n",
    "print(T)\n",
    "# Apply transformation matrix to X\n",
    "Y = X.dot(T)\n",
    "\n",
    "plt.scatter(Y[:, 0], Y[:, 1])\n",
    "plt.title('Transformed Data')\n",
    "plt.axis('equal');\n",
    "\n",
    "# Calculate covariance matrix\n",
    "np.cov(Y.T)"
   ]
  }
 ],
 "metadata": {
  "kernelspec": {
   "display_name": "Python 3",
   "language": "python",
   "name": "python3"
  },
  "language_info": {
   "codemirror_mode": {
    "name": "ipython",
    "version": 3
   },
   "file_extension": ".py",
   "mimetype": "text/x-python",
   "name": "python",
   "nbconvert_exporter": "python",
   "pygments_lexer": "ipython3",
   "version": "3.6.3"
  }
 },
 "nbformat": 4,
 "nbformat_minor": 2
}

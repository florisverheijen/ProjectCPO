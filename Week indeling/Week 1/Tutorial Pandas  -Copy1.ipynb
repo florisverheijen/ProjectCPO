{
 "cells": [
  {
   "cell_type": "markdown",
   "metadata": {},
   "source": [
    "# Pandas tutorial\n",
    "\n",
    "In this tutorial you will learn the basics about using Pandas in Python.\n",
    "Pandas is a library in Python, which can be used to manipulate and analyse data easier. You can read more about pandas on their [website](https://pandas.pydata.org/).\n",
    "\n",
    "For additional content, you can visit the following sites:\n",
    "\n",
    "- [Python: Pandas Tutorial | Intro to DataFrames - YouTube](https://www.youtube.com/watch?v=e60ItwlZTKM). \n",
    "- [Datacamp - Pandas Tutorial](https://www.datacamp.com/community/tutorials/pandas-tutorial-dataframe-python).\n",
    "- [Leanr Python - Pandas Basics](https://www.learnpython.org/en/Pandas_Basics)."
   ]
  },
  {
   "cell_type": "markdown",
   "metadata": {},
   "source": [
    "## Contents of the tutorial\n",
    "\n",
    "1. Import library\n",
    "2. DataFrames\n",
    "    * Concept\n",
    "    * Commands\n",
    "    * See the data\n",
    "3. Series\n",
    "    * Concept\n",
    "    * Commands\n",
    "    * See the data\n",
    "4. Import datafile\n",
    "    * CSV\n",
    "    * Matlab\n",
    "5. Statistics\n",
    "6. Sorting and grouping a Dataframe\n",
    "7. Adding a column by calculation\n",
    "8. Delete data for optimisation\n",
    "9. Working with NaN values\n",
    "10. Plotting a DataFrame"
   ]
  },
  {
   "cell_type": "markdown",
   "metadata": {},
   "source": [
    "______________________"
   ]
  },
  {
   "cell_type": "markdown",
   "metadata": {},
   "source": [
    "## 1. Import library\n",
    "\n",
    "To work with pandas, the first thing that needs to be done is importing the library. It can be done in the cell below."
   ]
  },
  {
   "cell_type": "code",
   "execution_count": 1,
   "metadata": {
    "collapsed": true
   },
   "outputs": [],
   "source": [
    "import pandas as pd"
   ]
  },
  {
   "cell_type": "markdown",
   "metadata": {},
   "source": [
    "____________________"
   ]
  },
  {
   "cell_type": "markdown",
   "metadata": {},
   "source": [
    "## 2. DataFrame\n",
    "\n",
    "A DataFrame is a table just like the one you probably know from excel. It contains rows and columns for example this is a small DataFrame:\n"
   ]
  },
  {
   "cell_type": "code",
   "execution_count": 3,
   "metadata": {},
   "outputs": [
    {
     "data": {
      "text/html": [
       "<div>\n",
       "<style scoped>\n",
       "    .dataframe tbody tr th:only-of-type {\n",
       "        vertical-align: middle;\n",
       "    }\n",
       "\n",
       "    .dataframe tbody tr th {\n",
       "        vertical-align: top;\n",
       "    }\n",
       "\n",
       "    .dataframe thead th {\n",
       "        text-align: right;\n",
       "    }\n",
       "</style>\n",
       "<table border=\"1\" class=\"dataframe\">\n",
       "  <thead>\n",
       "    <tr style=\"text-align: right;\">\n",
       "      <th></th>\n",
       "      <th>Yes</th>\n",
       "      <th>No</th>\n",
       "    </tr>\n",
       "  </thead>\n",
       "  <tbody>\n",
       "    <tr>\n",
       "      <th>0</th>\n",
       "      <td>50</td>\n",
       "      <td>131</td>\n",
       "    </tr>\n",
       "    <tr>\n",
       "      <th>1</th>\n",
       "      <td>21</td>\n",
       "      <td>20</td>\n",
       "    </tr>\n",
       "  </tbody>\n",
       "</table>\n",
       "</div>"
      ],
      "text/plain": [
       "   Yes   No\n",
       "0   50  131\n",
       "1   21   20"
      ]
     },
     "execution_count": 3,
     "metadata": {},
     "output_type": "execute_result"
    }
   ],
   "source": [
    "pd.DataFrame({'Yes':[50,21], 'No':[131,20]})"
   ]
  },
  {
   "cell_type": "markdown",
   "metadata": {},
   "source": [
    "You can see that the rows have the values 0 and 1 these indexes can be changed if you prefer it to other numbers or even to strings. \n",
    "The code you need for this is located in the cell below test it and see what happens."
   ]
  },
  {
   "cell_type": "code",
   "execution_count": 4,
   "metadata": {},
   "outputs": [
    {
     "data": {
      "text/html": [
       "<div>\n",
       "<style scoped>\n",
       "    .dataframe tbody tr th:only-of-type {\n",
       "        vertical-align: middle;\n",
       "    }\n",
       "\n",
       "    .dataframe tbody tr th {\n",
       "        vertical-align: top;\n",
       "    }\n",
       "\n",
       "    .dataframe thead th {\n",
       "        text-align: right;\n",
       "    }\n",
       "</style>\n",
       "<table border=\"1\" class=\"dataframe\">\n",
       "  <thead>\n",
       "    <tr style=\"text-align: right;\">\n",
       "      <th></th>\n",
       "      <th>Yes</th>\n",
       "      <th>No</th>\n",
       "    </tr>\n",
       "  </thead>\n",
       "  <tbody>\n",
       "    <tr>\n",
       "      <th>Product A</th>\n",
       "      <td>50</td>\n",
       "      <td>131</td>\n",
       "    </tr>\n",
       "    <tr>\n",
       "      <th>Product B</th>\n",
       "      <td>21</td>\n",
       "      <td>20</td>\n",
       "    </tr>\n",
       "  </tbody>\n",
       "</table>\n",
       "</div>"
      ],
      "text/plain": [
       "           Yes   No\n",
       "Product A   50  131\n",
       "Product B   21   20"
      ]
     },
     "execution_count": 4,
     "metadata": {},
     "output_type": "execute_result"
    }
   ],
   "source": [
    "pd.DataFrame({'Yes':[50,21], 'No':[131,20]},index = ['Product A','Product B'])"
   ]
  },
  {
   "cell_type": "markdown",
   "metadata": {},
   "source": [
    "_______________________"
   ]
  },
  {
   "cell_type": "markdown",
   "metadata": {},
   "source": [
    "## 3. Series\n",
    "\n",
    "Pandas also has something that is called series. A Series is a sequence of data values. A Series is like a list if a DataFrame is a table. To create one you just need some data values;"
   ]
  },
  {
   "cell_type": "code",
   "execution_count": 5,
   "metadata": {},
   "outputs": [
    {
     "data": {
      "text/plain": [
       "0    5\n",
       "1    6\n",
       "2    7\n",
       "3    8\n",
       "dtype: int64"
      ]
     },
     "execution_count": 5,
     "metadata": {},
     "output_type": "execute_result"
    }
   ],
   "source": [
    "pd.Series([5,6,7,8])"
   ]
  },
  {
   "cell_type": "markdown",
   "metadata": {},
   "source": [
    "___________________"
   ]
  },
  {
   "cell_type": "markdown",
   "metadata": {},
   "source": [
    "## 4. Import data files\n",
    "\n",
    "Creating a DataFrame or Series is nice to do but the power of Pandas comes from the reading data that is already available for a csv file this can simply be done by using the `read_csv()` function from Pandas. \n",
    "\n",
    "In biomedical engineering sometimes the dataset we want to read is stored in a matlab file with the .mat extention"
   ]
  },
  {
   "cell_type": "code",
   "execution_count": 6,
   "metadata": {},
   "outputs": [
    {
     "data": {
      "text/html": [
       "<div>\n",
       "<style scoped>\n",
       "    .dataframe tbody tr th:only-of-type {\n",
       "        vertical-align: middle;\n",
       "    }\n",
       "\n",
       "    .dataframe tbody tr th {\n",
       "        vertical-align: top;\n",
       "    }\n",
       "\n",
       "    .dataframe thead th {\n",
       "        text-align: right;\n",
       "    }\n",
       "</style>\n",
       "<table border=\"1\" class=\"dataframe\">\n",
       "  <thead>\n",
       "    <tr style=\"text-align: right;\">\n",
       "      <th></th>\n",
       "      <th>title</th>\n",
       "      <th>year</th>\n",
       "      <th>lifetime_gross</th>\n",
       "      <th>ratingInteger</th>\n",
       "      <th>ratingCount</th>\n",
       "      <th>duration</th>\n",
       "      <th>nrOfWins</th>\n",
       "      <th>nrOfNominations</th>\n",
       "      <th>nrOfPhotos</th>\n",
       "      <th>nrOfNewsArticles</th>\n",
       "      <th>...</th>\n",
       "      <th>RealityTV</th>\n",
       "      <th>Romance</th>\n",
       "      <th>SciFi</th>\n",
       "      <th>Short</th>\n",
       "      <th>Sport</th>\n",
       "      <th>TalkShow</th>\n",
       "      <th>Thriller</th>\n",
       "      <th>War</th>\n",
       "      <th>Western</th>\n",
       "      <th>Unnamed: 37</th>\n",
       "    </tr>\n",
       "  </thead>\n",
       "  <tbody>\n",
       "    <tr>\n",
       "      <th>0</th>\n",
       "      <td>METROPOLIS</td>\n",
       "      <td>1928</td>\n",
       "      <td>1236166</td>\n",
       "      <td>8</td>\n",
       "      <td>81007</td>\n",
       "      <td>9180</td>\n",
       "      <td>3</td>\n",
       "      <td>4</td>\n",
       "      <td>67</td>\n",
       "      <td>428</td>\n",
       "      <td>...</td>\n",
       "      <td>0</td>\n",
       "      <td>0</td>\n",
       "      <td>1</td>\n",
       "      <td>0</td>\n",
       "      <td>0</td>\n",
       "      <td>0</td>\n",
       "      <td>0</td>\n",
       "      <td>0</td>\n",
       "      <td>0</td>\n",
       "      <td>NaN</td>\n",
       "    </tr>\n",
       "    <tr>\n",
       "      <th>1</th>\n",
       "      <td>CITY LIGHTS</td>\n",
       "      <td>1931</td>\n",
       "      <td>19181</td>\n",
       "      <td>9</td>\n",
       "      <td>70057</td>\n",
       "      <td>5220</td>\n",
       "      <td>2</td>\n",
       "      <td>0</td>\n",
       "      <td>38</td>\n",
       "      <td>187</td>\n",
       "      <td>...</td>\n",
       "      <td>0</td>\n",
       "      <td>1</td>\n",
       "      <td>0</td>\n",
       "      <td>0</td>\n",
       "      <td>0</td>\n",
       "      <td>0</td>\n",
       "      <td>0</td>\n",
       "      <td>0</td>\n",
       "      <td>0</td>\n",
       "      <td>NaN</td>\n",
       "    </tr>\n",
       "    <tr>\n",
       "      <th>2</th>\n",
       "      <td>MODERN TIMES</td>\n",
       "      <td>1936</td>\n",
       "      <td>163577</td>\n",
       "      <td>9</td>\n",
       "      <td>90847</td>\n",
       "      <td>5220</td>\n",
       "      <td>3</td>\n",
       "      <td>1</td>\n",
       "      <td>44</td>\n",
       "      <td>27</td>\n",
       "      <td>...</td>\n",
       "      <td>0</td>\n",
       "      <td>0</td>\n",
       "      <td>0</td>\n",
       "      <td>0</td>\n",
       "      <td>0</td>\n",
       "      <td>0</td>\n",
       "      <td>0</td>\n",
       "      <td>0</td>\n",
       "      <td>0</td>\n",
       "      <td>NaN</td>\n",
       "    </tr>\n",
       "    <tr>\n",
       "      <th>3</th>\n",
       "      <td>GONE WITH THE WIND</td>\n",
       "      <td>1939</td>\n",
       "      <td>198676459</td>\n",
       "      <td>8</td>\n",
       "      <td>160414</td>\n",
       "      <td>14280</td>\n",
       "      <td>10</td>\n",
       "      <td>6</td>\n",
       "      <td>143</td>\n",
       "      <td>1263</td>\n",
       "      <td>...</td>\n",
       "      <td>0</td>\n",
       "      <td>1</td>\n",
       "      <td>0</td>\n",
       "      <td>0</td>\n",
       "      <td>0</td>\n",
       "      <td>0</td>\n",
       "      <td>0</td>\n",
       "      <td>1</td>\n",
       "      <td>0</td>\n",
       "      <td>NaN</td>\n",
       "    </tr>\n",
       "    <tr>\n",
       "      <th>4</th>\n",
       "      <td>THE WIZARD OF OZ</td>\n",
       "      <td>1939</td>\n",
       "      <td>22342633</td>\n",
       "      <td>8</td>\n",
       "      <td>209506</td>\n",
       "      <td>6120</td>\n",
       "      <td>6</td>\n",
       "      <td>12</td>\n",
       "      <td>126</td>\n",
       "      <td>2363</td>\n",
       "      <td>...</td>\n",
       "      <td>0</td>\n",
       "      <td>0</td>\n",
       "      <td>0</td>\n",
       "      <td>0</td>\n",
       "      <td>0</td>\n",
       "      <td>0</td>\n",
       "      <td>0</td>\n",
       "      <td>0</td>\n",
       "      <td>0</td>\n",
       "      <td>NaN</td>\n",
       "    </tr>\n",
       "    <tr>\n",
       "      <th>...</th>\n",
       "      <td>...</td>\n",
       "      <td>...</td>\n",
       "      <td>...</td>\n",
       "      <td>...</td>\n",
       "      <td>...</td>\n",
       "      <td>...</td>\n",
       "      <td>...</td>\n",
       "      <td>...</td>\n",
       "      <td>...</td>\n",
       "      <td>...</td>\n",
       "      <td>...</td>\n",
       "      <td>...</td>\n",
       "      <td>...</td>\n",
       "      <td>...</td>\n",
       "      <td>...</td>\n",
       "      <td>...</td>\n",
       "      <td>...</td>\n",
       "      <td>...</td>\n",
       "      <td>...</td>\n",
       "      <td>...</td>\n",
       "      <td>...</td>\n",
       "    </tr>\n",
       "    <tr>\n",
       "      <th>3745</th>\n",
       "      <td>AN INCONVENIENT TRUTH</td>\n",
       "      <td>2006</td>\n",
       "      <td>24146161</td>\n",
       "      <td>8</td>\n",
       "      <td>56014</td>\n",
       "      <td>6000</td>\n",
       "      <td>27</td>\n",
       "      <td>6</td>\n",
       "      <td>62</td>\n",
       "      <td>756</td>\n",
       "      <td>...</td>\n",
       "      <td>0</td>\n",
       "      <td>0</td>\n",
       "      <td>0</td>\n",
       "      <td>0</td>\n",
       "      <td>0</td>\n",
       "      <td>0</td>\n",
       "      <td>0</td>\n",
       "      <td>0</td>\n",
       "      <td>0</td>\n",
       "      <td>NaN</td>\n",
       "    </tr>\n",
       "    <tr>\n",
       "      <th>3746</th>\n",
       "      <td>ADRIFT IN MANHATTAN</td>\n",
       "      <td>2007</td>\n",
       "      <td>2099</td>\n",
       "      <td>5</td>\n",
       "      <td>1328</td>\n",
       "      <td>5460</td>\n",
       "      <td>3</td>\n",
       "      <td>1</td>\n",
       "      <td>7</td>\n",
       "      <td>7</td>\n",
       "      <td>...</td>\n",
       "      <td>0</td>\n",
       "      <td>0</td>\n",
       "      <td>0</td>\n",
       "      <td>0</td>\n",
       "      <td>0</td>\n",
       "      <td>0</td>\n",
       "      <td>0</td>\n",
       "      <td>0</td>\n",
       "      <td>0</td>\n",
       "      <td>NaN</td>\n",
       "    </tr>\n",
       "    <tr>\n",
       "      <th>3747</th>\n",
       "      <td>HOSTEL: PART II</td>\n",
       "      <td>2007</td>\n",
       "      <td>17609452</td>\n",
       "      <td>5</td>\n",
       "      <td>57934</td>\n",
       "      <td>5640</td>\n",
       "      <td>0</td>\n",
       "      <td>0</td>\n",
       "      <td>46</td>\n",
       "      <td>232</td>\n",
       "      <td>...</td>\n",
       "      <td>0</td>\n",
       "      <td>0</td>\n",
       "      <td>0</td>\n",
       "      <td>0</td>\n",
       "      <td>0</td>\n",
       "      <td>0</td>\n",
       "      <td>0</td>\n",
       "      <td>0</td>\n",
       "      <td>0</td>\n",
       "      <td>NaN</td>\n",
       "    </tr>\n",
       "    <tr>\n",
       "      <th>3748</th>\n",
       "      <td>KALYUG</td>\n",
       "      <td>2005</td>\n",
       "      <td>1435</td>\n",
       "      <td>7</td>\n",
       "      <td>1250</td>\n",
       "      <td>7560</td>\n",
       "      <td>0</td>\n",
       "      <td>0</td>\n",
       "      <td>0</td>\n",
       "      <td>0</td>\n",
       "      <td>...</td>\n",
       "      <td>0</td>\n",
       "      <td>0</td>\n",
       "      <td>0</td>\n",
       "      <td>0</td>\n",
       "      <td>0</td>\n",
       "      <td>0</td>\n",
       "      <td>0</td>\n",
       "      <td>0</td>\n",
       "      <td>0</td>\n",
       "      <td>NaN</td>\n",
       "    </tr>\n",
       "    <tr>\n",
       "      <th>3749</th>\n",
       "      <td>SLIPSTREAM</td>\n",
       "      <td>2007</td>\n",
       "      <td>8965</td>\n",
       "      <td>5</td>\n",
       "      <td>3913</td>\n",
       "      <td>5760</td>\n",
       "      <td>1</td>\n",
       "      <td>3</td>\n",
       "      <td>41</td>\n",
       "      <td>13</td>\n",
       "      <td>...</td>\n",
       "      <td>0</td>\n",
       "      <td>0</td>\n",
       "      <td>0</td>\n",
       "      <td>0</td>\n",
       "      <td>0</td>\n",
       "      <td>0</td>\n",
       "      <td>0</td>\n",
       "      <td>0</td>\n",
       "      <td>0</td>\n",
       "      <td>NaN</td>\n",
       "    </tr>\n",
       "  </tbody>\n",
       "</table>\n",
       "<p>3750 rows × 38 columns</p>\n",
       "</div>"
      ],
      "text/plain": [
       "                      title  year  lifetime_gross  ratingInteger  ratingCount  \\\n",
       "0                METROPOLIS  1928         1236166              8        81007   \n",
       "1               CITY LIGHTS  1931           19181              9        70057   \n",
       "2              MODERN TIMES  1936          163577              9        90847   \n",
       "3        GONE WITH THE WIND  1939       198676459              8       160414   \n",
       "4          THE WIZARD OF OZ  1939        22342633              8       209506   \n",
       "...                     ...   ...             ...            ...          ...   \n",
       "3745  AN INCONVENIENT TRUTH  2006        24146161              8        56014   \n",
       "3746    ADRIFT IN MANHATTAN  2007            2099              5         1328   \n",
       "3747        HOSTEL: PART II  2007        17609452              5        57934   \n",
       "3748                 KALYUG  2005            1435              7         1250   \n",
       "3749             SLIPSTREAM  2007            8965              5         3913   \n",
       "\n",
       "      duration  nrOfWins  nrOfNominations  nrOfPhotos  nrOfNewsArticles  ...  \\\n",
       "0         9180         3                4          67               428  ...   \n",
       "1         5220         2                0          38               187  ...   \n",
       "2         5220         3                1          44                27  ...   \n",
       "3        14280        10                6         143              1263  ...   \n",
       "4         6120         6               12         126              2363  ...   \n",
       "...        ...       ...              ...         ...               ...  ...   \n",
       "3745      6000        27                6          62               756  ...   \n",
       "3746      5460         3                1           7                 7  ...   \n",
       "3747      5640         0                0          46               232  ...   \n",
       "3748      7560         0                0           0                 0  ...   \n",
       "3749      5760         1                3          41                13  ...   \n",
       "\n",
       "      RealityTV  Romance  SciFi  Short  Sport  TalkShow  Thriller  War  \\\n",
       "0             0        0      1      0      0         0         0    0   \n",
       "1             0        1      0      0      0         0         0    0   \n",
       "2             0        0      0      0      0         0         0    0   \n",
       "3             0        1      0      0      0         0         0    1   \n",
       "4             0        0      0      0      0         0         0    0   \n",
       "...         ...      ...    ...    ...    ...       ...       ...  ...   \n",
       "3745          0        0      0      0      0         0         0    0   \n",
       "3746          0        0      0      0      0         0         0    0   \n",
       "3747          0        0      0      0      0         0         0    0   \n",
       "3748          0        0      0      0      0         0         0    0   \n",
       "3749          0        0      0      0      0         0         0    0   \n",
       "\n",
       "      Western  Unnamed: 37  \n",
       "0           0          NaN  \n",
       "1           0          NaN  \n",
       "2           0          NaN  \n",
       "3           0          NaN  \n",
       "4           0          NaN  \n",
       "...       ...          ...  \n",
       "3745        0          NaN  \n",
       "3746        0          NaN  \n",
       "3747        0          NaN  \n",
       "3748        0          NaN  \n",
       "3749        0          NaN  \n",
       "\n",
       "[3750 rows x 38 columns]"
      ]
     },
     "execution_count": 6,
     "metadata": {},
     "output_type": "execute_result"
    }
   ],
   "source": [
    "movies=pd.read_csv(\"Movies.csv\")\n",
    "movies#.head() # this shows the first 5 rows of the DataFrame"
   ]
  },
  {
   "cell_type": "markdown",
   "metadata": {},
   "source": [
    "The movie with the highest ratingCount can be found by using : "
   ]
  },
  {
   "cell_type": "code",
   "execution_count": 7,
   "metadata": {},
   "outputs": [
    {
     "data": {
      "text/plain": [
       "1183395"
      ]
     },
     "execution_count": 7,
     "metadata": {},
     "output_type": "execute_result"
    }
   ],
   "source": [
    "mostrating = movies['ratingCount'].max()\n",
    "mostrating"
   ]
  },
  {
   "cell_type": "markdown",
   "metadata": {},
   "source": [
    "A lot of courses in BME use Matlab. To import a matlab file, loadmat from scipy.io is needed. Below an example can be seen."
   ]
  },
  {
   "cell_type": "code",
   "execution_count": null,
   "metadata": {
    "collapsed": true
   },
   "outputs": [],
   "source": [
    "## Import the right library\n",
    "from scipy.io import loadmat\n",
    "\n",
    "## use loadmat to import\n",
    "mat = loadmat( )"
   ]
  },
  {
   "cell_type": "markdown",
   "metadata": {},
   "source": [
    "_________________________"
   ]
  },
  {
   "cell_type": "markdown",
   "metadata": {},
   "source": [
    "## 5. Statistics\n",
    "\n",
    "Statistics are also very important when working with datasets. In this section various functions will be discussed and used to find out some more about the dataset. \n",
    "\n",
    "On your cheat sheet you can find several functions in the section statistics. For example:\n",
    "`df.count()`: returns the number of values.\n",
    "\n",
    "In the next cell, try it out for the number of nominations."
   ]
  },
  {
   "cell_type": "code",
   "execution_count": null,
   "metadata": {
    "collapsed": true
   },
   "outputs": [],
   "source": [
    "## TRY OUT: find the number of nominations\n"
   ]
  },
  {
   "cell_type": "markdown",
   "metadata": {},
   "source": [
    "ALso the function `df.describe()` can be very useful to get an overview of your data. Try it out below. The argument `include='all'` can be used for the summary statistics of all columns. "
   ]
  },
  {
   "cell_type": "code",
   "execution_count": null,
   "metadata": {
    "collapsed": true
   },
   "outputs": [],
   "source": [
    "## TRY OUT: get an overview of your data.\n"
   ]
  },
  {
   "cell_type": "markdown",
   "metadata": {},
   "source": [
    "____________________________"
   ]
  },
  {
   "cell_type": "markdown",
   "metadata": {},
   "source": [
    "## 6. Sorting and grouping a DataFrame\n",
    "\n",
    "When using data, it can be very useful to sort the data according to a certain value. Sorting the DataFrame can be done by: `df.sort_values(by = column)`. Additionally, the argument `ascending=False` can be added, to sort the values in descending order. The index of the dataframe can also be reset, by using the argument `.reset_index()`.\n",
    "\n",
    "In the next cell, try it out for the number of news articles."
   ]
  },
  {
   "cell_type": "code",
   "execution_count": null,
   "metadata": {
    "collapsed": true
   },
   "outputs": [],
   "source": [
    "## TRY OUT: sort the dataframe by number of news articles\n"
   ]
  },
  {
   "cell_type": "markdown",
   "metadata": {},
   "source": [
    "The rows in a DataFrame can also be grouped. This can be done by using `df.groupby()`. Try it out below for genre."
   ]
  },
  {
   "cell_type": "code",
   "execution_count": null,
   "metadata": {
    "collapsed": true
   },
   "outputs": [],
   "source": [
    "## TRY OUT: group the data by genre.\n"
   ]
  },
  {
   "cell_type": "markdown",
   "metadata": {},
   "source": [
    "___________________________"
   ]
  },
  {
   "cell_type": "markdown",
   "metadata": {},
   "source": [
    "## 7. Adding a column by calculation\n",
    "\n",
    "New values can also be calculated from the dataframe. This can be done by naming the new colum, followed by the calculation. An example can be seen below."
   ]
  },
  {
   "cell_type": "code",
   "execution_count": 8,
   "metadata": {},
   "outputs": [
    {
     "data": {
      "text/html": [
       "<div>\n",
       "<style scoped>\n",
       "    .dataframe tbody tr th:only-of-type {\n",
       "        vertical-align: middle;\n",
       "    }\n",
       "\n",
       "    .dataframe tbody tr th {\n",
       "        vertical-align: top;\n",
       "    }\n",
       "\n",
       "    .dataframe thead th {\n",
       "        text-align: right;\n",
       "    }\n",
       "</style>\n",
       "<table border=\"1\" class=\"dataframe\">\n",
       "  <thead>\n",
       "    <tr style=\"text-align: right;\">\n",
       "      <th></th>\n",
       "      <th>title</th>\n",
       "      <th>year</th>\n",
       "      <th>lifetime_gross</th>\n",
       "      <th>ratingInteger</th>\n",
       "      <th>ratingCount</th>\n",
       "      <th>duration</th>\n",
       "      <th>nrOfWins</th>\n",
       "      <th>nrOfNominations</th>\n",
       "      <th>nrOfPhotos</th>\n",
       "      <th>nrOfNewsArticles</th>\n",
       "      <th>...</th>\n",
       "      <th>Romance</th>\n",
       "      <th>SciFi</th>\n",
       "      <th>Short</th>\n",
       "      <th>Sport</th>\n",
       "      <th>TalkShow</th>\n",
       "      <th>Thriller</th>\n",
       "      <th>War</th>\n",
       "      <th>Western</th>\n",
       "      <th>Unnamed: 37</th>\n",
       "      <th>NoWinNominations</th>\n",
       "    </tr>\n",
       "  </thead>\n",
       "  <tbody>\n",
       "    <tr>\n",
       "      <th>0</th>\n",
       "      <td>METROPOLIS</td>\n",
       "      <td>1928</td>\n",
       "      <td>1236166</td>\n",
       "      <td>8</td>\n",
       "      <td>81007</td>\n",
       "      <td>9180</td>\n",
       "      <td>3</td>\n",
       "      <td>4</td>\n",
       "      <td>67</td>\n",
       "      <td>428</td>\n",
       "      <td>...</td>\n",
       "      <td>0</td>\n",
       "      <td>1</td>\n",
       "      <td>0</td>\n",
       "      <td>0</td>\n",
       "      <td>0</td>\n",
       "      <td>0</td>\n",
       "      <td>0</td>\n",
       "      <td>0</td>\n",
       "      <td>NaN</td>\n",
       "      <td>-1</td>\n",
       "    </tr>\n",
       "    <tr>\n",
       "      <th>1</th>\n",
       "      <td>CITY LIGHTS</td>\n",
       "      <td>1931</td>\n",
       "      <td>19181</td>\n",
       "      <td>9</td>\n",
       "      <td>70057</td>\n",
       "      <td>5220</td>\n",
       "      <td>2</td>\n",
       "      <td>0</td>\n",
       "      <td>38</td>\n",
       "      <td>187</td>\n",
       "      <td>...</td>\n",
       "      <td>1</td>\n",
       "      <td>0</td>\n",
       "      <td>0</td>\n",
       "      <td>0</td>\n",
       "      <td>0</td>\n",
       "      <td>0</td>\n",
       "      <td>0</td>\n",
       "      <td>0</td>\n",
       "      <td>NaN</td>\n",
       "      <td>2</td>\n",
       "    </tr>\n",
       "    <tr>\n",
       "      <th>2</th>\n",
       "      <td>MODERN TIMES</td>\n",
       "      <td>1936</td>\n",
       "      <td>163577</td>\n",
       "      <td>9</td>\n",
       "      <td>90847</td>\n",
       "      <td>5220</td>\n",
       "      <td>3</td>\n",
       "      <td>1</td>\n",
       "      <td>44</td>\n",
       "      <td>27</td>\n",
       "      <td>...</td>\n",
       "      <td>0</td>\n",
       "      <td>0</td>\n",
       "      <td>0</td>\n",
       "      <td>0</td>\n",
       "      <td>0</td>\n",
       "      <td>0</td>\n",
       "      <td>0</td>\n",
       "      <td>0</td>\n",
       "      <td>NaN</td>\n",
       "      <td>2</td>\n",
       "    </tr>\n",
       "    <tr>\n",
       "      <th>3</th>\n",
       "      <td>GONE WITH THE WIND</td>\n",
       "      <td>1939</td>\n",
       "      <td>198676459</td>\n",
       "      <td>8</td>\n",
       "      <td>160414</td>\n",
       "      <td>14280</td>\n",
       "      <td>10</td>\n",
       "      <td>6</td>\n",
       "      <td>143</td>\n",
       "      <td>1263</td>\n",
       "      <td>...</td>\n",
       "      <td>1</td>\n",
       "      <td>0</td>\n",
       "      <td>0</td>\n",
       "      <td>0</td>\n",
       "      <td>0</td>\n",
       "      <td>0</td>\n",
       "      <td>1</td>\n",
       "      <td>0</td>\n",
       "      <td>NaN</td>\n",
       "      <td>4</td>\n",
       "    </tr>\n",
       "    <tr>\n",
       "      <th>4</th>\n",
       "      <td>THE WIZARD OF OZ</td>\n",
       "      <td>1939</td>\n",
       "      <td>22342633</td>\n",
       "      <td>8</td>\n",
       "      <td>209506</td>\n",
       "      <td>6120</td>\n",
       "      <td>6</td>\n",
       "      <td>12</td>\n",
       "      <td>126</td>\n",
       "      <td>2363</td>\n",
       "      <td>...</td>\n",
       "      <td>0</td>\n",
       "      <td>0</td>\n",
       "      <td>0</td>\n",
       "      <td>0</td>\n",
       "      <td>0</td>\n",
       "      <td>0</td>\n",
       "      <td>0</td>\n",
       "      <td>0</td>\n",
       "      <td>NaN</td>\n",
       "      <td>-6</td>\n",
       "    </tr>\n",
       "    <tr>\n",
       "      <th>...</th>\n",
       "      <td>...</td>\n",
       "      <td>...</td>\n",
       "      <td>...</td>\n",
       "      <td>...</td>\n",
       "      <td>...</td>\n",
       "      <td>...</td>\n",
       "      <td>...</td>\n",
       "      <td>...</td>\n",
       "      <td>...</td>\n",
       "      <td>...</td>\n",
       "      <td>...</td>\n",
       "      <td>...</td>\n",
       "      <td>...</td>\n",
       "      <td>...</td>\n",
       "      <td>...</td>\n",
       "      <td>...</td>\n",
       "      <td>...</td>\n",
       "      <td>...</td>\n",
       "      <td>...</td>\n",
       "      <td>...</td>\n",
       "      <td>...</td>\n",
       "    </tr>\n",
       "    <tr>\n",
       "      <th>3745</th>\n",
       "      <td>AN INCONVENIENT TRUTH</td>\n",
       "      <td>2006</td>\n",
       "      <td>24146161</td>\n",
       "      <td>8</td>\n",
       "      <td>56014</td>\n",
       "      <td>6000</td>\n",
       "      <td>27</td>\n",
       "      <td>6</td>\n",
       "      <td>62</td>\n",
       "      <td>756</td>\n",
       "      <td>...</td>\n",
       "      <td>0</td>\n",
       "      <td>0</td>\n",
       "      <td>0</td>\n",
       "      <td>0</td>\n",
       "      <td>0</td>\n",
       "      <td>0</td>\n",
       "      <td>0</td>\n",
       "      <td>0</td>\n",
       "      <td>NaN</td>\n",
       "      <td>21</td>\n",
       "    </tr>\n",
       "    <tr>\n",
       "      <th>3746</th>\n",
       "      <td>ADRIFT IN MANHATTAN</td>\n",
       "      <td>2007</td>\n",
       "      <td>2099</td>\n",
       "      <td>5</td>\n",
       "      <td>1328</td>\n",
       "      <td>5460</td>\n",
       "      <td>3</td>\n",
       "      <td>1</td>\n",
       "      <td>7</td>\n",
       "      <td>7</td>\n",
       "      <td>...</td>\n",
       "      <td>0</td>\n",
       "      <td>0</td>\n",
       "      <td>0</td>\n",
       "      <td>0</td>\n",
       "      <td>0</td>\n",
       "      <td>0</td>\n",
       "      <td>0</td>\n",
       "      <td>0</td>\n",
       "      <td>NaN</td>\n",
       "      <td>2</td>\n",
       "    </tr>\n",
       "    <tr>\n",
       "      <th>3747</th>\n",
       "      <td>HOSTEL: PART II</td>\n",
       "      <td>2007</td>\n",
       "      <td>17609452</td>\n",
       "      <td>5</td>\n",
       "      <td>57934</td>\n",
       "      <td>5640</td>\n",
       "      <td>0</td>\n",
       "      <td>0</td>\n",
       "      <td>46</td>\n",
       "      <td>232</td>\n",
       "      <td>...</td>\n",
       "      <td>0</td>\n",
       "      <td>0</td>\n",
       "      <td>0</td>\n",
       "      <td>0</td>\n",
       "      <td>0</td>\n",
       "      <td>0</td>\n",
       "      <td>0</td>\n",
       "      <td>0</td>\n",
       "      <td>NaN</td>\n",
       "      <td>0</td>\n",
       "    </tr>\n",
       "    <tr>\n",
       "      <th>3748</th>\n",
       "      <td>KALYUG</td>\n",
       "      <td>2005</td>\n",
       "      <td>1435</td>\n",
       "      <td>7</td>\n",
       "      <td>1250</td>\n",
       "      <td>7560</td>\n",
       "      <td>0</td>\n",
       "      <td>0</td>\n",
       "      <td>0</td>\n",
       "      <td>0</td>\n",
       "      <td>...</td>\n",
       "      <td>0</td>\n",
       "      <td>0</td>\n",
       "      <td>0</td>\n",
       "      <td>0</td>\n",
       "      <td>0</td>\n",
       "      <td>0</td>\n",
       "      <td>0</td>\n",
       "      <td>0</td>\n",
       "      <td>NaN</td>\n",
       "      <td>0</td>\n",
       "    </tr>\n",
       "    <tr>\n",
       "      <th>3749</th>\n",
       "      <td>SLIPSTREAM</td>\n",
       "      <td>2007</td>\n",
       "      <td>8965</td>\n",
       "      <td>5</td>\n",
       "      <td>3913</td>\n",
       "      <td>5760</td>\n",
       "      <td>1</td>\n",
       "      <td>3</td>\n",
       "      <td>41</td>\n",
       "      <td>13</td>\n",
       "      <td>...</td>\n",
       "      <td>0</td>\n",
       "      <td>0</td>\n",
       "      <td>0</td>\n",
       "      <td>0</td>\n",
       "      <td>0</td>\n",
       "      <td>0</td>\n",
       "      <td>0</td>\n",
       "      <td>0</td>\n",
       "      <td>NaN</td>\n",
       "      <td>-2</td>\n",
       "    </tr>\n",
       "  </tbody>\n",
       "</table>\n",
       "<p>3750 rows × 39 columns</p>\n",
       "</div>"
      ],
      "text/plain": [
       "                      title  year  lifetime_gross  ratingInteger  ratingCount  \\\n",
       "0                METROPOLIS  1928         1236166              8        81007   \n",
       "1               CITY LIGHTS  1931           19181              9        70057   \n",
       "2              MODERN TIMES  1936          163577              9        90847   \n",
       "3        GONE WITH THE WIND  1939       198676459              8       160414   \n",
       "4          THE WIZARD OF OZ  1939        22342633              8       209506   \n",
       "...                     ...   ...             ...            ...          ...   \n",
       "3745  AN INCONVENIENT TRUTH  2006        24146161              8        56014   \n",
       "3746    ADRIFT IN MANHATTAN  2007            2099              5         1328   \n",
       "3747        HOSTEL: PART II  2007        17609452              5        57934   \n",
       "3748                 KALYUG  2005            1435              7         1250   \n",
       "3749             SLIPSTREAM  2007            8965              5         3913   \n",
       "\n",
       "      duration  nrOfWins  nrOfNominations  nrOfPhotos  nrOfNewsArticles  ...  \\\n",
       "0         9180         3                4          67               428  ...   \n",
       "1         5220         2                0          38               187  ...   \n",
       "2         5220         3                1          44                27  ...   \n",
       "3        14280        10                6         143              1263  ...   \n",
       "4         6120         6               12         126              2363  ...   \n",
       "...        ...       ...              ...         ...               ...  ...   \n",
       "3745      6000        27                6          62               756  ...   \n",
       "3746      5460         3                1           7                 7  ...   \n",
       "3747      5640         0                0          46               232  ...   \n",
       "3748      7560         0                0           0                 0  ...   \n",
       "3749      5760         1                3          41                13  ...   \n",
       "\n",
       "      Romance  SciFi  Short  Sport  TalkShow  Thriller  War  Western  \\\n",
       "0           0      1      0      0         0         0    0        0   \n",
       "1           1      0      0      0         0         0    0        0   \n",
       "2           0      0      0      0         0         0    0        0   \n",
       "3           1      0      0      0         0         0    1        0   \n",
       "4           0      0      0      0         0         0    0        0   \n",
       "...       ...    ...    ...    ...       ...       ...  ...      ...   \n",
       "3745        0      0      0      0         0         0    0        0   \n",
       "3746        0      0      0      0         0         0    0        0   \n",
       "3747        0      0      0      0         0         0    0        0   \n",
       "3748        0      0      0      0         0         0    0        0   \n",
       "3749        0      0      0      0         0         0    0        0   \n",
       "\n",
       "      Unnamed: 37  NoWinNominations  \n",
       "0             NaN                -1  \n",
       "1             NaN                 2  \n",
       "2             NaN                 2  \n",
       "3             NaN                 4  \n",
       "4             NaN                -6  \n",
       "...           ...               ...  \n",
       "3745          NaN                21  \n",
       "3746          NaN                 2  \n",
       "3747          NaN                 0  \n",
       "3748          NaN                 0  \n",
       "3749          NaN                -2  \n",
       "\n",
       "[3750 rows x 39 columns]"
      ]
     },
     "execution_count": 8,
     "metadata": {},
     "output_type": "execute_result"
    }
   ],
   "source": [
    "movies['NoWinNominations'] = movies['nrOfWins']-movies['nrOfNominations']\n",
    "movies"
   ]
  },
  {
   "cell_type": "markdown",
   "metadata": {},
   "source": [
    "________________"
   ]
  },
  {
   "cell_type": "markdown",
   "metadata": {},
   "source": [
    "## 8. Delete data for optimization \n",
    "\n",
    "When a dataframe is very big, there are often a lot of values that are unnessecary in your research. To this extent, these values can be deleted. This can be done by the function `df.drop()`. It can be done for one row, several rows, one column and several columns. \n",
    "\n",
    "In the cell below, try it out for the number of photos by creating a new DataFrame."
   ]
  },
  {
   "cell_type": "code",
   "execution_count": null,
   "metadata": {
    "collapsed": true
   },
   "outputs": [],
   "source": [
    "## TRY OUT: drop the column of number of photos by creating a new DataFrame.\n"
   ]
  },
  {
   "cell_type": "markdown",
   "metadata": {},
   "source": [
    "_________________"
   ]
  },
  {
   "cell_type": "markdown",
   "metadata": {},
   "source": [
    "## 9. Working with NaN values\n",
    "\n",
    "There are often values which are 'NaN'. This means that this value is missing. There are several options in this case. You can give these a values, for example 0 or 1. Or these values can be dropped.\n",
    "\n",
    "To drop these values: `df.dropna()`. When the argument `how='any'` is used, the row is dropped when any value is missing. When the argument `how='all'` is used, the row is dropped when all values are misisng. Try it out below"
   ]
  },
  {
   "cell_type": "code",
   "execution_count": null,
   "metadata": {
    "collapsed": true
   },
   "outputs": [],
   "source": [
    "## TRY OUT: make a new DataFrame where there are no NaN values.\n"
   ]
  },
  {
   "cell_type": "markdown",
   "metadata": {},
   "source": [
    "To replace the missing values the function, the function `df.fillna()` can be used. Try this out for the title below by creating a new DataDrame. "
   ]
  },
  {
   "cell_type": "code",
   "execution_count": null,
   "metadata": {
    "collapsed": true
   },
   "outputs": [],
   "source": [
    "## TRY OUT: make a new DataFrame with NaN values changed for title.\n"
   ]
  },
  {
   "cell_type": "markdown",
   "metadata": {},
   "source": [
    "________________________"
   ]
  },
  {
   "cell_type": "markdown",
   "metadata": {},
   "source": [
    "## 10. Plotting DataFrame\n",
    "\n",
    "Plotting can give useful insight on your Dataframe. Here we will learn you the basics of plotting. \n",
    "First of all, matplotlib and Seaborn need to be imported. This has already been set for you in the cell below. Also, to make plots appear in your notebook, a line is added."
   ]
  },
  {
   "cell_type": "code",
   "execution_count": 10,
   "metadata": {
    "collapsed": true
   },
   "outputs": [],
   "source": [
    "import matplotlib.pyplot as plt\n",
    "import seaborn as sns\n",
    "%matplotlib inline"
   ]
  },
  {
   "cell_type": "markdown",
   "metadata": {},
   "source": [
    "The general function for plotting is: `df.plot(kind='...',...)`.\n",
    "Different kinds can be used, such as:\n",
    "\n",
    "* line: also the default setting.\n",
    "* area: area is filled under the line.\n",
    "* bar: vertical barchart.\n",
    "* barh: horizontal barchart.\n",
    "* hist: histogram. With argument `bins=n`, the number of bins can be adjusted.\n",
    "* box: boxplot. With argument `by=...`, it will be grouped by given columns.\n",
    "* density: densityplot.\n",
    "* scatter: scatterplot. \n",
    " "
   ]
  },
  {
   "cell_type": "markdown",
   "metadata": {},
   "source": [
    "Next, make some plots for yourself."
   ]
  },
  {
   "cell_type": "code",
   "execution_count": null,
   "metadata": {
    "collapsed": true
   },
   "outputs": [],
   "source": [
    "## TRY OUT: make several plots of the movies DataFrame.\n"
   ]
  }
 ],
 "metadata": {
  "kernelspec": {
   "display_name": "Python 3",
   "language": "python",
   "name": "python3"
  },
  "language_info": {
   "codemirror_mode": {
    "name": "ipython",
    "version": 3
   },
   "file_extension": ".py",
   "mimetype": "text/x-python",
   "name": "python",
   "nbconvert_exporter": "python",
   "pygments_lexer": "ipython3",
   "version": "3.6.1"
  }
 },
 "nbformat": 4,
 "nbformat_minor": 4
}

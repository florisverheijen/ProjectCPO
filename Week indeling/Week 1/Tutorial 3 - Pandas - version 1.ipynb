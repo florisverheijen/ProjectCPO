{
 "cells": [
  {
   "cell_type": "markdown",
   "metadata": {},
   "source": [
    "# Pandas tutorial\n",
    "\n",
    "In this tutorial you will learn the basics about using Pandas in Python.\n",
    "Pandas is a library in Python, which can be used to manipulate and analyse data easier. You can read more about pandas on their [website](https://pandas.pydata.org/).\n",
    "\n",
    "For additional content, you can visit the following sites:\n",
    "\n",
    "- [Python: Pandas Tutorial | Intro to DataFrames - YouTube](https://www.youtube.com/watch?v=e60ItwlZTKM). \n",
    "- [Datacamp - Pandas Tutorial](https://www.datacamp.com/community/tutorials/pandas-tutorial-dataframe-python).\n",
    "- [Leanr Python - Pandas Basics](https://www.learnpython.org/en/Pandas_Basics)."
   ]
  },
  {
   "cell_type": "markdown",
   "metadata": {},
   "source": [
    "## Contents of the tutorial\n",
    "\n",
    "1. Import library\n",
    "2. DataFrames\n",
    "    * Concept\n",
    "    * Commands\n",
    "    * See the data\n",
    "3. Series\n",
    "    * Concept\n",
    "    * Commands\n",
    "    * See the data\n",
    "4. Import datafile\n",
    "    * CSV\n",
    "    * Matlab\n",
    "5. Statistics\n",
    "6. Sorting and grouping a Dataframe\n",
    "7. Adding a column by calculation\n",
    "8. Delete data for optimisation\n",
    "9. Working with NaN values\n",
    "10. Plotting a DataFrame"
   ]
  },
  {
   "cell_type": "markdown",
   "metadata": {},
   "source": [
    "______________________"
   ]
  },
  {
   "cell_type": "markdown",
   "metadata": {},
   "source": [
    "## 1. Import library\n",
    "\n",
    "To work with pandas, the first thing that needs to be done is importing the library. It can be done in the cell below."
   ]
  },
  {
   "cell_type": "code",
   "execution_count": null,
   "metadata": {},
   "outputs": [],
   "source": [
    "import pandas as pd"
   ]
  },
  {
   "cell_type": "markdown",
   "metadata": {},
   "source": [
    "____________________"
   ]
  },
  {
   "cell_type": "markdown",
   "metadata": {},
   "source": [
    "## 2. DataFrame\n",
    "\n",
    "A DataFrame is a table just like the one you probably know from excel. It contains rows and columns for example this is a small DataFrame:\n"
   ]
  },
  {
   "cell_type": "code",
   "execution_count": null,
   "metadata": {},
   "outputs": [],
   "source": [
    "pd.DataFrame({'Yes':[50,21], 'No':[131,20]})"
   ]
  },
  {
   "cell_type": "markdown",
   "metadata": {},
   "source": [
    "You can see that the rows have the values 0 and 1 these indexes can be changed if you prefer it to other numbers or even to strings. \n",
    "The code you need for this is located in the cell below test it and see what happens. "
   ]
  },
  {
   "cell_type": "code",
   "execution_count": null,
   "metadata": {},
   "outputs": [],
   "source": [
    "pd.DataFrame({'Yes':[50,21], 'No':[131,20]},index = ['Product A','Product B'])"
   ]
  },
  {
   "cell_type": "markdown",
   "metadata": {},
   "source": [
    "_______________________"
   ]
  },
  {
   "cell_type": "markdown",
   "metadata": {},
   "source": [
    "## 3. Series\n",
    "\n",
    "Pandas also has something that is called series. A Series is a sequence of data values. A Series is like a list if a DataFrame is a table. To create one you just need some data values; "
   ]
  },
  {
   "cell_type": "code",
   "execution_count": null,
   "metadata": {},
   "outputs": [],
   "source": [
    "pd.Series([5,6,7,8])"
   ]
  },
  {
   "cell_type": "markdown",
   "metadata": {},
   "source": [
    "___________________"
   ]
  },
  {
   "cell_type": "markdown",
   "metadata": {},
   "source": [
    "## 4. Import data files\n",
    "\n",
    "Creating a DataFrame or Series is nice to do but the power of Pandas comes from the reading data that is already available for a csv file this can simply be done by using the `read_csv()` function from Pandas. \n",
    "\n",
    "In biomedical engineering sometimes the dataset we want to read is stored in a matlab file with the .mat extention."
   ]
  },
  {
   "cell_type": "code",
   "execution_count": null,
   "metadata": {},
   "outputs": [],
   "source": [
    "movies=pd.read_csv(\"Movies.csv\")\n",
    "movies#.head() # this shows the first 5 rows of the DataFrame"
   ]
  },
  {
   "cell_type": "markdown",
   "metadata": {},
   "source": [
    "The movie with the highest ratingCount can be found by using: "
   ]
  },
  {
   "cell_type": "code",
   "execution_count": null,
   "metadata": {},
   "outputs": [],
   "source": [
    "mostrating = movies['ratingCount'].max()\n",
    "mostrating"
   ]
  },
  {
   "cell_type": "markdown",
   "metadata": {},
   "source": [
    "A lot of courses in BME use Matlab. To import a matlab file, loadmat from scipy.io is needed. Below an example can be seen."
   ]
  },
  {
   "cell_type": "code",
   "execution_count": null,
   "metadata": {},
   "outputs": [],
   "source": [
    "## Import the right library\n",
    "from scipy.io import loadmat\n",
    "\n",
    "## use loadmat to import\n",
    "mat = loadmat( )"
   ]
  },
  {
   "cell_type": "markdown",
   "metadata": {},
   "source": [
    "_________________________"
   ]
  },
  {
   "cell_type": "markdown",
   "metadata": {},
   "source": [
    "## 5. Statistics\n",
    "\n",
    "Statistics are also very important when working with datasets. In this section various functions will be discussed and used to find out some more about the dataset. \n",
    "\n",
    "On your cheat sheet you can find several functions in the section statistics. For example:\n",
    "`df.count()`: returns the number of values.\n",
    "\n",
    "In the next cell, try it out for the number of nominations."
   ]
  },
  {
   "cell_type": "code",
   "execution_count": null,
   "metadata": {},
   "outputs": [],
   "source": [
    "## TRY OUT: find the number of nominations\n"
   ]
  },
  {
   "cell_type": "markdown",
   "metadata": {},
   "source": [
    "ALso the function `df.describe()` can be very useful to get an overview of your data. Try it out below. The argument `include='all'` can be used for the summary statistics of all columns. "
   ]
  },
  {
   "cell_type": "code",
   "execution_count": null,
   "metadata": {},
   "outputs": [],
   "source": [
    "## TRY OUT: get an overview of your data.\n"
   ]
  },
  {
   "cell_type": "markdown",
   "metadata": {},
   "source": [
    "____________________________"
   ]
  },
  {
   "cell_type": "markdown",
   "metadata": {},
   "source": [
    "## 6. Sorting and grouping a DataFrame\n",
    "\n",
    "When using data, it can be very useful to sort the data according to a certain value. Sorting the DataFrame can be done by: `df.sort_values(by = column)`. Additionally, the argument `ascending=False` can be added, to sort the values in descending order. The index of the dataframe can also be reset, by using the argument `.reset_index()`.\n",
    "\n",
    "In the next cell, try it out for the number of news articles."
   ]
  },
  {
   "cell_type": "code",
   "execution_count": null,
   "metadata": {},
   "outputs": [],
   "source": [
    "## TRY OUT: sort the dataframe by number of news articles\n"
   ]
  },
  {
   "cell_type": "markdown",
   "metadata": {},
   "source": [
    "The rows in a DataFrame can also be grouped. This can be done by using `df.groupby()`. Try it out below for genre. "
   ]
  },
  {
   "cell_type": "code",
   "execution_count": null,
   "metadata": {},
   "outputs": [],
   "source": [
    "## TRY OUT: group the data by genre.\n"
   ]
  },
  {
   "cell_type": "markdown",
   "metadata": {},
   "source": [
    "___________________________"
   ]
  },
  {
   "cell_type": "markdown",
   "metadata": {},
   "source": [
    "## 7. Adding a column by calculation\n",
    "\n",
    "New values can also be calculated from the dataframe. This can be done by naming the new colum, followed by the calculation. An example can be seen below."
   ]
  },
  {
   "cell_type": "code",
   "execution_count": null,
   "metadata": {},
   "outputs": [],
   "source": [
    "movies['NoWinNominations'] = movies['nrOfWins']-movies['nrOfNominations']\n",
    "movies"
   ]
  },
  {
   "cell_type": "markdown",
   "metadata": {},
   "source": [
    "________________"
   ]
  },
  {
   "cell_type": "markdown",
   "metadata": {},
   "source": [
    "## 8. Delete data for optimization \n",
    "\n",
    "When a dataframe is very big, there are often a lot of values that are unnessecary in your research. To this extent, these values can be deleted. This can be done by the function `df.drop()`. It can be done for one row, several rows, one column and several columns. \n",
    "\n",
    "In the cell below, try it out for the number of photos by creating a new DataFrame. "
   ]
  },
  {
   "cell_type": "code",
   "execution_count": null,
   "metadata": {},
   "outputs": [],
   "source": [
    "## TRY OUT: drop the column of number of photos by creating a new DataFrame.\n"
   ]
  },
  {
   "cell_type": "markdown",
   "metadata": {},
   "source": [
    "_________________"
   ]
  },
  {
   "cell_type": "markdown",
   "metadata": {},
   "source": [
    "## 9. Working with NaN values\n",
    "\n",
    "There are often values which are 'NaN'. This means that this value is missing. There are several options in this case. You can give these a values, for example 0 or 1. Or these values can be dropped.\n",
    "\n",
    "To drop these values: `df.dropna()`. When the argument `how='any'` is used, the row is dropped when any value is missing. When the argument `how='all'` is used, the row is dropped when all values are misisng. Try it out below"
   ]
  },
  {
   "cell_type": "code",
   "execution_count": null,
   "metadata": {},
   "outputs": [],
   "source": [
    "## TRY OUT: make a new DataFrame where there are no NaN values.\n"
   ]
  },
  {
   "cell_type": "markdown",
   "metadata": {},
   "source": [
    "To replace the missing values the function, the function `df.fillna()` can be used. Try this out for the title below by creating a new DataDrame."
   ]
  },
  {
   "cell_type": "code",
   "execution_count": null,
   "metadata": {},
   "outputs": [],
   "source": [
    "## TRY OUT: make a new DataFrame with NaN values changed for title.\n"
   ]
  },
  {
   "cell_type": "markdown",
   "metadata": {},
   "source": [
    "________________________"
   ]
  },
  {
   "cell_type": "markdown",
   "metadata": {},
   "source": [
    "## 10. Plotting DataFrame\n",
    "\n",
    "Plotting can give useful insight on your Dataframe. Here we will learn you the basics of plotting. \n",
    "First of all, matplotlib and Seaborn need to be imported. This has already been set for you in the cell below. Also, to make plots appear in your notebook, a line is added."
   ]
  },
  {
   "cell_type": "code",
   "execution_count": null,
   "metadata": {},
   "outputs": [],
   "source": [
    "import matplotlib.pyplot as plt\n",
    "import seaborn as sns\n",
    "%matplotlib inline"
   ]
  },
  {
   "cell_type": "markdown",
   "metadata": {},
   "source": [
    "The general function for plotting is: `df.plot(kind='...',...)`.\n",
    "Different kinds can be used, such as:\n",
    "\n",
    "* line: also the default setting.\n",
    "* area: area is filled under the line.\n",
    "* bar: vertical barchart.\n",
    "* barh: horizontal barchart.\n",
    "* hist: histogram. With argument `bins=n`, the number of bins can be adjusted.\n",
    "* box: boxplot. With argument `by=...`, it will be grouped by given columns.\n",
    "* density: densityplot.\n",
    "* scatter: scatterplot. \n",
    " "
   ]
  },
  {
   "cell_type": "markdown",
   "metadata": {},
   "source": [
    "Next, make some plots for yourself."
   ]
  },
  {
   "cell_type": "code",
   "execution_count": null,
   "metadata": {},
   "outputs": [],
   "source": [
    "## TRY OUT: make several plots of the movies DataFrame.\n"
   ]
  }
 ],
 "metadata": {
  "kernelspec": {
   "display_name": "Python 3",
   "language": "python",
   "name": "python3"
  },
  "language_info": {
   "codemirror_mode": {
    "name": "ipython",
    "version": 3
   },
   "file_extension": ".py",
   "mimetype": "text/x-python",
   "name": "python",
   "nbconvert_exporter": "python",
   "pygments_lexer": "ipython3",
   "version": "3.7.6"
  }
 },
 "nbformat": 4,
 "nbformat_minor": 4
}

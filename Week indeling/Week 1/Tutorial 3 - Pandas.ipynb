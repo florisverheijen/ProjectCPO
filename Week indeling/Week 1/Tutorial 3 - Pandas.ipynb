{
 "cells": [
  {
   "cell_type": "markdown",
   "metadata": {},
   "source": [
    "# Tutorial 3 - Pandas\n",
    "\n",
    "In this tutorial you will learn the basics about using Pandas in Python.\n",
    "Pandas is a library in Python, which can be used to manipulate and analyse data easier. You can read more about pandas on their [website](https://pandas.pydata.org/).\n",
    "\n",
    "For additional content, you can visit the following sites:\n",
    "\n",
    "- [Python: Pandas Tutorial | Intro to DataFrames - YouTube](https://www.youtube.com/watch?v=e60ItwlZTKM). \n",
    "- [Datacamp - Pandas Tutorial](https://www.datacamp.com/community/tutorials/pandas-tutorial-dataframe-python).\n",
    "- [Leanr Python - Pandas Basics](https://www.learnpython.org/en/Pandas_Basics)."
   ]
  },
  {
   "cell_type": "markdown",
   "metadata": {},
   "source": [
    "## Contents\n",
    "\n",
    "1. Import library\n",
    "2. DataFrame\n",
    "3. Series\n",
    "4. Import datafile\n",
    "    * CSV\n",
    "    * Matlab\n",
    "5. Statistics\n",
    "6. Sorting and grouping a Dataframe\n",
    "7. Adding a column by calculation\n",
    "8. Delete data for optimisation\n",
    "9. Working with missing values"
   ]
  },
  {
   "cell_type": "markdown",
   "metadata": {},
   "source": [
    "______________________"
   ]
  },
  {
   "cell_type": "markdown",
   "metadata": {},
   "source": [
    "<div class=\"alert alert-info\" role=\"alert\" style=\"height:10px;padding:0px;margin-bottom:-20px\"></div>\n",
    "\n",
    "## 1. Import library\n",
    "\n",
    "<div class=\"alert alert-info\" role=\"alert\" style=\"height:10px;padding:0px;margin-top:5px;\"></div>\n",
    "\n",
    "To work with pandas, the first thing that needs to be done is importing the library. It can be done in the cell below."
   ]
  },
  {
   "cell_type": "code",
   "execution_count": null,
   "metadata": {},
   "outputs": [],
   "source": [
    "import pandas as pd"
   ]
  },
  {
   "cell_type": "markdown",
   "metadata": {},
   "source": [
    "More about libraries in Python can be found in the Tutorial 1 - Python and [here](https://docs.python.org/3/library/)."
   ]
  },
  {
   "cell_type": "markdown",
   "metadata": {},
   "source": [
    "____________________"
   ]
  },
  {
   "cell_type": "markdown",
   "metadata": {},
   "source": [
    "<div class=\"alert alert-info\" role=\"alert\" style=\"height:10px;padding:0px;margin-bottom:-20px\"></div>\n",
    "\n",
    "## 2. DataFrame\n",
    "\n",
    "<div class=\"alert alert-info\" role=\"alert\" style=\"height:10px;padding:0px;margin-top:5px;\"></div>\n",
    "\n",
    "A DataFrame is actually a normal table. In the cell below you can see a small one. \n"
   ]
  },
  {
   "cell_type": "code",
   "execution_count": null,
   "metadata": {},
   "outputs": [],
   "source": [
    "pd.DataFrame({'Yes':[50,21], 'No':[131,20]})"
   ]
  },
  {
   "cell_type": "markdown",
   "metadata": {},
   "source": [
    "It can be seen that the labels of the rows are 0 and 1. These are their indexes and can be changed. In the cell below it is changed."
   ]
  },
  {
   "cell_type": "code",
   "execution_count": null,
   "metadata": {},
   "outputs": [],
   "source": [
    "pd.DataFrame({'Yes':[50,21], 'No':[131,20]},index = ['Product A','Product B'])"
   ]
  },
  {
   "cell_type": "markdown",
   "metadata": {},
   "source": [
    "There are a few functions which can be used ot see more information about your DataFrame.\n",
    "\n",
    "- df.shape: returns a tuple which represents dimensionality. \n",
    "- df.index: returns index (row labels).\n",
    "- df.columns: returns column labels.\n",
    "- df.dtypes: returns types in the DataFrame.\n",
    "- df.size: returns the number of elements.\n",
    "\n",
    "More can be found [here](https://pandas.pydata.org/pandas-docs/stable/reference/api/pandas.DataFrame.html).\n",
    "\n",
    "However, this is more useful for larger DataFrames."
   ]
  },
  {
   "cell_type": "markdown",
   "metadata": {},
   "source": [
    "_______________________"
   ]
  },
  {
   "cell_type": "markdown",
   "metadata": {},
   "source": [
    "<div class=\"alert alert-info\" role=\"alert\" style=\"height:10px;padding:0px;margin-bottom:-20px\"></div>\n",
    "\n",
    "## 3. Series\n",
    "\n",
    "<div class=\"alert alert-info\" role=\"alert\" style=\"height:10px;padding:0px;margin-top:5px;\"></div>\n",
    "\n",
    "A Series is a sequence of data values, a list. In the cell below a Series is created."
   ]
  },
  {
   "cell_type": "code",
   "execution_count": null,
   "metadata": {},
   "outputs": [],
   "source": [
    "pd.Series([5,6,7,8])"
   ]
  },
  {
   "cell_type": "markdown",
   "metadata": {},
   "source": [
    "More about Series can be found [here](https://pandas.pydata.org/pandas-docs/stable/reference/series.html)."
   ]
  },
  {
   "cell_type": "markdown",
   "metadata": {},
   "source": [
    "___________________"
   ]
  },
  {
   "cell_type": "markdown",
   "metadata": {},
   "source": [
    "<div class=\"alert alert-info\" role=\"alert\" style=\"height:10px;padding:0px;margin-bottom:-20px\"></div>\n",
    "\n",
    "## 4. Import data files\n",
    "\n",
    "<div class=\"alert alert-info\" role=\"alert\" style=\"height:10px;padding:0px;margin-top:5px;\"></div>\n",
    "\n",
    "The power of Pandas comes from the reading large data that is available in the form of a csv file for example. This can be done by using the `read_csv()` function from Pandas. More about importing can be found [here](https://pandas.pydata.org/pandas-docs/stable/reference/series.html).\n",
    "\n",
    "In the cell below, the dataset Movies has been imported."
   ]
  },
  {
   "cell_type": "code",
   "execution_count": null,
   "metadata": {},
   "outputs": [],
   "source": [
    "movies =pd.read_csv(\"Movies.csv\")\n",
    "movies#.head() # this shows the first 5 rows of the DataFrame"
   ]
  },
  {
   "cell_type": "markdown",
   "metadata": {},
   "source": [
    "There are a few functions which can be used ot see more information about your DataFrame.\n",
    "\n",
    "- df.shape: returns a tuple which represents dimensionality. \n",
    "- df.index: returns index (row labels).\n",
    "- df.columns: returns column labels.\n",
    "- df.dtypes: returns types in the DataFrame.\n",
    "- df.size: returns the number of elements.\n",
    "\n",
    "More can be found [here](https://pandas.pydata.org/pandas-docs/stable/reference/api/pandas.DataFrame.html).\n",
    "\n",
    "### 1.1 Exercise\n",
    "\n",
    "Down below, find out more about the DataFrame."
   ]
  },
  {
   "cell_type": "code",
   "execution_count": null,
   "metadata": {},
   "outputs": [],
   "source": [
    "# Exercise 1.1: Find out more about the DataFrame.\n"
   ]
  },
  {
   "cell_type": "markdown",
   "metadata": {},
   "source": [
    "Example: the movie with the highest ratingCount can be found by using: "
   ]
  },
  {
   "cell_type": "code",
   "execution_count": null,
   "metadata": {},
   "outputs": [],
   "source": [
    "mostrating = movies['ratingCount'].idxmax()\n",
    "mostrating\n",
    "movies['title'].iloc[mostrating]"
   ]
  },
  {
   "cell_type": "markdown",
   "metadata": {},
   "source": [
    "A lot of courses in BME use Matlab. To import a matlab file, loadmat from scipy.io is needed. Below an example can be seen."
   ]
  },
  {
   "cell_type": "code",
   "execution_count": null,
   "metadata": {},
   "outputs": [],
   "source": [
    "# Import the right library\n",
    "from scipy.io import loadmat\n",
    "\n",
    "# Use loadmat to import\n",
    "mat = loadmat('TestPandas.mat')\n",
    "\n",
    "# Show the file\n",
    "mat"
   ]
  },
  {
   "cell_type": "markdown",
   "metadata": {},
   "source": [
    "As you can see the there are a lot of other things in the file, next to the numbers. This can be cleaned of course. More about cleaning the data from a Matlab file ipmcan be found [here](http://www.blogforbrains.com/blog/2014/9/6/loading-matlab-mat-data-in-python)."
   ]
  },
  {
   "cell_type": "markdown",
   "metadata": {},
   "source": [
    "_________________________"
   ]
  },
  {
   "cell_type": "markdown",
   "metadata": {},
   "source": [
    "<div class=\"alert alert-info\" role=\"alert\" style=\"height:10px;padding:0px;margin-bottom:-20px\"></div>\n",
    "\n",
    "## 5. Statistics\n",
    "\n",
    "<div class=\"alert alert-info\" role=\"alert\" style=\"height:10px;padding:0px;margin-top:5px;\"></div>\n",
    "\n",
    "Statistics are also very important when working with datasets. In this section various functions will be discussed and used to find out some more about the dataset. \n",
    "\n",
    "<div class=\"alert alert-info\" role=\"alert\" style=\"height:10px;padding:0px;margin-bottom:-20px\"></div>\n",
    "\n",
    "### 5.1 Exercise\n",
    "\n",
    "On your cheat sheet you can find several functions in the section statistics. For example:\n",
    "`df.count()`: returns the number of values.\n",
    "\n",
    "In the next cell, try it out for the number of nominations."
   ]
  },
  {
   "cell_type": "code",
   "execution_count": null,
   "metadata": {},
   "outputs": [],
   "source": [
    "# Exercise 5.1: Count the total number of nominations.\n"
   ]
  },
  {
   "cell_type": "markdown",
   "metadata": {},
   "source": [
    "Also the function `df.describe()` can be very useful to get the summary statistics of your data. The argument `include='all'` includes the NaN values. \n",
    "\n",
    "### 5.2 Exercise\n",
    "\n",
    "In the cell below, get the summary statistics of all of the data."
   ]
  },
  {
   "cell_type": "code",
   "execution_count": null,
   "metadata": {},
   "outputs": [],
   "source": [
    "# Exercise 5.2: Get the summary statistics of all of the data.\n"
   ]
  },
  {
   "cell_type": "markdown",
   "metadata": {},
   "source": [
    "____________________________"
   ]
  },
  {
   "cell_type": "markdown",
   "metadata": {},
   "source": [
    "<div class=\"alert alert-info\" role=\"alert\" style=\"height:10px;padding:0px;margin-bottom:-20px\"></div>\n",
    "\n",
    "## 6. Sorting and grouping a DataFrame\n",
    "\n",
    "<div class=\"alert alert-info\" role=\"alert\" style=\"height:10px;padding:0px;margin-top:5px;\"></div>\n",
    "\n",
    "\n",
    "When using data, it can be very useful to sort the data according to a certain value. Sorting the DataFrame can be done by: `df.sort_values(by = column)`. Additionally, the argument `ascending=False` can be added, to sort the values in descending order. The index of the dataframe can also be reset, by using the argument `.reset_index()`. More about sorting [here](https://docs.python.org/3/howto/sorting.html).\n",
    "\n",
    "\n",
    "\n",
    "### 6.1 Exercise\n",
    "\n",
    "In the next cell, try it out for the number of news articles."
   ]
  },
  {
   "cell_type": "code",
   "execution_count": null,
   "metadata": {},
   "outputs": [],
   "source": [
    "# Exercise 6.1: Sort the data on number of news articles.\n"
   ]
  },
  {
   "cell_type": "markdown",
   "metadata": {},
   "source": [
    "The rows in a DataFrame can also be grouped. This can be done by using `df.groupby()`. More about grouping [here](https://pandas.pydata.org/pandas-docs/stable/reference/api/pandas.DataFrame.groupby.html).\n",
    "\n",
    "### 6.2 Exercise\n",
    "\n",
    "Try it out below for year."
   ]
  },
  {
   "cell_type": "code",
   "execution_count": null,
   "metadata": {},
   "outputs": [],
   "source": [
    "# Exercise 6.2: Group the data by year.\n"
   ]
  },
  {
   "cell_type": "markdown",
   "metadata": {},
   "source": [
    "___________________________"
   ]
  },
  {
   "cell_type": "markdown",
   "metadata": {},
   "source": [
    "<div class=\"alert alert-info\" role=\"alert\" style=\"height:10px;padding:0px;margin-bottom:-20px\"></div>\n",
    "\n",
    "## 7. Adding a column by calculation\n",
    "\n",
    "<div class=\"alert alert-info\" role=\"alert\" style=\"height:10px;padding:0px;margin-top:5px;\"></div>\n",
    "\n",
    "\n",
    "New values can also be calculated from the dataframe. This can be done by naming the new colum, followed by the calculation. An example can be seen below."
   ]
  },
  {
   "cell_type": "code",
   "execution_count": null,
   "metadata": {},
   "outputs": [],
   "source": [
    "movies['NoWinNominations'] = movies['nrOfWins']-movies['nrOfNominations']\n",
    "movies"
   ]
  },
  {
   "cell_type": "markdown",
   "metadata": {},
   "source": [
    "________________"
   ]
  },
  {
   "cell_type": "markdown",
   "metadata": {},
   "source": [
    "<div class=\"alert alert-info\" role=\"alert\" style=\"height:10px;padding:0px;margin-bottom:-20px\"></div>\n",
    "\n",
    "## 8. Delete data for optimization \n",
    "\n",
    "<div class=\"alert alert-info\" role=\"alert\" style=\"height:10px;padding:0px;margin-top:5px;\"></div>\n",
    "\n",
    "When a dataframe is very big, there are often a lot of values that are unnessecary in your research. To this extent, these values can be deleted. This can be done by the function `df.drop()`. It can be done for one row, several rows, one column and several columns. The argument `axis=1` needs to be added to drop a column. More about dropping values [here](https://pandas.pydata.org/pandas-docs/stable/reference/api/pandas.DataFrame.drop.html).\n",
    "\n",
    "**Warning**: when you drop a row or column, the DataFrame has been changed. This cannot be reversed. It is important that you make a new version of the DataFrame so the dropped data can always be retrieved. \n",
    "\n",
    "### 8.1 Exercise\n",
    "\n",
    "In the cell below, try it out for the number of photos by creating a new DataFrame."
   ]
  },
  {
   "cell_type": "code",
   "execution_count": null,
   "metadata": {},
   "outputs": [],
   "source": [
    "#Exercise 8.1: Drop the column of number of photos by creating a new DataFrame.\n"
   ]
  },
  {
   "cell_type": "markdown",
   "metadata": {},
   "source": [
    "_________________"
   ]
  },
  {
   "cell_type": "markdown",
   "metadata": {},
   "source": [
    "<div class=\"alert alert-info\" role=\"alert\" style=\"height:10px;padding:0px;margin-bottom:-20px\"></div>\n",
    "\n",
    "## 9. Working with NaN values\n",
    "\n",
    "<div class=\"alert alert-info\" role=\"alert\" style=\"height:10px;padding:0px;margin-top:5px;\"></div>\n",
    "\n",
    "There are often values which are 'NaN'. This means that this value is missing. There are several options in this case. You can give these a values, for example 0 or 1. Or these values can be dropped.\n",
    "\n",
    "To check out whether there are missing values, the function `df.isnull()` can be used. To see whether there are any missing values, add `.any()`. To count how many missing values, add `.sum()` instead of `.any()`.\n",
    "\n",
    "### Exercise 9.1 \n",
    "\n",
    "Below, find out whether there are any missing values, and nextly how many."
   ]
  },
  {
   "cell_type": "code",
   "execution_count": null,
   "metadata": {},
   "outputs": [],
   "source": [
    "# Exercise 9.1: Find out how many missing values there are, if there are any.\n"
   ]
  },
  {
   "cell_type": "markdown",
   "metadata": {},
   "source": [
    "To drop these values: `df.dropna()`. When the argument `how='any'` is used, the row is dropped when any value is missing. When the argument `how='all'` is used, the row is dropped when all values are misisng. \n",
    "\n",
    "###  Exercise 9.2\n",
    "\n",
    "Try it out below."
   ]
  },
  {
   "cell_type": "code",
   "execution_count": null,
   "metadata": {},
   "outputs": [],
   "source": [
    "# Exercise 9.2: Make a new DataFrame where there are no NaN values.\n"
   ]
  },
  {
   "cell_type": "markdown",
   "metadata": {},
   "source": [
    "To replace the missing values the function, the function `df.fillna()` can be used. \n",
    "\n",
    "### Exercise 9.3\n",
    "\n",
    "Try this out for the title below by creating a new DataDrame. "
   ]
  },
  {
   "cell_type": "code",
   "execution_count": null,
   "metadata": {},
   "outputs": [],
   "source": [
    "# Exercise 9.3: Make a new DataFrame with NaN values changed for title.\n"
   ]
  },
  {
   "cell_type": "markdown",
   "metadata": {},
   "source": [
    "________________________"
   ]
  }
 ],
 "metadata": {
  "kernelspec": {
   "display_name": "Python 3",
   "language": "python",
   "name": "python3"
  },
  "language_info": {
   "codemirror_mode": {
    "name": "ipython",
    "version": 3
   },
   "file_extension": ".py",
   "mimetype": "text/x-python",
   "name": "python",
   "nbconvert_exporter": "python",
   "pygments_lexer": "ipython3",
   "version": "3.7.6"
  }
 },
 "nbformat": 4,
 "nbformat_minor": 4
}

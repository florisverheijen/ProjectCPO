{
 "cells": [
  {
   "cell_type": "markdown",
   "metadata": {},
   "source": [
    "# Clustering\n",
    "\n",
    "in this tutorial clustering will be explained\n"
   ]
  },
  {
   "cell_type": "markdown",
   "metadata": {},
   "source": [
    "## content of the tutorial:\n",
    "\n",
    "1. Introduction Kmeans\n",
    "    * What is Kmeans clustering?\n",
    "    * When can you apply it?\n",
    "2. Step by step Kmeans\n",
    "    * Import the data\n",
    "    * Standardization\n",
    "    * placing cluster points/centroids \n",
    "    * Assigning points to clusters\n",
    "    * update centroid location\n",
    "    * Assign points\n",
    "    * repeat \n",
    "    * plot the endresult\n",
    "    * determine which number of K is best"
   ]
  },
  {
   "cell_type": "markdown",
   "metadata": {},
   "source": [
    "## introduction\n",
    "\n",
    "### what is Kmeans clustering\n",
    "Kmeans is a very much used algorithm because its very easy to implement and is very efficient computationally speaking. Those are the reasons that this algorithm is used so often. However there are also some problems and shortcomings like the algorithm struggles with detecting non spherical clusters. Since it uses the distance to determine how similar points are to eachother and if they belong to the same cluster or not.\n",
    "\n",
    "\n",
    "### when can you apply Kmeans\n",
    "Kmeans clustering can be applied with a lot of different types of datasets,for example to see what interests customers have. Kmeans is also applied as a benchmark when testing other clustering methods to see if more advanced algorithms actually are an improvement.\n"
   ]
  },
  {
   "cell_type": "markdown",
   "metadata": {},
   "source": [
    "## step by step Kmeans \n",
    "\n",
    "\n",
    "Here will follow a step by step tutorial where you can make a simple Kmeans program for a small dataset. Here we skip the normalization part of the Kmeans algorithm since you learned this in the pandas tutorial.\n",
    "\n",
    "### step 1\n",
    "First of all we start by importing the libraries we will need, Pandas for the dataset, numpy for some mathamatical functions and matplotlib.pyplot for plotting the results we get.\n",
    " \n",
    "**Excercise 1**\n",
    "Import the libraries. `hint` use the short combinations you learned before to make it easier for youself."
   ]
  },
  {
   "cell_type": "code",
   "execution_count": 2,
   "metadata": {},
   "outputs": [],
   "source": [
    "import pandas as pd\n",
    "import numpy as np\n",
    "import matplotlib.pyplot as plt\n"
   ]
  },
  {
   "cell_type": "markdown",
   "metadata": {},
   "source": [
    "### Step 2\n",
    "You will practice your skills on the following small dataset. It's small so you can see all the steps in the process. \n",
    "Run the next cell to get your data. Note that the data is called `df`"
   ]
  },
  {
   "cell_type": "code",
   "execution_count": 3,
   "metadata": {},
   "outputs": [],
   "source": [
    "df = pd.DataFrame({\n",
    "    'x': [12, 20, 28, 18, 29, 33, 24, 45, 45, 52, 51, 52, 55, 53, 55, 61, 64, 69, 72, 72, 70, 79, 68, 65],\n",
    "    'y': [39, 36, 30, 52, 54, 46, 55, 59, 63, 70, 66, 63, 58, 23, 14, 8, 19, 7, 24, 42, 45, 62, 55, 59]\n",
    "})"
   ]
  },
  {
   "cell_type": "markdown",
   "metadata": {},
   "source": [
    "### Step 3 \n",
    "\n",
    "now you pick the number of clusters you want. In this tutorial we start with 3 clusters, so `k = 3` that you have to place at random. To make sure it's random but you do not get different results every time you run the code we use a function of numpy called `np.random.seed()` this makes sure that you generate a random number but that this number does not change when running the code multiple times. \n",
    "\n",
    "**Excercise 2**\n",
    "Complete the code in the next cell:\n",
    "you should add the code to get a random position in the data set.\n",
    "the range of the data is `[0 80]`\n",
    "`hint` you need to ad 2 coordinates \n"
   ]
  },
  {
   "cell_type": "code",
   "execution_count": null,
   "metadata": {
    "collapsed": true
   },
   "outputs": [],
   "source": [
    "np.random.seed(200) # makes sure that a random number stays the same each time you run\n",
    "\n",
    "k = 3\n",
    "centroids = {\n",
    "    i+1 : [ #your code to make 3 random centroids]\n",
    "    for i in #in what?\n",
    "    \n",
    "}\n"
   ]
  },
  {
   "cell_type": "markdown",
   "metadata": {},
   "source": [
    "Now that you have done this you can plot the data and the centroids together in a figure. To do this you should complete the following lines of code that are given in the excersise. It is smart to plot the data and centroids in a different color so that you can clearly see the difference.\n",
    "\n",
    "**Excercise 3**\n",
    "Complete the following code:<br>\n",
    "`hint` look in the documentation on how some thing work if you can't remember\n",
    "`hint` a colormap is a library with values 1 to x and a string where you put the color letter or code"
   ]
  },
  {
   "cell_type": "code",
   "execution_count": 8,
   "metadata": {
    "collapsed": true
   },
   "outputs": [
    {
     "ename": "SyntaxError",
     "evalue": "invalid syntax (<ipython-input-8-a61e5379fa30>, line 4)",
     "output_type": "error",
     "traceback": [
      "\u001b[1;36m  File \u001b[1;32m\"<ipython-input-8-a61e5379fa30>\"\u001b[1;36m, line \u001b[1;32m4\u001b[0m\n\u001b[1;33m    for i in centroids.keys():\u001b[0m\n\u001b[1;37m      ^\u001b[0m\n\u001b[1;31mSyntaxError\u001b[0m\u001b[1;31m:\u001b[0m invalid syntax\n"
     ]
    }
   ],
   "source": [
    "fig = plt.figure(figsize=(5, 5)) # this is so the figure has a normal size\n",
    "plt.scatter(#code...)\n",
    "colmap = {#code...}#\n",
    "for i in centroids.keys():\n",
    "    plt.scatter(*centroids[i], color = #code )\n",
    "                \n",
    "#code to make it visible\n"
   ]
  },
  {
   "attachments": {
    "image.png": {
     "image/png": "[encoded data removed]"
    }
   },
   "cell_type": "markdown",
   "metadata": {},
   "source": [
    "If you were succesfull you can plot your results and it should look like this:\n",
    "![image.png](attachment:image.png)  "
   ]
  },
  {
   "cell_type": "markdown",
   "metadata": {},
   "source": [
    "### step 4 \n",
    "Now it is time to assign the datapoints to a cluster. You do this by calculating the distance from each point to the centroids and adding that information to the DataFrame df. \n",
    "\n",
    "**excersice 4** <br>\n",
    "build a function called assignment, where you calculate the distance and after that is done you add 2 other columns one for the closest cluster and the other for the color that point should have. The color is purely to visualize the results. \n",
    "\n",
    "After you build this function check if it worked by printing the head of the DataFrame\n"
   ]
  },
  {
   "cell_type": "code",
   "execution_count": null,
   "metadata": {
    "collapsed": true
   },
   "outputs": [],
   "source": [
    "def assignment(df,centroids):\n",
    "    for i in centroids.keys():\n",
    "        # calculate the distance\n",
    "        df[str(i)] = # calculate the distance\n",
    "        )\n",
    "    centroid_distance_cols = ['distance_from_{}'.format(i) for i in centroids.keys()]\n",
    "    df['closest'] = #your code\n",
    "    \n",
    "    df['color'] = \n",
    "    return df\n",
    "\n",
    "df = assignment(df,centroids)\n"
   ]
  },
  {
   "cell_type": "markdown",
   "metadata": {},
   "source": [
    "**Excercise 5**\n",
    "\n",
    "Plot the newly assigned points and the clusters together in a plot.<br>\n",
    "`hint` make the datapoints distictive, for tips look at alpha on this [site](https://matplotlib.org/api/_as_gen/matplotlib.pyplot.plot.html#matplotlib.pyplot.plot)\n"
   ]
  },
  {
   "cell_type": "code",
   "execution_count": null,
   "metadata": {},
   "outputs": [],
   "source": []
  },
  {
   "attachments": {
    "image.png": {
     "image/png": "[encoded data removed]"
    }
   },
   "cell_type": "markdown",
   "metadata": {},
   "source": [
    "It should look somewhat like:<br> ![image.png](attachment:image.png)"
   ]
  },
  {
   "cell_type": "markdown",
   "metadata": {},
   "source": [
    "### Step 5\n",
    "\n",
    "as you can see the clusters and centroids are not very good at this point everything is assigned but you can imagine that the red point in the bottom right corner should be green.\n",
    "Now it is time to update the centroids that were chosen and placed at random. \n",
    "to do this build a funcion called update where you relocate the centroid to the middle of the cluster they belong to.\n",
    "\n",
    "**Excercise 6**\n",
    "<br>\n",
    "Make the function update where you place the centroids in the centre of the cluster. First think about what the centre of the cluster is and how you can calculate this position.\n",
    "\n",
    "Once you build your function call it and check your result by plotting the data as you have done in excercise 5."
   ]
  },
  {
   "cell_type": "code",
   "execution_count": null,
   "metadata": {
    "collapsed": true
   },
   "outputs": [],
   "source": [
    "def update(data):\n",
    "    #your code\n",
    "    \n",
    "    \n",
    "    return data\n",
    "#code to actually update\n"
   ]
  },
  {
   "attachments": {
    "image.png": {
     "image/png": "[encoded data removed]"
    }
   },
   "cell_type": "markdown",
   "metadata": {},
   "source": [
    "Now your updated centroids you should look like this image: ![image.png](attachment:image.png)\n",
    "\n",
    "\n",
    "### step 6\n",
    "This method is very time consuming so the next excersize is to build a program in spyder or in the cell below that does this all without you having to update en assign the points every time. You should use the code from the steps you already passed to build this program. the result should be precisely the same."
   ]
  },
  {
   "cell_type": "code",
   "execution_count": null,
   "metadata": {
    "collapsed": true
   },
   "outputs": [],
   "source": [
    "#build your program here or in spyder"
   ]
  },
  {
   "cell_type": "markdown",
   "metadata": {},
   "source": [
    "### Step 7 \n",
    "\n",
    "Now you used 3 clusters but as you can see it would probably be better if there were more clusters. \n",
    "But how do you determine the best number of clusters if you don't know the answer beforehand?\n",
    "This is always a problem in clustering and the sollution we are going to introduce is the mean silhouette score.\n",
    "Each point has it's own silhouette score, this is a score that determines how well the point is assigned to the cluster it belongs to compared to the closest other cluster. This is done by calculating the following formulas\n",
    "$$ \n",
    "a(i)={\\frac {1}{|C_{i}|-1}}\\sum _{j\\in C_{i},i\\neq j}d(i,j)$$\n",
    "\n",
    "$$\n",
    "b(i)=\\min _{k\\neq i}{\\frac {1}{|C_{k}|}}\\sum _{j\\in C_{k}}d(i,j)$$\n",
    "\n",
    "$$\n",
    "s(i)={\\frac {b(i)-a(i)}{\\max\\{a(i),b(i)\\}}}$$\n",
    "\n",
    "so in words if point X belongs to cluster 1 and cluster 2 is the closest cluster the silhouette score is calculated by determining the mean distance between all points in cluster 1 and point X. we call this a. and also the mean distance of the point to all points in cluster 2, we call this b. To calculate the silhouette score for point A you subtract y from x and devide by the maximum value of either x or y.\n",
    "\n",
    "the score is determined for all points and then the mean score is calculated and stored.\n",
    "you do this for multiple numbers of k starting from 2. When you have this the number of clusters with the highest score is the number of clusters you should use.\n",
    "\n",
    "An important thing to remember for this example is that the DataFrame is small. so here it is highly influenced by the initial location of the cluster points. for larger datasets this problem is less prominent\n",
    "\n",
    "Now implement this in you program so that you can pick the most optimal K. you may use the implemented silhouette score from sklearn.\n"
   ]
  },
  {
   "cell_type": "code",
   "execution_count": null,
   "metadata": {
    "collapsed": true
   },
   "outputs": [],
   "source": [
    "from sklearn.metrics import  silhouette_score\n",
    "\n",
    "clusterrange = #your code\n",
    "\n",
    "#loop over all k and calculate the sillhouette score using silhouette_score(coordinates of the points, list of the cluster the points belong to)\n",
    "\n",
    "\n",
    "#next plot the scores and see if you get the same as shown below"
   ]
  },
  {
   "attachments": {
    "image.png": {
     "image/png": "[encoded data removed]"
    }
   },
   "cell_type": "markdown",
   "metadata": {},
   "source": [
    "![image.png](attachment:image.png)"
   ]
  }
 ],
 "metadata": {
  "kernelspec": {
   "display_name": "Python 3",
   "language": "python",
   "name": "python3"
  },
  "language_info": {
   "codemirror_mode": {
    "name": "ipython",
    "version": 3
   },
   "file_extension": ".py",
   "mimetype": "text/x-python",
   "name": "python",
   "nbconvert_exporter": "python",
   "pygments_lexer": "ipython3",
   "version": "3.7.1"
  }
 },
 "nbformat": 4,
 "nbformat_minor": 2
}

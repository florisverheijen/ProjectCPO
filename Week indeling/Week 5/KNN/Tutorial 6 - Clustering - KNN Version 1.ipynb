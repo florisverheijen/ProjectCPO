{
 "cells": [
  {
   "cell_type": "markdown",
   "metadata": {},
   "source": [
    "# Tutorial Clustering - k-nearest neighbor\n",
    "\n",
    "In this tutorial you will learn the basics about clustering with k-nearest neighbor method.\n",
    "\n",
    "## Contents of the tutorial\n",
    "\n",
    "1. Explanation of k-nearest neighbor method\n",
    "2. Step-by-step programming k-nearest neighbor method\n",
    "    - Libraries <br>\n",
    "Step 1. Importing dataset <br>\n",
    "Step 2. Function Euclidean distance<br>\n",
    "Step 3. Function KNN<br>\n",
    "Step 3a. Euclidean distance<br>\n",
    "Step 3b. Sorting<br>\n",
    "Step 3c. Take the top k neighbors<br>\n",
    "Step 3d. Most frequent class<br>\n",
    "Step 4. Define test set<br>\n",
    "Step 5. Define k<br>\n",
    "Step 6. Let KNN model run<br>"
   ]
  },
  {
   "cell_type": "markdown",
   "metadata": {},
   "source": [
    "_________________________"
   ]
  },
  {
   "cell_type": "markdown",
   "metadata": {},
   "source": [
    "### 1. Explanation of k-nearest neighbor method\n",
    "\n",
    "K-nearest neighbor (KNN) is mostly used for regression and classification. It is a supervised algorithm. It is good in three things:\n",
    "- It has an easy interpretable output. \n",
    "- It has a short calculation time. \n",
    "- It is good at predictions. \n",
    "\n",
    "First, we’ll show an easy example. (Example and explanation from: https://www.analyticsvidhya.com/blog/2018/03/introduction-k-neighbours-algorithm-clustering/) \n",
    "\n",
    "We have 3 red circles, 3 green squares and a blue star. We want to know the classification of the blue star. This will be red circles or green squares. Take k as the number of neighbors. In this case we’ll take k = 3. Now we draw a circle around the blue star, in such a way that there are exactly 3 datapoints in the circle. We can see that there are only red circles in the circle, and thus the blue star belongs to the red circles.  \n",
    "\n",
    "<img src=\"Ex_cl_KNN1.PNG\" width=500/>\n",
    "<img src=\"Ex_cl_KNN2.PNG\" width=500/>\n",
    "\n",
    "An important thing is of course, the value of k. Small values will cause the noise to have a higher influence on the result, but a high value will make it hard to compute. The simplest way to choose it is $k = \\sqrt{n}$, with n the number of datapoints in the dataset.  \n",
    "\n",
    "Down below another method is explained. It takes the shortest Euclidean distance to see which neighobrs are the closest. Nextly, it determines the most occuring class. Then it checks whether this class is right. When this is tried out for several classes, you can determine which is best.\n",
    "\n",
    "In this tutorial we use Euclidean distance, but several kinds of distances can be used.\n",
    "\n",
    "#### Euclidean distance\n",
    "\n",
    "Take the square root of the sum of the squares of the difference of the coordinates.\n",
    "For example: $x=(a,b)$ and $y=(c,d)$ then the Euclidean distance is $\\sqrt{{(a-c)}^2+{(b-d)}^2}$\n",
    "\n",
    "#### Manhattan distance\n",
    "\n",
    "Take the sum of the absolute values of the differences of the coordinates.\n",
    "For example: $x=(a,b)$ and $y=(c,d)$ then the Manhattan distance is $|a-c| + |b-d|$\n",
    "\n",
    "#### Minkowski distance\n",
    "\n",
    "This is actually the most general form.\n",
    "The formula is $D = \\sqrt[p]{\\sum_{k=1}^{n} {|x-y|}^p}$.\n",
    "When p = 1, you use Manhattan distance, when p = 2, you use Euclidean distance."
   ]
  },
  {
   "cell_type": "markdown",
   "metadata": {},
   "source": [
    "______________________"
   ]
  },
  {
   "cell_type": "markdown",
   "metadata": {},
   "source": [
    "### 2. Step-by-step programming k-nearest neighbor clustering\n",
    "\n",
    "#### Libraries\n",
    "\n",
    "For k-nearest neighbor clustering the following libraries are needed:\n",
    "\n",
    "- Numpy\n",
    "- Pandas\n",
    "- Math\n",
    "- Operator\n",
    "\n",
    "Import them in the cell below."
   ]
  },
  {
   "cell_type": "code",
   "execution_count": null,
   "metadata": {},
   "outputs": [],
   "source": [
    "## Import the libraries here\n",
    "import numpy as np\n",
    "import pandas as pd\n",
    "import math\n",
    "import operator\n"
   ]
  },
  {
   "cell_type": "markdown",
   "metadata": {},
   "source": [
    "#### Step 1. Importing dataset\n",
    "\n",
    "ik moet nog een dataset maken die in de map staat\n",
    "A dataset is needed which contains numbers and at least two different classes assigned to these point. We will divide this set into two parts: one (test set) which you are going to use to determine the class of the other one (training set).\n",
    "Import the dataset ... in the cell below using pandas."
   ]
  },
  {
   "cell_type": "code",
   "execution_count": null,
   "metadata": {},
   "outputs": [],
   "source": [
    "## Import the dataset here\n",
    "\n",
    "data = pd.DataFrame ({\n",
    "    'x': [12, 20, 28, 18, 29, 33, 24, 45, 45, 52, 51, 52, 55, 53, 55, 61, 64, 69, 72, 72, 70, 79, 68, 65],\n",
    "    'y': [39, 36, 30, 52, 54, 46, 55, 59, 63, 70, 66, 63, 58, 23, 14, 8, 19, 7, 24, 42, 45, 62, 55, 59],\n",
    "    'class': ['A', 'A', 'B', 'B', 'A', 'B', 'C', 'C', 'A', 'A', 'B', 'B', 'A', 'B', 'C', 'C','A', 'A', 'B', 'B', 'A', 'B', 'C', 'C',]\n",
    "})\n",
    "data"
   ]
  },
  {
   "cell_type": "markdown",
   "metadata": {},
   "source": [
    "#### Step 2. Function Euclidean distance\n",
    "\n",
    "In the cell, make a function which determines the Euclidean distance between two points. Make it as a for-loop."
   ]
  },
  {
   "cell_type": "code",
   "execution_count": null,
   "metadata": {},
   "outputs": [],
   "source": [
    "## Make function Euclidean distance\n"
   ]
  },
  {
   "cell_type": "markdown",
   "metadata": {},
   "source": [
    "#### Step 3. Function KNN\n",
    "\n",
    "The next four steps will make a function for k-nearest neighbor clustering. Down below you can make the entire function.\n",
    "\n",
    "So firstly make the function.\n",
    "\n",
    "##### Step 3a. Euclidean distance\n",
    "\n",
    "Use the function you have made for the calculation of the Euclidean distance to determine the distance the points of the training set and the points of the test set. Add this as a column to the dataframe.\n",
    "\n",
    "##### Step 3b. Sorting\n",
    "\n",
    "For each point of the training set, sort the distances in descending order.\n",
    "\n",
    "##### Step 3c. Take the top k neighbors\n",
    "\n",
    "Take the top k neighbors, so the k-nearest neighbors.\n",
    "\n",
    "##### Step 3d. Most frequent class\n",
    "\n",
    "See which class is most frequent for each point of the training set, and define this class as the class of the point."
   ]
  },
  {
   "cell_type": "code",
   "execution_count": null,
   "metadata": {},
   "outputs": [],
   "source": [
    "## Make function KNN\n"
   ]
  },
  {
   "cell_type": "markdown",
   "metadata": {},
   "source": [
    "#### Step 4. Define test set\n",
    "\n",
    "Define which points of the dataset are the test set."
   ]
  },
  {
   "cell_type": "code",
   "execution_count": null,
   "metadata": {},
   "outputs": [],
   "source": [
    "## Define the test set\n",
    "\n",
    "testSet = [18, 52, 70, 65]\n",
    "test = pd.DataFrame(testSet)\n",
    "test"
   ]
  },
  {
   "cell_type": "markdown",
   "metadata": {},
   "source": [
    "#### Step 5. Define k\n",
    "\n",
    "Define the value of k. For the first iteration, start with k = 1."
   ]
  },
  {
   "cell_type": "code",
   "execution_count": null,
   "metadata": {},
   "outputs": [],
   "source": [
    "## Define k\n",
    "\n",
    "k=1"
   ]
  },
  {
   "cell_type": "markdown",
   "metadata": {},
   "source": [
    "#### Step 6. Let KNN model run for multiple k\n",
    "\n",
    "Let the model run for various values of k, to see which value is the best."
   ]
  },
  {
   "cell_type": "code",
   "execution_count": null,
   "metadata": {},
   "outputs": [],
   "source": [
    "## Let KNN model run\n",
    "\n",
    "result,neigh = KNN(data, test, k)"
   ]
  }
 ],
 "metadata": {
  "kernelspec": {
   "display_name": "Python 3",
   "language": "python",
   "name": "python3"
  },
  "language_info": {
   "codemirror_mode": {
    "name": "ipython",
    "version": 3
   },
   "file_extension": ".py",
   "mimetype": "text/x-python",
   "name": "python",
   "nbconvert_exporter": "python",
   "pygments_lexer": "ipython3",
   "version": "3.7.6"
  }
 },
 "nbformat": 4,
 "nbformat_minor": 4
}
